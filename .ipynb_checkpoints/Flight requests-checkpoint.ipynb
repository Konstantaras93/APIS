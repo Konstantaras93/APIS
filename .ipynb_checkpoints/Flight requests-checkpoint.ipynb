{
 "cells": [
  {
   "cell_type": "markdown",
   "id": "e031af8c-b75d-4a60-9682-65cdc6ac7a4d",
   "metadata": {},
   "source": [
    "# Arrivals in Berlin for tomorrow : 25/11/2021"
   ]
  },
  {
   "cell_type": "markdown",
   "id": "be6e8562-2863-4cb4-b3dd-c1615e6d4a73",
   "metadata": {},
   "source": [
    "#### Importing Libraries"
   ]
  },
  {
   "cell_type": "code",
   "execution_count": 12,
   "id": "682335c1-e045-43e5-b80d-41c4c5c6da3b",
   "metadata": {
    "tags": []
   },
   "outputs": [],
   "source": [
    "from IPython.display import JSON\n",
    "import json\n",
    "import pandas as pd\n",
    "import requests"
   ]
  },
  {
   "cell_type": "markdown",
   "id": "b69e4486-3743-43f1-adf9-a4e9e62620da",
   "metadata": {},
   "source": [
    "## Flight schedule one :"
   ]
  },
  {
   "cell_type": "code",
   "execution_count": 4,
   "id": "b98ee262-e61a-4785-bd82-084314791c0d",
   "metadata": {
    "collapsed": true,
    "jupyter": {
     "outputs_hidden": true
    },
    "tags": []
   },
   "outputs": [
    {
     "name": "stdout",
     "output_type": "stream",
     "text": [
      "{\"arrivals\":[{\"movement\":{\"airport\":{\"icao\":\"EVRA\",\"iata\":\"RIX\",\"name\":\"Riga\"},\"scheduledTimeLocal\":\"2021-11-25 07:55+01:00\",\"scheduledTimeUtc\":\"2021-11-25 06:55Z\",\"terminal\":\"1\",\"quality\":[\"Basic\"]},\"number\":\"BT 211\",\"status\":\"Unknown\",\"codeshareStatus\":\"Unknown\",\"isCargo\":false,\"aircraft\":{\"model\":\"Airbus A220-300\"},\"airline\":{\"name\":\"Air Baltic\"}},{\"movement\":{\"airport\":{\"icao\":\"EDDK\",\"iata\":\"CGN\",\"name\":\"Cologne\"},\"scheduledTimeLocal\":\"2021-11-25 07:20+01:00\",\"scheduledTimeUtc\":\"2021-11-25 06:20Z\",\"terminal\":\"1\",\"quality\":[\"Basic\"]},\"number\":\"EW 12\",\"status\":\"Unknown\",\"codeshareStatus\":\"Unknown\",\"isCargo\":false,\"aircraft\":{\"model\":\"Boeing 737-800\"},\"airline\":{\"name\":\"Eurowings\"}},{\"movement\":{\"airport\":{\"icao\":\"EDDS\",\"iata\":\"STR\",\"name\":\"Stuttgart\"},\"scheduledTimeLocal\":\"2021-11-25 07:30+01:00\",\"scheduledTimeUtc\":\"2021-11-25 06:30Z\",\"terminal\":\"1\",\"quality\":[\"Basic\"]},\"number\":\"EW 2002\",\"status\":\"Unknown\",\"codeshareStatus\":\"Unknown\",\"isCargo\":false,\"aircraft\":{\"model\":\"Airbus A319\"},\"airline\":{\"name\":\"Eurowings\"}},{\"movement\":{\"airport\":{\"icao\":\"EDDL\",\"iata\":\"DUS\",\"name\":\"Duesseldorf\"},\"scheduledTimeLocal\":\"2021-11-25 07:35+01:00\",\"scheduledTimeUtc\":\"2021-11-25 06:35Z\",\"terminal\":\"1\",\"quality\":[\"Basic\"]},\"number\":\"EW 9048\",\"status\":\"Unknown\",\"codeshareStatus\":\"Unknown\",\"isCargo\":false,\"aircraft\":{\"model\":\"Airbus A320\"},\"airline\":{\"name\":\"Eurowings\"}},{\"movement\":{\"airport\":{\"icao\":\"EDDF\",\"iata\":\"FRA\",\"name\":\"Frankfurt-am-Main\"},\"scheduledTimeLocal\":\"2021-11-25 07:55+01:00\",\"scheduledTimeUtc\":\"2021-11-25 06:55Z\",\"terminal\":\"1\",\"quality\":[\"Basic\"]},\"number\":\"LH 170\",\"status\":\"Unknown\",\"codeshareStatus\":\"IsCodeshared\",\"isCargo\":false,\"aircraft\":{\"model\":\"Airbus A321\"},\"airline\":{\"name\":\"Lufthansa\"}},{\"movement\":{\"airport\":{\"icao\":\"LFSB\",\"iata\":\"BSL\",\"name\":\"Bâle/Mulhouse\"},\"scheduledTimeLocal\":\"2021-11-25 07:55+01:00\",\"scheduledTimeUtc\":\"2021-11-25 06:55Z\",\"terminal\":\"1\",\"quality\":[\"Basic\"]},\"number\":\"U2 5632\",\"status\":\"Unknown\",\"codeshareStatus\":\"Unknown\",\"isCargo\":false,\"aircraft\":{\"model\":\"Airbus A319\"},\"airline\":{\"name\":\"easyJet\"}},{\"movement\":{\"airport\":{\"icao\":\"LFPO\",\"iata\":\"ORY\",\"name\":\"Paris\"},\"scheduledTimeLocal\":\"2021-11-25 08:55+01:00\",\"scheduledTimeUtc\":\"2021-11-25 07:55Z\",\"terminal\":\"1\",\"quality\":[\"Basic\"]},\"number\":\"AF 7354\",\"status\":\"Unknown\",\"codeshareStatus\":\"Unknown\",\"isCargo\":false,\"aircraft\":{\"model\":\"Airbus A320\"},\"airline\":{\"name\":\"Air France\"}},{\"movement\":{\"airport\":{\"icao\":\"EDDR\",\"iata\":\"SCN\",\"name\":\"Saarbrücken\"},\"scheduledTimeLocal\":\"2021-11-25 08:10+01:00\",\"scheduledTimeUtc\":\"2021-11-25 07:10Z\",\"terminal\":\"0\",\"quality\":[\"Basic\"]},\"number\":\"DX 121\",\"status\":\"Unknown\",\"codeshareStatus\":\"Unknown\",\"isCargo\":false,\"aircraft\":{\"model\":\"ATR 72\"},\"airline\":{\"name\":\"Danish Air\"}},{\"movement\":{\"airport\":{\"icao\":\"LIRP\",\"iata\":\"PSA\",\"name\":\"Pisa\"},\"scheduledTimeLocal\":\"2021-11-25 08:45+01:00\",\"scheduledTimeUtc\":\"2021-11-25 07:45Z\",\"quality\":[\"Basic\"]},\"number\":\"FR 9955\",\"status\":\"Unknown\",\"codeshareStatus\":\"Unknown\",\"isCargo\":false,\"aircraft\":{\"model\":\"Boeing 737-800\"},\"airline\":{\"name\":\"Ryanair\"}},{\"movement\":{\"airport\":{\"icao\":\"ELLX\",\"iata\":\"LUX\",\"name\":\"Luxembourg\"},\"scheduledTimeLocal\":\"2021-11-25 08:15+01:00\",\"scheduledTimeUtc\":\"2021-11-25 07:15Z\",\"terminal\":\"1\",\"quality\":[\"Basic\"]},\"number\":\"LG 9471\",\"status\":\"Unknown\",\"codeshareStatus\":\"Unknown\",\"isCargo\":false,\"aircraft\":{\"model\":\"Bombardier Dash 8 Q400 / DHC-8-400\"},\"airline\":{\"name\":\"Luxair\"}},{\"movement\":{\"airport\":{\"icao\":\"EDDF\",\"iata\":\"FRA\",\"name\":\"Frankfurt-am-Main\"},\"scheduledTimeLocal\":\"2021-11-25 08:55+01:00\",\"scheduledTimeUtc\":\"2021-11-25 07:55Z\",\"terminal\":\"1\",\"quality\":[\"Basic\"]},\"number\":\"LH 174\",\"status\":\"Unknown\",\"codeshareStatus\":\"IsCodeshared\",\"isCargo\":false,\"aircraft\":{\"model\":\"Airbus A320\"},\"airline\":{\"name\":\"Lufthansa\"}},{\"movement\":{\"airport\":{\"icao\":\"EDDM\",\"iata\":\"MUC\",\"name\":\"Munich\"},\"scheduledTimeLocal\":\"2021-11-25 08:10+01:00\",\"scheduledTimeUtc\":\"2021-11-25 07:10Z\",\"terminal\":\"1\",\"quality\":[\"Basic\"]},\"number\":\"LH 1928\",\"status\":\"Unknown\",\"codeshareStatus\":\"IsCodeshared\",\"isCargo\":false,\"aircraft\":{\"model\":\"Airbus A320 NEO\"},\"airline\":{\"name\":\"Lufthansa\"}},{\"movement\":{\"airport\":{\"icao\":\"LSZH\",\"iata\":\"ZRH\",\"name\":\"Zurich\"},\"scheduledTimeLocal\":\"2021-11-25 08:45+01:00\",\"scheduledTimeUtc\":\"2021-11-25 07:45Z\",\"terminal\":\"1\",\"quality\":[\"Basic\"]},\"number\":\"LX 974\",\"status\":\"Unknown\",\"codeshareStatus\":\"Unknown\",\"isCargo\":false,\"aircraft\":{\"model\":\"Airbus A320\"},\"airline\":{\"name\":\"SWISS\"}},{\"movement\":{\"airport\":{\"icao\":\"LOWW\",\"iata\":\"VIE\",\"name\":\"Vienna\"},\"scheduledTimeLocal\":\"2021-11-25 08:55+01:00\",\"scheduledTimeUtc\":\"2021-11-25 07:55Z\",\"terminal\":\"1\",\"quality\":[\"Basic\"]},\"number\":\"OS 223\",\"status\":\"Unknown\",\"codeshareStatus\":\"Unknown\",\"isCargo\":false,\"aircraft\":{\"model\":\"Embraer 195\"},\"airline\":{\"name\":\"Austrian\"}},{\"movement\":{\"airport\":{\"icao\":\"ENGM\",\"iata\":\"OSL\",\"name\":\"Oslo\"},\"scheduledTimeLocal\":\"2021-11-25 09:10+01:00\",\"scheduledTimeUtc\":\"2021-11-25 08:10Z\",\"terminal\":\"1\",\"quality\":[\"Basic\"]},\"number\":\"DY 1102\",\"status\":\"Unknown\",\"codeshareStatus\":\"Unknown\",\"isCargo\":false,\"aircraft\":{\"model\":\"Boeing 737-800\"},\"airline\":{\"name\":\"Norwegian Air Shuttle\"}},{\"movement\":{\"airport\":{\"icao\":\"EDDK\",\"iata\":\"CGN\",\"name\":\"Cologne\"},\"scheduledTimeLocal\":\"2021-11-25 09:40+01:00\",\"scheduledTimeUtc\":\"2021-11-25 08:40Z\",\"terminal\":\"1\",\"quality\":[\"Basic\"]},\"number\":\"EW 8059\",\"status\":\"Unknown\",\"codeshareStatus\":\"Unknown\",\"isCargo\":false,\"aircraft\":{\"model\":\"Airbus A320\"},\"airline\":{\"name\":\"Eurowings\"}},{\"movement\":{\"airport\":{\"icao\":\"LHBP\",\"iata\":\"BUD\",\"name\":\"Budapest\"},\"scheduledTimeLocal\":\"2021-11-25 09:30+01:00\",\"scheduledTimeUtc\":\"2021-11-25 08:30Z\",\"quality\":[\"Basic\"]},\"number\":\"FR 197\",\"status\":\"Unknown\",\"codeshareStatus\":\"Unknown\",\"isCargo\":false,\"aircraft\":{\"model\":\"Boeing 737-800\"},\"airline\":{\"name\":\"Ryanair\"}},{\"movement\":{\"airport\":{\"icao\":\"LEMD\",\"iata\":\"MAD\",\"name\":\"Madrid\"},\"scheduledTimeLocal\":\"2021-11-25 09:25+01:00\",\"scheduledTimeUtc\":\"2021-11-25 08:25Z\",\"quality\":[\"Basic\"]},\"number\":\"FR 2526\",\"status\":\"Unknown\",\"codeshareStatus\":\"Unknown\",\"isCargo\":false,\"aircraft\":{\"model\":\"Boeing 737-800\"},\"airline\":{\"name\":\"Ryanair\"}},{\"movement\":{\"airport\":{\"icao\":\"EVRA\",\"iata\":\"RIX\",\"name\":\"Riga\"},\"scheduledTimeLocal\":\"2021-11-25 09:45+01:00\",\"scheduledTimeUtc\":\"2021-11-25 08:45Z\",\"quality\":[\"Basic\"]},\"number\":\"FR 2600\",\"status\":\"Unknown\",\"codeshareStatus\":\"Unknown\",\"isCargo\":false,\"aircraft\":{\"model\":\"Boeing 737-800\"},\"airline\":{\"name\":\"Ryanair\"}},{\"movement\":{\"airport\":{\"icao\":\"LYBE\",\"iata\":\"BEG\",\"name\":\"Belgrade\"},\"scheduledTimeLocal\":\"2021-11-25 09:00+01:00\",\"scheduledTimeUtc\":\"2021-11-25 08:00Z\",\"terminal\":\"1\",\"quality\":[\"Basic\"]},\"number\":\"JU 350\",\"status\":\"Unknown\",\"codeshareStatus\":\"Unknown\",\"isCargo\":false,\"aircraft\":{\"model\":\"Airbus A320\"},\"airline\":{\"name\":\"Air Serbia\"}},{\"movement\":{\"airport\":{\"icao\":\"EHAM\",\"iata\":\"AMS\",\"name\":\"Amsterdam\"},\"scheduledTimeLocal\":\"2021-11-25 09:25+01:00\",\"scheduledTimeUtc\":\"2021-11-25 08:25Z\",\"terminal\":\"1\",\"quality\":[\"Basic\"]},\"number\":\"KL 1821\",\"status\":\"Unknown\",\"codeshareStatus\":\"IsOperator\",\"isCargo\":false,\"aircraft\":{\"reg\":\"PH-BCL\",\"model\":\"Boeing 737-700\"},\"airline\":{\"name\":\"KLM\"}},{\"movement\":{\"airport\":{\"icao\":\"EDDF\",\"iata\":\"FRA\",\"name\":\"Frankfurt-am-Main\"},\"scheduledTimeLocal\":\"2021-11-25 09:55+01:00\",\"scheduledTimeUtc\":\"2021-11-25 08:55Z\",\"terminal\":\"1\",\"quality\":[\"Basic\"]},\"number\":\"LH 176\",\"status\":\"Unknown\",\"codeshareStatus\":\"IsCodeshared\",\"isCargo\":false,\"aircraft\":{\"model\":\"Airbus A320\"},\"airline\":{\"name\":\"Lufthansa\"}},{\"movement\":{\"airport\":{\"icao\":\"EDDM\",\"iata\":\"MUC\",\"name\":\"Munich\"},\"scheduledTimeLocal\":\"2021-11-25 09:40+01:00\",\"scheduledTimeUtc\":\"2021-11-25 08:40Z\",\"terminal\":\"1\",\"quality\":[\"Basic\"]},\"number\":\"LH 1930\",\"status\":\"Unknown\",\"codeshareStatus\":\"IsCodeshared\",\"isCargo\":false,\"aircraft\":{\"model\":\"Airbus A320\"},\"airline\":{\"name\":\"Lufthansa\"}},{\"movement\":{\"airport\":{\"icao\":\"LTFM\",\"iata\":\"IST\",\"name\":\"Istanbul\"},\"scheduledTimeLocal\":\"2021-11-25 09:35+01:00\",\"scheduledTimeUtc\":\"2021-11-25 08:35Z\",\"terminal\":\"1\",\"quality\":[\"Basic\"]},\"number\":\"TK 1721\",\"status\":\"Unknown\",\"codeshareStatus\":\"Unknown\",\"isCargo\":false,\"aircraft\":{\"model\":\"Airbus A330-300\"},\"airline\":{\"name\":\"Turkish\"}},{\"movement\":{\"airport\":{\"icao\":\"EKCH\",\"iata\":\"CPH\",\"name\":\"Copenhagen\"},\"scheduledTimeLocal\":\"2021-11-25 09:55+01:00\",\"scheduledTimeUtc\":\"2021-11-25 08:55Z\",\"terminal\":\"1\",\"quality\":[\"Basic\"]},\"number\":\"U2 5684\",\"status\":\"Unknown\",\"codeshareStatus\":\"Unknown\",\"isCargo\":false,\"aircraft\":{\"model\":\"Airbus A320\"},\"airline\":{\"name\":\"easyJet\"}},{\"movement\":{\"airport\":{\"icao\":\"EKAH\",\"iata\":\"AAR\",\"name\":\"Aarhus\"},\"scheduledTimeLocal\":\"2021-11-25 09:45+01:00\",\"scheduledTimeUtc\":\"2021-11-25 08:45Z\",\"terminal\":\"1\",\"quality\":[\"Basic\"]},\"number\":\"U2 5698\",\"status\":\"Unknown\",\"codeshareStatus\":\"Unknown\",\"isCargo\":false,\"aircraft\":{\"model\":\"Airbus A319\"},\"airline\":{\"name\":\"easyJet\"}},{\"movement\":{\"airport\":{\"icao\":\"LGAV\",\"iata\":\"ATH\",\"name\":\"Athens\"},\"scheduledTimeLocal\":\"2021-11-25 10:50+01:00\",\"scheduledTimeUtc\":\"2021-11-25 09:50Z\",\"terminal\":\"1\",\"quality\":[\"Basic\"]},\"number\":\"A3 820\",\"status\":\"Unknown\",\"codeshareStatus\":\"Unknown\",\"isCargo\":false,\"aircraft\":{\"model\":\"Airbus A320\"},\"airline\":{\"name\":\"Aegean\"}},{\"movement\":{\"airport\":{\"icao\":\"EGLC\",\"iata\":\"LCY\",\"name\":\"London\"},\"scheduledTimeLocal\":\"2021-11-25 10:25+01:00\",\"scheduledTimeUtc\":\"2021-11-25 09:25Z\",\"terminal\":\"1\",\"quality\":[\"Basic\"]},\"number\":\"BA 8491\",\"status\":\"Unknown\",\"codeshareStatus\":\"IsCodeshared\",\"isCargo\":false,\"aircraft\":{\"model\":\"Embraer 190\"},\"airline\":{\"name\":\"British Airways\"}},{\"movement\":{\"airport\":{\"icao\":\"EGSS\",\"iata\":\"STN\",\"name\":\"London\"},\"scheduledTimeLocal\":\"2021-11-25 10:40+01:00\",\"scheduledTimeUtc\":\"2021-11-25 09:40Z\",\"quality\":[\"Basic\"]},\"number\":\"FR 145\",\"status\":\"Unknown\",\"codeshareStatus\":\"Unknown\",\"isCargo\":false,\"aircraft\":{\"model\":\"Boeing 737-800\"},\"airline\":{\"name\":\"Ryanair\"}},{\"movement\":{\"airport\":{\"icao\":\"LIME\",\"iata\":\"BGY\",\"name\":\"Bergamo\"},\"scheduledTimeLocal\":\"2021-11-25 10:40+01:00\",\"scheduledTimeUtc\":\"2021-11-25 09:40Z\",\"quality\":[\"Basic\"]},\"number\":\"FR 4731\",\"status\":\"Unknown\",\"codeshareStatus\":\"Unknown\",\"isCargo\":false,\"aircraft\":{\"model\":\"Boeing 737-800\"},\"airline\":{\"name\":\"Ryanair\"}},{\"movement\":{\"airport\":{\"icao\":\"LOWW\",\"iata\":\"VIE\",\"name\":\"Vienna\"},\"scheduledTimeLocal\":\"2021-11-25 10:25+01:00\",\"scheduledTimeUtc\":\"2021-11-25 09:25Z\",\"terminal\":\"1\",\"quality\":[\"Basic\"]},\"number\":\"OS 225\",\"status\":\"Unknown\",\"codeshareStatus\":\"Unknown\",\"isCargo\":false,\"aircraft\":{\"model\":\"Airbus A320\"},\"airline\":{\"name\":\"Austrian\"}},{\"movement\":{\"airport\":{\"icao\":\"ESSA\",\"iata\":\"ARN\",\"name\":\"Stockholm\"},\"scheduledTimeLocal\":\"2021-11-25 10:30+01:00\",\"scheduledTimeUtc\":\"2021-11-25 09:30Z\",\"terminal\":\"1\",\"quality\":[\"Basic\"]},\"number\":\"SK 2677\",\"status\":\"Unknown\",\"codeshareStatus\":\"Unknown\",\"isCargo\":false,\"aircraft\":{\"reg\":\"OY-KAS\",\"model\":\"Airbus A320\"},\"airline\":{\"name\":\"SAS\"}},{\"movement\":{\"airport\":{\"icao\":\"LGAV\",\"iata\":\"ATH\",\"name\":\"Athens\"},\"scheduledTimeLocal\":\"2021-11-25 10:20+01:00\",\"scheduledTimeUtc\":\"2021-11-25 09:20Z\",\"terminal\":\"1\",\"quality\":[\"Basic\"]},\"number\":\"TR 722\",\"status\":\"Unknown\",\"codeshareStatus\":\"Unknown\",\"isCargo\":false,\"aircraft\":{\"model\":\"Boeing 787-8\"},\"airline\":{\"name\":\"Scoot\"}},{\"movement\":{\"airport\":{\"icao\":\"LFPG\",\"iata\":\"CDG\",\"name\":\"Paris\"},\"scheduledTimeLocal\":\"2021-11-25 11:40+01:00\",\"scheduledTimeUtc\":\"2021-11-25 10:40Z\",\"terminal\":\"1\",\"quality\":[\"Basic\"]},\"number\":\"AF 1734\",\"status\":\"Unknown\",\"codeshareStatus\":\"Unknown\",\"isCargo\":false,\"aircraft\":{\"model\":\"Airbus A319\"},\"airline\":{\"name\":\"Air France\"}},{\"movement\":{\"airport\":{\"icao\":\"EGLL\",\"iata\":\"LHR\",\"name\":\"London\"},\"scheduledTimeLocal\":\"2021-11-25 11:40+01:00\",\"scheduledTimeUtc\":\"2021-11-25 10:40Z\",\"terminal\":\"1\",\"quality\":[\"Basic\"]},\"number\":\"BA 992\",\"status\":\"Unknown\",\"codeshareStatus\":\"IsCodeshared\",\"isCargo\":false,\"aircraft\":{\"model\":\"Airbus A320\"},\"airline\":{\"name\":\"British Airways\"}},{\"movement\":{\"airport\":{\"icao\":\"EKCH\",\"iata\":\"CPH\",\"name\":\"Copenhagen\"},\"scheduledTimeLocal\":\"2021-11-25 11:45+01:00\",\"scheduledTimeUtc\":\"2021-11-25 10:45Z\",\"terminal\":\"1\",\"quality\":[\"Basic\"]},\"number\":\"D8 3302\",\"status\":\"Unknown\",\"codeshareStatus\":\"Unknown\",\"isCargo\":false,\"aircraft\":{\"model\":\"Boeing 737-800\"},\"airline\":{\"name\":\"Norwegian Air International\"}},{\"movement\":{\"airport\":{\"icao\":\"LIRA\",\"iata\":\"CIA\",\"name\":\"Roma\"},\"scheduledTimeLocal\":\"2021-11-25 11:05+01:00\",\"scheduledTimeUtc\":\"2021-11-25 10:05Z\",\"quality\":[\"Basic\"]},\"number\":\"FR 135\",\"status\":\"Unknown\",\"codeshareStatus\":\"Unknown\",\"isCargo\":false,\"aircraft\":{\"model\":\"Boeing 737-800\"},\"airline\":{\"name\":\"Ryanair\"}},{\"movement\":{\"airport\":{\"icao\":\"LBSF\",\"iata\":\"SOF\",\"name\":\"Sofia\"},\"scheduledTimeLocal\":\"2021-11-25 11:45+01:00\",\"scheduledTimeUtc\":\"2021-11-25 10:45Z\",\"quality\":[\"Basic\"]},\"number\":\"FR 1595\",\"status\":\"Unknown\",\"codeshareStatus\":\"Unknown\",\"isCargo\":false,\"aircraft\":{\"model\":\"Boeing 737-800\"},\"airline\":{\"name\":\"Ryanair\"}},{\"movement\":{\"airport\":{\"icao\":\"LEMD\",\"iata\":\"MAD\",\"name\":\"Madrid\"},\"scheduledTimeLocal\":\"2021-11-25 11:05+01:00\",\"scheduledTimeUtc\":\"2021-11-25 10:05Z\",\"terminal\":\"1\",\"quality\":[\"Basic\"]},\"number\":\"IB 3676\",\"status\":\"Unknown\",\"codeshareStatus\":\"Unknown\",\"isCargo\":false,\"aircraft\":{\"model\":\"Airbus A320\"},\"airline\":{\"name\":\"Iberia\"}},{\"movement\":{\"airport\":{\"icao\":\"EHAM\",\"iata\":\"AMS\",\"name\":\"Amsterdam\"},\"scheduledTimeLocal\":\"2021-11-25 11:05+01:00\",\"scheduledTimeUtc\":\"2021-11-25 10:05Z\",\"terminal\":\"1\",\"quality\":[\"Basic\"]},\"number\":\"KL 1823\",\"status\":\"Unknown\",\"codeshareStatus\":\"IsOperator\",\"isCargo\":false,\"aircraft\":{\"reg\":\"PH-BCB\",\"model\":\"Boeing 737-900\"},\"airline\":{\"name\":\"KLM\"}},{\"movement\":{\"airport\":{\"icao\":\"EDDF\",\"iata\":\"FRA\",\"name\":\"Frankfurt-am-Main\"},\"scheduledTimeLocal\":\"2021-11-25 11:55+01:00\",\"scheduledTimeUtc\":\"2021-11-25 10:55Z\",\"terminal\":\"1\",\"quality\":[\"Basic\"]},\"number\":\"LH 180\",\"status\":\"Unknown\",\"codeshareStatus\":\"IsCodeshared\",\"isCargo\":false,\"aircraft\":{\"model\":\"Airbus A320\"},\"airline\":{\"name\":\"Lufthansa\"}},{\"movement\":{\"airport\":{\"icao\":\"EPWA\",\"iata\":\"WAW\",\"name\":\"Warsaw\"},\"scheduledTimeLocal\":\"2021-11-25 11:35+01:00\",\"scheduledTimeUtc\":\"2021-11-25 10:35Z\",\"terminal\":\"1\",\"quality\":[\"Basic\"]},\"number\":\"LO 385\",\"status\":\"Unknown\",\"codeshareStatus\":\"Unknown\",\"isCargo\":false,\"aircraft\":{\"model\":\"Bombardier Dash 8 Q400 / DHC-8-400\"},\"airline\":{\"name\":\"LOT - Polish\"}},{\"movement\":{\"airport\":{\"icao\":\"EGNT\",\"iata\":\"NCL\",\"name\":\"Newcastle upon Tyne\"},\"scheduledTimeLocal\":\"2021-11-25 11:50+01:00\",\"scheduledTimeUtc\":\"2021-11-25 10:50Z\",\"terminal\":\"0\",\"quality\":[\"Basic\"]},\"number\":\"LS 4067\",\"status\":\"Unknown\",\"codeshareStatus\":\"Unknown\",\"isCargo\":false,\"aircraft\":{\"model\":\"Boeing 737-800\"},\"airline\":{\"name\":\"Jet2\"}},{\"movement\":{\"airport\":{\"icao\":\"LTFJ\",\"iata\":\"SAW\",\"name\":\"Istanbul\"},\"scheduledTimeLocal\":\"2021-11-25 11:00+01:00\",\"scheduledTimeUtc\":\"2021-11-25 10:00Z\",\"terminal\":\"0\",\"quality\":[\"Basic\"]},\"number\":\"PC 977\",\"status\":\"Unknown\",\"codeshareStatus\":\"Unknown\",\"isCargo\":false,\"aircraft\":{\"model\":\"Airbus A320\"},\"airline\":{\"name\":\"Pegasus\"}},{\"movement\":{\"airport\":{\"icao\":\"EBBR\",\"iata\":\"BRU\",\"name\":\"Brussels\"},\"scheduledTimeLocal\":\"2021-11-25 11:15+01:00\",\"scheduledTimeUtc\":\"2021-11-25 10:15Z\",\"terminal\":\"1\",\"quality\":[\"Basic\"]},\"number\":\"SN 2581\",\"status\":\"Unknown\",\"codeshareStatus\":\"Unknown\",\"isCargo\":false,\"aircraft\":{\"model\":\"Airbus A319\"},\"airline\":{\"name\":\"Brussels\"}},{\"movement\":{\"airport\":{\"icao\":\"LIMC\",\"iata\":\"MXP\",\"name\":\"Milan\"},\"scheduledTimeLocal\":\"2021-11-25 11:25+01:00\",\"scheduledTimeUtc\":\"2021-11-25 10:25Z\",\"terminal\":\"1\",\"quality\":[\"Basic\"]},\"number\":\"U2 4672\",\"status\":\"Unknown\",\"codeshareStatus\":\"Unknown\",\"isCargo\":false,\"aircraft\":{\"model\":\"Airbus A320\"},\"airline\":{\"name\":\"easyJet\"}},{\"movement\":{\"airport\":{\"icao\":\"LFPG\",\"iata\":\"CDG\",\"name\":\"Paris\"},\"scheduledTimeLocal\":\"2021-11-25 11:35+01:00\",\"scheduledTimeUtc\":\"2021-11-25 10:35Z\",\"terminal\":\"1\",\"quality\":[\"Basic\"]},\"number\":\"U2 5652\",\"status\":\"Unknown\",\"codeshareStatus\":\"Unknown\",\"isCargo\":false,\"aircraft\":{\"model\":\"Airbus A320\"},\"airline\":{\"name\":\"easyJet\"}},{\"movement\":{\"airport\":{\"icao\":\"EGKK\",\"iata\":\"LGW\",\"name\":\"London\"},\"scheduledTimeLocal\":\"2021-11-25 11:55+01:00\",\"scheduledTimeUtc\":\"2021-11-25 10:55Z\",\"terminal\":\"1\",\"quality\":[\"Basic\"]},\"number\":\"U2 8209\",\"status\":\"Unknown\",\"codeshareStatus\":\"Unknown\",\"isCargo\":false,\"aircraft\":{\"model\":\"Airbus A320\"},\"airline\":{\"name\":\"easyJet\"}},{\"movement\":{\"airport\":{\"icao\":\"EDDL\",\"iata\":\"DUS\",\"name\":\"Duesseldorf\"},\"scheduledTimeLocal\":\"2021-11-25 12:00+01:00\",\"scheduledTimeUtc\":\"2021-11-25 11:00Z\",\"terminal\":\"1\",\"quality\":[\"Basic\"]},\"number\":\"EW 9046\",\"status\":\"Unknown\",\"codeshareStatus\":\"Unknown\",\"isCargo\":false,\"aircraft\":{\"reg\":\"D-ABHC\",\"model\":\"Airbus A319\"},\"airline\":{\"name\":\"Eurowings\"}},{\"movement\":{\"airport\":{\"icao\":\"BIKF\",\"iata\":\"KEF\",\"name\":\"Reykjavik\"},\"scheduledTimeLocal\":\"2021-11-25 12:10+01:00\",\"scheduledTimeUtc\":\"2021-11-25 11:10Z\",\"terminal\":\"1\",\"quality\":[\"Basic\"]},\"number\":\"FI 528\",\"status\":\"Unknown\",\"codeshareStatus\":\"Unknown\",\"isCargo\":false,\"aircraft\":{\"model\":\"Boeing 757-300\"},\"airline\":{\"name\":\"Icelandair\"}},{\"movement\":{\"airport\":{\"icao\":\"LYPG\",\"iata\":\"TGD\",\"name\":\"Podgorica\"},\"scheduledTimeLocal\":\"2021-11-25 12:25+01:00\",\"scheduledTimeUtc\":\"2021-11-25 11:25Z\",\"quality\":[\"Basic\"]},\"number\":\"FR 1579\",\"status\":\"Unknown\",\"codeshareStatus\":\"Unknown\",\"isCargo\":false,\"aircraft\":{\"model\":\"Boeing 737-800\"},\"airline\":{\"name\":\"Ryanair\"}},{\"movement\":{\"airport\":{\"icao\":\"LGAV\",\"iata\":\"ATH\",\"name\":\"Athens\"},\"scheduledTimeLocal\":\"2021-11-25 12:45+01:00\",\"scheduledTimeUtc\":\"2021-11-25 11:45Z\",\"quality\":[\"Basic\"]},\"number\":\"FR 171\",\"status\":\"Unknown\",\"codeshareStatus\":\"Unknown\",\"isCargo\":false,\"aircraft\":{\"model\":\"Boeing 737-800\"},\"airline\":{\"name\":\"Ryanair\"}},{\"movement\":{\"airport\":{\"icao\":\"LEPA\",\"iata\":\"PMI\",\"name\":\"Palma De Mallorca\"},\"scheduledTimeLocal\":\"2021-11-25 12:30+01:00\",\"scheduledTimeUtc\":\"2021-11-25 11:30Z\",\"quality\":[\"Basic\"]},\"number\":\"FR 2146\",\"status\":\"Unknown\",\"codeshareStatus\":\"Unknown\",\"isCargo\":false,\"aircraft\":{\"model\":\"Boeing 737-800\"},\"airline\":{\"name\":\"Ryanair\"}},{\"movement\":{\"airport\":{\"icao\":\"EDDF\",\"iata\":\"FRA\",\"name\":\"Frankfurt-am-Main\"},\"scheduledTimeLocal\":\"2021-11-25 12:55+01:00\",\"scheduledTimeUtc\":\"2021-11-25 11:55Z\",\"terminal\":\"1\",\"quality\":[\"Basic\"]},\"number\":\"LH 182\",\"status\":\"Unknown\",\"codeshareStatus\":\"IsCodeshared\",\"isCargo\":false,\"aircraft\":{\"model\":\"Airbus A320\"},\"airline\":{\"name\":\"Lufthansa\"}},{\"movement\":{\"airport\":{\"icao\":\"EDDM\",\"iata\":\"MUC\",\"name\":\"Munich\"},\"scheduledTimeLocal\":\"2021-11-25 12:15+01:00\",\"scheduledTimeUtc\":\"2021-11-25 11:15Z\",\"terminal\":\"1\",\"quality\":[\"Basic\"]},\"number\":\"LH 1936\",\"status\":\"Unknown\",\"codeshareStatus\":\"IsCodeshared\",\"isCargo\":false,\"aircraft\":{\"model\":\"Airbus A320 NEO\"},\"airline\":{\"name\":\"Lufthansa\"}},{\"movement\":{\"airport\":{\"icao\":\"EGNM\",\"iata\":\"LBA\",\"name\":\"Leeds\"},\"scheduledTimeLocal\":\"2021-11-25 12:05+01:00\",\"scheduledTimeUtc\":\"2021-11-25 11:05Z\",\"terminal\":\"0\",\"quality\":[\"Basic\"]},\"number\":\"LS 471\",\"status\":\"Unknown\",\"codeshareStatus\":\"Unknown\",\"isCargo\":false,\"aircraft\":{\"model\":\"Boeing 737-800\"},\"airline\":{\"name\":\"Jet2\"}},{\"movement\":{\"airport\":{\"icao\":\"UKBB\",\"iata\":\"KBP\",\"name\":\"Kiev\"},\"scheduledTimeLocal\":\"2021-11-25 12:05+01:00\",\"scheduledTimeUtc\":\"2021-11-25 11:05Z\",\"terminal\":\"1\",\"quality\":[\"Basic\"]},\"number\":\"PS 423\",\"status\":\"Unknown\",\"codeshareStatus\":\"Unknown\",\"isCargo\":false,\"aircraft\":{\"model\":\"Boeing 737-800\"},\"airline\":{\"name\":\"UIA\"}},{\"movement\":{\"airport\":{\"icao\":\"OTHH\",\"iata\":\"DOH\",\"name\":\"Doha\"},\"scheduledTimeLocal\":\"2021-11-25 12:40+01:00\",\"scheduledTimeUtc\":\"2021-11-25 11:40Z\",\"terminal\":\"1\",\"quality\":[\"Basic\"]},\"number\":\"QR 81\",\"status\":\"Unknown\",\"codeshareStatus\":\"Unknown\",\"isCargo\":false,\"aircraft\":{\"model\":\"Boeing 787-8\"},\"airline\":{\"name\":\"Qatar Airways\"}},{\"movement\":{\"airport\":{\"icao\":\"ENGM\",\"iata\":\"OSL\",\"name\":\"Oslo\"},\"scheduledTimeLocal\":\"2021-11-25 12:55+01:00\",\"scheduledTimeUtc\":\"2021-11-25 11:55Z\",\"terminal\":\"1\",\"quality\":[\"Basic\"]},\"number\":\"SK 4723\",\"status\":\"Unknown\",\"codeshareStatus\":\"Unknown\",\"isCargo\":false,\"aircraft\":{\"model\":\"Airbus A320 NEO\"},\"airline\":{\"name\":\"SAS\"}},{\"movement\":{\"airport\":{\"icao\":\"UUEE\",\"iata\":\"SVO\",\"name\":\"Moscow\"},\"scheduledTimeLocal\":\"2021-11-25 12:55+01:00\",\"scheduledTimeUtc\":\"2021-11-25 11:55Z\",\"terminal\":\"1\",\"quality\":[\"Basic\"]},\"number\":\"SU 2662\",\"status\":\"Unknown\",\"codeshareStatus\":\"IsOperator\",\"isCargo\":false,\"aircraft\":{\"model\":\"Boeing 737-800\"},\"airline\":{\"name\":\"Aeroflot\"}},{\"movement\":{\"airport\":{\"icao\":\"LTFJ\",\"iata\":\"SAW\",\"name\":\"Istanbul\"},\"scheduledTimeLocal\":\"2021-11-25 12:30+01:00\",\"scheduledTimeUtc\":\"2021-11-25 11:30Z\",\"terminal\":\"1\",\"quality\":[\"Basic\"]},\"number\":\"TK 7728\",\"status\":\"Unknown\",\"codeshareStatus\":\"Unknown\",\"isCargo\":false,\"aircraft\":{\"model\":\"Boeing 737-800\"},\"airline\":{\"name\":\"Turkish\"}},{\"movement\":{\"airport\":{\"icao\":\"LHBP\",\"iata\":\"BUD\",\"name\":\"Budapest\"},\"scheduledTimeLocal\":\"2021-11-25 12:15+01:00\",\"scheduledTimeUtc\":\"2021-11-25 11:15Z\",\"terminal\":\"0\",\"quality\":[\"Basic\"]},\"number\":\"W6 2315\",\"status\":\"Unknown\",\"codeshareStatus\":\"Unknown\",\"isCargo\":false,\"aircraft\":{\"model\":\"Airbus A320\"},\"airline\":{\"name\":\"Wizz Air\"}},{\"movement\":{\"airport\":{\"icao\":\"LTAI\",\"iata\":\"AYT\",\"name\":\"Antalya\"},\"scheduledTimeLocal\":\"2021-11-25 12:35+01:00\",\"scheduledTimeUtc\":\"2021-11-25 11:35Z\",\"terminal\":\"1\",\"quality\":[\"Basic\"]},\"number\":\"XQ 160\",\"status\":\"Unknown\",\"codeshareStatus\":\"Unknown\",\"isCargo\":false,\"aircraft\":{\"model\":\"Boeing 737-800\"},\"airline\":{\"name\":\"SunExpress\"}},{\"movement\":{\"airport\":{\"icao\":\"EDDS\",\"iata\":\"STR\",\"name\":\"Stuttgart\"},\"scheduledTimeLocal\":\"2021-11-25 13:25+01:00\",\"scheduledTimeUtc\":\"2021-11-25 12:25Z\",\"terminal\":\"1\",\"quality\":[\"Basic\"]},\"number\":\"EW 8003\",\"status\":\"Unknown\",\"codeshareStatus\":\"Unknown\",\"isCargo\":false,\"aircraft\":{\"model\":\"Airbus A320\"},\"airline\":{\"name\":\"Eurowings\"}},{\"movement\":{\"airport\":{\"icao\":\"EDDK\",\"iata\":\"CGN\",\"name\":\"Cologne\"},\"scheduledTimeLocal\":\"2021-11-25 13:15+01:00\",\"scheduledTimeUtc\":\"2021-11-25 12:15Z\",\"terminal\":\"1\",\"quality\":[\"Basic\"]},\"number\":\"EW 8051\",\"status\":\"Unknown\",\"codeshareStatus\":\"Unknown\",\"isCargo\":false,\"aircraft\":{\"model\":\"Airbus A320\"},\"airline\":{\"name\":\"Eurowings\"}},{\"movement\":{\"airport\":{\"icao\":\"EIKY\",\"iata\":\"KIR\",\"name\":\"Killarney\"},\"scheduledTimeLocal\":\"2021-11-25 13:40+01:00\",\"scheduledTimeUtc\":\"2021-11-25 12:40Z\",\"quality\":[\"Basic\"]},\"number\":\"FR 1710\",\"status\":\"Unknown\",\"codeshareStatus\":\"Unknown\",\"isCargo\":false,\"aircraft\":{\"model\":\"Boeing 737-800\"},\"airline\":{\"name\":\"Ryanair\"}},{\"movement\":{\"airport\":{\"icao\":\"EGSS\",\"iata\":\"STN\",\"name\":\"London\"},\"scheduledTimeLocal\":\"2021-11-25 13:35+01:00\",\"scheduledTimeUtc\":\"2021-11-25 12:35Z\",\"quality\":[\"Basic\"]},\"number\":\"FR 176\",\"status\":\"Unknown\",\"codeshareStatus\":\"Unknown\",\"isCargo\":false,\"aircraft\":{\"model\":\"Boeing 737-800\"},\"airline\":{\"name\":\"Ryanair\"}},{\"movement\":{\"airport\":{\"icao\":\"EIDW\",\"iata\":\"DUB\",\"name\":\"Dublin\"},\"scheduledTimeLocal\":\"2021-11-25 13:10+01:00\",\"scheduledTimeUtc\":\"2021-11-25 12:10Z\",\"quality\":[\"Basic\"]},\"number\":\"FR 8556\",\"status\":\"Unknown\",\"codeshareStatus\":\"Unknown\",\"isCargo\":false,\"aircraft\":{\"model\":\"Boeing 737-800\"},\"airline\":{\"name\":\"Ryanair\"}},{\"movement\":{\"airport\":{\"icao\":\"LIMC\",\"iata\":\"MXP\",\"name\":\"Milan\"},\"scheduledTimeLocal\":\"2021-11-25 13:55+01:00\",\"scheduledTimeUtc\":\"2021-11-25 12:55Z\",\"quality\":[\"Basic\"]},\"number\":\"FR 9\",\"status\":\"Unknown\",\"codeshareStatus\":\"Unknown\",\"isCargo\":false,\"aircraft\":{\"model\":\"Boeing 737-800\"},\"airline\":{\"name\":\"Ryanair\"}},{\"movement\":{\"airport\":{\"icao\":\"OJAI\",\"iata\":\"AMM\",\"name\":\"Amman\"},\"scheduledTimeLocal\":\"2021-11-25 13:20+01:00\",\"scheduledTimeUtc\":\"2021-11-25 12:20Z\",\"terminal\":\"1\",\"quality\":[\"Basic\"]},\"number\":\"RJ 121\",\"status\":\"Unknown\",\"codeshareStatus\":\"Unknown\",\"isCargo\":false,\"aircraft\":{\"model\":\"Airbus A319\"},\"airline\":{\"name\":\"Royal Jordanian\"}},{\"movement\":{\"airport\":{\"icao\":\"EKCH\",\"iata\":\"CPH\",\"name\":\"Copenhagen\"},\"scheduledTimeLocal\":\"2021-11-25 13:00+01:00\",\"scheduledTimeUtc\":\"2021-11-25 12:00Z\",\"terminal\":\"1\",\"quality\":[\"Basic\"]},\"number\":\"SK 1673\",\"status\":\"Unknown\",\"codeshareStatus\":\"Unknown\",\"isCargo\":false,\"aircraft\":{\"model\":\"Airbus A320 NEO\"},\"airline\":{\"name\":\"SAS\"}},{\"movement\":{\"airport\":{\"icao\":\"LTFM\",\"iata\":\"IST\",\"name\":\"Istanbul\"},\"scheduledTimeLocal\":\"2021-11-25 13:30+01:00\",\"scheduledTimeUtc\":\"2021-11-25 12:30Z\",\"terminal\":\"1\",\"quality\":[\"Basic\"]},\"number\":\"TK 1725\",\"status\":\"Unknown\",\"codeshareStatus\":\"Unknown\",\"isCargo\":false,\"aircraft\":{\"model\":\"Airbus A321\"},\"airline\":{\"name\":\"Turkish\"}},{\"movement\":{\"airport\":{\"name\":\"Barcelona\"},\"scheduledTimeLocal\":\"2021-11-25 13:55+01:00\",\"scheduledTimeUtc\":\"2021-11-25 12:55Z\",\"terminal\":\"1\",\"quality\":[\"Basic\"]},\"number\":\"U2 5122\",\"status\":\"Unknown\",\"codeshareStatus\":\"Unknown\",\"isCargo\":false,\"aircraft\":{\"model\":\"Airbus A320\"},\"airline\":{\"name\":\"easyJet\"}},{\"movement\":{\"airport\":{\"icao\":\"LIRN\",\"iata\":\"NAP\",\"name\":\"Nápoli\"},\"scheduledTimeLocal\":\"2021-11-25 13:10+01:00\",\"scheduledTimeUtc\":\"2021-11-25 12:10Z\",\"terminal\":\"1\",\"quality\":[\"Basic\"]},\"number\":\"U2 5142\",\"status\":\"Unknown\",\"codeshareStatus\":\"Unknown\",\"isCargo\":false,\"aircraft\":{\"model\":\"Airbus A320\"},\"airline\":{\"name\":\"easyJet\"}},{\"movement\":{\"airport\":{\"icao\":\"LICC\",\"iata\":\"CTA\",\"name\":\"Catania\"},\"scheduledTimeLocal\":\"2021-11-25 13:05+01:00\",\"scheduledTimeUtc\":\"2021-11-25 12:05Z\",\"terminal\":\"1\",\"quality\":[\"Basic\"]},\"number\":\"U2 5694\",\"status\":\"Unknown\",\"codeshareStatus\":\"Unknown\",\"isCargo\":false,\"aircraft\":{\"model\":\"Airbus A320\"},\"airline\":{\"name\":\"easyJet\"}},{\"movement\":{\"airport\":{\"icao\":\"ULLI\",\"iata\":\"LED\",\"name\":\"Saint-Petersburg\"},\"scheduledTimeLocal\":\"2021-11-25 14:45+01:00\",\"scheduledTimeUtc\":\"2021-11-25 13:45Z\",\"terminal\":\"1\",\"quality\":[\"Basic\"]},\"number\":\"EO 1909\",\"status\":\"Unknown\",\"codeshareStatus\":\"Unknown\",\"isCargo\":false,\"aircraft\":{\"model\":\"Embraer 190\"},\"airline\":{\"name\":\"Pegas Fly\"}},{\"movement\":{\"airport\":{\"icao\":\"EGSS\",\"iata\":\"STN\",\"name\":\"London\"},\"scheduledTimeLocal\":\"2021-11-25 14:05+01:00\",\"scheduledTimeUtc\":\"2021-11-25 13:05Z\",\"quality\":[\"Basic\"]},\"number\":\"FR 8542\",\"status\":\"Unknown\",\"codeshareStatus\":\"Unknown\",\"isCargo\":false,\"aircraft\":{\"model\":\"Boeing 737-800\"},\"airline\":{\"name\":\"Ryanair\"}},{\"movement\":{\"airport\":{\"icao\":\"EDDF\",\"iata\":\"FRA\",\"name\":\"Frankfurt-am-Main\"},\"scheduledTimeLocal\":\"2021-11-25 14:55+01:00\",\"scheduledTimeUtc\":\"2021-11-25 13:55Z\",\"terminal\":\"1\",\"quality\":[\"Basic\"]},\"number\":\"LH 186\",\"status\":\"Unknown\",\"codeshareStatus\":\"IsCodeshared\",\"isCargo\":false,\"aircraft\":{\"model\":\"Airbus A320 NEO\"},\"airline\":{\"name\":\"Lufthansa\"}},{\"movement\":{\"airport\":{\"icao\":\"LSZH\",\"iata\":\"ZRH\",\"name\":\"Zurich\"},\"scheduledTimeLocal\":\"2021-11-25 14:00+01:00\",\"scheduledTimeUtc\":\"2021-11-25 13:00Z\",\"terminal\":\"1\",\"quality\":[\"Basic\"]},\"number\":\"LX 966\",\"status\":\"Unknown\",\"codeshareStatus\":\"Unknown\",\"isCargo\":false,\"aircraft\":{\"model\":\"Airbus A320\"},\"airline\":{\"name\":\"SWISS\"}},{\"movement\":{\"airport\":{\"icao\":\"LEBL\",\"iata\":\"BCN\",\"name\":\"Barcelona\"},\"scheduledTimeLocal\":\"2021-11-25 14:10+01:00\",\"scheduledTimeUtc\":\"2021-11-25 13:10Z\",\"terminal\":\"1\",\"quality\":[\"Basic\"]},\"number\":\"VY 1882\",\"status\":\"Unknown\",\"codeshareStatus\":\"Unknown\",\"isCargo\":false,\"aircraft\":{\"model\":\"Airbus A320\"},\"airline\":{\"name\":\"Vueling\"}},{\"movement\":{\"airport\":{\"icao\":\"EGLC\",\"iata\":\"LCY\",\"name\":\"London\"},\"scheduledTimeLocal\":\"2021-11-25 15:55+01:00\",\"scheduledTimeUtc\":\"2021-11-25 14:55Z\",\"terminal\":\"1\",\"quality\":[\"Basic\"]},\"number\":\"BA 8493\",\"status\":\"Unknown\",\"codeshareStatus\":\"IsCodeshared\",\"isCargo\":false,\"aircraft\":{\"model\":\"Embraer 190\"},\"airline\":{\"name\":\"British Airways\"}},{\"movement\":{\"airport\":{\"icao\":\"EDDS\",\"iata\":\"STR\",\"name\":\"Stuttgart\"},\"scheduledTimeLocal\":\"2021-11-25 15:45+01:00\",\"scheduledTimeUtc\":\"2021-11-25 14:45Z\",\"terminal\":\"1\",\"quality\":[\"Basic\"]},\"number\":\"EW 2004\",\"status\":\"Unknown\",\"codeshareStatus\":\"Unknown\",\"isCargo\":false,\"aircraft\":{\"model\":\"Airbus A320\"},\"airline\":{\"name\":\"Eurowings\"}},{\"movement\":{\"airport\":{\"icao\":\"EDDL\",\"iata\":\"DUS\",\"name\":\"Duesseldorf\"},\"scheduledTimeLocal\":\"2021-11-25 15:50+01:00\",\"scheduledTimeUtc\":\"2021-11-25 14:50Z\",\"terminal\":\"1\",\"quality\":[\"Basic\"]},\"number\":\"EW 9042\",\"status\":\"Unknown\",\"codeshareStatus\":\"Unknown\",\"isCargo\":false,\"aircraft\":{\"reg\":\"D-AGWU\",\"model\":\"Airbus A320\"},\"airline\":{\"name\":\"Eurowings\"}},{\"movement\":{\"airport\":{\"icao\":\"EGCC\",\"iata\":\"MAN\",\"name\":\"Manchester\"},\"scheduledTimeLocal\":\"2021-11-25 15:35+01:00\",\"scheduledTimeUtc\":\"2021-11-25 14:35Z\",\"quality\":[\"Basic\"]},\"number\":\"FR 1145\",\"status\":\"Unknown\",\"codeshareStatus\":\"Unknown\",\"isCargo\":false,\"aircraft\":{\"model\":\"Boeing 737-800\"},\"airline\":{\"name\":\"Ryanair\"}},{\"movement\":{\"airport\":{\"icao\":\"LIPH\",\"iata\":\"TSF\",\"name\":\"Treviso\"},\"scheduledTimeLocal\":\"2021-11-25 15:05+01:00\",\"scheduledTimeUtc\":\"2021-11-25 14:05Z\",\"quality\":[\"Basic\"]},\"number\":\"FR 4721\",\"status\":\"Unknown\",\"codeshareStatus\":\"Unknown\",\"isCargo\":false,\"aircraft\":{\"model\":\"Boeing 737-800\"},\"airline\":{\"name\":\"Ryanair\"}},{\"movement\":{\"airport\":{\"icao\":\"LLBG\",\"iata\":\"TLV\",\"name\":\"Tel Aviv Yafo\"},\"scheduledTimeLocal\":\"2021-11-25 15:30+01:00\",\"scheduledTimeUtc\":\"2021-11-25 14:30Z\",\"quality\":[\"Basic\"]},\"number\":\"FR 6473\",\"status\":\"Unknown\",\"codeshareStatus\":\"Unknown\",\"isCargo\":false,\"aircraft\":{\"model\":\"Boeing 737-800\"},\"airline\":{\"name\":\"Ryanair\"}},{\"movement\":{\"airport\":{\"icao\":\"EDDF\",\"iata\":\"FRA\",\"name\":\"Frankfurt-am-Main\"},\"scheduledTimeLocal\":\"2021-11-25 15:55+01:00\",\"scheduledTimeUtc\":\"2021-11-25 14:55Z\",\"terminal\":\"1\",\"quality\":[\"Basic\"]},\"number\":\"LH 188\",\"status\":\"Unknown\",\"codeshareStatus\":\"IsCodeshared\",\"isCargo\":false,\"aircraft\":{\"model\":\"Airbus A321\"},\"airline\":{\"name\":\"Lufthansa\"}},{\"movement\":{\"airport\":{\"icao\":\"EDDM\",\"iata\":\"MUC\",\"name\":\"Munich\"},\"scheduledTimeLocal\":\"2021-11-25 15:25+01:00\",\"scheduledTimeUtc\":\"2021-11-25 14:25Z\",\"terminal\":\"1\",\"quality\":[\"Basic\"]},\"number\":\"LH 1944\",\"status\":\"Unknown\",\"codeshareStatus\":\"IsCodeshared\",\"isCargo\":false,\"aircraft\":{\"model\":\"Airbus A320\"},\"airline\":{\"name\":\"Lufthansa\"}},{\"movement\":{\"airport\":{\"icao\":\"LEMG\",\"iata\":\"AGP\",\"name\":\"Málaga\"},\"scheduledTimeLocal\":\"2021-11-25 15:30+01:00\",\"scheduledTimeUtc\":\"2021-11-25 14:30Z\",\"terminal\":\"1\",\"quality\":[\"Basic\"]},\"number\":\"U2 5914\",\"status\":\"Unknown\",\"codeshareStatus\":\"Unknown\",\"isCargo\":false,\"aircraft\":{\"model\":\"Airbus A320\"},\"airline\":{\"name\":\"easyJet\"}},{\"movement\":{\"airport\":{\"icao\":\"GCFV\",\"iata\":\"FUE\",\"name\":\"Fuerteventura Island\"},\"scheduledTimeLocal\":\"2021-11-25 16:55+01:00\",\"scheduledTimeUtc\":\"2021-11-25 15:55Z\",\"quality\":[\"Basic\"]},\"number\":\"FR 1102\",\"status\":\"Unknown\",\"codeshareStatus\":\"Unknown\",\"isCargo\":false,\"aircraft\":{\"model\":\"Boeing 737-800\"},\"airline\":{\"name\":\"Ryanair\"}},{\"movement\":{\"airport\":{\"icao\":\"LEPA\",\"iata\":\"PMI\",\"name\":\"Palma De Mallorca\"},\"scheduledTimeLocal\":\"2021-11-25 16:50+01:00\",\"scheduledTimeUtc\":\"2021-11-25 15:50Z\",\"quality\":[\"Basic\"]},\"number\":\"FR 111\",\"status\":\"Unknown\",\"codeshareStatus\":\"Unknown\",\"isCargo\":false,\"aircraft\":{\"model\":\"Boeing 737-800\"},\"airline\":{\"name\":\"Ryanair\"}},{\"movement\":{\"airport\":{\"icao\":\"LFML\",\"iata\":\"MRS\",\"name\":\"Marseille\"},\"scheduledTimeLocal\":\"2021-11-25 16:00+01:00\",\"scheduledTimeUtc\":\"2021-11-25 15:00Z\",\"quality\":[\"Basic\"]},\"number\":\"FR 8950\",\"status\":\"Unknown\",\"codeshareStatus\":\"Unknown\",\"isCargo\":false,\"aircraft\":{\"model\":\"Boeing 737-800\"},\"airline\":{\"name\":\"Ryanair\"}},{\"movement\":{\"airport\":{\"icao\":\"EHAM\",\"iata\":\"AMS\",\"name\":\"Amsterdam\"},\"scheduledTimeLocal\":\"2021-11-25 16:40+01:00\",\"scheduledTimeUtc\":\"2021-11-25 15:40Z\",\"terminal\":\"1\",\"quality\":[\"Basic\"]},\"number\":\"KL 1829\",\"status\":\"Unknown\",\"codeshareStatus\":\"IsOperator\",\"isCargo\":false,\"aircraft\":{\"model\":\"Embraer 190\"},\"airline\":{\"name\":\"KLM\"}},{\"movement\":{\"airport\":{\"icao\":\"EDDM\",\"iata\":\"MUC\",\"name\":\"Munich\"},\"scheduledTimeLocal\":\"2021-11-25 16:55+01:00\",\"scheduledTimeUtc\":\"2021-11-25 15:55Z\",\"terminal\":\"1\",\"quality\":[\"Basic\"]},\"number\":\"LH 1942\",\"status\":\"Unknown\",\"codeshareStatus\":\"IsCodeshared\",\"isCargo\":false,\"aircraft\":{\"model\":\"Airbus A320 NEO\"},\"airline\":{\"name\":\"Lufthansa\"}},{\"movement\":{\"airport\":{\"icao\":\"LOWW\",\"iata\":\"VIE\",\"name\":\"Vienna\"},\"scheduledTimeLocal\":\"2021-11-25 16:15+01:00\",\"scheduledTimeUtc\":\"2021-11-25 15:15Z\",\"terminal\":\"1\",\"quality\":[\"Basic\"]},\"number\":\"OS 231\",\"status\":\"Unknown\",\"codeshareStatus\":\"Unknown\",\"isCargo\":false,\"aircraft\":{\"model\":\"Airbus A320\"},\"airline\":{\"name\":\"Austrian\"}},{\"movement\":{\"airport\":{\"icao\":\"LPPT\",\"iata\":\"LIS\",\"name\":\"Lisbon\"},\"scheduledTimeLocal\":\"2021-11-25 16:35+01:00\",\"scheduledTimeUtc\":\"2021-11-25 15:35Z\",\"terminal\":\"1\",\"quality\":[\"Basic\"]},\"number\":\"TP 534\",\"status\":\"Unknown\",\"codeshareStatus\":\"Unknown\",\"isCargo\":false,\"aircraft\":{\"model\":\"Airbus A320\"},\"airline\":{\"name\":\"TAP Air Portugal\"}},{\"movement\":{\"airport\":{\"icao\":\"LLBG\",\"iata\":\"TLV\",\"name\":\"Tel Aviv Yafo\"},\"scheduledTimeLocal\":\"2021-11-25 16:45+01:00\",\"scheduledTimeUtc\":\"2021-11-25 15:45Z\",\"terminal\":\"1\",\"quality\":[\"Basic\"]},\"number\":\"U2 5202\",\"status\":\"Unknown\",\"codeshareStatus\":\"Unknown\",\"isCargo\":false,\"aircraft\":{\"model\":\"Airbus A320\"},\"airline\":{\"name\":\"easyJet\"}},{\"movement\":{\"airport\":{\"icao\":\"LFPG\",\"iata\":\"CDG\",\"name\":\"Paris\"},\"scheduledTimeLocal\":\"2021-11-25 17:10+01:00\",\"scheduledTimeUtc\":\"2021-11-25 16:10Z\",\"terminal\":\"1\",\"quality\":[\"Basic\"]},\"number\":\"AF 1834\",\"status\":\"Unknown\",\"codeshareStatus\":\"Unknown\",\"isCargo\":false,\"aircraft\":{\"model\":\"Airbus A320\"},\"airline\":{\"name\":\"Air France\"}},{\"movement\":{\"airport\":{\"icao\":\"HEGN\",\"iata\":\"HRG\",\"name\":\"Hurghada\"},\"scheduledTimeLocal\":\"2021-11-25 17:55+01:00\",\"scheduledTimeUtc\":\"2021-11-25 16:55Z\",\"terminal\":\"1\",\"quality\":[\"Basic\"]},\"number\":\"DE 433\",\"status\":\"Unknown\",\"codeshareStatus\":\"Unknown\",\"isCargo\":false,\"aircraft\":{\"model\":\"Airbus A321\"},\"airline\":{\"name\":\"Condor\"}},{\"movement\":{\"airport\":{\"icao\":\"EDDS\",\"iata\":\"STR\",\"name\":\"Stuttgart\"},\"scheduledTimeLocal\":\"2021-11-25 17:05+01:00\",\"scheduledTimeUtc\":\"2021-11-25 16:05Z\",\"terminal\":\"1\",\"quality\":[\"Basic\"]},\"number\":\"EW 2058\",\"status\":\"Unknown\",\"codeshareStatus\":\"Unknown\",\"isCargo\":false,\"aircraft\":{\"model\":\"Airbus A319\"},\"airline\":{\"name\":\"Eurowings\"}},{\"movement\":{\"airport\":{\"icao\":\"EDDK\",\"iata\":\"CGN\",\"name\":\"Cologne\"},\"scheduledTimeLocal\":\"2021-11-25 17:35+01:00\",\"scheduledTimeUtc\":\"2021-11-25 16:35Z\",\"terminal\":\"1\",\"quality\":[\"Basic\"]},\"number\":\"EW 6\",\"status\":\"Unknown\",\"codeshareStatus\":\"Unknown\",\"isCargo\":false,\"aircraft\":{\"model\":\"Airbus A320\"},\"airline\":{\"name\":\"Eurowings\"}},{\"movement\":{\"airport\":{\"icao\":\"EDDL\",\"iata\":\"DUS\",\"name\":\"Duesseldorf\"},\"scheduledTimeLocal\":\"2021-11-25 17:55+01:00\",\"scheduledTimeUtc\":\"2021-11-25 16:55Z\",\"terminal\":\"1\",\"quality\":[\"Basic\"]},\"number\":\"EW 8045\",\"status\":\"Unknown\",\"codeshareStatus\":\"Unknown\",\"isCargo\":false,\"aircraft\":{\"model\":\"Airbus A320\"},\"airline\":{\"name\":\"Eurowings\"}},{\"movement\":{\"airport\":{\"icao\":\"LYNI\",\"iata\":\"INI\",\"name\":\"Niš\"},\"scheduledTimeLocal\":\"2021-11-25 17:35+01:00\",\"scheduledTimeUtc\":\"2021-11-25 16:35Z\",\"quality\":[\"Basic\"]},\"number\":\"FR 1106\",\"status\":\"Unknown\",\"codeshareStatus\":\"Unknown\",\"isCargo\":false,\"aircraft\":{\"model\":\"Boeing 737-800\"},\"airline\":{\"name\":\"Ryanair\"}},{\"movement\":{\"airport\":{\"icao\":\"LEBL\",\"iata\":\"BCN\",\"name\":\"Barcelona\"},\"scheduledTimeLocal\":\"2021-11-25 17:00+01:00\",\"scheduledTimeUtc\":\"2021-11-25 16:00Z\",\"quality\":[\"Basic\"]},\"number\":\"FR 133\",\"status\":\"Unknown\",\"codeshareStatus\":\"Unknown\",\"isCargo\":false,\"aircraft\":{\"model\":\"Boeing 737-800\"},\"airline\":{\"name\":\"Ryanair\"}},{\"movement\":{\"airport\":{\"icao\":\"GCTS\",\"iata\":\"TFS\",\"name\":\"Tenerife Island\"},\"scheduledTimeLocal\":\"2021-11-25 17:15+01:00\",\"scheduledTimeUtc\":\"2021-11-25 16:15Z\",\"quality\":[\"Basic\"]},\"number\":\"FR 4067\",\"status\":\"Unknown\",\"codeshareStatus\":\"Unknown\",\"isCargo\":false,\"aircraft\":{\"model\":\"Boeing 737-800\"},\"airline\":{\"name\":\"Ryanair\"}},{\"movement\":{\"airport\":{\"icao\":\"EDDF\",\"iata\":\"FRA\",\"name\":\"Frankfurt-am-Main\"},\"scheduledTimeLocal\":\"2021-11-25 17:55+01:00\",\"scheduledTimeUtc\":\"2021-11-25 16:55Z\",\"terminal\":\"1\",\"quality\":[\"Basic\"]},\"number\":\"LH 192\",\"status\":\"Unknown\",\"codeshareStatus\":\"IsCodeshared\",\"isCargo\":false,\"aircraft\":{\"model\":\"Airbus A320\"},\"airline\":{\"name\":\"Lufthansa\"}},{\"movement\":{\"airport\":{\"icao\":\"EDDM\",\"iata\":\"MUC\",\"name\":\"Munich\"},\"scheduledTimeLocal\":\"2021-11-25 17:40+01:00\",\"scheduledTimeUtc\":\"2021-11-25 16:40Z\",\"terminal\":\"1\",\"quality\":[\"Basic\"]},\"number\":\"LH 1946\",\"status\":\"Unknown\",\"codeshareStatus\":\"IsCodeshared\",\"isCargo\":false,\"aircraft\":{\"model\":\"Bombardier CRJ900\"},\"airline\":{\"name\":\"Lufthansa\"}},{\"movement\":{\"airport\":{\"icao\":\"EPWA\",\"iata\":\"WAW\",\"name\":\"Warsaw\"},\"scheduledTimeLocal\":\"2021-11-25 17:45+01:00\",\"scheduledTimeUtc\":\"2021-11-25 16:45Z\",\"terminal\":\"1\",\"quality\":[\"Basic\"]},\"number\":\"LO 389\",\"status\":\"Unknown\",\"codeshareStatus\":\"Unknown\",\"isCargo\":false,\"aircraft\":{\"model\":\"Embraer 175\"},\"airline\":{\"name\":\"LOT - Polish\"}},{\"movement\":{\"airport\":{\"icao\":\"EBBR\",\"iata\":\"BRU\",\"name\":\"Brussels\"},\"scheduledTimeLocal\":\"2021-11-25 17:50+01:00\",\"scheduledTimeUtc\":\"2021-11-25 16:50Z\",\"terminal\":\"1\",\"quality\":[\"Basic\"]},\"number\":\"SN 2587\",\"status\":\"Unknown\",\"codeshareStatus\":\"Unknown\",\"isCargo\":false,\"aircraft\":{\"model\":\"Airbus A320\"},\"airline\":{\"name\":\"Brussels\"}},{\"movement\":{\"airport\":{\"icao\":\"LTFM\",\"iata\":\"IST\",\"name\":\"Istanbul\"},\"scheduledTimeLocal\":\"2021-11-25 17:30+01:00\",\"scheduledTimeUtc\":\"2021-11-25 16:30Z\",\"terminal\":\"1\",\"quality\":[\"Basic\"]},\"number\":\"TK 1723\",\"status\":\"Unknown\",\"codeshareStatus\":\"Unknown\",\"isCargo\":false,\"aircraft\":{\"model\":\"Airbus A321\"},\"airline\":{\"name\":\"Turkish\"}},{\"movement\":{\"airport\":{\"icao\":\"EFHK\",\"iata\":\"HEL\",\"name\":\"Helsinki\"},\"scheduledTimeLocal\":\"2021-11-25 18:25+01:00\",\"scheduledTimeUtc\":\"2021-11-25 17:25Z\",\"terminal\":\"1\",\"quality\":[\"Basic\"]},\"number\":\"AY 1435\",\"status\":\"Unknown\",\"codeshareStatus\":\"Unknown\",\"isCargo\":false,\"aircraft\":{\"model\":\"Airbus A320\"},\"airline\":{\"name\":\"Finnair\"}},{\"movement\":{\"airport\":{\"icao\":\"EGLL\",\"iata\":\"LHR\",\"name\":\"London\"},\"scheduledTimeLocal\":\"2021-11-25 18:50+01:00\",\"scheduledTimeUtc\":\"2021-11-25 17:50Z\",\"terminal\":\"1\",\"quality\":[\"Basic\"]},\"number\":\"BA 986\",\"status\":\"Unknown\",\"codeshareStatus\":\"IsCodeshared\",\"isCargo\":false,\"aircraft\":{\"model\":\"Airbus A319\"},\"airline\":{\"name\":\"British Airways\"}},{\"movement\":{\"airport\":{\"icao\":\"GCFV\",\"iata\":\"FUE\",\"name\":\"Fuerteventura Island\"},\"scheduledTimeLocal\":\"2021-11-25 18:20+01:00\",\"scheduledTimeUtc\":\"2021-11-25 17:20Z\",\"terminal\":\"1\",\"quality\":[\"Basic\"]},\"number\":\"EW 8181\",\"status\":\"Unknown\",\"codeshareStatus\":\"Unknown\",\"isCargo\":false,\"aircraft\":{\"model\":\"Airbus A320\"},\"airline\":{\"name\":\"Eurowings\"}},{\"movement\":{\"airport\":{\"icao\":\"EYVI\",\"iata\":\"VNO\",\"name\":\"Vilnius\"},\"scheduledTimeLocal\":\"2021-11-25 18:10+01:00\",\"scheduledTimeUtc\":\"2021-11-25 17:10Z\",\"quality\":[\"Basic\"]},\"number\":\"FR 1571\",\"status\":\"Unknown\",\"codeshareStatus\":\"Unknown\",\"isCargo\":false,\"aircraft\":{\"model\":\"Boeing 737-800\"},\"airline\":{\"name\":\"Ryanair\"}},{\"movement\":{\"airport\":{\"icao\":\"EIDW\",\"iata\":\"DUB\",\"name\":\"Dublin\"},\"scheduledTimeLocal\":\"2021-11-25 18:40+01:00\",\"scheduledTimeUtc\":\"2021-11-25 17:40Z\",\"quality\":[\"Basic\"]},\"number\":\"FR 8558\",\"status\":\"Unknown\",\"codeshareStatus\":\"Unknown\",\"isCargo\":false,\"aircraft\":{\"model\":\"Boeing 737-800\"},\"airline\":{\"name\":\"Ryanair\"}},{\"movement\":{\"airport\":{\"icao\":\"EHAM\",\"iata\":\"AMS\",\"name\":\"Amsterdam\"},\"scheduledTimeLocal\":\"2021-11-25 18:00+01:00\",\"scheduledTimeUtc\":\"2021-11-25 17:00Z\",\"terminal\":\"1\",\"quality\":[\"Basic\"]},\"number\":\"KL 1831\",\"status\":\"Unknown\",\"codeshareStatus\":\"IsOperator\",\"isCargo\":false,\"aircraft\":{\"model\":\"Embraer 190\"},\"airline\":{\"name\":\"KLM\"}},{\"movement\":{\"airport\":{\"icao\":\"EDDF\",\"iata\":\"FRA\",\"name\":\"Frankfurt-am-Main\"},\"scheduledTimeLocal\":\"2021-11-25 18:55+01:00\",\"scheduledTimeUtc\":\"2021-11-25 17:55Z\",\"terminal\":\"1\",\"quality\":[\"Basic\"]},\"number\":\"LH 194\",\"status\":\"Unknown\",\"codeshareStatus\":\"IsCodeshared\",\"isCargo\":false,\"aircraft\":{\"model\":\"Airbus A320 NEO\"},\"airline\":{\"name\":\"Lufthansa\"}},{\"movement\":{\"airport\":{\"icao\":\"EDDM\",\"iata\":\"MUC\",\"name\":\"Munich\"},\"scheduledTimeLocal\":\"2021-11-25 18:10+01:00\",\"scheduledTimeUtc\":\"2021-11-25 17:10Z\",\"terminal\":\"1\",\"quality\":[\"Basic\"]},\"number\":\"LH 1948\",\"status\":\"Unknown\",\"codeshareStatus\":\"IsCodeshared\",\"isCargo\":false,\"aircraft\":{\"model\":\"Airbus A320 NEO\"},\"airline\":{\"name\":\"Lufthansa\"}},{\"movement\":{\"airport\":{\"icao\":\"LSZH\",\"iata\":\"ZRH\",\"name\":\"Zurich\"},\"scheduledTimeLocal\":\"2021-11-25 18:55+01:00\",\"scheduledTimeUtc\":\"2021-11-25 17:55Z\",\"terminal\":\"1\",\"quality\":[\"Basic\"]},\"number\":\"LX 970\",\"status\":\"Unknown\",\"codeshareStatus\":\"Unknown\",\"isCargo\":false,\"aircraft\":{\"model\":\"Airbus A220-300\"},\"airline\":{\"name\":\"SWISS\"}},{\"movement\":{\"airport\":{\"icao\":\"LOWW\",\"iata\":\"VIE\",\"name\":\"Vienna\"},\"scheduledTimeLocal\":\"2021-11-25 18:40+01:00\",\"scheduledTimeUtc\":\"2021-11-25 17:40Z\",\"terminal\":\"1\",\"quality\":[\"Basic\"]},\"number\":\"OS 235\",\"status\":\"Unknown\",\"codeshareStatus\":\"Unknown\",\"isCargo\":false,\"aircraft\":{\"model\":\"Airbus A320\"},\"airline\":{\"name\":\"Austrian\"}},{\"movement\":{\"airport\":{\"name\":\"Amsterdam\"},\"scheduledTimeLocal\":\"2021-11-25 18:10+01:00\",\"scheduledTimeUtc\":\"2021-11-25 17:10Z\",\"terminal\":\"1\",\"quality\":[\"Basic\"]},\"number\":\"U2 5106\",\"status\":\"Unknown\",\"codeshareStatus\":\"Unknown\",\"isCargo\":false,\"aircraft\":{\"model\":\"Airbus A319\"},\"airline\":{\"name\":\"easyJet\"}},{\"movement\":{\"airport\":{\"icao\":\"UKKK\",\"iata\":\"IEV\",\"name\":\"Kiev\"},\"scheduledTimeLocal\":\"2021-11-25 18:45+01:00\",\"scheduledTimeUtc\":\"2021-11-25 17:45Z\",\"terminal\":\"0\",\"quality\":[\"Basic\"]},\"number\":\"W6 6113\",\"status\":\"Unknown\",\"codeshareStatus\":\"Unknown\",\"isCargo\":false,\"aircraft\":{\"model\":\"Airbus A320\"},\"airline\":{\"name\":\"Wizz Air\"}},{\"movement\":{\"airport\":{\"icao\":\"EVRA\",\"iata\":\"RIX\",\"name\":\"Riga\"},\"scheduledTimeLocal\":\"2021-11-25 19:00+01:00\",\"scheduledTimeUtc\":\"2021-11-25 18:00Z\",\"terminal\":\"1\",\"quality\":[\"Basic\"]},\"number\":\"BT 213\",\"status\":\"Unknown\",\"codeshareStatus\":\"Unknown\",\"isCargo\":false,\"aircraft\":{\"model\":\"Airbus A220-300\"},\"airline\":{\"name\":\"Air Baltic\"}},{\"movement\":{\"airport\":{\"icao\":\"GCFV\",\"iata\":\"FUE\",\"name\":\"Fuerteventura Island\"},\"scheduledTimeLocal\":\"2021-11-25 19:00+01:00\",\"scheduledTimeUtc\":\"2021-11-25 18:00Z\",\"terminal\":\"1\",\"quality\":[\"Basic\"]},\"number\":\"U2 5924\",\"status\":\"Unknown\",\"codeshareStatus\":\"Unknown\",\"isCargo\":false,\"aircraft\":{\"model\":\"Airbus A320\"},\"airline\":{\"name\":\"easyJet\"}}]}\n"
     ]
    }
   ],
   "source": [
    "# These are only the very first hours from 07:00 till 19:00\n",
    "# Between 00:00 and 07:00 there were no flights found in Berlin.\n",
    "\n",
    "url_one = \"https://aerodatabox.p.rapidapi.com/flights/airports/icao/EDDB/2021-11-25T07:00/2021-11-25T19:00\"\n",
    "\n",
    "querystring = {\"direction\":\"Arrival\",\"withPrivate\":\"true\"}\n",
    "\n",
    "headers = {\n",
    "    'x-rapidapi-host': \"aerodatabox.p.rapidapi.com\",\n",
    "    'x-rapidapi-key': \"d60bcb4130msh4eef02db400fd9fp125f8ejsnb836c3b3a687\"\n",
    "    }\n",
    "\n",
    "response_one = requests.request(\"GET\", url_one, headers=headers, params=querystring)\n",
    "\n",
    "print(response_one.text)"
   ]
  },
  {
   "cell_type": "markdown",
   "id": "f883280c-78ca-4c26-9e10-aa30cd628784",
   "metadata": {},
   "source": [
    "## Flight schedule two :"
   ]
  },
  {
   "cell_type": "code",
   "execution_count": 10,
   "id": "a728e904-be7c-4907-92d3-e06fee0f5ec3",
   "metadata": {
    "collapsed": true,
    "jupyter": {
     "outputs_hidden": true
    },
    "tags": []
   },
   "outputs": [
    {
     "name": "stdout",
     "output_type": "stream",
     "text": [
      "{\"arrivals\":[{\"movement\":{\"airport\":{\"icao\":\"LFPG\",\"iata\":\"CDG\",\"name\":\"Paris\"},\"scheduledTimeLocal\":\"2021-11-25 19:35+01:00\",\"scheduledTimeUtc\":\"2021-11-25 18:35Z\",\"terminal\":\"1\",\"quality\":[\"Basic\"]},\"number\":\"AF 1534\",\"status\":\"Unknown\",\"codeshareStatus\":\"Unknown\",\"isCargo\":false,\"aircraft\":{\"model\":\"Airbus A318\"},\"airline\":{\"name\":\"Air France\"}},{\"movement\":{\"airport\":{\"icao\":\"EGLC\",\"iata\":\"LCY\",\"name\":\"London\"},\"scheduledTimeLocal\":\"2021-11-25 19:30+01:00\",\"scheduledTimeUtc\":\"2021-11-25 18:30Z\",\"terminal\":\"1\",\"quality\":[\"Basic\"]},\"number\":\"BA 8743\",\"status\":\"Unknown\",\"codeshareStatus\":\"IsCodeshared\",\"isCargo\":false,\"aircraft\":{\"model\":\"Embraer 190\"},\"airline\":{\"name\":\"British Airways\"}},{\"movement\":{\"airport\":{\"icao\":\"EDDR\",\"iata\":\"SCN\",\"name\":\"Saarbrücken\"},\"scheduledTimeLocal\":\"2021-11-25 19:10+01:00\",\"scheduledTimeUtc\":\"2021-11-25 18:10Z\",\"terminal\":\"0\",\"quality\":[\"Basic\"]},\"number\":\"DX 125\",\"status\":\"Unknown\",\"codeshareStatus\":\"Unknown\",\"isCargo\":false,\"aircraft\":{\"model\":\"ATR 72\"},\"airline\":{\"name\":\"Danish Air\"}},{\"movement\":{\"airport\":{\"icao\":\"ENGM\",\"iata\":\"OSL\",\"name\":\"Oslo\"},\"scheduledTimeLocal\":\"2021-11-25 19:35+01:00\",\"scheduledTimeUtc\":\"2021-11-25 18:35Z\",\"terminal\":\"1\",\"quality\":[\"Basic\"]},\"number\":\"DY 1108\",\"status\":\"Unknown\",\"codeshareStatus\":\"Unknown\",\"isCargo\":false,\"aircraft\":{\"model\":\"Boeing 737-800\"},\"airline\":{\"name\":\"Norwegian Air Shuttle\"}},{\"movement\":{\"airport\":{\"icao\":\"LIRA\",\"iata\":\"CIA\",\"name\":\"Roma\"},\"scheduledTimeLocal\":\"2021-11-25 19:55+01:00\",\"scheduledTimeUtc\":\"2021-11-25 18:55Z\",\"quality\":[\"Basic\"]},\"number\":\"FR 141\",\"status\":\"Unknown\",\"codeshareStatus\":\"Unknown\",\"isCargo\":false,\"aircraft\":{\"model\":\"Boeing 737-800\"},\"airline\":{\"name\":\"Ryanair\"}},{\"movement\":{\"airport\":{\"icao\":\"LEMG\",\"iata\":\"AGP\",\"name\":\"Málaga\"},\"scheduledTimeLocal\":\"2021-11-25 19:40+01:00\",\"scheduledTimeUtc\":\"2021-11-25 18:40Z\",\"quality\":[\"Basic\"]},\"number\":\"FR 2591\",\"status\":\"Unknown\",\"codeshareStatus\":\"Unknown\",\"isCargo\":false,\"aircraft\":{\"model\":\"Boeing 737-800\"},\"airline\":{\"name\":\"Ryanair\"}},{\"movement\":{\"airport\":{\"icao\":\"EETN\",\"iata\":\"TLL\",\"name\":\"Tallinn\"},\"scheduledTimeLocal\":\"2021-11-25 19:10+01:00\",\"scheduledTimeUtc\":\"2021-11-25 18:10Z\",\"quality\":[\"Basic\"]},\"number\":\"FR 2733\",\"status\":\"Unknown\",\"codeshareStatus\":\"Unknown\",\"isCargo\":false,\"aircraft\":{\"model\":\"Boeing 737-800\"},\"airline\":{\"name\":\"Ryanair\"}},{\"movement\":{\"airport\":{\"icao\":\"LEMD\",\"iata\":\"MAD\",\"name\":\"Madrid\"},\"scheduledTimeLocal\":\"2021-11-25 19:05+01:00\",\"scheduledTimeUtc\":\"2021-11-25 18:05Z\",\"terminal\":\"1\",\"quality\":[\"Basic\"]},\"number\":\"IB 3672\",\"status\":\"Unknown\",\"codeshareStatus\":\"Unknown\",\"isCargo\":false,\"aircraft\":{\"model\":\"Airbus A320\"},\"airline\":{\"name\":\"Iberia\"}},{\"movement\":{\"airport\":{\"icao\":\"EDDF\",\"iata\":\"FRA\",\"name\":\"Frankfurt-am-Main\"},\"scheduledTimeLocal\":\"2021-11-25 19:55+01:00\",\"scheduledTimeUtc\":\"2021-11-25 18:55Z\",\"terminal\":\"1\",\"quality\":[\"Basic\"]},\"number\":\"LH 190\",\"status\":\"Unknown\",\"codeshareStatus\":\"IsCodeshared\",\"isCargo\":false,\"aircraft\":{\"model\":\"Airbus A320\"},\"airline\":{\"name\":\"Lufthansa\"}},{\"movement\":{\"airport\":{\"icao\":\"EDDM\",\"iata\":\"MUC\",\"name\":\"Munich\"},\"scheduledTimeLocal\":\"2021-11-25 19:15+01:00\",\"scheduledTimeUtc\":\"2021-11-25 18:15Z\",\"terminal\":\"1\",\"quality\":[\"Basic\"]},\"number\":\"LH 2330\",\"status\":\"Unknown\",\"codeshareStatus\":\"Unknown\",\"isCargo\":false,\"aircraft\":{\"model\":\"Airbus A320\"},\"airline\":{\"name\":\"Lufthansa\"}},{\"movement\":{\"airport\":{\"icao\":\"LSZH\",\"iata\":\"ZRH\",\"name\":\"Zurich\"},\"scheduledTimeLocal\":\"2021-11-25 19:45+01:00\",\"scheduledTimeUtc\":\"2021-11-25 18:45Z\",\"terminal\":\"1\",\"quality\":[\"Basic\"]},\"number\":\"LX 978\",\"status\":\"Unknown\",\"codeshareStatus\":\"Unknown\",\"isCargo\":false,\"aircraft\":{\"model\":\"Airbus A320 NEO\"},\"airline\":{\"name\":\"SWISS\"}},{\"movement\":{\"airport\":{\"icao\":\"LLBG\",\"iata\":\"TLV\",\"name\":\"Tel Aviv Yafo\"},\"scheduledTimeLocal\":\"2021-11-25 19:50+01:00\",\"scheduledTimeUtc\":\"2021-11-25 18:50Z\",\"terminal\":\"1\",\"quality\":[\"Basic\"]},\"number\":\"LY 2373\",\"status\":\"Unknown\",\"codeshareStatus\":\"Unknown\",\"isCargo\":false,\"aircraft\":{\"model\":\"Boeing 737-800\"},\"airline\":{\"name\":\"El Al\"}},{\"movement\":{\"airport\":{\"icao\":\"EDDS\",\"iata\":\"STR\",\"name\":\"Stuttgart\"},\"scheduledTimeLocal\":\"2021-11-25 20:05+01:00\",\"scheduledTimeUtc\":\"2021-11-25 19:05Z\",\"terminal\":\"1\",\"quality\":[\"Basic\"]},\"number\":\"EW 2006\",\"status\":\"Unknown\",\"codeshareStatus\":\"Unknown\",\"isCargo\":false,\"aircraft\":{\"model\":\"Airbus A319\"},\"airline\":{\"name\":\"Eurowings\"}},{\"movement\":{\"airport\":{\"icao\":\"EDDL\",\"iata\":\"DUS\",\"name\":\"Duesseldorf\"},\"scheduledTimeLocal\":\"2021-11-25 20:05+01:00\",\"scheduledTimeUtc\":\"2021-11-25 19:05Z\",\"terminal\":\"1\",\"quality\":[\"Basic\"]},\"number\":\"EW 9044\",\"status\":\"Unknown\",\"codeshareStatus\":\"Unknown\",\"isCargo\":false,\"aircraft\":{\"model\":\"Airbus A320\"},\"airline\":{\"name\":\"Eurowings\"}},{\"movement\":{\"airport\":{\"icao\":\"ELLX\",\"iata\":\"LUX\",\"name\":\"Luxembourg\"},\"scheduledTimeLocal\":\"2021-11-25 20:10+01:00\",\"scheduledTimeUtc\":\"2021-11-25 19:10Z\",\"terminal\":\"1\",\"quality\":[\"Basic\"]},\"number\":\"LG 9473\",\"status\":\"Unknown\",\"codeshareStatus\":\"Unknown\",\"isCargo\":false,\"aircraft\":{\"model\":\"Bombardier Dash 8 Q400 / DHC-8-400\"},\"airline\":{\"name\":\"Luxair\"}},{\"movement\":{\"airport\":{\"icao\":\"EDDM\",\"iata\":\"MUC\",\"name\":\"Munich\"},\"scheduledTimeLocal\":\"2021-11-25 20:10+01:00\",\"scheduledTimeUtc\":\"2021-11-25 19:10Z\",\"terminal\":\"1\",\"quality\":[\"Basic\"]},\"number\":\"LH 1954\",\"status\":\"Unknown\",\"codeshareStatus\":\"IsCodeshared\",\"isCargo\":false,\"aircraft\":{\"model\":\"Airbus A320 NEO\"},\"airline\":{\"name\":\"Lufthansa\"}},{\"movement\":{\"airport\":{\"icao\":\"BIKF\",\"iata\":\"KEF\",\"name\":\"Reykjavik\"},\"scheduledTimeLocal\":\"2021-11-25 20:00+01:00\",\"scheduledTimeUtc\":\"2021-11-25 19:00Z\",\"terminal\":\"1\",\"quality\":[\"Basic\"]},\"number\":\"OG 704\",\"status\":\"Unknown\",\"codeshareStatus\":\"Unknown\",\"isCargo\":false,\"aircraft\":{\"model\":\"Airbus A320\"},\"airline\":{\"name\":\"Ghodawat Enterprises\"}},{\"movement\":{\"airport\":{\"icao\":\"LOWW\",\"iata\":\"VIE\",\"name\":\"Vienna\"},\"scheduledTimeLocal\":\"2021-11-25 20:20+01:00\",\"scheduledTimeUtc\":\"2021-11-25 19:20Z\",\"terminal\":\"1\",\"quality\":[\"Basic\"]},\"number\":\"OS 237\",\"status\":\"Unknown\",\"codeshareStatus\":\"Unknown\",\"isCargo\":false,\"aircraft\":{\"model\":\"Airbus A320\"},\"airline\":{\"name\":\"Austrian\"}},{\"movement\":{\"airport\":{\"icao\":\"LFPG\",\"iata\":\"CDG\",\"name\":\"Paris\"},\"scheduledTimeLocal\":\"2021-11-25 20:05+01:00\",\"scheduledTimeUtc\":\"2021-11-25 19:05Z\",\"terminal\":\"1\",\"quality\":[\"Basic\"]},\"number\":\"U2 5676\",\"status\":\"Unknown\",\"codeshareStatus\":\"Unknown\",\"isCargo\":false,\"aircraft\":{\"model\":\"Airbus A320\"},\"airline\":{\"name\":\"easyJet\"}},{\"movement\":{\"airport\":{\"icao\":\"LSZH\",\"iata\":\"ZRH\",\"name\":\"Zurich\"},\"scheduledTimeLocal\":\"2021-11-25 20:50+01:00\",\"scheduledTimeUtc\":\"2021-11-25 19:50Z\",\"terminal\":\"1\",\"quality\":[\"Basic\"]},\"number\":\"U2 5868\",\"status\":\"Unknown\",\"codeshareStatus\":\"Unknown\",\"isCargo\":false,\"aircraft\":{\"model\":\"Airbus A319\"},\"airline\":{\"name\":\"easyJet\"}},{\"movement\":{\"airport\":{\"icao\":\"EGGD\",\"iata\":\"BRS\",\"name\":\"Bristol\"},\"scheduledTimeLocal\":\"2021-11-25 20:40+01:00\",\"scheduledTimeUtc\":\"2021-11-25 19:40Z\",\"terminal\":\"1\",\"quality\":[\"Basic\"]},\"number\":\"U2 6237\",\"status\":\"Unknown\",\"codeshareStatus\":\"Unknown\",\"isCargo\":false,\"aircraft\":{\"model\":\"Airbus A320\"},\"airline\":{\"name\":\"easyJet\"}},{\"movement\":{\"airport\":{\"icao\":\"EGLC\",\"iata\":\"LCY\",\"name\":\"London\"},\"scheduledTimeLocal\":\"2021-11-25 21:10+01:00\",\"scheduledTimeUtc\":\"2021-11-25 20:10Z\",\"terminal\":\"1\",\"quality\":[\"Basic\"]},\"number\":\"BA 8495\",\"status\":\"Unknown\",\"codeshareStatus\":\"IsCodeshared\",\"isCargo\":false,\"aircraft\":{\"model\":\"Embraer 190\"},\"airline\":{\"name\":\"British Airways\"}},{\"movement\":{\"airport\":{\"icao\":\"EGLL\",\"iata\":\"LHR\",\"name\":\"London\"},\"scheduledTimeLocal\":\"2021-11-25 21:45+01:00\",\"scheduledTimeUtc\":\"2021-11-25 20:45Z\",\"terminal\":\"1\",\"quality\":[\"Basic\"]},\"number\":\"BA 988\",\"status\":\"Unknown\",\"codeshareStatus\":\"IsCodeshared\",\"isCargo\":false,\"aircraft\":{\"model\":\"Airbus A320\"},\"airline\":{\"name\":\"British Airways\"}},{\"movement\":{\"airport\":{\"icao\":\"ENBR\",\"iata\":\"BGO\",\"name\":\"Bergen\"},\"scheduledTimeLocal\":\"2021-11-25 21:20+01:00\",\"scheduledTimeUtc\":\"2021-11-25 20:20Z\",\"terminal\":\"1\",\"quality\":[\"Basic\"]},\"number\":\"DY 1160\",\"status\":\"Unknown\",\"codeshareStatus\":\"Unknown\",\"isCargo\":false,\"aircraft\":{\"model\":\"Boeing 737-800\"},\"airline\":{\"name\":\"Norwegian Air Shuttle\"}},{\"movement\":{\"airport\":{\"icao\":\"EDDL\",\"iata\":\"DUS\",\"name\":\"Duesseldorf\"},\"scheduledTimeLocal\":\"2021-11-25 21:45+01:00\",\"scheduledTimeUtc\":\"2021-11-25 20:45Z\",\"terminal\":\"1\",\"quality\":[\"Basic\"]},\"number\":\"EW 8047\",\"status\":\"Unknown\",\"codeshareStatus\":\"Unknown\",\"isCargo\":false,\"aircraft\":{\"model\":\"Airbus A320\"},\"airline\":{\"name\":\"Eurowings\"}},{\"movement\":{\"airport\":{\"icao\":\"EDDK\",\"iata\":\"CGN\",\"name\":\"Cologne\"},\"scheduledTimeLocal\":\"2021-11-25 21:40+01:00\",\"scheduledTimeUtc\":\"2021-11-25 20:40Z\",\"terminal\":\"1\",\"quality\":[\"Basic\"]},\"number\":\"EW 8055\",\"status\":\"Unknown\",\"codeshareStatus\":\"Unknown\",\"isCargo\":false,\"aircraft\":{\"model\":\"Airbus A320\"},\"airline\":{\"name\":\"Eurowings\"}},{\"movement\":{\"airport\":{\"icao\":\"LGTS\",\"iata\":\"SKG\",\"name\":\"Thessaloniki\"},\"scheduledTimeLocal\":\"2021-11-25 21:45+01:00\",\"scheduledTimeUtc\":\"2021-11-25 20:45Z\",\"quality\":[\"Basic\"]},\"number\":\"FR 1147\",\"status\":\"Unknown\",\"codeshareStatus\":\"Unknown\",\"isCargo\":false,\"aircraft\":{\"model\":\"Boeing 737-800\"},\"airline\":{\"name\":\"Ryanair\"}},{\"movement\":{\"airport\":{\"icao\":\"LROP\",\"iata\":\"OTP\",\"name\":\"Bucharest\"},\"scheduledTimeLocal\":\"2021-11-25 21:30+01:00\",\"scheduledTimeUtc\":\"2021-11-25 20:30Z\",\"quality\":[\"Basic\"]},\"number\":\"FR 328\",\"status\":\"Unknown\",\"codeshareStatus\":\"Unknown\",\"isCargo\":false,\"aircraft\":{\"model\":\"Boeing 737-800\"},\"airline\":{\"name\":\"Ryanair\"}},{\"movement\":{\"airport\":{\"icao\":\"EHAM\",\"iata\":\"AMS\",\"name\":\"Amsterdam\"},\"scheduledTimeLocal\":\"2021-11-25 21:55+01:00\",\"scheduledTimeUtc\":\"2021-11-25 20:55Z\",\"terminal\":\"1\",\"quality\":[\"Basic\"]},\"number\":\"KL 1835\",\"status\":\"Unknown\",\"codeshareStatus\":\"IsOperator\",\"isCargo\":false,\"aircraft\":{\"reg\":\"PH-BGX\",\"model\":\"Boeing 737-800\"},\"airline\":{\"name\":\"KLM\"}},{\"movement\":{\"airport\":{\"icao\":\"EHAM\",\"iata\":\"AMS\",\"name\":\"Amsterdam\"},\"scheduledTimeLocal\":\"2021-11-25 21:30+01:00\",\"scheduledTimeUtc\":\"2021-11-25 20:30Z\",\"terminal\":\"1\",\"quality\":[\"Basic\"]},\"number\":\"U2 5108\",\"status\":\"Unknown\",\"codeshareStatus\":\"Unknown\",\"isCargo\":false,\"aircraft\":{\"model\":\"Airbus A319\"},\"airline\":{\"name\":\"easyJet\"}},{\"movement\":{\"airport\":{\"icao\":\"ESSA\",\"iata\":\"ARN\",\"name\":\"Stockholm\"},\"scheduledTimeLocal\":\"2021-11-25 21:50+01:00\",\"scheduledTimeUtc\":\"2021-11-25 20:50Z\",\"terminal\":\"1\",\"quality\":[\"Basic\"]},\"number\":\"U2 5216\",\"status\":\"Unknown\",\"codeshareStatus\":\"Unknown\",\"isCargo\":false,\"aircraft\":{\"model\":\"Airbus A320\"},\"airline\":{\"name\":\"easyJet\"}},{\"movement\":{\"airport\":{\"name\":\"Rome\"},\"scheduledTimeLocal\":\"2021-11-25 21:30+01:00\",\"scheduledTimeUtc\":\"2021-11-25 20:30Z\",\"terminal\":\"1\",\"quality\":[\"Basic\"]},\"number\":\"U2 5708\",\"status\":\"Unknown\",\"codeshareStatus\":\"Unknown\",\"isCargo\":false,\"aircraft\":{\"model\":\"Airbus A320\"},\"airline\":{\"name\":\"easyJet\"}},{\"movement\":{\"airport\":{\"icao\":\"LIPZ\",\"iata\":\"VCE\",\"name\":\"Venice\"},\"scheduledTimeLocal\":\"2021-11-25 21:45+01:00\",\"scheduledTimeUtc\":\"2021-11-25 20:45Z\",\"terminal\":\"1\",\"quality\":[\"Basic\"]},\"number\":\"U2 5838\",\"status\":\"Unknown\",\"codeshareStatus\":\"Unknown\",\"isCargo\":false,\"aircraft\":{\"model\":\"Airbus A320\"},\"airline\":{\"name\":\"easyJet\"}},{\"movement\":{\"airport\":{\"icao\":\"EGKK\",\"iata\":\"LGW\",\"name\":\"London\"},\"scheduledTimeLocal\":\"2021-11-25 21:00+01:00\",\"scheduledTimeUtc\":\"2021-11-25 20:00Z\",\"terminal\":\"1\",\"quality\":[\"Basic\"]},\"number\":\"U2 8125\",\"status\":\"Unknown\",\"codeshareStatus\":\"Unknown\",\"isCargo\":false,\"aircraft\":{\"model\":\"Airbus A320\"},\"airline\":{\"name\":\"easyJet\"}},{\"movement\":{\"airport\":{\"icao\":\"LFPG\",\"iata\":\"CDG\",\"name\":\"Paris\"},\"scheduledTimeLocal\":\"2021-11-25 22:40+01:00\",\"scheduledTimeUtc\":\"2021-11-25 21:40Z\",\"terminal\":\"1\",\"quality\":[\"Basic\"]},\"number\":\"AF 1134\",\"status\":\"Unknown\",\"codeshareStatus\":\"Unknown\",\"isCargo\":false,\"aircraft\":{\"model\":\"Airbus A320\"},\"airline\":{\"name\":\"Air France\"}},{\"movement\":{\"airport\":{\"icao\":\"EDDS\",\"iata\":\"STR\",\"name\":\"Stuttgart\"},\"scheduledTimeLocal\":\"2021-11-25 22:25+01:00\",\"scheduledTimeUtc\":\"2021-11-25 21:25Z\",\"terminal\":\"1\",\"quality\":[\"Basic\"]},\"number\":\"EW 8007\",\"status\":\"Unknown\",\"codeshareStatus\":\"Unknown\",\"isCargo\":false,\"aircraft\":{\"model\":\"Airbus A320\"},\"airline\":{\"name\":\"Eurowings\"}},{\"movement\":{\"airport\":{\"icao\":\"LPPT\",\"iata\":\"LIS\",\"name\":\"Lisbon\"},\"scheduledTimeLocal\":\"2021-11-25 22:15+01:00\",\"scheduledTimeUtc\":\"2021-11-25 21:15Z\",\"quality\":[\"Basic\"]},\"number\":\"FR 1143\",\"status\":\"Unknown\",\"codeshareStatus\":\"Unknown\",\"isCargo\":false,\"aircraft\":{\"model\":\"Boeing 737-800\"},\"airline\":{\"name\":\"Ryanair\"}},{\"movement\":{\"airport\":{\"name\":\"Bologna\"},\"scheduledTimeLocal\":\"2021-11-25 22:00+01:00\",\"scheduledTimeUtc\":\"2021-11-25 21:00Z\",\"quality\":[\"Basic\"]},\"number\":\"FR 137\",\"status\":\"Unknown\",\"codeshareStatus\":\"Unknown\",\"isCargo\":false,\"aircraft\":{\"model\":\"Boeing 737-800\"},\"airline\":{\"name\":\"Ryanair\"}},{\"movement\":{\"airport\":{\"icao\":\"EGSS\",\"iata\":\"STN\",\"name\":\"London\"},\"scheduledTimeLocal\":\"2021-11-25 22:10+01:00\",\"scheduledTimeUtc\":\"2021-11-25 21:10Z\",\"quality\":[\"Basic\"]},\"number\":\"FR 147\",\"status\":\"Unknown\",\"codeshareStatus\":\"Unknown\",\"isCargo\":false,\"aircraft\":{\"model\":\"Boeing 737-800\"},\"airline\":{\"name\":\"Ryanair\"}},{\"movement\":{\"airport\":{\"icao\":\"EBBR\",\"iata\":\"BRU\",\"name\":\"Brussels\"},\"scheduledTimeLocal\":\"2021-11-25 22:25+01:00\",\"scheduledTimeUtc\":\"2021-11-25 21:25Z\",\"quality\":[\"Basic\"]},\"number\":\"FR 167\",\"status\":\"Unknown\",\"codeshareStatus\":\"Unknown\",\"isCargo\":false,\"aircraft\":{\"model\":\"Boeing 737-800\"},\"airline\":{\"name\":\"Ryanair\"}},{\"movement\":{\"airport\":{\"icao\":\"GCLP\",\"iata\":\"LPA\",\"name\":\"Gran Canaria Island\"},\"scheduledTimeLocal\":\"2021-11-25 22:30+01:00\",\"scheduledTimeUtc\":\"2021-11-25 21:30Z\",\"quality\":[\"Basic\"]},\"number\":\"FR 2501\",\"status\":\"Unknown\",\"codeshareStatus\":\"Unknown\",\"isCargo\":false,\"aircraft\":{\"model\":\"Boeing 737-800\"},\"airline\":{\"name\":\"Ryanair\"}},{\"movement\":{\"airport\":{\"icao\":\"LIME\",\"iata\":\"BGY\",\"name\":\"Bergamo\"},\"scheduledTimeLocal\":\"2021-11-25 22:30+01:00\",\"scheduledTimeUtc\":\"2021-11-25 21:30Z\",\"quality\":[\"Basic\"]},\"number\":\"FR 4733\",\"status\":\"Unknown\",\"codeshareStatus\":\"Unknown\",\"isCargo\":false,\"aircraft\":{\"model\":\"Boeing 737-800\"},\"airline\":{\"name\":\"Ryanair\"}},{\"movement\":{\"airport\":{\"name\":\"Faro\"},\"scheduledTimeLocal\":\"2021-11-25 22:30+01:00\",\"scheduledTimeUtc\":\"2021-11-25 21:30Z\",\"quality\":[\"Basic\"]},\"number\":\"FR 5365\",\"status\":\"Unknown\",\"codeshareStatus\":\"Unknown\",\"isCargo\":false,\"aircraft\":{\"model\":\"Boeing 737-800\"},\"airline\":{\"name\":\"Ryanair\"}},{\"movement\":{\"airport\":{\"icao\":\"LEMD\",\"iata\":\"MAD\",\"name\":\"Madrid\"},\"scheduledTimeLocal\":\"2021-11-25 22:45+01:00\",\"scheduledTimeUtc\":\"2021-11-25 21:45Z\",\"terminal\":\"1\",\"quality\":[\"Basic\"]},\"number\":\"IB 3674\",\"status\":\"Unknown\",\"codeshareStatus\":\"Unknown\",\"isCargo\":false,\"aircraft\":{\"model\":\"Airbus A320\"},\"airline\":{\"name\":\"Iberia\"}},{\"movement\":{\"airport\":{\"icao\":\"EDDM\",\"iata\":\"MUC\",\"name\":\"Munich\"},\"scheduledTimeLocal\":\"2021-11-25 22:55+01:00\",\"scheduledTimeUtc\":\"2021-11-25 21:55Z\",\"terminal\":\"1\",\"quality\":[\"Basic\"]},\"number\":\"LH 1958\",\"status\":\"Unknown\",\"codeshareStatus\":\"IsCodeshared\",\"isCargo\":false,\"aircraft\":{\"model\":\"Airbus A321\"},\"airline\":{\"name\":\"Lufthansa\"}},{\"movement\":{\"airport\":{\"icao\":\"EDDF\",\"iata\":\"FRA\",\"name\":\"Frankfurt-am-Main\"},\"scheduledTimeLocal\":\"2021-11-25 22:25+01:00\",\"scheduledTimeUtc\":\"2021-11-25 21:25Z\",\"terminal\":\"1\",\"quality\":[\"Basic\"]},\"number\":\"LH 202\",\"status\":\"Unknown\",\"codeshareStatus\":\"Unknown\",\"isCargo\":false,\"aircraft\":{\"model\":\"Airbus A321\"},\"airline\":{\"name\":\"Lufthansa\"}},{\"movement\":{\"airport\":{\"icao\":\"EPWA\",\"iata\":\"WAW\",\"name\":\"Warsaw\"},\"scheduledTimeLocal\":\"2021-11-25 22:20+01:00\",\"scheduledTimeUtc\":\"2021-11-25 21:20Z\",\"terminal\":\"1\",\"quality\":[\"Basic\"]},\"number\":\"LO 391\",\"status\":\"Unknown\",\"codeshareStatus\":\"Unknown\",\"isCargo\":false,\"aircraft\":{\"model\":\"Bombardier Dash 8 Q400 / DHC-8-400\"},\"airline\":{\"name\":\"LOT - Polish\"}},{\"movement\":{\"airport\":{\"icao\":\"LOWW\",\"iata\":\"VIE\",\"name\":\"Vienna\"},\"scheduledTimeLocal\":\"2021-11-25 22:10+01:00\",\"scheduledTimeUtc\":\"2021-11-25 21:10Z\",\"terminal\":\"1\",\"quality\":[\"Basic\"]},\"number\":\"OS 239\",\"status\":\"Unknown\",\"codeshareStatus\":\"Unknown\",\"isCargo\":false,\"aircraft\":{\"model\":\"Airbus A320\"},\"airline\":{\"name\":\"Austrian\"}},{\"movement\":{\"airport\":{\"icao\":\"EBBR\",\"iata\":\"BRU\",\"name\":\"Brussels\"},\"scheduledTimeLocal\":\"2021-11-25 22:05+01:00\",\"scheduledTimeUtc\":\"2021-11-25 21:05Z\",\"terminal\":\"1\",\"quality\":[\"Basic\"]},\"number\":\"SN 2591\",\"status\":\"Unknown\",\"codeshareStatus\":\"Unknown\",\"isCargo\":false,\"aircraft\":{\"model\":\"Airbus A320\"},\"airline\":{\"name\":\"Brussels\"}},{\"movement\":{\"airport\":{\"icao\":\"LPPT\",\"iata\":\"LIS\",\"name\":\"Lisbon\"},\"scheduledTimeLocal\":\"2021-11-25 22:50+01:00\",\"scheduledTimeUtc\":\"2021-11-25 21:50Z\",\"terminal\":\"1\",\"quality\":[\"Basic\"]},\"number\":\"TP 532\",\"status\":\"Unknown\",\"codeshareStatus\":\"Unknown\",\"isCargo\":false,\"aircraft\":{\"model\":\"Airbus A319\"},\"airline\":{\"name\":\"TAP Air Portugal\"}},{\"movement\":{\"airport\":{\"icao\":\"LSGG\",\"iata\":\"GVA\",\"name\":\"Geneva\"},\"scheduledTimeLocal\":\"2021-11-25 22:40+01:00\",\"scheduledTimeUtc\":\"2021-11-25 21:40Z\",\"terminal\":\"1\",\"quality\":[\"Basic\"]},\"number\":\"U2 1595\",\"status\":\"Unknown\",\"codeshareStatus\":\"Unknown\",\"isCargo\":false,\"aircraft\":{\"model\":\"Airbus A320\"},\"airline\":{\"name\":\"easyJet\"}},{\"movement\":{\"airport\":{\"icao\":\"LIMC\",\"iata\":\"MXP\",\"name\":\"Milan\"},\"scheduledTimeLocal\":\"2021-11-25 22:30+01:00\",\"scheduledTimeUtc\":\"2021-11-25 21:30Z\",\"terminal\":\"1\",\"quality\":[\"Basic\"]},\"number\":\"U2 4678\",\"status\":\"Unknown\",\"codeshareStatus\":\"Unknown\",\"isCargo\":false,\"aircraft\":{\"model\":\"Airbus A320\"},\"airline\":{\"name\":\"easyJet\"}},{\"movement\":{\"airport\":{\"icao\":\"LFSB\",\"iata\":\"BSL\",\"name\":\"Bâle/Mulhouse\"},\"scheduledTimeLocal\":\"2021-11-25 22:20+01:00\",\"scheduledTimeUtc\":\"2021-11-25 21:20Z\",\"terminal\":\"1\",\"quality\":[\"Basic\"]},\"number\":\"U2 5640\",\"status\":\"Unknown\",\"codeshareStatus\":\"Unknown\",\"isCargo\":false,\"aircraft\":{\"model\":\"Airbus A320\"},\"airline\":{\"name\":\"easyJet\"}},{\"movement\":{\"airport\":{\"icao\":\"EKCH\",\"iata\":\"CPH\",\"name\":\"Copenhagen\"},\"scheduledTimeLocal\":\"2021-11-25 22:30+01:00\",\"scheduledTimeUtc\":\"2021-11-25 21:30Z\",\"terminal\":\"1\",\"quality\":[\"Basic\"]},\"number\":\"U2 5690\",\"status\":\"Unknown\",\"codeshareStatus\":\"Unknown\",\"isCargo\":false,\"aircraft\":{\"model\":\"Airbus A320\"},\"airline\":{\"name\":\"easyJet\"}},{\"movement\":{\"airport\":{\"icao\":\"LEPA\",\"iata\":\"PMI\",\"name\":\"Palma De Mallorca\"},\"scheduledTimeLocal\":\"2021-11-25 22:30+01:00\",\"scheduledTimeUtc\":\"2021-11-25 21:30Z\",\"terminal\":\"1\",\"quality\":[\"Basic\"]},\"number\":\"U2 5808\",\"status\":\"Unknown\",\"codeshareStatus\":\"Unknown\",\"isCargo\":false,\"aircraft\":{\"model\":\"Airbus A320\"},\"airline\":{\"name\":\"easyJet\"}},{\"movement\":{\"airport\":{\"icao\":\"GCTS\",\"iata\":\"TFS\",\"name\":\"Tenerife Island\"},\"scheduledTimeLocal\":\"2021-11-25 22:25+01:00\",\"scheduledTimeUtc\":\"2021-11-25 21:25Z\",\"terminal\":\"1\",\"quality\":[\"Basic\"]},\"number\":\"U2 5916\",\"status\":\"Unknown\",\"codeshareStatus\":\"Unknown\",\"isCargo\":false,\"aircraft\":{\"model\":\"Airbus A320\"},\"airline\":{\"name\":\"easyJet\"}}]}\n"
     ]
    }
   ],
   "source": [
    "# Between 19:01 and 23:59\n",
    "url_two = \"https://aerodatabox.p.rapidapi.com/flights/airports/icao/EDDB/2021-11-25T19:01/2021-11-25T23:59\"\n",
    "\n",
    "querystring = {\"direction\":\"Arrival\",\"withPrivate\":\"true\"}\n",
    "\n",
    "response_two = requests.request(\"GET\", url_two, headers=headers, params=querystring)\n",
    "print(response_two.text)"
   ]
  },
  {
   "cell_type": "markdown",
   "id": "13bbca60-ffd4-4bce-8def-c45121eb27e8",
   "metadata": {},
   "source": [
    "### JSON display 1"
   ]
  },
  {
   "cell_type": "code",
   "execution_count": 90,
   "id": "55c530e4-3d89-4731-b09f-149003c77891",
   "metadata": {
    "tags": []
   },
   "outputs": [
    {
     "data": {
      "application/json": {
       "arrivals": [
        {
         "aircraft": {
          "model": "Airbus A220-300"
         },
         "airline": {
          "name": "Air Baltic"
         },
         "codeshareStatus": "Unknown",
         "isCargo": false,
         "movement": {
          "airport": {
           "iata": "RIX",
           "icao": "EVRA",
           "name": "Riga"
          },
          "quality": [
           "Basic"
          ],
          "scheduledTimeLocal": "2021-11-25 07:55+01:00",
          "scheduledTimeUtc": "2021-11-25 06:55Z",
          "terminal": "1"
         },
         "number": "BT 211",
         "status": "Unknown"
        },
        {
         "aircraft": {
          "model": "Boeing 737-800"
         },
         "airline": {
          "name": "Eurowings"
         },
         "codeshareStatus": "Unknown",
         "isCargo": false,
         "movement": {
          "airport": {
           "iata": "CGN",
           "icao": "EDDK",
           "name": "Cologne"
          },
          "quality": [
           "Basic"
          ],
          "scheduledTimeLocal": "2021-11-25 07:20+01:00",
          "scheduledTimeUtc": "2021-11-25 06:20Z",
          "terminal": "1"
         },
         "number": "EW 12",
         "status": "Unknown"
        },
        {
         "aircraft": {
          "model": "Airbus A319"
         },
         "airline": {
          "name": "Eurowings"
         },
         "codeshareStatus": "Unknown",
         "isCargo": false,
         "movement": {
          "airport": {
           "iata": "STR",
           "icao": "EDDS",
           "name": "Stuttgart"
          },
          "quality": [
           "Basic"
          ],
          "scheduledTimeLocal": "2021-11-25 07:30+01:00",
          "scheduledTimeUtc": "2021-11-25 06:30Z",
          "terminal": "1"
         },
         "number": "EW 2002",
         "status": "Unknown"
        },
        {
         "aircraft": {
          "model": "Airbus A320"
         },
         "airline": {
          "name": "Eurowings"
         },
         "codeshareStatus": "Unknown",
         "isCargo": false,
         "movement": {
          "airport": {
           "iata": "DUS",
           "icao": "EDDL",
           "name": "Duesseldorf"
          },
          "quality": [
           "Basic"
          ],
          "scheduledTimeLocal": "2021-11-25 07:35+01:00",
          "scheduledTimeUtc": "2021-11-25 06:35Z",
          "terminal": "1"
         },
         "number": "EW 9048",
         "status": "Unknown"
        },
        {
         "aircraft": {
          "model": "Airbus A321"
         },
         "airline": {
          "name": "Lufthansa"
         },
         "codeshareStatus": "IsCodeshared",
         "isCargo": false,
         "movement": {
          "airport": {
           "iata": "FRA",
           "icao": "EDDF",
           "name": "Frankfurt-am-Main"
          },
          "quality": [
           "Basic"
          ],
          "scheduledTimeLocal": "2021-11-25 07:55+01:00",
          "scheduledTimeUtc": "2021-11-25 06:55Z",
          "terminal": "1"
         },
         "number": "LH 170",
         "status": "Unknown"
        },
        {
         "aircraft": {
          "model": "Airbus A319"
         },
         "airline": {
          "name": "easyJet"
         },
         "codeshareStatus": "Unknown",
         "isCargo": false,
         "movement": {
          "airport": {
           "iata": "BSL",
           "icao": "LFSB",
           "name": "Bâle/Mulhouse"
          },
          "quality": [
           "Basic"
          ],
          "scheduledTimeLocal": "2021-11-25 07:55+01:00",
          "scheduledTimeUtc": "2021-11-25 06:55Z",
          "terminal": "1"
         },
         "number": "U2 5632",
         "status": "Unknown"
        },
        {
         "aircraft": {
          "model": "Airbus A320"
         },
         "airline": {
          "name": "Air France"
         },
         "codeshareStatus": "Unknown",
         "isCargo": false,
         "movement": {
          "airport": {
           "iata": "ORY",
           "icao": "LFPO",
           "name": "Paris"
          },
          "quality": [
           "Basic"
          ],
          "scheduledTimeLocal": "2021-11-25 08:55+01:00",
          "scheduledTimeUtc": "2021-11-25 07:55Z",
          "terminal": "1"
         },
         "number": "AF 7354",
         "status": "Unknown"
        },
        {
         "aircraft": {
          "model": "ATR 72"
         },
         "airline": {
          "name": "Danish Air"
         },
         "codeshareStatus": "Unknown",
         "isCargo": false,
         "movement": {
          "airport": {
           "iata": "SCN",
           "icao": "EDDR",
           "name": "Saarbrücken"
          },
          "quality": [
           "Basic"
          ],
          "scheduledTimeLocal": "2021-11-25 08:10+01:00",
          "scheduledTimeUtc": "2021-11-25 07:10Z",
          "terminal": "0"
         },
         "number": "DX 121",
         "status": "Unknown"
        },
        {
         "aircraft": {
          "model": "Boeing 737-800"
         },
         "airline": {
          "name": "Ryanair"
         },
         "codeshareStatus": "Unknown",
         "isCargo": false,
         "movement": {
          "airport": {
           "iata": "PSA",
           "icao": "LIRP",
           "name": "Pisa"
          },
          "quality": [
           "Basic"
          ],
          "scheduledTimeLocal": "2021-11-25 08:45+01:00",
          "scheduledTimeUtc": "2021-11-25 07:45Z"
         },
         "number": "FR 9955",
         "status": "Unknown"
        },
        {
         "aircraft": {
          "model": "Bombardier Dash 8 Q400 / DHC-8-400"
         },
         "airline": {
          "name": "Luxair"
         },
         "codeshareStatus": "Unknown",
         "isCargo": false,
         "movement": {
          "airport": {
           "iata": "LUX",
           "icao": "ELLX",
           "name": "Luxembourg"
          },
          "quality": [
           "Basic"
          ],
          "scheduledTimeLocal": "2021-11-25 08:15+01:00",
          "scheduledTimeUtc": "2021-11-25 07:15Z",
          "terminal": "1"
         },
         "number": "LG 9471",
         "status": "Unknown"
        },
        {
         "aircraft": {
          "model": "Airbus A320"
         },
         "airline": {
          "name": "Lufthansa"
         },
         "codeshareStatus": "IsCodeshared",
         "isCargo": false,
         "movement": {
          "airport": {
           "iata": "FRA",
           "icao": "EDDF",
           "name": "Frankfurt-am-Main"
          },
          "quality": [
           "Basic"
          ],
          "scheduledTimeLocal": "2021-11-25 08:55+01:00",
          "scheduledTimeUtc": "2021-11-25 07:55Z",
          "terminal": "1"
         },
         "number": "LH 174",
         "status": "Unknown"
        },
        {
         "aircraft": {
          "model": "Airbus A320 NEO"
         },
         "airline": {
          "name": "Lufthansa"
         },
         "codeshareStatus": "IsCodeshared",
         "isCargo": false,
         "movement": {
          "airport": {
           "iata": "MUC",
           "icao": "EDDM",
           "name": "Munich"
          },
          "quality": [
           "Basic"
          ],
          "scheduledTimeLocal": "2021-11-25 08:10+01:00",
          "scheduledTimeUtc": "2021-11-25 07:10Z",
          "terminal": "1"
         },
         "number": "LH 1928",
         "status": "Unknown"
        },
        {
         "aircraft": {
          "model": "Airbus A320"
         },
         "airline": {
          "name": "SWISS"
         },
         "codeshareStatus": "Unknown",
         "isCargo": false,
         "movement": {
          "airport": {
           "iata": "ZRH",
           "icao": "LSZH",
           "name": "Zurich"
          },
          "quality": [
           "Basic"
          ],
          "scheduledTimeLocal": "2021-11-25 08:45+01:00",
          "scheduledTimeUtc": "2021-11-25 07:45Z",
          "terminal": "1"
         },
         "number": "LX 974",
         "status": "Unknown"
        },
        {
         "aircraft": {
          "model": "Embraer 195"
         },
         "airline": {
          "name": "Austrian"
         },
         "codeshareStatus": "Unknown",
         "isCargo": false,
         "movement": {
          "airport": {
           "iata": "VIE",
           "icao": "LOWW",
           "name": "Vienna"
          },
          "quality": [
           "Basic"
          ],
          "scheduledTimeLocal": "2021-11-25 08:55+01:00",
          "scheduledTimeUtc": "2021-11-25 07:55Z",
          "terminal": "1"
         },
         "number": "OS 223",
         "status": "Unknown"
        },
        {
         "aircraft": {
          "model": "Boeing 737-800"
         },
         "airline": {
          "name": "Norwegian Air Shuttle"
         },
         "codeshareStatus": "Unknown",
         "isCargo": false,
         "movement": {
          "airport": {
           "iata": "OSL",
           "icao": "ENGM",
           "name": "Oslo"
          },
          "quality": [
           "Basic"
          ],
          "scheduledTimeLocal": "2021-11-25 09:10+01:00",
          "scheduledTimeUtc": "2021-11-25 08:10Z",
          "terminal": "1"
         },
         "number": "DY 1102",
         "status": "Unknown"
        },
        {
         "aircraft": {
          "model": "Airbus A320"
         },
         "airline": {
          "name": "Eurowings"
         },
         "codeshareStatus": "Unknown",
         "isCargo": false,
         "movement": {
          "airport": {
           "iata": "CGN",
           "icao": "EDDK",
           "name": "Cologne"
          },
          "quality": [
           "Basic"
          ],
          "scheduledTimeLocal": "2021-11-25 09:40+01:00",
          "scheduledTimeUtc": "2021-11-25 08:40Z",
          "terminal": "1"
         },
         "number": "EW 8059",
         "status": "Unknown"
        },
        {
         "aircraft": {
          "model": "Boeing 737-800"
         },
         "airline": {
          "name": "Ryanair"
         },
         "codeshareStatus": "Unknown",
         "isCargo": false,
         "movement": {
          "airport": {
           "iata": "BUD",
           "icao": "LHBP",
           "name": "Budapest"
          },
          "quality": [
           "Basic"
          ],
          "scheduledTimeLocal": "2021-11-25 09:30+01:00",
          "scheduledTimeUtc": "2021-11-25 08:30Z"
         },
         "number": "FR 197",
         "status": "Unknown"
        },
        {
         "aircraft": {
          "model": "Boeing 737-800"
         },
         "airline": {
          "name": "Ryanair"
         },
         "codeshareStatus": "Unknown",
         "isCargo": false,
         "movement": {
          "airport": {
           "iata": "MAD",
           "icao": "LEMD",
           "name": "Madrid"
          },
          "quality": [
           "Basic"
          ],
          "scheduledTimeLocal": "2021-11-25 09:25+01:00",
          "scheduledTimeUtc": "2021-11-25 08:25Z"
         },
         "number": "FR 2526",
         "status": "Unknown"
        },
        {
         "aircraft": {
          "model": "Boeing 737-800"
         },
         "airline": {
          "name": "Ryanair"
         },
         "codeshareStatus": "Unknown",
         "isCargo": false,
         "movement": {
          "airport": {
           "iata": "RIX",
           "icao": "EVRA",
           "name": "Riga"
          },
          "quality": [
           "Basic"
          ],
          "scheduledTimeLocal": "2021-11-25 09:45+01:00",
          "scheduledTimeUtc": "2021-11-25 08:45Z"
         },
         "number": "FR 2600",
         "status": "Unknown"
        },
        {
         "aircraft": {
          "model": "Airbus A320"
         },
         "airline": {
          "name": "Air Serbia"
         },
         "codeshareStatus": "Unknown",
         "isCargo": false,
         "movement": {
          "airport": {
           "iata": "BEG",
           "icao": "LYBE",
           "name": "Belgrade"
          },
          "quality": [
           "Basic"
          ],
          "scheduledTimeLocal": "2021-11-25 09:00+01:00",
          "scheduledTimeUtc": "2021-11-25 08:00Z",
          "terminal": "1"
         },
         "number": "JU 350",
         "status": "Unknown"
        },
        {
         "aircraft": {
          "model": "Boeing 737-700",
          "reg": "PH-BCL"
         },
         "airline": {
          "name": "KLM"
         },
         "codeshareStatus": "IsOperator",
         "isCargo": false,
         "movement": {
          "airport": {
           "iata": "AMS",
           "icao": "EHAM",
           "name": "Amsterdam"
          },
          "quality": [
           "Basic"
          ],
          "scheduledTimeLocal": "2021-11-25 09:25+01:00",
          "scheduledTimeUtc": "2021-11-25 08:25Z",
          "terminal": "1"
         },
         "number": "KL 1821",
         "status": "Unknown"
        },
        {
         "aircraft": {
          "model": "Airbus A320"
         },
         "airline": {
          "name": "Lufthansa"
         },
         "codeshareStatus": "IsCodeshared",
         "isCargo": false,
         "movement": {
          "airport": {
           "iata": "FRA",
           "icao": "EDDF",
           "name": "Frankfurt-am-Main"
          },
          "quality": [
           "Basic"
          ],
          "scheduledTimeLocal": "2021-11-25 09:55+01:00",
          "scheduledTimeUtc": "2021-11-25 08:55Z",
          "terminal": "1"
         },
         "number": "LH 176",
         "status": "Unknown"
        },
        {
         "aircraft": {
          "model": "Airbus A320"
         },
         "airline": {
          "name": "Lufthansa"
         },
         "codeshareStatus": "IsCodeshared",
         "isCargo": false,
         "movement": {
          "airport": {
           "iata": "MUC",
           "icao": "EDDM",
           "name": "Munich"
          },
          "quality": [
           "Basic"
          ],
          "scheduledTimeLocal": "2021-11-25 09:40+01:00",
          "scheduledTimeUtc": "2021-11-25 08:40Z",
          "terminal": "1"
         },
         "number": "LH 1930",
         "status": "Unknown"
        },
        {
         "aircraft": {
          "model": "Airbus A330-300"
         },
         "airline": {
          "name": "Turkish"
         },
         "codeshareStatus": "Unknown",
         "isCargo": false,
         "movement": {
          "airport": {
           "iata": "IST",
           "icao": "LTFM",
           "name": "Istanbul"
          },
          "quality": [
           "Basic"
          ],
          "scheduledTimeLocal": "2021-11-25 09:35+01:00",
          "scheduledTimeUtc": "2021-11-25 08:35Z",
          "terminal": "1"
         },
         "number": "TK 1721",
         "status": "Unknown"
        },
        {
         "aircraft": {
          "model": "Airbus A320"
         },
         "airline": {
          "name": "easyJet"
         },
         "codeshareStatus": "Unknown",
         "isCargo": false,
         "movement": {
          "airport": {
           "iata": "CPH",
           "icao": "EKCH",
           "name": "Copenhagen"
          },
          "quality": [
           "Basic"
          ],
          "scheduledTimeLocal": "2021-11-25 09:55+01:00",
          "scheduledTimeUtc": "2021-11-25 08:55Z",
          "terminal": "1"
         },
         "number": "U2 5684",
         "status": "Unknown"
        },
        {
         "aircraft": {
          "model": "Airbus A319"
         },
         "airline": {
          "name": "easyJet"
         },
         "codeshareStatus": "Unknown",
         "isCargo": false,
         "movement": {
          "airport": {
           "iata": "AAR",
           "icao": "EKAH",
           "name": "Aarhus"
          },
          "quality": [
           "Basic"
          ],
          "scheduledTimeLocal": "2021-11-25 09:45+01:00",
          "scheduledTimeUtc": "2021-11-25 08:45Z",
          "terminal": "1"
         },
         "number": "U2 5698",
         "status": "Unknown"
        },
        {
         "aircraft": {
          "model": "Airbus A320"
         },
         "airline": {
          "name": "Aegean"
         },
         "codeshareStatus": "Unknown",
         "isCargo": false,
         "movement": {
          "airport": {
           "iata": "ATH",
           "icao": "LGAV",
           "name": "Athens"
          },
          "quality": [
           "Basic"
          ],
          "scheduledTimeLocal": "2021-11-25 10:50+01:00",
          "scheduledTimeUtc": "2021-11-25 09:50Z",
          "terminal": "1"
         },
         "number": "A3 820",
         "status": "Unknown"
        },
        {
         "aircraft": {
          "model": "Embraer 190"
         },
         "airline": {
          "name": "British Airways"
         },
         "codeshareStatus": "IsCodeshared",
         "isCargo": false,
         "movement": {
          "airport": {
           "iata": "LCY",
           "icao": "EGLC",
           "name": "London"
          },
          "quality": [
           "Basic"
          ],
          "scheduledTimeLocal": "2021-11-25 10:25+01:00",
          "scheduledTimeUtc": "2021-11-25 09:25Z",
          "terminal": "1"
         },
         "number": "BA 8491",
         "status": "Unknown"
        },
        {
         "aircraft": {
          "model": "Boeing 737-800"
         },
         "airline": {
          "name": "Ryanair"
         },
         "codeshareStatus": "Unknown",
         "isCargo": false,
         "movement": {
          "airport": {
           "iata": "STN",
           "icao": "EGSS",
           "name": "London"
          },
          "quality": [
           "Basic"
          ],
          "scheduledTimeLocal": "2021-11-25 10:40+01:00",
          "scheduledTimeUtc": "2021-11-25 09:40Z"
         },
         "number": "FR 145",
         "status": "Unknown"
        },
        {
         "aircraft": {
          "model": "Boeing 737-800"
         },
         "airline": {
          "name": "Ryanair"
         },
         "codeshareStatus": "Unknown",
         "isCargo": false,
         "movement": {
          "airport": {
           "iata": "BGY",
           "icao": "LIME",
           "name": "Bergamo"
          },
          "quality": [
           "Basic"
          ],
          "scheduledTimeLocal": "2021-11-25 10:40+01:00",
          "scheduledTimeUtc": "2021-11-25 09:40Z"
         },
         "number": "FR 4731",
         "status": "Unknown"
        },
        {
         "aircraft": {
          "model": "Airbus A320"
         },
         "airline": {
          "name": "Austrian"
         },
         "codeshareStatus": "Unknown",
         "isCargo": false,
         "movement": {
          "airport": {
           "iata": "VIE",
           "icao": "LOWW",
           "name": "Vienna"
          },
          "quality": [
           "Basic"
          ],
          "scheduledTimeLocal": "2021-11-25 10:25+01:00",
          "scheduledTimeUtc": "2021-11-25 09:25Z",
          "terminal": "1"
         },
         "number": "OS 225",
         "status": "Unknown"
        },
        {
         "aircraft": {
          "model": "Airbus A320",
          "reg": "OY-KAS"
         },
         "airline": {
          "name": "SAS"
         },
         "codeshareStatus": "Unknown",
         "isCargo": false,
         "movement": {
          "airport": {
           "iata": "ARN",
           "icao": "ESSA",
           "name": "Stockholm"
          },
          "quality": [
           "Basic"
          ],
          "scheduledTimeLocal": "2021-11-25 10:30+01:00",
          "scheduledTimeUtc": "2021-11-25 09:30Z",
          "terminal": "1"
         },
         "number": "SK 2677",
         "status": "Unknown"
        },
        {
         "aircraft": {
          "model": "Boeing 787-8"
         },
         "airline": {
          "name": "Scoot"
         },
         "codeshareStatus": "Unknown",
         "isCargo": false,
         "movement": {
          "airport": {
           "iata": "ATH",
           "icao": "LGAV",
           "name": "Athens"
          },
          "quality": [
           "Basic"
          ],
          "scheduledTimeLocal": "2021-11-25 10:20+01:00",
          "scheduledTimeUtc": "2021-11-25 09:20Z",
          "terminal": "1"
         },
         "number": "TR 722",
         "status": "Unknown"
        },
        {
         "aircraft": {
          "model": "Airbus A319"
         },
         "airline": {
          "name": "Air France"
         },
         "codeshareStatus": "Unknown",
         "isCargo": false,
         "movement": {
          "airport": {
           "iata": "CDG",
           "icao": "LFPG",
           "name": "Paris"
          },
          "quality": [
           "Basic"
          ],
          "scheduledTimeLocal": "2021-11-25 11:40+01:00",
          "scheduledTimeUtc": "2021-11-25 10:40Z",
          "terminal": "1"
         },
         "number": "AF 1734",
         "status": "Unknown"
        },
        {
         "aircraft": {
          "model": "Airbus A320"
         },
         "airline": {
          "name": "British Airways"
         },
         "codeshareStatus": "IsCodeshared",
         "isCargo": false,
         "movement": {
          "airport": {
           "iata": "LHR",
           "icao": "EGLL",
           "name": "London"
          },
          "quality": [
           "Basic"
          ],
          "scheduledTimeLocal": "2021-11-25 11:40+01:00",
          "scheduledTimeUtc": "2021-11-25 10:40Z",
          "terminal": "1"
         },
         "number": "BA 992",
         "status": "Unknown"
        },
        {
         "aircraft": {
          "model": "Boeing 737-800"
         },
         "airline": {
          "name": "Norwegian Air International"
         },
         "codeshareStatus": "Unknown",
         "isCargo": false,
         "movement": {
          "airport": {
           "iata": "CPH",
           "icao": "EKCH",
           "name": "Copenhagen"
          },
          "quality": [
           "Basic"
          ],
          "scheduledTimeLocal": "2021-11-25 11:45+01:00",
          "scheduledTimeUtc": "2021-11-25 10:45Z",
          "terminal": "1"
         },
         "number": "D8 3302",
         "status": "Unknown"
        },
        {
         "aircraft": {
          "model": "Boeing 737-800"
         },
         "airline": {
          "name": "Ryanair"
         },
         "codeshareStatus": "Unknown",
         "isCargo": false,
         "movement": {
          "airport": {
           "iata": "CIA",
           "icao": "LIRA",
           "name": "Roma"
          },
          "quality": [
           "Basic"
          ],
          "scheduledTimeLocal": "2021-11-25 11:05+01:00",
          "scheduledTimeUtc": "2021-11-25 10:05Z"
         },
         "number": "FR 135",
         "status": "Unknown"
        },
        {
         "aircraft": {
          "model": "Boeing 737-800"
         },
         "airline": {
          "name": "Ryanair"
         },
         "codeshareStatus": "Unknown",
         "isCargo": false,
         "movement": {
          "airport": {
           "iata": "SOF",
           "icao": "LBSF",
           "name": "Sofia"
          },
          "quality": [
           "Basic"
          ],
          "scheduledTimeLocal": "2021-11-25 11:45+01:00",
          "scheduledTimeUtc": "2021-11-25 10:45Z"
         },
         "number": "FR 1595",
         "status": "Unknown"
        },
        {
         "aircraft": {
          "model": "Airbus A320"
         },
         "airline": {
          "name": "Iberia"
         },
         "codeshareStatus": "Unknown",
         "isCargo": false,
         "movement": {
          "airport": {
           "iata": "MAD",
           "icao": "LEMD",
           "name": "Madrid"
          },
          "quality": [
           "Basic"
          ],
          "scheduledTimeLocal": "2021-11-25 11:05+01:00",
          "scheduledTimeUtc": "2021-11-25 10:05Z",
          "terminal": "1"
         },
         "number": "IB 3676",
         "status": "Unknown"
        },
        {
         "aircraft": {
          "model": "Boeing 737-900",
          "reg": "PH-BCB"
         },
         "airline": {
          "name": "KLM"
         },
         "codeshareStatus": "IsOperator",
         "isCargo": false,
         "movement": {
          "airport": {
           "iata": "AMS",
           "icao": "EHAM",
           "name": "Amsterdam"
          },
          "quality": [
           "Basic"
          ],
          "scheduledTimeLocal": "2021-11-25 11:05+01:00",
          "scheduledTimeUtc": "2021-11-25 10:05Z",
          "terminal": "1"
         },
         "number": "KL 1823",
         "status": "Unknown"
        },
        {
         "aircraft": {
          "model": "Airbus A320"
         },
         "airline": {
          "name": "Lufthansa"
         },
         "codeshareStatus": "IsCodeshared",
         "isCargo": false,
         "movement": {
          "airport": {
           "iata": "FRA",
           "icao": "EDDF",
           "name": "Frankfurt-am-Main"
          },
          "quality": [
           "Basic"
          ],
          "scheduledTimeLocal": "2021-11-25 11:55+01:00",
          "scheduledTimeUtc": "2021-11-25 10:55Z",
          "terminal": "1"
         },
         "number": "LH 180",
         "status": "Unknown"
        },
        {
         "aircraft": {
          "model": "Bombardier Dash 8 Q400 / DHC-8-400"
         },
         "airline": {
          "name": "LOT - Polish"
         },
         "codeshareStatus": "Unknown",
         "isCargo": false,
         "movement": {
          "airport": {
           "iata": "WAW",
           "icao": "EPWA",
           "name": "Warsaw"
          },
          "quality": [
           "Basic"
          ],
          "scheduledTimeLocal": "2021-11-25 11:35+01:00",
          "scheduledTimeUtc": "2021-11-25 10:35Z",
          "terminal": "1"
         },
         "number": "LO 385",
         "status": "Unknown"
        },
        {
         "aircraft": {
          "model": "Boeing 737-800"
         },
         "airline": {
          "name": "Jet2"
         },
         "codeshareStatus": "Unknown",
         "isCargo": false,
         "movement": {
          "airport": {
           "iata": "NCL",
           "icao": "EGNT",
           "name": "Newcastle upon Tyne"
          },
          "quality": [
           "Basic"
          ],
          "scheduledTimeLocal": "2021-11-25 11:50+01:00",
          "scheduledTimeUtc": "2021-11-25 10:50Z",
          "terminal": "0"
         },
         "number": "LS 4067",
         "status": "Unknown"
        },
        {
         "aircraft": {
          "model": "Airbus A320"
         },
         "airline": {
          "name": "Pegasus"
         },
         "codeshareStatus": "Unknown",
         "isCargo": false,
         "movement": {
          "airport": {
           "iata": "SAW",
           "icao": "LTFJ",
           "name": "Istanbul"
          },
          "quality": [
           "Basic"
          ],
          "scheduledTimeLocal": "2021-11-25 11:00+01:00",
          "scheduledTimeUtc": "2021-11-25 10:00Z",
          "terminal": "0"
         },
         "number": "PC 977",
         "status": "Unknown"
        },
        {
         "aircraft": {
          "model": "Airbus A319"
         },
         "airline": {
          "name": "Brussels"
         },
         "codeshareStatus": "Unknown",
         "isCargo": false,
         "movement": {
          "airport": {
           "iata": "BRU",
           "icao": "EBBR",
           "name": "Brussels"
          },
          "quality": [
           "Basic"
          ],
          "scheduledTimeLocal": "2021-11-25 11:15+01:00",
          "scheduledTimeUtc": "2021-11-25 10:15Z",
          "terminal": "1"
         },
         "number": "SN 2581",
         "status": "Unknown"
        },
        {
         "aircraft": {
          "model": "Airbus A320"
         },
         "airline": {
          "name": "easyJet"
         },
         "codeshareStatus": "Unknown",
         "isCargo": false,
         "movement": {
          "airport": {
           "iata": "MXP",
           "icao": "LIMC",
           "name": "Milan"
          },
          "quality": [
           "Basic"
          ],
          "scheduledTimeLocal": "2021-11-25 11:25+01:00",
          "scheduledTimeUtc": "2021-11-25 10:25Z",
          "terminal": "1"
         },
         "number": "U2 4672",
         "status": "Unknown"
        },
        {
         "aircraft": {
          "model": "Airbus A320"
         },
         "airline": {
          "name": "easyJet"
         },
         "codeshareStatus": "Unknown",
         "isCargo": false,
         "movement": {
          "airport": {
           "iata": "CDG",
           "icao": "LFPG",
           "name": "Paris"
          },
          "quality": [
           "Basic"
          ],
          "scheduledTimeLocal": "2021-11-25 11:35+01:00",
          "scheduledTimeUtc": "2021-11-25 10:35Z",
          "terminal": "1"
         },
         "number": "U2 5652",
         "status": "Unknown"
        },
        {
         "aircraft": {
          "model": "Airbus A320"
         },
         "airline": {
          "name": "easyJet"
         },
         "codeshareStatus": "Unknown",
         "isCargo": false,
         "movement": {
          "airport": {
           "iata": "LGW",
           "icao": "EGKK",
           "name": "London"
          },
          "quality": [
           "Basic"
          ],
          "scheduledTimeLocal": "2021-11-25 11:55+01:00",
          "scheduledTimeUtc": "2021-11-25 10:55Z",
          "terminal": "1"
         },
         "number": "U2 8209",
         "status": "Unknown"
        },
        {
         "aircraft": {
          "model": "Airbus A319",
          "reg": "D-ABHC"
         },
         "airline": {
          "name": "Eurowings"
         },
         "codeshareStatus": "Unknown",
         "isCargo": false,
         "movement": {
          "airport": {
           "iata": "DUS",
           "icao": "EDDL",
           "name": "Duesseldorf"
          },
          "quality": [
           "Basic"
          ],
          "scheduledTimeLocal": "2021-11-25 12:00+01:00",
          "scheduledTimeUtc": "2021-11-25 11:00Z",
          "terminal": "1"
         },
         "number": "EW 9046",
         "status": "Unknown"
        },
        {
         "aircraft": {
          "model": "Boeing 757-300"
         },
         "airline": {
          "name": "Icelandair"
         },
         "codeshareStatus": "Unknown",
         "isCargo": false,
         "movement": {
          "airport": {
           "iata": "KEF",
           "icao": "BIKF",
           "name": "Reykjavik"
          },
          "quality": [
           "Basic"
          ],
          "scheduledTimeLocal": "2021-11-25 12:10+01:00",
          "scheduledTimeUtc": "2021-11-25 11:10Z",
          "terminal": "1"
         },
         "number": "FI 528",
         "status": "Unknown"
        },
        {
         "aircraft": {
          "model": "Boeing 737-800"
         },
         "airline": {
          "name": "Ryanair"
         },
         "codeshareStatus": "Unknown",
         "isCargo": false,
         "movement": {
          "airport": {
           "iata": "TGD",
           "icao": "LYPG",
           "name": "Podgorica"
          },
          "quality": [
           "Basic"
          ],
          "scheduledTimeLocal": "2021-11-25 12:25+01:00",
          "scheduledTimeUtc": "2021-11-25 11:25Z"
         },
         "number": "FR 1579",
         "status": "Unknown"
        },
        {
         "aircraft": {
          "model": "Boeing 737-800"
         },
         "airline": {
          "name": "Ryanair"
         },
         "codeshareStatus": "Unknown",
         "isCargo": false,
         "movement": {
          "airport": {
           "iata": "ATH",
           "icao": "LGAV",
           "name": "Athens"
          },
          "quality": [
           "Basic"
          ],
          "scheduledTimeLocal": "2021-11-25 12:45+01:00",
          "scheduledTimeUtc": "2021-11-25 11:45Z"
         },
         "number": "FR 171",
         "status": "Unknown"
        },
        {
         "aircraft": {
          "model": "Boeing 737-800"
         },
         "airline": {
          "name": "Ryanair"
         },
         "codeshareStatus": "Unknown",
         "isCargo": false,
         "movement": {
          "airport": {
           "iata": "PMI",
           "icao": "LEPA",
           "name": "Palma De Mallorca"
          },
          "quality": [
           "Basic"
          ],
          "scheduledTimeLocal": "2021-11-25 12:30+01:00",
          "scheduledTimeUtc": "2021-11-25 11:30Z"
         },
         "number": "FR 2146",
         "status": "Unknown"
        },
        {
         "aircraft": {
          "model": "Airbus A320"
         },
         "airline": {
          "name": "Lufthansa"
         },
         "codeshareStatus": "IsCodeshared",
         "isCargo": false,
         "movement": {
          "airport": {
           "iata": "FRA",
           "icao": "EDDF",
           "name": "Frankfurt-am-Main"
          },
          "quality": [
           "Basic"
          ],
          "scheduledTimeLocal": "2021-11-25 12:55+01:00",
          "scheduledTimeUtc": "2021-11-25 11:55Z",
          "terminal": "1"
         },
         "number": "LH 182",
         "status": "Unknown"
        },
        {
         "aircraft": {
          "model": "Airbus A320 NEO"
         },
         "airline": {
          "name": "Lufthansa"
         },
         "codeshareStatus": "IsCodeshared",
         "isCargo": false,
         "movement": {
          "airport": {
           "iata": "MUC",
           "icao": "EDDM",
           "name": "Munich"
          },
          "quality": [
           "Basic"
          ],
          "scheduledTimeLocal": "2021-11-25 12:15+01:00",
          "scheduledTimeUtc": "2021-11-25 11:15Z",
          "terminal": "1"
         },
         "number": "LH 1936",
         "status": "Unknown"
        },
        {
         "aircraft": {
          "model": "Boeing 737-800"
         },
         "airline": {
          "name": "Jet2"
         },
         "codeshareStatus": "Unknown",
         "isCargo": false,
         "movement": {
          "airport": {
           "iata": "LBA",
           "icao": "EGNM",
           "name": "Leeds"
          },
          "quality": [
           "Basic"
          ],
          "scheduledTimeLocal": "2021-11-25 12:05+01:00",
          "scheduledTimeUtc": "2021-11-25 11:05Z",
          "terminal": "0"
         },
         "number": "LS 471",
         "status": "Unknown"
        },
        {
         "aircraft": {
          "model": "Boeing 737-800"
         },
         "airline": {
          "name": "UIA"
         },
         "codeshareStatus": "Unknown",
         "isCargo": false,
         "movement": {
          "airport": {
           "iata": "KBP",
           "icao": "UKBB",
           "name": "Kiev"
          },
          "quality": [
           "Basic"
          ],
          "scheduledTimeLocal": "2021-11-25 12:05+01:00",
          "scheduledTimeUtc": "2021-11-25 11:05Z",
          "terminal": "1"
         },
         "number": "PS 423",
         "status": "Unknown"
        },
        {
         "aircraft": {
          "model": "Boeing 787-8"
         },
         "airline": {
          "name": "Qatar Airways"
         },
         "codeshareStatus": "Unknown",
         "isCargo": false,
         "movement": {
          "airport": {
           "iata": "DOH",
           "icao": "OTHH",
           "name": "Doha"
          },
          "quality": [
           "Basic"
          ],
          "scheduledTimeLocal": "2021-11-25 12:40+01:00",
          "scheduledTimeUtc": "2021-11-25 11:40Z",
          "terminal": "1"
         },
         "number": "QR 81",
         "status": "Unknown"
        },
        {
         "aircraft": {
          "model": "Airbus A320 NEO"
         },
         "airline": {
          "name": "SAS"
         },
         "codeshareStatus": "Unknown",
         "isCargo": false,
         "movement": {
          "airport": {
           "iata": "OSL",
           "icao": "ENGM",
           "name": "Oslo"
          },
          "quality": [
           "Basic"
          ],
          "scheduledTimeLocal": "2021-11-25 12:55+01:00",
          "scheduledTimeUtc": "2021-11-25 11:55Z",
          "terminal": "1"
         },
         "number": "SK 4723",
         "status": "Unknown"
        },
        {
         "aircraft": {
          "model": "Boeing 737-800"
         },
         "airline": {
          "name": "Aeroflot"
         },
         "codeshareStatus": "IsOperator",
         "isCargo": false,
         "movement": {
          "airport": {
           "iata": "SVO",
           "icao": "UUEE",
           "name": "Moscow"
          },
          "quality": [
           "Basic"
          ],
          "scheduledTimeLocal": "2021-11-25 12:55+01:00",
          "scheduledTimeUtc": "2021-11-25 11:55Z",
          "terminal": "1"
         },
         "number": "SU 2662",
         "status": "Unknown"
        },
        {
         "aircraft": {
          "model": "Boeing 737-800"
         },
         "airline": {
          "name": "Turkish"
         },
         "codeshareStatus": "Unknown",
         "isCargo": false,
         "movement": {
          "airport": {
           "iata": "SAW",
           "icao": "LTFJ",
           "name": "Istanbul"
          },
          "quality": [
           "Basic"
          ],
          "scheduledTimeLocal": "2021-11-25 12:30+01:00",
          "scheduledTimeUtc": "2021-11-25 11:30Z",
          "terminal": "1"
         },
         "number": "TK 7728",
         "status": "Unknown"
        },
        {
         "aircraft": {
          "model": "Airbus A320"
         },
         "airline": {
          "name": "Wizz Air"
         },
         "codeshareStatus": "Unknown",
         "isCargo": false,
         "movement": {
          "airport": {
           "iata": "BUD",
           "icao": "LHBP",
           "name": "Budapest"
          },
          "quality": [
           "Basic"
          ],
          "scheduledTimeLocal": "2021-11-25 12:15+01:00",
          "scheduledTimeUtc": "2021-11-25 11:15Z",
          "terminal": "0"
         },
         "number": "W6 2315",
         "status": "Unknown"
        },
        {
         "aircraft": {
          "model": "Boeing 737-800"
         },
         "airline": {
          "name": "SunExpress"
         },
         "codeshareStatus": "Unknown",
         "isCargo": false,
         "movement": {
          "airport": {
           "iata": "AYT",
           "icao": "LTAI",
           "name": "Antalya"
          },
          "quality": [
           "Basic"
          ],
          "scheduledTimeLocal": "2021-11-25 12:35+01:00",
          "scheduledTimeUtc": "2021-11-25 11:35Z",
          "terminal": "1"
         },
         "number": "XQ 160",
         "status": "Unknown"
        },
        {
         "aircraft": {
          "model": "Airbus A320"
         },
         "airline": {
          "name": "Eurowings"
         },
         "codeshareStatus": "Unknown",
         "isCargo": false,
         "movement": {
          "airport": {
           "iata": "STR",
           "icao": "EDDS",
           "name": "Stuttgart"
          },
          "quality": [
           "Basic"
          ],
          "scheduledTimeLocal": "2021-11-25 13:25+01:00",
          "scheduledTimeUtc": "2021-11-25 12:25Z",
          "terminal": "1"
         },
         "number": "EW 8003",
         "status": "Unknown"
        },
        {
         "aircraft": {
          "model": "Airbus A320"
         },
         "airline": {
          "name": "Eurowings"
         },
         "codeshareStatus": "Unknown",
         "isCargo": false,
         "movement": {
          "airport": {
           "iata": "CGN",
           "icao": "EDDK",
           "name": "Cologne"
          },
          "quality": [
           "Basic"
          ],
          "scheduledTimeLocal": "2021-11-25 13:15+01:00",
          "scheduledTimeUtc": "2021-11-25 12:15Z",
          "terminal": "1"
         },
         "number": "EW 8051",
         "status": "Unknown"
        },
        {
         "aircraft": {
          "model": "Boeing 737-800"
         },
         "airline": {
          "name": "Ryanair"
         },
         "codeshareStatus": "Unknown",
         "isCargo": false,
         "movement": {
          "airport": {
           "iata": "KIR",
           "icao": "EIKY",
           "name": "Killarney"
          },
          "quality": [
           "Basic"
          ],
          "scheduledTimeLocal": "2021-11-25 13:40+01:00",
          "scheduledTimeUtc": "2021-11-25 12:40Z"
         },
         "number": "FR 1710",
         "status": "Unknown"
        },
        {
         "aircraft": {
          "model": "Boeing 737-800"
         },
         "airline": {
          "name": "Ryanair"
         },
         "codeshareStatus": "Unknown",
         "isCargo": false,
         "movement": {
          "airport": {
           "iata": "STN",
           "icao": "EGSS",
           "name": "London"
          },
          "quality": [
           "Basic"
          ],
          "scheduledTimeLocal": "2021-11-25 13:35+01:00",
          "scheduledTimeUtc": "2021-11-25 12:35Z"
         },
         "number": "FR 176",
         "status": "Unknown"
        },
        {
         "aircraft": {
          "model": "Boeing 737-800"
         },
         "airline": {
          "name": "Ryanair"
         },
         "codeshareStatus": "Unknown",
         "isCargo": false,
         "movement": {
          "airport": {
           "iata": "DUB",
           "icao": "EIDW",
           "name": "Dublin"
          },
          "quality": [
           "Basic"
          ],
          "scheduledTimeLocal": "2021-11-25 13:10+01:00",
          "scheduledTimeUtc": "2021-11-25 12:10Z"
         },
         "number": "FR 8556",
         "status": "Unknown"
        },
        {
         "aircraft": {
          "model": "Boeing 737-800"
         },
         "airline": {
          "name": "Ryanair"
         },
         "codeshareStatus": "Unknown",
         "isCargo": false,
         "movement": {
          "airport": {
           "iata": "MXP",
           "icao": "LIMC",
           "name": "Milan"
          },
          "quality": [
           "Basic"
          ],
          "scheduledTimeLocal": "2021-11-25 13:55+01:00",
          "scheduledTimeUtc": "2021-11-25 12:55Z"
         },
         "number": "FR 9",
         "status": "Unknown"
        },
        {
         "aircraft": {
          "model": "Airbus A319"
         },
         "airline": {
          "name": "Royal Jordanian"
         },
         "codeshareStatus": "Unknown",
         "isCargo": false,
         "movement": {
          "airport": {
           "iata": "AMM",
           "icao": "OJAI",
           "name": "Amman"
          },
          "quality": [
           "Basic"
          ],
          "scheduledTimeLocal": "2021-11-25 13:20+01:00",
          "scheduledTimeUtc": "2021-11-25 12:20Z",
          "terminal": "1"
         },
         "number": "RJ 121",
         "status": "Unknown"
        },
        {
         "aircraft": {
          "model": "Airbus A320 NEO"
         },
         "airline": {
          "name": "SAS"
         },
         "codeshareStatus": "Unknown",
         "isCargo": false,
         "movement": {
          "airport": {
           "iata": "CPH",
           "icao": "EKCH",
           "name": "Copenhagen"
          },
          "quality": [
           "Basic"
          ],
          "scheduledTimeLocal": "2021-11-25 13:00+01:00",
          "scheduledTimeUtc": "2021-11-25 12:00Z",
          "terminal": "1"
         },
         "number": "SK 1673",
         "status": "Unknown"
        },
        {
         "aircraft": {
          "model": "Airbus A321"
         },
         "airline": {
          "name": "Turkish"
         },
         "codeshareStatus": "Unknown",
         "isCargo": false,
         "movement": {
          "airport": {
           "iata": "IST",
           "icao": "LTFM",
           "name": "Istanbul"
          },
          "quality": [
           "Basic"
          ],
          "scheduledTimeLocal": "2021-11-25 13:30+01:00",
          "scheduledTimeUtc": "2021-11-25 12:30Z",
          "terminal": "1"
         },
         "number": "TK 1725",
         "status": "Unknown"
        },
        {
         "aircraft": {
          "model": "Airbus A320"
         },
         "airline": {
          "name": "easyJet"
         },
         "codeshareStatus": "Unknown",
         "isCargo": false,
         "movement": {
          "airport": {
           "name": "Barcelona"
          },
          "quality": [
           "Basic"
          ],
          "scheduledTimeLocal": "2021-11-25 13:55+01:00",
          "scheduledTimeUtc": "2021-11-25 12:55Z",
          "terminal": "1"
         },
         "number": "U2 5122",
         "status": "Unknown"
        },
        {
         "aircraft": {
          "model": "Airbus A320"
         },
         "airline": {
          "name": "easyJet"
         },
         "codeshareStatus": "Unknown",
         "isCargo": false,
         "movement": {
          "airport": {
           "iata": "NAP",
           "icao": "LIRN",
           "name": "Nápoli"
          },
          "quality": [
           "Basic"
          ],
          "scheduledTimeLocal": "2021-11-25 13:10+01:00",
          "scheduledTimeUtc": "2021-11-25 12:10Z",
          "terminal": "1"
         },
         "number": "U2 5142",
         "status": "Unknown"
        },
        {
         "aircraft": {
          "model": "Airbus A320"
         },
         "airline": {
          "name": "easyJet"
         },
         "codeshareStatus": "Unknown",
         "isCargo": false,
         "movement": {
          "airport": {
           "iata": "CTA",
           "icao": "LICC",
           "name": "Catania"
          },
          "quality": [
           "Basic"
          ],
          "scheduledTimeLocal": "2021-11-25 13:05+01:00",
          "scheduledTimeUtc": "2021-11-25 12:05Z",
          "terminal": "1"
         },
         "number": "U2 5694",
         "status": "Unknown"
        },
        {
         "aircraft": {
          "model": "Embraer 190"
         },
         "airline": {
          "name": "Pegas Fly"
         },
         "codeshareStatus": "Unknown",
         "isCargo": false,
         "movement": {
          "airport": {
           "iata": "LED",
           "icao": "ULLI",
           "name": "Saint-Petersburg"
          },
          "quality": [
           "Basic"
          ],
          "scheduledTimeLocal": "2021-11-25 14:45+01:00",
          "scheduledTimeUtc": "2021-11-25 13:45Z",
          "terminal": "1"
         },
         "number": "EO 1909",
         "status": "Unknown"
        },
        {
         "aircraft": {
          "model": "Boeing 737-800"
         },
         "airline": {
          "name": "Ryanair"
         },
         "codeshareStatus": "Unknown",
         "isCargo": false,
         "movement": {
          "airport": {
           "iata": "STN",
           "icao": "EGSS",
           "name": "London"
          },
          "quality": [
           "Basic"
          ],
          "scheduledTimeLocal": "2021-11-25 14:05+01:00",
          "scheduledTimeUtc": "2021-11-25 13:05Z"
         },
         "number": "FR 8542",
         "status": "Unknown"
        },
        {
         "aircraft": {
          "model": "Airbus A320 NEO"
         },
         "airline": {
          "name": "Lufthansa"
         },
         "codeshareStatus": "IsCodeshared",
         "isCargo": false,
         "movement": {
          "airport": {
           "iata": "FRA",
           "icao": "EDDF",
           "name": "Frankfurt-am-Main"
          },
          "quality": [
           "Basic"
          ],
          "scheduledTimeLocal": "2021-11-25 14:55+01:00",
          "scheduledTimeUtc": "2021-11-25 13:55Z",
          "terminal": "1"
         },
         "number": "LH 186",
         "status": "Unknown"
        },
        {
         "aircraft": {
          "model": "Airbus A320"
         },
         "airline": {
          "name": "SWISS"
         },
         "codeshareStatus": "Unknown",
         "isCargo": false,
         "movement": {
          "airport": {
           "iata": "ZRH",
           "icao": "LSZH",
           "name": "Zurich"
          },
          "quality": [
           "Basic"
          ],
          "scheduledTimeLocal": "2021-11-25 14:00+01:00",
          "scheduledTimeUtc": "2021-11-25 13:00Z",
          "terminal": "1"
         },
         "number": "LX 966",
         "status": "Unknown"
        },
        {
         "aircraft": {
          "model": "Airbus A320"
         },
         "airline": {
          "name": "Vueling"
         },
         "codeshareStatus": "Unknown",
         "isCargo": false,
         "movement": {
          "airport": {
           "iata": "BCN",
           "icao": "LEBL",
           "name": "Barcelona"
          },
          "quality": [
           "Basic"
          ],
          "scheduledTimeLocal": "2021-11-25 14:10+01:00",
          "scheduledTimeUtc": "2021-11-25 13:10Z",
          "terminal": "1"
         },
         "number": "VY 1882",
         "status": "Unknown"
        },
        {
         "aircraft": {
          "model": "Embraer 190"
         },
         "airline": {
          "name": "British Airways"
         },
         "codeshareStatus": "IsCodeshared",
         "isCargo": false,
         "movement": {
          "airport": {
           "iata": "LCY",
           "icao": "EGLC",
           "name": "London"
          },
          "quality": [
           "Basic"
          ],
          "scheduledTimeLocal": "2021-11-25 15:55+01:00",
          "scheduledTimeUtc": "2021-11-25 14:55Z",
          "terminal": "1"
         },
         "number": "BA 8493",
         "status": "Unknown"
        },
        {
         "aircraft": {
          "model": "Airbus A320"
         },
         "airline": {
          "name": "Eurowings"
         },
         "codeshareStatus": "Unknown",
         "isCargo": false,
         "movement": {
          "airport": {
           "iata": "STR",
           "icao": "EDDS",
           "name": "Stuttgart"
          },
          "quality": [
           "Basic"
          ],
          "scheduledTimeLocal": "2021-11-25 15:45+01:00",
          "scheduledTimeUtc": "2021-11-25 14:45Z",
          "terminal": "1"
         },
         "number": "EW 2004",
         "status": "Unknown"
        },
        {
         "aircraft": {
          "model": "Airbus A320",
          "reg": "D-AGWU"
         },
         "airline": {
          "name": "Eurowings"
         },
         "codeshareStatus": "Unknown",
         "isCargo": false,
         "movement": {
          "airport": {
           "iata": "DUS",
           "icao": "EDDL",
           "name": "Duesseldorf"
          },
          "quality": [
           "Basic"
          ],
          "scheduledTimeLocal": "2021-11-25 15:50+01:00",
          "scheduledTimeUtc": "2021-11-25 14:50Z",
          "terminal": "1"
         },
         "number": "EW 9042",
         "status": "Unknown"
        },
        {
         "aircraft": {
          "model": "Boeing 737-800"
         },
         "airline": {
          "name": "Ryanair"
         },
         "codeshareStatus": "Unknown",
         "isCargo": false,
         "movement": {
          "airport": {
           "iata": "MAN",
           "icao": "EGCC",
           "name": "Manchester"
          },
          "quality": [
           "Basic"
          ],
          "scheduledTimeLocal": "2021-11-25 15:35+01:00",
          "scheduledTimeUtc": "2021-11-25 14:35Z"
         },
         "number": "FR 1145",
         "status": "Unknown"
        },
        {
         "aircraft": {
          "model": "Boeing 737-800"
         },
         "airline": {
          "name": "Ryanair"
         },
         "codeshareStatus": "Unknown",
         "isCargo": false,
         "movement": {
          "airport": {
           "iata": "TSF",
           "icao": "LIPH",
           "name": "Treviso"
          },
          "quality": [
           "Basic"
          ],
          "scheduledTimeLocal": "2021-11-25 15:05+01:00",
          "scheduledTimeUtc": "2021-11-25 14:05Z"
         },
         "number": "FR 4721",
         "status": "Unknown"
        },
        {
         "aircraft": {
          "model": "Boeing 737-800"
         },
         "airline": {
          "name": "Ryanair"
         },
         "codeshareStatus": "Unknown",
         "isCargo": false,
         "movement": {
          "airport": {
           "iata": "TLV",
           "icao": "LLBG",
           "name": "Tel Aviv Yafo"
          },
          "quality": [
           "Basic"
          ],
          "scheduledTimeLocal": "2021-11-25 15:30+01:00",
          "scheduledTimeUtc": "2021-11-25 14:30Z"
         },
         "number": "FR 6473",
         "status": "Unknown"
        },
        {
         "aircraft": {
          "model": "Airbus A321"
         },
         "airline": {
          "name": "Lufthansa"
         },
         "codeshareStatus": "IsCodeshared",
         "isCargo": false,
         "movement": {
          "airport": {
           "iata": "FRA",
           "icao": "EDDF",
           "name": "Frankfurt-am-Main"
          },
          "quality": [
           "Basic"
          ],
          "scheduledTimeLocal": "2021-11-25 15:55+01:00",
          "scheduledTimeUtc": "2021-11-25 14:55Z",
          "terminal": "1"
         },
         "number": "LH 188",
         "status": "Unknown"
        },
        {
         "aircraft": {
          "model": "Airbus A320"
         },
         "airline": {
          "name": "Lufthansa"
         },
         "codeshareStatus": "IsCodeshared",
         "isCargo": false,
         "movement": {
          "airport": {
           "iata": "MUC",
           "icao": "EDDM",
           "name": "Munich"
          },
          "quality": [
           "Basic"
          ],
          "scheduledTimeLocal": "2021-11-25 15:25+01:00",
          "scheduledTimeUtc": "2021-11-25 14:25Z",
          "terminal": "1"
         },
         "number": "LH 1944",
         "status": "Unknown"
        },
        {
         "aircraft": {
          "model": "Airbus A320"
         },
         "airline": {
          "name": "easyJet"
         },
         "codeshareStatus": "Unknown",
         "isCargo": false,
         "movement": {
          "airport": {
           "iata": "AGP",
           "icao": "LEMG",
           "name": "Málaga"
          },
          "quality": [
           "Basic"
          ],
          "scheduledTimeLocal": "2021-11-25 15:30+01:00",
          "scheduledTimeUtc": "2021-11-25 14:30Z",
          "terminal": "1"
         },
         "number": "U2 5914",
         "status": "Unknown"
        },
        {
         "aircraft": {
          "model": "Boeing 737-800"
         },
         "airline": {
          "name": "Ryanair"
         },
         "codeshareStatus": "Unknown",
         "isCargo": false,
         "movement": {
          "airport": {
           "iata": "FUE",
           "icao": "GCFV",
           "name": "Fuerteventura Island"
          },
          "quality": [
           "Basic"
          ],
          "scheduledTimeLocal": "2021-11-25 16:55+01:00",
          "scheduledTimeUtc": "2021-11-25 15:55Z"
         },
         "number": "FR 1102",
         "status": "Unknown"
        },
        {
         "aircraft": {
          "model": "Boeing 737-800"
         },
         "airline": {
          "name": "Ryanair"
         },
         "codeshareStatus": "Unknown",
         "isCargo": false,
         "movement": {
          "airport": {
           "iata": "PMI",
           "icao": "LEPA",
           "name": "Palma De Mallorca"
          },
          "quality": [
           "Basic"
          ],
          "scheduledTimeLocal": "2021-11-25 16:50+01:00",
          "scheduledTimeUtc": "2021-11-25 15:50Z"
         },
         "number": "FR 111",
         "status": "Unknown"
        },
        {
         "aircraft": {
          "model": "Boeing 737-800"
         },
         "airline": {
          "name": "Ryanair"
         },
         "codeshareStatus": "Unknown",
         "isCargo": false,
         "movement": {
          "airport": {
           "iata": "MRS",
           "icao": "LFML",
           "name": "Marseille"
          },
          "quality": [
           "Basic"
          ],
          "scheduledTimeLocal": "2021-11-25 16:00+01:00",
          "scheduledTimeUtc": "2021-11-25 15:00Z"
         },
         "number": "FR 8950",
         "status": "Unknown"
        },
        {
         "aircraft": {
          "model": "Embraer 190"
         },
         "airline": {
          "name": "KLM"
         },
         "codeshareStatus": "IsOperator",
         "isCargo": false,
         "movement": {
          "airport": {
           "iata": "AMS",
           "icao": "EHAM",
           "name": "Amsterdam"
          },
          "quality": [
           "Basic"
          ],
          "scheduledTimeLocal": "2021-11-25 16:40+01:00",
          "scheduledTimeUtc": "2021-11-25 15:40Z",
          "terminal": "1"
         },
         "number": "KL 1829",
         "status": "Unknown"
        },
        {
         "aircraft": {
          "model": "Airbus A320 NEO"
         },
         "airline": {
          "name": "Lufthansa"
         },
         "codeshareStatus": "IsCodeshared",
         "isCargo": false,
         "movement": {
          "airport": {
           "iata": "MUC",
           "icao": "EDDM",
           "name": "Munich"
          },
          "quality": [
           "Basic"
          ],
          "scheduledTimeLocal": "2021-11-25 16:55+01:00",
          "scheduledTimeUtc": "2021-11-25 15:55Z",
          "terminal": "1"
         },
         "number": "LH 1942",
         "status": "Unknown"
        },
        {
         "aircraft": {
          "model": "Airbus A320"
         },
         "airline": {
          "name": "Austrian"
         },
         "codeshareStatus": "Unknown",
         "isCargo": false,
         "movement": {
          "airport": {
           "iata": "VIE",
           "icao": "LOWW",
           "name": "Vienna"
          },
          "quality": [
           "Basic"
          ],
          "scheduledTimeLocal": "2021-11-25 16:15+01:00",
          "scheduledTimeUtc": "2021-11-25 15:15Z",
          "terminal": "1"
         },
         "number": "OS 231",
         "status": "Unknown"
        },
        {
         "aircraft": {
          "model": "Airbus A320"
         },
         "airline": {
          "name": "TAP Air Portugal"
         },
         "codeshareStatus": "Unknown",
         "isCargo": false,
         "movement": {
          "airport": {
           "iata": "LIS",
           "icao": "LPPT",
           "name": "Lisbon"
          },
          "quality": [
           "Basic"
          ],
          "scheduledTimeLocal": "2021-11-25 16:35+01:00",
          "scheduledTimeUtc": "2021-11-25 15:35Z",
          "terminal": "1"
         },
         "number": "TP 534",
         "status": "Unknown"
        },
        {
         "aircraft": {
          "model": "Airbus A320"
         },
         "airline": {
          "name": "easyJet"
         },
         "codeshareStatus": "Unknown",
         "isCargo": false,
         "movement": {
          "airport": {
           "iata": "TLV",
           "icao": "LLBG",
           "name": "Tel Aviv Yafo"
          },
          "quality": [
           "Basic"
          ],
          "scheduledTimeLocal": "2021-11-25 16:45+01:00",
          "scheduledTimeUtc": "2021-11-25 15:45Z",
          "terminal": "1"
         },
         "number": "U2 5202",
         "status": "Unknown"
        },
        {
         "aircraft": {
          "model": "Airbus A320"
         },
         "airline": {
          "name": "Air France"
         },
         "codeshareStatus": "Unknown",
         "isCargo": false,
         "movement": {
          "airport": {
           "iata": "CDG",
           "icao": "LFPG",
           "name": "Paris"
          },
          "quality": [
           "Basic"
          ],
          "scheduledTimeLocal": "2021-11-25 17:10+01:00",
          "scheduledTimeUtc": "2021-11-25 16:10Z",
          "terminal": "1"
         },
         "number": "AF 1834",
         "status": "Unknown"
        },
        {
         "aircraft": {
          "model": "Airbus A321"
         },
         "airline": {
          "name": "Condor"
         },
         "codeshareStatus": "Unknown",
         "isCargo": false,
         "movement": {
          "airport": {
           "iata": "HRG",
           "icao": "HEGN",
           "name": "Hurghada"
          },
          "quality": [
           "Basic"
          ],
          "scheduledTimeLocal": "2021-11-25 17:55+01:00",
          "scheduledTimeUtc": "2021-11-25 16:55Z",
          "terminal": "1"
         },
         "number": "DE 433",
         "status": "Unknown"
        },
        {
         "aircraft": {
          "model": "Airbus A319"
         },
         "airline": {
          "name": "Eurowings"
         },
         "codeshareStatus": "Unknown",
         "isCargo": false,
         "movement": {
          "airport": {
           "iata": "STR",
           "icao": "EDDS",
           "name": "Stuttgart"
          },
          "quality": [
           "Basic"
          ],
          "scheduledTimeLocal": "2021-11-25 17:05+01:00",
          "scheduledTimeUtc": "2021-11-25 16:05Z",
          "terminal": "1"
         },
         "number": "EW 2058",
         "status": "Unknown"
        },
        {
         "aircraft": {
          "model": "Airbus A320"
         },
         "airline": {
          "name": "Eurowings"
         },
         "codeshareStatus": "Unknown",
         "isCargo": false,
         "movement": {
          "airport": {
           "iata": "CGN",
           "icao": "EDDK",
           "name": "Cologne"
          },
          "quality": [
           "Basic"
          ],
          "scheduledTimeLocal": "2021-11-25 17:35+01:00",
          "scheduledTimeUtc": "2021-11-25 16:35Z",
          "terminal": "1"
         },
         "number": "EW 6",
         "status": "Unknown"
        },
        {
         "aircraft": {
          "model": "Airbus A320"
         },
         "airline": {
          "name": "Eurowings"
         },
         "codeshareStatus": "Unknown",
         "isCargo": false,
         "movement": {
          "airport": {
           "iata": "DUS",
           "icao": "EDDL",
           "name": "Duesseldorf"
          },
          "quality": [
           "Basic"
          ],
          "scheduledTimeLocal": "2021-11-25 17:55+01:00",
          "scheduledTimeUtc": "2021-11-25 16:55Z",
          "terminal": "1"
         },
         "number": "EW 8045",
         "status": "Unknown"
        },
        {
         "aircraft": {
          "model": "Boeing 737-800"
         },
         "airline": {
          "name": "Ryanair"
         },
         "codeshareStatus": "Unknown",
         "isCargo": false,
         "movement": {
          "airport": {
           "iata": "INI",
           "icao": "LYNI",
           "name": "Niš"
          },
          "quality": [
           "Basic"
          ],
          "scheduledTimeLocal": "2021-11-25 17:35+01:00",
          "scheduledTimeUtc": "2021-11-25 16:35Z"
         },
         "number": "FR 1106",
         "status": "Unknown"
        },
        {
         "aircraft": {
          "model": "Boeing 737-800"
         },
         "airline": {
          "name": "Ryanair"
         },
         "codeshareStatus": "Unknown",
         "isCargo": false,
         "movement": {
          "airport": {
           "iata": "BCN",
           "icao": "LEBL",
           "name": "Barcelona"
          },
          "quality": [
           "Basic"
          ],
          "scheduledTimeLocal": "2021-11-25 17:00+01:00",
          "scheduledTimeUtc": "2021-11-25 16:00Z"
         },
         "number": "FR 133",
         "status": "Unknown"
        },
        {
         "aircraft": {
          "model": "Boeing 737-800"
         },
         "airline": {
          "name": "Ryanair"
         },
         "codeshareStatus": "Unknown",
         "isCargo": false,
         "movement": {
          "airport": {
           "iata": "TFS",
           "icao": "GCTS",
           "name": "Tenerife Island"
          },
          "quality": [
           "Basic"
          ],
          "scheduledTimeLocal": "2021-11-25 17:15+01:00",
          "scheduledTimeUtc": "2021-11-25 16:15Z"
         },
         "number": "FR 4067",
         "status": "Unknown"
        },
        {
         "aircraft": {
          "model": "Airbus A320"
         },
         "airline": {
          "name": "Lufthansa"
         },
         "codeshareStatus": "IsCodeshared",
         "isCargo": false,
         "movement": {
          "airport": {
           "iata": "FRA",
           "icao": "EDDF",
           "name": "Frankfurt-am-Main"
          },
          "quality": [
           "Basic"
          ],
          "scheduledTimeLocal": "2021-11-25 17:55+01:00",
          "scheduledTimeUtc": "2021-11-25 16:55Z",
          "terminal": "1"
         },
         "number": "LH 192",
         "status": "Unknown"
        },
        {
         "aircraft": {
          "model": "Bombardier CRJ900"
         },
         "airline": {
          "name": "Lufthansa"
         },
         "codeshareStatus": "IsCodeshared",
         "isCargo": false,
         "movement": {
          "airport": {
           "iata": "MUC",
           "icao": "EDDM",
           "name": "Munich"
          },
          "quality": [
           "Basic"
          ],
          "scheduledTimeLocal": "2021-11-25 17:40+01:00",
          "scheduledTimeUtc": "2021-11-25 16:40Z",
          "terminal": "1"
         },
         "number": "LH 1946",
         "status": "Unknown"
        },
        {
         "aircraft": {
          "model": "Embraer 175"
         },
         "airline": {
          "name": "LOT - Polish"
         },
         "codeshareStatus": "Unknown",
         "isCargo": false,
         "movement": {
          "airport": {
           "iata": "WAW",
           "icao": "EPWA",
           "name": "Warsaw"
          },
          "quality": [
           "Basic"
          ],
          "scheduledTimeLocal": "2021-11-25 17:45+01:00",
          "scheduledTimeUtc": "2021-11-25 16:45Z",
          "terminal": "1"
         },
         "number": "LO 389",
         "status": "Unknown"
        },
        {
         "aircraft": {
          "model": "Airbus A320"
         },
         "airline": {
          "name": "Brussels"
         },
         "codeshareStatus": "Unknown",
         "isCargo": false,
         "movement": {
          "airport": {
           "iata": "BRU",
           "icao": "EBBR",
           "name": "Brussels"
          },
          "quality": [
           "Basic"
          ],
          "scheduledTimeLocal": "2021-11-25 17:50+01:00",
          "scheduledTimeUtc": "2021-11-25 16:50Z",
          "terminal": "1"
         },
         "number": "SN 2587",
         "status": "Unknown"
        },
        {
         "aircraft": {
          "model": "Airbus A321"
         },
         "airline": {
          "name": "Turkish"
         },
         "codeshareStatus": "Unknown",
         "isCargo": false,
         "movement": {
          "airport": {
           "iata": "IST",
           "icao": "LTFM",
           "name": "Istanbul"
          },
          "quality": [
           "Basic"
          ],
          "scheduledTimeLocal": "2021-11-25 17:30+01:00",
          "scheduledTimeUtc": "2021-11-25 16:30Z",
          "terminal": "1"
         },
         "number": "TK 1723",
         "status": "Unknown"
        },
        {
         "aircraft": {
          "model": "Airbus A320"
         },
         "airline": {
          "name": "Finnair"
         },
         "codeshareStatus": "Unknown",
         "isCargo": false,
         "movement": {
          "airport": {
           "iata": "HEL",
           "icao": "EFHK",
           "name": "Helsinki"
          },
          "quality": [
           "Basic"
          ],
          "scheduledTimeLocal": "2021-11-25 18:25+01:00",
          "scheduledTimeUtc": "2021-11-25 17:25Z",
          "terminal": "1"
         },
         "number": "AY 1435",
         "status": "Unknown"
        },
        {
         "aircraft": {
          "model": "Airbus A319"
         },
         "airline": {
          "name": "British Airways"
         },
         "codeshareStatus": "IsCodeshared",
         "isCargo": false,
         "movement": {
          "airport": {
           "iata": "LHR",
           "icao": "EGLL",
           "name": "London"
          },
          "quality": [
           "Basic"
          ],
          "scheduledTimeLocal": "2021-11-25 18:50+01:00",
          "scheduledTimeUtc": "2021-11-25 17:50Z",
          "terminal": "1"
         },
         "number": "BA 986",
         "status": "Unknown"
        },
        {
         "aircraft": {
          "model": "Airbus A320"
         },
         "airline": {
          "name": "Eurowings"
         },
         "codeshareStatus": "Unknown",
         "isCargo": false,
         "movement": {
          "airport": {
           "iata": "FUE",
           "icao": "GCFV",
           "name": "Fuerteventura Island"
          },
          "quality": [
           "Basic"
          ],
          "scheduledTimeLocal": "2021-11-25 18:20+01:00",
          "scheduledTimeUtc": "2021-11-25 17:20Z",
          "terminal": "1"
         },
         "number": "EW 8181",
         "status": "Unknown"
        },
        {
         "aircraft": {
          "model": "Boeing 737-800"
         },
         "airline": {
          "name": "Ryanair"
         },
         "codeshareStatus": "Unknown",
         "isCargo": false,
         "movement": {
          "airport": {
           "iata": "VNO",
           "icao": "EYVI",
           "name": "Vilnius"
          },
          "quality": [
           "Basic"
          ],
          "scheduledTimeLocal": "2021-11-25 18:10+01:00",
          "scheduledTimeUtc": "2021-11-25 17:10Z"
         },
         "number": "FR 1571",
         "status": "Unknown"
        },
        {
         "aircraft": {
          "model": "Boeing 737-800"
         },
         "airline": {
          "name": "Ryanair"
         },
         "codeshareStatus": "Unknown",
         "isCargo": false,
         "movement": {
          "airport": {
           "iata": "DUB",
           "icao": "EIDW",
           "name": "Dublin"
          },
          "quality": [
           "Basic"
          ],
          "scheduledTimeLocal": "2021-11-25 18:40+01:00",
          "scheduledTimeUtc": "2021-11-25 17:40Z"
         },
         "number": "FR 8558",
         "status": "Unknown"
        },
        {
         "aircraft": {
          "model": "Embraer 190"
         },
         "airline": {
          "name": "KLM"
         },
         "codeshareStatus": "IsOperator",
         "isCargo": false,
         "movement": {
          "airport": {
           "iata": "AMS",
           "icao": "EHAM",
           "name": "Amsterdam"
          },
          "quality": [
           "Basic"
          ],
          "scheduledTimeLocal": "2021-11-25 18:00+01:00",
          "scheduledTimeUtc": "2021-11-25 17:00Z",
          "terminal": "1"
         },
         "number": "KL 1831",
         "status": "Unknown"
        },
        {
         "aircraft": {
          "model": "Airbus A320 NEO"
         },
         "airline": {
          "name": "Lufthansa"
         },
         "codeshareStatus": "IsCodeshared",
         "isCargo": false,
         "movement": {
          "airport": {
           "iata": "FRA",
           "icao": "EDDF",
           "name": "Frankfurt-am-Main"
          },
          "quality": [
           "Basic"
          ],
          "scheduledTimeLocal": "2021-11-25 18:55+01:00",
          "scheduledTimeUtc": "2021-11-25 17:55Z",
          "terminal": "1"
         },
         "number": "LH 194",
         "status": "Unknown"
        },
        {
         "aircraft": {
          "model": "Airbus A320 NEO"
         },
         "airline": {
          "name": "Lufthansa"
         },
         "codeshareStatus": "IsCodeshared",
         "isCargo": false,
         "movement": {
          "airport": {
           "iata": "MUC",
           "icao": "EDDM",
           "name": "Munich"
          },
          "quality": [
           "Basic"
          ],
          "scheduledTimeLocal": "2021-11-25 18:10+01:00",
          "scheduledTimeUtc": "2021-11-25 17:10Z",
          "terminal": "1"
         },
         "number": "LH 1948",
         "status": "Unknown"
        },
        {
         "aircraft": {
          "model": "Airbus A220-300"
         },
         "airline": {
          "name": "SWISS"
         },
         "codeshareStatus": "Unknown",
         "isCargo": false,
         "movement": {
          "airport": {
           "iata": "ZRH",
           "icao": "LSZH",
           "name": "Zurich"
          },
          "quality": [
           "Basic"
          ],
          "scheduledTimeLocal": "2021-11-25 18:55+01:00",
          "scheduledTimeUtc": "2021-11-25 17:55Z",
          "terminal": "1"
         },
         "number": "LX 970",
         "status": "Unknown"
        },
        {
         "aircraft": {
          "model": "Airbus A320"
         },
         "airline": {
          "name": "Austrian"
         },
         "codeshareStatus": "Unknown",
         "isCargo": false,
         "movement": {
          "airport": {
           "iata": "VIE",
           "icao": "LOWW",
           "name": "Vienna"
          },
          "quality": [
           "Basic"
          ],
          "scheduledTimeLocal": "2021-11-25 18:40+01:00",
          "scheduledTimeUtc": "2021-11-25 17:40Z",
          "terminal": "1"
         },
         "number": "OS 235",
         "status": "Unknown"
        },
        {
         "aircraft": {
          "model": "Airbus A319"
         },
         "airline": {
          "name": "easyJet"
         },
         "codeshareStatus": "Unknown",
         "isCargo": false,
         "movement": {
          "airport": {
           "name": "Amsterdam"
          },
          "quality": [
           "Basic"
          ],
          "scheduledTimeLocal": "2021-11-25 18:10+01:00",
          "scheduledTimeUtc": "2021-11-25 17:10Z",
          "terminal": "1"
         },
         "number": "U2 5106",
         "status": "Unknown"
        },
        {
         "aircraft": {
          "model": "Airbus A320"
         },
         "airline": {
          "name": "Wizz Air"
         },
         "codeshareStatus": "Unknown",
         "isCargo": false,
         "movement": {
          "airport": {
           "iata": "IEV",
           "icao": "UKKK",
           "name": "Kiev"
          },
          "quality": [
           "Basic"
          ],
          "scheduledTimeLocal": "2021-11-25 18:45+01:00",
          "scheduledTimeUtc": "2021-11-25 17:45Z",
          "terminal": "0"
         },
         "number": "W6 6113",
         "status": "Unknown"
        },
        {
         "aircraft": {
          "model": "Airbus A220-300"
         },
         "airline": {
          "name": "Air Baltic"
         },
         "codeshareStatus": "Unknown",
         "isCargo": false,
         "movement": {
          "airport": {
           "iata": "RIX",
           "icao": "EVRA",
           "name": "Riga"
          },
          "quality": [
           "Basic"
          ],
          "scheduledTimeLocal": "2021-11-25 19:00+01:00",
          "scheduledTimeUtc": "2021-11-25 18:00Z",
          "terminal": "1"
         },
         "number": "BT 213",
         "status": "Unknown"
        },
        {
         "aircraft": {
          "model": "Airbus A320"
         },
         "airline": {
          "name": "easyJet"
         },
         "codeshareStatus": "Unknown",
         "isCargo": false,
         "movement": {
          "airport": {
           "iata": "FUE",
           "icao": "GCFV",
           "name": "Fuerteventura Island"
          },
          "quality": [
           "Basic"
          ],
          "scheduledTimeLocal": "2021-11-25 19:00+01:00",
          "scheduledTimeUtc": "2021-11-25 18:00Z",
          "terminal": "1"
         },
         "number": "U2 5924",
         "status": "Unknown"
        }
       ]
      },
      "text/plain": [
       "<IPython.core.display.JSON object>"
      ]
     },
     "execution_count": 90,
     "metadata": {
      "application/json": {
       "expanded": false,
       "root": "root"
      }
     },
     "output_type": "execute_result"
    }
   ],
   "source": [
    "# flights between 07:00 - 19:00\n",
    "JSON(response_one.json())"
   ]
  },
  {
   "cell_type": "markdown",
   "id": "c9b2e4b0-bc81-41f0-913c-74840fc76856",
   "metadata": {},
   "source": [
    "### JSON display 2"
   ]
  },
  {
   "cell_type": "code",
   "execution_count": 41,
   "id": "62e426a6-9a24-4292-ba7d-d21decba5b74",
   "metadata": {
    "tags": []
   },
   "outputs": [
    {
     "data": {
      "application/json": {
       "arrivals": [
        {
         "aircraft": {
          "model": "Airbus A318"
         },
         "airline": {
          "name": "Air France"
         },
         "codeshareStatus": "Unknown",
         "isCargo": false,
         "movement": {
          "airport": {
           "iata": "CDG",
           "icao": "LFPG",
           "name": "Paris"
          },
          "quality": [
           "Basic"
          ],
          "scheduledTimeLocal": "2021-11-25 19:35+01:00",
          "scheduledTimeUtc": "2021-11-25 18:35Z",
          "terminal": "1"
         },
         "number": "AF 1534",
         "status": "Unknown"
        },
        {
         "aircraft": {
          "model": "Embraer 190"
         },
         "airline": {
          "name": "British Airways"
         },
         "codeshareStatus": "IsCodeshared",
         "isCargo": false,
         "movement": {
          "airport": {
           "iata": "LCY",
           "icao": "EGLC",
           "name": "London"
          },
          "quality": [
           "Basic"
          ],
          "scheduledTimeLocal": "2021-11-25 19:30+01:00",
          "scheduledTimeUtc": "2021-11-25 18:30Z",
          "terminal": "1"
         },
         "number": "BA 8743",
         "status": "Unknown"
        },
        {
         "aircraft": {
          "model": "ATR 72"
         },
         "airline": {
          "name": "Danish Air"
         },
         "codeshareStatus": "Unknown",
         "isCargo": false,
         "movement": {
          "airport": {
           "iata": "SCN",
           "icao": "EDDR",
           "name": "Saarbrücken"
          },
          "quality": [
           "Basic"
          ],
          "scheduledTimeLocal": "2021-11-25 19:10+01:00",
          "scheduledTimeUtc": "2021-11-25 18:10Z",
          "terminal": "0"
         },
         "number": "DX 125",
         "status": "Unknown"
        },
        {
         "aircraft": {
          "model": "Boeing 737-800"
         },
         "airline": {
          "name": "Norwegian Air Shuttle"
         },
         "codeshareStatus": "Unknown",
         "isCargo": false,
         "movement": {
          "airport": {
           "iata": "OSL",
           "icao": "ENGM",
           "name": "Oslo"
          },
          "quality": [
           "Basic"
          ],
          "scheduledTimeLocal": "2021-11-25 19:35+01:00",
          "scheduledTimeUtc": "2021-11-25 18:35Z",
          "terminal": "1"
         },
         "number": "DY 1108",
         "status": "Unknown"
        },
        {
         "aircraft": {
          "model": "Boeing 737-800"
         },
         "airline": {
          "name": "Ryanair"
         },
         "codeshareStatus": "Unknown",
         "isCargo": false,
         "movement": {
          "airport": {
           "iata": "CIA",
           "icao": "LIRA",
           "name": "Roma"
          },
          "quality": [
           "Basic"
          ],
          "scheduledTimeLocal": "2021-11-25 19:55+01:00",
          "scheduledTimeUtc": "2021-11-25 18:55Z"
         },
         "number": "FR 141",
         "status": "Unknown"
        },
        {
         "aircraft": {
          "model": "Boeing 737-800"
         },
         "airline": {
          "name": "Ryanair"
         },
         "codeshareStatus": "Unknown",
         "isCargo": false,
         "movement": {
          "airport": {
           "iata": "AGP",
           "icao": "LEMG",
           "name": "Málaga"
          },
          "quality": [
           "Basic"
          ],
          "scheduledTimeLocal": "2021-11-25 19:40+01:00",
          "scheduledTimeUtc": "2021-11-25 18:40Z"
         },
         "number": "FR 2591",
         "status": "Unknown"
        },
        {
         "aircraft": {
          "model": "Boeing 737-800"
         },
         "airline": {
          "name": "Ryanair"
         },
         "codeshareStatus": "Unknown",
         "isCargo": false,
         "movement": {
          "airport": {
           "iata": "TLL",
           "icao": "EETN",
           "name": "Tallinn"
          },
          "quality": [
           "Basic"
          ],
          "scheduledTimeLocal": "2021-11-25 19:10+01:00",
          "scheduledTimeUtc": "2021-11-25 18:10Z"
         },
         "number": "FR 2733",
         "status": "Unknown"
        },
        {
         "aircraft": {
          "model": "Airbus A320"
         },
         "airline": {
          "name": "Iberia"
         },
         "codeshareStatus": "Unknown",
         "isCargo": false,
         "movement": {
          "airport": {
           "iata": "MAD",
           "icao": "LEMD",
           "name": "Madrid"
          },
          "quality": [
           "Basic"
          ],
          "scheduledTimeLocal": "2021-11-25 19:05+01:00",
          "scheduledTimeUtc": "2021-11-25 18:05Z",
          "terminal": "1"
         },
         "number": "IB 3672",
         "status": "Unknown"
        },
        {
         "aircraft": {
          "model": "Airbus A320"
         },
         "airline": {
          "name": "Lufthansa"
         },
         "codeshareStatus": "IsCodeshared",
         "isCargo": false,
         "movement": {
          "airport": {
           "iata": "FRA",
           "icao": "EDDF",
           "name": "Frankfurt-am-Main"
          },
          "quality": [
           "Basic"
          ],
          "scheduledTimeLocal": "2021-11-25 19:55+01:00",
          "scheduledTimeUtc": "2021-11-25 18:55Z",
          "terminal": "1"
         },
         "number": "LH 190",
         "status": "Unknown"
        },
        {
         "aircraft": {
          "model": "Airbus A320"
         },
         "airline": {
          "name": "Lufthansa"
         },
         "codeshareStatus": "Unknown",
         "isCargo": false,
         "movement": {
          "airport": {
           "iata": "MUC",
           "icao": "EDDM",
           "name": "Munich"
          },
          "quality": [
           "Basic"
          ],
          "scheduledTimeLocal": "2021-11-25 19:15+01:00",
          "scheduledTimeUtc": "2021-11-25 18:15Z",
          "terminal": "1"
         },
         "number": "LH 2330",
         "status": "Unknown"
        },
        {
         "aircraft": {
          "model": "Airbus A320 NEO"
         },
         "airline": {
          "name": "SWISS"
         },
         "codeshareStatus": "Unknown",
         "isCargo": false,
         "movement": {
          "airport": {
           "iata": "ZRH",
           "icao": "LSZH",
           "name": "Zurich"
          },
          "quality": [
           "Basic"
          ],
          "scheduledTimeLocal": "2021-11-25 19:45+01:00",
          "scheduledTimeUtc": "2021-11-25 18:45Z",
          "terminal": "1"
         },
         "number": "LX 978",
         "status": "Unknown"
        },
        {
         "aircraft": {
          "model": "Boeing 737-800"
         },
         "airline": {
          "name": "El Al"
         },
         "codeshareStatus": "Unknown",
         "isCargo": false,
         "movement": {
          "airport": {
           "iata": "TLV",
           "icao": "LLBG",
           "name": "Tel Aviv Yafo"
          },
          "quality": [
           "Basic"
          ],
          "scheduledTimeLocal": "2021-11-25 19:50+01:00",
          "scheduledTimeUtc": "2021-11-25 18:50Z",
          "terminal": "1"
         },
         "number": "LY 2373",
         "status": "Unknown"
        },
        {
         "aircraft": {
          "model": "Airbus A319"
         },
         "airline": {
          "name": "Eurowings"
         },
         "codeshareStatus": "Unknown",
         "isCargo": false,
         "movement": {
          "airport": {
           "iata": "STR",
           "icao": "EDDS",
           "name": "Stuttgart"
          },
          "quality": [
           "Basic"
          ],
          "scheduledTimeLocal": "2021-11-25 20:05+01:00",
          "scheduledTimeUtc": "2021-11-25 19:05Z",
          "terminal": "1"
         },
         "number": "EW 2006",
         "status": "Unknown"
        },
        {
         "aircraft": {
          "model": "Airbus A320"
         },
         "airline": {
          "name": "Eurowings"
         },
         "codeshareStatus": "Unknown",
         "isCargo": false,
         "movement": {
          "airport": {
           "iata": "DUS",
           "icao": "EDDL",
           "name": "Duesseldorf"
          },
          "quality": [
           "Basic"
          ],
          "scheduledTimeLocal": "2021-11-25 20:05+01:00",
          "scheduledTimeUtc": "2021-11-25 19:05Z",
          "terminal": "1"
         },
         "number": "EW 9044",
         "status": "Unknown"
        },
        {
         "aircraft": {
          "model": "Bombardier Dash 8 Q400 / DHC-8-400"
         },
         "airline": {
          "name": "Luxair"
         },
         "codeshareStatus": "Unknown",
         "isCargo": false,
         "movement": {
          "airport": {
           "iata": "LUX",
           "icao": "ELLX",
           "name": "Luxembourg"
          },
          "quality": [
           "Basic"
          ],
          "scheduledTimeLocal": "2021-11-25 20:10+01:00",
          "scheduledTimeUtc": "2021-11-25 19:10Z",
          "terminal": "1"
         },
         "number": "LG 9473",
         "status": "Unknown"
        },
        {
         "aircraft": {
          "model": "Airbus A320 NEO"
         },
         "airline": {
          "name": "Lufthansa"
         },
         "codeshareStatus": "IsCodeshared",
         "isCargo": false,
         "movement": {
          "airport": {
           "iata": "MUC",
           "icao": "EDDM",
           "name": "Munich"
          },
          "quality": [
           "Basic"
          ],
          "scheduledTimeLocal": "2021-11-25 20:10+01:00",
          "scheduledTimeUtc": "2021-11-25 19:10Z",
          "terminal": "1"
         },
         "number": "LH 1954",
         "status": "Unknown"
        },
        {
         "aircraft": {
          "model": "Airbus A320"
         },
         "airline": {
          "name": "Ghodawat Enterprises"
         },
         "codeshareStatus": "Unknown",
         "isCargo": false,
         "movement": {
          "airport": {
           "iata": "KEF",
           "icao": "BIKF",
           "name": "Reykjavik"
          },
          "quality": [
           "Basic"
          ],
          "scheduledTimeLocal": "2021-11-25 20:00+01:00",
          "scheduledTimeUtc": "2021-11-25 19:00Z",
          "terminal": "1"
         },
         "number": "OG 704",
         "status": "Unknown"
        },
        {
         "aircraft": {
          "model": "Airbus A320"
         },
         "airline": {
          "name": "Austrian"
         },
         "codeshareStatus": "Unknown",
         "isCargo": false,
         "movement": {
          "airport": {
           "iata": "VIE",
           "icao": "LOWW",
           "name": "Vienna"
          },
          "quality": [
           "Basic"
          ],
          "scheduledTimeLocal": "2021-11-25 20:20+01:00",
          "scheduledTimeUtc": "2021-11-25 19:20Z",
          "terminal": "1"
         },
         "number": "OS 237",
         "status": "Unknown"
        },
        {
         "aircraft": {
          "model": "Airbus A320"
         },
         "airline": {
          "name": "easyJet"
         },
         "codeshareStatus": "Unknown",
         "isCargo": false,
         "movement": {
          "airport": {
           "iata": "CDG",
           "icao": "LFPG",
           "name": "Paris"
          },
          "quality": [
           "Basic"
          ],
          "scheduledTimeLocal": "2021-11-25 20:05+01:00",
          "scheduledTimeUtc": "2021-11-25 19:05Z",
          "terminal": "1"
         },
         "number": "U2 5676",
         "status": "Unknown"
        },
        {
         "aircraft": {
          "model": "Airbus A319"
         },
         "airline": {
          "name": "easyJet"
         },
         "codeshareStatus": "Unknown",
         "isCargo": false,
         "movement": {
          "airport": {
           "iata": "ZRH",
           "icao": "LSZH",
           "name": "Zurich"
          },
          "quality": [
           "Basic"
          ],
          "scheduledTimeLocal": "2021-11-25 20:50+01:00",
          "scheduledTimeUtc": "2021-11-25 19:50Z",
          "terminal": "1"
         },
         "number": "U2 5868",
         "status": "Unknown"
        },
        {
         "aircraft": {
          "model": "Airbus A320"
         },
         "airline": {
          "name": "easyJet"
         },
         "codeshareStatus": "Unknown",
         "isCargo": false,
         "movement": {
          "airport": {
           "iata": "BRS",
           "icao": "EGGD",
           "name": "Bristol"
          },
          "quality": [
           "Basic"
          ],
          "scheduledTimeLocal": "2021-11-25 20:40+01:00",
          "scheduledTimeUtc": "2021-11-25 19:40Z",
          "terminal": "1"
         },
         "number": "U2 6237",
         "status": "Unknown"
        },
        {
         "aircraft": {
          "model": "Embraer 190"
         },
         "airline": {
          "name": "British Airways"
         },
         "codeshareStatus": "IsCodeshared",
         "isCargo": false,
         "movement": {
          "airport": {
           "iata": "LCY",
           "icao": "EGLC",
           "name": "London"
          },
          "quality": [
           "Basic"
          ],
          "scheduledTimeLocal": "2021-11-25 21:10+01:00",
          "scheduledTimeUtc": "2021-11-25 20:10Z",
          "terminal": "1"
         },
         "number": "BA 8495",
         "status": "Unknown"
        },
        {
         "aircraft": {
          "model": "Airbus A320"
         },
         "airline": {
          "name": "British Airways"
         },
         "codeshareStatus": "IsCodeshared",
         "isCargo": false,
         "movement": {
          "airport": {
           "iata": "LHR",
           "icao": "EGLL",
           "name": "London"
          },
          "quality": [
           "Basic"
          ],
          "scheduledTimeLocal": "2021-11-25 21:45+01:00",
          "scheduledTimeUtc": "2021-11-25 20:45Z",
          "terminal": "1"
         },
         "number": "BA 988",
         "status": "Unknown"
        },
        {
         "aircraft": {
          "model": "Boeing 737-800"
         },
         "airline": {
          "name": "Norwegian Air Shuttle"
         },
         "codeshareStatus": "Unknown",
         "isCargo": false,
         "movement": {
          "airport": {
           "iata": "BGO",
           "icao": "ENBR",
           "name": "Bergen"
          },
          "quality": [
           "Basic"
          ],
          "scheduledTimeLocal": "2021-11-25 21:20+01:00",
          "scheduledTimeUtc": "2021-11-25 20:20Z",
          "terminal": "1"
         },
         "number": "DY 1160",
         "status": "Unknown"
        },
        {
         "aircraft": {
          "model": "Airbus A320"
         },
         "airline": {
          "name": "Eurowings"
         },
         "codeshareStatus": "Unknown",
         "isCargo": false,
         "movement": {
          "airport": {
           "iata": "DUS",
           "icao": "EDDL",
           "name": "Duesseldorf"
          },
          "quality": [
           "Basic"
          ],
          "scheduledTimeLocal": "2021-11-25 21:45+01:00",
          "scheduledTimeUtc": "2021-11-25 20:45Z",
          "terminal": "1"
         },
         "number": "EW 8047",
         "status": "Unknown"
        },
        {
         "aircraft": {
          "model": "Airbus A320"
         },
         "airline": {
          "name": "Eurowings"
         },
         "codeshareStatus": "Unknown",
         "isCargo": false,
         "movement": {
          "airport": {
           "iata": "CGN",
           "icao": "EDDK",
           "name": "Cologne"
          },
          "quality": [
           "Basic"
          ],
          "scheduledTimeLocal": "2021-11-25 21:40+01:00",
          "scheduledTimeUtc": "2021-11-25 20:40Z",
          "terminal": "1"
         },
         "number": "EW 8055",
         "status": "Unknown"
        },
        {
         "aircraft": {
          "model": "Boeing 737-800"
         },
         "airline": {
          "name": "Ryanair"
         },
         "codeshareStatus": "Unknown",
         "isCargo": false,
         "movement": {
          "airport": {
           "iata": "SKG",
           "icao": "LGTS",
           "name": "Thessaloniki"
          },
          "quality": [
           "Basic"
          ],
          "scheduledTimeLocal": "2021-11-25 21:45+01:00",
          "scheduledTimeUtc": "2021-11-25 20:45Z"
         },
         "number": "FR 1147",
         "status": "Unknown"
        },
        {
         "aircraft": {
          "model": "Boeing 737-800"
         },
         "airline": {
          "name": "Ryanair"
         },
         "codeshareStatus": "Unknown",
         "isCargo": false,
         "movement": {
          "airport": {
           "iata": "OTP",
           "icao": "LROP",
           "name": "Bucharest"
          },
          "quality": [
           "Basic"
          ],
          "scheduledTimeLocal": "2021-11-25 21:30+01:00",
          "scheduledTimeUtc": "2021-11-25 20:30Z"
         },
         "number": "FR 328",
         "status": "Unknown"
        },
        {
         "aircraft": {
          "model": "Boeing 737-800",
          "reg": "PH-BGX"
         },
         "airline": {
          "name": "KLM"
         },
         "codeshareStatus": "IsOperator",
         "isCargo": false,
         "movement": {
          "airport": {
           "iata": "AMS",
           "icao": "EHAM",
           "name": "Amsterdam"
          },
          "quality": [
           "Basic"
          ],
          "scheduledTimeLocal": "2021-11-25 21:55+01:00",
          "scheduledTimeUtc": "2021-11-25 20:55Z",
          "terminal": "1"
         },
         "number": "KL 1835",
         "status": "Unknown"
        },
        {
         "aircraft": {
          "model": "Airbus A319"
         },
         "airline": {
          "name": "easyJet"
         },
         "codeshareStatus": "Unknown",
         "isCargo": false,
         "movement": {
          "airport": {
           "iata": "AMS",
           "icao": "EHAM",
           "name": "Amsterdam"
          },
          "quality": [
           "Basic"
          ],
          "scheduledTimeLocal": "2021-11-25 21:30+01:00",
          "scheduledTimeUtc": "2021-11-25 20:30Z",
          "terminal": "1"
         },
         "number": "U2 5108",
         "status": "Unknown"
        },
        {
         "aircraft": {
          "model": "Airbus A320"
         },
         "airline": {
          "name": "easyJet"
         },
         "codeshareStatus": "Unknown",
         "isCargo": false,
         "movement": {
          "airport": {
           "iata": "ARN",
           "icao": "ESSA",
           "name": "Stockholm"
          },
          "quality": [
           "Basic"
          ],
          "scheduledTimeLocal": "2021-11-25 21:50+01:00",
          "scheduledTimeUtc": "2021-11-25 20:50Z",
          "terminal": "1"
         },
         "number": "U2 5216",
         "status": "Unknown"
        },
        {
         "aircraft": {
          "model": "Airbus A320"
         },
         "airline": {
          "name": "easyJet"
         },
         "codeshareStatus": "Unknown",
         "isCargo": false,
         "movement": {
          "airport": {
           "name": "Rome"
          },
          "quality": [
           "Basic"
          ],
          "scheduledTimeLocal": "2021-11-25 21:30+01:00",
          "scheduledTimeUtc": "2021-11-25 20:30Z",
          "terminal": "1"
         },
         "number": "U2 5708",
         "status": "Unknown"
        },
        {
         "aircraft": {
          "model": "Airbus A320"
         },
         "airline": {
          "name": "easyJet"
         },
         "codeshareStatus": "Unknown",
         "isCargo": false,
         "movement": {
          "airport": {
           "iata": "VCE",
           "icao": "LIPZ",
           "name": "Venice"
          },
          "quality": [
           "Basic"
          ],
          "scheduledTimeLocal": "2021-11-25 21:45+01:00",
          "scheduledTimeUtc": "2021-11-25 20:45Z",
          "terminal": "1"
         },
         "number": "U2 5838",
         "status": "Unknown"
        },
        {
         "aircraft": {
          "model": "Airbus A320"
         },
         "airline": {
          "name": "easyJet"
         },
         "codeshareStatus": "Unknown",
         "isCargo": false,
         "movement": {
          "airport": {
           "iata": "LGW",
           "icao": "EGKK",
           "name": "London"
          },
          "quality": [
           "Basic"
          ],
          "scheduledTimeLocal": "2021-11-25 21:00+01:00",
          "scheduledTimeUtc": "2021-11-25 20:00Z",
          "terminal": "1"
         },
         "number": "U2 8125",
         "status": "Unknown"
        },
        {
         "aircraft": {
          "model": "Airbus A320"
         },
         "airline": {
          "name": "Air France"
         },
         "codeshareStatus": "Unknown",
         "isCargo": false,
         "movement": {
          "airport": {
           "iata": "CDG",
           "icao": "LFPG",
           "name": "Paris"
          },
          "quality": [
           "Basic"
          ],
          "scheduledTimeLocal": "2021-11-25 22:40+01:00",
          "scheduledTimeUtc": "2021-11-25 21:40Z",
          "terminal": "1"
         },
         "number": "AF 1134",
         "status": "Unknown"
        },
        {
         "aircraft": {
          "model": "Airbus A320"
         },
         "airline": {
          "name": "Eurowings"
         },
         "codeshareStatus": "Unknown",
         "isCargo": false,
         "movement": {
          "airport": {
           "iata": "STR",
           "icao": "EDDS",
           "name": "Stuttgart"
          },
          "quality": [
           "Basic"
          ],
          "scheduledTimeLocal": "2021-11-25 22:25+01:00",
          "scheduledTimeUtc": "2021-11-25 21:25Z",
          "terminal": "1"
         },
         "number": "EW 8007",
         "status": "Unknown"
        },
        {
         "aircraft": {
          "model": "Boeing 737-800"
         },
         "airline": {
          "name": "Ryanair"
         },
         "codeshareStatus": "Unknown",
         "isCargo": false,
         "movement": {
          "airport": {
           "iata": "LIS",
           "icao": "LPPT",
           "name": "Lisbon"
          },
          "quality": [
           "Basic"
          ],
          "scheduledTimeLocal": "2021-11-25 22:15+01:00",
          "scheduledTimeUtc": "2021-11-25 21:15Z"
         },
         "number": "FR 1143",
         "status": "Unknown"
        },
        {
         "aircraft": {
          "model": "Boeing 737-800"
         },
         "airline": {
          "name": "Ryanair"
         },
         "codeshareStatus": "Unknown",
         "isCargo": false,
         "movement": {
          "airport": {
           "name": "Bologna"
          },
          "quality": [
           "Basic"
          ],
          "scheduledTimeLocal": "2021-11-25 22:00+01:00",
          "scheduledTimeUtc": "2021-11-25 21:00Z"
         },
         "number": "FR 137",
         "status": "Unknown"
        },
        {
         "aircraft": {
          "model": "Boeing 737-800"
         },
         "airline": {
          "name": "Ryanair"
         },
         "codeshareStatus": "Unknown",
         "isCargo": false,
         "movement": {
          "airport": {
           "iata": "STN",
           "icao": "EGSS",
           "name": "London"
          },
          "quality": [
           "Basic"
          ],
          "scheduledTimeLocal": "2021-11-25 22:10+01:00",
          "scheduledTimeUtc": "2021-11-25 21:10Z"
         },
         "number": "FR 147",
         "status": "Unknown"
        },
        {
         "aircraft": {
          "model": "Boeing 737-800"
         },
         "airline": {
          "name": "Ryanair"
         },
         "codeshareStatus": "Unknown",
         "isCargo": false,
         "movement": {
          "airport": {
           "iata": "BRU",
           "icao": "EBBR",
           "name": "Brussels"
          },
          "quality": [
           "Basic"
          ],
          "scheduledTimeLocal": "2021-11-25 22:25+01:00",
          "scheduledTimeUtc": "2021-11-25 21:25Z"
         },
         "number": "FR 167",
         "status": "Unknown"
        },
        {
         "aircraft": {
          "model": "Boeing 737-800"
         },
         "airline": {
          "name": "Ryanair"
         },
         "codeshareStatus": "Unknown",
         "isCargo": false,
         "movement": {
          "airport": {
           "iata": "LPA",
           "icao": "GCLP",
           "name": "Gran Canaria Island"
          },
          "quality": [
           "Basic"
          ],
          "scheduledTimeLocal": "2021-11-25 22:30+01:00",
          "scheduledTimeUtc": "2021-11-25 21:30Z"
         },
         "number": "FR 2501",
         "status": "Unknown"
        },
        {
         "aircraft": {
          "model": "Boeing 737-800"
         },
         "airline": {
          "name": "Ryanair"
         },
         "codeshareStatus": "Unknown",
         "isCargo": false,
         "movement": {
          "airport": {
           "iata": "BGY",
           "icao": "LIME",
           "name": "Bergamo"
          },
          "quality": [
           "Basic"
          ],
          "scheduledTimeLocal": "2021-11-25 22:30+01:00",
          "scheduledTimeUtc": "2021-11-25 21:30Z"
         },
         "number": "FR 4733",
         "status": "Unknown"
        },
        {
         "aircraft": {
          "model": "Boeing 737-800"
         },
         "airline": {
          "name": "Ryanair"
         },
         "codeshareStatus": "Unknown",
         "isCargo": false,
         "movement": {
          "airport": {
           "name": "Faro"
          },
          "quality": [
           "Basic"
          ],
          "scheduledTimeLocal": "2021-11-25 22:30+01:00",
          "scheduledTimeUtc": "2021-11-25 21:30Z"
         },
         "number": "FR 5365",
         "status": "Unknown"
        },
        {
         "aircraft": {
          "model": "Airbus A320"
         },
         "airline": {
          "name": "Iberia"
         },
         "codeshareStatus": "Unknown",
         "isCargo": false,
         "movement": {
          "airport": {
           "iata": "MAD",
           "icao": "LEMD",
           "name": "Madrid"
          },
          "quality": [
           "Basic"
          ],
          "scheduledTimeLocal": "2021-11-25 22:45+01:00",
          "scheduledTimeUtc": "2021-11-25 21:45Z",
          "terminal": "1"
         },
         "number": "IB 3674",
         "status": "Unknown"
        },
        {
         "aircraft": {
          "model": "Airbus A321"
         },
         "airline": {
          "name": "Lufthansa"
         },
         "codeshareStatus": "IsCodeshared",
         "isCargo": false,
         "movement": {
          "airport": {
           "iata": "MUC",
           "icao": "EDDM",
           "name": "Munich"
          },
          "quality": [
           "Basic"
          ],
          "scheduledTimeLocal": "2021-11-25 22:55+01:00",
          "scheduledTimeUtc": "2021-11-25 21:55Z",
          "terminal": "1"
         },
         "number": "LH 1958",
         "status": "Unknown"
        },
        {
         "aircraft": {
          "model": "Airbus A321"
         },
         "airline": {
          "name": "Lufthansa"
         },
         "codeshareStatus": "Unknown",
         "isCargo": false,
         "movement": {
          "airport": {
           "iata": "FRA",
           "icao": "EDDF",
           "name": "Frankfurt-am-Main"
          },
          "quality": [
           "Basic"
          ],
          "scheduledTimeLocal": "2021-11-25 22:25+01:00",
          "scheduledTimeUtc": "2021-11-25 21:25Z",
          "terminal": "1"
         },
         "number": "LH 202",
         "status": "Unknown"
        },
        {
         "aircraft": {
          "model": "Bombardier Dash 8 Q400 / DHC-8-400"
         },
         "airline": {
          "name": "LOT - Polish"
         },
         "codeshareStatus": "Unknown",
         "isCargo": false,
         "movement": {
          "airport": {
           "iata": "WAW",
           "icao": "EPWA",
           "name": "Warsaw"
          },
          "quality": [
           "Basic"
          ],
          "scheduledTimeLocal": "2021-11-25 22:20+01:00",
          "scheduledTimeUtc": "2021-11-25 21:20Z",
          "terminal": "1"
         },
         "number": "LO 391",
         "status": "Unknown"
        },
        {
         "aircraft": {
          "model": "Airbus A320"
         },
         "airline": {
          "name": "Austrian"
         },
         "codeshareStatus": "Unknown",
         "isCargo": false,
         "movement": {
          "airport": {
           "iata": "VIE",
           "icao": "LOWW",
           "name": "Vienna"
          },
          "quality": [
           "Basic"
          ],
          "scheduledTimeLocal": "2021-11-25 22:10+01:00",
          "scheduledTimeUtc": "2021-11-25 21:10Z",
          "terminal": "1"
         },
         "number": "OS 239",
         "status": "Unknown"
        },
        {
         "aircraft": {
          "model": "Airbus A320"
         },
         "airline": {
          "name": "Brussels"
         },
         "codeshareStatus": "Unknown",
         "isCargo": false,
         "movement": {
          "airport": {
           "iata": "BRU",
           "icao": "EBBR",
           "name": "Brussels"
          },
          "quality": [
           "Basic"
          ],
          "scheduledTimeLocal": "2021-11-25 22:05+01:00",
          "scheduledTimeUtc": "2021-11-25 21:05Z",
          "terminal": "1"
         },
         "number": "SN 2591",
         "status": "Unknown"
        },
        {
         "aircraft": {
          "model": "Airbus A319"
         },
         "airline": {
          "name": "TAP Air Portugal"
         },
         "codeshareStatus": "Unknown",
         "isCargo": false,
         "movement": {
          "airport": {
           "iata": "LIS",
           "icao": "LPPT",
           "name": "Lisbon"
          },
          "quality": [
           "Basic"
          ],
          "scheduledTimeLocal": "2021-11-25 22:50+01:00",
          "scheduledTimeUtc": "2021-11-25 21:50Z",
          "terminal": "1"
         },
         "number": "TP 532",
         "status": "Unknown"
        },
        {
         "aircraft": {
          "model": "Airbus A320"
         },
         "airline": {
          "name": "easyJet"
         },
         "codeshareStatus": "Unknown",
         "isCargo": false,
         "movement": {
          "airport": {
           "iata": "GVA",
           "icao": "LSGG",
           "name": "Geneva"
          },
          "quality": [
           "Basic"
          ],
          "scheduledTimeLocal": "2021-11-25 22:40+01:00",
          "scheduledTimeUtc": "2021-11-25 21:40Z",
          "terminal": "1"
         },
         "number": "U2 1595",
         "status": "Unknown"
        },
        {
         "aircraft": {
          "model": "Airbus A320"
         },
         "airline": {
          "name": "easyJet"
         },
         "codeshareStatus": "Unknown",
         "isCargo": false,
         "movement": {
          "airport": {
           "iata": "MXP",
           "icao": "LIMC",
           "name": "Milan"
          },
          "quality": [
           "Basic"
          ],
          "scheduledTimeLocal": "2021-11-25 22:30+01:00",
          "scheduledTimeUtc": "2021-11-25 21:30Z",
          "terminal": "1"
         },
         "number": "U2 4678",
         "status": "Unknown"
        },
        {
         "aircraft": {
          "model": "Airbus A320"
         },
         "airline": {
          "name": "easyJet"
         },
         "codeshareStatus": "Unknown",
         "isCargo": false,
         "movement": {
          "airport": {
           "iata": "BSL",
           "icao": "LFSB",
           "name": "Bâle/Mulhouse"
          },
          "quality": [
           "Basic"
          ],
          "scheduledTimeLocal": "2021-11-25 22:20+01:00",
          "scheduledTimeUtc": "2021-11-25 21:20Z",
          "terminal": "1"
         },
         "number": "U2 5640",
         "status": "Unknown"
        },
        {
         "aircraft": {
          "model": "Airbus A320"
         },
         "airline": {
          "name": "easyJet"
         },
         "codeshareStatus": "Unknown",
         "isCargo": false,
         "movement": {
          "airport": {
           "iata": "CPH",
           "icao": "EKCH",
           "name": "Copenhagen"
          },
          "quality": [
           "Basic"
          ],
          "scheduledTimeLocal": "2021-11-25 22:30+01:00",
          "scheduledTimeUtc": "2021-11-25 21:30Z",
          "terminal": "1"
         },
         "number": "U2 5690",
         "status": "Unknown"
        },
        {
         "aircraft": {
          "model": "Airbus A320"
         },
         "airline": {
          "name": "easyJet"
         },
         "codeshareStatus": "Unknown",
         "isCargo": false,
         "movement": {
          "airport": {
           "iata": "PMI",
           "icao": "LEPA",
           "name": "Palma De Mallorca"
          },
          "quality": [
           "Basic"
          ],
          "scheduledTimeLocal": "2021-11-25 22:30+01:00",
          "scheduledTimeUtc": "2021-11-25 21:30Z",
          "terminal": "1"
         },
         "number": "U2 5808",
         "status": "Unknown"
        },
        {
         "aircraft": {
          "model": "Airbus A320"
         },
         "airline": {
          "name": "easyJet"
         },
         "codeshareStatus": "Unknown",
         "isCargo": false,
         "movement": {
          "airport": {
           "iata": "TFS",
           "icao": "GCTS",
           "name": "Tenerife Island"
          },
          "quality": [
           "Basic"
          ],
          "scheduledTimeLocal": "2021-11-25 22:25+01:00",
          "scheduledTimeUtc": "2021-11-25 21:25Z",
          "terminal": "1"
         },
         "number": "U2 5916",
         "status": "Unknown"
        }
       ]
      },
      "text/plain": [
       "<IPython.core.display.JSON object>"
      ]
     },
     "execution_count": 41,
     "metadata": {
      "application/json": {
       "expanded": false,
       "root": "root"
      }
     },
     "output_type": "execute_result"
    }
   ],
   "source": [
    "# flights between 19:01-23:59\n",
    "JSON(response_two.json())"
   ]
  },
  {
   "cell_type": "code",
   "execution_count": 28,
   "id": "4a7b26dd-f2a1-4bc9-8dc7-a62ce131da3a",
   "metadata": {},
   "outputs": [],
   "source": [
    "# creating a list with the responses of json\n",
    "List_of_responses = [response_one.json(),response_two.json()]"
   ]
  },
  {
   "cell_type": "code",
   "execution_count": 57,
   "id": "bb5df9d1-6c24-4ab0-8d2e-7056bb55475e",
   "metadata": {},
   "outputs": [],
   "source": [
    "# for our data frame we need to know what info to include. so :\n",
    "# icao : the first 2 letters indicate the country and the 2 last identifies the airport\n",
    "# scheduleTimeLocal : time of arrival in local time\n",
    "# number : number of flight\n",
    "# Airline : the name of the company responsible for the scheduled flight\n",
    "\n",
    "dictionary = {\"From\":[],\"Arrival at : \":[], \"Terminal\":[],\"Airline\":[],\"Flight number\":[],\"Airport code\":[]}"
   ]
  },
  {
   "cell_type": "code",
   "execution_count": 67,
   "id": "ebc050f4-d258-4ffc-9254-f11800d77fed",
   "metadata": {
    "tags": []
   },
   "outputs": [],
   "source": [
    "for resp in List_of_responses:\n",
    "    for flight in resp['arrivals']:\n",
    "        try:\n",
    "            dictionary[\"From\"].append(flight['movement'][\"airport\"]['name'])\n",
    "        except:\n",
    "            dictionary[\"From\"].append(\"Unknown\")\n",
    "        try:\n",
    "            dictionary[\"Arrival at : \"].append(flight['movement']['scheduledTimeLocal'][:-6])\n",
    "        except:\n",
    "            dictionary[\"Arrival at : \"].append(\"Unknown\")\n",
    "        try:\n",
    "            dictionary[\"Terminal\"].append(flight['movement']['terminal'])\n",
    "        except:\n",
    "            dictionary[\"Terminal\"].append(\"Unknown\")\n",
    "        try:\n",
    "            dictionary[\"Airline\"].append(flight['airline']['name'])\n",
    "        except:\n",
    "            dictionary[\"Airline\"].append(\"Unknown\")\n",
    "        try:\n",
    "            dictionary[\"Flight number\"].append(flight['number'])\n",
    "        except:\n",
    "            dictionary[\"Flight number\"].append(\"Unknown\")\n",
    "        try:\n",
    "            dictionary[\"Airport code\"].append(flight['movement'][\"airport\"][\"icao\"])\n",
    "        except:\n",
    "            dictionary[\"Airport code\"].append(\"Unknown\")"
   ]
  },
  {
   "cell_type": "code",
   "execution_count": 81,
   "id": "9fb618b8-51bb-4392-8652-74693f77abbe",
   "metadata": {},
   "outputs": [
    {
     "data": {
      "text/html": [
       "<div>\n",
       "<style scoped>\n",
       "    .dataframe tbody tr th:only-of-type {\n",
       "        vertical-align: middle;\n",
       "    }\n",
       "\n",
       "    .dataframe tbody tr th {\n",
       "        vertical-align: top;\n",
       "    }\n",
       "\n",
       "    .dataframe thead th {\n",
       "        text-align: right;\n",
       "    }\n",
       "</style>\n",
       "<table border=\"1\" class=\"dataframe\">\n",
       "  <thead>\n",
       "    <tr style=\"text-align: right;\">\n",
       "      <th></th>\n",
       "      <th>From</th>\n",
       "      <th>Arrival at :</th>\n",
       "      <th>Terminal</th>\n",
       "      <th>Airline</th>\n",
       "      <th>Flight number</th>\n",
       "      <th>Airport code</th>\n",
       "    </tr>\n",
       "  </thead>\n",
       "  <tbody>\n",
       "    <tr>\n",
       "      <th>0</th>\n",
       "      <td>Unknown</td>\n",
       "      <td>Unknown</td>\n",
       "      <td>Unknown</td>\n",
       "      <td>Unknown</td>\n",
       "      <td>Unknown</td>\n",
       "      <td>Unknown</td>\n",
       "    </tr>\n",
       "    <tr>\n",
       "      <th>1</th>\n",
       "      <td>Unknown</td>\n",
       "      <td>Unknown</td>\n",
       "      <td>Unknown</td>\n",
       "      <td>Unknown</td>\n",
       "      <td>Unknown</td>\n",
       "      <td>Unknown</td>\n",
       "    </tr>\n",
       "    <tr>\n",
       "      <th>2</th>\n",
       "      <td>Unknown</td>\n",
       "      <td>Unknown</td>\n",
       "      <td>Unknown</td>\n",
       "      <td>Unknown</td>\n",
       "      <td>Unknown</td>\n",
       "      <td>Unknown</td>\n",
       "    </tr>\n",
       "    <tr>\n",
       "      <th>3</th>\n",
       "      <td>Unknown</td>\n",
       "      <td>Unknown</td>\n",
       "      <td>Unknown</td>\n",
       "      <td>Unknown</td>\n",
       "      <td>Unknown</td>\n",
       "      <td>Unknown</td>\n",
       "    </tr>\n",
       "    <tr>\n",
       "      <th>4</th>\n",
       "      <td>Unknown</td>\n",
       "      <td>Unknown</td>\n",
       "      <td>Unknown</td>\n",
       "      <td>Unknown</td>\n",
       "      <td>Unknown</td>\n",
       "      <td>Unknown</td>\n",
       "    </tr>\n",
       "    <tr>\n",
       "      <th>...</th>\n",
       "      <td>...</td>\n",
       "      <td>...</td>\n",
       "      <td>...</td>\n",
       "      <td>...</td>\n",
       "      <td>...</td>\n",
       "      <td>...</td>\n",
       "    </tr>\n",
       "    <tr>\n",
       "      <th>535</th>\n",
       "      <td>Milan</td>\n",
       "      <td>2021-11-25 22:30</td>\n",
       "      <td>1</td>\n",
       "      <td>easyJet</td>\n",
       "      <td>U2 4678</td>\n",
       "      <td>LIMC</td>\n",
       "    </tr>\n",
       "    <tr>\n",
       "      <th>536</th>\n",
       "      <td>Bâle/Mulhouse</td>\n",
       "      <td>2021-11-25 22:20</td>\n",
       "      <td>1</td>\n",
       "      <td>easyJet</td>\n",
       "      <td>U2 5640</td>\n",
       "      <td>LFSB</td>\n",
       "    </tr>\n",
       "    <tr>\n",
       "      <th>537</th>\n",
       "      <td>Copenhagen</td>\n",
       "      <td>2021-11-25 22:30</td>\n",
       "      <td>1</td>\n",
       "      <td>easyJet</td>\n",
       "      <td>U2 5690</td>\n",
       "      <td>EKCH</td>\n",
       "    </tr>\n",
       "    <tr>\n",
       "      <th>538</th>\n",
       "      <td>Palma De Mallorca</td>\n",
       "      <td>2021-11-25 22:30</td>\n",
       "      <td>1</td>\n",
       "      <td>easyJet</td>\n",
       "      <td>U2 5808</td>\n",
       "      <td>LEPA</td>\n",
       "    </tr>\n",
       "    <tr>\n",
       "      <th>539</th>\n",
       "      <td>Tenerife Island</td>\n",
       "      <td>2021-11-25 22:25</td>\n",
       "      <td>1</td>\n",
       "      <td>easyJet</td>\n",
       "      <td>U2 5916</td>\n",
       "      <td>GCTS</td>\n",
       "    </tr>\n",
       "  </tbody>\n",
       "</table>\n",
       "<p>540 rows × 6 columns</p>\n",
       "</div>"
      ],
      "text/plain": [
       "                  From     Arrival at :  Terminal  Airline Flight number  \\\n",
       "0              Unknown           Unknown  Unknown  Unknown       Unknown   \n",
       "1              Unknown           Unknown  Unknown  Unknown       Unknown   \n",
       "2              Unknown           Unknown  Unknown  Unknown       Unknown   \n",
       "3              Unknown           Unknown  Unknown  Unknown       Unknown   \n",
       "4              Unknown           Unknown  Unknown  Unknown       Unknown   \n",
       "..                 ...               ...      ...      ...           ...   \n",
       "535              Milan  2021-11-25 22:30        1  easyJet       U2 4678   \n",
       "536      Bâle/Mulhouse  2021-11-25 22:20        1  easyJet       U2 5640   \n",
       "537         Copenhagen  2021-11-25 22:30        1  easyJet       U2 5690   \n",
       "538  Palma De Mallorca  2021-11-25 22:30        1  easyJet       U2 5808   \n",
       "539    Tenerife Island  2021-11-25 22:25        1  easyJet       U2 5916   \n",
       "\n",
       "    Airport code  \n",
       "0        Unknown  \n",
       "1        Unknown  \n",
       "2        Unknown  \n",
       "3        Unknown  \n",
       "4        Unknown  \n",
       "..           ...  \n",
       "535         LIMC  \n",
       "536         LFSB  \n",
       "537         EKCH  \n",
       "538         LEPA  \n",
       "539         GCTS  \n",
       "\n",
       "[540 rows x 6 columns]"
      ]
     },
     "execution_count": 81,
     "metadata": {},
     "output_type": "execute_result"
    }
   ],
   "source": [
    "flights = pd.DataFrame.from_dict(dictionary)\n",
    "flights"
   ]
  },
  {
   "cell_type": "code",
   "execution_count": 89,
   "id": "08e5c8e2-68f7-4a5c-bb5e-05633926357f",
   "metadata": {},
   "outputs": [
    {
     "data": {
      "text/html": [
       "<div>\n",
       "<style scoped>\n",
       "    .dataframe tbody tr th:only-of-type {\n",
       "        vertical-align: middle;\n",
       "    }\n",
       "\n",
       "    .dataframe tbody tr th {\n",
       "        vertical-align: top;\n",
       "    }\n",
       "\n",
       "    .dataframe thead th {\n",
       "        text-align: right;\n",
       "    }\n",
       "</style>\n",
       "<table border=\"1\" class=\"dataframe\">\n",
       "  <thead>\n",
       "    <tr style=\"text-align: right;\">\n",
       "      <th></th>\n",
       "      <th>From</th>\n",
       "      <th>Arrival at :</th>\n",
       "      <th>Terminal</th>\n",
       "      <th>Airline</th>\n",
       "      <th>Flight number</th>\n",
       "      <th>Airport code</th>\n",
       "    </tr>\n",
       "  </thead>\n",
       "  <tbody>\n",
       "    <tr>\n",
       "      <th>252</th>\n",
       "      <td>Barcelona</td>\n",
       "      <td>2021-11-25 13:55+01:00</td>\n",
       "      <td>1</td>\n",
       "      <td>easyJet</td>\n",
       "      <td>U2 5122</td>\n",
       "      <td>Unknown</td>\n",
       "    </tr>\n",
       "    <tr>\n",
       "      <th>259</th>\n",
       "      <td>Barcelona</td>\n",
       "      <td>2021-11-25 14:10+01:00</td>\n",
       "      <td>1</td>\n",
       "      <td>Vueling</td>\n",
       "      <td>VY 1882</td>\n",
       "      <td>LEBL</td>\n",
       "    </tr>\n",
       "    <tr>\n",
       "      <th>283</th>\n",
       "      <td>Barcelona</td>\n",
       "      <td>2021-11-25 17:00+01:00</td>\n",
       "      <td>Unknown</td>\n",
       "      <td>Ryanair</td>\n",
       "      <td>FR 133</td>\n",
       "      <td>LEBL</td>\n",
       "    </tr>\n",
       "    <tr>\n",
       "      <th>432</th>\n",
       "      <td>Barcelona</td>\n",
       "      <td>2021-11-25 13:55</td>\n",
       "      <td>1</td>\n",
       "      <td>easyJet</td>\n",
       "      <td>U2 5122</td>\n",
       "      <td>Unknown</td>\n",
       "    </tr>\n",
       "    <tr>\n",
       "      <th>439</th>\n",
       "      <td>Barcelona</td>\n",
       "      <td>2021-11-25 14:10</td>\n",
       "      <td>1</td>\n",
       "      <td>Vueling</td>\n",
       "      <td>VY 1882</td>\n",
       "      <td>LEBL</td>\n",
       "    </tr>\n",
       "    <tr>\n",
       "      <th>463</th>\n",
       "      <td>Barcelona</td>\n",
       "      <td>2021-11-25 17:00</td>\n",
       "      <td>Unknown</td>\n",
       "      <td>Ryanair</td>\n",
       "      <td>FR 133</td>\n",
       "      <td>LEBL</td>\n",
       "    </tr>\n",
       "  </tbody>\n",
       "</table>\n",
       "</div>"
      ],
      "text/plain": [
       "          From           Arrival at :  Terminal  Airline Flight number  \\\n",
       "252  Barcelona  2021-11-25 13:55+01:00        1  easyJet       U2 5122   \n",
       "259  Barcelona  2021-11-25 14:10+01:00        1  Vueling       VY 1882   \n",
       "283  Barcelona  2021-11-25 17:00+01:00  Unknown  Ryanair        FR 133   \n",
       "432  Barcelona        2021-11-25 13:55        1  easyJet       U2 5122   \n",
       "439  Barcelona        2021-11-25 14:10        1  Vueling       VY 1882   \n",
       "463  Barcelona        2021-11-25 17:00  Unknown  Ryanair        FR 133   \n",
       "\n",
       "    Airport code  \n",
       "252      Unknown  \n",
       "259         LEBL  \n",
       "283         LEBL  \n",
       "432      Unknown  \n",
       "439         LEBL  \n",
       "463         LEBL  "
      ]
     },
     "execution_count": 89,
     "metadata": {},
     "output_type": "execute_result"
    }
   ],
   "source": [
    "alekos =flights.query('From == \"Barcelona\"')\n",
    "alekos.head(10)"
   ]
  }
 ],
 "metadata": {
  "kernelspec": {
   "display_name": "Python 3",
   "language": "python",
   "name": "python3"
  },
  "language_info": {
   "codemirror_mode": {
    "name": "ipython",
    "version": 3
   },
   "file_extension": ".py",
   "mimetype": "text/x-python",
   "name": "python",
   "nbconvert_exporter": "python",
   "pygments_lexer": "ipython3",
   "version": "3.8.8"
  }
 },
 "nbformat": 4,
 "nbformat_minor": 5
}
