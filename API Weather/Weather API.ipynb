{
 "cells": [
  {
   "cell_type": "markdown",
   "id": "adaaabb7-439e-44cd-b1e5-03ebe52a8219",
   "metadata": {},
   "source": [
    "## First API !"
   ]
  },
  {
   "cell_type": "code",
   "execution_count": 1,
   "id": "7efb9af6-4971-4964-96e0-c8130463d712",
   "metadata": {},
   "outputs": [],
   "source": [
    "from pyowm.owm import OWM\n",
    "from pyowm.utils import config\n",
    "from pyowm.utils import timestamps"
   ]
  },
  {
   "cell_type": "code",
   "execution_count": 2,
   "id": "e483588d-bb99-4a66-9764-565a73d3ea17",
   "metadata": {},
   "outputs": [],
   "source": [
    "path = \"C:/Users/Kosta/OneDrive/Desktop/Data_Science/5_APIs\""
   ]
  },
  {
   "cell_type": "code",
   "execution_count": 3,
   "id": "a731f2c5-5987-47c7-a356-9a801c696ac6",
   "metadata": {},
   "outputs": [],
   "source": [
    "import sys\n",
    "sys.path.insert(1, path)"
   ]
  },
  {
   "cell_type": "code",
   "execution_count": 4,
   "id": "168b3124-fcde-467f-b373-52c35ec93c7a",
   "metadata": {},
   "outputs": [],
   "source": [
    "from api_keys import weather_key"
   ]
  },
  {
   "cell_type": "code",
   "execution_count": 5,
   "id": "f4bf106a-5d5b-4c05-bb4a-fedc5c0c6b25",
   "metadata": {},
   "outputs": [],
   "source": [
    "owm = OWM(weather_key)\n",
    "\n",
    "mgr = owm.weather_manager()\n",
    "version_tuple = (major, minor, patch) = owm.version"
   ]
  },
  {
   "cell_type": "code",
   "execution_count": 6,
   "id": "73d918ef-b2dc-4292-913d-7d79f44d7e35",
   "metadata": {},
   "outputs": [
    {
     "data": {
      "text/plain": [
       "'overcast clouds'"
      ]
     },
     "execution_count": 6,
     "metadata": {},
     "output_type": "execute_result"
    }
   ],
   "source": [
    "observation = mgr.weather_at_place('London,GB')\n",
    "w = observation.weather\n",
    "\n",
    "# one_call = mgr.one_call(lat=52.5244, lon=13.4105)\n",
    "# one_call\n",
    "w.detailed_status\n",
    "\n",
    "# Will it be clear tomorrow at this time in Milan (Italy) ?\n",
    "\n",
    "# forecast = mgr.forecast_at_place('Berlin,DE', 'daily')\n",
    "# forecast = mgr.forecast_at_place('London,GB', 'daily')\n",
    "# answer = forecast.will_be_clear_at(timestamps.tomorrow())"
   ]
  },
  {
   "cell_type": "code",
   "execution_count": 7,
   "id": "0eea7d8e-ba86-4c45-8187-55c23ebc8471",
   "metadata": {},
   "outputs": [
    {
     "data": {
      "text/plain": [
       "'overcast clouds'"
      ]
     },
     "execution_count": 7,
     "metadata": {},
     "output_type": "execute_result"
    }
   ],
   "source": [
    "w.detailed_status         # 'clouds'"
   ]
  },
  {
   "cell_type": "code",
   "execution_count": 8,
   "id": "7abb57cb-6eda-401f-b568-0046cf73655b",
   "metadata": {},
   "outputs": [
    {
     "data": {
      "text/plain": [
       "{'speed': 3.6, 'deg': 260}"
      ]
     },
     "execution_count": 8,
     "metadata": {},
     "output_type": "execute_result"
    }
   ],
   "source": [
    "w.wind()                  # {'speed': 4.6, 'deg': 330}"
   ]
  },
  {
   "cell_type": "code",
   "execution_count": 9,
   "id": "f9fdd136-d0cb-4e06-a086-52df5a77d048",
   "metadata": {},
   "outputs": [
    {
     "data": {
      "text/plain": [
       "81"
      ]
     },
     "execution_count": 9,
     "metadata": {},
     "output_type": "execute_result"
    }
   ],
   "source": [
    "w.humidity                # 87"
   ]
  },
  {
   "cell_type": "code",
   "execution_count": 10,
   "id": "7b7df19f-c69d-41b1-935f-53504ff552e2",
   "metadata": {},
   "outputs": [
    {
     "data": {
      "text/plain": [
       "{'temp': 5.89,\n",
       " 'temp_max': 7.29,\n",
       " 'temp_min': 4.5,\n",
       " 'feels_like': 3.18,\n",
       " 'temp_kf': None}"
      ]
     },
     "execution_count": 10,
     "metadata": {},
     "output_type": "execute_result"
    }
   ],
   "source": [
    "w.temperature('celsius')  # {'temp_max': 10.5, 'temp': 9.7, 'temp_min': 9.0}"
   ]
  },
  {
   "cell_type": "code",
   "execution_count": 11,
   "id": "a2aa0e6b-2c1d-45d3-b93c-80fdbc270289",
   "metadata": {},
   "outputs": [
    {
     "data": {
      "text/plain": [
       "{}"
      ]
     },
     "execution_count": 11,
     "metadata": {},
     "output_type": "execute_result"
    }
   ],
   "source": [
    "w.rain                    # {}"
   ]
  },
  {
   "cell_type": "code",
   "execution_count": 12,
   "id": "f831c934-2552-4e60-be15-18cd6c2c1237",
   "metadata": {},
   "outputs": [],
   "source": [
    "w.heat_index              # None"
   ]
  },
  {
   "cell_type": "code",
   "execution_count": 13,
   "id": "d727eb9d-f426-4b8b-9321-2aa201968a48",
   "metadata": {},
   "outputs": [
    {
     "data": {
      "text/plain": [
       "100"
      ]
     },
     "execution_count": 13,
     "metadata": {},
     "output_type": "execute_result"
    }
   ],
   "source": [
    "w.clouds                  # 75"
   ]
  },
  {
   "cell_type": "code",
   "execution_count": 14,
   "id": "43097553-d1a8-4a62-8180-bd3ffb5f26b7",
   "metadata": {},
   "outputs": [
    {
     "name": "stdout",
     "output_type": "stream",
     "text": [
      "Weather in Ravensburg\n"
     ]
    },
    {
     "data": {
      "text/html": [
       "<div>\n",
       "<style scoped>\n",
       "    .dataframe tbody tr th:only-of-type {\n",
       "        vertical-align: middle;\n",
       "    }\n",
       "\n",
       "    .dataframe tbody tr th {\n",
       "        vertical-align: top;\n",
       "    }\n",
       "\n",
       "    .dataframe thead th {\n",
       "        text-align: right;\n",
       "    }\n",
       "</style>\n",
       "<table border=\"1\" class=\"dataframe\">\n",
       "  <thead>\n",
       "    <tr style=\"text-align: right;\">\n",
       "      <th></th>\n",
       "      <th>time</th>\n",
       "      <th>precipitation_probabily</th>\n",
       "      <th>humidity</th>\n",
       "      <th>status</th>\n",
       "      <th>snow</th>\n",
       "      <th>temperature.temp</th>\n",
       "      <th>temperature.temp_max</th>\n",
       "      <th>temperature.temp_min</th>\n",
       "      <th>temperature.feels_like</th>\n",
       "      <th>temperature.temp_kf</th>\n",
       "      <th>wind.speed</th>\n",
       "      <th>wind.deg</th>\n",
       "      <th>wind.gust</th>\n",
       "    </tr>\n",
       "  </thead>\n",
       "  <tbody>\n",
       "    <tr>\n",
       "      <th>0</th>\n",
       "      <td>2022-01-22 12:00:00+00:00</td>\n",
       "      <td>0.03</td>\n",
       "      <td>85</td>\n",
       "      <td>Clouds</td>\n",
       "      <td>[{}]</td>\n",
       "      <td>1.05</td>\n",
       "      <td>1.82</td>\n",
       "      <td>1.05</td>\n",
       "      <td>-1.34</td>\n",
       "      <td>-0.77</td>\n",
       "      <td>7.524</td>\n",
       "      <td>223</td>\n",
       "      <td>10.332</td>\n",
       "    </tr>\n",
       "    <tr>\n",
       "      <th>0</th>\n",
       "      <td>2022-01-22 15:00:00+00:00</td>\n",
       "      <td>0.04</td>\n",
       "      <td>83</td>\n",
       "      <td>Clouds</td>\n",
       "      <td>[{}]</td>\n",
       "      <td>1.29</td>\n",
       "      <td>1.78</td>\n",
       "      <td>1.29</td>\n",
       "      <td>-0.13</td>\n",
       "      <td>-0.49</td>\n",
       "      <td>5.040</td>\n",
       "      <td>213</td>\n",
       "      <td>6.120</td>\n",
       "    </tr>\n",
       "    <tr>\n",
       "      <th>0</th>\n",
       "      <td>2022-01-22 18:00:00+00:00</td>\n",
       "      <td>0.08</td>\n",
       "      <td>87</td>\n",
       "      <td>Clouds</td>\n",
       "      <td>[{}]</td>\n",
       "      <td>0.42</td>\n",
       "      <td>0.42</td>\n",
       "      <td>0.11</td>\n",
       "      <td>0.42</td>\n",
       "      <td>-272.84</td>\n",
       "      <td>3.168</td>\n",
       "      <td>188</td>\n",
       "      <td>3.492</td>\n",
       "    </tr>\n",
       "    <tr>\n",
       "      <th>0</th>\n",
       "      <td>2022-01-22 21:00:00+00:00</td>\n",
       "      <td>0.16</td>\n",
       "      <td>89</td>\n",
       "      <td>Clouds</td>\n",
       "      <td>[{}]</td>\n",
       "      <td>0.27</td>\n",
       "      <td>0.27</td>\n",
       "      <td>0.27</td>\n",
       "      <td>0.27</td>\n",
       "      <td>-273.15</td>\n",
       "      <td>2.196</td>\n",
       "      <td>152</td>\n",
       "      <td>3.024</td>\n",
       "    </tr>\n",
       "    <tr>\n",
       "      <th>0</th>\n",
       "      <td>2022-01-23 00:00:00+00:00</td>\n",
       "      <td>0.12</td>\n",
       "      <td>89</td>\n",
       "      <td>Clouds</td>\n",
       "      <td>[{}]</td>\n",
       "      <td>0.44</td>\n",
       "      <td>0.44</td>\n",
       "      <td>0.44</td>\n",
       "      <td>0.44</td>\n",
       "      <td>-273.15</td>\n",
       "      <td>1.728</td>\n",
       "      <td>104</td>\n",
       "      <td>1.980</td>\n",
       "    </tr>\n",
       "    <tr>\n",
       "      <th>0</th>\n",
       "      <td>2022-01-23 03:00:00+00:00</td>\n",
       "      <td>0.00</td>\n",
       "      <td>93</td>\n",
       "      <td>Clouds</td>\n",
       "      <td>[{}]</td>\n",
       "      <td>0.62</td>\n",
       "      <td>0.62</td>\n",
       "      <td>0.62</td>\n",
       "      <td>0.62</td>\n",
       "      <td>-273.15</td>\n",
       "      <td>4.212</td>\n",
       "      <td>51</td>\n",
       "      <td>5.580</td>\n",
       "    </tr>\n",
       "    <tr>\n",
       "      <th>0</th>\n",
       "      <td>2022-01-23 06:00:00+00:00</td>\n",
       "      <td>0.00</td>\n",
       "      <td>98</td>\n",
       "      <td>Clouds</td>\n",
       "      <td>[{}]</td>\n",
       "      <td>1.10</td>\n",
       "      <td>1.10</td>\n",
       "      <td>1.10</td>\n",
       "      <td>-1.26</td>\n",
       "      <td>-273.15</td>\n",
       "      <td>7.452</td>\n",
       "      <td>43</td>\n",
       "      <td>19.980</td>\n",
       "    </tr>\n",
       "    <tr>\n",
       "      <th>0</th>\n",
       "      <td>2022-01-23 09:00:00+00:00</td>\n",
       "      <td>0.00</td>\n",
       "      <td>95</td>\n",
       "      <td>Clouds</td>\n",
       "      <td>[{}]</td>\n",
       "      <td>1.94</td>\n",
       "      <td>1.94</td>\n",
       "      <td>1.94</td>\n",
       "      <td>-0.83</td>\n",
       "      <td>-273.15</td>\n",
       "      <td>9.396</td>\n",
       "      <td>57</td>\n",
       "      <td>25.272</td>\n",
       "    </tr>\n",
       "    <tr>\n",
       "      <th>0</th>\n",
       "      <td>2022-01-23 12:00:00+00:00</td>\n",
       "      <td>0.00</td>\n",
       "      <td>83</td>\n",
       "      <td>Clouds</td>\n",
       "      <td>[{}]</td>\n",
       "      <td>3.86</td>\n",
       "      <td>3.86</td>\n",
       "      <td>3.86</td>\n",
       "      <td>0.51</td>\n",
       "      <td>-273.15</td>\n",
       "      <td>14.112</td>\n",
       "      <td>59</td>\n",
       "      <td>25.704</td>\n",
       "    </tr>\n",
       "    <tr>\n",
       "      <th>0</th>\n",
       "      <td>2022-01-23 15:00:00+00:00</td>\n",
       "      <td>0.00</td>\n",
       "      <td>86</td>\n",
       "      <td>Clouds</td>\n",
       "      <td>[{}]</td>\n",
       "      <td>3.02</td>\n",
       "      <td>3.02</td>\n",
       "      <td>3.02</td>\n",
       "      <td>-0.51</td>\n",
       "      <td>-273.15</td>\n",
       "      <td>14.040</td>\n",
       "      <td>52</td>\n",
       "      <td>33.192</td>\n",
       "    </tr>\n",
       "  </tbody>\n",
       "</table>\n",
       "</div>"
      ],
      "text/plain": [
       "                       time  precipitation_probabily  humidity  status  snow  \\\n",
       "0 2022-01-22 12:00:00+00:00                     0.03        85  Clouds  [{}]   \n",
       "0 2022-01-22 15:00:00+00:00                     0.04        83  Clouds  [{}]   \n",
       "0 2022-01-22 18:00:00+00:00                     0.08        87  Clouds  [{}]   \n",
       "0 2022-01-22 21:00:00+00:00                     0.16        89  Clouds  [{}]   \n",
       "0 2022-01-23 00:00:00+00:00                     0.12        89  Clouds  [{}]   \n",
       "0 2022-01-23 03:00:00+00:00                     0.00        93  Clouds  [{}]   \n",
       "0 2022-01-23 06:00:00+00:00                     0.00        98  Clouds  [{}]   \n",
       "0 2022-01-23 09:00:00+00:00                     0.00        95  Clouds  [{}]   \n",
       "0 2022-01-23 12:00:00+00:00                     0.00        83  Clouds  [{}]   \n",
       "0 2022-01-23 15:00:00+00:00                     0.00        86  Clouds  [{}]   \n",
       "\n",
       "   temperature.temp  temperature.temp_max  temperature.temp_min  \\\n",
       "0              1.05                  1.82                  1.05   \n",
       "0              1.29                  1.78                  1.29   \n",
       "0              0.42                  0.42                  0.11   \n",
       "0              0.27                  0.27                  0.27   \n",
       "0              0.44                  0.44                  0.44   \n",
       "0              0.62                  0.62                  0.62   \n",
       "0              1.10                  1.10                  1.10   \n",
       "0              1.94                  1.94                  1.94   \n",
       "0              3.86                  3.86                  3.86   \n",
       "0              3.02                  3.02                  3.02   \n",
       "\n",
       "   temperature.feels_like  temperature.temp_kf  wind.speed  wind.deg  \\\n",
       "0                   -1.34                -0.77       7.524       223   \n",
       "0                   -0.13                -0.49       5.040       213   \n",
       "0                    0.42              -272.84       3.168       188   \n",
       "0                    0.27              -273.15       2.196       152   \n",
       "0                    0.44              -273.15       1.728       104   \n",
       "0                    0.62              -273.15       4.212        51   \n",
       "0                   -1.26              -273.15       7.452        43   \n",
       "0                   -0.83              -273.15       9.396        57   \n",
       "0                    0.51              -273.15      14.112        59   \n",
       "0                   -0.51              -273.15      14.040        52   \n",
       "\n",
       "   wind.gust  \n",
       "0     10.332  \n",
       "0      6.120  \n",
       "0      3.492  \n",
       "0      3.024  \n",
       "0      1.980  \n",
       "0      5.580  \n",
       "0     19.980  \n",
       "0     25.272  \n",
       "0     25.704  \n",
       "0     33.192  "
      ]
     },
     "execution_count": 14,
     "metadata": {},
     "output_type": "execute_result"
    }
   ],
   "source": [
    "# weather_forecast = []\n",
    "path = \"C:/Users/Kosta/OneDrive/Desktop/Data_Science/6 Recap of Week\"\n",
    "import sys\n",
    "from pyowm import OWM\n",
    "from pyowm.utils import config\n",
    "from pyowm.utils import timestamps\n",
    "import pandas as pd\n",
    "sys.path.insert(1, path)\n",
    "from api_keys import weather_key\n",
    "\n",
    "OWM_key = weather_key\n",
    "city = \"Ravensburg\"  # instead place on a \n",
    "country = \"DE\"\n",
    "\n",
    "owm = OWM(OWM_key)\n",
    "mgr = owm.weather_manager()\n",
    "\n",
    "# Will it be clear tomorrow at this time in Milan (Italy) ?\n",
    "forecast = mgr.forecast_at_place(city + ',' + country, '3h')\n",
    "# answer = forecast.will_be_clear_at(timestamps.tomorrow())\n",
    "\n",
    "from numpy import nan\n",
    "\n",
    "def forecast_extraction(forecast_object): \n",
    "    \"\"\"\n",
    "    Given a forecast object from Open weathor Pyhton API, \n",
    "    return a structured dataframe. \n",
    "\n",
    "    :param: forecast object\n",
    "    :returns: a dataframe with specific weather information\n",
    "    \"\"\"\n",
    "    forecast_df = pd.json_normalize({\n",
    "        'time' : forecast_object.reference_time(timeformat='date'), \n",
    "        'temperature' : forecast_object.temperature(unit='celsius'), \n",
    "        'precipitation_probabily' : forecast_object.precipitation_probability, \n",
    "        'rain' : forecast_object.rain, \n",
    "        'humidity' : forecast_object.humidity, \n",
    "        'status' : forecast_object.status, \n",
    "        'snow' : [nan if forecast_object.snow is None else forecast_object.snow], \n",
    "        'wind' : forecast_object.wind('km_hour')\n",
    "    })\n",
    "\n",
    "    return(forecast_df)\n",
    "\n",
    "weather_forecast = pd.concat(\n",
    "    [forecast_extraction(weather) for weather in forecast.forecast.weathers]\n",
    "\n",
    ")\n",
    "print(\"Weather in \" + city)\n",
    "weather_forecast.head(10)\n",
    "# weather_forecast = [['time','humidity','status','temperature.temp','wind.speed','snow']][:10]\n",
    "# weather_forecast"
   ]
  },
  {
   "cell_type": "markdown",
   "id": "187103ec-4346-4403-82e6-7ca9b35b42a9",
   "metadata": {},
   "source": [
    "# TIME FOR TARGET PRACTICE"
   ]
  },
  {
   "cell_type": "code",
   "execution_count": 15,
   "id": "30bdc246-4be3-42b1-87b9-28dc3d824897",
   "metadata": {},
   "outputs": [],
   "source": [
    "weather_forecast = []"
   ]
  },
  {
   "cell_type": "code",
   "execution_count": 16,
   "id": "4379e45f-cd72-454b-adc0-24a6f8efad9b",
   "metadata": {},
   "outputs": [
    {
     "ename": "AttributeError",
     "evalue": "'str' object has no attribute 'weather_manager'",
     "output_type": "error",
     "traceback": [
      "\u001b[1;31m---------------------------------------------------------------------------\u001b[0m",
      "\u001b[1;31mAttributeError\u001b[0m                            Traceback (most recent call last)",
      "\u001b[1;32m<ipython-input-16-f1f0b3b3baef>\u001b[0m in \u001b[0;36m<module>\u001b[1;34m\u001b[0m\n\u001b[0;32m     13\u001b[0m \u001b[1;33m\u001b[0m\u001b[0m\n\u001b[0;32m     14\u001b[0m     \u001b[0mowm\u001b[0m \u001b[1;33m=\u001b[0m \u001b[0mweather_key\u001b[0m \u001b[1;31m#OWM_key\u001b[0m\u001b[1;33m\u001b[0m\u001b[1;33m\u001b[0m\u001b[0m\n\u001b[1;32m---> 15\u001b[1;33m     \u001b[0mmgr\u001b[0m \u001b[1;33m=\u001b[0m \u001b[0mowm\u001b[0m\u001b[1;33m.\u001b[0m\u001b[0mweather_manager\u001b[0m\u001b[1;33m(\u001b[0m\u001b[1;33m)\u001b[0m\u001b[1;33m\u001b[0m\u001b[1;33m\u001b[0m\u001b[0m\n\u001b[0m\u001b[0;32m     16\u001b[0m \u001b[1;33m\u001b[0m\u001b[0m\n\u001b[0;32m     17\u001b[0m \u001b[1;31m# for city in cities:\u001b[0m\u001b[1;33m\u001b[0m\u001b[1;33m\u001b[0m\u001b[1;33m\u001b[0m\u001b[0m\n",
      "\u001b[1;31mAttributeError\u001b[0m: 'str' object has no attribute 'weather_manager'"
     ]
    }
   ],
   "source": [
    "from pyowm import OWM\n",
    "from pyowm.utils import config\n",
    "from pyowm.utils import timestamps\n",
    "import pandas as pd\n",
    "# import api_keys\n",
    "\n",
    "cities = ['Berlin','Paris','Amsterdam','Barcelona','Rome','Lisbon','Prague','Vienna','Madrid','London','Zurich']\n",
    "country = ['DE','FR','NL','ES','IT','PT','CZ','AT','ES','GB','CH']\n",
    "\n",
    "for city in range(len(cities)):\n",
    "#     print(cities[i])\n",
    "#     print(cities[i] + ' ' +country[i])\n",
    "\n",
    "    owm = weather_key #OWM_key\n",
    "    mgr = owm.weather_manager()\n",
    "\n",
    "# for city in cities:\n",
    "\n",
    "    # Will it be clear tomorrow at this time in Milan (Italy) ?\n",
    "    forecast = mgr.forecast_at_place(cities[city] + ',' + country[city], '3h')\n",
    "    # answer = forecast.will_be_clear_at(timestamps.tomorrow())\n",
    "\n",
    "    from numpy import nan\n",
    "\n",
    "    def forecast_extraction(forecast_object): \n",
    "        \"\"\"\n",
    "        Given a forecast object from Open weathor Pyhton API, \n",
    "        return a structured dataframe. \n",
    "\n",
    "        :param: forecast object\n",
    "        :returns: a dataframe with specific weather information\n",
    "        \"\"\"\n",
    "        forecast_df = pd.json_normalize({\n",
    "            'country' : f\"{country[city]}\",\n",
    "            'city' : f\"{cities[city]}\",\n",
    "            'time' : forecast_object.reference_time(timeformat='date'), \n",
    "            'temperature' : forecast_object.temperature(unit='celsius'), \n",
    "            'precipitation_probabily' : forecast_object.precipitation_probability, \n",
    "            'rain' : forecast_object.rain, \n",
    "            'humidity' : forecast_object.humidity, \n",
    "            'status' : forecast_object.status, \n",
    "            'snow' : [nan if forecast_object.snow is None else forecast_object.snow], \n",
    "            'wind' : forecast_object.wind('km_hour')\n",
    "        })\n",
    "    \n",
    "        return(forecast_df)\n",
    "\n",
    "    weather_forecast = pd.concat(\n",
    "        [forecast_extraction(weather) for weather in forecast.forecast.weathers]\n",
    "    )\n",
    "    \n",
    "    weather_forecast.head()"
   ]
  },
  {
   "cell_type": "code",
   "execution_count": null,
   "id": "e5bc554c-4a12-4322-bfc5-91af8f8fbc21",
   "metadata": {},
   "outputs": [],
   "source": [
    "weather_forecast.head()"
   ]
  },
  {
   "cell_type": "code",
   "execution_count": null,
   "id": "faa194b9-e133-444f-b840-ea2695957dbb",
   "metadata": {},
   "outputs": [],
   "source": []
  }
 ],
 "metadata": {
  "kernelspec": {
   "display_name": "Python 3",
   "language": "python",
   "name": "python3"
  },
  "language_info": {
   "codemirror_mode": {
    "name": "ipython",
    "version": 3
   },
   "file_extension": ".py",
   "mimetype": "text/x-python",
   "name": "python",
   "nbconvert_exporter": "python",
   "pygments_lexer": "ipython3",
   "version": "3.8.8"
  }
 },
 "nbformat": 4,
 "nbformat_minor": 5
}
