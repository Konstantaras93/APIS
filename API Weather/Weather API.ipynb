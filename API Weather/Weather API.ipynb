{
 "cells": [
  {
   "cell_type": "markdown",
   "id": "adaaabb7-439e-44cd-b1e5-03ebe52a8219",
   "metadata": {},
   "source": [
    "## First API !"
   ]
  },
  {
   "cell_type": "code",
   "execution_count": 91,
   "id": "7efb9af6-4971-4964-96e0-c8130463d712",
   "metadata": {},
   "outputs": [],
   "source": [
    "from pyowm.owm import OWM\n",
    "from pyowm.utils import config\n",
    "from pyowm.utils import timestamps"
   ]
  },
  {
   "cell_type": "code",
   "execution_count": null,
   "id": "a731f2c5-5987-47c7-a356-9a801c696ac6",
   "metadata": {},
   "outputs": [],
   "source": []
  },
  {
   "cell_type": "code",
   "execution_count": 92,
   "id": "f4bf106a-5d5b-4c05-bb4a-fedc5c0c6b25",
   "metadata": {},
   "outputs": [],
   "source": [
    "owm = OWM('554d42b09a0d4111980560735cb1e29e')\n",
    "mgr = owm.weather_manager()\n",
    "version_tuple = (major, minor, patch) = owm.version"
   ]
  },
  {
   "cell_type": "code",
   "execution_count": 99,
   "id": "73d918ef-b2dc-4292-913d-7d79f44d7e35",
   "metadata": {},
   "outputs": [
    {
     "ename": "UnauthorizedError",
     "evalue": "Invalid API Key provided",
     "output_type": "error",
     "traceback": [
      "\u001b[1;31m---------------------------------------------------------------------------\u001b[0m",
      "\u001b[1;31mUnauthorizedError\u001b[0m                         Traceback (most recent call last)",
      "\u001b[1;32m<ipython-input-99-c1df5328974d>\u001b[0m in \u001b[0;36m<module>\u001b[1;34m\u001b[0m\n\u001b[0;32m      8\u001b[0m \u001b[1;31m# Will it be clear tomorrow at this time in Milan (Italy) ?\u001b[0m\u001b[1;33m\u001b[0m\u001b[1;33m\u001b[0m\u001b[1;33m\u001b[0m\u001b[0m\n\u001b[0;32m      9\u001b[0m \u001b[1;33m\u001b[0m\u001b[0m\n\u001b[1;32m---> 10\u001b[1;33m \u001b[0mforecast\u001b[0m \u001b[1;33m=\u001b[0m \u001b[0mmgr\u001b[0m\u001b[1;33m.\u001b[0m\u001b[0mforecast_at_place\u001b[0m\u001b[1;33m(\u001b[0m\u001b[1;34m'Berlin,DE'\u001b[0m\u001b[1;33m,\u001b[0m \u001b[1;34m'daily'\u001b[0m\u001b[1;33m)\u001b[0m\u001b[1;33m\u001b[0m\u001b[1;33m\u001b[0m\u001b[0m\n\u001b[0m\u001b[0;32m     11\u001b[0m \u001b[1;31m# forecast = mgr.forecast_at_place('London,GB', 'daily')\u001b[0m\u001b[1;33m\u001b[0m\u001b[1;33m\u001b[0m\u001b[1;33m\u001b[0m\u001b[0m\n\u001b[0;32m     12\u001b[0m \u001b[1;31m# answer = forecast.will_be_clear_at(timestamps.tomorrow())\u001b[0m\u001b[1;33m\u001b[0m\u001b[1;33m\u001b[0m\u001b[1;33m\u001b[0m\u001b[0m\n",
      "\u001b[1;32mC:\\ProgramData\\Anaconda3\\lib\\site-packages\\pyowm\\weatherapi25\\weather_manager.py\u001b[0m in \u001b[0;36mforecast_at_place\u001b[1;34m(self, name, interval, limit)\u001b[0m\n\u001b[0;32m    289\u001b[0m         \u001b[1;32melse\u001b[0m\u001b[1;33m:\u001b[0m\u001b[1;33m\u001b[0m\u001b[1;33m\u001b[0m\u001b[0m\n\u001b[0;32m    290\u001b[0m             \u001b[1;32mraise\u001b[0m \u001b[0mValueError\u001b[0m\u001b[1;33m(\u001b[0m\u001b[1;34m\"Unsupported time interval for forecast\"\u001b[0m\u001b[1;33m)\u001b[0m\u001b[1;33m\u001b[0m\u001b[1;33m\u001b[0m\u001b[0m\n\u001b[1;32m--> 291\u001b[1;33m         \u001b[0m_\u001b[0m\u001b[1;33m,\u001b[0m \u001b[0mjson_data\u001b[0m \u001b[1;33m=\u001b[0m \u001b[0mself\u001b[0m\u001b[1;33m.\u001b[0m\u001b[0mhttp_client\u001b[0m\u001b[1;33m.\u001b[0m\u001b[0mget_json\u001b[0m\u001b[1;33m(\u001b[0m\u001b[0muri\u001b[0m\u001b[1;33m,\u001b[0m \u001b[0mparams\u001b[0m\u001b[1;33m=\u001b[0m\u001b[0mparams\u001b[0m\u001b[1;33m)\u001b[0m\u001b[1;33m\u001b[0m\u001b[1;33m\u001b[0m\u001b[0m\n\u001b[0m\u001b[0;32m    292\u001b[0m         \u001b[0mfc\u001b[0m \u001b[1;33m=\u001b[0m \u001b[0mforecast\u001b[0m\u001b[1;33m.\u001b[0m\u001b[0mForecast\u001b[0m\u001b[1;33m.\u001b[0m\u001b[0mfrom_dict\u001b[0m\u001b[1;33m(\u001b[0m\u001b[0mjson_data\u001b[0m\u001b[1;33m)\u001b[0m\u001b[1;33m\u001b[0m\u001b[1;33m\u001b[0m\u001b[0m\n\u001b[0;32m    293\u001b[0m         \u001b[1;32mif\u001b[0m \u001b[0mfc\u001b[0m \u001b[1;32mis\u001b[0m \u001b[1;32mnot\u001b[0m \u001b[1;32mNone\u001b[0m\u001b[1;33m:\u001b[0m\u001b[1;33m\u001b[0m\u001b[1;33m\u001b[0m\u001b[0m\n",
      "\u001b[1;32mC:\\ProgramData\\Anaconda3\\lib\\site-packages\\pyowm\\commons\\http_client.py\u001b[0m in \u001b[0;36mget_json\u001b[1;34m(self, path, params, headers)\u001b[0m\n\u001b[0;32m    138\u001b[0m         \u001b[1;32mexcept\u001b[0m \u001b[0mrequests\u001b[0m\u001b[1;33m.\u001b[0m\u001b[0mexceptions\u001b[0m\u001b[1;33m.\u001b[0m\u001b[0mTimeout\u001b[0m\u001b[1;33m:\u001b[0m\u001b[1;33m\u001b[0m\u001b[1;33m\u001b[0m\u001b[0m\n\u001b[0;32m    139\u001b[0m             \u001b[1;32mraise\u001b[0m \u001b[0mexceptions\u001b[0m\u001b[1;33m.\u001b[0m\u001b[0mTimeoutError\u001b[0m\u001b[1;33m(\u001b[0m\u001b[1;34m'API call timeouted'\u001b[0m\u001b[1;33m)\u001b[0m\u001b[1;33m\u001b[0m\u001b[1;33m\u001b[0m\u001b[0m\n\u001b[1;32m--> 140\u001b[1;33m         \u001b[0mHttpClient\u001b[0m\u001b[1;33m.\u001b[0m\u001b[0mcheck_status_code\u001b[0m\u001b[1;33m(\u001b[0m\u001b[0mresp\u001b[0m\u001b[1;33m.\u001b[0m\u001b[0mstatus_code\u001b[0m\u001b[1;33m,\u001b[0m \u001b[0mresp\u001b[0m\u001b[1;33m.\u001b[0m\u001b[0mtext\u001b[0m\u001b[1;33m)\u001b[0m\u001b[1;33m\u001b[0m\u001b[1;33m\u001b[0m\u001b[0m\n\u001b[0m\u001b[0;32m    141\u001b[0m         \u001b[1;32mtry\u001b[0m\u001b[1;33m:\u001b[0m\u001b[1;33m\u001b[0m\u001b[1;33m\u001b[0m\u001b[0m\n\u001b[0;32m    142\u001b[0m             \u001b[1;32mreturn\u001b[0m \u001b[0mresp\u001b[0m\u001b[1;33m.\u001b[0m\u001b[0mstatus_code\u001b[0m\u001b[1;33m,\u001b[0m \u001b[0mresp\u001b[0m\u001b[1;33m.\u001b[0m\u001b[0mjson\u001b[0m\u001b[1;33m(\u001b[0m\u001b[1;33m)\u001b[0m\u001b[1;33m\u001b[0m\u001b[1;33m\u001b[0m\u001b[0m\n",
      "\u001b[1;32mC:\\ProgramData\\Anaconda3\\lib\\site-packages\\pyowm\\commons\\http_client.py\u001b[0m in \u001b[0;36mcheck_status_code\u001b[1;34m(cls, status_code, payload)\u001b[0m\n\u001b[0;32m    281\u001b[0m             \u001b[1;32mraise\u001b[0m \u001b[0mexceptions\u001b[0m\u001b[1;33m.\u001b[0m\u001b[0mAPIRequestError\u001b[0m\u001b[1;33m(\u001b[0m\u001b[0mpayload\u001b[0m\u001b[1;33m)\u001b[0m\u001b[1;33m\u001b[0m\u001b[1;33m\u001b[0m\u001b[0m\n\u001b[0;32m    282\u001b[0m         \u001b[1;32melif\u001b[0m \u001b[0mstatus_code\u001b[0m \u001b[1;33m==\u001b[0m \u001b[1;36m401\u001b[0m\u001b[1;33m:\u001b[0m\u001b[1;33m\u001b[0m\u001b[1;33m\u001b[0m\u001b[0m\n\u001b[1;32m--> 283\u001b[1;33m             \u001b[1;32mraise\u001b[0m \u001b[0mexceptions\u001b[0m\u001b[1;33m.\u001b[0m\u001b[0mUnauthorizedError\u001b[0m\u001b[1;33m(\u001b[0m\u001b[1;34m'Invalid API Key provided'\u001b[0m\u001b[1;33m)\u001b[0m\u001b[1;33m\u001b[0m\u001b[1;33m\u001b[0m\u001b[0m\n\u001b[0m\u001b[0;32m    284\u001b[0m         \u001b[1;32melif\u001b[0m \u001b[0mstatus_code\u001b[0m \u001b[1;33m==\u001b[0m \u001b[1;36m404\u001b[0m\u001b[1;33m:\u001b[0m\u001b[1;33m\u001b[0m\u001b[1;33m\u001b[0m\u001b[0m\n\u001b[0;32m    285\u001b[0m             \u001b[1;32mraise\u001b[0m \u001b[0mexceptions\u001b[0m\u001b[1;33m.\u001b[0m\u001b[0mNotFoundError\u001b[0m\u001b[1;33m(\u001b[0m\u001b[1;34m'Unable to find the resource'\u001b[0m\u001b[1;33m)\u001b[0m\u001b[1;33m\u001b[0m\u001b[1;33m\u001b[0m\u001b[0m\n",
      "\u001b[1;31mUnauthorizedError\u001b[0m: Invalid API Key provided"
     ]
    }
   ],
   "source": [
    "observation = mgr.weather_at_place('London,GB')\n",
    "w = observation.weather\n",
    "\n",
    "# one_call = mgr.one_call(lat=52.5244, lon=13.4105)\n",
    "# one_call\n",
    "w.detailed_status\n",
    "\n",
    "# Will it be clear tomorrow at this time in Milan (Italy) ?\n",
    "\n",
    "forecast = mgr.forecast_at_place('Berlin,DE', 'daily')\n",
    "# forecast = mgr.forecast_at_place('London,GB', 'daily')\n",
    "# answer = forecast.will_be_clear_at(timestamps.tomorrow())"
   ]
  },
  {
   "cell_type": "code",
   "execution_count": 60,
   "id": "0eea7d8e-ba86-4c45-8187-55c23ebc8471",
   "metadata": {},
   "outputs": [
    {
     "data": {
      "text/plain": [
       "'broken clouds'"
      ]
     },
     "execution_count": 60,
     "metadata": {},
     "output_type": "execute_result"
    }
   ],
   "source": [
    "w.detailed_status         # 'clouds'"
   ]
  },
  {
   "cell_type": "code",
   "execution_count": 61,
   "id": "7abb57cb-6eda-401f-b568-0046cf73655b",
   "metadata": {},
   "outputs": [
    {
     "data": {
      "text/plain": [
       "{'speed': 2.06, 'deg': 290}"
      ]
     },
     "execution_count": 61,
     "metadata": {},
     "output_type": "execute_result"
    }
   ],
   "source": [
    "w.wind()                  # {'speed': 4.6, 'deg': 330}"
   ]
  },
  {
   "cell_type": "code",
   "execution_count": 62,
   "id": "f9fdd136-d0cb-4e06-a086-52df5a77d048",
   "metadata": {},
   "outputs": [
    {
     "data": {
      "text/plain": [
       "78"
      ]
     },
     "execution_count": 62,
     "metadata": {},
     "output_type": "execute_result"
    }
   ],
   "source": [
    "w.humidity                # 87"
   ]
  },
  {
   "cell_type": "code",
   "execution_count": 63,
   "id": "7b7df19f-c69d-41b1-935f-53504ff552e2",
   "metadata": {},
   "outputs": [
    {
     "data": {
      "text/plain": [
       "{'temp': 8.52,\n",
       " 'temp_max': 11.1,\n",
       " 'temp_min': 5.77,\n",
       " 'feels_like': 7.42,\n",
       " 'temp_kf': None}"
      ]
     },
     "execution_count": 63,
     "metadata": {},
     "output_type": "execute_result"
    }
   ],
   "source": [
    "w.temperature('celsius')  # {'temp_max': 10.5, 'temp': 9.7, 'temp_min': 9.0}"
   ]
  },
  {
   "cell_type": "code",
   "execution_count": 64,
   "id": "a2aa0e6b-2c1d-45d3-b93c-80fdbc270289",
   "metadata": {},
   "outputs": [
    {
     "data": {
      "text/plain": [
       "{}"
      ]
     },
     "execution_count": 64,
     "metadata": {},
     "output_type": "execute_result"
    }
   ],
   "source": [
    "w.rain                    # {}"
   ]
  },
  {
   "cell_type": "code",
   "execution_count": 65,
   "id": "f831c934-2552-4e60-be15-18cd6c2c1237",
   "metadata": {},
   "outputs": [],
   "source": [
    "w.heat_index              # None"
   ]
  },
  {
   "cell_type": "code",
   "execution_count": 66,
   "id": "d727eb9d-f426-4b8b-9321-2aa201968a48",
   "metadata": {},
   "outputs": [
    {
     "data": {
      "text/plain": [
       "82"
      ]
     },
     "execution_count": 66,
     "metadata": {},
     "output_type": "execute_result"
    }
   ],
   "source": [
    "w.clouds                  # 75"
   ]
  },
  {
   "cell_type": "code",
   "execution_count": 100,
   "id": "43097553-d1a8-4a62-8180-bd3ffb5f26b7",
   "metadata": {},
   "outputs": [
    {
     "data": {
      "text/html": [
       "<div>\n",
       "<style scoped>\n",
       "    .dataframe tbody tr th:only-of-type {\n",
       "        vertical-align: middle;\n",
       "    }\n",
       "\n",
       "    .dataframe tbody tr th {\n",
       "        vertical-align: top;\n",
       "    }\n",
       "\n",
       "    .dataframe thead th {\n",
       "        text-align: right;\n",
       "    }\n",
       "</style>\n",
       "<table border=\"1\" class=\"dataframe\">\n",
       "  <thead>\n",
       "    <tr style=\"text-align: right;\">\n",
       "      <th></th>\n",
       "      <th>time</th>\n",
       "      <th>precipitation_probabily</th>\n",
       "      <th>humidity</th>\n",
       "      <th>status</th>\n",
       "      <th>snow</th>\n",
       "      <th>temperature.temp</th>\n",
       "      <th>temperature.temp_kf</th>\n",
       "      <th>temperature.temp_max</th>\n",
       "      <th>temperature.temp_min</th>\n",
       "      <th>temperature.feels_like</th>\n",
       "      <th>wind.speed</th>\n",
       "      <th>wind.deg</th>\n",
       "      <th>wind.gust</th>\n",
       "      <th>rain.3h</th>\n",
       "    </tr>\n",
       "  </thead>\n",
       "  <tbody>\n",
       "    <tr>\n",
       "      <th>0</th>\n",
       "      <td>2021-11-23 18:00:00+00:00</td>\n",
       "      <td>0.0</td>\n",
       "      <td>90</td>\n",
       "      <td>Clouds</td>\n",
       "      <td>[{}]</td>\n",
       "      <td>6.69</td>\n",
       "      <td>-273.07</td>\n",
       "      <td>6.69</td>\n",
       "      <td>6.61</td>\n",
       "      <td>4.79</td>\n",
       "      <td>9.504</td>\n",
       "      <td>261</td>\n",
       "      <td>25.308</td>\n",
       "      <td>NaN</td>\n",
       "    </tr>\n",
       "    <tr>\n",
       "      <th>0</th>\n",
       "      <td>2021-11-23 21:00:00+00:00</td>\n",
       "      <td>0.0</td>\n",
       "      <td>84</td>\n",
       "      <td>Clouds</td>\n",
       "      <td>[{}]</td>\n",
       "      <td>6.70</td>\n",
       "      <td>-273.13</td>\n",
       "      <td>6.70</td>\n",
       "      <td>6.68</td>\n",
       "      <td>4.72</td>\n",
       "      <td>9.936</td>\n",
       "      <td>243</td>\n",
       "      <td>25.920</td>\n",
       "      <td>NaN</td>\n",
       "    </tr>\n",
       "    <tr>\n",
       "      <th>0</th>\n",
       "      <td>2021-11-24 00:00:00+00:00</td>\n",
       "      <td>0.0</td>\n",
       "      <td>78</td>\n",
       "      <td>Clouds</td>\n",
       "      <td>[{}]</td>\n",
       "      <td>6.68</td>\n",
       "      <td>-273.15</td>\n",
       "      <td>6.68</td>\n",
       "      <td>6.68</td>\n",
       "      <td>4.64</td>\n",
       "      <td>10.188</td>\n",
       "      <td>255</td>\n",
       "      <td>26.676</td>\n",
       "      <td>NaN</td>\n",
       "    </tr>\n",
       "    <tr>\n",
       "      <th>0</th>\n",
       "      <td>2021-11-24 03:00:00+00:00</td>\n",
       "      <td>0.0</td>\n",
       "      <td>82</td>\n",
       "      <td>Clouds</td>\n",
       "      <td>[{}]</td>\n",
       "      <td>6.37</td>\n",
       "      <td>-273.15</td>\n",
       "      <td>6.37</td>\n",
       "      <td>6.37</td>\n",
       "      <td>4.72</td>\n",
       "      <td>8.172</td>\n",
       "      <td>263</td>\n",
       "      <td>22.932</td>\n",
       "      <td>NaN</td>\n",
       "    </tr>\n",
       "    <tr>\n",
       "      <th>0</th>\n",
       "      <td>2021-11-24 06:00:00+00:00</td>\n",
       "      <td>0.0</td>\n",
       "      <td>80</td>\n",
       "      <td>Clouds</td>\n",
       "      <td>[{}]</td>\n",
       "      <td>6.49</td>\n",
       "      <td>-273.15</td>\n",
       "      <td>6.49</td>\n",
       "      <td>6.49</td>\n",
       "      <td>4.79</td>\n",
       "      <td>8.460</td>\n",
       "      <td>261</td>\n",
       "      <td>25.596</td>\n",
       "      <td>NaN</td>\n",
       "    </tr>\n",
       "  </tbody>\n",
       "</table>\n",
       "</div>"
      ],
      "text/plain": [
       "                       time  precipitation_probabily  humidity  status  snow  \\\n",
       "0 2021-11-23 18:00:00+00:00                      0.0        90  Clouds  [{}]   \n",
       "0 2021-11-23 21:00:00+00:00                      0.0        84  Clouds  [{}]   \n",
       "0 2021-11-24 00:00:00+00:00                      0.0        78  Clouds  [{}]   \n",
       "0 2021-11-24 03:00:00+00:00                      0.0        82  Clouds  [{}]   \n",
       "0 2021-11-24 06:00:00+00:00                      0.0        80  Clouds  [{}]   \n",
       "\n",
       "   temperature.temp  temperature.temp_kf  temperature.temp_max  \\\n",
       "0              6.69              -273.07                  6.69   \n",
       "0              6.70              -273.13                  6.70   \n",
       "0              6.68              -273.15                  6.68   \n",
       "0              6.37              -273.15                  6.37   \n",
       "0              6.49              -273.15                  6.49   \n",
       "\n",
       "   temperature.temp_min  temperature.feels_like  wind.speed  wind.deg  \\\n",
       "0                  6.61                    4.79       9.504       261   \n",
       "0                  6.68                    4.72       9.936       243   \n",
       "0                  6.68                    4.64      10.188       255   \n",
       "0                  6.37                    4.72       8.172       263   \n",
       "0                  6.49                    4.79       8.460       261   \n",
       "\n",
       "   wind.gust  rain.3h  \n",
       "0     25.308      NaN  \n",
       "0     25.920      NaN  \n",
       "0     26.676      NaN  \n",
       "0     22.932      NaN  \n",
       "0     25.596      NaN  "
      ]
     },
     "execution_count": 100,
     "metadata": {},
     "output_type": "execute_result"
    }
   ],
   "source": [
    "from pyowm import OWM\n",
    "from pyowm.utils import config\n",
    "from pyowm.utils import timestamps\n",
    "import pandas as pd\n",
    "\n",
    "OWM_key = \"554d42b09a0d4111980560735cb1e29e\"\n",
    "city = \"Berlin\"  # instead place on a \n",
    "country = \"DE\"\n",
    "\n",
    "owm = OWM(OWM_key)\n",
    "mgr = owm.weather_manager()\n",
    "\n",
    "# Will it be clear tomorrow at this time in Milan (Italy) ?\n",
    "forecast = mgr.forecast_at_place(city + ',' + country, '3h')\n",
    "# answer = forecast.will_be_clear_at(timestamps.tomorrow())\n",
    "\n",
    "from numpy import nan\n",
    "\n",
    "def forecast_extraction(forecast_object): \n",
    "    \"\"\"\n",
    "    Given a forecast object from Open weathor Pyhton API, \n",
    "    return a structured dataframe. \n",
    "\n",
    "    :param: forecast object\n",
    "    :returns: a dataframe with specific weather information\n",
    "    \"\"\"\n",
    "    forecast_df = pd.json_normalize({\n",
    "        'time' : forecast_object.reference_time(timeformat='date'), \n",
    "        'temperature' : forecast_object.temperature(unit='celsius'), \n",
    "        'precipitation_probabily' : forecast_object.precipitation_probability, \n",
    "        'rain' : forecast_object.rain, \n",
    "        'humidity' : forecast_object.humidity, \n",
    "        'status' : forecast_object.status, \n",
    "        'snow' : [nan if forecast_object.snow is None else forecast_object.snow], \n",
    "        'wind' : forecast_object.wind('km_hour')\n",
    "    })\n",
    "\n",
    "    return(forecast_df)\n",
    "\n",
    "weather_forecast = pd.concat(\n",
    "    [forecast_extraction(weather) for weather in forecast.forecast.weathers]\n",
    ")\n",
    "\n",
    "weather_forecast.head()"
   ]
  }
 ],
 "metadata": {
  "kernelspec": {
   "display_name": "Python 3",
   "language": "python",
   "name": "python3"
  },
  "language_info": {
   "codemirror_mode": {
    "name": "ipython",
    "version": 3
   },
   "file_extension": ".py",
   "mimetype": "text/x-python",
   "name": "python",
   "nbconvert_exporter": "python",
   "pygments_lexer": "ipython3",
   "version": "3.8.8"
  }
 },
 "nbformat": 4,
 "nbformat_minor": 5
}
