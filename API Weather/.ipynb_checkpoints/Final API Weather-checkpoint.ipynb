{
 "cells": [
  {
   "cell_type": "markdown",
   "id": "4b6c463c-206f-42fa-963c-2649793fcc4b",
   "metadata": {},
   "source": [
    "# Weather"
   ]
  },
  {
   "cell_type": "code",
   "execution_count": 1,
   "id": "2d09844b-ea8d-45f7-8940-831fda97c43b",
   "metadata": {},
   "outputs": [],
   "source": [
    "# importing librariesfrom IPython.display import JSON\n",
    "# using a path instead of putting the original key file in the same folder ! \n",
    "import sys\n",
    "path = \"C:/Users/Kosta/OneDrive/Desktop/Data_Science\"\n",
    "sys.path.insert(1, path)\n",
    "from bs4 import BeautifulSoup\n",
    "import pandas as pd\n",
    "import requests\n",
    "from pyowm.owm import OWM\n",
    "from api_keys import *\n",
    "from IPython.display import JSON"
   ]
  },
  {
   "cell_type": "code",
   "execution_count": 2,
   "id": "63edcf27-38c3-4766-9a10-18a5631d5b1b",
   "metadata": {},
   "outputs": [],
   "source": [
    "pd.set_option('display.expand_frame_repr', False)\n",
    "owm = OWM(weather_key)"
   ]
  },
  {
   "cell_type": "code",
   "execution_count": 3,
   "id": "ba2941eb-0339-4060-8ad5-0ed82f68a55c",
   "metadata": {},
   "outputs": [],
   "source": [
    "cities = pd.read_csv('cities.csv')"
   ]
  },
  {
   "cell_type": "markdown",
   "id": "c3a92dcf-9df5-4ffc-b45a-37a9a91979cb",
   "metadata": {},
   "source": [
    "### For the provided cities"
   ]
  },
  {
   "cell_type": "code",
   "execution_count": 5,
   "id": "653f28d2-b905-4300-8f5b-22f8e6f0d9b9",
   "metadata": {},
   "outputs": [],
   "source": [
    "# cities"
   ]
  },
  {
   "cell_type": "code",
   "execution_count": null,
   "id": "81b46650-20eb-414d-926e-872b20a17d9b",
   "metadata": {},
   "outputs": [],
   "source": [
    "Listof_resp = []"
   ]
  },
  {
   "cell_type": "code",
   "execution_count": 26,
   "id": "a0537b7d-5e63-4834-ae5e-2204457040a6",
   "metadata": {},
   "outputs": [],
   "source": [
    "city_weather_tables = []"
   ]
  },
  {
   "cell_type": "code",
   "execution_count": 27,
   "id": "0566c13f-59ee-418c-a938-64d1324fd3d3",
   "metadata": {},
   "outputs": [],
   "source": [
    "for index, row in cities.iterrows():\n",
    "    url = (f\"http://api.openweathermap.org/data/2.5/forecast?q={row['City']},{row['Country_code']}&appid={weather_key}&units=metric\") \n",
    "    response = requests.get(url)\n",
    "    json = response.json() \n",
    "    Listof_resp.append(json)\n",
    "    dictionary = {\"DateTime\":[],'Temperature':[],'Feels_like': [],'Humidity':[],'Weather':[],'Clouds':[],'Wind_speed':[],'Rain':[],'Snow':[]}\n",
    "\n",
    "    for hour in json['list']:\n",
    "        dictionary['DateTime'].append(hour['dt_txt'])\n",
    "        dictionary['Temperature'].append(hour['main']['temp'])\n",
    "        dictionary['Feels_like'].append(hour['main']['feels_like'])\n",
    "        dictionary['Humidity'].append(hour['main']['humidity'])\n",
    "        dictionary['Weather'].append(hour['weather'][0]['description'])\n",
    "        dictionary['Clouds'].append(hour['clouds']['all'])\n",
    "        dictionary['Wind_speed'].append(hour['wind']['speed'])\n",
    "        try:\n",
    "            dictionary['Rain'].append(hour['rain']['3h'])\n",
    "        except:\n",
    "            dictionary['Rain'].append('0')\n",
    "        try:\n",
    "            dictionary['Snow'].append(hour['snow']['3h'])\n",
    "        except:\n",
    "            dictionary['Snow'].append('0')\n",
    "            \n",
    "    weather_table=pd.DataFrame.from_dict(dictionary)\n",
    "    weather_table = weather_table.assign(City = row['City'])\n",
    "    city_weather_tables.append(weather_table)"
   ]
  },
  {
   "cell_type": "code",
   "execution_count": 9,
   "id": "ce3b2eb7-b387-4b7c-bc16-f4f5ae8aa6e9",
   "metadata": {
    "tags": []
   },
   "outputs": [
    {
     "data": {
      "application/json": {
       "city": {
        "coord": {
         "lat": 44.804,
         "lon": 20.4651
        },
        "country": "RS",
        "id": 792680,
        "name": "Belgrade",
        "population": 1273651,
        "sunrise": 1638684001,
        "sunset": 1638716273,
        "timezone": 3600
       },
       "cnt": 40,
       "cod": "200",
       "list": [
        {
         "clouds": {
          "all": 60
         },
         "dt": 1638716400,
         "dt_txt": "2021-12-05 15:00:00",
         "main": {
          "feels_like": 5.03,
          "grnd_level": 990,
          "humidity": 88,
          "pressure": 1004,
          "sea_level": 1004,
          "temp": 6.3,
          "temp_kf": -1,
          "temp_max": 7.3,
          "temp_min": 6.3
         },
         "pop": 0.61,
         "rain": {
          "3h": 0.82
         },
         "sys": {
          "pod": "n"
         },
         "visibility": 10000,
         "weather": [
          {
           "description": "light rain",
           "icon": "10n",
           "id": 500,
           "main": "Rain"
          }
         ],
         "wind": {
          "deg": 13,
          "gust": 3.39,
          "speed": 1.85
         }
        },
        {
         "clouds": {
          "all": 80
         },
         "dt": 1638727200,
         "dt_txt": "2021-12-05 18:00:00",
         "main": {
          "feels_like": 4.16,
          "grnd_level": 989,
          "humidity": 81,
          "pressure": 1005,
          "sea_level": 1005,
          "temp": 6.35,
          "temp_kf": -0.27,
          "temp_max": 6.62,
          "temp_min": 6.35
         },
         "pop": 0.56,
         "sys": {
          "pod": "n"
         },
         "visibility": 10000,
         "weather": [
          {
           "description": "broken clouds",
           "icon": "04n",
           "id": 803,
           "main": "Clouds"
          }
         ],
         "wind": {
          "deg": 101,
          "gust": 5.78,
          "speed": 2.95
         }
        },
        {
         "clouds": {
          "all": 100
         },
         "dt": 1638738000,
         "dt_txt": "2021-12-05 21:00:00",
         "main": {
          "feels_like": 5.22,
          "grnd_level": 989,
          "humidity": 83,
          "pressure": 1004,
          "sea_level": 1004,
          "temp": 6.34,
          "temp_kf": 0,
          "temp_max": 6.34,
          "temp_min": 6.34
         },
         "pop": 0.11,
         "sys": {
          "pod": "n"
         },
         "visibility": 10000,
         "weather": [
          {
           "description": "overcast clouds",
           "icon": "04n",
           "id": 804,
           "main": "Clouds"
          }
         ],
         "wind": {
          "deg": 114,
          "gust": 2.73,
          "speed": 1.72
         }
        },
        {
         "clouds": {
          "all": 100
         },
         "dt": 1638748800,
         "dt_txt": "2021-12-06 00:00:00",
         "main": {
          "feels_like": 5.4,
          "grnd_level": 988,
          "humidity": 88,
          "pressure": 1003,
          "sea_level": 1003,
          "temp": 6.57,
          "temp_kf": 0,
          "temp_max": 6.57,
          "temp_min": 6.57
         },
         "pop": 0.38,
         "rain": {
          "3h": 0.38
         },
         "sys": {
          "pod": "n"
         },
         "visibility": 10000,
         "weather": [
          {
           "description": "light rain",
           "icon": "10n",
           "id": 500,
           "main": "Rain"
          }
         ],
         "wind": {
          "deg": 122,
          "gust": 3.39,
          "speed": 1.8
         }
        },
        {
         "clouds": {
          "all": 100
         },
         "dt": 1638759600,
         "dt_txt": "2021-12-06 03:00:00",
         "main": {
          "feels_like": 5.04,
          "grnd_level": 987,
          "humidity": 93,
          "pressure": 1002,
          "sea_level": 1002,
          "temp": 6.46,
          "temp_kf": 0,
          "temp_max": 6.46,
          "temp_min": 6.46
         },
         "pop": 0.95,
         "rain": {
          "3h": 2.06
         },
         "sys": {
          "pod": "n"
         },
         "visibility": 7370,
         "weather": [
          {
           "description": "light rain",
           "icon": "10n",
           "id": 500,
           "main": "Rain"
          }
         ],
         "wind": {
          "deg": 156,
          "gust": 6.79,
          "speed": 2.03
         }
        },
        {
         "clouds": {
          "all": 100
         },
         "dt": 1638770400,
         "dt_txt": "2021-12-06 06:00:00",
         "main": {
          "feels_like": 1.93,
          "grnd_level": 989,
          "humidity": 94,
          "pressure": 1004,
          "sea_level": 1004,
          "temp": 5.22,
          "temp_kf": 0,
          "temp_max": 5.22,
          "temp_min": 5.22
         },
         "pop": 1,
         "rain": {
          "3h": 3.67
         },
         "sys": {
          "pod": "n"
         },
         "visibility": 10000,
         "weather": [
          {
           "description": "moderate rain",
           "icon": "10n",
           "id": 501,
           "main": "Rain"
          }
         ],
         "wind": {
          "deg": 239,
          "gust": 7.36,
          "speed": 4.37
         }
        },
        {
         "clouds": {
          "all": 100
         },
         "dt": 1638781200,
         "dt_txt": "2021-12-06 09:00:00",
         "main": {
          "feels_like": -0.86,
          "grnd_level": 991,
          "humidity": 94,
          "pressure": 1007,
          "sea_level": 1007,
          "temp": 3.41,
          "temp_kf": 0,
          "temp_max": 3.41,
          "temp_min": 3.41
         },
         "pop": 0.13,
         "sys": {
          "pod": "d"
         },
         "visibility": 3341,
         "weather": [
          {
           "description": "overcast clouds",
           "icon": "04d",
           "id": 804,
           "main": "Clouds"
          }
         ],
         "wind": {
          "deg": 263,
          "gust": 8.59,
          "speed": 5.43
         }
        },
        {
         "clouds": {
          "all": 100
         },
         "dt": 1638792000,
         "dt_txt": "2021-12-06 12:00:00",
         "main": {
          "feels_like": -0.84,
          "grnd_level": 992,
          "humidity": 94,
          "pressure": 1007,
          "sea_level": 1007,
          "temp": 3.1,
          "temp_kf": 0,
          "temp_max": 3.1,
          "temp_min": 3.1
         },
         "pop": 0.15,
         "sys": {
          "pod": "d"
         },
         "visibility": 2902,
         "weather": [
          {
           "description": "overcast clouds",
           "icon": "04d",
           "id": 804,
           "main": "Clouds"
          }
         ],
         "wind": {
          "deg": 285,
          "gust": 7.98,
          "speed": 4.62
         }
        },
        {
         "clouds": {
          "all": 100
         },
         "dt": 1638802800,
         "dt_txt": "2021-12-06 15:00:00",
         "main": {
          "feels_like": -0.57,
          "grnd_level": 993,
          "humidity": 96,
          "pressure": 1009,
          "sea_level": 1009,
          "temp": 2.84,
          "temp_kf": 0,
          "temp_max": 2.84,
          "temp_min": 2.84
         },
         "pop": 0.39,
         "rain": {
          "3h": 0.11
         },
         "sys": {
          "pod": "n"
         },
         "visibility": 103,
         "weather": [
          {
           "description": "light rain",
           "icon": "10n",
           "id": 500,
           "main": "Rain"
          }
         ],
         "wind": {
          "deg": 288,
          "gust": 6.17,
          "speed": 3.66
         }
        },
        {
         "clouds": {
          "all": 100
         },
         "dt": 1638813600,
         "dt_txt": "2021-12-06 18:00:00",
         "main": {
          "feels_like": -1.13,
          "grnd_level": 995,
          "humidity": 97,
          "pressure": 1010,
          "sea_level": 1010,
          "temp": 2.54,
          "temp_kf": 0,
          "temp_max": 2.54,
          "temp_min": 2.54
         },
         "pop": 0.67,
         "rain": {
          "3h": 1.49
         },
         "sys": {
          "pod": "n"
         },
         "visibility": 47,
         "weather": [
          {
           "description": "light rain",
           "icon": "10n",
           "id": 500,
           "main": "Rain"
          }
         ],
         "wind": {
          "deg": 286,
          "gust": 6.92,
          "speed": 3.95
         }
        },
        {
         "clouds": {
          "all": 100
         },
         "dt": 1638824400,
         "dt_txt": "2021-12-06 21:00:00",
         "main": {
          "feels_like": -1.35,
          "grnd_level": 995,
          "humidity": 97,
          "pressure": 1011,
          "sea_level": 1011,
          "temp": 2.4,
          "temp_kf": 0,
          "temp_max": 2.4,
          "temp_min": 2.4
         },
         "pop": 0.99,
         "rain": {
          "3h": 0.36
         },
         "sys": {
          "pod": "n"
         },
         "visibility": 44,
         "weather": [
          {
           "description": "light rain",
           "icon": "10n",
           "id": 500,
           "main": "Rain"
          }
         ],
         "wind": {
          "deg": 284,
          "gust": 6.51,
          "speed": 4.02
         }
        },
        {
         "clouds": {
          "all": 100
         },
         "dt": 1638835200,
         "dt_txt": "2021-12-07 00:00:00",
         "main": {
          "feels_like": -1.32,
          "grnd_level": 995,
          "humidity": 99,
          "pressure": 1010,
          "sea_level": 1010,
          "temp": 2.13,
          "temp_kf": 0,
          "temp_max": 2.13,
          "temp_min": 2.13
         },
         "pop": 1,
         "rain": {
          "3h": 1.96
         },
         "sys": {
          "pod": "n"
         },
         "visibility": 26,
         "weather": [
          {
           "description": "light rain",
           "icon": "10n",
           "id": 500,
           "main": "Rain"
          }
         ],
         "wind": {
          "deg": 303,
          "gust": 7.6,
          "speed": 3.49
         }
        },
        {
         "clouds": {
          "all": 100
         },
         "dt": 1638846000,
         "dt_txt": "2021-12-07 03:00:00",
         "main": {
          "feels_like": -1.48,
          "grnd_level": 996,
          "humidity": 98,
          "pressure": 1011,
          "sea_level": 1011,
          "temp": 2.15,
          "temp_kf": 0,
          "temp_max": 2.15,
          "temp_min": 2.15
         },
         "pop": 0.88,
         "snow": {
          "3h": 1.13
         },
         "sys": {
          "pod": "n"
         },
         "visibility": 31,
         "weather": [
          {
           "description": "light snow",
           "icon": "13n",
           "id": 600,
           "main": "Snow"
          }
         ],
         "wind": {
          "deg": 288,
          "gust": 6.45,
          "speed": 3.75
         }
        },
        {
         "clouds": {
          "all": 100
         },
         "dt": 1638856800,
         "dt_txt": "2021-12-07 06:00:00",
         "main": {
          "feels_like": -2.84,
          "grnd_level": 996,
          "humidity": 95,
          "pressure": 1011,
          "sea_level": 1011,
          "temp": 1.38,
          "temp_kf": 0,
          "temp_max": 1.38,
          "temp_min": 1.38
         },
         "pop": 0.83,
         "snow": {
          "3h": 0.59
         },
         "sys": {
          "pod": "n"
         },
         "visibility": 2596,
         "weather": [
          {
           "description": "light snow",
           "icon": "13n",
           "id": 600,
           "main": "Snow"
          }
         ],
         "wind": {
          "deg": 291,
          "gust": 7,
          "speed": 4.4
         }
        },
        {
         "clouds": {
          "all": 100
         },
         "dt": 1638867600,
         "dt_txt": "2021-12-07 09:00:00",
         "main": {
          "feels_like": -2.6,
          "grnd_level": 997,
          "humidity": 74,
          "pressure": 1012,
          "sea_level": 1012,
          "temp": 1.86,
          "temp_kf": 0,
          "temp_max": 1.86,
          "temp_min": 1.86
         },
         "pop": 0.06,
         "sys": {
          "pod": "d"
         },
         "visibility": 10000,
         "weather": [
          {
           "description": "overcast clouds",
           "icon": "04d",
           "id": 804,
           "main": "Clouds"
          }
         ],
         "wind": {
          "deg": 293,
          "gust": 6.6,
          "speed": 5.01
         }
        },
        {
         "clouds": {
          "all": 100
         },
         "dt": 1638878400,
         "dt_txt": "2021-12-07 12:00:00",
         "main": {
          "feels_like": -1.06,
          "grnd_level": 996,
          "humidity": 63,
          "pressure": 1011,
          "sea_level": 1011,
          "temp": 3.19,
          "temp_kf": 0,
          "temp_max": 3.19,
          "temp_min": 3.19
         },
         "pop": 0.06,
         "sys": {
          "pod": "d"
         },
         "visibility": 10000,
         "weather": [
          {
           "description": "overcast clouds",
           "icon": "04d",
           "id": 804,
           "main": "Clouds"
          }
         ],
         "wind": {
          "deg": 309,
          "gust": 6.95,
          "speed": 5.26
         }
        },
        {
         "clouds": {
          "all": 100
         },
         "dt": 1638889200,
         "dt_txt": "2021-12-07 15:00:00",
         "main": {
          "feels_like": -1.01,
          "grnd_level": 996,
          "humidity": 64,
          "pressure": 1012,
          "sea_level": 1012,
          "temp": 2.64,
          "temp_kf": 0,
          "temp_max": 2.64,
          "temp_min": 2.64
         },
         "pop": 0,
         "sys": {
          "pod": "n"
         },
         "visibility": 10000,
         "weather": [
          {
           "description": "overcast clouds",
           "icon": "04n",
           "id": 804,
           "main": "Clouds"
          }
         ],
         "wind": {
          "deg": 307,
          "gust": 7.29,
          "speed": 3.95
         }
        },
        {
         "clouds": {
          "all": 80
         },
         "dt": 1638900000,
         "dt_txt": "2021-12-07 18:00:00",
         "main": {
          "feels_like": -2.68,
          "grnd_level": 997,
          "humidity": 74,
          "pressure": 1013,
          "sea_level": 1013,
          "temp": 1.49,
          "temp_kf": 0,
          "temp_max": 1.49,
          "temp_min": 1.49
         },
         "pop": 0,
         "sys": {
          "pod": "n"
         },
         "visibility": 10000,
         "weather": [
          {
           "description": "broken clouds",
           "icon": "04n",
           "id": 803,
           "main": "Clouds"
          }
         ],
         "wind": {
          "deg": 297,
          "gust": 9.56,
          "speed": 4.35
         }
        },
        {
         "clouds": {
          "all": 44
         },
         "dt": 1638910800,
         "dt_txt": "2021-12-07 21:00:00",
         "main": {
          "feels_like": -3.44,
          "grnd_level": 998,
          "humidity": 84,
          "pressure": 1013,
          "sea_level": 1013,
          "temp": 0.36,
          "temp_kf": 0,
          "temp_max": 0.36,
          "temp_min": 0.36
         },
         "pop": 0,
         "sys": {
          "pod": "n"
         },
         "visibility": 10000,
         "weather": [
          {
           "description": "scattered clouds",
           "icon": "03n",
           "id": 802,
           "main": "Clouds"
          }
         ],
         "wind": {
          "deg": 284,
          "gust": 7.6,
          "speed": 3.45
         }
        },
        {
         "clouds": {
          "all": 30
         },
         "dt": 1638921600,
         "dt_txt": "2021-12-08 00:00:00",
         "main": {
          "feels_like": -3.46,
          "grnd_level": 997,
          "humidity": 90,
          "pressure": 1013,
          "sea_level": 1013,
          "temp": -0.15,
          "temp_kf": 0,
          "temp_max": -0.15,
          "temp_min": -0.15
         },
         "pop": 0,
         "sys": {
          "pod": "n"
         },
         "visibility": 10000,
         "weather": [
          {
           "description": "scattered clouds",
           "icon": "03n",
           "id": 802,
           "main": "Clouds"
          }
         ],
         "wind": {
          "deg": 290,
          "gust": 7.49,
          "speed": 2.76
         }
        },
        {
         "clouds": {
          "all": 36
         },
         "dt": 1638932400,
         "dt_txt": "2021-12-08 03:00:00",
         "main": {
          "feels_like": -3.33,
          "grnd_level": 997,
          "humidity": 91,
          "pressure": 1013,
          "sea_level": 1013,
          "temp": -0.15,
          "temp_kf": 0,
          "temp_max": -0.15,
          "temp_min": -0.15
         },
         "pop": 0,
         "sys": {
          "pod": "n"
         },
         "visibility": 10000,
         "weather": [
          {
           "description": "scattered clouds",
           "icon": "03n",
           "id": 802,
           "main": "Clouds"
          }
         ],
         "wind": {
          "deg": 287,
          "gust": 6.57,
          "speed": 2.63
         }
        },
        {
         "clouds": {
          "all": 38
         },
         "dt": 1638943200,
         "dt_txt": "2021-12-08 06:00:00",
         "main": {
          "feels_like": -1.64,
          "grnd_level": 998,
          "humidity": 92,
          "pressure": 1013,
          "sea_level": 1013,
          "temp": -0.07,
          "temp_kf": 0,
          "temp_max": -0.07,
          "temp_min": -0.07
         },
         "pop": 0,
         "sys": {
          "pod": "n"
         },
         "visibility": 10000,
         "weather": [
          {
           "description": "scattered clouds",
           "icon": "03n",
           "id": 802,
           "main": "Clouds"
          }
         ],
         "wind": {
          "deg": 298,
          "gust": 3.56,
          "speed": 1.38
         }
        },
        {
         "clouds": {
          "all": 79
         },
         "dt": 1638954000,
         "dt_txt": "2021-12-08 09:00:00",
         "main": {
          "feels_like": 2.07,
          "grnd_level": 998,
          "humidity": 75,
          "pressure": 1013,
          "sea_level": 1013,
          "temp": 2.07,
          "temp_kf": 0,
          "temp_max": 2.07,
          "temp_min": 2.07
         },
         "pop": 0,
         "sys": {
          "pod": "d"
         },
         "visibility": 10000,
         "weather": [
          {
           "description": "broken clouds",
           "icon": "04d",
           "id": 803,
           "main": "Clouds"
          }
         ],
         "wind": {
          "deg": 14,
          "gust": 1.18,
          "speed": 0.68
         }
        },
        {
         "clouds": {
          "all": 63
         },
         "dt": 1638964800,
         "dt_txt": "2021-12-08 12:00:00",
         "main": {
          "feels_like": 2.47,
          "grnd_level": 996,
          "humidity": 61,
          "pressure": 1011,
          "sea_level": 1011,
          "temp": 3.79,
          "temp_kf": 0,
          "temp_max": 3.79,
          "temp_min": 3.79
         },
         "pop": 0,
         "sys": {
          "pod": "d"
         },
         "visibility": 10000,
         "weather": [
          {
           "description": "broken clouds",
           "icon": "04d",
           "id": 803,
           "main": "Clouds"
          }
         ],
         "wind": {
          "deg": 129,
          "gust": 1.93,
          "speed": 1.57
         }
        },
        {
         "clouds": {
          "all": 78
         },
         "dt": 1638975600,
         "dt_txt": "2021-12-08 15:00:00",
         "main": {
          "feels_like": -0.09,
          "grnd_level": 995,
          "humidity": 69,
          "pressure": 1010,
          "sea_level": 1010,
          "temp": 3.02,
          "temp_kf": 0,
          "temp_max": 3.02,
          "temp_min": 3.02
         },
         "pop": 0,
         "sys": {
          "pod": "n"
         },
         "visibility": 10000,
         "weather": [
          {
           "description": "broken clouds",
           "icon": "04n",
           "id": 803,
           "main": "Clouds"
          }
         ],
         "wind": {
          "deg": 125,
          "gust": 6.44,
          "speed": 3.28
         }
        },
        {
         "clouds": {
          "all": 46
         },
         "dt": 1638986400,
         "dt_txt": "2021-12-08 18:00:00",
         "main": {
          "feels_like": -2.44,
          "grnd_level": 994,
          "humidity": 83,
          "pressure": 1010,
          "sea_level": 1010,
          "temp": 1.01,
          "temp_kf": 0,
          "temp_max": 1.01,
          "temp_min": 1.01
         },
         "pop": 0,
         "sys": {
          "pod": "n"
         },
         "visibility": 10000,
         "weather": [
          {
           "description": "scattered clouds",
           "icon": "03n",
           "id": 802,
           "main": "Clouds"
          }
         ],
         "wind": {
          "deg": 118,
          "gust": 6.62,
          "speed": 3.18
         }
        },
        {
         "clouds": {
          "all": 46
         },
         "dt": 1638997200,
         "dt_txt": "2021-12-08 21:00:00",
         "main": {
          "feels_like": -2.9,
          "grnd_level": 993,
          "humidity": 77,
          "pressure": 1009,
          "sea_level": 1009,
          "temp": 0.82,
          "temp_kf": 0,
          "temp_max": 0.82,
          "temp_min": 0.82
         },
         "pop": 0,
         "sys": {
          "pod": "n"
         },
         "visibility": 10000,
         "weather": [
          {
           "description": "scattered clouds",
           "icon": "03n",
           "id": 802,
           "main": "Clouds"
          }
         ],
         "wind": {
          "deg": 122,
          "gust": 6.5,
          "speed": 3.47
         }
        },
        {
         "clouds": {
          "all": 72
         },
         "dt": 1639008000,
         "dt_txt": "2021-12-09 00:00:00",
         "main": {
          "feels_like": -2.11,
          "grnd_level": 992,
          "humidity": 71,
          "pressure": 1008,
          "sea_level": 1008,
          "temp": 1.4,
          "temp_kf": 0,
          "temp_max": 1.4,
          "temp_min": 1.4
         },
         "pop": 0,
         "sys": {
          "pod": "n"
         },
         "visibility": 10000,
         "weather": [
          {
           "description": "broken clouds",
           "icon": "04n",
           "id": 803,
           "main": "Clouds"
          }
         ],
         "wind": {
          "deg": 128,
          "gust": 6.07,
          "speed": 3.36
         }
        },
        {
         "clouds": {
          "all": 100
         },
         "dt": 1639018800,
         "dt_txt": "2021-12-09 03:00:00",
         "main": {
          "feels_like": 0.02,
          "grnd_level": 992,
          "humidity": 64,
          "pressure": 1007,
          "sea_level": 1007,
          "temp": 3.39,
          "temp_kf": 0,
          "temp_max": 3.39,
          "temp_min": 3.39
         },
         "pop": 0.26,
         "rain": {
          "3h": 0.14
         },
         "sys": {
          "pod": "n"
         },
         "visibility": 10000,
         "weather": [
          {
           "description": "light rain",
           "icon": "10n",
           "id": 500,
           "main": "Rain"
          }
         ],
         "wind": {
          "deg": 142,
          "gust": 7.98,
          "speed": 3.78
         }
        },
        {
         "clouds": {
          "all": 100
         },
         "dt": 1639029600,
         "dt_txt": "2021-12-09 06:00:00",
         "main": {
          "feels_like": 0.54,
          "grnd_level": 992,
          "humidity": 64,
          "pressure": 1007,
          "sea_level": 1007,
          "temp": 4.02,
          "temp_kf": 0,
          "temp_max": 4.02,
          "temp_min": 4.02
         },
         "pop": 0.22,
         "rain": {
          "3h": 0.16
         },
         "sys": {
          "pod": "n"
         },
         "visibility": 10000,
         "weather": [
          {
           "description": "light rain",
           "icon": "10n",
           "id": 500,
           "main": "Rain"
          }
         ],
         "wind": {
          "deg": 136,
          "gust": 11.14,
          "speed": 4.19
         }
        },
        {
         "clouds": {
          "all": 100
         },
         "dt": 1639040400,
         "dt_txt": "2021-12-09 09:00:00",
         "main": {
          "feels_like": 1.86,
          "grnd_level": 991,
          "humidity": 57,
          "pressure": 1007,
          "sea_level": 1007,
          "temp": 5.34,
          "temp_kf": 0,
          "temp_max": 5.34,
          "temp_min": 5.34
         },
         "pop": 0.41,
         "rain": {
          "3h": 0.12
         },
         "sys": {
          "pod": "d"
         },
         "visibility": 10000,
         "weather": [
          {
           "description": "light rain",
           "icon": "10d",
           "id": 500,
           "main": "Rain"
          }
         ],
         "wind": {
          "deg": 134,
          "gust": 11.75,
          "speed": 4.79
         }
        },
        {
         "clouds": {
          "all": 100
         },
         "dt": 1639051200,
         "dt_txt": "2021-12-09 12:00:00",
         "main": {
          "feels_like": 2.66,
          "grnd_level": 988,
          "humidity": 57,
          "pressure": 1003,
          "sea_level": 1003,
          "temp": 6.87,
          "temp_kf": 0,
          "temp_max": 6.87,
          "temp_min": 6.87
         },
         "pop": 0.25,
         "sys": {
          "pod": "d"
         },
         "visibility": 10000,
         "weather": [
          {
           "description": "overcast clouds",
           "icon": "04d",
           "id": 804,
           "main": "Clouds"
          }
         ],
         "wind": {
          "deg": 128,
          "gust": 16.66,
          "speed": 7.8
         }
        },
        {
         "clouds": {
          "all": 100
         },
         "dt": 1639062000,
         "dt_txt": "2021-12-09 15:00:00",
         "main": {
          "feels_like": 1.08,
          "grnd_level": 987,
          "humidity": 64,
          "pressure": 1002,
          "sea_level": 1002,
          "temp": 6,
          "temp_kf": 0,
          "temp_max": 6,
          "temp_min": 6
         },
         "pop": 0,
         "sys": {
          "pod": "n"
         },
         "visibility": 10000,
         "weather": [
          {
           "description": "overcast clouds",
           "icon": "04n",
           "id": 804,
           "main": "Clouds"
          }
         ],
         "wind": {
          "deg": 126,
          "gust": 19.5,
          "speed": 9.37
         }
        },
        {
         "clouds": {
          "all": 99
         },
         "dt": 1639072800,
         "dt_txt": "2021-12-09 18:00:00",
         "main": {
          "feels_like": -0.5,
          "grnd_level": 985,
          "humidity": 65,
          "pressure": 1000,
          "sea_level": 1000,
          "temp": 5.1,
          "temp_kf": 0,
          "temp_max": 5.1,
          "temp_min": 5.1
         },
         "pop": 0,
         "sys": {
          "pod": "n"
         },
         "visibility": 10000,
         "weather": [
          {
           "description": "overcast clouds",
           "icon": "04n",
           "id": 804,
           "main": "Clouds"
          }
         ],
         "wind": {
          "deg": 125,
          "gust": 23.35,
          "speed": 10.88
         }
        },
        {
         "clouds": {
          "all": 74
         },
         "dt": 1639083600,
         "dt_txt": "2021-12-09 21:00:00",
         "main": {
          "feels_like": 2.38,
          "grnd_level": 986,
          "humidity": 68,
          "pressure": 1001,
          "sea_level": 1001,
          "temp": 6.71,
          "temp_kf": 0,
          "temp_max": 6.71,
          "temp_min": 6.71
         },
         "pop": 0.11,
         "sys": {
          "pod": "n"
         },
         "visibility": 10000,
         "weather": [
          {
           "description": "broken clouds",
           "icon": "04n",
           "id": 803,
           "main": "Clouds"
          }
         ],
         "wind": {
          "deg": 131,
          "gust": 15.79,
          "speed": 8.06
         }
        },
        {
         "clouds": {
          "all": 87
         },
         "dt": 1639094400,
         "dt_txt": "2021-12-10 00:00:00",
         "main": {
          "feels_like": 2.29,
          "grnd_level": 987,
          "humidity": 75,
          "pressure": 1002,
          "sea_level": 1002,
          "temp": 6.26,
          "temp_kf": 0,
          "temp_max": 6.26,
          "temp_min": 6.26
         },
         "pop": 0.04,
         "sys": {
          "pod": "n"
         },
         "visibility": 10000,
         "weather": [
          {
           "description": "overcast clouds",
           "icon": "04n",
           "id": 804,
           "main": "Clouds"
          }
         ],
         "wind": {
          "deg": 133,
          "gust": 14.14,
          "speed": 6.54
         }
        },
        {
         "clouds": {
          "all": 70
         },
         "dt": 1639105200,
         "dt_txt": "2021-12-10 03:00:00",
         "main": {
          "feels_like": 2.74,
          "grnd_level": 987,
          "humidity": 81,
          "pressure": 1002,
          "sea_level": 1002,
          "temp": 5.24,
          "temp_kf": 0,
          "temp_max": 5.24,
          "temp_min": 5.24
         },
         "pop": 0,
         "sys": {
          "pod": "n"
         },
         "visibility": 10000,
         "weather": [
          {
           "description": "broken clouds",
           "icon": "04n",
           "id": 803,
           "main": "Clouds"
          }
         ],
         "wind": {
          "deg": 135,
          "gust": 7.89,
          "speed": 3.07
         }
        },
        {
         "clouds": {
          "all": 68
         },
         "dt": 1639116000,
         "dt_txt": "2021-12-10 06:00:00",
         "main": {
          "feels_like": -2.03,
          "grnd_level": 990,
          "humidity": 87,
          "pressure": 1006,
          "sea_level": 1006,
          "temp": 2.54,
          "temp_kf": 0,
          "temp_max": 2.54,
          "temp_min": 2.54
         },
         "pop": 0.02,
         "sys": {
          "pod": "n"
         },
         "visibility": 10000,
         "weather": [
          {
           "description": "broken clouds",
           "icon": "04n",
           "id": 803,
           "main": "Clouds"
          }
         ],
         "wind": {
          "deg": 265,
          "gust": 9.57,
          "speed": 5.58
         }
        },
        {
         "clouds": {
          "all": 87
         },
         "dt": 1639126800,
         "dt_txt": "2021-12-10 09:00:00",
         "main": {
          "feels_like": 0.76,
          "grnd_level": 993,
          "humidity": 86,
          "pressure": 1009,
          "sea_level": 1009,
          "temp": 3.36,
          "temp_kf": 0,
          "temp_max": 3.36,
          "temp_min": 3.36
         },
         "pop": 0.5,
         "rain": {
          "3h": 0.13
         },
         "sys": {
          "pod": "d"
         },
         "visibility": 10000,
         "weather": [
          {
           "description": "light rain",
           "icon": "10d",
           "id": 500,
           "main": "Rain"
          }
         ],
         "wind": {
          "deg": 238,
          "gust": 4.66,
          "speed": 2.73
         }
        },
        {
         "clouds": {
          "all": 94
         },
         "dt": 1639137600,
         "dt_txt": "2021-12-10 12:00:00",
         "main": {
          "feels_like": 5.99,
          "grnd_level": 993,
          "humidity": 70,
          "pressure": 1009,
          "sea_level": 1009,
          "temp": 5.99,
          "temp_kf": 0,
          "temp_max": 5.99,
          "temp_min": 5.99
         },
         "pop": 0.28,
         "sys": {
          "pod": "d"
         },
         "visibility": 10000,
         "weather": [
          {
           "description": "overcast clouds",
           "icon": "04d",
           "id": 804,
           "main": "Clouds"
          }
         ],
         "wind": {
          "deg": 100,
          "gust": 0.67,
          "speed": 0.17
         }
        }
       ],
       "message": 0
      },
      "text/plain": [
       "<IPython.core.display.JSON object>"
      ]
     },
     "execution_count": 9,
     "metadata": {
      "application/json": {
       "expanded": false,
       "root": "root"
      }
     },
     "output_type": "execute_result"
    }
   ],
   "source": [
    "JSON(json)"
   ]
  },
  {
   "cell_type": "code",
   "execution_count": 29,
   "id": "4d072750-fa2b-42db-b3cb-e8371431627c",
   "metadata": {},
   "outputs": [
    {
     "data": {
      "application/json": [
       {
        "city": {
         "coord": {
          "lat": 41.0351,
          "lon": 28.9833
         },
         "country": "TR",
         "id": 745042,
         "name": "Istanbul",
         "population": 11581707,
         "sunrise": 1638681228,
         "sunset": 1638714956,
         "timezone": 10800
        },
        "cnt": 40,
        "cod": "200",
        "list": [
         {
          "clouds": {
           "all": 15
          },
          "dt": 1638716400,
          "dt_txt": "2021-12-05 15:00:00",
          "main": {
           "feels_like": 13.09,
           "grnd_level": 1002,
           "humidity": 80,
           "pressure": 1011,
           "sea_level": 1011,
           "temp": 13.59,
           "temp_kf": 0.73,
           "temp_max": 13.59,
           "temp_min": 12.86
          },
          "pop": 0,
          "sys": {
           "pod": "n"
          },
          "visibility": 10000,
          "weather": [
           {
            "description": "few clouds",
            "icon": "02n",
            "id": 801,
            "main": "Clouds"
           }
          ],
          "wind": {
           "deg": 185,
           "gust": 1.09,
           "speed": 0.77
          }
         },
         {
          "clouds": {
           "all": 10
          },
          "dt": 1638727200,
          "dt_txt": "2021-12-05 18:00:00",
          "main": {
           "feels_like": 12.47,
           "grnd_level": 1002,
           "humidity": 79,
           "pressure": 1012,
           "sea_level": 1012,
           "temp": 13.05,
           "temp_kf": 0.45,
           "temp_max": 13.05,
           "temp_min": 12.6
          },
          "pop": 0,
          "sys": {
           "pod": "n"
          },
          "visibility": 10000,
          "weather": [
           {
            "description": "clear sky",
            "icon": "01n",
            "id": 800,
            "main": "Clear"
           }
          ],
          "wind": {
           "deg": 151,
           "gust": 1.43,
           "speed": 1.32
          }
         },
         {
          "clouds": {
           "all": 3
          },
          "dt": 1638738000,
          "dt_txt": "2021-12-05 21:00:00",
          "main": {
           "feels_like": 12.06,
           "grnd_level": 1003,
           "humidity": 78,
           "pressure": 1012,
           "sea_level": 1012,
           "temp": 12.7,
           "temp_kf": 0,
           "temp_max": 12.7,
           "temp_min": 12.7
          },
          "pop": 0,
          "sys": {
           "pod": "n"
          },
          "visibility": 10000,
          "weather": [
           {
            "description": "clear sky",
            "icon": "01n",
            "id": 800,
            "main": "Clear"
           }
          ],
          "wind": {
           "deg": 171,
           "gust": 2.69,
           "speed": 2.26
          }
         },
         {
          "clouds": {
           "all": 2
          },
          "dt": 1638748800,
          "dt_txt": "2021-12-06 00:00:00",
          "main": {
           "feels_like": 11.92,
           "grnd_level": 1003,
           "humidity": 81,
           "pressure": 1012,
           "sea_level": 1012,
           "temp": 12.5,
           "temp_kf": 0,
           "temp_max": 12.5,
           "temp_min": 12.5
          },
          "pop": 0,
          "sys": {
           "pod": "n"
          },
          "visibility": 10000,
          "weather": [
           {
            "description": "clear sky",
            "icon": "01n",
            "id": 800,
            "main": "Clear"
           }
          ],
          "wind": {
           "deg": 173,
           "gust": 3.98,
           "speed": 2.45
          }
         },
         {
          "clouds": {
           "all": 24
          },
          "dt": 1638759600,
          "dt_txt": "2021-12-06 03:00:00",
          "main": {
           "feels_like": 11.84,
           "grnd_level": 1002,
           "humidity": 80,
           "pressure": 1012,
           "sea_level": 1012,
           "temp": 12.45,
           "temp_kf": 0,
           "temp_max": 12.45,
           "temp_min": 12.45
          },
          "pop": 0,
          "sys": {
           "pod": "n"
          },
          "visibility": 10000,
          "weather": [
           {
            "description": "few clouds",
            "icon": "02n",
            "id": 801,
            "main": "Clouds"
           }
          ],
          "wind": {
           "deg": 153,
           "gust": 2.92,
           "speed": 2.22
          }
         },
         {
          "clouds": {
           "all": 16
          },
          "dt": 1638770400,
          "dt_txt": "2021-12-06 06:00:00",
          "main": {
           "feels_like": 11.69,
           "grnd_level": 1003,
           "humidity": 80,
           "pressure": 1013,
           "sea_level": 1013,
           "temp": 12.31,
           "temp_kf": 0,
           "temp_max": 12.31,
           "temp_min": 12.31
          },
          "pop": 0,
          "sys": {
           "pod": "d"
          },
          "visibility": 10000,
          "weather": [
           {
            "description": "few clouds",
            "icon": "02d",
            "id": 801,
            "main": "Clouds"
           }
          ],
          "wind": {
           "deg": 158,
           "gust": 7.16,
           "speed": 3.22
          }
         },
         {
          "clouds": {
           "all": 1
          },
          "dt": 1638781200,
          "dt_txt": "2021-12-06 09:00:00",
          "main": {
           "feels_like": 13.84,
           "grnd_level": 1003,
           "humidity": 68,
           "pressure": 1013,
           "sea_level": 1013,
           "temp": 14.55,
           "temp_kf": 0,
           "temp_max": 14.55,
           "temp_min": 14.55
          },
          "pop": 0,
          "sys": {
           "pod": "d"
          },
          "visibility": 10000,
          "weather": [
           {
            "description": "clear sky",
            "icon": "01d",
            "id": 800,
            "main": "Clear"
           }
          ],
          "wind": {
           "deg": 164,
           "gust": 7.54,
           "speed": 3.69
          }
         },
         {
          "clouds": {
           "all": 3
          },
          "dt": 1638792000,
          "dt_txt": "2021-12-06 12:00:00",
          "main": {
           "feels_like": 15.6,
           "grnd_level": 1002,
           "humidity": 61,
           "pressure": 1011,
           "sea_level": 1011,
           "temp": 16.32,
           "temp_kf": 0,
           "temp_max": 16.32,
           "temp_min": 16.32
          },
          "pop": 0,
          "sys": {
           "pod": "d"
          },
          "visibility": 10000,
          "weather": [
           {
            "description": "clear sky",
            "icon": "01d",
            "id": 800,
            "main": "Clear"
           }
          ],
          "wind": {
           "deg": 167,
           "gust": 6.09,
           "speed": 2.28
          }
         },
         {
          "clouds": {
           "all": 58
          },
          "dt": 1638802800,
          "dt_txt": "2021-12-06 15:00:00",
          "main": {
           "feels_like": 15.08,
           "grnd_level": 1002,
           "humidity": 65,
           "pressure": 1011,
           "sea_level": 1011,
           "temp": 15.75,
           "temp_kf": 0,
           "temp_max": 15.75,
           "temp_min": 15.75
          },
          "pop": 0,
          "sys": {
           "pod": "n"
          },
          "visibility": 10000,
          "weather": [
           {
            "description": "broken clouds",
            "icon": "04n",
            "id": 803,
            "main": "Clouds"
           }
          ],
          "wind": {
           "deg": 138,
           "gust": 3.2,
           "speed": 1.88
          }
         },
         {
          "clouds": {
           "all": 38
          },
          "dt": 1638813600,
          "dt_txt": "2021-12-06 18:00:00",
          "main": {
           "feels_like": 14.21,
           "grnd_level": 1002,
           "humidity": 68,
           "pressure": 1011,
           "sea_level": 1011,
           "temp": 14.89,
           "temp_kf": 0,
           "temp_max": 14.89,
           "temp_min": 14.89
          },
          "pop": 0,
          "sys": {
           "pod": "n"
          },
          "visibility": 10000,
          "weather": [
           {
            "description": "scattered clouds",
            "icon": "03n",
            "id": 802,
            "main": "Clouds"
           }
          ],
          "wind": {
           "deg": 152,
           "gust": 2.35,
           "speed": 2.11
          }
         },
         {
          "clouds": {
           "all": 21
          },
          "dt": 1638824400,
          "dt_txt": "2021-12-06 21:00:00",
          "main": {
           "feels_like": 13.25,
           "grnd_level": 1001,
           "humidity": 72,
           "pressure": 1011,
           "sea_level": 1011,
           "temp": 13.92,
           "temp_kf": 0,
           "temp_max": 13.92,
           "temp_min": 13.92
          },
          "pop": 0,
          "sys": {
           "pod": "n"
          },
          "visibility": 10000,
          "weather": [
           {
            "description": "few clouds",
            "icon": "02n",
            "id": 801,
            "main": "Clouds"
           }
          ],
          "wind": {
           "deg": 160,
           "gust": 2.12,
           "speed": 1.76
          }
         },
         {
          "clouds": {
           "all": 40
          },
          "dt": 1638835200,
          "dt_txt": "2021-12-07 00:00:00",
          "main": {
           "feels_like": 13.3,
           "grnd_level": 1000,
           "humidity": 68,
           "pressure": 1010,
           "sea_level": 1010,
           "temp": 14.06,
           "temp_kf": 0,
           "temp_max": 14.06,
           "temp_min": 14.06
          },
          "pop": 0,
          "sys": {
           "pod": "n"
          },
          "visibility": 10000,
          "weather": [
           {
            "description": "scattered clouds",
            "icon": "03n",
            "id": 802,
            "main": "Clouds"
           }
          ],
          "wind": {
           "deg": 123,
           "gust": 2.74,
           "speed": 2.3
          }
         },
         {
          "clouds": {
           "all": 46
          },
          "dt": 1638846000,
          "dt_txt": "2021-12-07 03:00:00",
          "main": {
           "feels_like": 12.71,
           "grnd_level": 999,
           "humidity": 67,
           "pressure": 1009,
           "sea_level": 1009,
           "temp": 13.55,
           "temp_kf": 0,
           "temp_max": 13.55,
           "temp_min": 13.55
          },
          "pop": 0,
          "sys": {
           "pod": "n"
          },
          "visibility": 10000,
          "weather": [
           {
            "description": "scattered clouds",
            "icon": "03n",
            "id": 802,
            "main": "Clouds"
           }
          ],
          "wind": {
           "deg": 109,
           "gust": 2.82,
           "speed": 2.48
          }
         },
         {
          "clouds": {
           "all": 37
          },
          "dt": 1638856800,
          "dt_txt": "2021-12-07 06:00:00",
          "main": {
           "feels_like": 12.53,
           "grnd_level": 998,
           "humidity": 67,
           "pressure": 1008,
           "sea_level": 1008,
           "temp": 13.39,
           "temp_kf": 0,
           "temp_max": 13.39,
           "temp_min": 13.39
          },
          "pop": 0.01,
          "sys": {
           "pod": "d"
          },
          "visibility": 10000,
          "weather": [
           {
            "description": "scattered clouds",
            "icon": "03d",
            "id": 802,
            "main": "Clouds"
           }
          ],
          "wind": {
           "deg": 110,
           "gust": 1.87,
           "speed": 1.75
          }
         },
         {
          "clouds": {
           "all": 68
          },
          "dt": 1638867600,
          "dt_txt": "2021-12-07 09:00:00",
          "main": {
           "feels_like": 14.08,
           "grnd_level": 998,
           "humidity": 62,
           "pressure": 1007,
           "sea_level": 1007,
           "temp": 14.91,
           "temp_kf": 0,
           "temp_max": 14.91,
           "temp_min": 14.91
          },
          "pop": 0.19,
          "sys": {
           "pod": "d"
          },
          "visibility": 10000,
          "weather": [
           {
            "description": "broken clouds",
            "icon": "04d",
            "id": 803,
            "main": "Clouds"
           }
          ],
          "wind": {
           "deg": 114,
           "gust": 4.44,
           "speed": 1.07
          }
         },
         {
          "clouds": {
           "all": 80
          },
          "dt": 1638878400,
          "dt_txt": "2021-12-07 12:00:00",
          "main": {
           "feels_like": 13.89,
           "grnd_level": 995,
           "humidity": 68,
           "pressure": 1004,
           "sea_level": 1004,
           "temp": 14.6,
           "temp_kf": 0,
           "temp_max": 14.6,
           "temp_min": 14.6
          },
          "pop": 0.3,
          "rain": {
           "3h": 0.5
          },
          "sys": {
           "pod": "d"
          },
          "visibility": 10000,
          "weather": [
           {
            "description": "light rain",
            "icon": "10d",
            "id": 500,
            "main": "Rain"
           }
          ],
          "wind": {
           "deg": 247,
           "gust": 3.1,
           "speed": 2.55
          }
         },
         {
          "clouds": {
           "all": 100
          },
          "dt": 1638889200,
          "dt_txt": "2021-12-07 15:00:00",
          "main": {
           "feels_like": 12.36,
           "grnd_level": 993,
           "humidity": 84,
           "pressure": 1002,
           "sea_level": 1002,
           "temp": 12.83,
           "temp_kf": 0,
           "temp_max": 12.83,
           "temp_min": 12.83
          },
          "pop": 0.83,
          "rain": {
           "3h": 3.77
          },
          "sys": {
           "pod": "n"
          },
          "visibility": 10000,
          "weather": [
           {
            "description": "moderate rain",
            "icon": "10n",
            "id": 501,
            "main": "Rain"
           }
          ],
          "wind": {
           "deg": 85,
           "gust": 9.92,
           "speed": 5.63
          }
         },
         {
          "clouds": {
           "all": 100
          },
          "dt": 1638900000,
          "dt_txt": "2021-12-07 18:00:00",
          "main": {
           "feels_like": 12.23,
           "grnd_level": 992,
           "humidity": 86,
           "pressure": 1002,
           "sea_level": 1002,
           "temp": 12.66,
           "temp_kf": 0,
           "temp_max": 12.66,
           "temp_min": 12.66
          },
          "pop": 0.95,
          "rain": {
           "3h": 0.29
          },
          "sys": {
           "pod": "n"
          },
          "visibility": 10000,
          "weather": [
           {
            "description": "light rain",
            "icon": "10n",
            "id": 500,
            "main": "Rain"
           }
          ],
          "wind": {
           "deg": 144,
           "gust": 7.27,
           "speed": 3.05
          }
         },
         {
          "clouds": {
           "all": 100
          },
          "dt": 1638910800,
          "dt_txt": "2021-12-07 21:00:00",
          "main": {
           "feels_like": 10.29,
           "grnd_level": 992,
           "humidity": 84,
           "pressure": 1001,
           "sea_level": 1001,
           "temp": 10.95,
           "temp_kf": 0,
           "temp_max": 10.95,
           "temp_min": 10.95
          },
          "pop": 0.94,
          "rain": {
           "3h": 1.46
          },
          "sys": {
           "pod": "n"
          },
          "visibility": 10000,
          "weather": [
           {
            "description": "light rain",
            "icon": "10n",
            "id": 500,
            "main": "Rain"
           }
          ],
          "wind": {
           "deg": 168,
           "gust": 3.95,
           "speed": 1.61
          }
         },
         {
          "clouds": {
           "all": 100
          },
          "dt": 1638921600,
          "dt_txt": "2021-12-08 00:00:00",
          "main": {
           "feels_like": 10.55,
           "grnd_level": 992,
           "humidity": 80,
           "pressure": 1001,
           "sea_level": 1001,
           "temp": 11.28,
           "temp_kf": 0,
           "temp_max": 11.28,
           "temp_min": 11.28
          },
          "pop": 0.86,
          "sys": {
           "pod": "n"
          },
          "visibility": 10000,
          "weather": [
           {
            "description": "overcast clouds",
            "icon": "04n",
            "id": 804,
            "main": "Clouds"
           }
          ],
          "wind": {
           "deg": 201,
           "gust": 4.34,
           "speed": 1.5
          }
         },
         {
          "clouds": {
           "all": 100
          },
          "dt": 1638932400,
          "dt_txt": "2021-12-08 03:00:00",
          "main": {
           "feels_like": 10.41,
           "grnd_level": 993,
           "humidity": 79,
           "pressure": 1003,
           "sea_level": 1003,
           "temp": 11.17,
           "temp_kf": 0,
           "temp_max": 11.17,
           "temp_min": 11.17
          },
          "pop": 0.55,
          "rain": {
           "3h": 0.14
          },
          "sys": {
           "pod": "n"
          },
          "visibility": 10000,
          "weather": [
           {
            "description": "light rain",
            "icon": "10n",
            "id": 500,
            "main": "Rain"
           }
          ],
          "wind": {
           "deg": 253,
           "gust": 9.49,
           "speed": 6.07
          }
         },
         {
          "clouds": {
           "all": 100
          },
          "dt": 1638943200,
          "dt_txt": "2021-12-08 06:00:00",
          "main": {
           "feels_like": 6.02,
           "grnd_level": 996,
           "humidity": 85,
           "pressure": 1006,
           "sea_level": 1006,
           "temp": 8.78,
           "temp_kf": 0,
           "temp_max": 8.78,
           "temp_min": 8.78
          },
          "pop": 0.91,
          "rain": {
           "3h": 1.63
          },
          "sys": {
           "pod": "d"
          },
          "visibility": 10000,
          "weather": [
           {
            "description": "light rain",
            "icon": "10d",
            "id": 500,
            "main": "Rain"
           }
          ],
          "wind": {
           "deg": 351,
           "gust": 5.18,
           "speed": 5.12
          }
         },
         {
          "clouds": {
           "all": 98
          },
          "dt": 1638954000,
          "dt_txt": "2021-12-08 09:00:00",
          "main": {
           "feels_like": 5.42,
           "grnd_level": 998,
           "humidity": 80,
           "pressure": 1008,
           "sea_level": 1008,
           "temp": 8.3,
           "temp_kf": 0,
           "temp_max": 8.3,
           "temp_min": 8.3
          },
          "pop": 0.69,
          "rain": {
           "3h": 0.17
          },
          "sys": {
           "pod": "d"
          },
          "visibility": 10000,
          "weather": [
           {
            "description": "light rain",
            "icon": "10d",
            "id": 500,
            "main": "Rain"
           }
          ],
          "wind": {
           "deg": 3,
           "gust": 5.49,
           "speed": 5.11
          }
         },
         {
          "clouds": {
           "all": 99
          },
          "dt": 1638964800,
          "dt_txt": "2021-12-08 12:00:00",
          "main": {
           "feels_like": 4.94,
           "grnd_level": 999,
           "humidity": 79,
           "pressure": 1009,
           "sea_level": 1009,
           "temp": 7.77,
           "temp_kf": 0,
           "temp_max": 7.77,
           "temp_min": 7.77
          },
          "pop": 0.54,
          "sys": {
           "pod": "d"
          },
          "visibility": 10000,
          "weather": [
           {
            "description": "overcast clouds",
            "icon": "04d",
            "id": 804,
            "main": "Clouds"
           }
          ],
          "wind": {
           "deg": 4,
           "gust": 5.24,
           "speed": 4.68
          }
         },
         {
          "clouds": {
           "all": 100
          },
          "dt": 1638975600,
          "dt_txt": "2021-12-08 15:00:00",
          "main": {
           "feels_like": 5.62,
           "grnd_level": 1002,
           "humidity": 79,
           "pressure": 1012,
           "sea_level": 1012,
           "temp": 7.84,
           "temp_kf": 0,
           "temp_max": 7.84,
           "temp_min": 7.84
          },
          "pop": 0.46,
          "sys": {
           "pod": "n"
          },
          "visibility": 10000,
          "weather": [
           {
            "description": "overcast clouds",
            "icon": "04n",
            "id": 804,
            "main": "Clouds"
           }
          ],
          "wind": {
           "deg": 23,
           "gust": 3.9,
           "speed": 3.49
          }
         },
         {
          "clouds": {
           "all": 100
          },
          "dt": 1638986400,
          "dt_txt": "2021-12-08 18:00:00",
          "main": {
           "feels_like": 7.18,
           "grnd_level": 1004,
           "humidity": 80,
           "pressure": 1014,
           "sea_level": 1014,
           "temp": 7.73,
           "temp_kf": 0,
           "temp_max": 7.73,
           "temp_min": 7.73
          },
          "pop": 0.41,
          "rain": {
           "3h": 0.26
          },
          "sys": {
           "pod": "n"
          },
          "visibility": 10000,
          "weather": [
           {
            "description": "light rain",
            "icon": "10n",
            "id": 500,
            "main": "Rain"
           }
          ],
          "wind": {
           "deg": 17,
           "gust": 1.37,
           "speed": 1.4
          }
         },
         {
          "clouds": {
           "all": 100
          },
          "dt": 1638997200,
          "dt_txt": "2021-12-08 21:00:00",
          "main": {
           "feels_like": 7.34,
           "grnd_level": 1006,
           "humidity": 80,
           "pressure": 1015,
           "sea_level": 1015,
           "temp": 8.11,
           "temp_kf": 0,
           "temp_max": 8.11,
           "temp_min": 8.11
          },
          "pop": 0.33,
          "rain": {
           "3h": 0.18
          },
          "sys": {
           "pod": "n"
          },
          "visibility": 10000,
          "weather": [
           {
            "description": "light rain",
            "icon": "10n",
            "id": 500,
            "main": "Rain"
           }
          ],
          "wind": {
           "deg": 221,
           "gust": 2.86,
           "speed": 1.64
          }
         },
         {
          "clouds": {
           "all": 100
          },
          "dt": 1639008000,
          "dt_txt": "2021-12-09 00:00:00",
          "main": {
           "feels_like": 6.95,
           "grnd_level": 1007,
           "humidity": 83,
           "pressure": 1016,
           "sea_level": 1016,
           "temp": 8.69,
           "temp_kf": 0,
           "temp_max": 8.69,
           "temp_min": 8.69
          },
          "pop": 0.15,
          "sys": {
           "pod": "n"
          },
          "visibility": 10000,
          "weather": [
           {
            "description": "overcast clouds",
            "icon": "04n",
            "id": 804,
            "main": "Clouds"
           }
          ],
          "wind": {
           "deg": 234,
           "gust": 5.38,
           "speed": 2.98
          }
         },
         {
          "clouds": {
           "all": 73
          },
          "dt": 1639018800,
          "dt_txt": "2021-12-09 03:00:00",
          "main": {
           "feels_like": 7.4,
           "grnd_level": 1007,
           "humidity": 84,
           "pressure": 1017,
           "sea_level": 1017,
           "temp": 9.16,
           "temp_kf": 0,
           "temp_max": 9.16,
           "temp_min": 9.16
          },
          "pop": 0,
          "sys": {
           "pod": "n"
          },
          "visibility": 10000,
          "weather": [
           {
            "description": "broken clouds",
            "icon": "04n",
            "id": 803,
            "main": "Clouds"
           }
          ],
          "wind": {
           "deg": 220,
           "gust": 6.28,
           "speed": 3.17
          }
         },
         {
          "clouds": {
           "all": 46
          },
          "dt": 1639029600,
          "dt_txt": "2021-12-09 06:00:00",
          "main": {
           "feels_like": 7.73,
           "grnd_level": 1008,
           "humidity": 79,
           "pressure": 1018,
           "sea_level": 1018,
           "temp": 9.52,
           "temp_kf": 0,
           "temp_max": 9.52,
           "temp_min": 9.52
          },
          "pop": 0,
          "sys": {
           "pod": "d"
          },
          "visibility": 10000,
          "weather": [
           {
            "description": "scattered clouds",
            "icon": "03d",
            "id": 802,
            "main": "Clouds"
           }
          ],
          "wind": {
           "deg": 203,
           "gust": 7.09,
           "speed": 3.37
          }
         },
         {
          "clouds": {
           "all": 0
          },
          "dt": 1639040400,
          "dt_txt": "2021-12-09 09:00:00",
          "main": {
           "feels_like": 10.33,
           "grnd_level": 1008,
           "humidity": 66,
           "pressure": 1018,
           "sea_level": 1018,
           "temp": 11.41,
           "temp_kf": 0,
           "temp_max": 11.41,
           "temp_min": 11.41
          },
          "pop": 0,
          "sys": {
           "pod": "d"
          },
          "visibility": 10000,
          "weather": [
           {
            "description": "clear sky",
            "icon": "01d",
            "id": 800,
            "main": "Clear"
           }
          ],
          "wind": {
           "deg": 178,
           "gust": 6.32,
           "speed": 3.36
          }
         },
         {
          "clouds": {
           "all": 3
          },
          "dt": 1639051200,
          "dt_txt": "2021-12-09 12:00:00",
          "main": {
           "feels_like": 11.45,
           "grnd_level": 1007,
           "humidity": 55,
           "pressure": 1017,
           "sea_level": 1017,
           "temp": 12.69,
           "temp_kf": 0,
           "temp_max": 12.69,
           "temp_min": 12.69
          },
          "pop": 0,
          "sys": {
           "pod": "d"
          },
          "visibility": 10000,
          "weather": [
           {
            "description": "clear sky",
            "icon": "01d",
            "id": 800,
            "main": "Clear"
           }
          ],
          "wind": {
           "deg": 209,
           "gust": 6.64,
           "speed": 3.21
          }
         },
         {
          "clouds": {
           "all": 41
          },
          "dt": 1639062000,
          "dt_txt": "2021-12-09 15:00:00",
          "main": {
           "feels_like": 10.9,
           "grnd_level": 1007,
           "humidity": 59,
           "pressure": 1017,
           "sea_level": 1017,
           "temp": 12.09,
           "temp_kf": 0,
           "temp_max": 12.09,
           "temp_min": 12.09
          },
          "pop": 0,
          "sys": {
           "pod": "n"
          },
          "visibility": 10000,
          "weather": [
           {
            "description": "scattered clouds",
            "icon": "03n",
            "id": 802,
            "main": "Clouds"
           }
          ],
          "wind": {
           "deg": 158,
           "gust": 2.31,
           "speed": 1.66
          }
         },
         {
          "clouds": {
           "all": 45
          },
          "dt": 1639072800,
          "dt_txt": "2021-12-09 18:00:00",
          "main": {
           "feels_like": 10.87,
           "grnd_level": 1007,
           "humidity": 55,
           "pressure": 1016,
           "sea_level": 1016,
           "temp": 12.16,
           "temp_kf": 0,
           "temp_max": 12.16,
           "temp_min": 12.16
          },
          "pop": 0,
          "sys": {
           "pod": "n"
          },
          "visibility": 10000,
          "weather": [
           {
            "description": "scattered clouds",
            "icon": "03n",
            "id": 802,
            "main": "Clouds"
           }
          ],
          "wind": {
           "deg": 132,
           "gust": 2.91,
           "speed": 2.71
          }
         },
         {
          "clouds": {
           "all": 57
          },
          "dt": 1639083600,
          "dt_txt": "2021-12-09 21:00:00",
          "main": {
           "feels_like": 10.36,
           "grnd_level": 1007,
           "humidity": 61,
           "pressure": 1017,
           "sea_level": 1017,
           "temp": 11.56,
           "temp_kf": 0,
           "temp_max": 11.56,
           "temp_min": 11.56
          },
          "pop": 0,
          "sys": {
           "pod": "n"
          },
          "visibility": 10000,
          "weather": [
           {
            "description": "broken clouds",
            "icon": "04n",
            "id": 803,
            "main": "Clouds"
           }
          ],
          "wind": {
           "deg": 140,
           "gust": 4.31,
           "speed": 2.91
          }
         },
         {
          "clouds": {
           "all": 76
          },
          "dt": 1639094400,
          "dt_txt": "2021-12-10 00:00:00",
          "main": {
           "feels_like": 10.43,
           "grnd_level": 1007,
           "humidity": 62,
           "pressure": 1016,
           "sea_level": 1016,
           "temp": 11.6,
           "temp_kf": 0,
           "temp_max": 11.6,
           "temp_min": 11.6
          },
          "pop": 0,
          "sys": {
           "pod": "n"
          },
          "visibility": 10000,
          "weather": [
           {
            "description": "broken clouds",
            "icon": "04n",
            "id": 803,
            "main": "Clouds"
           }
          ],
          "wind": {
           "deg": 140,
           "gust": 8.11,
           "speed": 3.92
          }
         },
         {
          "clouds": {
           "all": 99
          },
          "dt": 1639105200,
          "dt_txt": "2021-12-10 03:00:00",
          "main": {
           "feels_like": 10.44,
           "grnd_level": 1005,
           "humidity": 61,
           "pressure": 1015,
           "sea_level": 1015,
           "temp": 11.63,
           "temp_kf": 0,
           "temp_max": 11.63,
           "temp_min": 11.63
          },
          "pop": 0,
          "sys": {
           "pod": "n"
          },
          "visibility": 10000,
          "weather": [
           {
            "description": "overcast clouds",
            "icon": "04n",
            "id": 804,
            "main": "Clouds"
           }
          ],
          "wind": {
           "deg": 129,
           "gust": 7.72,
           "speed": 4.39
          }
         },
         {
          "clouds": {
           "all": 77
          },
          "dt": 1639116000,
          "dt_txt": "2021-12-10 06:00:00",
          "main": {
           "feels_like": 10.42,
           "grnd_level": 1006,
           "humidity": 58,
           "pressure": 1016,
           "sea_level": 1016,
           "temp": 11.68,
           "temp_kf": 0,
           "temp_max": 11.68,
           "temp_min": 11.68
          },
          "pop": 0,
          "sys": {
           "pod": "d"
          },
          "visibility": 10000,
          "weather": [
           {
            "description": "broken clouds",
            "icon": "04d",
            "id": 803,
            "main": "Clouds"
           }
          ],
          "wind": {
           "deg": 130,
           "gust": 7.12,
           "speed": 3.62
          }
         },
         {
          "clouds": {
           "all": 9
          },
          "dt": 1639126800,
          "dt_txt": "2021-12-10 09:00:00",
          "main": {
           "feels_like": 13.04,
           "grnd_level": 1007,
           "humidity": 52,
           "pressure": 1016,
           "sea_level": 1016,
           "temp": 14.21,
           "temp_kf": 0,
           "temp_max": 14.21,
           "temp_min": 14.21
          },
          "pop": 0,
          "sys": {
           "pod": "d"
          },
          "visibility": 10000,
          "weather": [
           {
            "description": "clear sky",
            "icon": "01d",
            "id": 800,
            "main": "Clear"
           }
          ],
          "wind": {
           "deg": 134,
           "gust": 7.25,
           "speed": 3.47
          }
         },
         {
          "clouds": {
           "all": 5
          },
          "dt": 1639137600,
          "dt_txt": "2021-12-10 12:00:00",
          "main": {
           "feels_like": 14.59,
           "grnd_level": 1005,
           "humidity": 50,
           "pressure": 1015,
           "sea_level": 1015,
           "temp": 15.66,
           "temp_kf": 0,
           "temp_max": 15.66,
           "temp_min": 15.66
          },
          "pop": 0,
          "sys": {
           "pod": "d"
          },
          "visibility": 10000,
          "weather": [
           {
            "description": "clear sky",
            "icon": "01d",
            "id": 800,
            "main": "Clear"
           }
          ],
          "wind": {
           "deg": 145,
           "gust": 8.27,
           "speed": 4.23
          }
         }
        ],
        "message": 0
       },
       {
        "city": {
         "coord": {
          "lat": 55.7522,
          "lon": 37.6156
         },
         "country": "RU",
         "id": 524901,
         "name": "Moscow",
         "population": 1000000,
         "sunrise": 1638682876,
         "sunset": 1638709164,
         "timezone": 10800
        },
        "cnt": 40,
        "cod": "200",
        "list": [
         {
          "clouds": {
           "all": 96
          },
          "dt": 1638716400,
          "dt_txt": "2021-12-05 15:00:00",
          "main": {
           "feels_like": -5.23,
           "grnd_level": 996,
           "humidity": 96,
           "pressure": 1015,
           "sea_level": 1015,
           "temp": -1.98,
           "temp_kf": -0.37,
           "temp_max": -1.61,
           "temp_min": -1.98
          },
          "pop": 0.48,
          "snow": {
           "3h": 0.31
          },
          "sys": {
           "pod": "n"
          },
          "visibility": 1477,
          "weather": [
           {
            "description": "light snow",
            "icon": "13n",
            "id": 600,
            "main": "Snow"
           }
          ],
          "wind": {
           "deg": 198,
           "gust": 6.38,
           "speed": 2.38
          }
         },
         {
          "clouds": {
           "all": 97
          },
          "dt": 1638727200,
          "dt_txt": "2021-12-05 18:00:00",
          "main": {
           "feels_like": -5.03,
           "grnd_level": 998,
           "humidity": 95,
           "pressure": 1015,
           "sea_level": 1015,
           "temp": -2.11,
           "temp_kf": 0.26,
           "temp_max": -2.11,
           "temp_min": -2.37
          },
          "pop": 0.4,
          "sys": {
           "pod": "n"
          },
          "visibility": 10000,
          "weather": [
           {
            "description": "overcast clouds",
            "icon": "04n",
            "id": 804,
            "main": "Clouds"
           }
          ],
          "wind": {
           "deg": 203,
           "gust": 5.93,
           "speed": 2.09
          }
         },
         {
          "clouds": {
           "all": 98
          },
          "dt": 1638738000,
          "dt_txt": "2021-12-05 21:00:00",
          "main": {
           "feels_like": -6.14,
           "grnd_level": 999,
           "humidity": 97,
           "pressure": 1017,
           "sea_level": 1017,
           "temp": -3.59,
           "temp_kf": 0.81,
           "temp_max": -3.59,
           "temp_min": -4.4
          },
          "pop": 0.38,
          "sys": {
           "pod": "n"
          },
          "visibility": 10000,
          "weather": [
           {
            "description": "overcast clouds",
            "icon": "04n",
            "id": 804,
            "main": "Clouds"
           }
          ],
          "wind": {
           "deg": 201,
           "gust": 4.46,
           "speed": 1.67
          }
         },
         {
          "clouds": {
           "all": 100
          },
          "dt": 1638748800,
          "dt_txt": "2021-12-06 00:00:00",
          "main": {
           "feels_like": -6.07,
           "grnd_level": 1000,
           "humidity": 98,
           "pressure": 1019,
           "sea_level": 1019,
           "temp": -6.07,
           "temp_kf": 0,
           "temp_max": -6.07,
           "temp_min": -6.07
          },
          "pop": 0.34,
          "sys": {
           "pod": "n"
          },
          "visibility": 8217,
          "weather": [
           {
            "description": "overcast clouds",
            "icon": "04n",
            "id": 804,
            "main": "Clouds"
           }
          ],
          "wind": {
           "deg": 184,
           "gust": 1.94,
           "speed": 1.29
          }
         },
         {
          "clouds": {
           "all": 100
          },
          "dt": 1638759600,
          "dt_txt": "2021-12-06 03:00:00",
          "main": {
           "feels_like": -5.75,
           "grnd_level": 1000,
           "humidity": 98,
           "pressure": 1019,
           "sea_level": 1019,
           "temp": -5.75,
           "temp_kf": 0,
           "temp_max": -5.75,
           "temp_min": -5.75
          },
          "pop": 0,
          "sys": {
           "pod": "n"
          },
          "visibility": 7623,
          "weather": [
           {
            "description": "overcast clouds",
            "icon": "04n",
            "id": 804,
            "main": "Clouds"
           }
          ],
          "wind": {
           "deg": 173,
           "gust": 2,
           "speed": 1.27
          }
         },
         {
          "clouds": {
           "all": 100
          },
          "dt": 1638770400,
          "dt_txt": "2021-12-06 06:00:00",
          "main": {
           "feels_like": -8.7,
           "grnd_level": 1002,
           "humidity": 97,
           "pressure": 1021,
           "sea_level": 1021,
           "temp": -6.11,
           "temp_kf": 0,
           "temp_max": -6.11,
           "temp_min": -6.11
          },
          "pop": 0,
          "sys": {
           "pod": "d"
          },
          "visibility": 10000,
          "weather": [
           {
            "description": "overcast clouds",
            "icon": "04d",
            "id": 804,
            "main": "Clouds"
           }
          ],
          "wind": {
           "deg": 139,
           "gust": 2.7,
           "speed": 1.49
          }
         },
         {
          "clouds": {
           "all": 100
          },
          "dt": 1638781200,
          "dt_txt": "2021-12-06 09:00:00",
          "main": {
           "feels_like": -6.67,
           "grnd_level": 1002,
           "humidity": 92,
           "pressure": 1021,
           "sea_level": 1021,
           "temp": -3.48,
           "temp_kf": 0,
           "temp_max": -3.48,
           "temp_min": -3.48
          },
          "pop": 0,
          "sys": {
           "pod": "d"
          },
          "visibility": 10000,
          "weather": [
           {
            "description": "overcast clouds",
            "icon": "04d",
            "id": 804,
            "main": "Clouds"
           }
          ],
          "wind": {
           "deg": 148,
           "gust": 5.8,
           "speed": 2.12
          }
         },
         {
          "clouds": {
           "all": 100
          },
          "dt": 1638792000,
          "dt_txt": "2021-12-06 12:00:00",
          "main": {
           "feels_like": -6.41,
           "grnd_level": 1002,
           "humidity": 91,
           "pressure": 1021,
           "sea_level": 1021,
           "temp": -2.89,
           "temp_kf": 0,
           "temp_max": -2.89,
           "temp_min": -2.89
          },
          "pop": 0,
          "sys": {
           "pod": "d"
          },
          "visibility": 10000,
          "weather": [
           {
            "description": "overcast clouds",
            "icon": "04d",
            "id": 804,
            "main": "Clouds"
           }
          ],
          "wind": {
           "deg": 132,
           "gust": 5.91,
           "speed": 2.47
          }
         },
         {
          "clouds": {
           "all": 100
          },
          "dt": 1638802800,
          "dt_txt": "2021-12-06 15:00:00",
          "main": {
           "feels_like": -7.12,
           "grnd_level": 1002,
           "humidity": 91,
           "pressure": 1021,
           "sea_level": 1021,
           "temp": -3.17,
           "temp_kf": 0,
           "temp_max": -3.17,
           "temp_min": -3.17
          },
          "pop": 0,
          "sys": {
           "pod": "n"
          },
          "visibility": 10000,
          "weather": [
           {
            "description": "overcast clouds",
            "icon": "04n",
            "id": 804,
            "main": "Clouds"
           }
          ],
          "wind": {
           "deg": 125,
           "gust": 7.36,
           "speed": 2.81
          }
         },
         {
          "clouds": {
           "all": 100
          },
          "dt": 1638813600,
          "dt_txt": "2021-12-06 18:00:00",
          "main": {
           "feels_like": -8.15,
           "grnd_level": 1002,
           "humidity": 87,
           "pressure": 1021,
           "sea_level": 1021,
           "temp": -3.49,
           "temp_kf": 0,
           "temp_max": -3.49,
           "temp_min": -3.49
          },
          "pop": 0,
          "sys": {
           "pod": "n"
          },
          "visibility": 10000,
          "weather": [
           {
            "description": "overcast clouds",
            "icon": "04n",
            "id": 804,
            "main": "Clouds"
           }
          ],
          "wind": {
           "deg": 129,
           "gust": 9.95,
           "speed": 3.49
          }
         },
         {
          "clouds": {
           "all": 100
          },
          "dt": 1638824400,
          "dt_txt": "2021-12-06 21:00:00",
          "main": {
           "feels_like": -9.04,
           "grnd_level": 1001,
           "humidity": 87,
           "pressure": 1020,
           "sea_level": 1020,
           "temp": -3.98,
           "temp_kf": 0,
           "temp_max": -3.98,
           "temp_min": -3.98
          },
          "pop": 0,
          "sys": {
           "pod": "n"
          },
          "visibility": 10000,
          "weather": [
           {
            "description": "overcast clouds",
            "icon": "04n",
            "id": 804,
            "main": "Clouds"
           }
          ],
          "wind": {
           "deg": 129,
           "gust": 10.31,
           "speed": 3.83
          }
         },
         {
          "clouds": {
           "all": 100
          },
          "dt": 1638835200,
          "dt_txt": "2021-12-07 00:00:00",
          "main": {
           "feels_like": -9.17,
           "grnd_level": 1000,
           "humidity": 88,
           "pressure": 1019,
           "sea_level": 1019,
           "temp": -3.71,
           "temp_kf": 0,
           "temp_max": -3.71,
           "temp_min": -3.71
          },
          "pop": 0,
          "sys": {
           "pod": "n"
          },
          "visibility": 10000,
          "weather": [
           {
            "description": "overcast clouds",
            "icon": "04n",
            "id": 804,
            "main": "Clouds"
           }
          ],
          "wind": {
           "deg": 133,
           "gust": 10.9,
           "speed": 4.44
          }
         },
         {
          "clouds": {
           "all": 100
          },
          "dt": 1638846000,
          "dt_txt": "2021-12-07 03:00:00",
          "main": {
           "feels_like": -8.98,
           "grnd_level": 997,
           "humidity": 96,
           "pressure": 1016,
           "sea_level": 1016,
           "temp": -3.19,
           "temp_kf": 0,
           "temp_max": -3.19,
           "temp_min": -3.19
          },
          "pop": 0.88,
          "snow": {
           "3h": 0.75
          },
          "sys": {
           "pod": "n"
          },
          "visibility": 132,
          "weather": [
           {
            "description": "light snow",
            "icon": "13n",
            "id": 600,
            "main": "Snow"
           }
          ],
          "wind": {
           "deg": 132,
           "gust": 13.2,
           "speed": 5.12
          }
         },
         {
          "clouds": {
           "all": 100
          },
          "dt": 1638856800,
          "dt_txt": "2021-12-07 06:00:00",
          "main": {
           "feels_like": -8.02,
           "grnd_level": 995,
           "humidity": 97,
           "pressure": 1014,
           "sea_level": 1014,
           "temp": -2.09,
           "temp_kf": 0,
           "temp_max": -2.09,
           "temp_min": -2.09
          },
          "pop": 1,
          "snow": {
           "3h": 3.19
          },
          "sys": {
           "pod": "d"
          },
          "visibility": 129,
          "weather": [
           {
            "description": "snow",
            "icon": "13d",
            "id": 601,
            "main": "Snow"
           }
          ],
          "wind": {
           "deg": 133,
           "gust": 14.49,
           "speed": 5.85
          }
         },
         {
          "clouds": {
           "all": 100
          },
          "dt": 1638867600,
          "dt_txt": "2021-12-07 09:00:00",
          "main": {
           "feels_like": -5.89,
           "grnd_level": 994,
           "humidity": 97,
           "pressure": 1012,
           "sea_level": 1012,
           "temp": -0.73,
           "temp_kf": 0,
           "temp_max": -0.73,
           "temp_min": -0.73
          },
          "pop": 1,
          "snow": {
           "3h": 1.78
          },
          "sys": {
           "pod": "d"
          },
          "visibility": 267,
          "weather": [
           {
            "description": "snow",
            "icon": "13d",
            "id": 601,
            "main": "Snow"
           }
          ],
          "wind": {
           "deg": 149,
           "gust": 12.44,
           "speed": 5.1
          }
         },
         {
          "clouds": {
           "all": 100
          },
          "dt": 1638878400,
          "dt_txt": "2021-12-07 12:00:00",
          "main": {
           "feels_like": -3.69,
           "grnd_level": 992,
           "humidity": 99,
           "pressure": 1011,
           "sea_level": 1011,
           "temp": 0.36,
           "temp_kf": 0,
           "temp_max": 0.36,
           "temp_min": 0.36
          },
          "pop": 1,
          "snow": {
           "3h": 1.28
          },
          "sys": {
           "pod": "d"
          },
          "visibility": 56,
          "weather": [
           {
            "description": "light snow",
            "icon": "13d",
            "id": 600,
            "main": "Snow"
           }
          ],
          "wind": {
           "deg": 153,
           "gust": 10.23,
           "speed": 3.78
          }
         },
         {
          "clouds": {
           "all": 100
          },
          "dt": 1638889200,
          "dt_txt": "2021-12-07 15:00:00",
          "main": {
           "feels_like": -2.72,
           "grnd_level": 991,
           "humidity": 99,
           "pressure": 1010,
           "sea_level": 1010,
           "temp": 0.62,
           "temp_kf": 0,
           "temp_max": 0.62,
           "temp_min": 0.62
          },
          "pop": 0.75,
          "rain": {
           "3h": 0.42
          },
          "sys": {
           "pod": "n"
          },
          "visibility": 215,
          "weather": [
           {
            "description": "light rain",
            "icon": "10n",
            "id": 500,
            "main": "Rain"
           }
          ],
          "wind": {
           "deg": 147,
           "gust": 7.38,
           "speed": 2.96
          }
         },
         {
          "clouds": {
           "all": 100
          },
          "dt": 1638900000,
          "dt_txt": "2021-12-07 18:00:00",
          "main": {
           "feels_like": -1.65,
           "grnd_level": 991,
           "humidity": 100,
           "pressure": 1009,
           "sea_level": 1009,
           "temp": 0.62,
           "temp_kf": 0,
           "temp_max": 0.62,
           "temp_min": 0.62
          },
          "pop": 1,
          "rain": {
           "3h": 1.41
          },
          "sys": {
           "pod": "n"
          },
          "visibility": 100,
          "weather": [
           {
            "description": "light rain",
            "icon": "10n",
            "id": 500,
            "main": "Rain"
           }
          ],
          "wind": {
           "deg": 127,
           "gust": 4.78,
           "speed": 1.93
          }
         },
         {
          "clouds": {
           "all": 100
          },
          "dt": 1638910800,
          "dt_txt": "2021-12-07 21:00:00",
          "main": {
           "feels_like": -1.17,
           "grnd_level": 990,
           "humidity": 100,
           "pressure": 1009,
           "sea_level": 1009,
           "temp": 0.68,
           "temp_kf": 0,
           "temp_max": 0.68,
           "temp_min": 0.68
          },
          "pop": 1,
          "rain": {
           "3h": 1.97
          },
          "sys": {
           "pod": "n"
          },
          "visibility": 92,
          "weather": [
           {
            "description": "light rain",
            "icon": "10n",
            "id": 500,
            "main": "Rain"
           }
          ],
          "wind": {
           "deg": 153,
           "gust": 5.26,
           "speed": 1.63
          }
         },
         {
          "clouds": {
           "all": 100
          },
          "dt": 1638921600,
          "dt_txt": "2021-12-08 00:00:00",
          "main": {
           "feels_like": 0.52,
           "grnd_level": 990,
           "humidity": 100,
           "pressure": 1009,
           "sea_level": 1009,
           "temp": 0.52,
           "temp_kf": 0,
           "temp_max": 0.52,
           "temp_min": 0.52
          },
          "pop": 1,
          "rain": {
           "3h": 1.11
          },
          "sys": {
           "pod": "n"
          },
          "visibility": 75,
          "weather": [
           {
            "description": "light rain",
            "icon": "10n",
            "id": 500,
            "main": "Rain"
           }
          ],
          "wind": {
           "deg": 173,
           "gust": 1.14,
           "speed": 0.61
          }
         },
         {
          "clouds": {
           "all": 100
          },
          "dt": 1638932400,
          "dt_txt": "2021-12-08 03:00:00",
          "main": {
           "feels_like": 0.32,
           "grnd_level": 991,
           "humidity": 100,
           "pressure": 1009,
           "sea_level": 1009,
           "temp": 0.32,
           "temp_kf": 0,
           "temp_max": 0.32,
           "temp_min": 0.32
          },
          "pop": 1,
          "rain": {
           "3h": 0.23
          },
          "sys": {
           "pod": "n"
          },
          "visibility": 50,
          "weather": [
           {
            "description": "light rain",
            "icon": "10n",
            "id": 500,
            "main": "Rain"
           }
          ],
          "wind": {
           "deg": 325,
           "gust": 2.12,
           "speed": 1.04
          }
         },
         {
          "clouds": {
           "all": 100
          },
          "dt": 1638943200,
          "dt_txt": "2021-12-08 06:00:00",
          "main": {
           "feels_like": -2,
           "grnd_level": 993,
           "humidity": 99,
           "pressure": 1011,
           "sea_level": 1011,
           "temp": 0.25,
           "temp_kf": 0,
           "temp_max": 0.25,
           "temp_min": 0.25
          },
          "pop": 1,
          "snow": {
           "3h": 0.79
          },
          "sys": {
           "pod": "d"
          },
          "visibility": 31,
          "weather": [
           {
            "description": "light snow",
            "icon": "13d",
            "id": 600,
            "main": "Snow"
           }
          ],
          "wind": {
           "deg": 331,
           "gust": 4.15,
           "speed": 1.87
          }
         },
         {
          "clouds": {
           "all": 100
          },
          "dt": 1638954000,
          "dt_txt": "2021-12-08 09:00:00",
          "main": {
           "feels_like": -4.12,
           "grnd_level": 994,
           "humidity": 98,
           "pressure": 1013,
           "sea_level": 1013,
           "temp": -0.92,
           "temp_kf": 0,
           "temp_max": -0.92,
           "temp_min": -0.92
          },
          "pop": 0.38,
          "snow": {
           "3h": 0.31
          },
          "sys": {
           "pod": "d"
          },
          "visibility": 457,
          "weather": [
           {
            "description": "light snow",
            "icon": "13d",
            "id": 600,
            "main": "Snow"
           }
          ],
          "wind": {
           "deg": 331,
           "gust": 4.43,
           "speed": 2.51
          }
         },
         {
          "clouds": {
           "all": 100
          },
          "dt": 1638964800,
          "dt_txt": "2021-12-08 12:00:00",
          "main": {
           "feels_like": -4.73,
           "grnd_level": 996,
           "humidity": 96,
           "pressure": 1014,
           "sea_level": 1014,
           "temp": -1.44,
           "temp_kf": 0,
           "temp_max": -1.44,
           "temp_min": -1.44
          },
          "pop": 0.06,
          "sys": {
           "pod": "d"
          },
          "visibility": 4563,
          "weather": [
           {
            "description": "overcast clouds",
            "icon": "04d",
            "id": 804,
            "main": "Clouds"
           }
          ],
          "wind": {
           "deg": 343,
           "gust": 4.91,
           "speed": 2.5
          }
         },
         {
          "clouds": {
           "all": 100
          },
          "dt": 1638975600,
          "dt_txt": "2021-12-08 15:00:00",
          "main": {
           "feels_like": -7.01,
           "grnd_level": 997,
           "humidity": 95,
           "pressure": 1016,
           "sea_level": 1016,
           "temp": -2.86,
           "temp_kf": 0,
           "temp_max": -2.86,
           "temp_min": -2.86
          },
          "pop": 0,
          "sys": {
           "pod": "n"
          },
          "visibility": 10000,
          "weather": [
           {
            "description": "overcast clouds",
            "icon": "04n",
            "id": 804,
            "main": "Clouds"
           }
          ],
          "wind": {
           "deg": 2,
           "gust": 6.33,
           "speed": 3.08
          }
         },
         {
          "clouds": {
           "all": 100
          },
          "dt": 1638986400,
          "dt_txt": "2021-12-08 18:00:00",
          "main": {
           "feels_like": -8.26,
           "grnd_level": 998,
           "humidity": 96,
           "pressure": 1017,
           "sea_level": 1017,
           "temp": -3.93,
           "temp_kf": 0,
           "temp_max": -3.93,
           "temp_min": -3.93
          },
          "pop": 0,
          "sys": {
           "pod": "n"
          },
          "visibility": 5203,
          "weather": [
           {
            "description": "overcast clouds",
            "icon": "04n",
            "id": 804,
            "main": "Clouds"
           }
          ],
          "wind": {
           "deg": 10,
           "gust": 6.07,
           "speed": 3.04
          }
         },
         {
          "clouds": {
           "all": 100
          },
          "dt": 1638997200,
          "dt_txt": "2021-12-08 21:00:00",
          "main": {
           "feels_like": -8.73,
           "grnd_level": 998,
           "humidity": 97,
           "pressure": 1017,
           "sea_level": 1017,
           "temp": -4.42,
           "temp_kf": 0,
           "temp_max": -4.42,
           "temp_min": -4.42
          },
          "pop": 0.54,
          "snow": {
           "3h": 0.68
          },
          "sys": {
           "pod": "n"
          },
          "visibility": 132,
          "weather": [
           {
            "description": "light snow",
            "icon": "13n",
            "id": 600,
            "main": "Snow"
           }
          ],
          "wind": {
           "deg": 14,
           "gust": 6.67,
           "speed": 2.92
          }
         },
         {
          "clouds": {
           "all": 100
          },
          "dt": 1639008000,
          "dt_txt": "2021-12-09 00:00:00",
          "main": {
           "feels_like": -8.5,
           "grnd_level": 998,
           "humidity": 97,
           "pressure": 1017,
           "sea_level": 1017,
           "temp": -3.87,
           "temp_kf": 0,
           "temp_max": -3.87,
           "temp_min": -3.87
          },
          "pop": 0.72,
          "snow": {
           "3h": 0.99
          },
          "sys": {
           "pod": "n"
          },
          "visibility": 490,
          "weather": [
           {
            "description": "light snow",
            "icon": "13n",
            "id": 600,
            "main": "Snow"
           }
          ],
          "wind": {
           "deg": 20,
           "gust": 7.72,
           "speed": 3.37
          }
         },
         {
          "clouds": {
           "all": 100
          },
          "dt": 1639018800,
          "dt_txt": "2021-12-09 03:00:00",
          "main": {
           "feels_like": -8.4,
           "grnd_level": 997,
           "humidity": 96,
           "pressure": 1016,
           "sea_level": 1016,
           "temp": -3.49,
           "temp_kf": 0,
           "temp_max": -3.49,
           "temp_min": -3.49
          },
          "pop": 0.48,
          "snow": {
           "3h": 0.14
          },
          "sys": {
           "pod": "n"
          },
          "visibility": 6104,
          "weather": [
           {
            "description": "light snow",
            "icon": "13n",
            "id": 600,
            "main": "Snow"
           }
          ],
          "wind": {
           "deg": 25,
           "gust": 8.08,
           "speed": 3.78
          }
         },
         {
          "clouds": {
           "all": 100
          },
          "dt": 1639029600,
          "dt_txt": "2021-12-09 06:00:00",
          "main": {
           "feels_like": -8.03,
           "grnd_level": 997,
           "humidity": 96,
           "pressure": 1016,
           "sea_level": 1016,
           "temp": -3.26,
           "temp_kf": 0,
           "temp_max": -3.26,
           "temp_min": -3.26
          },
          "pop": 0.46,
          "sys": {
           "pod": "d"
          },
          "visibility": 5846,
          "weather": [
           {
            "description": "overcast clouds",
            "icon": "04d",
            "id": 804,
            "main": "Clouds"
           }
          ],
          "wind": {
           "deg": 32,
           "gust": 7.57,
           "speed": 3.68
          }
         },
         {
          "clouds": {
           "all": 100
          },
          "dt": 1639040400,
          "dt_txt": "2021-12-09 09:00:00",
          "main": {
           "feels_like": -6.35,
           "grnd_level": 997,
           "humidity": 97,
           "pressure": 1016,
           "sea_level": 1016,
           "temp": -2.51,
           "temp_kf": 0,
           "temp_max": -2.51,
           "temp_min": -2.51
          },
          "pop": 1,
          "snow": {
           "3h": 0.97
          },
          "sys": {
           "pod": "d"
          },
          "visibility": 866,
          "weather": [
           {
            "description": "light snow",
            "icon": "13d",
            "id": 600,
            "main": "Snow"
           }
          ],
          "wind": {
           "deg": 27,
           "gust": 5.22,
           "speed": 2.83
          }
         },
         {
          "clouds": {
           "all": 100
          },
          "dt": 1639051200,
          "dt_txt": "2021-12-09 12:00:00",
          "main": {
           "feels_like": -5.63,
           "grnd_level": 997,
           "humidity": 97,
           "pressure": 1016,
           "sea_level": 1016,
           "temp": -1.94,
           "temp_kf": 0,
           "temp_max": -1.94,
           "temp_min": -1.94
          },
          "pop": 1,
          "snow": {
           "3h": 0.81
          },
          "sys": {
           "pod": "d"
          },
          "visibility": 2680,
          "weather": [
           {
            "description": "light snow",
            "icon": "13d",
            "id": 600,
            "main": "Snow"
           },
           {
            "description": "freezing rain",
            "icon": "13d",
            "id": 511,
            "main": "Rain"
           }
          ],
          "wind": {
           "deg": 23,
           "gust": 5.54,
           "speed": 2.79
          }
         },
         {
          "clouds": {
           "all": 100
          },
          "dt": 1639062000,
          "dt_txt": "2021-12-09 15:00:00",
          "main": {
           "feels_like": -5.36,
           "grnd_level": 998,
           "humidity": 98,
           "pressure": 1017,
           "sea_level": 1017,
           "temp": -1.46,
           "temp_kf": 0,
           "temp_max": -1.46,
           "temp_min": -1.46
          },
          "pop": 0.88,
          "snow": {
           "3h": 0.94
          },
          "sys": {
           "pod": "n"
          },
          "visibility": 4873,
          "weather": [
           {
            "description": "light snow",
            "icon": "13n",
            "id": 600,
            "main": "Snow"
           },
           {
            "description": "freezing rain",
            "icon": "13n",
            "id": 511,
            "main": "Rain"
           }
          ],
          "wind": {
           "deg": 30,
           "gust": 6.77,
           "speed": 3.11
          }
         },
         {
          "clouds": {
           "all": 100
          },
          "dt": 1639072800,
          "dt_txt": "2021-12-09 18:00:00",
          "main": {
           "feels_like": -4.61,
           "grnd_level": 998,
           "humidity": 98,
           "pressure": 1017,
           "sea_level": 1017,
           "temp": -0.91,
           "temp_kf": 0,
           "temp_max": -0.91,
           "temp_min": -0.91
          },
          "pop": 0.72,
          "snow": {
           "3h": 0.16
          },
          "sys": {
           "pod": "n"
          },
          "visibility": 6220,
          "weather": [
           {
            "description": "light snow",
            "icon": "13n",
            "id": 600,
            "main": "Snow"
           },
           {
            "description": "freezing rain",
            "icon": "13n",
            "id": 511,
            "main": "Rain"
           }
          ],
          "wind": {
           "deg": 42,
           "gust": 6.68,
           "speed": 3.02
          }
         },
         {
          "clouds": {
           "all": 100
          },
          "dt": 1639083600,
          "dt_txt": "2021-12-09 21:00:00",
          "main": {
           "feels_like": -2.94,
           "grnd_level": 999,
           "humidity": 99,
           "pressure": 1018,
           "sea_level": 1018,
           "temp": -0.13,
           "temp_kf": 0,
           "temp_max": -0.13,
           "temp_min": -0.13
          },
          "pop": 0,
          "sys": {
           "pod": "n"
          },
          "visibility": 1151,
          "weather": [
           {
            "description": "overcast clouds",
            "icon": "04n",
            "id": 804,
            "main": "Clouds"
           }
          ],
          "wind": {
           "deg": 53,
           "gust": 5.27,
           "speed": 2.28
          }
         },
         {
          "clouds": {
           "all": 100
          },
          "dt": 1639094400,
          "dt_txt": "2021-12-10 00:00:00",
          "main": {
           "feels_like": -2.39,
           "grnd_level": 1000,
           "humidity": 99,
           "pressure": 1019,
           "sea_level": 1019,
           "temp": 0.2,
           "temp_kf": 0,
           "temp_max": 0.2,
           "temp_min": 0.2
          },
          "pop": 0.02,
          "sys": {
           "pod": "n"
          },
          "visibility": 878,
          "weather": [
           {
            "description": "overcast clouds",
            "icon": "04n",
            "id": 804,
            "main": "Clouds"
           }
          ],
          "wind": {
           "deg": 57,
           "gust": 4.76,
           "speed": 2.14
          }
         },
         {
          "clouds": {
           "all": 100
          },
          "dt": 1639105200,
          "dt_txt": "2021-12-10 03:00:00",
          "main": {
           "feels_like": -2.61,
           "grnd_level": 1000,
           "humidity": 99,
           "pressure": 1019,
           "sea_level": 1019,
           "temp": 0.33,
           "temp_kf": 0,
           "temp_max": 0.33,
           "temp_min": 0.33
          },
          "pop": 0.02,
          "sys": {
           "pod": "n"
          },
          "visibility": 375,
          "weather": [
           {
            "description": "overcast clouds",
            "icon": "04n",
            "id": 804,
            "main": "Clouds"
           }
          ],
          "wind": {
           "deg": 72,
           "gust": 5.57,
           "speed": 2.48
          }
         },
         {
          "clouds": {
           "all": 100
          },
          "dt": 1639116000,
          "dt_txt": "2021-12-10 06:00:00",
          "main": {
           "feels_like": -2.2,
           "grnd_level": 1002,
           "humidity": 99,
           "pressure": 1021,
           "sea_level": 1021,
           "temp": 0.34,
           "temp_kf": 0,
           "temp_max": 0.34,
           "temp_min": 0.34
          },
          "pop": 0,
          "sys": {
           "pod": "d"
          },
          "visibility": 779,
          "weather": [
           {
            "description": "overcast clouds",
            "icon": "04d",
            "id": 804,
            "main": "Clouds"
           }
          ],
          "wind": {
           "deg": 76,
           "gust": 5.28,
           "speed": 2.12
          }
         },
         {
          "clouds": {
           "all": 100
          },
          "dt": 1639126800,
          "dt_txt": "2021-12-10 09:00:00",
          "main": {
           "feels_like": -2.04,
           "grnd_level": 1003,
           "humidity": 100,
           "pressure": 1022,
           "sea_level": 1022,
           "temp": 0.36,
           "temp_kf": 0,
           "temp_max": 0.36,
           "temp_min": 0.36
          },
          "pop": 0,
          "sys": {
           "pod": "d"
          },
          "visibility": 333,
          "weather": [
           {
            "description": "overcast clouds",
            "icon": "04d",
            "id": 804,
            "main": "Clouds"
           }
          ],
          "wind": {
           "deg": 75,
           "gust": 4.43,
           "speed": 2
          }
         },
         {
          "clouds": {
           "all": 100
          },
          "dt": 1639137600,
          "dt_txt": "2021-12-10 12:00:00",
          "main": {
           "feels_like": -1.55,
           "grnd_level": 1004,
           "humidity": 100,
           "pressure": 1023,
           "sea_level": 1023,
           "temp": 0.39,
           "temp_kf": 0,
           "temp_max": 0.39,
           "temp_min": 0.39
          },
          "pop": 0,
          "sys": {
           "pod": "d"
          },
          "visibility": 319,
          "weather": [
           {
            "description": "overcast clouds",
            "icon": "04d",
            "id": 804,
            "main": "Clouds"
           }
          ],
          "wind": {
           "deg": 82,
           "gust": 3.59,
           "speed": 1.66
          }
         }
        ],
        "message": 0
       },
       {
        "city": {
         "coord": {
          "lat": 51.5085,
          "lon": -0.1257
         },
         "country": "GB",
         "id": 2643743,
         "name": "London",
         "population": 1000000,
         "sunrise": 1638690568,
         "sunset": 1638719592,
         "timezone": 0
        },
        "cnt": 40,
        "cod": "200",
        "list": [
         {
          "clouds": {
           "all": 91
          },
          "dt": 1638716400,
          "dt_txt": "2021-12-05 15:00:00",
          "main": {
           "feels_like": 2.83,
           "grnd_level": 1005,
           "humidity": 85,
           "pressure": 1007,
           "sea_level": 1007,
           "temp": 6.32,
           "temp_kf": -0.89,
           "temp_max": 7.21,
           "temp_min": 6.32
          },
          "pop": 0.2,
          "rain": {
           "3h": 0.25
          },
          "sys": {
           "pod": "d"
          },
          "visibility": 10000,
          "weather": [
           {
            "description": "light rain",
            "icon": "10d",
            "id": 500,
            "main": "Rain"
           }
          ],
          "wind": {
           "deg": 357,
           "gust": 11.77,
           "speed": 5.35
          }
         },
         {
          "clouds": {
           "all": 94
          },
          "dt": 1638727200,
          "dt_txt": "2021-12-05 18:00:00",
          "main": {
           "feels_like": 2.52,
           "grnd_level": 1009,
           "humidity": 81,
           "pressure": 1010,
           "sea_level": 1010,
           "temp": 6.36,
           "temp_kf": -0.24,
           "temp_max": 6.6,
           "temp_min": 6.36
          },
          "pop": 0.2,
          "rain": {
           "3h": 0.16
          },
          "sys": {
           "pod": "n"
          },
          "visibility": 10000,
          "weather": [
           {
            "description": "light rain",
            "icon": "10n",
            "id": 500,
            "main": "Rain"
           }
          ],
          "wind": {
           "deg": 353,
           "gust": 12.34,
           "speed": 6.26
          }
         },
         {
          "clouds": {
           "all": 84
          },
          "dt": 1638738000,
          "dt_txt": "2021-12-05 21:00:00",
          "main": {
           "feels_like": 2.9,
           "grnd_level": 1011,
           "humidity": 74,
           "pressure": 1014,
           "sea_level": 1014,
           "temp": 6.34,
           "temp_kf": 0,
           "temp_max": 6.34,
           "temp_min": 6.34
          },
          "pop": 0,
          "sys": {
           "pod": "n"
          },
          "visibility": 10000,
          "weather": [
           {
            "description": "broken clouds",
            "icon": "04n",
            "id": 803,
            "main": "Clouds"
           }
          ],
          "wind": {
           "deg": 348,
           "gust": 11.06,
           "speed": 5.25
          }
         },
         {
          "clouds": {
           "all": 83
          },
          "dt": 1638748800,
          "dt_txt": "2021-12-06 00:00:00",
          "main": {
           "feels_like": 2.6,
           "grnd_level": 1012,
           "humidity": 79,
           "pressure": 1015,
           "sea_level": 1015,
           "temp": 5.26,
           "temp_kf": 0,
           "temp_max": 5.26,
           "temp_min": 5.26
          },
          "pop": 0,
          "sys": {
           "pod": "n"
          },
          "visibility": 10000,
          "weather": [
           {
            "description": "broken clouds",
            "icon": "04n",
            "id": 803,
            "main": "Clouds"
           }
          ],
          "wind": {
           "deg": 340,
           "gust": 8.9,
           "speed": 3.31
          }
         },
         {
          "clouds": {
           "all": 100
          },
          "dt": 1638759600,
          "dt_txt": "2021-12-06 03:00:00",
          "main": {
           "feels_like": 3.14,
           "grnd_level": 1011,
           "humidity": 85,
           "pressure": 1015,
           "sea_level": 1015,
           "temp": 4.29,
           "temp_kf": 0,
           "temp_max": 4.29,
           "temp_min": 4.29
          },
          "pop": 0,
          "sys": {
           "pod": "n"
          },
          "visibility": 10000,
          "weather": [
           {
            "description": "overcast clouds",
            "icon": "04n",
            "id": 804,
            "main": "Clouds"
           }
          ],
          "wind": {
           "deg": 309,
           "gust": 2.29,
           "speed": 1.5
          }
         },
         {
          "clouds": {
           "all": 100
          },
          "dt": 1638770400,
          "dt_txt": "2021-12-06 06:00:00",
          "main": {
           "feels_like": 2.64,
           "grnd_level": 1011,
           "humidity": 83,
           "pressure": 1014,
           "sea_level": 1014,
           "temp": 4.09,
           "temp_kf": 0,
           "temp_max": 4.09,
           "temp_min": 4.09
          },
          "pop": 0,
          "sys": {
           "pod": "n"
          },
          "visibility": 10000,
          "weather": [
           {
            "description": "overcast clouds",
            "icon": "04n",
            "id": 804,
            "main": "Clouds"
           }
          ],
          "wind": {
           "deg": 221,
           "gust": 3.32,
           "speed": 1.71
          }
         },
         {
          "clouds": {
           "all": 100
          },
          "dt": 1638781200,
          "dt_txt": "2021-12-06 09:00:00",
          "main": {
           "feels_like": 1.94,
           "grnd_level": 1009,
           "humidity": 73,
           "pressure": 1012,
           "sea_level": 1012,
           "temp": 4.76,
           "temp_kf": 0,
           "temp_max": 4.76,
           "temp_min": 4.76
          },
          "pop": 0,
          "sys": {
           "pod": "d"
          },
          "visibility": 10000,
          "weather": [
           {
            "description": "overcast clouds",
            "icon": "04d",
            "id": 804,
            "main": "Clouds"
           }
          ],
          "wind": {
           "deg": 206,
           "gust": 10.21,
           "speed": 3.39
          }
         },
         {
          "clouds": {
           "all": 100
          },
          "dt": 1638792000,
          "dt_txt": "2021-12-06 12:00:00",
          "main": {
           "feels_like": 3.18,
           "grnd_level": 1004,
           "humidity": 79,
           "pressure": 1007,
           "sea_level": 1007,
           "temp": 6.86,
           "temp_kf": 0,
           "temp_max": 6.86,
           "temp_min": 6.86
          },
          "pop": 0.2,
          "rain": {
           "3h": 0.19
          },
          "sys": {
           "pod": "d"
          },
          "visibility": 10000,
          "weather": [
           {
            "description": "light rain",
            "icon": "10d",
            "id": 500,
            "main": "Rain"
           }
          ],
          "wind": {
           "deg": 204,
           "gust": 14.9,
           "speed": 6.2
          }
         },
         {
          "clouds": {
           "all": 100
          },
          "dt": 1638802800,
          "dt_txt": "2021-12-06 15:00:00",
          "main": {
           "feels_like": 2.79,
           "grnd_level": 1003,
           "humidity": 74,
           "pressure": 1006,
           "sea_level": 1006,
           "temp": 5.95,
           "temp_kf": 0,
           "temp_max": 5.95,
           "temp_min": 5.95
          },
          "pop": 1,
          "rain": {
           "3h": 4.69
          },
          "sys": {
           "pod": "d"
          },
          "visibility": 10000,
          "weather": [
           {
            "description": "moderate rain",
            "icon": "10d",
            "id": 501,
            "main": "Rain"
           }
          ],
          "wind": {
           "deg": 298,
           "gust": 11.47,
           "speed": 4.44
          }
         },
         {
          "clouds": {
           "all": 70
          },
          "dt": 1638813600,
          "dt_txt": "2021-12-06 18:00:00",
          "main": {
           "feels_like": 0.95,
           "grnd_level": 1005,
           "humidity": 72,
           "pressure": 1009,
           "sea_level": 1009,
           "temp": 5.02,
           "temp_kf": 0,
           "temp_max": 5.02,
           "temp_min": 5.02
          },
          "pop": 0.8,
          "sys": {
           "pod": "n"
          },
          "visibility": 10000,
          "weather": [
           {
            "description": "broken clouds",
            "icon": "04n",
            "id": 803,
            "main": "Clouds"
           }
          ],
          "wind": {
           "deg": 273,
           "gust": 12.88,
           "speed": 5.94
          }
         },
         {
          "clouds": {
           "all": 65
          },
          "dt": 1638824400,
          "dt_txt": "2021-12-06 21:00:00",
          "main": {
           "feels_like": 0.52,
           "grnd_level": 1007,
           "humidity": 74,
           "pressure": 1010,
           "sea_level": 1010,
           "temp": 4.42,
           "temp_kf": 0,
           "temp_max": 4.42,
           "temp_min": 4.42
          },
          "pop": 0,
          "sys": {
           "pod": "n"
          },
          "visibility": 10000,
          "weather": [
           {
            "description": "broken clouds",
            "icon": "04n",
            "id": 803,
            "main": "Clouds"
           }
          ],
          "wind": {
           "deg": 271,
           "gust": 12.57,
           "speed": 5.19
          }
         },
         {
          "clouds": {
           "all": 34
          },
          "dt": 1638835200,
          "dt_txt": "2021-12-07 00:00:00",
          "main": {
           "feels_like": 0.25,
           "grnd_level": 1008,
           "humidity": 72,
           "pressure": 1012,
           "sea_level": 1012,
           "temp": 3.9,
           "temp_kf": 0,
           "temp_max": 3.9,
           "temp_min": 3.9
          },
          "pop": 0,
          "sys": {
           "pod": "n"
          },
          "visibility": 10000,
          "weather": [
           {
            "description": "scattered clouds",
            "icon": "03n",
            "id": 802,
            "main": "Clouds"
           }
          ],
          "wind": {
           "deg": 273,
           "gust": 12.22,
           "speed": 4.45
          }
         },
         {
          "clouds": {
           "all": 0
          },
          "dt": 1638846000,
          "dt_txt": "2021-12-07 03:00:00",
          "main": {
           "feels_like": -0.18,
           "grnd_level": 1008,
           "humidity": 77,
           "pressure": 1012,
           "sea_level": 1012,
           "temp": 2.86,
           "temp_kf": 0,
           "temp_max": 2.86,
           "temp_min": 2.86
          },
          "pop": 0,
          "sys": {
           "pod": "n"
          },
          "visibility": 10000,
          "weather": [
           {
            "description": "clear sky",
            "icon": "01n",
            "id": 800,
            "main": "Clear"
           }
          ],
          "wind": {
           "deg": 248,
           "gust": 8.99,
           "speed": 3.15
          }
         },
         {
          "clouds": {
           "all": 2
          },
          "dt": 1638856800,
          "dt_txt": "2021-12-07 06:00:00",
          "main": {
           "feels_like": 0.15,
           "grnd_level": 1007,
           "humidity": 82,
           "pressure": 1010,
           "sea_level": 1010,
           "temp": 1.96,
           "temp_kf": 0,
           "temp_max": 1.96,
           "temp_min": 1.96
          },
          "pop": 0,
          "sys": {
           "pod": "n"
          },
          "visibility": 10000,
          "weather": [
           {
            "description": "clear sky",
            "icon": "01n",
            "id": 800,
            "main": "Clear"
           }
          ],
          "wind": {
           "deg": 198,
           "gust": 2.7,
           "speed": 1.74
          }
         },
         {
          "clouds": {
           "all": 100
          },
          "dt": 1638867600,
          "dt_txt": "2021-12-07 09:00:00",
          "main": {
           "feels_like": -0.19,
           "grnd_level": 1004,
           "humidity": 73,
           "pressure": 1007,
           "sea_level": 1007,
           "temp": 2.62,
           "temp_kf": 0,
           "temp_max": 2.62,
           "temp_min": 2.62
          },
          "pop": 0,
          "sys": {
           "pod": "d"
          },
          "visibility": 10000,
          "weather": [
           {
            "description": "overcast clouds",
            "icon": "04d",
            "id": 804,
            "main": "Clouds"
           }
          ],
          "wind": {
           "deg": 147,
           "gust": 8.3,
           "speed": 2.8
          }
         },
         {
          "clouds": {
           "all": 100
          },
          "dt": 1638878400,
          "dt_txt": "2021-12-07 12:00:00",
          "main": {
           "feels_like": 2.79,
           "grnd_level": 998,
           "humidity": 71,
           "pressure": 1001,
           "sea_level": 1001,
           "temp": 6.67,
           "temp_kf": 0,
           "temp_max": 6.67,
           "temp_min": 6.67
          },
          "pop": 0,
          "sys": {
           "pod": "d"
          },
          "visibility": 10000,
          "weather": [
           {
            "description": "overcast clouds",
            "icon": "04d",
            "id": 804,
            "main": "Clouds"
           }
          ],
          "wind": {
           "deg": 153,
           "gust": 12.75,
           "speed": 6.63
          }
         },
         {
          "clouds": {
           "all": 100
          },
          "dt": 1638889200,
          "dt_txt": "2021-12-07 15:00:00",
          "main": {
           "feels_like": 1.36,
           "grnd_level": 990,
           "humidity": 76,
           "pressure": 993,
           "sea_level": 993,
           "temp": 5.99,
           "temp_kf": 0,
           "temp_max": 5.99,
           "temp_min": 5.99
          },
          "pop": 0.7,
          "rain": {
           "3h": 0.41
          },
          "sys": {
           "pod": "d"
          },
          "visibility": 10000,
          "weather": [
           {
            "description": "light rain",
            "icon": "10d",
            "id": 500,
            "main": "Rain"
           }
          ],
          "wind": {
           "deg": 151,
           "gust": 17.69,
           "speed": 8.32
          }
         },
         {
          "clouds": {
           "all": 100
          },
          "dt": 1638900000,
          "dt_txt": "2021-12-07 18:00:00",
          "main": {
           "feels_like": 2.39,
           "grnd_level": 986,
           "humidity": 73,
           "pressure": 989,
           "sea_level": 989,
           "temp": 6.3,
           "temp_kf": 0,
           "temp_max": 6.3,
           "temp_min": 6.3
          },
          "pop": 1,
          "rain": {
           "3h": 4.68
          },
          "sys": {
           "pod": "n"
          },
          "visibility": 10000,
          "weather": [
           {
            "description": "moderate rain",
            "icon": "10n",
            "id": 501,
            "main": "Rain"
           }
          ],
          "wind": {
           "deg": 245,
           "gust": 13.75,
           "speed": 6.41
          }
         },
         {
          "clouds": {
           "all": 82
          },
          "dt": 1638910800,
          "dt_txt": "2021-12-07 21:00:00",
          "main": {
           "feels_like": 1.98,
           "grnd_level": 986,
           "humidity": 72,
           "pressure": 989,
           "sea_level": 989,
           "temp": 5.55,
           "temp_kf": 0,
           "temp_max": 5.55,
           "temp_min": 5.55
          },
          "pop": 0.3,
          "sys": {
           "pod": "n"
          },
          "visibility": 10000,
          "weather": [
           {
            "description": "broken clouds",
            "icon": "04n",
            "id": 803,
            "main": "Clouds"
           }
          ],
          "wind": {
           "deg": 211,
           "gust": 12.66,
           "speed": 5.09
          }
         },
         {
          "clouds": {
           "all": 53
          },
          "dt": 1638921600,
          "dt_txt": "2021-12-08 00:00:00",
          "main": {
           "feels_like": 1.75,
           "grnd_level": 985,
           "humidity": 69,
           "pressure": 988,
           "sea_level": 988,
           "temp": 5.39,
           "temp_kf": 0,
           "temp_max": 5.39,
           "temp_min": 5.39
          },
          "pop": 0.24,
          "sys": {
           "pod": "n"
          },
          "visibility": 10000,
          "weather": [
           {
            "description": "broken clouds",
            "icon": "04n",
            "id": 803,
            "main": "Clouds"
           }
          ],
          "wind": {
           "deg": 206,
           "gust": 13.41,
           "speed": 5.15
          }
         },
         {
          "clouds": {
           "all": 70
          },
          "dt": 1638932400,
          "dt_txt": "2021-12-08 03:00:00",
          "main": {
           "feels_like": 2.02,
           "grnd_level": 985,
           "humidity": 74,
           "pressure": 988,
           "sea_level": 988,
           "temp": 5.69,
           "temp_kf": 0,
           "temp_max": 5.69,
           "temp_min": 5.69
          },
          "pop": 0.37,
          "rain": {
           "3h": 0.15
          },
          "sys": {
           "pod": "n"
          },
          "visibility": 10000,
          "weather": [
           {
            "description": "light rain",
            "icon": "10n",
            "id": 500,
            "main": "Rain"
           }
          ],
          "wind": {
           "deg": 201,
           "gust": 12.55,
           "speed": 5.41
          }
         },
         {
          "clouds": {
           "all": 71
          },
          "dt": 1638943200,
          "dt_txt": "2021-12-08 06:00:00",
          "main": {
           "feels_like": 1.71,
           "grnd_level": 984,
           "humidity": 69,
           "pressure": 987,
           "sea_level": 987,
           "temp": 5.62,
           "temp_kf": 0,
           "temp_max": 5.62,
           "temp_min": 5.62
          },
          "pop": 0.33,
          "sys": {
           "pod": "n"
          },
          "visibility": 10000,
          "weather": [
           {
            "description": "broken clouds",
            "icon": "04n",
            "id": 803,
            "main": "Clouds"
           }
          ],
          "wind": {
           "deg": 187,
           "gust": 14.63,
           "speed": 5.93
          }
         },
         {
          "clouds": {
           "all": 95
          },
          "dt": 1638954000,
          "dt_txt": "2021-12-08 09:00:00",
          "main": {
           "feels_like": 1.71,
           "grnd_level": 983,
           "humidity": 70,
           "pressure": 986,
           "sea_level": 986,
           "temp": 6.27,
           "temp_kf": 0,
           "temp_max": 6.27,
           "temp_min": 6.27
          },
          "pop": 0.29,
          "sys": {
           "pod": "d"
          },
          "visibility": 10000,
          "weather": [
           {
            "description": "overcast clouds",
            "icon": "04d",
            "id": 804,
            "main": "Clouds"
           }
          ],
          "wind": {
           "deg": 169,
           "gust": 16.37,
           "speed": 8.38
          }
         },
         {
          "clouds": {
           "all": 97
          },
          "dt": 1638964800,
          "dt_txt": "2021-12-08 12:00:00",
          "main": {
           "feels_like": 2.66,
           "grnd_level": 983,
           "humidity": 70,
           "pressure": 986,
           "sea_level": 986,
           "temp": 7.05,
           "temp_kf": 0,
           "temp_max": 7.05,
           "temp_min": 7.05
          },
          "pop": 0.5,
          "rain": {
           "3h": 0.1
          },
          "sys": {
           "pod": "d"
          },
          "visibility": 10000,
          "weather": [
           {
            "description": "light rain",
            "icon": "10d",
            "id": 500,
            "main": "Rain"
           }
          ],
          "wind": {
           "deg": 164,
           "gust": 15.38,
           "speed": 8.63
          }
         },
         {
          "clouds": {
           "all": 96
          },
          "dt": 1638975600,
          "dt_txt": "2021-12-08 15:00:00",
          "main": {
           "feels_like": 2.69,
           "grnd_level": 983,
           "humidity": 70,
           "pressure": 986,
           "sea_level": 986,
           "temp": 6.91,
           "temp_kf": 0,
           "temp_max": 6.91,
           "temp_min": 6.91
          },
          "pop": 0.42,
          "rain": {
           "3h": 0.25
          },
          "sys": {
           "pod": "d"
          },
          "visibility": 10000,
          "weather": [
           {
            "description": "light rain",
            "icon": "10d",
            "id": 500,
            "main": "Rain"
           }
          ],
          "wind": {
           "deg": 151,
           "gust": 15.19,
           "speed": 7.87
          }
         },
         {
          "clouds": {
           "all": 98
          },
          "dt": 1638986400,
          "dt_txt": "2021-12-08 18:00:00",
          "main": {
           "feels_like": 1.28,
           "grnd_level": 984,
           "humidity": 89,
           "pressure": 987,
           "sea_level": 987,
           "temp": 5.51,
           "temp_kf": 0,
           "temp_max": 5.51,
           "temp_min": 5.51
          },
          "pop": 0.77,
          "rain": {
           "3h": 1.23
          },
          "sys": {
           "pod": "n"
          },
          "visibility": 10000,
          "weather": [
           {
            "description": "light rain",
            "icon": "10n",
            "id": 500,
            "main": "Rain"
           }
          ],
          "wind": {
           "deg": 131,
           "gust": 12.43,
           "speed": 6.7
          }
         },
         {
          "clouds": {
           "all": 100
          },
          "dt": 1638997200,
          "dt_txt": "2021-12-08 21:00:00",
          "main": {
           "feels_like": 1.16,
           "grnd_level": 987,
           "humidity": 92,
           "pressure": 990,
           "sea_level": 990,
           "temp": 5.54,
           "temp_kf": 0,
           "temp_max": 5.54,
           "temp_min": 5.54
          },
          "pop": 1,
          "rain": {
           "3h": 3.38
          },
          "sys": {
           "pod": "n"
          },
          "visibility": 10000,
          "weather": [
           {
            "description": "moderate rain",
            "icon": "10n",
            "id": 501,
            "main": "Rain"
           }
          ],
          "wind": {
           "deg": 91,
           "gust": 12.33,
           "speed": 7.13
          }
         },
         {
          "clouds": {
           "all": 100
          },
          "dt": 1639008000,
          "dt_txt": "2021-12-09 00:00:00",
          "main": {
           "feels_like": 1.47,
           "grnd_level": 991,
           "humidity": 92,
           "pressure": 994,
           "sea_level": 994,
           "temp": 5.22,
           "temp_kf": 0,
           "temp_max": 5.22,
           "temp_min": 5.22
          },
          "pop": 1,
          "rain": {
           "3h": 1.81
          },
          "sys": {
           "pod": "n"
          },
          "visibility": 10000,
          "weather": [
           {
            "description": "light rain",
            "icon": "10n",
            "id": 500,
            "main": "Rain"
           }
          ],
          "wind": {
           "deg": 82,
           "gust": 10.1,
           "speed": 5.3
          }
         },
         {
          "clouds": {
           "all": 100
          },
          "dt": 1639018800,
          "dt_txt": "2021-12-09 03:00:00",
          "main": {
           "feels_like": 2.61,
           "grnd_level": 995,
           "humidity": 78,
           "pressure": 998,
           "sea_level": 998,
           "temp": 5.94,
           "temp_kf": 0,
           "temp_max": 5.94,
           "temp_min": 5.94
          },
          "pop": 0.26,
          "rain": {
           "3h": 0.13
          },
          "sys": {
           "pod": "n"
          },
          "visibility": 10000,
          "weather": [
           {
            "description": "light rain",
            "icon": "10n",
            "id": 500,
            "main": "Rain"
           }
          ],
          "wind": {
           "deg": 63,
           "gust": 9.54,
           "speed": 4.8
          }
         },
         {
          "clouds": {
           "all": 100
          },
          "dt": 1639029600,
          "dt_txt": "2021-12-09 06:00:00",
          "main": {
           "feels_like": 2.61,
           "grnd_level": 998,
           "humidity": 70,
           "pressure": 1001,
           "sea_level": 1001,
           "temp": 5.84,
           "temp_kf": 0,
           "temp_max": 5.84,
           "temp_min": 5.84
          },
          "pop": 0.02,
          "sys": {
           "pod": "n"
          },
          "visibility": 10000,
          "weather": [
           {
            "description": "overcast clouds",
            "icon": "04n",
            "id": 804,
            "main": "Clouds"
           }
          ],
          "wind": {
           "deg": 38,
           "gust": 9.5,
           "speed": 4.53
          }
         },
         {
          "clouds": {
           "all": 57
          },
          "dt": 1639040400,
          "dt_txt": "2021-12-09 09:00:00",
          "main": {
           "feels_like": 2.29,
           "grnd_level": 1000,
           "humidity": 83,
           "pressure": 1003,
           "sea_level": 1003,
           "temp": 4.78,
           "temp_kf": 0,
           "temp_max": 4.78,
           "temp_min": 4.78
          },
          "pop": 0,
          "sys": {
           "pod": "d"
          },
          "visibility": 10000,
          "weather": [
           {
            "description": "broken clouds",
            "icon": "04d",
            "id": 803,
            "main": "Clouds"
           }
          ],
          "wind": {
           "deg": 3,
           "gust": 8.38,
           "speed": 2.93
          }
         },
         {
          "clouds": {
           "all": 64
          },
          "dt": 1639051200,
          "dt_txt": "2021-12-09 12:00:00",
          "main": {
           "feels_like": 3.08,
           "grnd_level": 1001,
           "humidity": 77,
           "pressure": 1004,
           "sea_level": 1004,
           "temp": 5.93,
           "temp_kf": 0,
           "temp_max": 5.93,
           "temp_min": 5.93
          },
          "pop": 0,
          "sys": {
           "pod": "d"
          },
          "visibility": 10000,
          "weather": [
           {
            "description": "broken clouds",
            "icon": "04d",
            "id": 803,
            "main": "Clouds"
           }
          ],
          "wind": {
           "deg": 2,
           "gust": 6.99,
           "speed": 3.86
          }
         },
         {
          "clouds": {
           "all": 16
          },
          "dt": 1639062000,
          "dt_txt": "2021-12-09 15:00:00",
          "main": {
           "feels_like": 2.95,
           "grnd_level": 1002,
           "humidity": 77,
           "pressure": 1005,
           "sea_level": 1005,
           "temp": 5.44,
           "temp_kf": 0,
           "temp_max": 5.44,
           "temp_min": 5.44
          },
          "pop": 0,
          "sys": {
           "pod": "d"
          },
          "visibility": 10000,
          "weather": [
           {
            "description": "few clouds",
            "icon": "02d",
            "id": 801,
            "main": "Clouds"
           }
          ],
          "wind": {
           "deg": 1,
           "gust": 6.04,
           "speed": 3.12
          }
         },
         {
          "clouds": {
           "all": 17
          },
          "dt": 1639072800,
          "dt_txt": "2021-12-09 18:00:00",
          "main": {
           "feels_like": 1.79,
           "grnd_level": 1003,
           "humidity": 82,
           "pressure": 1006,
           "sea_level": 1006,
           "temp": 3.86,
           "temp_kf": 0,
           "temp_max": 3.86,
           "temp_min": 3.86
          },
          "pop": 0,
          "sys": {
           "pod": "n"
          },
          "visibility": 10000,
          "weather": [
           {
            "description": "few clouds",
            "icon": "02n",
            "id": 801,
            "main": "Clouds"
           }
          ],
          "wind": {
           "deg": 349,
           "gust": 6.22,
           "speed": 2.24
          }
         },
         {
          "clouds": {
           "all": 16
          },
          "dt": 1639083600,
          "dt_txt": "2021-12-09 21:00:00",
          "main": {
           "feels_like": 1.26,
           "grnd_level": 1002,
           "humidity": 88,
           "pressure": 1005,
           "sea_level": 1005,
           "temp": 2.89,
           "temp_kf": 0,
           "temp_max": 2.89,
           "temp_min": 2.89
          },
          "pop": 0,
          "sys": {
           "pod": "n"
          },
          "visibility": 10000,
          "weather": [
           {
            "description": "few clouds",
            "icon": "02n",
            "id": 801,
            "main": "Clouds"
           }
          ],
          "wind": {
           "deg": 325,
           "gust": 4.44,
           "speed": 1.71
          }
         },
         {
          "clouds": {
           "all": 32
          },
          "dt": 1639094400,
          "dt_txt": "2021-12-10 00:00:00",
          "main": {
           "feels_like": 2.22,
           "grnd_level": 1001,
           "humidity": 89,
           "pressure": 1004,
           "sea_level": 1004,
           "temp": 2.22,
           "temp_kf": 0,
           "temp_max": 2.22,
           "temp_min": 2.22
          },
          "pop": 0,
          "sys": {
           "pod": "n"
          },
          "visibility": 10000,
          "weather": [
           {
            "description": "scattered clouds",
            "icon": "03n",
            "id": 802,
            "main": "Clouds"
           }
          ],
          "wind": {
           "deg": 316,
           "gust": 1.53,
           "speed": 1.24
          }
         },
         {
          "clouds": {
           "all": 100
          },
          "dt": 1639105200,
          "dt_txt": "2021-12-10 03:00:00",
          "main": {
           "feels_like": 1.92,
           "grnd_level": 1000,
           "humidity": 88,
           "pressure": 1003,
           "sea_level": 1003,
           "temp": 1.92,
           "temp_kf": 0,
           "temp_max": 1.92,
           "temp_min": 1.92
          },
          "pop": 0,
          "sys": {
           "pod": "n"
          },
          "visibility": 10000,
          "weather": [
           {
            "description": "overcast clouds",
            "icon": "04n",
            "id": 804,
            "main": "Clouds"
           }
          ],
          "wind": {
           "deg": 325,
           "gust": 1.14,
           "speed": 1.09
          }
         },
         {
          "clouds": {
           "all": 100
          },
          "dt": 1639116000,
          "dt_txt": "2021-12-10 06:00:00",
          "main": {
           "feels_like": 1.63,
           "grnd_level": 999,
           "humidity": 87,
           "pressure": 1003,
           "sea_level": 1003,
           "temp": 1.63,
           "temp_kf": 0,
           "temp_max": 1.63,
           "temp_min": 1.63
          },
          "pop": 0,
          "sys": {
           "pod": "n"
          },
          "visibility": 10000,
          "weather": [
           {
            "description": "overcast clouds",
            "icon": "04n",
            "id": 804,
            "main": "Clouds"
           }
          ],
          "wind": {
           "deg": 8,
           "gust": 1.78,
           "speed": 1.29
          }
         },
         {
          "clouds": {
           "all": 99
          },
          "dt": 1639126800,
          "dt_txt": "2021-12-10 09:00:00",
          "main": {
           "feels_like": 0.34,
           "grnd_level": 1000,
           "humidity": 86,
           "pressure": 1004,
           "sea_level": 1004,
           "temp": 1.67,
           "temp_kf": 0,
           "temp_max": 1.67,
           "temp_min": 1.67
          },
          "pop": 0,
          "sys": {
           "pod": "d"
          },
          "visibility": 10000,
          "weather": [
           {
            "description": "overcast clouds",
            "icon": "04d",
            "id": 804,
            "main": "Clouds"
           }
          ],
          "wind": {
           "deg": 336,
           "gust": 3.69,
           "speed": 1.38
          }
         },
         {
          "clouds": {
           "all": 71
          },
          "dt": 1639137600,
          "dt_txt": "2021-12-10 12:00:00",
          "main": {
           "feels_like": 1.27,
           "grnd_level": 1002,
           "humidity": 70,
           "pressure": 1005,
           "sea_level": 1005,
           "temp": 4.13,
           "temp_kf": 0,
           "temp_max": 4.13,
           "temp_min": 4.13
          },
          "pop": 0,
          "sys": {
           "pod": "d"
          },
          "visibility": 10000,
          "weather": [
           {
            "description": "broken clouds",
            "icon": "04d",
            "id": 803,
            "main": "Clouds"
           }
          ],
          "wind": {
           "deg": 343,
           "gust": 6.78,
           "speed": 3.26
          }
         }
        ],
        "message": 0
       },
       {
        "city": {
         "coord": {
          "lat": 59.8944,
          "lon": 30.2642
         },
         "country": "RU",
         "id": 498817,
         "name": "Saint Petersburg",
         "population": 4953219,
         "sunrise": 1638686448,
         "sunset": 1638709122,
         "timezone": 10800
        },
        "cnt": 40,
        "cod": "200",
        "list": [
         {
          "clouds": {
           "all": 43
          },
          "dt": 1638716400,
          "dt_txt": "2021-12-05 15:00:00",
          "main": {
           "feels_like": -22.09,
           "grnd_level": 1021,
           "humidity": 85,
           "pressure": 1020,
           "sea_level": 1020,
           "temp": -16.96,
           "temp_kf": 1.99,
           "temp_max": -16.96,
           "temp_min": -18.95
          },
          "pop": 0,
          "sys": {
           "pod": "n"
          },
          "visibility": 10000,
          "weather": [
           {
            "description": "scattered clouds",
            "icon": "03n",
            "id": 802,
            "main": "Clouds"
           }
          ],
          "wind": {
           "deg": 78,
           "gust": 5.18,
           "speed": 1.94
          }
         },
         {
          "clouds": {
           "all": 37
          },
          "dt": 1638727200,
          "dt_txt": "2021-12-05 18:00:00",
          "main": {
           "feels_like": -24.37,
           "grnd_level": 1022,
           "humidity": 91,
           "pressure": 1022,
           "sea_level": 1022,
           "temp": -18.87,
           "temp_kf": 1.45,
           "temp_max": -18.87,
           "temp_min": -20.32
          },
          "pop": 0,
          "sys": {
           "pod": "n"
          },
          "visibility": 10000,
          "weather": [
           {
            "description": "scattered clouds",
            "icon": "03n",
            "id": 802,
            "main": "Clouds"
           }
          ],
          "wind": {
           "deg": 69,
           "gust": 5.4,
           "speed": 1.97
          }
         },
         {
          "clouds": {
           "all": 16
          },
          "dt": 1638738000,
          "dt_txt": "2021-12-05 21:00:00",
          "main": {
           "feels_like": -26.76,
           "grnd_level": 1023,
           "humidity": 98,
           "pressure": 1024,
           "sea_level": 1024,
           "temp": -21.3,
           "temp_kf": 0,
           "temp_max": -21.3,
           "temp_min": -21.3
          },
          "pop": 0,
          "sys": {
           "pod": "n"
          },
          "visibility": 10000,
          "weather": [
           {
            "description": "few clouds",
            "icon": "02n",
            "id": 801,
            "main": "Clouds"
           }
          ],
          "wind": {
           "deg": 72,
           "gust": 4.88,
           "speed": 1.78
          }
         },
         {
          "clouds": {
           "all": 19
          },
          "dt": 1638748800,
          "dt_txt": "2021-12-06 00:00:00",
          "main": {
           "feels_like": -27.72,
           "grnd_level": 1023,
           "humidity": 99,
           "pressure": 1025,
           "sea_level": 1025,
           "temp": -22.21,
           "temp_kf": 0,
           "temp_max": -22.21,
           "temp_min": -22.21
          },
          "pop": 0,
          "sys": {
           "pod": "n"
          },
          "visibility": 10000,
          "weather": [
           {
            "description": "few clouds",
            "icon": "02n",
            "id": 801,
            "main": "Clouds"
           }
          ],
          "wind": {
           "deg": 82,
           "gust": 3.65,
           "speed": 1.74
          }
         },
         {
          "clouds": {
           "all": 25
          },
          "dt": 1638759600,
          "dt_txt": "2021-12-06 03:00:00",
          "main": {
           "feels_like": -28.39,
           "grnd_level": 1023,
           "humidity": 99,
           "pressure": 1024,
           "sea_level": 1024,
           "temp": -22.54,
           "temp_kf": 0,
           "temp_max": -22.54,
           "temp_min": -22.54
          },
          "pop": 0,
          "sys": {
           "pod": "n"
          },
          "visibility": 10000,
          "weather": [
           {
            "description": "scattered clouds",
            "icon": "03n",
            "id": 802,
            "main": "Clouds"
           }
          ],
          "wind": {
           "deg": 81,
           "gust": 4.66,
           "speed": 1.86
          }
         },
         {
          "clouds": {
           "all": 20
          },
          "dt": 1638770400,
          "dt_txt": "2021-12-06 06:00:00",
          "main": {
           "feels_like": -28.91,
           "grnd_level": 1023,
           "humidity": 98,
           "pressure": 1024,
           "sea_level": 1024,
           "temp": -22.67,
           "temp_kf": 0,
           "temp_max": -22.67,
           "temp_min": -22.67
          },
          "pop": 0,
          "sys": {
           "pod": "n"
          },
          "visibility": 10000,
          "weather": [
           {
            "description": "few clouds",
            "icon": "02n",
            "id": 801,
            "main": "Clouds"
           }
          ],
          "wind": {
           "deg": 84,
           "gust": 5.35,
           "speed": 2.02
          }
         },
         {
          "clouds": {
           "all": 16
          },
          "dt": 1638781200,
          "dt_txt": "2021-12-06 09:00:00",
          "main": {
           "feels_like": -25.08,
           "grnd_level": 1022,
           "humidity": 94,
           "pressure": 1024,
           "sea_level": 1024,
           "temp": -19.16,
           "temp_kf": 0,
           "temp_max": -19.16,
           "temp_min": -19.16
          },
          "pop": 0,
          "sys": {
           "pod": "d"
          },
          "visibility": 10000,
          "weather": [
           {
            "description": "few clouds",
            "icon": "02d",
            "id": 801,
            "main": "Clouds"
           }
          ],
          "wind": {
           "deg": 79,
           "gust": 5.87,
           "speed": 2.15
          }
         },
         {
          "clouds": {
           "all": 20
          },
          "dt": 1638792000,
          "dt_txt": "2021-12-06 12:00:00",
          "main": {
           "feels_like": -23.34,
           "grnd_level": 1021,
           "humidity": 96,
           "pressure": 1023,
           "sea_level": 1023,
           "temp": -18,
           "temp_kf": 0,
           "temp_max": -18,
           "temp_min": -18
          },
          "pop": 0,
          "sys": {
           "pod": "d"
          },
          "visibility": 10000,
          "weather": [
           {
            "description": "few clouds",
            "icon": "02d",
            "id": 801,
            "main": "Clouds"
           }
          ],
          "wind": {
           "deg": 64,
           "gust": 4.18,
           "speed": 1.96
          }
         },
         {
          "clouds": {
           "all": 85
          },
          "dt": 1638802800,
          "dt_txt": "2021-12-06 15:00:00",
          "main": {
           "feels_like": -21.71,
           "grnd_level": 1020,
           "humidity": 97,
           "pressure": 1022,
           "sea_level": 1022,
           "temp": -16.33,
           "temp_kf": 0,
           "temp_max": -16.33,
           "temp_min": -16.33
          },
          "pop": 0,
          "sys": {
           "pod": "n"
          },
          "visibility": 1890,
          "weather": [
           {
            "description": "overcast clouds",
            "icon": "04n",
            "id": 804,
            "main": "Clouds"
           }
          ],
          "wind": {
           "deg": 70,
           "gust": 5.53,
           "speed": 2.12
          }
         },
         {
          "clouds": {
           "all": 89
          },
          "dt": 1638813600,
          "dt_txt": "2021-12-06 18:00:00",
          "main": {
           "feels_like": -19.76,
           "grnd_level": 1019,
           "humidity": 97,
           "pressure": 1021,
           "sea_level": 1021,
           "temp": -15.33,
           "temp_kf": 0,
           "temp_max": -15.33,
           "temp_min": -15.33
          },
          "pop": 0,
          "sys": {
           "pod": "n"
          },
          "visibility": 1145,
          "weather": [
           {
            "description": "overcast clouds",
            "icon": "04n",
            "id": 804,
            "main": "Clouds"
           }
          ],
          "wind": {
           "deg": 66,
           "gust": 4.26,
           "speed": 1.73
          }
         },
         {
          "clouds": {
           "all": 100
          },
          "dt": 1638824400,
          "dt_txt": "2021-12-06 21:00:00",
          "main": {
           "feels_like": -18.64,
           "grnd_level": 1018,
           "humidity": 97,
           "pressure": 1019,
           "sea_level": 1019,
           "temp": -14.6,
           "temp_kf": 0,
           "temp_max": -14.6,
           "temp_min": -14.6
          },
          "pop": 0,
          "sys": {
           "pod": "n"
          },
          "visibility": 1396,
          "weather": [
           {
            "description": "overcast clouds",
            "icon": "04n",
            "id": 804,
            "main": "Clouds"
           }
          ],
          "wind": {
           "deg": 49,
           "gust": 3.51,
           "speed": 1.6
          }
         },
         {
          "clouds": {
           "all": 99
          },
          "dt": 1638835200,
          "dt_txt": "2021-12-07 00:00:00",
          "main": {
           "feels_like": -14.28,
           "grnd_level": 1017,
           "humidity": 98,
           "pressure": 1018,
           "sea_level": 1018,
           "temp": -14.28,
           "temp_kf": 0,
           "temp_max": -14.28,
           "temp_min": -14.28
          },
          "pop": 0.2,
          "snow": {
           "3h": 0.15
          },
          "sys": {
           "pod": "n"
          },
          "visibility": 637,
          "weather": [
           {
            "description": "light snow",
            "icon": "13n",
            "id": 600,
            "main": "Snow"
           }
          ],
          "wind": {
           "deg": 39,
           "gust": 2.98,
           "speed": 1.3
          }
         },
         {
          "clouds": {
           "all": 100
          },
          "dt": 1638846000,
          "dt_txt": "2021-12-07 03:00:00",
          "main": {
           "feels_like": -14,
           "grnd_level": 1015,
           "humidity": 98,
           "pressure": 1017,
           "sea_level": 1017,
           "temp": -14,
           "temp_kf": 0,
           "temp_max": -14,
           "temp_min": -14
          },
          "pop": 0.27,
          "snow": {
           "3h": 0.13
          },
          "sys": {
           "pod": "n"
          },
          "visibility": 925,
          "weather": [
           {
            "description": "light snow",
            "icon": "13n",
            "id": 600,
            "main": "Snow"
           }
          ],
          "wind": {
           "deg": 22,
           "gust": 2.17,
           "speed": 1.33
          }
         },
         {
          "clouds": {
           "all": 100
          },
          "dt": 1638856800,
          "dt_txt": "2021-12-07 06:00:00",
          "main": {
           "feels_like": -13.24,
           "grnd_level": 1014,
           "humidity": 98,
           "pressure": 1016,
           "sea_level": 1016,
           "temp": -13.24,
           "temp_kf": 0,
           "temp_max": -13.24,
           "temp_min": -13.24
          },
          "pop": 0.27,
          "snow": {
           "3h": 0.13
          },
          "sys": {
           "pod": "n"
          },
          "visibility": 1607,
          "weather": [
           {
            "description": "light snow",
            "icon": "13n",
            "id": 600,
            "main": "Snow"
           }
          ],
          "wind": {
           "deg": 356,
           "gust": 1.81,
           "speed": 1.3
          }
         },
         {
          "clouds": {
           "all": 99
          },
          "dt": 1638867600,
          "dt_txt": "2021-12-07 09:00:00",
          "main": {
           "feels_like": -11.03,
           "grnd_level": 1014,
           "humidity": 96,
           "pressure": 1015,
           "sea_level": 1015,
           "temp": -11.03,
           "temp_kf": 0,
           "temp_max": -11.03,
           "temp_min": -11.03
          },
          "pop": 0.11,
          "sys": {
           "pod": "d"
          },
          "visibility": 1277,
          "weather": [
           {
            "description": "overcast clouds",
            "icon": "04d",
            "id": 804,
            "main": "Clouds"
           }
          ],
          "wind": {
           "deg": 334,
           "gust": 2,
           "speed": 1.15
          }
         },
         {
          "clouds": {
           "all": 95
          },
          "dt": 1638878400,
          "dt_txt": "2021-12-07 12:00:00",
          "main": {
           "feels_like": -14.03,
           "grnd_level": 1013,
           "humidity": 98,
           "pressure": 1014,
           "sea_level": 1014,
           "temp": -10.27,
           "temp_kf": 0,
           "temp_max": -10.27,
           "temp_min": -10.27
          },
          "pop": 0.07,
          "sys": {
           "pod": "d"
          },
          "visibility": 2268,
          "weather": [
           {
            "description": "overcast clouds",
            "icon": "04d",
            "id": 804,
            "main": "Clouds"
           }
          ],
          "wind": {
           "deg": 301,
           "gust": 2.95,
           "speed": 1.78
          }
         },
         {
          "clouds": {
           "all": 93
          },
          "dt": 1638889200,
          "dt_txt": "2021-12-07 15:00:00",
          "main": {
           "feels_like": -14.61,
           "grnd_level": 1012,
           "humidity": 96,
           "pressure": 1014,
           "sea_level": 1014,
           "temp": -9.33,
           "temp_kf": 0,
           "temp_max": -9.33,
           "temp_min": -9.33
          },
          "pop": 0.09,
          "sys": {
           "pod": "n"
          },
          "visibility": 1689,
          "weather": [
           {
            "description": "overcast clouds",
            "icon": "04n",
            "id": 804,
            "main": "Clouds"
           }
          ],
          "wind": {
           "deg": 321,
           "gust": 6.6,
           "speed": 2.92
          }
         },
         {
          "clouds": {
           "all": 93
          },
          "dt": 1638900000,
          "dt_txt": "2021-12-07 18:00:00",
          "main": {
           "feels_like": -16.54,
           "grnd_level": 1013,
           "humidity": 96,
           "pressure": 1014,
           "sea_level": 1014,
           "temp": -11.01,
           "temp_kf": 0,
           "temp_max": -11.01,
           "temp_min": -11.01
          },
          "pop": 0.09,
          "sys": {
           "pod": "n"
          },
          "visibility": 5560,
          "weather": [
           {
            "description": "overcast clouds",
            "icon": "04n",
            "id": 804,
            "main": "Clouds"
           }
          ],
          "wind": {
           "deg": 307,
           "gust": 6.28,
           "speed": 2.85
          }
         },
         {
          "clouds": {
           "all": 91
          },
          "dt": 1638910800,
          "dt_txt": "2021-12-07 21:00:00",
          "main": {
           "feels_like": -19.37,
           "grnd_level": 1013,
           "humidity": 97,
           "pressure": 1015,
           "sea_level": 1015,
           "temp": -13.24,
           "temp_kf": 0,
           "temp_max": -13.24,
           "temp_min": -13.24
          },
          "pop": 0.03,
          "sys": {
           "pod": "n"
          },
          "visibility": 7440,
          "weather": [
           {
            "description": "overcast clouds",
            "icon": "04n",
            "id": 804,
            "main": "Clouds"
           }
          ],
          "wind": {
           "deg": 299,
           "gust": 6.45,
           "speed": 2.97
          }
         },
         {
          "clouds": {
           "all": 84
          },
          "dt": 1638921600,
          "dt_txt": "2021-12-08 00:00:00",
          "main": {
           "feels_like": -20.64,
           "grnd_level": 1013,
           "humidity": 97,
           "pressure": 1015,
           "sea_level": 1015,
           "temp": -14.57,
           "temp_kf": 0,
           "temp_max": -14.57,
           "temp_min": -14.57
          },
          "pop": 0.02,
          "sys": {
           "pod": "n"
          },
          "visibility": 7129,
          "weather": [
           {
            "description": "broken clouds",
            "icon": "04n",
            "id": 803,
            "main": "Clouds"
           }
          ],
          "wind": {
           "deg": 297,
           "gust": 6.13,
           "speed": 2.74
          }
         },
         {
          "clouds": {
           "all": 77
          },
          "dt": 1638932400,
          "dt_txt": "2021-12-08 03:00:00",
          "main": {
           "feels_like": -21.49,
           "grnd_level": 1014,
           "humidity": 98,
           "pressure": 1015,
           "sea_level": 1015,
           "temp": -15.6,
           "temp_kf": 0,
           "temp_max": -15.6,
           "temp_min": -15.6
          },
          "pop": 0.02,
          "sys": {
           "pod": "n"
          },
          "visibility": 6996,
          "weather": [
           {
            "description": "broken clouds",
            "icon": "04n",
            "id": 803,
            "main": "Clouds"
           }
          ],
          "wind": {
           "deg": 292,
           "gust": 5.37,
           "speed": 2.49
          }
         },
         {
          "clouds": {
           "all": 74
          },
          "dt": 1638943200,
          "dt_txt": "2021-12-08 06:00:00",
          "main": {
           "feels_like": -21.89,
           "grnd_level": 1015,
           "humidity": 98,
           "pressure": 1016,
           "sea_level": 1016,
           "temp": -15.9,
           "temp_kf": 0,
           "temp_max": -15.9,
           "temp_min": -15.9
          },
          "pop": 0,
          "sys": {
           "pod": "n"
          },
          "visibility": 6495,
          "weather": [
           {
            "description": "broken clouds",
            "icon": "04n",
            "id": 803,
            "main": "Clouds"
           }
          ],
          "wind": {
           "deg": 297,
           "gust": 5.83,
           "speed": 2.52
          }
         },
         {
          "clouds": {
           "all": 71
          },
          "dt": 1638954000,
          "dt_txt": "2021-12-08 09:00:00",
          "main": {
           "feels_like": -19.3,
           "grnd_level": 1016,
           "humidity": 97,
           "pressure": 1017,
           "sea_level": 1017,
           "temp": -13.87,
           "temp_kf": 0,
           "temp_max": -13.87,
           "temp_min": -13.87
          },
          "pop": 0,
          "sys": {
           "pod": "d"
          },
          "visibility": 10000,
          "weather": [
           {
            "description": "broken clouds",
            "icon": "04d",
            "id": 803,
            "main": "Clouds"
           }
          ],
          "wind": {
           "deg": 302,
           "gust": 5.91,
           "speed": 2.4
          }
         },
         {
          "clouds": {
           "all": 56
          },
          "dt": 1638964800,
          "dt_txt": "2021-12-08 12:00:00",
          "main": {
           "feels_like": -18.58,
           "grnd_level": 1017,
           "humidity": 98,
           "pressure": 1019,
           "sea_level": 1019,
           "temp": -14.28,
           "temp_kf": 0,
           "temp_max": -14.28,
           "temp_min": -14.28
          },
          "pop": 0,
          "sys": {
           "pod": "d"
          },
          "visibility": 10000,
          "weather": [
           {
            "description": "broken clouds",
            "icon": "04d",
            "id": 803,
            "main": "Clouds"
           }
          ],
          "wind": {
           "deg": 284,
           "gust": 2.67,
           "speed": 1.74
          }
         },
         {
          "clouds": {
           "all": 62
          },
          "dt": 1638975600,
          "dt_txt": "2021-12-08 15:00:00",
          "main": {
           "feels_like": -22.42,
           "grnd_level": 1018,
           "humidity": 100,
           "pressure": 1020,
           "sea_level": 1020,
           "temp": -18.03,
           "temp_kf": 0,
           "temp_max": -18.03,
           "temp_min": -18.03
          },
          "pop": 0,
          "sys": {
           "pod": "n"
          },
          "visibility": 6725,
          "weather": [
           {
            "description": "broken clouds",
            "icon": "04n",
            "id": 803,
            "main": "Clouds"
           }
          ],
          "wind": {
           "deg": 298,
           "gust": 1.51,
           "speed": 1.54
          }
         },
         {
          "clouds": {
           "all": 63
          },
          "dt": 1638986400,
          "dt_txt": "2021-12-08 18:00:00",
          "main": {
           "feels_like": -23.4,
           "grnd_level": 1019,
           "humidity": 100,
           "pressure": 1021,
           "sea_level": 1021,
           "temp": -19.17,
           "temp_kf": 0,
           "temp_max": -19.17,
           "temp_min": -19.17
          },
          "pop": 0,
          "sys": {
           "pod": "n"
          },
          "visibility": 7924,
          "weather": [
           {
            "description": "broken clouds",
            "icon": "04n",
            "id": 803,
            "main": "Clouds"
           }
          ],
          "wind": {
           "deg": 295,
           "gust": 1.42,
           "speed": 1.42
          }
         },
         {
          "clouds": {
           "all": 75
          },
          "dt": 1638997200,
          "dt_txt": "2021-12-08 21:00:00",
          "main": {
           "feels_like": -19.71,
           "grnd_level": 1021,
           "humidity": 100,
           "pressure": 1022,
           "sea_level": 1022,
           "temp": -19.71,
           "temp_kf": 0,
           "temp_max": -19.71,
           "temp_min": -19.71
          },
          "pop": 0,
          "sys": {
           "pod": "n"
          },
          "visibility": 8192,
          "weather": [
           {
            "description": "broken clouds",
            "icon": "04n",
            "id": 803,
            "main": "Clouds"
           }
          ],
          "wind": {
           "deg": 283,
           "gust": 1.08,
           "speed": 0.98
          }
         },
         {
          "clouds": {
           "all": 86
          },
          "dt": 1639008000,
          "dt_txt": "2021-12-09 00:00:00",
          "main": {
           "feels_like": -18.84,
           "grnd_level": 1021,
           "humidity": 100,
           "pressure": 1023,
           "sea_level": 1023,
           "temp": -18.84,
           "temp_kf": 0,
           "temp_max": -18.84,
           "temp_min": -18.84
          },
          "pop": 0,
          "sys": {
           "pod": "n"
          },
          "visibility": 10000,
          "weather": [
           {
            "description": "overcast clouds",
            "icon": "04n",
            "id": 804,
            "main": "Clouds"
           }
          ],
          "wind": {
           "deg": 291,
           "gust": 1.18,
           "speed": 1.16
          }
         },
         {
          "clouds": {
           "all": 85
          },
          "dt": 1639018800,
          "dt_txt": "2021-12-09 03:00:00",
          "main": {
           "feels_like": -19.76,
           "grnd_level": 1022,
           "humidity": 100,
           "pressure": 1023,
           "sea_level": 1023,
           "temp": -19.76,
           "temp_kf": 0,
           "temp_max": -19.76,
           "temp_min": -19.76
          },
          "pop": 0,
          "sys": {
           "pod": "n"
          },
          "visibility": 10000,
          "weather": [
           {
            "description": "overcast clouds",
            "icon": "04n",
            "id": 804,
            "main": "Clouds"
           }
          ],
          "wind": {
           "deg": 280,
           "gust": 0.7,
           "speed": 0.63
          }
         },
         {
          "clouds": {
           "all": 73
          },
          "dt": 1639029600,
          "dt_txt": "2021-12-09 06:00:00",
          "main": {
           "feels_like": -20.3,
           "grnd_level": 1022,
           "humidity": 100,
           "pressure": 1024,
           "sea_level": 1024,
           "temp": -20.3,
           "temp_kf": 0,
           "temp_max": -20.3,
           "temp_min": -20.3
          },
          "pop": 0,
          "sys": {
           "pod": "n"
          },
          "visibility": 8660,
          "weather": [
           {
            "description": "broken clouds",
            "icon": "04n",
            "id": 803,
            "main": "Clouds"
           }
          ],
          "wind": {
           "deg": 314,
           "gust": 0.49,
           "speed": 0.23
          }
         },
         {
          "clouds": {
           "all": 56
          },
          "dt": 1639040400,
          "dt_txt": "2021-12-09 09:00:00",
          "main": {
           "feels_like": -16.39,
           "grnd_level": 1023,
           "humidity": 97,
           "pressure": 1025,
           "sea_level": 1025,
           "temp": -16.39,
           "temp_kf": 0,
           "temp_max": -16.39,
           "temp_min": -16.39
          },
          "pop": 0,
          "sys": {
           "pod": "d"
          },
          "visibility": 10000,
          "weather": [
           {
            "description": "broken clouds",
            "icon": "04d",
            "id": 803,
            "main": "Clouds"
           }
          ],
          "wind": {
           "deg": 325,
           "gust": 0.55,
           "speed": 0.54
          }
         },
         {
          "clouds": {
           "all": 39
          },
          "dt": 1639051200,
          "dt_txt": "2021-12-09 12:00:00",
          "main": {
           "feels_like": -16.2,
           "grnd_level": 1023,
           "humidity": 98,
           "pressure": 1025,
           "sea_level": 1025,
           "temp": -16.2,
           "temp_kf": 0,
           "temp_max": -16.2,
           "temp_min": -16.2
          },
          "pop": 0,
          "sys": {
           "pod": "d"
          },
          "visibility": 10000,
          "weather": [
           {
            "description": "scattered clouds",
            "icon": "03d",
            "id": 802,
            "main": "Clouds"
           }
          ],
          "wind": {
           "deg": 285,
           "gust": 0.58,
           "speed": 0.51
          }
         },
         {
          "clouds": {
           "all": 36
          },
          "dt": 1639062000,
          "dt_txt": "2021-12-09 15:00:00",
          "main": {
           "feels_like": -18.92,
           "grnd_level": 1024,
           "humidity": 99,
           "pressure": 1025,
           "sea_level": 1025,
           "temp": -18.92,
           "temp_kf": 0,
           "temp_max": -18.92,
           "temp_min": -18.92
          },
          "pop": 0,
          "sys": {
           "pod": "n"
          },
          "visibility": 9014,
          "weather": [
           {
            "description": "scattered clouds",
            "icon": "03n",
            "id": 802,
            "main": "Clouds"
           }
          ],
          "wind": {
           "deg": 317,
           "gust": 0.66,
           "speed": 0.56
          }
         },
         {
          "clouds": {
           "all": 57
          },
          "dt": 1639072800,
          "dt_txt": "2021-12-09 18:00:00",
          "main": {
           "feels_like": -16.76,
           "grnd_level": 1024,
           "humidity": 98,
           "pressure": 1025,
           "sea_level": 1025,
           "temp": -16.76,
           "temp_kf": 0,
           "temp_max": -16.76,
           "temp_min": -16.76
          },
          "pop": 0,
          "sys": {
           "pod": "n"
          },
          "visibility": 10000,
          "weather": [
           {
            "description": "broken clouds",
            "icon": "04n",
            "id": 803,
            "main": "Clouds"
           }
          ],
          "wind": {
           "deg": 59,
           "gust": 0.45,
           "speed": 0.38
          }
         },
         {
          "clouds": {
           "all": 86
          },
          "dt": 1639083600,
          "dt_txt": "2021-12-09 21:00:00",
          "main": {
           "feels_like": -18.09,
           "grnd_level": 1025,
           "humidity": 100,
           "pressure": 1027,
           "sea_level": 1027,
           "temp": -18.09,
           "temp_kf": 0,
           "temp_max": -18.09,
           "temp_min": -18.09
          },
          "pop": 0,
          "sys": {
           "pod": "n"
          },
          "visibility": 2953,
          "weather": [
           {
            "description": "overcast clouds",
            "icon": "04n",
            "id": 804,
            "main": "Clouds"
           }
          ],
          "wind": {
           "deg": 223,
           "gust": 0.89,
           "speed": 0.85
          }
         },
         {
          "clouds": {
           "all": 93
          },
          "dt": 1639094400,
          "dt_txt": "2021-12-10 00:00:00",
          "main": {
           "feels_like": -17.66,
           "grnd_level": 1024,
           "humidity": 100,
           "pressure": 1026,
           "sea_level": 1026,
           "temp": -17.66,
           "temp_kf": 0,
           "temp_max": -17.66,
           "temp_min": -17.66
          },
          "pop": 0,
          "sys": {
           "pod": "n"
          },
          "visibility": 5559,
          "weather": [
           {
            "description": "overcast clouds",
            "icon": "04n",
            "id": 804,
            "main": "Clouds"
           }
          ],
          "wind": {
           "deg": 100,
           "gust": 1.02,
           "speed": 0.97
          }
         },
         {
          "clouds": {
           "all": 100
          },
          "dt": 1639105200,
          "dt_txt": "2021-12-10 03:00:00",
          "main": {
           "feels_like": -17.7,
           "grnd_level": 1025,
           "humidity": 98,
           "pressure": 1026,
           "sea_level": 1026,
           "temp": -14.31,
           "temp_kf": 0,
           "temp_max": -14.31,
           "temp_min": -14.31
          },
          "pop": 0,
          "sys": {
           "pod": "n"
          },
          "visibility": 6611,
          "weather": [
           {
            "description": "overcast clouds",
            "icon": "04n",
            "id": 804,
            "main": "Clouds"
           }
          ],
          "wind": {
           "deg": 71,
           "gust": 2.09,
           "speed": 1.35
          }
         },
         {
          "clouds": {
           "all": 100
          },
          "dt": 1639116000,
          "dt_txt": "2021-12-10 06:00:00",
          "main": {
           "feels_like": -17.27,
           "grnd_level": 1025,
           "humidity": 96,
           "pressure": 1026,
           "sea_level": 1026,
           "temp": -12.81,
           "temp_kf": 0,
           "temp_max": -12.81,
           "temp_min": -12.81
          },
          "pop": 0,
          "sys": {
           "pod": "n"
          },
          "visibility": 10000,
          "weather": [
           {
            "description": "overcast clouds",
            "icon": "04n",
            "id": 804,
            "main": "Clouds"
           }
          ],
          "wind": {
           "deg": 81,
           "gust": 6.31,
           "speed": 1.94
          }
         },
         {
          "clouds": {
           "all": 100
          },
          "dt": 1639126800,
          "dt_txt": "2021-12-10 09:00:00",
          "main": {
           "feels_like": -16.51,
           "grnd_level": 1025,
           "humidity": 92,
           "pressure": 1026,
           "sea_level": 1026,
           "temp": -10.92,
           "temp_kf": 0,
           "temp_max": -10.92,
           "temp_min": -10.92
          },
          "pop": 0,
          "sys": {
           "pod": "d"
          },
          "visibility": 10000,
          "weather": [
           {
            "description": "overcast clouds",
            "icon": "04d",
            "id": 804,
            "main": "Clouds"
           }
          ],
          "wind": {
           "deg": 83,
           "gust": 9.13,
           "speed": 2.91
          }
         },
         {
          "clouds": {
           "all": 99
          },
          "dt": 1639137600,
          "dt_txt": "2021-12-10 12:00:00",
          "main": {
           "feels_like": -15.63,
           "grnd_level": 1024,
           "humidity": 90,
           "pressure": 1026,
           "sea_level": 1026,
           "temp": -9.56,
           "temp_kf": 0,
           "temp_max": -9.56,
           "temp_min": -9.56
          },
          "pop": 0,
          "sys": {
           "pod": "d"
          },
          "visibility": 10000,
          "weather": [
           {
            "description": "overcast clouds",
            "icon": "04d",
            "id": 804,
            "main": "Clouds"
           }
          ],
          "wind": {
           "deg": 74,
           "gust": 10.11,
           "speed": 3.59
          }
         }
        ],
        "message": 0
       },
       {
        "city": {
         "coord": {
          "lat": 52.5244,
          "lon": 13.4105
         },
         "country": "DE",
         "id": 2950159,
         "name": "Berlin",
         "population": 1000000,
         "sunrise": 1638687614,
         "sunset": 1638716047,
         "timezone": 3600
        },
        "cnt": 40,
        "cod": "200",
        "list": [
         {
          "clouds": {
           "all": 83
          },
          "dt": 1638716400,
          "dt_txt": "2021-12-05 15:00:00",
          "main": {
           "feels_like": -1.01,
           "grnd_level": 1001,
           "humidity": 92,
           "pressure": 999,
           "sea_level": 999,
           "temp": 1.25,
           "temp_kf": 0.43,
           "temp_max": 1.25,
           "temp_min": 0.82
          },
          "pop": 0.01,
          "sys": {
           "pod": "n"
          },
          "visibility": 10000,
          "weather": [
           {
            "description": "broken clouds",
            "icon": "04n",
            "id": 803,
            "main": "Clouds"
           }
          ],
          "wind": {
           "deg": 38,
           "gust": 3.63,
           "speed": 2.01
          }
         },
         {
          "clouds": {
           "all": 92
          },
          "dt": 1638727200,
          "dt_txt": "2021-12-05 18:00:00",
          "main": {
           "feels_like": -1.83,
           "grnd_level": 1003,
           "humidity": 92,
           "pressure": 1004,
           "sea_level": 1004,
           "temp": 0.6,
           "temp_kf": 0.43,
           "temp_max": 0.6,
           "temp_min": 0.17
          },
          "pop": 0.09,
          "sys": {
           "pod": "n"
          },
          "visibility": 10000,
          "weather": [
           {
            "description": "overcast clouds",
            "icon": "04n",
            "id": 804,
            "main": "Clouds"
           }
          ],
          "wind": {
           "deg": 29,
           "gust": 3.71,
           "speed": 2.06
          }
         },
         {
          "clouds": {
           "all": 100
          },
          "dt": 1638738000,
          "dt_txt": "2021-12-05 21:00:00",
          "main": {
           "feels_like": -3.25,
           "grnd_level": 1005,
           "humidity": 94,
           "pressure": 1010,
           "sea_level": 1010,
           "temp": -0.49,
           "temp_kf": 0,
           "temp_max": -0.49,
           "temp_min": -0.49
          },
          "pop": 0,
          "sys": {
           "pod": "n"
          },
          "visibility": 10000,
          "weather": [
           {
            "description": "overcast clouds",
            "icon": "04n",
            "id": 804,
            "main": "Clouds"
           }
          ],
          "wind": {
           "deg": 30,
           "gust": 4.46,
           "speed": 2.18
          }
         },
         {
          "clouds": {
           "all": 100
          },
          "dt": 1638748800,
          "dt_txt": "2021-12-06 00:00:00",
          "main": {
           "feels_like": -3.41,
           "grnd_level": 1006,
           "humidity": 96,
           "pressure": 1012,
           "sea_level": 1012,
           "temp": -0.09,
           "temp_kf": 0,
           "temp_max": -0.09,
           "temp_min": -0.09
          },
          "pop": 0.2,
          "snow": {
           "3h": 0.39
          },
          "sys": {
           "pod": "n"
          },
          "visibility": 767,
          "weather": [
           {
            "description": "light snow",
            "icon": "13n",
            "id": 600,
            "main": "Snow"
           }
          ],
          "wind": {
           "deg": 29,
           "gust": 5.99,
           "speed": 2.78
          }
         },
         {
          "clouds": {
           "all": 100
          },
          "dt": 1638759600,
          "dt_txt": "2021-12-06 03:00:00",
          "main": {
           "feels_like": -3.68,
           "grnd_level": 1007,
           "humidity": 95,
           "pressure": 1013,
           "sea_level": 1013,
           "temp": -0.58,
           "temp_kf": 0,
           "temp_max": -0.58,
           "temp_min": -0.58
          },
          "pop": 0.2,
          "snow": {
           "3h": 0.21
          },
          "sys": {
           "pod": "n"
          },
          "visibility": 2838,
          "weather": [
           {
            "description": "light snow",
            "icon": "13n",
            "id": 600,
            "main": "Snow"
           }
          ],
          "wind": {
           "deg": 29,
           "gust": 6.3,
           "speed": 2.47
          }
         },
         {
          "clouds": {
           "all": 100
          },
          "dt": 1638770400,
          "dt_txt": "2021-12-06 06:00:00",
          "main": {
           "feels_like": -4.22,
           "grnd_level": 1009,
           "humidity": 91,
           "pressure": 1014,
           "sea_level": 1014,
           "temp": -1.35,
           "temp_kf": 0,
           "temp_max": -1.35,
           "temp_min": -1.35
          },
          "pop": 0.36,
          "snow": {
           "3h": 0.11
          },
          "sys": {
           "pod": "n"
          },
          "visibility": 10000,
          "weather": [
           {
            "description": "light snow",
            "icon": "13n",
            "id": 600,
            "main": "Snow"
           }
          ],
          "wind": {
           "deg": 17,
           "gust": 5.04,
           "speed": 2.15
          }
         },
         {
          "clouds": {
           "all": 99
          },
          "dt": 1638781200,
          "dt_txt": "2021-12-06 09:00:00",
          "main": {
           "feels_like": -2.55,
           "grnd_level": 1011,
           "humidity": 90,
           "pressure": 1016,
           "sea_level": 1016,
           "temp": -0.15,
           "temp_kf": 0,
           "temp_max": -0.15,
           "temp_min": -0.15
          },
          "pop": 0,
          "sys": {
           "pod": "d"
          },
          "visibility": 10000,
          "weather": [
           {
            "description": "overcast clouds",
            "icon": "04d",
            "id": 804,
            "main": "Clouds"
           }
          ],
          "wind": {
           "deg": 37,
           "gust": 4.03,
           "speed": 1.94
          }
         },
         {
          "clouds": {
           "all": 100
          },
          "dt": 1638792000,
          "dt_txt": "2021-12-06 12:00:00",
          "main": {
           "feels_like": -1.43,
           "grnd_level": 1010,
           "humidity": 82,
           "pressure": 1016,
           "sea_level": 1016,
           "temp": 0.39,
           "temp_kf": 0,
           "temp_max": 0.39,
           "temp_min": 0.39
          },
          "pop": 0,
          "sys": {
           "pod": "d"
          },
          "visibility": 10000,
          "weather": [
           {
            "description": "overcast clouds",
            "icon": "04d",
            "id": 804,
            "main": "Clouds"
           }
          ],
          "wind": {
           "deg": 22,
           "gust": 2.5,
           "speed": 1.58
          }
         },
         {
          "clouds": {
           "all": 100
          },
          "dt": 1638802800,
          "dt_txt": "2021-12-06 15:00:00",
          "main": {
           "feels_like": -1.27,
           "grnd_level": 1010,
           "humidity": 76,
           "pressure": 1016,
           "sea_level": 1016,
           "temp": 0.3,
           "temp_kf": 0,
           "temp_max": 0.3,
           "temp_min": 0.3
          },
          "pop": 0,
          "sys": {
           "pod": "n"
          },
          "visibility": 10000,
          "weather": [
           {
            "description": "overcast clouds",
            "icon": "04n",
            "id": 804,
            "main": "Clouds"
           }
          ],
          "wind": {
           "deg": 66,
           "gust": 1.88,
           "speed": 1.41
          }
         },
         {
          "clouds": {
           "all": 100
          },
          "dt": 1638813600,
          "dt_txt": "2021-12-06 18:00:00",
          "main": {
           "feels_like": -2.19,
           "grnd_level": 1010,
           "humidity": 76,
           "pressure": 1015,
           "sea_level": 1015,
           "temp": 0.13,
           "temp_kf": 0,
           "temp_max": 0.13,
           "temp_min": 0.13
          },
          "pop": 0,
          "sys": {
           "pod": "n"
          },
          "visibility": 10000,
          "weather": [
           {
            "description": "overcast clouds",
            "icon": "04n",
            "id": 804,
            "main": "Clouds"
           }
          ],
          "wind": {
           "deg": 143,
           "gust": 2.64,
           "speed": 1.91
          }
         },
         {
          "clouds": {
           "all": 100
          },
          "dt": 1638824400,
          "dt_txt": "2021-12-06 21:00:00",
          "main": {
           "feels_like": -3.57,
           "grnd_level": 1009,
           "humidity": 88,
           "pressure": 1014,
           "sea_level": 1014,
           "temp": -0.42,
           "temp_kf": 0,
           "temp_max": -0.42,
           "temp_min": -0.42
          },
          "pop": 0,
          "sys": {
           "pod": "n"
          },
          "visibility": 10000,
          "weather": [
           {
            "description": "overcast clouds",
            "icon": "04n",
            "id": 804,
            "main": "Clouds"
           }
          ],
          "wind": {
           "deg": 151,
           "gust": 4.38,
           "speed": 2.55
          }
         },
         {
          "clouds": {
           "all": 100
          },
          "dt": 1638835200,
          "dt_txt": "2021-12-07 00:00:00",
          "main": {
           "feels_like": -4.48,
           "grnd_level": 1007,
           "humidity": 86,
           "pressure": 1012,
           "sea_level": 1012,
           "temp": -0.63,
           "temp_kf": 0,
           "temp_max": -0.63,
           "temp_min": -0.63
          },
          "pop": 0,
          "sys": {
           "pod": "n"
          },
          "visibility": 10000,
          "weather": [
           {
            "description": "overcast clouds",
            "icon": "04n",
            "id": 804,
            "main": "Clouds"
           }
          ],
          "wind": {
           "deg": 130,
           "gust": 6.29,
           "speed": 3.26
          }
         },
         {
          "clouds": {
           "all": 100
          },
          "dt": 1638846000,
          "dt_txt": "2021-12-07 03:00:00",
          "main": {
           "feels_like": -5.06,
           "grnd_level": 1005,
           "humidity": 85,
           "pressure": 1010,
           "sea_level": 1010,
           "temp": -0.63,
           "temp_kf": 0,
           "temp_max": -0.63,
           "temp_min": -0.63
          },
          "pop": 0,
          "sys": {
           "pod": "n"
          },
          "visibility": 10000,
          "weather": [
           {
            "description": "overcast clouds",
            "icon": "04n",
            "id": 804,
            "main": "Clouds"
           }
          ],
          "wind": {
           "deg": 125,
           "gust": 8.11,
           "speed": 4.01
          }
         },
         {
          "clouds": {
           "all": 100
          },
          "dt": 1638856800,
          "dt_txt": "2021-12-07 06:00:00",
          "main": {
           "feels_like": -5.73,
           "grnd_level": 1005,
           "humidity": 86,
           "pressure": 1011,
           "sea_level": 1011,
           "temp": -1.17,
           "temp_kf": 0,
           "temp_max": -1.17,
           "temp_min": -1.17
          },
          "pop": 0,
          "sys": {
           "pod": "n"
          },
          "visibility": 10000,
          "weather": [
           {
            "description": "overcast clouds",
            "icon": "04n",
            "id": 804,
            "main": "Clouds"
           }
          ],
          "wind": {
           "deg": 122,
           "gust": 9.32,
           "speed": 4.01
          }
         },
         {
          "clouds": {
           "all": 100
          },
          "dt": 1638867600,
          "dt_txt": "2021-12-07 09:00:00",
          "main": {
           "feels_like": -5.08,
           "grnd_level": 1006,
           "humidity": 86,
           "pressure": 1011,
           "sea_level": 1011,
           "temp": -0.62,
           "temp_kf": 0,
           "temp_max": -0.62,
           "temp_min": -0.62
          },
          "pop": 0,
          "sys": {
           "pod": "d"
          },
          "visibility": 10000,
          "weather": [
           {
            "description": "overcast clouds",
            "icon": "04d",
            "id": 804,
            "main": "Clouds"
           }
          ],
          "wind": {
           "deg": 117,
           "gust": 8.49,
           "speed": 4.05
          }
         },
         {
          "clouds": {
           "all": 100
          },
          "dt": 1638878400,
          "dt_txt": "2021-12-07 12:00:00",
          "main": {
           "feels_like": -3.24,
           "grnd_level": 1005,
           "humidity": 85,
           "pressure": 1011,
           "sea_level": 1011,
           "temp": 0.68,
           "temp_kf": 0,
           "temp_max": 0.68,
           "temp_min": 0.68
          },
          "pop": 0,
          "sys": {
           "pod": "d"
          },
          "visibility": 10000,
          "weather": [
           {
            "description": "overcast clouds",
            "icon": "04d",
            "id": 804,
            "main": "Clouds"
           }
          ],
          "wind": {
           "deg": 115,
           "gust": 7.16,
           "speed": 3.7
          }
         },
         {
          "clouds": {
           "all": 100
          },
          "dt": 1638889200,
          "dt_txt": "2021-12-07 15:00:00",
          "main": {
           "feels_like": -4.01,
           "grnd_level": 1006,
           "humidity": 91,
           "pressure": 1011,
           "sea_level": 1011,
           "temp": -0.14,
           "temp_kf": 0,
           "temp_max": -0.14,
           "temp_min": -0.14
          },
          "pop": 0,
          "sys": {
           "pod": "n"
          },
          "visibility": 10000,
          "weather": [
           {
            "description": "overcast clouds",
            "icon": "04n",
            "id": 804,
            "main": "Clouds"
           }
          ],
          "wind": {
           "deg": 112,
           "gust": 7.52,
           "speed": 3.41
          }
         },
         {
          "clouds": {
           "all": 95
          },
          "dt": 1638900000,
          "dt_txt": "2021-12-07 18:00:00",
          "main": {
           "feels_like": -5.7,
           "grnd_level": 1005,
           "humidity": 91,
           "pressure": 1010,
           "sea_level": 1010,
           "temp": -1.16,
           "temp_kf": 0,
           "temp_max": -1.16,
           "temp_min": -1.16
          },
          "pop": 0,
          "sys": {
           "pod": "n"
          },
          "visibility": 10000,
          "weather": [
           {
            "description": "overcast clouds",
            "icon": "04n",
            "id": 804,
            "main": "Clouds"
           }
          ],
          "wind": {
           "deg": 112,
           "gust": 9.16,
           "speed": 3.99
          }
         },
         {
          "clouds": {
           "all": 82
          },
          "dt": 1638910800,
          "dt_txt": "2021-12-07 21:00:00",
          "main": {
           "feels_like": -6.17,
           "grnd_level": 1005,
           "humidity": 91,
           "pressure": 1010,
           "sea_level": 1010,
           "temp": -1.48,
           "temp_kf": 0,
           "temp_max": -1.48,
           "temp_min": -1.48
          },
          "pop": 0,
          "sys": {
           "pod": "n"
          },
          "visibility": 1477,
          "weather": [
           {
            "description": "broken clouds",
            "icon": "04n",
            "id": 803,
            "main": "Clouds"
           }
          ],
          "wind": {
           "deg": 111,
           "gust": 8.03,
           "speed": 4.1
          }
         },
         {
          "clouds": {
           "all": 91
          },
          "dt": 1638921600,
          "dt_txt": "2021-12-08 00:00:00",
          "main": {
           "feels_like": -6.09,
           "grnd_level": 1003,
           "humidity": 91,
           "pressure": 1009,
           "sea_level": 1009,
           "temp": -1.3,
           "temp_kf": 0,
           "temp_max": -1.3,
           "temp_min": -1.3
          },
          "pop": 0.2,
          "snow": {
           "3h": 0.22
          },
          "sys": {
           "pod": "n"
          },
          "visibility": 6614,
          "weather": [
           {
            "description": "light snow",
            "icon": "13n",
            "id": 600,
            "main": "Snow"
           }
          ],
          "wind": {
           "deg": 111,
           "gust": 8.47,
           "speed": 4.3
          }
         },
         {
          "clouds": {
           "all": 100
          },
          "dt": 1638932400,
          "dt_txt": "2021-12-08 03:00:00",
          "main": {
           "feels_like": -5.6,
           "grnd_level": 1002,
           "humidity": 89,
           "pressure": 1008,
           "sea_level": 1008,
           "temp": -1,
           "temp_kf": 0,
           "temp_max": -1,
           "temp_min": -1
          },
          "pop": 0,
          "sys": {
           "pod": "n"
          },
          "visibility": 10000,
          "weather": [
           {
            "description": "overcast clouds",
            "icon": "04n",
            "id": 804,
            "main": "Clouds"
           }
          ],
          "wind": {
           "deg": 109,
           "gust": 9.3,
           "speed": 4.13
          }
         },
         {
          "clouds": {
           "all": 100
          },
          "dt": 1638943200,
          "dt_txt": "2021-12-08 06:00:00",
          "main": {
           "feels_like": -7.36,
           "grnd_level": 1002,
           "humidity": 87,
           "pressure": 1008,
           "sea_level": 1008,
           "temp": -1.99,
           "temp_kf": 0,
           "temp_max": -1.99,
           "temp_min": -1.99
          },
          "pop": 0,
          "sys": {
           "pod": "n"
          },
          "visibility": 10000,
          "weather": [
           {
            "description": "overcast clouds",
            "icon": "04n",
            "id": 804,
            "main": "Clouds"
           }
          ],
          "wind": {
           "deg": 111,
           "gust": 11.69,
           "speed": 4.93
          }
         },
         {
          "clouds": {
           "all": 100
          },
          "dt": 1638954000,
          "dt_txt": "2021-12-08 09:00:00",
          "main": {
           "feels_like": -7.4,
           "grnd_level": 1001,
           "humidity": 84,
           "pressure": 1007,
           "sea_level": 1007,
           "temp": -1.77,
           "temp_kf": 0,
           "temp_max": -1.77,
           "temp_min": -1.77
          },
          "pop": 0,
          "sys": {
           "pod": "d"
          },
          "visibility": 10000,
          "weather": [
           {
            "description": "overcast clouds",
            "icon": "04d",
            "id": 804,
            "main": "Clouds"
           }
          ],
          "wind": {
           "deg": 103,
           "gust": 11.46,
           "speed": 5.45
          }
         },
         {
          "clouds": {
           "all": 100
          },
          "dt": 1638964800,
          "dt_txt": "2021-12-08 12:00:00",
          "main": {
           "feels_like": -5.41,
           "grnd_level": 1000,
           "humidity": 79,
           "pressure": 1005,
           "sea_level": 1005,
           "temp": -0.45,
           "temp_kf": 0,
           "temp_max": -0.45,
           "temp_min": -0.45
          },
          "pop": 0,
          "sys": {
           "pod": "d"
          },
          "visibility": 10000,
          "weather": [
           {
            "description": "overcast clouds",
            "icon": "04d",
            "id": 804,
            "main": "Clouds"
           }
          ],
          "wind": {
           "deg": 107,
           "gust": 10.92,
           "speed": 4.88
          }
         },
         {
          "clouds": {
           "all": 100
          },
          "dt": 1638975600,
          "dt_txt": "2021-12-08 15:00:00",
          "main": {
           "feels_like": -6.97,
           "grnd_level": 1000,
           "humidity": 82,
           "pressure": 1005,
           "sea_level": 1005,
           "temp": -1.27,
           "temp_kf": 0,
           "temp_max": -1.27,
           "temp_min": -1.27
          },
          "pop": 0,
          "sys": {
           "pod": "n"
          },
          "visibility": 10000,
          "weather": [
           {
            "description": "overcast clouds",
            "icon": "04n",
            "id": 804,
            "main": "Clouds"
           }
          ],
          "wind": {
           "deg": 91,
           "gust": 11.85,
           "speed": 5.83
          }
         },
         {
          "clouds": {
           "all": 100
          },
          "dt": 1638986400,
          "dt_txt": "2021-12-08 18:00:00",
          "main": {
           "feels_like": -7.26,
           "grnd_level": 1000,
           "humidity": 85,
           "pressure": 1005,
           "sea_level": 1005,
           "temp": -1.43,
           "temp_kf": 0,
           "temp_max": -1.43,
           "temp_min": -1.43
          },
          "pop": 0,
          "sys": {
           "pod": "n"
          },
          "visibility": 10000,
          "weather": [
           {
            "description": "overcast clouds",
            "icon": "04n",
            "id": 804,
            "main": "Clouds"
           }
          ],
          "wind": {
           "deg": 94,
           "gust": 12.62,
           "speed": 5.98
          }
         },
         {
          "clouds": {
           "all": 100
          },
          "dt": 1638997200,
          "dt_txt": "2021-12-08 21:00:00",
          "main": {
           "feels_like": -7.12,
           "grnd_level": 1000,
           "humidity": 84,
           "pressure": 1005,
           "sea_level": 1005,
           "temp": -1.43,
           "temp_kf": 0,
           "temp_max": -1.43,
           "temp_min": -1.43
          },
          "pop": 0,
          "sys": {
           "pod": "n"
          },
          "visibility": 10000,
          "weather": [
           {
            "description": "overcast clouds",
            "icon": "04n",
            "id": 804,
            "main": "Clouds"
           }
          ],
          "wind": {
           "deg": 94,
           "gust": 12.08,
           "speed": 5.73
          }
         },
         {
          "clouds": {
           "all": 100
          },
          "dt": 1639008000,
          "dt_txt": "2021-12-09 00:00:00",
          "main": {
           "feels_like": -7.69,
           "grnd_level": 998,
           "humidity": 92,
           "pressure": 1004,
           "sea_level": 1004,
           "temp": -1.9,
           "temp_kf": 0,
           "temp_max": -1.9,
           "temp_min": -1.9
          },
          "pop": 0.2,
          "snow": {
           "3h": 0.14
          },
          "sys": {
           "pod": "n"
          },
          "visibility": 620,
          "weather": [
           {
            "description": "light snow",
            "icon": "13n",
            "id": 600,
            "main": "Snow"
           }
          ],
          "wind": {
           "deg": 89,
           "gust": 12.16,
           "speed": 5.68
          }
         },
         {
          "clouds": {
           "all": 100
          },
          "dt": 1639018800,
          "dt_txt": "2021-12-09 03:00:00",
          "main": {
           "feels_like": -7.73,
           "grnd_level": 997,
           "humidity": 94,
           "pressure": 1003,
           "sea_level": 1003,
           "temp": -2.08,
           "temp_kf": 0,
           "temp_max": -2.08,
           "temp_min": -2.08
          },
          "pop": 0.97,
          "snow": {
           "3h": 1.31
          },
          "sys": {
           "pod": "n"
          },
          "visibility": 212,
          "weather": [
           {
            "description": "light snow",
            "icon": "13n",
            "id": 600,
            "main": "Snow"
           }
          ],
          "wind": {
           "deg": 89,
           "gust": 11.63,
           "speed": 5.35
          }
         },
         {
          "clouds": {
           "all": 100
          },
          "dt": 1639029600,
          "dt_txt": "2021-12-09 06:00:00",
          "main": {
           "feels_like": -6.61,
           "grnd_level": 997,
           "humidity": 96,
           "pressure": 1002,
           "sea_level": 1002,
           "temp": -1.89,
           "temp_kf": 0,
           "temp_max": -1.89,
           "temp_min": -1.89
          },
          "pop": 1,
          "snow": {
           "3h": 1.15
          },
          "sys": {
           "pod": "n"
          },
          "visibility": 173,
          "weather": [
           {
            "description": "light snow",
            "icon": "13n",
            "id": 600,
            "main": "Snow"
           }
          ],
          "wind": {
           "deg": 93,
           "gust": 9.47,
           "speed": 4
          }
         },
         {
          "clouds": {
           "all": 100
          },
          "dt": 1639040400,
          "dt_txt": "2021-12-09 09:00:00",
          "main": {
           "feels_like": -4.18,
           "grnd_level": 998,
           "humidity": 94,
           "pressure": 1003,
           "sea_level": 1003,
           "temp": -0.75,
           "temp_kf": 0,
           "temp_max": -0.75,
           "temp_min": -0.75
          },
          "pop": 0.69,
          "snow": {
           "3h": 0.61
          },
          "sys": {
           "pod": "d"
          },
          "visibility": 1044,
          "weather": [
           {
            "description": "light snow",
            "icon": "13d",
            "id": 600,
            "main": "Snow"
           }
          ],
          "wind": {
           "deg": 118,
           "gust": 5.33,
           "speed": 2.76
          }
         },
         {
          "clouds": {
           "all": 99
          },
          "dt": 1639051200,
          "dt_txt": "2021-12-09 12:00:00",
          "main": {
           "feels_like": -2.28,
           "grnd_level": 998,
           "humidity": 91,
           "pressure": 1003,
           "sea_level": 1003,
           "temp": 0.91,
           "temp_kf": 0,
           "temp_max": 0.91,
           "temp_min": 0.91
          },
          "pop": 0.65,
          "snow": {
           "3h": 0.14
          },
          "sys": {
           "pod": "d"
          },
          "visibility": 10000,
          "weather": [
           {
            "description": "light snow",
            "icon": "13d",
            "id": 600,
            "main": "Snow"
           }
          ],
          "wind": {
           "deg": 156,
           "gust": 5.27,
           "speed": 2.85
          }
         },
         {
          "clouds": {
           "all": 100
          },
          "dt": 1639062000,
          "dt_txt": "2021-12-09 15:00:00",
          "main": {
           "feels_like": -1.91,
           "grnd_level": 999,
           "humidity": 98,
           "pressure": 1004,
           "sea_level": 1004,
           "temp": 0.73,
           "temp_kf": 0,
           "temp_max": 0.73,
           "temp_min": 0.73
          },
          "pop": 0.05,
          "sys": {
           "pod": "n"
          },
          "visibility": 10000,
          "weather": [
           {
            "description": "overcast clouds",
            "icon": "04n",
            "id": 804,
            "main": "Clouds"
           }
          ],
          "wind": {
           "deg": 127,
           "gust": 5.25,
           "speed": 2.26
          }
         },
         {
          "clouds": {
           "all": 100
          },
          "dt": 1639072800,
          "dt_txt": "2021-12-09 18:00:00",
          "main": {
           "feels_like": -1.21,
           "grnd_level": 999,
           "humidity": 93,
           "pressure": 1005,
           "sea_level": 1005,
           "temp": 0.95,
           "temp_kf": 0,
           "temp_max": 0.95,
           "temp_min": 0.95
          },
          "pop": 0,
          "sys": {
           "pod": "n"
          },
          "visibility": 10000,
          "weather": [
           {
            "description": "overcast clouds",
            "icon": "04n",
            "id": 804,
            "main": "Clouds"
           }
          ],
          "wind": {
           "deg": 123,
           "gust": 3.4,
           "speed": 1.89
          }
         },
         {
          "clouds": {
           "all": 97
          },
          "dt": 1639083600,
          "dt_txt": "2021-12-09 21:00:00",
          "main": {
           "feels_like": -3.79,
           "grnd_level": 1000,
           "humidity": 94,
           "pressure": 1005,
           "sea_level": 1005,
           "temp": -0.48,
           "temp_kf": 0,
           "temp_max": -0.48,
           "temp_min": -0.48
          },
          "pop": 0,
          "sys": {
           "pod": "n"
          },
          "visibility": 10000,
          "weather": [
           {
            "description": "overcast clouds",
            "icon": "04n",
            "id": 804,
            "main": "Clouds"
           }
          ],
          "wind": {
           "deg": 120,
           "gust": 5.71,
           "speed": 2.7
          }
         },
         {
          "clouds": {
           "all": 93
          },
          "dt": 1639094400,
          "dt_txt": "2021-12-10 00:00:00",
          "main": {
           "feels_like": -4.81,
           "grnd_level": 999,
           "humidity": 93,
           "pressure": 1005,
           "sea_level": 1005,
           "temp": -1.54,
           "temp_kf": 0,
           "temp_max": -1.54,
           "temp_min": -1.54
          },
          "pop": 0,
          "sys": {
           "pod": "n"
          },
          "visibility": 10000,
          "weather": [
           {
            "description": "overcast clouds",
            "icon": "04n",
            "id": 804,
            "main": "Clouds"
           }
          ],
          "wind": {
           "deg": 102,
           "gust": 5.6,
           "speed": 2.47
          }
         },
         {
          "clouds": {
           "all": 98
          },
          "dt": 1639105200,
          "dt_txt": "2021-12-10 03:00:00",
          "main": {
           "feels_like": -4.99,
           "grnd_level": 998,
           "humidity": 95,
           "pressure": 1004,
           "sea_level": 1004,
           "temp": -2.12,
           "temp_kf": 0,
           "temp_max": -2.12,
           "temp_min": -2.12
          },
          "pop": 0,
          "sys": {
           "pod": "n"
          },
          "visibility": 10000,
          "weather": [
           {
            "description": "overcast clouds",
            "icon": "04n",
            "id": 804,
            "main": "Clouds"
           }
          ],
          "wind": {
           "deg": 76,
           "gust": 5.15,
           "speed": 2.05
          }
         },
         {
          "clouds": {
           "all": 99
          },
          "dt": 1639116000,
          "dt_txt": "2021-12-10 06:00:00",
          "main": {
           "feels_like": -5.63,
           "grnd_level": 997,
           "humidity": 95,
           "pressure": 1003,
           "sea_level": 1003,
           "temp": -2.51,
           "temp_kf": 0,
           "temp_max": -2.51,
           "temp_min": -2.51
          },
          "pop": 0,
          "sys": {
           "pod": "n"
          },
          "visibility": 10000,
          "weather": [
           {
            "description": "overcast clouds",
            "icon": "04n",
            "id": 804,
            "main": "Clouds"
           }
          ],
          "wind": {
           "deg": 71,
           "gust": 5.47,
           "speed": 2.19
          }
         },
         {
          "clouds": {
           "all": 100
          },
          "dt": 1639126800,
          "dt_txt": "2021-12-10 09:00:00",
          "main": {
           "feels_like": -3.67,
           "grnd_level": 997,
           "humidity": 90,
           "pressure": 1003,
           "sea_level": 1003,
           "temp": -1.48,
           "temp_kf": 0,
           "temp_max": -1.48,
           "temp_min": -1.48
          },
          "pop": 0,
          "sys": {
           "pod": "d"
          },
          "visibility": 10000,
          "weather": [
           {
            "description": "overcast clouds",
            "icon": "04d",
            "id": 804,
            "main": "Clouds"
           }
          ],
          "wind": {
           "deg": 52,
           "gust": 2.94,
           "speed": 1.64
          }
         },
         {
          "clouds": {
           "all": 100
          },
          "dt": 1639137600,
          "dt_txt": "2021-12-10 12:00:00",
          "main": {
           "feels_like": -0.27,
           "grnd_level": 997,
           "humidity": 86,
           "pressure": 1003,
           "sea_level": 1003,
           "temp": -0.27,
           "temp_kf": 0,
           "temp_max": -0.27,
           "temp_min": -0.27
          },
          "pop": 0,
          "sys": {
           "pod": "d"
          },
          "visibility": 10000,
          "weather": [
           {
            "description": "overcast clouds",
            "icon": "04d",
            "id": 804,
            "main": "Clouds"
           }
          ],
          "wind": {
           "deg": 27,
           "gust": 1.66,
           "speed": 1.09
          }
         }
        ],
        "message": 0
       },
       {
        "city": {
         "coord": {
          "lat": 40.4165,
          "lon": -3.7026
         },
         "country": "ES",
         "id": 3117735,
         "name": "Madrid",
         "population": 1000000,
         "sunrise": 1638688968,
         "sunset": 1638722910,
         "timezone": 3600
        },
        "cnt": 40,
        "cod": "200",
        "list": [
         {
          "clouds": {
           "all": 73
          },
          "dt": 1638716400,
          "dt_txt": "2021-12-05 15:00:00",
          "main": {
           "feels_like": 8.96,
           "grnd_level": 942,
           "humidity": 51,
           "pressure": 1020,
           "sea_level": 1020,
           "temp": 10.52,
           "temp_kf": 0.84,
           "temp_max": 10.52,
           "temp_min": 9.68
          },
          "pop": 0.14,
          "sys": {
           "pod": "d"
          },
          "visibility": 10000,
          "weather": [
           {
            "description": "broken clouds",
            "icon": "04d",
            "id": 803,
            "main": "Clouds"
           }
          ],
          "wind": {
           "deg": 302,
           "gust": 16.88,
           "speed": 8.35
          }
         },
         {
          "clouds": {
           "all": 62
          },
          "dt": 1638727200,
          "dt_txt": "2021-12-05 18:00:00",
          "main": {
           "feels_like": 5.67,
           "grnd_level": 943,
           "humidity": 52,
           "pressure": 1021,
           "sea_level": 1021,
           "temp": 9.09,
           "temp_kf": 0.93,
           "temp_max": 9.09,
           "temp_min": 8.16
          },
          "pop": 0.08,
          "sys": {
           "pod": "n"
          },
          "visibility": 10000,
          "weather": [
           {
            "description": "broken clouds",
            "icon": "04n",
            "id": 803,
            "main": "Clouds"
           }
          ],
          "wind": {
           "deg": 313,
           "gust": 14.62,
           "speed": 7.36
          }
         },
         {
          "clouds": {
           "all": 26
          },
          "dt": 1638738000,
          "dt_txt": "2021-12-05 21:00:00",
          "main": {
           "feels_like": 4.03,
           "grnd_level": 944,
           "humidity": 57,
           "pressure": 1024,
           "sea_level": 1024,
           "temp": 7.29,
           "temp_kf": 0,
           "temp_max": 7.29,
           "temp_min": 7.29
          },
          "pop": 0.06,
          "sys": {
           "pod": "n"
          },
          "visibility": 10000,
          "weather": [
           {
            "description": "scattered clouds",
            "icon": "03n",
            "id": 802,
            "main": "Clouds"
           }
          ],
          "wind": {
           "deg": 300,
           "gust": 9.9,
           "speed": 5.42
          }
         },
         {
          "clouds": {
           "all": 15
          },
          "dt": 1638748800,
          "dt_txt": "2021-12-06 00:00:00",
          "main": {
           "feels_like": 3.58,
           "grnd_level": 945,
           "humidity": 59,
           "pressure": 1024,
           "sea_level": 1024,
           "temp": 6.59,
           "temp_kf": 0,
           "temp_max": 6.59,
           "temp_min": 6.59
          },
          "pop": 0.06,
          "sys": {
           "pod": "n"
          },
          "visibility": 10000,
          "weather": [
           {
            "description": "few clouds",
            "icon": "02n",
            "id": 801,
            "main": "Clouds"
           }
          ],
          "wind": {
           "deg": 296,
           "gust": 7.83,
           "speed": 4.45
          }
         },
         {
          "clouds": {
           "all": 57
          },
          "dt": 1638759600,
          "dt_txt": "2021-12-06 03:00:00",
          "main": {
           "feels_like": 3.97,
           "grnd_level": 945,
           "humidity": 68,
           "pressure": 1024,
           "sea_level": 1024,
           "temp": 6.51,
           "temp_kf": 0,
           "temp_max": 6.51,
           "temp_min": 6.51
          },
          "pop": 0,
          "sys": {
           "pod": "n"
          },
          "visibility": 10000,
          "weather": [
           {
            "description": "broken clouds",
            "icon": "04n",
            "id": 803,
            "main": "Clouds"
           }
          ],
          "wind": {
           "deg": 281,
           "gust": 7.05,
           "speed": 3.54
          }
         },
         {
          "clouds": {
           "all": 59
          },
          "dt": 1638770400,
          "dt_txt": "2021-12-06 06:00:00",
          "main": {
           "feels_like": 3.52,
           "grnd_level": 945,
           "humidity": 69,
           "pressure": 1025,
           "sea_level": 1025,
           "temp": 6.3,
           "temp_kf": 0,
           "temp_max": 6.3,
           "temp_min": 6.3
          },
          "pop": 0,
          "sys": {
           "pod": "n"
          },
          "visibility": 10000,
          "weather": [
           {
            "description": "broken clouds",
            "icon": "04n",
            "id": 803,
            "main": "Clouds"
           }
          ],
          "wind": {
           "deg": 284,
           "gust": 7.63,
           "speed": 3.89
          }
         },
         {
          "clouds": {
           "all": 76
          },
          "dt": 1638781200,
          "dt_txt": "2021-12-06 09:00:00",
          "main": {
           "feels_like": 4.75,
           "grnd_level": 947,
           "humidity": 68,
           "pressure": 1026,
           "sea_level": 1026,
           "temp": 7.03,
           "temp_kf": 0,
           "temp_max": 7.03,
           "temp_min": 7.03
          },
          "pop": 0,
          "sys": {
           "pod": "d"
          },
          "visibility": 10000,
          "weather": [
           {
            "description": "broken clouds",
            "icon": "04d",
            "id": 803,
            "main": "Clouds"
           }
          ],
          "wind": {
           "deg": 292,
           "gust": 6.36,
           "speed": 3.31
          }
         },
         {
          "clouds": {
           "all": 86
          },
          "dt": 1638792000,
          "dt_txt": "2021-12-06 12:00:00",
          "main": {
           "feels_like": 8.9,
           "grnd_level": 947,
           "humidity": 55,
           "pressure": 1025,
           "sea_level": 1025,
           "temp": 10.37,
           "temp_kf": 0,
           "temp_max": 10.37,
           "temp_min": 10.37
          },
          "pop": 0,
          "sys": {
           "pod": "d"
          },
          "visibility": 10000,
          "weather": [
           {
            "description": "overcast clouds",
            "icon": "04d",
            "id": 804,
            "main": "Clouds"
           }
          ],
          "wind": {
           "deg": 293,
           "gust": 5.25,
           "speed": 4.02
          }
         },
         {
          "clouds": {
           "all": 60
          },
          "dt": 1638802800,
          "dt_txt": "2021-12-06 15:00:00",
          "main": {
           "feels_like": 10.75,
           "grnd_level": 946,
           "humidity": 53,
           "pressure": 1024,
           "sea_level": 1024,
           "temp": 12.1,
           "temp_kf": 0,
           "temp_max": 12.1,
           "temp_min": 12.1
          },
          "pop": 0,
          "sys": {
           "pod": "d"
          },
          "visibility": 10000,
          "weather": [
           {
            "description": "broken clouds",
            "icon": "04d",
            "id": 803,
            "main": "Clouds"
           }
          ],
          "wind": {
           "deg": 293,
           "gust": 6.53,
           "speed": 3.9
          }
         },
         {
          "clouds": {
           "all": 46
          },
          "dt": 1638813600,
          "dt_txt": "2021-12-06 18:00:00",
          "main": {
           "feels_like": 7.4,
           "grnd_level": 946,
           "humidity": 68,
           "pressure": 1025,
           "sea_level": 1025,
           "temp": 9.1,
           "temp_kf": 0,
           "temp_max": 9.1,
           "temp_min": 9.1
          },
          "pop": 0,
          "sys": {
           "pod": "n"
          },
          "visibility": 10000,
          "weather": [
           {
            "description": "scattered clouds",
            "icon": "03n",
            "id": 802,
            "main": "Clouds"
           }
          ],
          "wind": {
           "deg": 258,
           "gust": 5.42,
           "speed": 3.05
          }
         },
         {
          "clouds": {
           "all": 68
          },
          "dt": 1638824400,
          "dt_txt": "2021-12-06 21:00:00",
          "main": {
           "feels_like": 8.02,
           "grnd_level": 947,
           "humidity": 75,
           "pressure": 1026,
           "sea_level": 1026,
           "temp": 8.48,
           "temp_kf": 0,
           "temp_max": 8.48,
           "temp_min": 8.48
          },
          "pop": 0,
          "sys": {
           "pod": "n"
          },
          "visibility": 10000,
          "weather": [
           {
            "description": "broken clouds",
            "icon": "04n",
            "id": 803,
            "main": "Clouds"
           }
          ],
          "wind": {
           "deg": 265,
           "gust": 2.08,
           "speed": 1.41
          }
         },
         {
          "clouds": {
           "all": 53
          },
          "dt": 1638835200,
          "dt_txt": "2021-12-07 00:00:00",
          "main": {
           "feels_like": 7.79,
           "grnd_level": 946,
           "humidity": 80,
           "pressure": 1025,
           "sea_level": 1025,
           "temp": 7.79,
           "temp_kf": 0,
           "temp_max": 7.79,
           "temp_min": 7.79
          },
          "pop": 0,
          "sys": {
           "pod": "n"
          },
          "visibility": 10000,
          "weather": [
           {
            "description": "broken clouds",
            "icon": "04n",
            "id": 803,
            "main": "Clouds"
           }
          ],
          "wind": {
           "deg": 223,
           "gust": 1.11,
           "speed": 0.88
          }
         },
         {
          "clouds": {
           "all": 23
          },
          "dt": 1638846000,
          "dt_txt": "2021-12-07 03:00:00",
          "main": {
           "feels_like": 5.87,
           "grnd_level": 945,
           "humidity": 85,
           "pressure": 1024,
           "sea_level": 1024,
           "temp": 6.88,
           "temp_kf": 0,
           "temp_max": 6.88,
           "temp_min": 6.88
          },
          "pop": 0,
          "sys": {
           "pod": "n"
          },
          "visibility": 10000,
          "weather": [
           {
            "description": "few clouds",
            "icon": "02n",
            "id": 801,
            "main": "Clouds"
           }
          ],
          "wind": {
           "deg": 219,
           "gust": 2.1,
           "speed": 1.69
          }
         },
         {
          "clouds": {
           "all": 42
          },
          "dt": 1638856800,
          "dt_txt": "2021-12-07 06:00:00",
          "main": {
           "feels_like": 4.4,
           "grnd_level": 943,
           "humidity": 87,
           "pressure": 1023,
           "sea_level": 1023,
           "temp": 6.11,
           "temp_kf": 0,
           "temp_max": 6.11,
           "temp_min": 6.11
          },
          "pop": 0,
          "sys": {
           "pod": "n"
          },
          "visibility": 10000,
          "weather": [
           {
            "description": "scattered clouds",
            "icon": "03n",
            "id": 802,
            "main": "Clouds"
           }
          ],
          "wind": {
           "deg": 207,
           "gust": 4.33,
           "speed": 2.28
          }
         },
         {
          "clouds": {
           "all": 74
          },
          "dt": 1638867600,
          "dt_txt": "2021-12-07 09:00:00",
          "main": {
           "feels_like": 4.42,
           "grnd_level": 943,
           "humidity": 89,
           "pressure": 1022,
           "sea_level": 1022,
           "temp": 6.8,
           "temp_kf": 0,
           "temp_max": 6.8,
           "temp_min": 6.8
          },
          "pop": 0,
          "sys": {
           "pod": "d"
          },
          "visibility": 10000,
          "weather": [
           {
            "description": "broken clouds",
            "icon": "04d",
            "id": 803,
            "main": "Clouds"
           }
          ],
          "wind": {
           "deg": 226,
           "gust": 6.23,
           "speed": 3.38
          }
         },
         {
          "clouds": {
           "all": 71
          },
          "dt": 1638878400,
          "dt_txt": "2021-12-07 12:00:00",
          "main": {
           "feels_like": 9.41,
           "grnd_level": 941,
           "humidity": 75,
           "pressure": 1019,
           "sea_level": 1019,
           "temp": 10.36,
           "temp_kf": 0,
           "temp_max": 10.36,
           "temp_min": 10.36
          },
          "pop": 0,
          "sys": {
           "pod": "d"
          },
          "visibility": 10000,
          "weather": [
           {
            "description": "broken clouds",
            "icon": "04d",
            "id": 803,
            "main": "Clouds"
           }
          ],
          "wind": {
           "deg": 235,
           "gust": 7.49,
           "speed": 5.71
          }
         },
         {
          "clouds": {
           "all": 69
          },
          "dt": 1638889200,
          "dt_txt": "2021-12-07 15:00:00",
          "main": {
           "feels_like": 9.96,
           "grnd_level": 938,
           "humidity": 77,
           "pressure": 1015,
           "sea_level": 1015,
           "temp": 10.81,
           "temp_kf": 0,
           "temp_max": 10.81,
           "temp_min": 10.81
          },
          "pop": 0,
          "sys": {
           "pod": "d"
          },
          "visibility": 10000,
          "weather": [
           {
            "description": "broken clouds",
            "icon": "04d",
            "id": 803,
            "main": "Clouds"
           }
          ],
          "wind": {
           "deg": 236,
           "gust": 11.16,
           "speed": 7.78
          }
         },
         {
          "clouds": {
           "all": 84
          },
          "dt": 1638900000,
          "dt_txt": "2021-12-07 18:00:00",
          "main": {
           "feels_like": 6.02,
           "grnd_level": 937,
           "humidity": 83,
           "pressure": 1015,
           "sea_level": 1015,
           "temp": 9.68,
           "temp_kf": 0,
           "temp_max": 9.68,
           "temp_min": 9.68
          },
          "pop": 0.03,
          "sys": {
           "pod": "n"
          },
          "visibility": 10000,
          "weather": [
           {
            "description": "broken clouds",
            "icon": "04n",
            "id": 803,
            "main": "Clouds"
           }
          ],
          "wind": {
           "deg": 238,
           "gust": 13.35,
           "speed": 8.97
          }
         },
         {
          "clouds": {
           "all": 100
          },
          "dt": 1638910800,
          "dt_txt": "2021-12-07 21:00:00",
          "main": {
           "feels_like": 6.04,
           "grnd_level": 936,
           "humidity": 85,
           "pressure": 1014,
           "sea_level": 1014,
           "temp": 9.65,
           "temp_kf": 0,
           "temp_max": 9.65,
           "temp_min": 9.65
          },
          "pop": 0.11,
          "sys": {
           "pod": "n"
          },
          "visibility": 10000,
          "weather": [
           {
            "description": "overcast clouds",
            "icon": "04n",
            "id": 804,
            "main": "Clouds"
           }
          ],
          "wind": {
           "deg": 238,
           "gust": 14.26,
           "speed": 8.72
          }
         },
         {
          "clouds": {
           "all": 97
          },
          "dt": 1638921600,
          "dt_txt": "2021-12-08 00:00:00",
          "main": {
           "feels_like": 6.32,
           "grnd_level": 935,
           "humidity": 87,
           "pressure": 1013,
           "sea_level": 1013,
           "temp": 9.67,
           "temp_kf": 0,
           "temp_max": 9.67,
           "temp_min": 9.67
          },
          "pop": 0.11,
          "sys": {
           "pod": "n"
          },
          "visibility": 10000,
          "weather": [
           {
            "description": "overcast clouds",
            "icon": "04n",
            "id": 804,
            "main": "Clouds"
           }
          ],
          "wind": {
           "deg": 245,
           "gust": 11.67,
           "speed": 7.72
          }
         },
         {
          "clouds": {
           "all": 97
          },
          "dt": 1638932400,
          "dt_txt": "2021-12-08 03:00:00",
          "main": {
           "feels_like": 4.15,
           "grnd_level": 935,
           "humidity": 58,
           "pressure": 1013,
           "sea_level": 1013,
           "temp": 8.07,
           "temp_kf": 0,
           "temp_max": 8.07,
           "temp_min": 8.07
          },
          "pop": 0.36,
          "rain": {
           "3h": 0.15
          },
          "sys": {
           "pod": "n"
          },
          "visibility": 10000,
          "weather": [
           {
            "description": "light rain",
            "icon": "10n",
            "id": 500,
            "main": "Rain"
           }
          ],
          "wind": {
           "deg": 291,
           "gust": 12.45,
           "speed": 8.05
          }
         },
         {
          "clouds": {
           "all": 86
          },
          "dt": 1638943200,
          "dt_txt": "2021-12-08 06:00:00",
          "main": {
           "feels_like": 3.07,
           "grnd_level": 935,
           "humidity": 61,
           "pressure": 1013,
           "sea_level": 1013,
           "temp": 6.94,
           "temp_kf": 0,
           "temp_max": 6.94,
           "temp_min": 6.94
          },
          "pop": 0.18,
          "sys": {
           "pod": "n"
          },
          "visibility": 10000,
          "weather": [
           {
            "description": "overcast clouds",
            "icon": "04n",
            "id": 804,
            "main": "Clouds"
           }
          ],
          "wind": {
           "deg": 261,
           "gust": 13.98,
           "speed": 6.8
          }
         },
         {
          "clouds": {
           "all": 100
          },
          "dt": 1638954000,
          "dt_txt": "2021-12-08 09:00:00",
          "main": {
           "feels_like": 1.23,
           "grnd_level": 935,
           "humidity": 83,
           "pressure": 1014,
           "sea_level": 1014,
           "temp": 5.36,
           "temp_kf": 0,
           "temp_max": 5.36,
           "temp_min": 5.36
          },
          "pop": 0.45,
          "rain": {
           "3h": 0.28
          },
          "sys": {
           "pod": "d"
          },
          "visibility": 10000,
          "weather": [
           {
            "description": "light rain",
            "icon": "10d",
            "id": 500,
            "main": "Rain"
           }
          ],
          "wind": {
           "deg": 259,
           "gust": 10.68,
           "speed": 6.31
          }
         },
         {
          "clouds": {
           "all": 96
          },
          "dt": 1638964800,
          "dt_txt": "2021-12-08 12:00:00",
          "main": {
           "feels_like": 1.89,
           "grnd_level": 934,
           "humidity": 69,
           "pressure": 1012,
           "sea_level": 1012,
           "temp": 6.48,
           "temp_kf": 0,
           "temp_max": 6.48,
           "temp_min": 6.48
          },
          "pop": 0.73,
          "rain": {
           "3h": 1.35
          },
          "sys": {
           "pod": "d"
          },
          "visibility": 10000,
          "weather": [
           {
            "description": "light rain",
            "icon": "10d",
            "id": 500,
            "main": "Rain"
           }
          ],
          "wind": {
           "deg": 279,
           "gust": 16.15,
           "speed": 8.72
          }
         },
         {
          "clouds": {
           "all": 99
          },
          "dt": 1638975600,
          "dt_txt": "2021-12-08 15:00:00",
          "main": {
           "feels_like": 1.61,
           "grnd_level": 934,
           "humidity": 58,
           "pressure": 1013,
           "sea_level": 1013,
           "temp": 6.25,
           "temp_kf": 0,
           "temp_max": 6.25,
           "temp_min": 6.25
          },
          "pop": 0.85,
          "rain": {
           "3h": 0.52
          },
          "sys": {
           "pod": "d"
          },
          "visibility": 10000,
          "weather": [
           {
            "description": "light rain",
            "icon": "10d",
            "id": 500,
            "main": "Rain"
           }
          ],
          "wind": {
           "deg": 295,
           "gust": 13.44,
           "speed": 8.62
          }
         },
         {
          "clouds": {
           "all": 80
          },
          "dt": 1638986400,
          "dt_txt": "2021-12-08 18:00:00",
          "main": {
           "feels_like": -0.42,
           "grnd_level": 936,
           "humidity": 61,
           "pressure": 1015,
           "sea_level": 1015,
           "temp": 4.46,
           "temp_kf": 0,
           "temp_max": 4.46,
           "temp_min": 4.46
          },
          "pop": 0.73,
          "sys": {
           "pod": "n"
          },
          "visibility": 10000,
          "weather": [
           {
            "description": "broken clouds",
            "icon": "04n",
            "id": 803,
            "main": "Clouds"
           }
          ],
          "wind": {
           "deg": 291,
           "gust": 13.61,
           "speed": 7.67
          }
         },
         {
          "clouds": {
           "all": 5
          },
          "dt": 1638997200,
          "dt_txt": "2021-12-08 21:00:00",
          "main": {
           "feels_like": -0.93,
           "grnd_level": 938,
           "humidity": 61,
           "pressure": 1017,
           "sea_level": 1017,
           "temp": 3.71,
           "temp_kf": 0,
           "temp_max": 3.71,
           "temp_min": 3.71
          },
          "pop": 0,
          "sys": {
           "pod": "n"
          },
          "visibility": 10000,
          "weather": [
           {
            "description": "clear sky",
            "icon": "01n",
            "id": 800,
            "main": "Clear"
           }
          ],
          "wind": {
           "deg": 293,
           "gust": 13.34,
           "speed": 6.45
          }
         },
         {
          "clouds": {
           "all": 5
          },
          "dt": 1639008000,
          "dt_txt": "2021-12-09 00:00:00",
          "main": {
           "feels_like": -1.35,
           "grnd_level": 938,
           "humidity": 71,
           "pressure": 1018,
           "sea_level": 1018,
           "temp": 2.73,
           "temp_kf": 0,
           "temp_max": 2.73,
           "temp_min": 2.73
          },
          "pop": 0,
          "sys": {
           "pod": "n"
          },
          "visibility": 10000,
          "weather": [
           {
            "description": "clear sky",
            "icon": "01n",
            "id": 800,
            "main": "Clear"
           }
          ],
          "wind": {
           "deg": 252,
           "gust": 8.08,
           "speed": 4.71
          }
         },
         {
          "clouds": {
           "all": 21
          },
          "dt": 1639018800,
          "dt_txt": "2021-12-09 03:00:00",
          "main": {
           "feels_like": -2.16,
           "grnd_level": 938,
           "humidity": 75,
           "pressure": 1018,
           "sea_level": 1018,
           "temp": 2.51,
           "temp_kf": 0,
           "temp_max": 2.51,
           "temp_min": 2.51
          },
          "pop": 0.03,
          "sys": {
           "pod": "n"
          },
          "visibility": 10000,
          "weather": [
           {
            "description": "few clouds",
            "icon": "02n",
            "id": 801,
            "main": "Clouds"
           }
          ],
          "wind": {
           "deg": 242,
           "gust": 10.89,
           "speed": 5.78
          }
         },
         {
          "clouds": {
           "all": 59
          },
          "dt": 1639029600,
          "dt_txt": "2021-12-09 06:00:00",
          "main": {
           "feels_like": -0.61,
           "grnd_level": 937,
           "humidity": 78,
           "pressure": 1017,
           "sea_level": 1017,
           "temp": 4.2,
           "temp_kf": 0,
           "temp_max": 4.2,
           "temp_min": 4.2
          },
          "pop": 0.08,
          "sys": {
           "pod": "n"
          },
          "visibility": 10000,
          "weather": [
           {
            "description": "broken clouds",
            "icon": "04n",
            "id": 803,
            "main": "Clouds"
           }
          ],
          "wind": {
           "deg": 251,
           "gust": 13.37,
           "speed": 7.25
          }
         },
         {
          "clouds": {
           "all": 100
          },
          "dt": 1639040400,
          "dt_txt": "2021-12-09 09:00:00",
          "main": {
           "feels_like": 1.17,
           "grnd_level": 937,
           "humidity": 85,
           "pressure": 1016,
           "sea_level": 1016,
           "temp": 5.87,
           "temp_kf": 0,
           "temp_max": 5.87,
           "temp_min": 5.87
          },
          "pop": 0.45,
          "rain": {
           "3h": 0.15
          },
          "sys": {
           "pod": "d"
          },
          "visibility": 10000,
          "weather": [
           {
            "description": "light rain",
            "icon": "10d",
            "id": 500,
            "main": "Rain"
           }
          ],
          "wind": {
           "deg": 255,
           "gust": 15.22,
           "speed": 8.43
          }
         },
         {
          "clouds": {
           "all": 100
          },
          "dt": 1639051200,
          "dt_txt": "2021-12-09 12:00:00",
          "main": {
           "feels_like": 4.57,
           "grnd_level": 936,
           "humidity": 80,
           "pressure": 1015,
           "sea_level": 1015,
           "temp": 8.35,
           "temp_kf": 0,
           "temp_max": 8.35,
           "temp_min": 8.35
          },
          "pop": 0.34,
          "sys": {
           "pod": "d"
          },
          "visibility": 10000,
          "weather": [
           {
            "description": "overcast clouds",
            "icon": "04d",
            "id": 804,
            "main": "Clouds"
           }
          ],
          "wind": {
           "deg": 272,
           "gust": 14.91,
           "speed": 7.83
          }
         },
         {
          "clouds": {
           "all": 100
          },
          "dt": 1639062000,
          "dt_txt": "2021-12-09 15:00:00",
          "main": {
           "feels_like": 5.45,
           "grnd_level": 936,
           "humidity": 82,
           "pressure": 1014,
           "sea_level": 1014,
           "temp": 8.99,
           "temp_kf": 0,
           "temp_max": 8.99,
           "temp_min": 8.99
          },
          "pop": 0.34,
          "sys": {
           "pod": "d"
          },
          "visibility": 10000,
          "weather": [
           {
            "description": "overcast clouds",
            "icon": "04d",
            "id": 804,
            "main": "Clouds"
           }
          ],
          "wind": {
           "deg": 270,
           "gust": 14.33,
           "speed": 7.65
          }
         },
         {
          "clouds": {
           "all": 100
          },
          "dt": 1639072800,
          "dt_txt": "2021-12-09 18:00:00",
          "main": {
           "feels_like": 6.28,
           "grnd_level": 936,
           "humidity": 83,
           "pressure": 1014,
           "sea_level": 1014,
           "temp": 9.62,
           "temp_kf": 0,
           "temp_max": 9.62,
           "temp_min": 9.62
          },
          "pop": 0.39,
          "sys": {
           "pod": "n"
          },
          "visibility": 10000,
          "weather": [
           {
            "description": "overcast clouds",
            "icon": "04n",
            "id": 804,
            "main": "Clouds"
           }
          ],
          "wind": {
           "deg": 266,
           "gust": 14.6,
           "speed": 7.61
          }
         },
         {
          "clouds": {
           "all": 98
          },
          "dt": 1639083600,
          "dt_txt": "2021-12-09 21:00:00",
          "main": {
           "feels_like": 9.38,
           "grnd_level": 937,
           "humidity": 81,
           "pressure": 1014,
           "sea_level": 1014,
           "temp": 10.19,
           "temp_kf": 0,
           "temp_max": 10.19,
           "temp_min": 10.19
          },
          "pop": 0.27,
          "sys": {
           "pod": "n"
          },
          "visibility": 10000,
          "weather": [
           {
            "description": "overcast clouds",
            "icon": "04n",
            "id": 804,
            "main": "Clouds"
           }
          ],
          "wind": {
           "deg": 266,
           "gust": 12.72,
           "speed": 6.5
          }
         },
         {
          "clouds": {
           "all": 99
          },
          "dt": 1639094400,
          "dt_txt": "2021-12-10 00:00:00",
          "main": {
           "feels_like": 9.68,
           "grnd_level": 936,
           "humidity": 79,
           "pressure": 1014,
           "sea_level": 1014,
           "temp": 10.51,
           "temp_kf": 0,
           "temp_max": 10.51,
           "temp_min": 10.51
          },
          "pop": 0.29,
          "sys": {
           "pod": "n"
          },
          "visibility": 10000,
          "weather": [
           {
            "description": "overcast clouds",
            "icon": "04n",
            "id": 804,
            "main": "Clouds"
           }
          ],
          "wind": {
           "deg": 265,
           "gust": 13.91,
           "speed": 6.98
          }
         },
         {
          "clouds": {
           "all": 83
          },
          "dt": 1639105200,
          "dt_txt": "2021-12-10 03:00:00",
          "main": {
           "feels_like": 9.81,
           "grnd_level": 936,
           "humidity": 74,
           "pressure": 1013,
           "sea_level": 1013,
           "temp": 10.75,
           "temp_kf": 0,
           "temp_max": 10.75,
           "temp_min": 10.75
          },
          "pop": 0.34,
          "sys": {
           "pod": "n"
          },
          "visibility": 10000,
          "weather": [
           {
            "description": "broken clouds",
            "icon": "04n",
            "id": 803,
            "main": "Clouds"
           }
          ],
          "wind": {
           "deg": 273,
           "gust": 17.19,
           "speed": 8.03
          }
         },
         {
          "clouds": {
           "all": 74
          },
          "dt": 1639116000,
          "dt_txt": "2021-12-10 06:00:00",
          "main": {
           "feels_like": 9.83,
           "grnd_level": 935,
           "humidity": 69,
           "pressure": 1013,
           "sea_level": 1013,
           "temp": 10.88,
           "temp_kf": 0,
           "temp_max": 10.88,
           "temp_min": 10.88
          },
          "pop": 0.29,
          "rain": {
           "3h": 0.13
          },
          "sys": {
           "pod": "n"
          },
          "visibility": 10000,
          "weather": [
           {
            "description": "light rain",
            "icon": "10n",
            "id": 500,
            "main": "Rain"
           }
          ],
          "wind": {
           "deg": 289,
           "gust": 14.55,
           "speed": 6.82
          }
         },
         {
          "clouds": {
           "all": 100
          },
          "dt": 1639126800,
          "dt_txt": "2021-12-10 09:00:00",
          "main": {
           "feels_like": 9.06,
           "grnd_level": 936,
           "humidity": 60,
           "pressure": 1013,
           "sea_level": 1013,
           "temp": 10.4,
           "temp_kf": 0,
           "temp_max": 10.4,
           "temp_min": 10.4
          },
          "pop": 0.15,
          "sys": {
           "pod": "d"
          },
          "visibility": 10000,
          "weather": [
           {
            "description": "overcast clouds",
            "icon": "04d",
            "id": 804,
            "main": "Clouds"
           }
          ],
          "wind": {
           "deg": 290,
           "gust": 11.09,
           "speed": 5.11
          }
         },
         {
          "clouds": {
           "all": 100
          },
          "dt": 1639137600,
          "dt_txt": "2021-12-10 12:00:00",
          "main": {
           "feels_like": 9.87,
           "grnd_level": 936,
           "humidity": 53,
           "pressure": 1013,
           "sea_level": 1013,
           "temp": 11.3,
           "temp_kf": 0,
           "temp_max": 11.3,
           "temp_min": 11.3
          },
          "pop": 0.15,
          "sys": {
           "pod": "d"
          },
          "visibility": 10000,
          "weather": [
           {
            "description": "overcast clouds",
            "icon": "04d",
            "id": 804,
            "main": "Clouds"
           }
          ],
          "wind": {
           "deg": 297,
           "gust": 13.52,
           "speed": 6.9
          }
         }
        ],
        "message": 0
       },
       {
        "city": {
         "coord": {
          "lat": 50.4333,
          "lon": 30.5167
         },
         "country": "UA",
         "id": 703448,
         "name": "Kyiv",
         "population": 2514227,
         "sunrise": 1638682911,
         "sunset": 1638712537,
         "timezone": 7200
        },
        "cnt": 40,
        "cod": "200",
        "list": [
         {
          "clouds": {
           "all": 33
          },
          "dt": 1638716400,
          "dt_txt": "2021-12-05 15:00:00",
          "main": {
           "feels_like": -3.81,
           "grnd_level": 997,
           "humidity": 76,
           "pressure": 1008,
           "sea_level": 1008,
           "temp": -0.54,
           "temp_kf": 0.05,
           "temp_max": -0.54,
           "temp_min": -0.59
          },
          "pop": 0,
          "sys": {
           "pod": "n"
          },
          "visibility": 10000,
          "weather": [
           {
            "description": "scattered clouds",
            "icon": "03n",
            "id": 802,
            "main": "Clouds"
           }
          ],
          "wind": {
           "deg": 126,
           "gust": 7.63,
           "speed": 2.64
          }
         },
         {
          "clouds": {
           "all": 67
          },
          "dt": 1638727200,
          "dt_txt": "2021-12-05 18:00:00",
          "main": {
           "feels_like": -3.88,
           "grnd_level": 997,
           "humidity": 77,
           "pressure": 1011,
           "sea_level": 1011,
           "temp": -0.33,
           "temp_kf": -0.09,
           "temp_max": -0.24,
           "temp_min": -0.33
          },
          "pop": 0,
          "sys": {
           "pod": "n"
          },
          "visibility": 10000,
          "weather": [
           {
            "description": "broken clouds",
            "icon": "04n",
            "id": 803,
            "main": "Clouds"
           }
          ],
          "wind": {
           "deg": 136,
           "gust": 9.08,
           "speed": 2.98
          }
         },
         {
          "clouds": {
           "all": 100
          },
          "dt": 1638738000,
          "dt_txt": "2021-12-05 21:00:00",
          "main": {
           "feels_like": -4.45,
           "grnd_level": 998,
           "humidity": 91,
           "pressure": 1014,
           "sea_level": 1014,
           "temp": -0.57,
           "temp_kf": 0,
           "temp_max": -0.57,
           "temp_min": -0.57
          },
          "pop": 0.37,
          "snow": {
           "3h": 0.31
          },
          "sys": {
           "pod": "n"
          },
          "visibility": 1377,
          "weather": [
           {
            "description": "light snow",
            "icon": "13n",
            "id": 600,
            "main": "Snow"
           }
          ],
          "wind": {
           "deg": 136,
           "gust": 8.56,
           "speed": 3.3
          }
         },
         {
          "clouds": {
           "all": 100
          },
          "dt": 1638748800,
          "dt_txt": "2021-12-06 00:00:00",
          "main": {
           "feels_like": -4.43,
           "grnd_level": 997,
           "humidity": 97,
           "pressure": 1013,
           "sea_level": 1013,
           "temp": -0.28,
           "temp_kf": 0,
           "temp_max": -0.28,
           "temp_min": -0.28
          },
          "pop": 0.65,
          "snow": {
           "3h": 1.4
          },
          "sys": {
           "pod": "n"
          },
          "visibility": 293,
          "weather": [
           {
            "description": "light snow",
            "icon": "13n",
            "id": 600,
            "main": "Snow"
           }
          ],
          "wind": {
           "deg": 128,
           "gust": 9.33,
           "speed": 3.73
          }
         },
         {
          "clouds": {
           "all": 100
          },
          "dt": 1638759600,
          "dt_txt": "2021-12-06 03:00:00",
          "main": {
           "feels_like": -3.55,
           "grnd_level": 996,
           "humidity": 98,
           "pressure": 1012,
           "sea_level": 1012,
           "temp": 0.36,
           "temp_kf": 0,
           "temp_max": 0.36,
           "temp_min": 0.36
          },
          "pop": 0.85,
          "snow": {
           "3h": 0.64
          },
          "sys": {
           "pod": "n"
          },
          "visibility": 3518,
          "weather": [
           {
            "description": "light snow",
            "icon": "13n",
            "id": 600,
            "main": "Snow"
           }
          ],
          "wind": {
           "deg": 134,
           "gust": 9.75,
           "speed": 3.6
          }
         },
         {
          "clouds": {
           "all": 100
          },
          "dt": 1638770400,
          "dt_txt": "2021-12-06 06:00:00",
          "main": {
           "feels_like": -2.6,
           "grnd_level": 996,
           "humidity": 98,
           "pressure": 1012,
           "sea_level": 1012,
           "temp": 0.71,
           "temp_kf": 0,
           "temp_max": 0.71,
           "temp_min": 0.71
          },
          "pop": 0.74,
          "rain": {
           "3h": 0.23
          },
          "sys": {
           "pod": "d"
          },
          "visibility": 9107,
          "weather": [
           {
            "description": "light rain",
            "icon": "10d",
            "id": 500,
            "main": "Rain"
           }
          ],
          "wind": {
           "deg": 133,
           "gust": 7.36,
           "speed": 2.94
          }
         },
         {
          "clouds": {
           "all": 100
          },
          "dt": 1638781200,
          "dt_txt": "2021-12-06 09:00:00",
          "main": {
           "feels_like": -1.66,
           "grnd_level": 996,
           "humidity": 99,
           "pressure": 1013,
           "sea_level": 1013,
           "temp": 1.16,
           "temp_kf": 0,
           "temp_max": 1.16,
           "temp_min": 1.16
          },
          "pop": 0,
          "sys": {
           "pod": "d"
          },
          "visibility": 10000,
          "weather": [
           {
            "description": "overcast clouds",
            "icon": "04d",
            "id": 804,
            "main": "Clouds"
           }
          ],
          "wind": {
           "deg": 126,
           "gust": 5.93,
           "speed": 2.51
          }
         },
         {
          "clouds": {
           "all": 100
          },
          "dt": 1638792000,
          "dt_txt": "2021-12-06 12:00:00",
          "main": {
           "feels_like": -1.45,
           "grnd_level": 995,
           "humidity": 100,
           "pressure": 1011,
           "sea_level": 1011,
           "temp": 1.5,
           "temp_kf": 0,
           "temp_max": 1.5,
           "temp_min": 1.5
          },
          "pop": 0.06,
          "sys": {
           "pod": "d"
          },
          "visibility": 344,
          "weather": [
           {
            "description": "overcast clouds",
            "icon": "04d",
            "id": 804,
            "main": "Clouds"
           }
          ],
          "wind": {
           "deg": 117,
           "gust": 6.24,
           "speed": 2.72
          }
         },
         {
          "clouds": {
           "all": 100
          },
          "dt": 1638802800,
          "dt_txt": "2021-12-06 15:00:00",
          "main": {
           "feels_like": -1.46,
           "grnd_level": 995,
           "humidity": 99,
           "pressure": 1011,
           "sea_level": 1011,
           "temp": 1.71,
           "temp_kf": 0,
           "temp_max": 1.71,
           "temp_min": 1.71
          },
          "pop": 0.33,
          "rain": {
           "3h": 0.14
          },
          "sys": {
           "pod": "n"
          },
          "visibility": 223,
          "weather": [
           {
            "description": "light rain",
            "icon": "10n",
            "id": 500,
            "main": "Rain"
           }
          ],
          "wind": {
           "deg": 115,
           "gust": 8.08,
           "speed": 3.02
          }
         },
         {
          "clouds": {
           "all": 100
          },
          "dt": 1638813600,
          "dt_txt": "2021-12-06 18:00:00",
          "main": {
           "feels_like": -0.95,
           "grnd_level": 993,
           "humidity": 99,
           "pressure": 1010,
           "sea_level": 1010,
           "temp": 2,
           "temp_kf": 0,
           "temp_max": 2,
           "temp_min": 2
          },
          "pop": 0.96,
          "rain": {
           "3h": 1.51
          },
          "sys": {
           "pod": "n"
          },
          "visibility": 145,
          "weather": [
           {
            "description": "light rain",
            "icon": "10n",
            "id": 500,
            "main": "Rain"
           }
          ],
          "wind": {
           "deg": 116,
           "gust": 8.65,
           "speed": 2.82
          }
         },
         {
          "clouds": {
           "all": 100
          },
          "dt": 1638824400,
          "dt_txt": "2021-12-06 21:00:00",
          "main": {
           "feels_like": 0.1,
           "grnd_level": 992,
           "humidity": 100,
           "pressure": 1008,
           "sea_level": 1008,
           "temp": 2.73,
           "temp_kf": 0,
           "temp_max": 2.73,
           "temp_min": 2.73
          },
          "pop": 0.46,
          "rain": {
           "3h": 0.22
          },
          "sys": {
           "pod": "n"
          },
          "visibility": 123,
          "weather": [
           {
            "description": "light rain",
            "icon": "10n",
            "id": 500,
            "main": "Rain"
           }
          ],
          "wind": {
           "deg": 149,
           "gust": 9.17,
           "speed": 2.62
          }
         },
         {
          "clouds": {
           "all": 100
          },
          "dt": 1638835200,
          "dt_txt": "2021-12-07 00:00:00",
          "main": {
           "feels_like": 1.11,
           "grnd_level": 992,
           "humidity": 100,
           "pressure": 1008,
           "sea_level": 1008,
           "temp": 3.23,
           "temp_kf": 0,
           "temp_max": 3.23,
           "temp_min": 3.23
          },
          "pop": 0.35,
          "sys": {
           "pod": "n"
          },
          "visibility": 110,
          "weather": [
           {
            "description": "overcast clouds",
            "icon": "04n",
            "id": 804,
            "main": "Clouds"
           }
          ],
          "wind": {
           "deg": 176,
           "gust": 6.02,
           "speed": 2.18
          }
         },
         {
          "clouds": {
           "all": 100
          },
          "dt": 1638846000,
          "dt_txt": "2021-12-07 03:00:00",
          "main": {
           "feels_like": 1.62,
           "grnd_level": 992,
           "humidity": 100,
           "pressure": 1008,
           "sea_level": 1008,
           "temp": 3.22,
           "temp_kf": 0,
           "temp_max": 3.22,
           "temp_min": 3.22
          },
          "pop": 0,
          "sys": {
           "pod": "n"
          },
          "visibility": 87,
          "weather": [
           {
            "description": "overcast clouds",
            "icon": "04n",
            "id": 804,
            "main": "Clouds"
           }
          ],
          "wind": {
           "deg": 215,
           "gust": 4.28,
           "speed": 1.72
          }
         },
         {
          "clouds": {
           "all": 100
          },
          "dt": 1638856800,
          "dt_txt": "2021-12-07 06:00:00",
          "main": {
           "feels_like": 2.86,
           "grnd_level": 992,
           "humidity": 99,
           "pressure": 1008,
           "sea_level": 1008,
           "temp": 2.86,
           "temp_kf": 0,
           "temp_max": 2.86,
           "temp_min": 2.86
          },
          "pop": 0,
          "sys": {
           "pod": "d"
          },
          "visibility": 88,
          "weather": [
           {
            "description": "overcast clouds",
            "icon": "04d",
            "id": 804,
            "main": "Clouds"
           }
          ],
          "wind": {
           "deg": 270,
           "gust": 2.38,
           "speed": 1.31
          }
         },
         {
          "clouds": {
           "all": 100
          },
          "dt": 1638867600,
          "dt_txt": "2021-12-07 09:00:00",
          "main": {
           "feels_like": 0.87,
           "grnd_level": 992,
           "humidity": 99,
           "pressure": 1008,
           "sea_level": 1008,
           "temp": 2.68,
           "temp_kf": 0,
           "temp_max": 2.68,
           "temp_min": 2.68
          },
          "pop": 0.87,
          "rain": {
           "3h": 0.46
          },
          "sys": {
           "pod": "d"
          },
          "visibility": 164,
          "weather": [
           {
            "description": "light rain",
            "icon": "10d",
            "id": 500,
            "main": "Rain"
           }
          ],
          "wind": {
           "deg": 307,
           "gust": 3.15,
           "speed": 1.83
          }
         },
         {
          "clouds": {
           "all": 100
          },
          "dt": 1638878400,
          "dt_txt": "2021-12-07 12:00:00",
          "main": {
           "feels_like": 0.66,
           "grnd_level": 991,
           "humidity": 98,
           "pressure": 1007,
           "sea_level": 1007,
           "temp": 2.61,
           "temp_kf": 0,
           "temp_max": 2.61,
           "temp_min": 2.61
          },
          "pop": 0.92,
          "rain": {
           "3h": 0.47
          },
          "sys": {
           "pod": "d"
          },
          "visibility": 1224,
          "weather": [
           {
            "description": "light rain",
            "icon": "10d",
            "id": 500,
            "main": "Rain"
           }
          ],
          "wind": {
           "deg": 315,
           "gust": 3.3,
           "speed": 1.93
          }
         },
         {
          "clouds": {
           "all": 100
          },
          "dt": 1638889200,
          "dt_txt": "2021-12-07 15:00:00",
          "main": {
           "feels_like": -0.51,
           "grnd_level": 992,
           "humidity": 97,
           "pressure": 1008,
           "sea_level": 1008,
           "temp": 2.31,
           "temp_kf": 0,
           "temp_max": 2.31,
           "temp_min": 2.31
          },
          "pop": 0.89,
          "rain": {
           "3h": 0.33
          },
          "sys": {
           "pod": "n"
          },
          "visibility": 2908,
          "weather": [
           {
            "description": "light rain",
            "icon": "10n",
            "id": 500,
            "main": "Rain"
           }
          ],
          "wind": {
           "deg": 333,
           "gust": 5.43,
           "speed": 2.75
          }
         },
         {
          "clouds": {
           "all": 100
          },
          "dt": 1638900000,
          "dt_txt": "2021-12-07 18:00:00",
          "main": {
           "feels_like": -0.62,
           "grnd_level": 992,
           "humidity": 97,
           "pressure": 1009,
           "sea_level": 1009,
           "temp": 2.04,
           "temp_kf": 0,
           "temp_max": 2.04,
           "temp_min": 2.04
          },
          "pop": 0.77,
          "rain": {
           "3h": 0.25
          },
          "sys": {
           "pod": "n"
          },
          "visibility": 4223,
          "weather": [
           {
            "description": "light rain",
            "icon": "10n",
            "id": 500,
            "main": "Rain"
           }
          ],
          "wind": {
           "deg": 333,
           "gust": 4.73,
           "speed": 2.51
          }
         },
         {
          "clouds": {
           "all": 100
          },
          "dt": 1638910800,
          "dt_txt": "2021-12-07 21:00:00",
          "main": {
           "feels_like": -1.31,
           "grnd_level": 993,
           "humidity": 97,
           "pressure": 1010,
           "sea_level": 1010,
           "temp": 1.68,
           "temp_kf": 0,
           "temp_max": 1.68,
           "temp_min": 1.68
          },
          "pop": 0.56,
          "rain": {
           "3h": 0.1
          },
          "sys": {
           "pod": "n"
          },
          "visibility": 140,
          "weather": [
           {
            "description": "light rain",
            "icon": "10n",
            "id": 500,
            "main": "Rain"
           }
          ],
          "wind": {
           "deg": 331,
           "gust": 5.62,
           "speed": 2.8
          }
         },
         {
          "clouds": {
           "all": 100
          },
          "dt": 1638921600,
          "dt_txt": "2021-12-08 00:00:00",
          "main": {
           "feels_like": -2.18,
           "grnd_level": 994,
           "humidity": 98,
           "pressure": 1010,
           "sea_level": 1010,
           "temp": 1.2,
           "temp_kf": 0,
           "temp_max": 1.2,
           "temp_min": 1.2
          },
          "pop": 0.96,
          "rain": {
           "3h": 1.26
          },
          "sys": {
           "pod": "n"
          },
          "visibility": 41,
          "weather": [
           {
            "description": "light rain",
            "icon": "10n",
            "id": 500,
            "main": "Rain"
           }
          ],
          "wind": {
           "deg": 342,
           "gust": 6.5,
           "speed": 3.14
          }
         },
         {
          "clouds": {
           "all": 100
          },
          "dt": 1638932400,
          "dt_txt": "2021-12-08 03:00:00",
          "main": {
           "feels_like": -2.3,
           "grnd_level": 994,
           "humidity": 93,
           "pressure": 1010,
           "sea_level": 1010,
           "temp": 1.22,
           "temp_kf": 0,
           "temp_max": 1.22,
           "temp_min": 1.22
          },
          "pop": 0,
          "sys": {
           "pod": "n"
          },
          "visibility": 10000,
          "weather": [
           {
            "description": "overcast clouds",
            "icon": "04n",
            "id": 804,
            "main": "Clouds"
           }
          ],
          "wind": {
           "deg": 359,
           "gust": 7.01,
           "speed": 3.32
          }
         },
         {
          "clouds": {
           "all": 100
          },
          "dt": 1638943200,
          "dt_txt": "2021-12-08 06:00:00",
          "main": {
           "feels_like": -3.31,
           "grnd_level": 995,
           "humidity": 90,
           "pressure": 1011,
           "sea_level": 1011,
           "temp": 0.84,
           "temp_kf": 0,
           "temp_max": 0.84,
           "temp_min": 0.84
          },
          "pop": 0,
          "sys": {
           "pod": "d"
          },
          "visibility": 10000,
          "weather": [
           {
            "description": "overcast clouds",
            "icon": "04d",
            "id": 804,
            "main": "Clouds"
           }
          ],
          "wind": {
           "deg": 10,
           "gust": 8.41,
           "speed": 4.08
          }
         },
         {
          "clouds": {
           "all": 100
          },
          "dt": 1638954000,
          "dt_txt": "2021-12-08 09:00:00",
          "main": {
           "feels_like": -3.65,
           "grnd_level": 994,
           "humidity": 89,
           "pressure": 1010,
           "sea_level": 1010,
           "temp": 0.85,
           "temp_kf": 0,
           "temp_max": 0.85,
           "temp_min": 0.85
          },
          "pop": 0.33,
          "rain": {
           "3h": 0.11
          },
          "sys": {
           "pod": "d"
          },
          "visibility": 10000,
          "weather": [
           {
            "description": "light rain",
            "icon": "10d",
            "id": 500,
            "main": "Rain"
           }
          ],
          "wind": {
           "deg": 11,
           "gust": 8.27,
           "speed": 4.65
          }
         },
         {
          "clouds": {
           "all": 100
          },
          "dt": 1638964800,
          "dt_txt": "2021-12-08 12:00:00",
          "main": {
           "feels_like": -4.16,
           "grnd_level": 993,
           "humidity": 94,
           "pressure": 1009,
           "sea_level": 1009,
           "temp": 0.65,
           "temp_kf": 0,
           "temp_max": 0.65,
           "temp_min": 0.65
          },
          "pop": 0.81,
          "rain": {
           "3h": 1.63
          },
          "sys": {
           "pod": "d"
          },
          "visibility": 5212,
          "weather": [
           {
            "description": "light rain",
            "icon": "10d",
            "id": 500,
            "main": "Rain"
           }
          ],
          "wind": {
           "deg": 4,
           "gust": 10.29,
           "speed": 5.1
          }
         },
         {
          "clouds": {
           "all": 100
          },
          "dt": 1638975600,
          "dt_txt": "2021-12-08 15:00:00",
          "main": {
           "feels_like": -4.26,
           "grnd_level": 993,
           "humidity": 95,
           "pressure": 1009,
           "sea_level": 1009,
           "temp": 0.61,
           "temp_kf": 0,
           "temp_max": 0.61,
           "temp_min": 0.61
          },
          "pop": 1,
          "rain": {
           "3h": 2.26
          },
          "sys": {
           "pod": "n"
          },
          "visibility": 8237,
          "weather": [
           {
            "description": "light rain",
            "icon": "10n",
            "id": 500,
            "main": "Rain"
           }
          ],
          "wind": {
           "deg": 1,
           "gust": 10.6,
           "speed": 5.2
          }
         },
         {
          "clouds": {
           "all": 100
          },
          "dt": 1638986400,
          "dt_txt": "2021-12-08 18:00:00",
          "main": {
           "feels_like": -3.7,
           "grnd_level": 993,
           "humidity": 95,
           "pressure": 1009,
           "sea_level": 1009,
           "temp": 0.68,
           "temp_kf": 0,
           "temp_max": 0.68,
           "temp_min": 0.68
          },
          "pop": 1,
          "rain": {
           "3h": 1.18
          },
          "sys": {
           "pod": "n"
          },
          "visibility": 9207,
          "weather": [
           {
            "description": "light rain",
            "icon": "10n",
            "id": 500,
            "main": "Rain"
           }
          ],
          "wind": {
           "deg": 0,
           "gust": 8.84,
           "speed": 4.39
          }
         },
         {
          "clouds": {
           "all": 100
          },
          "dt": 1638997200,
          "dt_txt": "2021-12-08 21:00:00",
          "main": {
           "feels_like": -3.51,
           "grnd_level": 993,
           "humidity": 94,
           "pressure": 1009,
           "sea_level": 1009,
           "temp": 0.61,
           "temp_kf": 0,
           "temp_max": 0.61,
           "temp_min": 0.61
          },
          "pop": 1,
          "rain": {
           "3h": 0.74
          },
          "sys": {
           "pod": "n"
          },
          "visibility": 10000,
          "weather": [
           {
            "description": "light rain",
            "icon": "10n",
            "id": 500,
            "main": "Rain"
           }
          ],
          "wind": {
           "deg": 350,
           "gust": 7.69,
           "speed": 3.96
          }
         },
         {
          "clouds": {
           "all": 100
          },
          "dt": 1639008000,
          "dt_txt": "2021-12-09 00:00:00",
          "main": {
           "feels_like": -4.29,
           "grnd_level": 994,
           "humidity": 94,
           "pressure": 1010,
           "sea_level": 1010,
           "temp": -0.02,
           "temp_kf": 0,
           "temp_max": -0.02,
           "temp_min": -0.02
          },
          "pop": 1,
          "snow": {
           "3h": 0.62
          },
          "sys": {
           "pod": "n"
          },
          "visibility": 9668,
          "weather": [
           {
            "description": "light snow",
            "icon": "13n",
            "id": 600,
            "main": "Snow"
           },
           {
            "description": "freezing rain",
            "icon": "13n",
            "id": 511,
            "main": "Rain"
           }
          ],
          "wind": {
           "deg": 323,
           "gust": 7.02,
           "speed": 3.98
          }
         },
         {
          "clouds": {
           "all": 100
          },
          "dt": 1639018800,
          "dt_txt": "2021-12-09 03:00:00",
          "main": {
           "feels_like": -4.34,
           "grnd_level": 994,
           "humidity": 92,
           "pressure": 1010,
           "sea_level": 1010,
           "temp": -0.27,
           "temp_kf": 0,
           "temp_max": -0.27,
           "temp_min": -0.27
          },
          "pop": 0.37,
          "snow": {
           "3h": 0.13
          },
          "sys": {
           "pod": "n"
          },
          "visibility": 10000,
          "weather": [
           {
            "description": "light snow",
            "icon": "13n",
            "id": 600,
            "main": "Snow"
           }
          ],
          "wind": {
           "deg": 327,
           "gust": 6.56,
           "speed": 3.62
          }
         },
         {
          "clouds": {
           "all": 100
          },
          "dt": 1639029600,
          "dt_txt": "2021-12-09 06:00:00",
          "main": {
           "feels_like": -5.45,
           "grnd_level": 996,
           "humidity": 92,
           "pressure": 1012,
           "sea_level": 1012,
           "temp": -0.94,
           "temp_kf": 0,
           "temp_max": -0.94,
           "temp_min": -0.94
          },
          "pop": 0.09,
          "sys": {
           "pod": "d"
          },
          "visibility": 10000,
          "weather": [
           {
            "description": "overcast clouds",
            "icon": "04d",
            "id": 804,
            "main": "Clouds"
           }
          ],
          "wind": {
           "deg": 310,
           "gust": 6.57,
           "speed": 4.02
          }
         },
         {
          "clouds": {
           "all": 100
          },
          "dt": 1639040400,
          "dt_txt": "2021-12-09 09:00:00",
          "main": {
           "feels_like": -3.76,
           "grnd_level": 997,
           "humidity": 89,
           "pressure": 1014,
           "sea_level": 1014,
           "temp": -0.33,
           "temp_kf": 0,
           "temp_max": -0.33,
           "temp_min": -0.33
          },
          "pop": 0,
          "sys": {
           "pod": "d"
          },
          "visibility": 10000,
          "weather": [
           {
            "description": "overcast clouds",
            "icon": "04d",
            "id": 804,
            "main": "Clouds"
           }
          ],
          "wind": {
           "deg": 318,
           "gust": 4.37,
           "speed": 2.85
          }
         },
         {
          "clouds": {
           "all": 94
          },
          "dt": 1639051200,
          "dt_txt": "2021-12-09 12:00:00",
          "main": {
           "feels_like": -2.41,
           "grnd_level": 998,
           "humidity": 87,
           "pressure": 1014,
           "sea_level": 1014,
           "temp": 0.66,
           "temp_kf": 0,
           "temp_max": 0.66,
           "temp_min": 0.66
          },
          "pop": 0,
          "sys": {
           "pod": "d"
          },
          "visibility": 10000,
          "weather": [
           {
            "description": "overcast clouds",
            "icon": "04d",
            "id": 804,
            "main": "Clouds"
           }
          ],
          "wind": {
           "deg": 295,
           "gust": 3.82,
           "speed": 2.67
          }
         },
         {
          "clouds": {
           "all": 58
          },
          "dt": 1639062000,
          "dt_txt": "2021-12-09 15:00:00",
          "main": {
           "feels_like": -2.23,
           "grnd_level": 999,
           "humidity": 92,
           "pressure": 1016,
           "sea_level": 1016,
           "temp": -0.55,
           "temp_kf": 0,
           "temp_max": -0.55,
           "temp_min": -0.55
          },
          "pop": 0,
          "sys": {
           "pod": "n"
          },
          "visibility": 10000,
          "weather": [
           {
            "description": "broken clouds",
            "icon": "04n",
            "id": 803,
            "main": "Clouds"
           }
          ],
          "wind": {
           "deg": 295,
           "gust": 1.87,
           "speed": 1.41
          }
         },
         {
          "clouds": {
           "all": 63
          },
          "dt": 1639072800,
          "dt_txt": "2021-12-09 18:00:00",
          "main": {
           "feels_like": -0.78,
           "grnd_level": 1000,
           "humidity": 93,
           "pressure": 1017,
           "sea_level": 1017,
           "temp": -0.78,
           "temp_kf": 0,
           "temp_max": -0.78,
           "temp_min": -0.78
          },
          "pop": 0,
          "sys": {
           "pod": "n"
          },
          "visibility": 10000,
          "weather": [
           {
            "description": "broken clouds",
            "icon": "04n",
            "id": 803,
            "main": "Clouds"
           }
          ],
          "wind": {
           "deg": 287,
           "gust": 0.2,
           "speed": 0.23
          }
         },
         {
          "clouds": {
           "all": 50
          },
          "dt": 1639083600,
          "dt_txt": "2021-12-09 21:00:00",
          "main": {
           "feels_like": -2.86,
           "grnd_level": 1000,
           "humidity": 93,
           "pressure": 1017,
           "sea_level": 1017,
           "temp": -0.74,
           "temp_kf": 0,
           "temp_max": -0.74,
           "temp_min": -0.74
          },
          "pop": 0,
          "sys": {
           "pod": "n"
          },
          "visibility": 10000,
          "weather": [
           {
            "description": "scattered clouds",
            "icon": "03n",
            "id": 802,
            "main": "Clouds"
           }
          ],
          "wind": {
           "deg": 132,
           "gust": 2.73,
           "speed": 1.67
          }
         },
         {
          "clouds": {
           "all": 63
          },
          "dt": 1639094400,
          "dt_txt": "2021-12-10 00:00:00",
          "main": {
           "feels_like": -3.43,
           "grnd_level": 1000,
           "humidity": 93,
           "pressure": 1017,
           "sea_level": 1017,
           "temp": -0.33,
           "temp_kf": 0,
           "temp_max": -0.33,
           "temp_min": -0.33
          },
          "pop": 0,
          "sys": {
           "pod": "n"
          },
          "visibility": 10000,
          "weather": [
           {
            "description": "broken clouds",
            "icon": "04n",
            "id": 803,
            "main": "Clouds"
           }
          ],
          "wind": {
           "deg": 133,
           "gust": 6.22,
           "speed": 2.52
          }
         },
         {
          "clouds": {
           "all": 100
          },
          "dt": 1639105200,
          "dt_txt": "2021-12-10 03:00:00",
          "main": {
           "feels_like": -3.63,
           "grnd_level": 999,
           "humidity": 93,
           "pressure": 1015,
           "sea_level": 1015,
           "temp": 0.43,
           "temp_kf": 0,
           "temp_max": 0.43,
           "temp_min": 0.43
          },
          "pop": 0,
          "sys": {
           "pod": "n"
          },
          "visibility": 10000,
          "weather": [
           {
            "description": "overcast clouds",
            "icon": "04n",
            "id": 804,
            "main": "Clouds"
           }
          ],
          "wind": {
           "deg": 129,
           "gust": 10.73,
           "speed": 3.82
          }
         },
         {
          "clouds": {
           "all": 86
          },
          "dt": 1639116000,
          "dt_txt": "2021-12-10 06:00:00",
          "main": {
           "feels_like": -3.44,
           "grnd_level": 999,
           "humidity": 93,
           "pressure": 1015,
           "sea_level": 1015,
           "temp": 0.97,
           "temp_kf": 0,
           "temp_max": 0.97,
           "temp_min": 0.97
          },
          "pop": 0,
          "sys": {
           "pod": "d"
          },
          "visibility": 10000,
          "weather": [
           {
            "description": "overcast clouds",
            "icon": "04d",
            "id": 804,
            "main": "Clouds"
           }
          ],
          "wind": {
           "deg": 128,
           "gust": 13.23,
           "speed": 4.55
          }
         },
         {
          "clouds": {
           "all": 97
          },
          "dt": 1639126800,
          "dt_txt": "2021-12-10 09:00:00",
          "main": {
           "feels_like": -0.74,
           "grnd_level": 998,
           "humidity": 92,
           "pressure": 1014,
           "sea_level": 1014,
           "temp": 3.42,
           "temp_kf": 0,
           "temp_max": 3.42,
           "temp_min": 3.42
          },
          "pop": 0,
          "sys": {
           "pod": "d"
          },
          "visibility": 10000,
          "weather": [
           {
            "description": "overcast clouds",
            "icon": "04d",
            "id": 804,
            "main": "Clouds"
           }
          ],
          "wind": {
           "deg": 132,
           "gust": 13.86,
           "speed": 5.2
          }
         },
         {
          "clouds": {
           "all": 98
          },
          "dt": 1639137600,
          "dt_txt": "2021-12-10 12:00:00",
          "main": {
           "feels_like": 0.8,
           "grnd_level": 997,
           "humidity": 93,
           "pressure": 1013,
           "sea_level": 1013,
           "temp": 4.78,
           "temp_kf": 0,
           "temp_max": 4.78,
           "temp_min": 4.78
          },
          "pop": 0,
          "sys": {
           "pod": "d"
          },
          "visibility": 10000,
          "weather": [
           {
            "description": "overcast clouds",
            "icon": "04d",
            "id": 804,
            "main": "Clouds"
           }
          ],
          "wind": {
           "deg": 130,
           "gust": 14.1,
           "speed": 5.58
          }
         }
        ],
        "message": 0
       },
       {
        "city": {
         "coord": {
          "lat": 41.8947,
          "lon": 12.4839
         },
         "country": "IT",
         "id": 3169070,
         "name": "Rome",
         "population": 15000,
         "sunrise": 1638685348,
         "sunset": 1638718759,
         "timezone": 3600
        },
        "cnt": 40,
        "cod": "200",
        "list": [
         {
          "clouds": {
           "all": 40
          },
          "dt": 1638716400,
          "dt_txt": "2021-12-05 15:00:00",
          "main": {
           "feels_like": 12.76,
           "grnd_level": 999,
           "humidity": 62,
           "pressure": 1001,
           "sea_level": 1001,
           "temp": 13.71,
           "temp_kf": 1.44,
           "temp_max": 13.71,
           "temp_min": 12.27
          },
          "pop": 0.69,
          "rain": {
           "3h": 0.28
          },
          "sys": {
           "pod": "d"
          },
          "visibility": 10000,
          "weather": [
           {
            "description": "light rain",
            "icon": "10d",
            "id": 500,
            "main": "Rain"
           }
          ],
          "wind": {
           "deg": 226,
           "gust": 4.74,
           "speed": 2.6
          }
         },
         {
          "clouds": {
           "all": 57
          },
          "dt": 1638727200,
          "dt_txt": "2021-12-05 18:00:00",
          "main": {
           "feels_like": 11.66,
           "grnd_level": 998,
           "humidity": 65,
           "pressure": 1001,
           "sea_level": 1001,
           "temp": 12.64,
           "temp_kf": 2.15,
           "temp_max": 12.64,
           "temp_min": 10.49
          },
          "pop": 0.75,
          "rain": {
           "3h": 0.38
          },
          "sys": {
           "pod": "n"
          },
          "visibility": 10000,
          "weather": [
           {
            "description": "light rain",
            "icon": "10n",
            "id": 500,
            "main": "Rain"
           }
          ],
          "wind": {
           "deg": 223,
           "gust": 3.18,
           "speed": 0.94
          }
         },
         {
          "clouds": {
           "all": 77
          },
          "dt": 1638738000,
          "dt_txt": "2021-12-05 21:00:00",
          "main": {
           "feels_like": 9.8,
           "grnd_level": 999,
           "humidity": 72,
           "pressure": 1002,
           "sea_level": 1002,
           "temp": 10.79,
           "temp_kf": 1.46,
           "temp_max": 10.79,
           "temp_min": 9.33
          },
          "pop": 0.58,
          "rain": {
           "3h": 0.47
          },
          "sys": {
           "pod": "n"
          },
          "visibility": 10000,
          "weather": [
           {
            "description": "light rain",
            "icon": "10n",
            "id": 500,
            "main": "Rain"
           }
          ],
          "wind": {
           "deg": 82,
           "gust": 1.98,
           "speed": 1.13
          }
         },
         {
          "clouds": {
           "all": 82
          },
          "dt": 1638748800,
          "dt_txt": "2021-12-06 00:00:00",
          "main": {
           "feels_like": 7.14,
           "grnd_level": 998,
           "humidity": 82,
           "pressure": 1002,
           "sea_level": 1002,
           "temp": 8.12,
           "temp_kf": 0,
           "temp_max": 8.12,
           "temp_min": 8.12
          },
          "pop": 0.46,
          "rain": {
           "3h": 0.17
          },
          "sys": {
           "pod": "n"
          },
          "visibility": 10000,
          "weather": [
           {
            "description": "light rain",
            "icon": "10n",
            "id": 500,
            "main": "Rain"
           }
          ],
          "wind": {
           "deg": 81,
           "gust": 3.52,
           "speed": 1.85
          }
         },
         {
          "clouds": {
           "all": 90
          },
          "dt": 1638759600,
          "dt_txt": "2021-12-06 03:00:00",
          "main": {
           "feels_like": 6.94,
           "grnd_level": 997,
           "humidity": 81,
           "pressure": 1001,
           "sea_level": 1001,
           "temp": 8.28,
           "temp_kf": 0,
           "temp_max": 8.28,
           "temp_min": 8.28
          },
          "pop": 0.16,
          "sys": {
           "pod": "n"
          },
          "visibility": 10000,
          "weather": [
           {
            "description": "overcast clouds",
            "icon": "04n",
            "id": 804,
            "main": "Clouds"
           }
          ],
          "wind": {
           "deg": 52,
           "gust": 4.53,
           "speed": 2.3
          }
         },
         {
          "clouds": {
           "all": 95
          },
          "dt": 1638770400,
          "dt_txt": "2021-12-06 06:00:00",
          "main": {
           "feels_like": 6.97,
           "grnd_level": 998,
           "humidity": 79,
           "pressure": 1002,
           "sea_level": 1002,
           "temp": 8.26,
           "temp_kf": 0,
           "temp_max": 8.26,
           "temp_min": 8.26
          },
          "pop": 0.29,
          "rain": {
           "3h": 0.13
          },
          "sys": {
           "pod": "n"
          },
          "visibility": 10000,
          "weather": [
           {
            "description": "light rain",
            "icon": "10n",
            "id": 500,
            "main": "Rain"
           }
          ],
          "wind": {
           "deg": 27,
           "gust": 4.13,
           "speed": 2.23
          }
         },
         {
          "clouds": {
           "all": 100
          },
          "dt": 1638781200,
          "dt_txt": "2021-12-06 09:00:00",
          "main": {
           "feels_like": 6.1,
           "grnd_level": 999,
           "humidity": 71,
           "pressure": 1003,
           "sea_level": 1003,
           "temp": 8.59,
           "temp_kf": 0,
           "temp_max": 8.59,
           "temp_min": 8.59
          },
          "pop": 0.33,
          "sys": {
           "pod": "d"
          },
          "visibility": 10000,
          "weather": [
           {
            "description": "overcast clouds",
            "icon": "04d",
            "id": 804,
            "main": "Clouds"
           }
          ],
          "wind": {
           "deg": 8,
           "gust": 7.04,
           "speed": 4.35
          }
         },
         {
          "clouds": {
           "all": 97
          },
          "dt": 1638792000,
          "dt_txt": "2021-12-06 12:00:00",
          "main": {
           "feels_like": 9.68,
           "grnd_level": 998,
           "humidity": 62,
           "pressure": 1002,
           "sea_level": 1002,
           "temp": 10.91,
           "temp_kf": 0,
           "temp_max": 10.91,
           "temp_min": 10.91
          },
          "pop": 0.29,
          "sys": {
           "pod": "d"
          },
          "visibility": 10000,
          "weather": [
           {
            "description": "overcast clouds",
            "icon": "04d",
            "id": 804,
            "main": "Clouds"
           }
          ],
          "wind": {
           "deg": 3,
           "gust": 7.29,
           "speed": 5.4
          }
         },
         {
          "clouds": {
           "all": 100
          },
          "dt": 1638802800,
          "dt_txt": "2021-12-06 15:00:00",
          "main": {
           "feels_like": 6.89,
           "grnd_level": 999,
           "humidity": 59,
           "pressure": 1003,
           "sea_level": 1003,
           "temp": 9.79,
           "temp_kf": 0,
           "temp_max": 9.79,
           "temp_min": 9.79
          },
          "pop": 0,
          "sys": {
           "pod": "d"
          },
          "visibility": 10000,
          "weather": [
           {
            "description": "overcast clouds",
            "icon": "04d",
            "id": 804,
            "main": "Clouds"
           }
          ],
          "wind": {
           "deg": 356,
           "gust": 11.32,
           "speed": 6.26
          }
         },
         {
          "clouds": {
           "all": 63
          },
          "dt": 1638813600,
          "dt_txt": "2021-12-06 18:00:00",
          "main": {
           "feels_like": 4.2,
           "grnd_level": 1002,
           "humidity": 62,
           "pressure": 1006,
           "sea_level": 1006,
           "temp": 7.7,
           "temp_kf": 0,
           "temp_max": 7.7,
           "temp_min": 7.7
          },
          "pop": 0,
          "sys": {
           "pod": "n"
          },
          "visibility": 10000,
          "weather": [
           {
            "description": "broken clouds",
            "icon": "04n",
            "id": 803,
            "main": "Clouds"
           }
          ],
          "wind": {
           "deg": 2,
           "gust": 12.24,
           "speed": 6.36
          }
         },
         {
          "clouds": {
           "all": 0
          },
          "dt": 1638824400,
          "dt_txt": "2021-12-06 21:00:00",
          "main": {
           "feels_like": 3.56,
           "grnd_level": 1004,
           "humidity": 67,
           "pressure": 1008,
           "sea_level": 1008,
           "temp": 6.63,
           "temp_kf": 0,
           "temp_max": 6.63,
           "temp_min": 6.63
          },
          "pop": 0,
          "sys": {
           "pod": "n"
          },
          "visibility": 10000,
          "weather": [
           {
            "description": "clear sky",
            "icon": "01n",
            "id": 800,
            "main": "Clear"
           }
          ],
          "wind": {
           "deg": 2,
           "gust": 9.44,
           "speed": 4.6
          }
         },
         {
          "clouds": {
           "all": 0
          },
          "dt": 1638835200,
          "dt_txt": "2021-12-07 00:00:00",
          "main": {
           "feels_like": 2.37,
           "grnd_level": 1005,
           "humidity": 71,
           "pressure": 1009,
           "sea_level": 1009,
           "temp": 5.49,
           "temp_kf": 0,
           "temp_max": 5.49,
           "temp_min": 5.49
          },
          "pop": 0,
          "sys": {
           "pod": "n"
          },
          "visibility": 10000,
          "weather": [
           {
            "description": "clear sky",
            "icon": "01n",
            "id": 800,
            "main": "Clear"
           }
          ],
          "wind": {
           "deg": 359,
           "gust": 8.88,
           "speed": 4.17
          }
         },
         {
          "clouds": {
           "all": 1
          },
          "dt": 1638846000,
          "dt_txt": "2021-12-07 03:00:00",
          "main": {
           "feels_like": 1.1,
           "grnd_level": 1006,
           "humidity": 74,
           "pressure": 1010,
           "sea_level": 1010,
           "temp": 4.4,
           "temp_kf": 0,
           "temp_max": 4.4,
           "temp_min": 4.4
          },
          "pop": 0,
          "sys": {
           "pod": "n"
          },
          "visibility": 10000,
          "weather": [
           {
            "description": "clear sky",
            "icon": "01n",
            "id": 800,
            "main": "Clear"
           }
          ],
          "wind": {
           "deg": 351,
           "gust": 8.81,
           "speed": 4.03
          }
         },
         {
          "clouds": {
           "all": 1
          },
          "dt": 1638856800,
          "dt_txt": "2021-12-07 06:00:00",
          "main": {
           "feels_like": 0.22,
           "grnd_level": 1007,
           "humidity": 78,
           "pressure": 1011,
           "sea_level": 1011,
           "temp": 3.23,
           "temp_kf": 0,
           "temp_max": 3.23,
           "temp_min": 3.23
          },
          "pop": 0,
          "sys": {
           "pod": "n"
          },
          "visibility": 10000,
          "weather": [
           {
            "description": "clear sky",
            "icon": "01n",
            "id": 800,
            "main": "Clear"
           }
          ],
          "wind": {
           "deg": 359,
           "gust": 7.77,
           "speed": 3.21
          }
         },
         {
          "clouds": {
           "all": 0
          },
          "dt": 1638867600,
          "dt_txt": "2021-12-07 09:00:00",
          "main": {
           "feels_like": 4.65,
           "grnd_level": 1008,
           "humidity": 60,
           "pressure": 1012,
           "sea_level": 1012,
           "temp": 6.73,
           "temp_kf": 0,
           "temp_max": 6.73,
           "temp_min": 6.73
          },
          "pop": 0,
          "sys": {
           "pod": "d"
          },
          "visibility": 10000,
          "weather": [
           {
            "description": "clear sky",
            "icon": "01d",
            "id": 800,
            "main": "Clear"
           }
          ],
          "wind": {
           "deg": 2,
           "gust": 5.16,
           "speed": 2.91
          }
         },
         {
          "clouds": {
           "all": 6
          },
          "dt": 1638878400,
          "dt_txt": "2021-12-07 12:00:00",
          "main": {
           "feels_like": 9.05,
           "grnd_level": 1007,
           "humidity": 40,
           "pressure": 1011,
           "sea_level": 1011,
           "temp": 10.86,
           "temp_kf": 0,
           "temp_max": 10.86,
           "temp_min": 10.86
          },
          "pop": 0,
          "sys": {
           "pod": "d"
          },
          "visibility": 10000,
          "weather": [
           {
            "description": "clear sky",
            "icon": "01d",
            "id": 800,
            "main": "Clear"
           }
          ],
          "wind": {
           "deg": 348,
           "gust": 5.36,
           "speed": 3.17
          }
         },
         {
          "clouds": {
           "all": 16
          },
          "dt": 1638889200,
          "dt_txt": "2021-12-07 15:00:00",
          "main": {
           "feels_like": 8.54,
           "grnd_level": 1007,
           "humidity": 49,
           "pressure": 1011,
           "sea_level": 1011,
           "temp": 9.87,
           "temp_kf": 0,
           "temp_max": 9.87,
           "temp_min": 9.87
          },
          "pop": 0,
          "sys": {
           "pod": "d"
          },
          "visibility": 10000,
          "weather": [
           {
            "description": "few clouds",
            "icon": "02d",
            "id": 801,
            "main": "Clouds"
           }
          ],
          "wind": {
           "deg": 359,
           "gust": 5.54,
           "speed": 2.69
          }
         },
         {
          "clouds": {
           "all": 30
          },
          "dt": 1638900000,
          "dt_txt": "2021-12-07 18:00:00",
          "main": {
           "feels_like": 5.54,
           "grnd_level": 1008,
           "humidity": 62,
           "pressure": 1012,
           "sea_level": 1012,
           "temp": 6.88,
           "temp_kf": 0,
           "temp_max": 6.88,
           "temp_min": 6.88
          },
          "pop": 0,
          "sys": {
           "pod": "n"
          },
          "visibility": 10000,
          "weather": [
           {
            "description": "scattered clouds",
            "icon": "03n",
            "id": 802,
            "main": "Clouds"
           }
          ],
          "wind": {
           "deg": 4,
           "gust": 3.22,
           "speed": 2.02
          }
         },
         {
          "clouds": {
           "all": 7
          },
          "dt": 1638910800,
          "dt_txt": "2021-12-07 21:00:00",
          "main": {
           "feels_like": 4.03,
           "grnd_level": 1008,
           "humidity": 65,
           "pressure": 1012,
           "sea_level": 1012,
           "temp": 5.4,
           "temp_kf": 0,
           "temp_max": 5.4,
           "temp_min": 5.4
          },
          "pop": 0,
          "sys": {
           "pod": "n"
          },
          "visibility": 10000,
          "weather": [
           {
            "description": "clear sky",
            "icon": "01n",
            "id": 800,
            "main": "Clear"
           }
          ],
          "wind": {
           "deg": 31,
           "gust": 2.06,
           "speed": 1.81
          }
         },
         {
          "clouds": {
           "all": 44
          },
          "dt": 1638921600,
          "dt_txt": "2021-12-08 00:00:00",
          "main": {
           "feels_like": 4.14,
           "grnd_level": 1008,
           "humidity": 59,
           "pressure": 1012,
           "sea_level": 1012,
           "temp": 5.55,
           "temp_kf": 0,
           "temp_max": 5.55,
           "temp_min": 5.55
          },
          "pop": 0,
          "sys": {
           "pod": "n"
          },
          "visibility": 10000,
          "weather": [
           {
            "description": "scattered clouds",
            "icon": "03n",
            "id": 802,
            "main": "Clouds"
           }
          ],
          "wind": {
           "deg": 69,
           "gust": 2.7,
           "speed": 1.87
          }
         },
         {
          "clouds": {
           "all": 100
          },
          "dt": 1638932400,
          "dt_txt": "2021-12-08 03:00:00",
          "main": {
           "feels_like": 4.68,
           "grnd_level": 1007,
           "humidity": 60,
           "pressure": 1011,
           "sea_level": 1011,
           "temp": 6.39,
           "temp_kf": 0,
           "temp_max": 6.39,
           "temp_min": 6.39
          },
          "pop": 0.29,
          "rain": {
           "3h": 0.19
          },
          "sys": {
           "pod": "n"
          },
          "visibility": 10000,
          "weather": [
           {
            "description": "light rain",
            "icon": "10n",
            "id": 500,
            "main": "Rain"
           }
          ],
          "wind": {
           "deg": 91,
           "gust": 5.21,
           "speed": 2.34
          }
         },
         {
          "clouds": {
           "all": 100
          },
          "dt": 1638943200,
          "dt_txt": "2021-12-08 06:00:00",
          "main": {
           "feels_like": 5.57,
           "grnd_level": 1005,
           "humidity": 72,
           "pressure": 1009,
           "sea_level": 1009,
           "temp": 7.51,
           "temp_kf": 0,
           "temp_max": 7.51,
           "temp_min": 7.51
          },
          "pop": 0.47,
          "rain": {
           "3h": 0.35
          },
          "sys": {
           "pod": "n"
          },
          "visibility": 10000,
          "weather": [
           {
            "description": "light rain",
            "icon": "10n",
            "id": 500,
            "main": "Rain"
           }
          ],
          "wind": {
           "deg": 119,
           "gust": 6.86,
           "speed": 2.92
          }
         },
         {
          "clouds": {
           "all": 100
          },
          "dt": 1638954000,
          "dt_txt": "2021-12-08 09:00:00",
          "main": {
           "feels_like": 6,
           "grnd_level": 1004,
           "humidity": 77,
           "pressure": 1008,
           "sea_level": 1008,
           "temp": 8.4,
           "temp_kf": 0,
           "temp_max": 8.4,
           "temp_min": 8.4
          },
          "pop": 0.87,
          "rain": {
           "3h": 0.46
          },
          "sys": {
           "pod": "d"
          },
          "visibility": 10000,
          "weather": [
           {
            "description": "light rain",
            "icon": "10d",
            "id": 500,
            "main": "Rain"
           }
          ],
          "wind": {
           "deg": 130,
           "gust": 10.7,
           "speed": 4.08
          }
         },
         {
          "clouds": {
           "all": 100
          },
          "dt": 1638964800,
          "dt_txt": "2021-12-08 12:00:00",
          "main": {
           "feels_like": 7.57,
           "grnd_level": 1002,
           "humidity": 81,
           "pressure": 1006,
           "sea_level": 1006,
           "temp": 9.67,
           "temp_kf": 0,
           "temp_max": 9.67,
           "temp_min": 9.67
          },
          "pop": 0.76,
          "rain": {
           "3h": 0.3
          },
          "sys": {
           "pod": "d"
          },
          "visibility": 10000,
          "weather": [
           {
            "description": "light rain",
            "icon": "10d",
            "id": 500,
            "main": "Rain"
           }
          ],
          "wind": {
           "deg": 144,
           "gust": 10.75,
           "speed": 4.05
          }
         },
         {
          "clouds": {
           "all": 100
          },
          "dt": 1638975600,
          "dt_txt": "2021-12-08 15:00:00",
          "main": {
           "feels_like": 10.14,
           "grnd_level": 1001,
           "humidity": 90,
           "pressure": 1005,
           "sea_level": 1005,
           "temp": 10.67,
           "temp_kf": 0,
           "temp_max": 10.67,
           "temp_min": 10.67
          },
          "pop": 0.85,
          "rain": {
           "3h": 1.19
          },
          "sys": {
           "pod": "d"
          },
          "visibility": 10000,
          "weather": [
           {
            "description": "light rain",
            "icon": "10d",
            "id": 500,
            "main": "Rain"
           }
          ],
          "wind": {
           "deg": 148,
           "gust": 7.82,
           "speed": 3.84
          }
         },
         {
          "clouds": {
           "all": 100
          },
          "dt": 1638986400,
          "dt_txt": "2021-12-08 18:00:00",
          "main": {
           "feels_like": 10.35,
           "grnd_level": 1002,
           "humidity": 79,
           "pressure": 1006,
           "sea_level": 1006,
           "temp": 11.12,
           "temp_kf": 0,
           "temp_max": 11.12,
           "temp_min": 11.12
          },
          "pop": 0.75,
          "rain": {
           "3h": 0.42
          },
          "sys": {
           "pod": "n"
          },
          "visibility": 10000,
          "weather": [
           {
            "description": "light rain",
            "icon": "10n",
            "id": 500,
            "main": "Rain"
           }
          ],
          "wind": {
           "deg": 188,
           "gust": 7.48,
           "speed": 3.12
          }
         },
         {
          "clouds": {
           "all": 100
          },
          "dt": 1638997200,
          "dt_txt": "2021-12-08 21:00:00",
          "main": {
           "feels_like": 9.99,
           "grnd_level": 1003,
           "humidity": 83,
           "pressure": 1007,
           "sea_level": 1007,
           "temp": 10.7,
           "temp_kf": 0,
           "temp_max": 10.7,
           "temp_min": 10.7
          },
          "pop": 0.39,
          "rain": {
           "3h": 0.19
          },
          "sys": {
           "pod": "n"
          },
          "visibility": 10000,
          "weather": [
           {
            "description": "light rain",
            "icon": "10n",
            "id": 500,
            "main": "Rain"
           }
          ],
          "wind": {
           "deg": 201,
           "gust": 4.95,
           "speed": 1.93
          }
         },
         {
          "clouds": {
           "all": 100
          },
          "dt": 1639008000,
          "dt_txt": "2021-12-09 00:00:00",
          "main": {
           "feels_like": 9.72,
           "grnd_level": 1002,
           "humidity": 84,
           "pressure": 1006,
           "sea_level": 1006,
           "temp": 9.72,
           "temp_kf": 0,
           "temp_max": 9.72,
           "temp_min": 9.72
          },
          "pop": 0.59,
          "rain": {
           "3h": 0.56
          },
          "sys": {
           "pod": "n"
          },
          "visibility": 10000,
          "weather": [
           {
            "description": "light rain",
            "icon": "10n",
            "id": 500,
            "main": "Rain"
           }
          ],
          "wind": {
           "deg": 194,
           "gust": 1.64,
           "speed": 1.15
          }
         },
         {
          "clouds": {
           "all": 100
          },
          "dt": 1639018800,
          "dt_txt": "2021-12-09 03:00:00",
          "main": {
           "feels_like": 9.38,
           "grnd_level": 999,
           "humidity": 89,
           "pressure": 1003,
           "sea_level": 1003,
           "temp": 9.38,
           "temp_kf": 0,
           "temp_max": 9.38,
           "temp_min": 9.38
          },
          "pop": 1,
          "rain": {
           "3h": 2.69
          },
          "sys": {
           "pod": "n"
          },
          "visibility": 5447,
          "weather": [
           {
            "description": "light rain",
            "icon": "10n",
            "id": 500,
            "main": "Rain"
           }
          ],
          "wind": {
           "deg": 108,
           "gust": 1.39,
           "speed": 1.11
          }
         },
         {
          "clouds": {
           "all": 100
          },
          "dt": 1639029600,
          "dt_txt": "2021-12-09 06:00:00",
          "main": {
           "feels_like": 7.37,
           "grnd_level": 998,
           "humidity": 90,
           "pressure": 1002,
           "sea_level": 1002,
           "temp": 8.25,
           "temp_kf": 0,
           "temp_max": 8.25,
           "temp_min": 8.25
          },
          "pop": 1,
          "rain": {
           "3h": 8.66
          },
          "sys": {
           "pod": "n"
          },
          "visibility": 10000,
          "weather": [
           {
            "description": "moderate rain",
            "icon": "10n",
            "id": 501,
            "main": "Rain"
           }
          ],
          "wind": {
           "deg": 7,
           "gust": 2.96,
           "speed": 1.77
          }
         },
         {
          "clouds": {
           "all": 100
          },
          "dt": 1639040400,
          "dt_txt": "2021-12-09 09:00:00",
          "main": {
           "feels_like": 5.55,
           "grnd_level": 997,
           "humidity": 86,
           "pressure": 1001,
           "sea_level": 1001,
           "temp": 7.67,
           "temp_kf": 0,
           "temp_max": 7.67,
           "temp_min": 7.67
          },
          "pop": 1,
          "rain": {
           "3h": 2.93
          },
          "sys": {
           "pod": "d"
          },
          "visibility": 10000,
          "weather": [
           {
            "description": "light rain",
            "icon": "10d",
            "id": 500,
            "main": "Rain"
           }
          ],
          "wind": {
           "deg": 5,
           "gust": 6.23,
           "speed": 3.26
          }
         },
         {
          "clouds": {
           "all": 100
          },
          "dt": 1639051200,
          "dt_txt": "2021-12-09 12:00:00",
          "main": {
           "feels_like": 5.65,
           "grnd_level": 996,
           "humidity": 80,
           "pressure": 1000,
           "sea_level": 1000,
           "temp": 8.37,
           "temp_kf": 0,
           "temp_max": 8.37,
           "temp_min": 8.37
          },
          "pop": 0.78,
          "sys": {
           "pod": "d"
          },
          "visibility": 10000,
          "weather": [
           {
            "description": "overcast clouds",
            "icon": "04d",
            "id": 804,
            "main": "Clouds"
           }
          ],
          "wind": {
           "deg": 360,
           "gust": 8.57,
           "speed": 4.76
          }
         },
         {
          "clouds": {
           "all": 100
          },
          "dt": 1639062000,
          "dt_txt": "2021-12-09 15:00:00",
          "main": {
           "feels_like": 5.7,
           "grnd_level": 997,
           "humidity": 81,
           "pressure": 1001,
           "sea_level": 1001,
           "temp": 8.05,
           "temp_kf": 0,
           "temp_max": 8.05,
           "temp_min": 8.05
          },
          "pop": 0.65,
          "rain": {
           "3h": 0.21
          },
          "sys": {
           "pod": "d"
          },
          "visibility": 10000,
          "weather": [
           {
            "description": "light rain",
            "icon": "10d",
            "id": 500,
            "main": "Rain"
           }
          ],
          "wind": {
           "deg": 336,
           "gust": 8.71,
           "speed": 3.82
          }
         },
         {
          "clouds": {
           "all": 100
          },
          "dt": 1639072800,
          "dt_txt": "2021-12-09 18:00:00",
          "main": {
           "feels_like": 7.48,
           "grnd_level": 999,
           "humidity": 83,
           "pressure": 1003,
           "sea_level": 1003,
           "temp": 7.48,
           "temp_kf": 0,
           "temp_max": 7.48,
           "temp_min": 7.48
          },
          "pop": 0.65,
          "sys": {
           "pod": "n"
          },
          "visibility": 10000,
          "weather": [
           {
            "description": "overcast clouds",
            "icon": "04n",
            "id": 804,
            "main": "Clouds"
           }
          ],
          "wind": {
           "deg": 27,
           "gust": 1.95,
           "speed": 0.8
          }
         },
         {
          "clouds": {
           "all": 100
          },
          "dt": 1639083600,
          "dt_txt": "2021-12-09 21:00:00",
          "main": {
           "feels_like": 7.29,
           "grnd_level": 1001,
           "humidity": 85,
           "pressure": 1005,
           "sea_level": 1005,
           "temp": 7.29,
           "temp_kf": 0,
           "temp_max": 7.29,
           "temp_min": 7.29
          },
          "pop": 0.5,
          "rain": {
           "3h": 0.51
          },
          "sys": {
           "pod": "n"
          },
          "visibility": 10000,
          "weather": [
           {
            "description": "light rain",
            "icon": "10n",
            "id": 500,
            "main": "Rain"
           }
          ],
          "wind": {
           "deg": 241,
           "gust": 1.55,
           "speed": 0.9
          }
         },
         {
          "clouds": {
           "all": 100
          },
          "dt": 1639094400,
          "dt_txt": "2021-12-10 00:00:00",
          "main": {
           "feels_like": 5.42,
           "grnd_level": 1001,
           "humidity": 85,
           "pressure": 1005,
           "sea_level": 1005,
           "temp": 6.79,
           "temp_kf": 0,
           "temp_max": 6.79,
           "temp_min": 6.79
          },
          "pop": 0.57,
          "rain": {
           "3h": 0.8
          },
          "sys": {
           "pod": "n"
          },
          "visibility": 10000,
          "weather": [
           {
            "description": "light rain",
            "icon": "10n",
            "id": 500,
            "main": "Rain"
           }
          ],
          "wind": {
           "deg": 138,
           "gust": 3.37,
           "speed": 2.04
          }
         },
         {
          "clouds": {
           "all": 100
          },
          "dt": 1639105200,
          "dt_txt": "2021-12-10 03:00:00",
          "main": {
           "feels_like": 4.47,
           "grnd_level": 1000,
           "humidity": 88,
           "pressure": 1004,
           "sea_level": 1004,
           "temp": 6.82,
           "temp_kf": 0,
           "temp_max": 6.82,
           "temp_min": 6.82
          },
          "pop": 0.82,
          "rain": {
           "3h": 2.92
          },
          "sys": {
           "pod": "n"
          },
          "visibility": 10000,
          "weather": [
           {
            "description": "light rain",
            "icon": "10n",
            "id": 500,
            "main": "Rain"
           }
          ],
          "wind": {
           "deg": 138,
           "gust": 7.93,
           "speed": 3.35
          }
         },
         {
          "clouds": {
           "all": 100
          },
          "dt": 1639116000,
          "dt_txt": "2021-12-10 06:00:00",
          "main": {
           "feels_like": 4.99,
           "grnd_level": 999,
           "humidity": 88,
           "pressure": 1003,
           "sea_level": 1003,
           "temp": 7.29,
           "temp_kf": 0,
           "temp_max": 7.29,
           "temp_min": 7.29
          },
          "pop": 0.84,
          "rain": {
           "3h": 2.38
          },
          "sys": {
           "pod": "n"
          },
          "visibility": 10000,
          "weather": [
           {
            "description": "light rain",
            "icon": "10n",
            "id": 500,
            "main": "Rain"
           }
          ],
          "wind": {
           "deg": 139,
           "gust": 8.39,
           "speed": 3.42
          }
         },
         {
          "clouds": {
           "all": 76
          },
          "dt": 1639126800,
          "dt_txt": "2021-12-10 09:00:00",
          "main": {
           "feels_like": 6.77,
           "grnd_level": 999,
           "humidity": 84,
           "pressure": 1003,
           "sea_level": 1003,
           "temp": 8.65,
           "temp_kf": 0,
           "temp_max": 8.65,
           "temp_min": 8.65
          },
          "pop": 0.8,
          "rain": {
           "3h": 1.99
          },
          "sys": {
           "pod": "d"
          },
          "visibility": 10000,
          "weather": [
           {
            "description": "light rain",
            "icon": "10d",
            "id": 500,
            "main": "Rain"
           }
          ],
          "wind": {
           "deg": 148,
           "gust": 6.52,
           "speed": 3.2
          }
         },
         {
          "clouds": {
           "all": 84
          },
          "dt": 1639137600,
          "dt_txt": "2021-12-10 12:00:00",
          "main": {
           "feels_like": 9.62,
           "grnd_level": 998,
           "humidity": 73,
           "pressure": 1002,
           "sea_level": 1002,
           "temp": 10.6,
           "temp_kf": 0,
           "temp_max": 10.6,
           "temp_min": 10.6
          },
          "pop": 0.96,
          "rain": {
           "3h": 2.44
          },
          "sys": {
           "pod": "d"
          },
          "visibility": 10000,
          "weather": [
           {
            "description": "light rain",
            "icon": "10d",
            "id": 500,
            "main": "Rain"
           }
          ],
          "wind": {
           "deg": 154,
           "gust": 5.56,
           "speed": 3.03
          }
         }
        ],
        "message": 0
       },
       {
        "city": {
         "coord": {
          "lat": 44.4323,
          "lon": 26.1063
         },
         "country": "RO",
         "id": 683506,
         "name": "Bucharest",
         "population": 15000,
         "sunrise": 1638682569,
         "sunset": 1638714996,
         "timezone": 7200
        },
        "cnt": 40,
        "cod": "200",
        "list": [
         {
          "clouds": {
           "all": 72
          },
          "dt": 1638716400,
          "dt_txt": "2021-12-05 15:00:00",
          "main": {
           "feels_like": 4.11,
           "grnd_level": 999,
           "humidity": 85,
           "pressure": 1007,
           "sea_level": 1007,
           "temp": 4.11,
           "temp_kf": -0.73,
           "temp_max": 4.84,
           "temp_min": 4.11
          },
          "pop": 0,
          "sys": {
           "pod": "n"
          },
          "visibility": 10000,
          "weather": [
           {
            "description": "broken clouds",
            "icon": "04n",
            "id": 803,
            "main": "Clouds"
           }
          ],
          "wind": {
           "deg": 197,
           "gust": 1.66,
           "speed": 0.89
          }
         },
         {
          "clouds": {
           "all": 53
          },
          "dt": 1638727200,
          "dt_txt": "2021-12-05 18:00:00",
          "main": {
           "feels_like": 4.2,
           "grnd_level": 999,
           "humidity": 86,
           "pressure": 1009,
           "sea_level": 1009,
           "temp": 4.2,
           "temp_kf": -0.23,
           "temp_max": 4.43,
           "temp_min": 4.2
          },
          "pop": 0,
          "sys": {
           "pod": "n"
          },
          "visibility": 10000,
          "weather": [
           {
            "description": "broken clouds",
            "icon": "04n",
            "id": 803,
            "main": "Clouds"
           }
          ],
          "wind": {
           "deg": 45,
           "gust": 0.86,
           "speed": 0.73
          }
         },
         {
          "clouds": {
           "all": 98
          },
          "dt": 1638738000,
          "dt_txt": "2021-12-05 21:00:00",
          "main": {
           "feels_like": 2.16,
           "grnd_level": 999,
           "humidity": 87,
           "pressure": 1009,
           "sea_level": 1009,
           "temp": 4.19,
           "temp_kf": 0,
           "temp_max": 4.19,
           "temp_min": 4.19
          },
          "pop": 0,
          "sys": {
           "pod": "n"
          },
          "visibility": 10000,
          "weather": [
           {
            "description": "overcast clouds",
            "icon": "04n",
            "id": 804,
            "main": "Clouds"
           }
          ],
          "wind": {
           "deg": 21,
           "gust": 2.39,
           "speed": 2.26
          }
         },
         {
          "clouds": {
           "all": 99
          },
          "dt": 1638748800,
          "dt_txt": "2021-12-06 00:00:00",
          "main": {
           "feels_like": 1.86,
           "grnd_level": 998,
           "humidity": 88,
           "pressure": 1008,
           "sea_level": 1008,
           "temp": 3.88,
           "temp_kf": 0,
           "temp_max": 3.88,
           "temp_min": 3.88
          },
          "pop": 0,
          "sys": {
           "pod": "n"
          },
          "visibility": 10000,
          "weather": [
           {
            "description": "overcast clouds",
            "icon": "04n",
            "id": 804,
            "main": "Clouds"
           }
          ],
          "wind": {
           "deg": 46,
           "gust": 2.74,
           "speed": 2.2
          }
         },
         {
          "clouds": {
           "all": 41
          },
          "dt": 1638759600,
          "dt_txt": "2021-12-06 03:00:00",
          "main": {
           "feels_like": 1.8,
           "grnd_level": 997,
           "humidity": 89,
           "pressure": 1007,
           "sea_level": 1007,
           "temp": 3.59,
           "temp_kf": 0,
           "temp_max": 3.59,
           "temp_min": 3.59
          },
          "pop": 0,
          "sys": {
           "pod": "n"
          },
          "visibility": 10000,
          "weather": [
           {
            "description": "scattered clouds",
            "icon": "03n",
            "id": 802,
            "main": "Clouds"
           }
          ],
          "wind": {
           "deg": 53,
           "gust": 1.93,
           "speed": 1.93
          }
         },
         {
          "clouds": {
           "all": 25
          },
          "dt": 1638770400,
          "dt_txt": "2021-12-06 06:00:00",
          "main": {
           "feels_like": 2.26,
           "grnd_level": 997,
           "humidity": 91,
           "pressure": 1008,
           "sea_level": 1008,
           "temp": 3.52,
           "temp_kf": 0,
           "temp_max": 3.52,
           "temp_min": 3.52
          },
          "pop": 0,
          "sys": {
           "pod": "d"
          },
          "visibility": 10000,
          "weather": [
           {
            "description": "scattered clouds",
            "icon": "03d",
            "id": 802,
            "main": "Clouds"
           }
          ],
          "wind": {
           "deg": 55,
           "gust": 1.48,
           "speed": 1.5
          }
         },
         {
          "clouds": {
           "all": 68
          },
          "dt": 1638781200,
          "dt_txt": "2021-12-06 09:00:00",
          "main": {
           "feels_like": 6.11,
           "grnd_level": 997,
           "humidity": 80,
           "pressure": 1007,
           "sea_level": 1007,
           "temp": 7.04,
           "temp_kf": 0,
           "temp_max": 7.04,
           "temp_min": 7.04
          },
          "pop": 0,
          "sys": {
           "pod": "d"
          },
          "visibility": 10000,
          "weather": [
           {
            "description": "broken clouds",
            "icon": "04d",
            "id": 803,
            "main": "Clouds"
           }
          ],
          "wind": {
           "deg": 55,
           "gust": 1.9,
           "speed": 1.64
          }
         },
         {
          "clouds": {
           "all": 67
          },
          "dt": 1638792000,
          "dt_txt": "2021-12-06 12:00:00",
          "main": {
           "feels_like": 8.9,
           "grnd_level": 996,
           "humidity": 72,
           "pressure": 1006,
           "sea_level": 1006,
           "temp": 9.26,
           "temp_kf": 0,
           "temp_max": 9.26,
           "temp_min": 9.26
          },
          "pop": 0,
          "sys": {
           "pod": "d"
          },
          "visibility": 10000,
          "weather": [
           {
            "description": "broken clouds",
            "icon": "04d",
            "id": 803,
            "main": "Clouds"
           }
          ],
          "wind": {
           "deg": 10,
           "gust": 1.31,
           "speed": 1.41
          }
         },
         {
          "clouds": {
           "all": 68
          },
          "dt": 1638802800,
          "dt_txt": "2021-12-06 15:00:00",
          "main": {
           "feels_like": 5.99,
           "grnd_level": 996,
           "humidity": 82,
           "pressure": 1006,
           "sea_level": 1006,
           "temp": 7.57,
           "temp_kf": 0,
           "temp_max": 7.57,
           "temp_min": 7.57
          },
          "pop": 0,
          "sys": {
           "pod": "n"
          },
          "visibility": 10000,
          "weather": [
           {
            "description": "broken clouds",
            "icon": "04n",
            "id": 803,
            "main": "Clouds"
           }
          ],
          "wind": {
           "deg": 42,
           "gust": 2.53,
           "speed": 2.44
          }
         },
         {
          "clouds": {
           "all": 84
          },
          "dt": 1638813600,
          "dt_txt": "2021-12-06 18:00:00",
          "main": {
           "feels_like": 5.02,
           "grnd_level": 996,
           "humidity": 87,
           "pressure": 1006,
           "sea_level": 1006,
           "temp": 7.18,
           "temp_kf": 0,
           "temp_max": 7.18,
           "temp_min": 7.18
          },
          "pop": 0,
          "sys": {
           "pod": "n"
          },
          "visibility": 10000,
          "weather": [
           {
            "description": "broken clouds",
            "icon": "04n",
            "id": 803,
            "main": "Clouds"
           }
          ],
          "wind": {
           "deg": 60,
           "gust": 5.08,
           "speed": 3.16
          }
         },
         {
          "clouds": {
           "all": 100
          },
          "dt": 1638824400,
          "dt_txt": "2021-12-06 21:00:00",
          "main": {
           "feels_like": 5.6,
           "grnd_level": 995,
           "humidity": 91,
           "pressure": 1005,
           "sea_level": 1005,
           "temp": 7.62,
           "temp_kf": 0,
           "temp_max": 7.62,
           "temp_min": 7.62
          },
          "pop": 0,
          "sys": {
           "pod": "n"
          },
          "visibility": 10000,
          "weather": [
           {
            "description": "overcast clouds",
            "icon": "04n",
            "id": 804,
            "main": "Clouds"
           }
          ],
          "wind": {
           "deg": 66,
           "gust": 4.85,
           "speed": 3.08
          }
         },
         {
          "clouds": {
           "all": 100
          },
          "dt": 1638835200,
          "dt_txt": "2021-12-07 00:00:00",
          "main": {
           "feels_like": 7.66,
           "grnd_level": 995,
           "humidity": 93,
           "pressure": 1005,
           "sea_level": 1005,
           "temp": 7.66,
           "temp_kf": 0,
           "temp_max": 7.66,
           "temp_min": 7.66
          },
          "pop": 0,
          "sys": {
           "pod": "n"
          },
          "visibility": 10000,
          "weather": [
           {
            "description": "overcast clouds",
            "icon": "04n",
            "id": 804,
            "main": "Clouds"
           }
          ],
          "wind": {
           "deg": 156,
           "gust": 2.96,
           "speed": 1.01
          }
         },
         {
          "clouds": {
           "all": 100
          },
          "dt": 1638846000,
          "dt_txt": "2021-12-07 03:00:00",
          "main": {
           "feels_like": 3.52,
           "grnd_level": 995,
           "humidity": 95,
           "pressure": 1005,
           "sea_level": 1005,
           "temp": 5.7,
           "temp_kf": 0,
           "temp_max": 5.7,
           "temp_min": 5.7
          },
          "pop": 0,
          "sys": {
           "pod": "n"
          },
          "visibility": 10000,
          "weather": [
           {
            "description": "overcast clouds",
            "icon": "04n",
            "id": 804,
            "main": "Clouds"
           }
          ],
          "wind": {
           "deg": 213,
           "gust": 5.16,
           "speed": 2.77
          }
         },
         {
          "clouds": {
           "all": 100
          },
          "dt": 1638856800,
          "dt_txt": "2021-12-07 06:00:00",
          "main": {
           "feels_like": 3.65,
           "grnd_level": 996,
           "humidity": 91,
           "pressure": 1006,
           "sea_level": 1006,
           "temp": 5.42,
           "temp_kf": 0,
           "temp_max": 5.42,
           "temp_min": 5.42
          },
          "pop": 0,
          "sys": {
           "pod": "d"
          },
          "visibility": 10000,
          "weather": [
           {
            "description": "overcast clouds",
            "icon": "04d",
            "id": 804,
            "main": "Clouds"
           }
          ],
          "wind": {
           "deg": 210,
           "gust": 4.15,
           "speed": 2.21
          }
         },
         {
          "clouds": {
           "all": 100
          },
          "dt": 1638867600,
          "dt_txt": "2021-12-07 09:00:00",
          "main": {
           "feels_like": 5.02,
           "grnd_level": 996,
           "humidity": 85,
           "pressure": 1007,
           "sea_level": 1007,
           "temp": 6.16,
           "temp_kf": 0,
           "temp_max": 6.16,
           "temp_min": 6.16
          },
          "pop": 0.17,
          "sys": {
           "pod": "d"
          },
          "visibility": 10000,
          "weather": [
           {
            "description": "overcast clouds",
            "icon": "04d",
            "id": 804,
            "main": "Clouds"
           }
          ],
          "wind": {
           "deg": 219,
           "gust": 2.51,
           "speed": 1.71
          }
         },
         {
          "clouds": {
           "all": 100
          },
          "dt": 1638878400,
          "dt_txt": "2021-12-07 12:00:00",
          "main": {
           "feels_like": 6.28,
           "grnd_level": 995,
           "humidity": 80,
           "pressure": 1005,
           "sea_level": 1005,
           "temp": 7.01,
           "temp_kf": 0,
           "temp_max": 7.01,
           "temp_min": 7.01
          },
          "pop": 0.26,
          "sys": {
           "pod": "d"
          },
          "visibility": 10000,
          "weather": [
           {
            "description": "overcast clouds",
            "icon": "04d",
            "id": 804,
            "main": "Clouds"
           }
          ],
          "wind": {
           "deg": 251,
           "gust": 1.56,
           "speed": 1.47
          }
         },
         {
          "clouds": {
           "all": 100
          },
          "dt": 1638889200,
          "dt_txt": "2021-12-07 15:00:00",
          "main": {
           "feels_like": 4.72,
           "grnd_level": 995,
           "humidity": 84,
           "pressure": 1005,
           "sea_level": 1005,
           "temp": 6.08,
           "temp_kf": 0,
           "temp_max": 6.08,
           "temp_min": 6.08
          },
          "pop": 0.3,
          "sys": {
           "pod": "n"
          },
          "visibility": 10000,
          "weather": [
           {
            "description": "overcast clouds",
            "icon": "04n",
            "id": 804,
            "main": "Clouds"
           }
          ],
          "wind": {
           "deg": 278,
           "gust": 2.33,
           "speed": 1.91
          }
         },
         {
          "clouds": {
           "all": 100
          },
          "dt": 1638900000,
          "dt_txt": "2021-12-07 18:00:00",
          "main": {
           "feels_like": 5.32,
           "grnd_level": 995,
           "humidity": 89,
           "pressure": 1006,
           "sea_level": 1006,
           "temp": 5.32,
           "temp_kf": 0,
           "temp_max": 5.32,
           "temp_min": 5.32
          },
          "pop": 0.82,
          "rain": {
           "3h": 0.78
          },
          "sys": {
           "pod": "n"
          },
          "visibility": 10000,
          "weather": [
           {
            "description": "light rain",
            "icon": "10n",
            "id": 500,
            "main": "Rain"
           }
          ],
          "wind": {
           "deg": 13,
           "gust": 3.23,
           "speed": 0.72
          }
         },
         {
          "clouds": {
           "all": 100
          },
          "dt": 1638910800,
          "dt_txt": "2021-12-07 21:00:00",
          "main": {
           "feels_like": 2.46,
           "grnd_level": 996,
           "humidity": 90,
           "pressure": 1006,
           "sea_level": 1006,
           "temp": 4.49,
           "temp_kf": 0,
           "temp_max": 4.49,
           "temp_min": 4.49
          },
          "pop": 1,
          "rain": {
           "3h": 3.55
          },
          "sys": {
           "pod": "n"
          },
          "visibility": 10000,
          "weather": [
           {
            "description": "moderate rain",
            "icon": "10n",
            "id": 501,
            "main": "Rain"
           }
          ],
          "wind": {
           "deg": 85,
           "gust": 6.04,
           "speed": 2.32
          }
         },
         {
          "clouds": {
           "all": 100
          },
          "dt": 1638921600,
          "dt_txt": "2021-12-08 00:00:00",
          "main": {
           "feels_like": 1.44,
           "grnd_level": 995,
           "humidity": 93,
           "pressure": 1006,
           "sea_level": 1006,
           "temp": 3.65,
           "temp_kf": 0,
           "temp_max": 3.65,
           "temp_min": 3.65
          },
          "pop": 1,
          "rain": {
           "3h": 6.88
          },
          "sys": {
           "pod": "n"
          },
          "visibility": 4489,
          "weather": [
           {
            "description": "moderate rain",
            "icon": "10n",
            "id": 501,
            "main": "Rain"
           }
          ],
          "wind": {
           "deg": 117,
           "gust": 4.59,
           "speed": 2.35
          }
         },
         {
          "clouds": {
           "all": 100
          },
          "dt": 1638932400,
          "dt_txt": "2021-12-08 03:00:00",
          "main": {
           "feels_like": -1.16,
           "grnd_level": 996,
           "humidity": 98,
           "pressure": 1007,
           "sea_level": 1007,
           "temp": 1.93,
           "temp_kf": 0,
           "temp_max": 1.93,
           "temp_min": 1.93
          },
          "pop": 1,
          "snow": {
           "3h": 6.69
          },
          "sys": {
           "pod": "n"
          },
          "visibility": 35,
          "weather": [
           {
            "description": "snow",
            "icon": "13n",
            "id": 601,
            "main": "Snow"
           }
          ],
          "wind": {
           "deg": 246,
           "gust": 4.24,
           "speed": 2.97
          }
         },
         {
          "clouds": {
           "all": 100
          },
          "dt": 1638943200,
          "dt_txt": "2021-12-08 06:00:00",
          "main": {
           "feels_like": -0.98,
           "grnd_level": 998,
           "humidity": 97,
           "pressure": 1008,
           "sea_level": 1008,
           "temp": 2.02,
           "temp_kf": 0,
           "temp_max": 2.02,
           "temp_min": 2.02
          },
          "pop": 1,
          "rain": {
           "3h": 4.13
          },
          "sys": {
           "pod": "d"
          },
          "visibility": 119,
          "weather": [
           {
            "description": "moderate rain",
            "icon": "10d",
            "id": 501,
            "main": "Rain"
           }
          ],
          "wind": {
           "deg": 284,
           "gust": 5.73,
           "speed": 2.89
          }
         },
         {
          "clouds": {
           "all": 100
          },
          "dt": 1638954000,
          "dt_txt": "2021-12-08 09:00:00",
          "main": {
           "feels_like": 0.4,
           "grnd_level": 999,
           "humidity": 97,
           "pressure": 1009,
           "sea_level": 1009,
           "temp": 3.1,
           "temp_kf": 0,
           "temp_max": 3.1,
           "temp_min": 3.1
          },
          "pop": 0.95,
          "rain": {
           "3h": 1.88
          },
          "sys": {
           "pod": "d"
          },
          "visibility": 92,
          "weather": [
           {
            "description": "light rain",
            "icon": "10d",
            "id": 500,
            "main": "Rain"
           }
          ],
          "wind": {
           "deg": 250,
           "gust": 5.47,
           "speed": 2.78
          }
         },
         {
          "clouds": {
           "all": 100
          },
          "dt": 1638964800,
          "dt_txt": "2021-12-08 12:00:00",
          "main": {
           "feels_like": -0.1,
           "grnd_level": 999,
           "humidity": 96,
           "pressure": 1009,
           "sea_level": 1009,
           "temp": 3.48,
           "temp_kf": 0,
           "temp_max": 3.48,
           "temp_min": 3.48
          },
          "pop": 0.85,
          "sys": {
           "pod": "d"
          },
          "visibility": 2312,
          "weather": [
           {
            "description": "overcast clouds",
            "icon": "04d",
            "id": 804,
            "main": "Clouds"
           }
          ],
          "wind": {
           "deg": 245,
           "gust": 6.47,
           "speed": 4.15
          }
         },
         {
          "clouds": {
           "all": 90
          },
          "dt": 1638975600,
          "dt_txt": "2021-12-08 15:00:00",
          "main": {
           "feels_like": -0.12,
           "grnd_level": 1000,
           "humidity": 86,
           "pressure": 1010,
           "sea_level": 1010,
           "temp": 3.16,
           "temp_kf": 0,
           "temp_max": 3.16,
           "temp_min": 3.16
          },
          "pop": 0,
          "sys": {
           "pod": "n"
          },
          "visibility": 10000,
          "weather": [
           {
            "description": "overcast clouds",
            "icon": "04n",
            "id": 804,
            "main": "Clouds"
           }
          ],
          "wind": {
           "deg": 233,
           "gust": 6.4,
           "speed": 3.56
          }
         },
         {
          "clouds": {
           "all": 67
          },
          "dt": 1638986400,
          "dt_txt": "2021-12-08 18:00:00",
          "main": {
           "feels_like": -0.5,
           "grnd_level": 1002,
           "humidity": 81,
           "pressure": 1012,
           "sea_level": 1012,
           "temp": 2.46,
           "temp_kf": 0,
           "temp_max": 2.46,
           "temp_min": 2.46
          },
          "pop": 0,
          "sys": {
           "pod": "n"
          },
          "visibility": 10000,
          "weather": [
           {
            "description": "broken clouds",
            "icon": "04n",
            "id": 803,
            "main": "Clouds"
           }
          ],
          "wind": {
           "deg": 232,
           "gust": 6.04,
           "speed": 2.94
          }
         },
         {
          "clouds": {
           "all": 76
          },
          "dt": 1638997200,
          "dt_txt": "2021-12-08 21:00:00",
          "main": {
           "feels_like": 0.08,
           "grnd_level": 1002,
           "humidity": 78,
           "pressure": 1013,
           "sea_level": 1013,
           "temp": 2.69,
           "temp_kf": 0,
           "temp_max": 2.69,
           "temp_min": 2.69
          },
          "pop": 0,
          "sys": {
           "pod": "n"
          },
          "visibility": 10000,
          "weather": [
           {
            "description": "broken clouds",
            "icon": "04n",
            "id": 803,
            "main": "Clouds"
           }
          ],
          "wind": {
           "deg": 234,
           "gust": 5.16,
           "speed": 2.59
          }
         },
         {
          "clouds": {
           "all": 54
          },
          "dt": 1639008000,
          "dt_txt": "2021-12-09 00:00:00",
          "main": {
           "feels_like": -1.82,
           "grnd_level": 1003,
           "humidity": 79,
           "pressure": 1013,
           "sea_level": 1013,
           "temp": 1.14,
           "temp_kf": 0,
           "temp_max": 1.14,
           "temp_min": 1.14
          },
          "pop": 0,
          "sys": {
           "pod": "n"
          },
          "visibility": 10000,
          "weather": [
           {
            "description": "broken clouds",
            "icon": "04n",
            "id": 803,
            "main": "Clouds"
           }
          ],
          "wind": {
           "deg": 227,
           "gust": 4.2,
           "speed": 2.65
          }
         },
         {
          "clouds": {
           "all": 7
          },
          "dt": 1639018800,
          "dt_txt": "2021-12-09 03:00:00",
          "main": {
           "feels_like": -1.65,
           "grnd_level": 1004,
           "humidity": 77,
           "pressure": 1014,
           "sea_level": 1014,
           "temp": 0.61,
           "temp_kf": 0,
           "temp_max": 0.61,
           "temp_min": 0.61
          },
          "pop": 0,
          "sys": {
           "pod": "n"
          },
          "visibility": 10000,
          "weather": [
           {
            "description": "clear sky",
            "icon": "01n",
            "id": 800,
            "main": "Clear"
           }
          ],
          "wind": {
           "deg": 227,
           "gust": 2.31,
           "speed": 1.92
          }
         },
         {
          "clouds": {
           "all": 28
          },
          "dt": 1639029600,
          "dt_txt": "2021-12-09 06:00:00",
          "main": {
           "feels_like": 0.85,
           "grnd_level": 1005,
           "humidity": 72,
           "pressure": 1015,
           "sea_level": 1015,
           "temp": 0.85,
           "temp_kf": 0,
           "temp_max": 0.85,
           "temp_min": 0.85
          },
          "pop": 0,
          "sys": {
           "pod": "d"
          },
          "visibility": 10000,
          "weather": [
           {
            "description": "scattered clouds",
            "icon": "03d",
            "id": 802,
            "main": "Clouds"
           }
          ],
          "wind": {
           "deg": 196,
           "gust": 0.91,
           "speed": 0.77
          }
         },
         {
          "clouds": {
           "all": 10
          },
          "dt": 1639040400,
          "dt_txt": "2021-12-09 09:00:00",
          "main": {
           "feels_like": 4.44,
           "grnd_level": 1005,
           "humidity": 55,
           "pressure": 1015,
           "sea_level": 1015,
           "temp": 4.44,
           "temp_kf": 0,
           "temp_max": 4.44,
           "temp_min": 4.44
          },
          "pop": 0,
          "sys": {
           "pod": "d"
          },
          "visibility": 10000,
          "weather": [
           {
            "description": "clear sky",
            "icon": "01d",
            "id": 800,
            "main": "Clear"
           }
          ],
          "wind": {
           "deg": 88,
           "gust": 1.48,
           "speed": 1.31
          }
         },
         {
          "clouds": {
           "all": 6
          },
          "dt": 1639051200,
          "dt_txt": "2021-12-09 12:00:00",
          "main": {
           "feels_like": 4.5,
           "grnd_level": 1003,
           "humidity": 49,
           "pressure": 1013,
           "sea_level": 1013,
           "temp": 6.57,
           "temp_kf": 0,
           "temp_max": 6.57,
           "temp_min": 6.57
          },
          "pop": 0,
          "sys": {
           "pod": "d"
          },
          "visibility": 10000,
          "weather": [
           {
            "description": "clear sky",
            "icon": "01d",
            "id": 800,
            "main": "Clear"
           }
          ],
          "wind": {
           "deg": 75,
           "gust": 3.6,
           "speed": 2.84
          }
         },
         {
          "clouds": {
           "all": 3
          },
          "dt": 1639062000,
          "dt_txt": "2021-12-09 15:00:00",
          "main": {
           "feels_like": 1.72,
           "grnd_level": 1002,
           "humidity": 62,
           "pressure": 1013,
           "sea_level": 1013,
           "temp": 4.65,
           "temp_kf": 0,
           "temp_max": 4.65,
           "temp_min": 4.65
          },
          "pop": 0,
          "sys": {
           "pod": "n"
          },
          "visibility": 10000,
          "weather": [
           {
            "description": "clear sky",
            "icon": "01n",
            "id": 800,
            "main": "Clear"
           }
          ],
          "wind": {
           "deg": 61,
           "gust": 6.89,
           "speed": 3.53
          }
         },
         {
          "clouds": {
           "all": 2
          },
          "dt": 1639072800,
          "dt_txt": "2021-12-09 18:00:00",
          "main": {
           "feels_like": 0.48,
           "grnd_level": 1001,
           "humidity": 74,
           "pressure": 1012,
           "sea_level": 1012,
           "temp": 3.66,
           "temp_kf": 0,
           "temp_max": 3.66,
           "temp_min": 3.66
          },
          "pop": 0,
          "sys": {
           "pod": "n"
          },
          "visibility": 10000,
          "weather": [
           {
            "description": "clear sky",
            "icon": "01n",
            "id": 800,
            "main": "Clear"
           }
          ],
          "wind": {
           "deg": 54,
           "gust": 6.3,
           "speed": 3.58
          }
         },
         {
          "clouds": {
           "all": 0
          },
          "dt": 1639083600,
          "dt_txt": "2021-12-09 21:00:00",
          "main": {
           "feels_like": -0.08,
           "grnd_level": 1000,
           "humidity": 86,
           "pressure": 1010,
           "sea_level": 1010,
           "temp": 3.1,
           "temp_kf": 0,
           "temp_max": 3.1,
           "temp_min": 3.1
          },
          "pop": 0,
          "sys": {
           "pod": "n"
          },
          "visibility": 10000,
          "weather": [
           {
            "description": "clear sky",
            "icon": "01n",
            "id": 800,
            "main": "Clear"
           }
          ],
          "wind": {
           "deg": 58,
           "gust": 5.44,
           "speed": 3.4
          }
         },
         {
          "clouds": {
           "all": 1
          },
          "dt": 1639094400,
          "dt_txt": "2021-12-10 00:00:00",
          "main": {
           "feels_like": 0.08,
           "grnd_level": 999,
           "humidity": 95,
           "pressure": 1009,
           "sea_level": 1009,
           "temp": 3.23,
           "temp_kf": 0,
           "temp_max": 3.23,
           "temp_min": 3.23
          },
          "pop": 0,
          "sys": {
           "pod": "n"
          },
          "visibility": 10000,
          "weather": [
           {
            "description": "clear sky",
            "icon": "01n",
            "id": 800,
            "main": "Clear"
           }
          ],
          "wind": {
           "deg": 52,
           "gust": 5.31,
           "speed": 3.4
          }
         },
         {
          "clouds": {
           "all": 16
          },
          "dt": 1639105200,
          "dt_txt": "2021-12-10 03:00:00",
          "main": {
           "feels_like": 1.6,
           "grnd_level": 998,
           "humidity": 96,
           "pressure": 1008,
           "sea_level": 1008,
           "temp": 4.12,
           "temp_kf": 0,
           "temp_max": 4.12,
           "temp_min": 4.12
          },
          "pop": 0,
          "sys": {
           "pod": "n"
          },
          "visibility": 10000,
          "weather": [
           {
            "description": "few clouds",
            "icon": "02n",
            "id": 801,
            "main": "Clouds"
           }
          ],
          "wind": {
           "deg": 67,
           "gust": 4.46,
           "speed": 2.81
          }
         },
         {
          "clouds": {
           "all": 48
          },
          "dt": 1639116000,
          "dt_txt": "2021-12-10 06:00:00",
          "main": {
           "feels_like": 4.75,
           "grnd_level": 998,
           "humidity": 94,
           "pressure": 1008,
           "sea_level": 1008,
           "temp": 4.75,
           "temp_kf": 0,
           "temp_max": 4.75,
           "temp_min": 4.75
          },
          "pop": 0,
          "sys": {
           "pod": "d"
          },
          "visibility": 10000,
          "weather": [
           {
            "description": "scattered clouds",
            "icon": "03d",
            "id": 802,
            "main": "Clouds"
           }
          ],
          "wind": {
           "deg": 358,
           "gust": 1.42,
           "speed": 0.72
          }
         },
         {
          "clouds": {
           "all": 100
          },
          "dt": 1639126800,
          "dt_txt": "2021-12-10 09:00:00",
          "main": {
           "feels_like": 7.58,
           "grnd_level": 999,
           "humidity": 85,
           "pressure": 1009,
           "sea_level": 1009,
           "temp": 7.58,
           "temp_kf": 0,
           "temp_max": 7.58,
           "temp_min": 7.58
          },
          "pop": 0,
          "sys": {
           "pod": "d"
          },
          "visibility": 10000,
          "weather": [
           {
            "description": "overcast clouds",
            "icon": "04d",
            "id": 804,
            "main": "Clouds"
           }
          ],
          "wind": {
           "deg": 258,
           "gust": 2.1,
           "speed": 1
          }
         },
         {
          "clouds": {
           "all": 100
          },
          "dt": 1639137600,
          "dt_txt": "2021-12-10 12:00:00",
          "main": {
           "feels_like": 6.12,
           "grnd_level": 1000,
           "humidity": 81,
           "pressure": 1010,
           "sea_level": 1010,
           "temp": 8.25,
           "temp_kf": 0,
           "temp_max": 8.25,
           "temp_min": 8.25
          },
          "pop": 0.15,
          "sys": {
           "pod": "d"
          },
          "visibility": 10000,
          "weather": [
           {
            "description": "overcast clouds",
            "icon": "04d",
            "id": 804,
            "main": "Clouds"
           }
          ],
          "wind": {
           "deg": 286,
           "gust": 5.99,
           "speed": 3.49
          }
         }
        ],
        "message": 0
       },
       {
        "city": {
         "coord": {
          "lat": 48.8534,
          "lon": 2.3488
         },
         "country": "FR",
         "id": 2988507,
         "name": "Paris",
         "population": 2138551,
         "sunrise": 1638689269,
         "sunset": 1638719704,
         "timezone": 3600
        },
        "cnt": 40,
        "cod": "200",
        "list": [
         {
          "clouds": {
           "all": 93
          },
          "dt": 1638716400,
          "dt_txt": "2021-12-05 15:00:00",
          "main": {
           "feels_like": 1.63,
           "grnd_level": 999,
           "humidity": 86,
           "pressure": 1003,
           "sea_level": 1003,
           "temp": 5.43,
           "temp_kf": -1.21,
           "temp_max": 6.64,
           "temp_min": 5.43
          },
          "pop": 0.89,
          "rain": {
           "3h": 1.28
          },
          "sys": {
           "pod": "d"
          },
          "visibility": 10000,
          "weather": [
           {
            "description": "light rain",
            "icon": "10d",
            "id": 500,
            "main": "Rain"
           }
          ],
          "wind": {
           "deg": 321,
           "gust": 11.18,
           "speed": 5.54
          }
         },
         {
          "clouds": {
           "all": 76
          },
          "dt": 1638727200,
          "dt_txt": "2021-12-05 18:00:00",
          "main": {
           "feels_like": 2.19,
           "grnd_level": 1002,
           "humidity": 87,
           "pressure": 1006,
           "sea_level": 1006,
           "temp": 5.47,
           "temp_kf": -0.32,
           "temp_max": 5.79,
           "temp_min": 5.47
          },
          "pop": 0.84,
          "rain": {
           "3h": 0.29
          },
          "sys": {
           "pod": "n"
          },
          "visibility": 10000,
          "weather": [
           {
            "description": "light rain",
            "icon": "10n",
            "id": 500,
            "main": "Rain"
           }
          ],
          "wind": {
           "deg": 319,
           "gust": 9.58,
           "speed": 4.45
          }
         },
         {
          "clouds": {
           "all": 100
          },
          "dt": 1638738000,
          "dt_txt": "2021-12-05 21:00:00",
          "main": {
           "feels_like": 3.01,
           "grnd_level": 1005,
           "humidity": 78,
           "pressure": 1010,
           "sea_level": 1010,
           "temp": 6.47,
           "temp_kf": 0,
           "temp_max": 6.47,
           "temp_min": 6.47
          },
          "pop": 0.84,
          "rain": {
           "3h": 3.36
          },
          "sys": {
           "pod": "n"
          },
          "visibility": 10000,
          "weather": [
           {
            "description": "moderate rain",
            "icon": "10n",
            "id": 501,
            "main": "Rain"
           }
          ],
          "wind": {
           "deg": 333,
           "gust": 11.01,
           "speed": 5.38
          }
         },
         {
          "clouds": {
           "all": 96
          },
          "dt": 1638748800,
          "dt_txt": "2021-12-06 00:00:00",
          "main": {
           "feels_like": 2.47,
           "grnd_level": 1007,
           "humidity": 86,
           "pressure": 1011,
           "sea_level": 1011,
           "temp": 5.8,
           "temp_kf": 0,
           "temp_max": 5.8,
           "temp_min": 5.8
          },
          "pop": 0.8,
          "rain": {
           "3h": 0.42
          },
          "sys": {
           "pod": "n"
          },
          "visibility": 10000,
          "weather": [
           {
            "description": "light rain",
            "icon": "10n",
            "id": 500,
            "main": "Rain"
           }
          ],
          "wind": {
           "deg": 317,
           "gust": 9.85,
           "speed": 4.71
          }
         },
         {
          "clouds": {
           "all": 89
          },
          "dt": 1638759600,
          "dt_txt": "2021-12-06 03:00:00",
          "main": {
           "feels_like": 3.61,
           "grnd_level": 1008,
           "humidity": 85,
           "pressure": 1013,
           "sea_level": 1013,
           "temp": 5.87,
           "temp_kf": 0,
           "temp_max": 5.87,
           "temp_min": 5.87
          },
          "pop": 0.29,
          "rain": {
           "3h": 0.21
          },
          "sys": {
           "pod": "n"
          },
          "visibility": 10000,
          "weather": [
           {
            "description": "light rain",
            "icon": "10n",
            "id": 500,
            "main": "Rain"
           }
          ],
          "wind": {
           "deg": 350,
           "gust": 6.92,
           "speed": 2.92
          }
         },
         {
          "clouds": {
           "all": 82
          },
          "dt": 1638770400,
          "dt_txt": "2021-12-06 06:00:00",
          "main": {
           "feels_like": 4.71,
           "grnd_level": 1011,
           "humidity": 87,
           "pressure": 1016,
           "sea_level": 1016,
           "temp": 4.71,
           "temp_kf": 0,
           "temp_max": 4.71,
           "temp_min": 4.71
          },
          "pop": 0.01,
          "sys": {
           "pod": "n"
          },
          "visibility": 10000,
          "weather": [
           {
            "description": "broken clouds",
            "icon": "04n",
            "id": 803,
            "main": "Clouds"
           }
          ],
          "wind": {
           "deg": 353,
           "gust": 2.63,
           "speed": 1.26
          }
         },
         {
          "clouds": {
           "all": 58
          },
          "dt": 1638781200,
          "dt_txt": "2021-12-06 09:00:00",
          "main": {
           "feels_like": 4.73,
           "grnd_level": 1012,
           "humidity": 84,
           "pressure": 1017,
           "sea_level": 1017,
           "temp": 4.73,
           "temp_kf": 0,
           "temp_max": 4.73,
           "temp_min": 4.73
          },
          "pop": 0,
          "sys": {
           "pod": "d"
          },
          "visibility": 10000,
          "weather": [
           {
            "description": "broken clouds",
            "icon": "04d",
            "id": 803,
            "main": "Clouds"
           }
          ],
          "wind": {
           "deg": 177,
           "gust": 1.77,
           "speed": 1.13
          }
         },
         {
          "clouds": {
           "all": 75
          },
          "dt": 1638792000,
          "dt_txt": "2021-12-06 12:00:00",
          "main": {
           "feels_like": 4.81,
           "grnd_level": 1011,
           "humidity": 71,
           "pressure": 1015,
           "sea_level": 1015,
           "temp": 7.09,
           "temp_kf": 0,
           "temp_max": 7.09,
           "temp_min": 7.09
          },
          "pop": 0,
          "sys": {
           "pod": "d"
          },
          "visibility": 10000,
          "weather": [
           {
            "description": "broken clouds",
            "icon": "04d",
            "id": 803,
            "main": "Clouds"
           }
          ],
          "wind": {
           "deg": 207,
           "gust": 5.54,
           "speed": 3.32
          }
         },
         {
          "clouds": {
           "all": 100
          },
          "dt": 1638802800,
          "dt_txt": "2021-12-06 15:00:00",
          "main": {
           "feels_like": 4.43,
           "grnd_level": 1008,
           "humidity": 65,
           "pressure": 1013,
           "sea_level": 1013,
           "temp": 7.68,
           "temp_kf": 0,
           "temp_max": 7.68,
           "temp_min": 7.68
          },
          "pop": 0,
          "sys": {
           "pod": "d"
          },
          "visibility": 10000,
          "weather": [
           {
            "description": "overcast clouds",
            "icon": "04d",
            "id": 804,
            "main": "Clouds"
           }
          ],
          "wind": {
           "deg": 216,
           "gust": 10.97,
           "speed": 5.65
          }
         },
         {
          "clouds": {
           "all": 100
          },
          "dt": 1638813600,
          "dt_txt": "2021-12-06 18:00:00",
          "main": {
           "feels_like": 3.16,
           "grnd_level": 1007,
           "humidity": 82,
           "pressure": 1011,
           "sea_level": 1011,
           "temp": 7.09,
           "temp_kf": 0,
           "temp_max": 7.09,
           "temp_min": 7.09
          },
          "pop": 0.75,
          "rain": {
           "3h": 0.79
          },
          "sys": {
           "pod": "n"
          },
          "visibility": 10000,
          "weather": [
           {
            "description": "light rain",
            "icon": "10n",
            "id": 500,
            "main": "Rain"
           }
          ],
          "wind": {
           "deg": 253,
           "gust": 15.56,
           "speed": 7.12
          }
         },
         {
          "clouds": {
           "all": 91
          },
          "dt": 1638824400,
          "dt_txt": "2021-12-06 21:00:00",
          "main": {
           "feels_like": 3.32,
           "grnd_level": 1008,
           "humidity": 75,
           "pressure": 1013,
           "sea_level": 1013,
           "temp": 6.15,
           "temp_kf": 0,
           "temp_max": 6.15,
           "temp_min": 6.15
          },
          "pop": 0.78,
          "rain": {
           "3h": 1.3
          },
          "sys": {
           "pod": "n"
          },
          "visibility": 10000,
          "weather": [
           {
            "description": "light rain",
            "icon": "10n",
            "id": 500,
            "main": "Rain"
           }
          ],
          "wind": {
           "deg": 283,
           "gust": 10.68,
           "speed": 3.91
          }
         },
         {
          "clouds": {
           "all": 77
          },
          "dt": 1638835200,
          "dt_txt": "2021-12-07 00:00:00",
          "main": {
           "feels_like": 2.42,
           "grnd_level": 1010,
           "humidity": 84,
           "pressure": 1015,
           "sea_level": 1015,
           "temp": 5.49,
           "temp_kf": 0,
           "temp_max": 5.49,
           "temp_min": 5.49
          },
          "pop": 0.73,
          "sys": {
           "pod": "n"
          },
          "visibility": 10000,
          "weather": [
           {
            "description": "broken clouds",
            "icon": "04n",
            "id": 803,
            "main": "Clouds"
           }
          ],
          "wind": {
           "deg": 273,
           "gust": 10.01,
           "speed": 4.07
          }
         },
         {
          "clouds": {
           "all": 46
          },
          "dt": 1638846000,
          "dt_txt": "2021-12-07 03:00:00",
          "main": {
           "feels_like": 1.93,
           "grnd_level": 1011,
           "humidity": 83,
           "pressure": 1016,
           "sea_level": 1016,
           "temp": 4.51,
           "temp_kf": 0,
           "temp_max": 4.51,
           "temp_min": 4.51
          },
          "pop": 0,
          "sys": {
           "pod": "n"
          },
          "visibility": 10000,
          "weather": [
           {
            "description": "scattered clouds",
            "icon": "03n",
            "id": 802,
            "main": "Clouds"
           }
          ],
          "wind": {
           "deg": 245,
           "gust": 6.98,
           "speed": 2.98
          }
         },
         {
          "clouds": {
           "all": 42
          },
          "dt": 1638856800,
          "dt_txt": "2021-12-07 06:00:00",
          "main": {
           "feels_like": 1.91,
           "grnd_level": 1010,
           "humidity": 85,
           "pressure": 1015,
           "sea_level": 1015,
           "temp": 3.62,
           "temp_kf": 0,
           "temp_max": 3.62,
           "temp_min": 3.62
          },
          "pop": 0,
          "sys": {
           "pod": "n"
          },
          "visibility": 10000,
          "weather": [
           {
            "description": "scattered clouds",
            "icon": "03n",
            "id": 802,
            "main": "Clouds"
           }
          ],
          "wind": {
           "deg": 211,
           "gust": 3.81,
           "speed": 1.87
          }
         },
         {
          "clouds": {
           "all": 100
          },
          "dt": 1638867600,
          "dt_txt": "2021-12-07 09:00:00",
          "main": {
           "feels_like": 2,
           "grnd_level": 1008,
           "humidity": 80,
           "pressure": 1013,
           "sea_level": 1013,
           "temp": 4.22,
           "temp_kf": 0,
           "temp_max": 4.22,
           "temp_min": 4.22
          },
          "pop": 0,
          "sys": {
           "pod": "d"
          },
          "visibility": 10000,
          "weather": [
           {
            "description": "overcast clouds",
            "icon": "04d",
            "id": 804,
            "main": "Clouds"
           }
          ],
          "wind": {
           "deg": 181,
           "gust": 6.81,
           "speed": 2.47
          }
         },
         {
          "clouds": {
           "all": 100
          },
          "dt": 1638878400,
          "dt_txt": "2021-12-07 12:00:00",
          "main": {
           "feels_like": 2.48,
           "grnd_level": 1004,
           "humidity": 74,
           "pressure": 1009,
           "sea_level": 1009,
           "temp": 5.79,
           "temp_kf": 0,
           "temp_max": 5.79,
           "temp_min": 5.79
          },
          "pop": 0,
          "sys": {
           "pod": "d"
          },
          "visibility": 10000,
          "weather": [
           {
            "description": "overcast clouds",
            "icon": "04d",
            "id": 804,
            "main": "Clouds"
           }
          ],
          "wind": {
           "deg": 162,
           "gust": 11.25,
           "speed": 4.68
          }
         },
         {
          "clouds": {
           "all": 100
          },
          "dt": 1638889200,
          "dt_txt": "2021-12-07 15:00:00",
          "main": {
           "feels_like": 1.79,
           "grnd_level": 997,
           "humidity": 81,
           "pressure": 1002,
           "sea_level": 1002,
           "temp": 5.83,
           "temp_kf": 0,
           "temp_max": 5.83,
           "temp_min": 5.83
          },
          "pop": 0.53,
          "rain": {
           "3h": 0.57
          },
          "sys": {
           "pod": "d"
          },
          "visibility": 10000,
          "weather": [
           {
            "description": "light rain",
            "icon": "10d",
            "id": 500,
            "main": "Rain"
           }
          ],
          "wind": {
           "deg": 162,
           "gust": 13.11,
           "speed": 6.42
          }
         },
         {
          "clouds": {
           "all": 100
          },
          "dt": 1638900000,
          "dt_txt": "2021-12-07 18:00:00",
          "main": {
           "feels_like": 1.52,
           "grnd_level": 993,
           "humidity": 85,
           "pressure": 997,
           "sea_level": 997,
           "temp": 5.79,
           "temp_kf": 0,
           "temp_max": 5.79,
           "temp_min": 5.79
          },
          "pop": 1,
          "rain": {
           "3h": 1.39
          },
          "sys": {
           "pod": "n"
          },
          "visibility": 10000,
          "weather": [
           {
            "description": "light rain",
            "icon": "10n",
            "id": 500,
            "main": "Rain"
           }
          ],
          "wind": {
           "deg": 164,
           "gust": 15.02,
           "speed": 7.03
          }
         },
         {
          "clouds": {
           "all": 100
          },
          "dt": 1638910800,
          "dt_txt": "2021-12-07 21:00:00",
          "main": {
           "feels_like": 3.96,
           "grnd_level": 992,
           "humidity": 80,
           "pressure": 997,
           "sea_level": 997,
           "temp": 7.25,
           "temp_kf": 0,
           "temp_max": 7.25,
           "temp_min": 7.25
          },
          "pop": 0.44,
          "rain": {
           "3h": 0.26
          },
          "sys": {
           "pod": "n"
          },
          "visibility": 10000,
          "weather": [
           {
            "description": "light rain",
            "icon": "10n",
            "id": 500,
            "main": "Rain"
           }
          ],
          "wind": {
           "deg": 262,
           "gust": 11.18,
           "speed": 5.45
          }
         },
         {
          "clouds": {
           "all": 67
          },
          "dt": 1638921600,
          "dt_txt": "2021-12-08 00:00:00",
          "main": {
           "feels_like": 1.77,
           "grnd_level": 992,
           "humidity": 80,
           "pressure": 997,
           "sea_level": 997,
           "temp": 4.66,
           "temp_kf": 0,
           "temp_max": 4.66,
           "temp_min": 4.66
          },
          "pop": 0.08,
          "sys": {
           "pod": "n"
          },
          "visibility": 10000,
          "weather": [
           {
            "description": "broken clouds",
            "icon": "04n",
            "id": 803,
            "main": "Clouds"
           }
          ],
          "wind": {
           "deg": 209,
           "gust": 8.46,
           "speed": 3.47
          }
         },
         {
          "clouds": {
           "all": 91
          },
          "dt": 1638932400,
          "dt_txt": "2021-12-08 03:00:00",
          "main": {
           "feels_like": 1.02,
           "grnd_level": 993,
           "humidity": 78,
           "pressure": 997,
           "sea_level": 997,
           "temp": 4.48,
           "temp_kf": 0,
           "temp_max": 4.48,
           "temp_min": 4.48
          },
          "pop": 0.01,
          "sys": {
           "pod": "n"
          },
          "visibility": 10000,
          "weather": [
           {
            "description": "overcast clouds",
            "icon": "04n",
            "id": 804,
            "main": "Clouds"
           }
          ],
          "wind": {
           "deg": 215,
           "gust": 11.32,
           "speed": 4.36
          }
         },
         {
          "clouds": {
           "all": 95
          },
          "dt": 1638943200,
          "dt_txt": "2021-12-08 06:00:00",
          "main": {
           "feels_like": 1.37,
           "grnd_level": 993,
           "humidity": 84,
           "pressure": 997,
           "sea_level": 997,
           "temp": 4.41,
           "temp_kf": 0,
           "temp_max": 4.41,
           "temp_min": 4.41
          },
          "pop": 0.23,
          "rain": {
           "3h": 0.16
          },
          "sys": {
           "pod": "n"
          },
          "visibility": 10000,
          "weather": [
           {
            "description": "light rain",
            "icon": "10n",
            "id": 500,
            "main": "Rain"
           }
          ],
          "wind": {
           "deg": 195,
           "gust": 8.15,
           "speed": 3.61
          }
         },
         {
          "clouds": {
           "all": 75
          },
          "dt": 1638954000,
          "dt_txt": "2021-12-08 09:00:00",
          "main": {
           "feels_like": 1.02,
           "grnd_level": 993,
           "humidity": 79,
           "pressure": 998,
           "sea_level": 998,
           "temp": 4.28,
           "temp_kf": 0,
           "temp_max": 4.28,
           "temp_min": 4.28
          },
          "pop": 0.09,
          "sys": {
           "pod": "d"
          },
          "visibility": 10000,
          "weather": [
           {
            "description": "broken clouds",
            "icon": "04d",
            "id": 803,
            "main": "Clouds"
           }
          ],
          "wind": {
           "deg": 193,
           "gust": 9.81,
           "speed": 3.92
          }
         },
         {
          "clouds": {
           "all": 41
          },
          "dt": 1638964800,
          "dt_txt": "2021-12-08 12:00:00",
          "main": {
           "feels_like": 2.85,
           "grnd_level": 992,
           "humidity": 70,
           "pressure": 997,
           "sea_level": 997,
           "temp": 6.48,
           "temp_kf": 0,
           "temp_max": 6.48,
           "temp_min": 6.48
          },
          "pop": 0.03,
          "sys": {
           "pod": "d"
          },
          "visibility": 10000,
          "weather": [
           {
            "description": "scattered clouds",
            "icon": "03d",
            "id": 802,
            "main": "Clouds"
           }
          ],
          "wind": {
           "deg": 202,
           "gust": 10.5,
           "speed": 5.81
          }
         },
         {
          "clouds": {
           "all": 13
          },
          "dt": 1638975600,
          "dt_txt": "2021-12-08 15:00:00",
          "main": {
           "feels_like": 3.01,
           "grnd_level": 990,
           "humidity": 66,
           "pressure": 995,
           "sea_level": 995,
           "temp": 6.59,
           "temp_kf": 0,
           "temp_max": 6.59,
           "temp_min": 6.59
          },
          "pop": 0,
          "sys": {
           "pod": "d"
          },
          "visibility": 10000,
          "weather": [
           {
            "description": "few clouds",
            "icon": "02d",
            "id": 801,
            "main": "Clouds"
           }
          ],
          "wind": {
           "deg": 191,
           "gust": 11.9,
           "speed": 5.74
          }
         },
         {
          "clouds": {
           "all": 39
          },
          "dt": 1638986400,
          "dt_txt": "2021-12-08 18:00:00",
          "main": {
           "feels_like": 1.01,
           "grnd_level": 990,
           "humidity": 84,
           "pressure": 995,
           "sea_level": 995,
           "temp": 5.27,
           "temp_kf": 0,
           "temp_max": 5.27,
           "temp_min": 5.27
          },
          "pop": 0.5,
          "rain": {
           "3h": 0.69
          },
          "sys": {
           "pod": "n"
          },
          "visibility": 10000,
          "weather": [
           {
            "description": "light rain",
            "icon": "10n",
            "id": 500,
            "main": "Rain"
           }
          ],
          "wind": {
           "deg": 192,
           "gust": 13.65,
           "speed": 6.6
          }
         },
         {
          "clouds": {
           "all": 100
          },
          "dt": 1638997200,
          "dt_txt": "2021-12-08 21:00:00",
          "main": {
           "feels_like": 2.06,
           "grnd_level": 990,
           "humidity": 86,
           "pressure": 995,
           "sea_level": 995,
           "temp": 5.44,
           "temp_kf": 0,
           "temp_max": 5.44,
           "temp_min": 5.44
          },
          "pop": 0.89,
          "rain": {
           "3h": 1.18
          },
          "sys": {
           "pod": "n"
          },
          "visibility": 10000,
          "weather": [
           {
            "description": "light rain",
            "icon": "10n",
            "id": 500,
            "main": "Rain"
           }
          ],
          "wind": {
           "deg": 177,
           "gust": 9.64,
           "speed": 4.65
          }
         },
         {
          "clouds": {
           "all": 100
          },
          "dt": 1639008000,
          "dt_txt": "2021-12-09 00:00:00",
          "main": {
           "feels_like": 2.56,
           "grnd_level": 989,
           "humidity": 88,
           "pressure": 993,
           "sea_level": 993,
           "temp": 5.72,
           "temp_kf": 0,
           "temp_max": 5.72,
           "temp_min": 5.72
          },
          "pop": 0.8,
          "rain": {
           "3h": 0.79
          },
          "sys": {
           "pod": "n"
          },
          "visibility": 10000,
          "weather": [
           {
            "description": "light rain",
            "icon": "10n",
            "id": 500,
            "main": "Rain"
           }
          ],
          "wind": {
           "deg": 178,
           "gust": 8.35,
           "speed": 4.34
          }
         },
         {
          "clouds": {
           "all": 100
          },
          "dt": 1639018800,
          "dt_txt": "2021-12-09 03:00:00",
          "main": {
           "feels_like": 3.39,
           "grnd_level": 989,
           "humidity": 88,
           "pressure": 993,
           "sea_level": 993,
           "temp": 5.41,
           "temp_kf": 0,
           "temp_max": 5.41,
           "temp_min": 5.41
          },
          "pop": 0.73,
          "rain": {
           "3h": 0.41
          },
          "sys": {
           "pod": "n"
          },
          "visibility": 10000,
          "weather": [
           {
            "description": "light rain",
            "icon": "10n",
            "id": 500,
            "main": "Rain"
           }
          ],
          "wind": {
           "deg": 144,
           "gust": 4.84,
           "speed": 2.49
          }
         },
         {
          "clouds": {
           "all": 100
          },
          "dt": 1639029600,
          "dt_txt": "2021-12-09 06:00:00",
          "main": {
           "feels_like": 3.04,
           "grnd_level": 990,
           "humidity": 90,
           "pressure": 995,
           "sea_level": 995,
           "temp": 4.86,
           "temp_kf": 0,
           "temp_max": 4.86,
           "temp_min": 4.86
          },
          "pop": 0.79,
          "rain": {
           "3h": 1.87
          },
          "sys": {
           "pod": "n"
          },
          "visibility": 10000,
          "weather": [
           {
            "description": "light rain",
            "icon": "10n",
            "id": 500,
            "main": "Rain"
           }
          ],
          "wind": {
           "deg": 103,
           "gust": 3.07,
           "speed": 2.16
          }
         },
         {
          "clouds": {
           "all": 100
          },
          "dt": 1639040400,
          "dt_txt": "2021-12-09 09:00:00",
          "main": {
           "feels_like": 2.72,
           "grnd_level": 993,
           "humidity": 89,
           "pressure": 997,
           "sea_level": 997,
           "temp": 4.88,
           "temp_kf": 0,
           "temp_max": 4.88,
           "temp_min": 4.88
          },
          "pop": 0.23,
          "rain": {
           "3h": 0.13
          },
          "sys": {
           "pod": "d"
          },
          "visibility": 10000,
          "weather": [
           {
            "description": "light rain",
            "icon": "10d",
            "id": 500,
            "main": "Rain"
           }
          ],
          "wind": {
           "deg": 39,
           "gust": 5.14,
           "speed": 2.54
          }
         },
         {
          "clouds": {
           "all": 100
          },
          "dt": 1639051200,
          "dt_txt": "2021-12-09 12:00:00",
          "main": {
           "feels_like": 1.89,
           "grnd_level": 995,
           "humidity": 88,
           "pressure": 1000,
           "sea_level": 1000,
           "temp": 4.94,
           "temp_kf": 0,
           "temp_max": 4.94,
           "temp_min": 4.94
          },
          "pop": 0.09,
          "sys": {
           "pod": "d"
          },
          "visibility": 10000,
          "weather": [
           {
            "description": "overcast clouds",
            "icon": "04d",
            "id": 804,
            "main": "Clouds"
           }
          ],
          "wind": {
           "deg": 7,
           "gust": 6.55,
           "speed": 3.82
          }
         },
         {
          "clouds": {
           "all": 100
          },
          "dt": 1639062000,
          "dt_txt": "2021-12-09 15:00:00",
          "main": {
           "feels_like": 0.99,
           "grnd_level": 997,
           "humidity": 92,
           "pressure": 1002,
           "sea_level": 1002,
           "temp": 4.29,
           "temp_kf": 0,
           "temp_max": 4.29,
           "temp_min": 4.29
          },
          "pop": 0,
          "sys": {
           "pod": "d"
          },
          "visibility": 10000,
          "weather": [
           {
            "description": "overcast clouds",
            "icon": "04d",
            "id": 804,
            "main": "Clouds"
           }
          ],
          "wind": {
           "deg": 356,
           "gust": 6.88,
           "speed": 3.99
          }
         },
         {
          "clouds": {
           "all": 100
          },
          "dt": 1639072800,
          "dt_txt": "2021-12-09 18:00:00",
          "main": {
           "feels_like": 1.87,
           "grnd_level": 999,
           "humidity": 76,
           "pressure": 1004,
           "sea_level": 1004,
           "temp": 4.45,
           "temp_kf": 0,
           "temp_max": 4.45,
           "temp_min": 4.45
          },
          "pop": 0,
          "sys": {
           "pod": "n"
          },
          "visibility": 10000,
          "weather": [
           {
            "description": "overcast clouds",
            "icon": "04n",
            "id": 804,
            "main": "Clouds"
           }
          ],
          "wind": {
           "deg": 339,
           "gust": 6.05,
           "speed": 2.97
          }
         },
         {
          "clouds": {
           "all": 81
          },
          "dt": 1639083600,
          "dt_txt": "2021-12-09 21:00:00",
          "main": {
           "feels_like": 0.99,
           "grnd_level": 1000,
           "humidity": 84,
           "pressure": 1005,
           "sea_level": 1005,
           "temp": 3.24,
           "temp_kf": 0,
           "temp_max": 3.24,
           "temp_min": 3.24
          },
          "pop": 0.07,
          "sys": {
           "pod": "n"
          },
          "visibility": 10000,
          "weather": [
           {
            "description": "broken clouds",
            "icon": "04n",
            "id": 803,
            "main": "Clouds"
           }
          ],
          "wind": {
           "deg": 298,
           "gust": 3.86,
           "speed": 2.32
          }
         },
         {
          "clouds": {
           "all": 88
          },
          "dt": 1639094400,
          "dt_txt": "2021-12-10 00:00:00",
          "main": {
           "feels_like": 2.87,
           "grnd_level": 1000,
           "humidity": 95,
           "pressure": 1004,
           "sea_level": 1004,
           "temp": 2.87,
           "temp_kf": 0,
           "temp_max": 2.87,
           "temp_min": 2.87
          },
          "pop": 0.3,
          "snow": {
           "3h": 0.15
          },
          "sys": {
           "pod": "n"
          },
          "visibility": 676,
          "weather": [
           {
            "description": "light snow",
            "icon": "13n",
            "id": 600,
            "main": "Snow"
           }
          ],
          "wind": {
           "deg": 309,
           "gust": 2.69,
           "speed": 1.03
          }
         },
         {
          "clouds": {
           "all": 100
          },
          "dt": 1639105200,
          "dt_txt": "2021-12-10 03:00:00",
          "main": {
           "feels_like": 2.92,
           "grnd_level": 998,
           "humidity": 88,
           "pressure": 1003,
           "sea_level": 1003,
           "temp": 2.92,
           "temp_kf": 0,
           "temp_max": 2.92,
           "temp_min": 2.92
          },
          "pop": 0,
          "sys": {
           "pod": "n"
          },
          "visibility": 10000,
          "weather": [
           {
            "description": "overcast clouds",
            "icon": "04n",
            "id": 804,
            "main": "Clouds"
           }
          ],
          "wind": {
           "deg": 270,
           "gust": 1.58,
           "speed": 0.89
          }
         },
         {
          "clouds": {
           "all": 100
          },
          "dt": 1639116000,
          "dt_txt": "2021-12-10 06:00:00",
          "main": {
           "feels_like": 3.5,
           "grnd_level": 998,
           "humidity": 79,
           "pressure": 1003,
           "sea_level": 1003,
           "temp": 3.5,
           "temp_kf": 0,
           "temp_max": 3.5,
           "temp_min": 3.5
          },
          "pop": 0,
          "sys": {
           "pod": "n"
          },
          "visibility": 10000,
          "weather": [
           {
            "description": "overcast clouds",
            "icon": "04n",
            "id": 804,
            "main": "Clouds"
           }
          ],
          "wind": {
           "deg": 219,
           "gust": 1.52,
           "speed": 0.78
          }
         },
         {
          "clouds": {
           "all": 100
          },
          "dt": 1639126800,
          "dt_txt": "2021-12-10 09:00:00",
          "main": {
           "feels_like": 3.87,
           "grnd_level": 998,
           "humidity": 77,
           "pressure": 1003,
           "sea_level": 1003,
           "temp": 3.87,
           "temp_kf": 0,
           "temp_max": 3.87,
           "temp_min": 3.87
          },
          "pop": 0.04,
          "sys": {
           "pod": "d"
          },
          "visibility": 10000,
          "weather": [
           {
            "description": "overcast clouds",
            "icon": "04d",
            "id": 804,
            "main": "Clouds"
           }
          ],
          "wind": {
           "deg": 180,
           "gust": 0.87,
           "speed": 0.54
          }
         },
         {
          "clouds": {
           "all": 100
          },
          "dt": 1639137600,
          "dt_txt": "2021-12-10 12:00:00",
          "main": {
           "feels_like": 3.8,
           "grnd_level": 998,
           "humidity": 72,
           "pressure": 1003,
           "sea_level": 1003,
           "temp": 5.04,
           "temp_kf": 0,
           "temp_max": 5.04,
           "temp_min": 5.04
          },
          "pop": 0.04,
          "sys": {
           "pod": "d"
          },
          "visibility": 10000,
          "weather": [
           {
            "description": "overcast clouds",
            "icon": "04d",
            "id": 804,
            "main": "Clouds"
           }
          ],
          "wind": {
           "deg": 297,
           "gust": 2.02,
           "speed": 1.65
          }
         }
        ],
        "message": 0
       },
       {
        "city": {
         "coord": {
          "lat": 53.9,
          "lon": 27.5667
         },
         "country": "BY",
         "id": 625144,
         "name": "Minsk",
         "population": 1742124,
         "sunrise": 1638684646,
         "sunset": 1638712219,
         "timezone": 10800
        },
        "cnt": 40,
        "cod": "200",
        "list": [
         {
          "clouds": {
           "all": 63
          },
          "dt": 1638716400,
          "dt_txt": "2021-12-05 15:00:00",
          "main": {
           "feels_like": -6.96,
           "grnd_level": 985,
           "humidity": 90,
           "pressure": 1012,
           "sea_level": 1012,
           "temp": -4.38,
           "temp_kf": 0.47,
           "temp_max": -4.38,
           "temp_min": -4.85
          },
          "pop": 0,
          "sys": {
           "pod": "n"
          },
          "visibility": 10000,
          "weather": [
           {
            "description": "broken clouds",
            "icon": "04n",
            "id": 803,
            "main": "Clouds"
           }
          ],
          "wind": {
           "deg": 86,
           "gust": 2.03,
           "speed": 1.62
          }
         },
         {
          "clouds": {
           "all": 81
          },
          "dt": 1638727200,
          "dt_txt": "2021-12-05 18:00:00",
          "main": {
           "feels_like": -7.69,
           "grnd_level": 986,
           "humidity": 92,
           "pressure": 1012,
           "sea_level": 1012,
           "temp": -4.07,
           "temp_kf": -0.04,
           "temp_max": -4.03,
           "temp_min": -4.07
          },
          "pop": 0,
          "sys": {
           "pod": "n"
          },
          "visibility": 10000,
          "weather": [
           {
            "description": "broken clouds",
            "icon": "04n",
            "id": 803,
            "main": "Clouds"
           }
          ],
          "wind": {
           "deg": 93,
           "gust": 4.59,
           "speed": 2.37
          }
         },
         {
          "clouds": {
           "all": 100
          },
          "dt": 1638738000,
          "dt_txt": "2021-12-05 21:00:00",
          "main": {
           "feels_like": -7.87,
           "grnd_level": 986,
           "humidity": 94,
           "pressure": 1014,
           "sea_level": 1014,
           "temp": -4.37,
           "temp_kf": 0,
           "temp_max": -4.37,
           "temp_min": -4.37
          },
          "pop": 0,
          "sys": {
           "pod": "n"
          },
          "visibility": 10000,
          "weather": [
           {
            "description": "overcast clouds",
            "icon": "04n",
            "id": 804,
            "main": "Clouds"
           }
          ],
          "wind": {
           "deg": 85,
           "gust": 4.2,
           "speed": 2.24
          }
         },
         {
          "clouds": {
           "all": 100
          },
          "dt": 1638748800,
          "dt_txt": "2021-12-06 00:00:00",
          "main": {
           "feels_like": -7.91,
           "grnd_level": 986,
           "humidity": 94,
           "pressure": 1014,
           "sea_level": 1014,
           "temp": -4.11,
           "temp_kf": 0,
           "temp_max": -4.11,
           "temp_min": -4.11
          },
          "pop": 0,
          "sys": {
           "pod": "n"
          },
          "visibility": 10000,
          "weather": [
           {
            "description": "overcast clouds",
            "icon": "04n",
            "id": 804,
            "main": "Clouds"
           }
          ],
          "wind": {
           "deg": 75,
           "gust": 4.64,
           "speed": 2.52
          }
         },
         {
          "clouds": {
           "all": 100
          },
          "dt": 1638759600,
          "dt_txt": "2021-12-06 03:00:00",
          "main": {
           "feels_like": -7.15,
           "grnd_level": 985,
           "humidity": 93,
           "pressure": 1013,
           "sea_level": 1013,
           "temp": -3.64,
           "temp_kf": 0,
           "temp_max": -3.64,
           "temp_min": -3.64
          },
          "pop": 0.04,
          "sys": {
           "pod": "n"
          },
          "visibility": 10000,
          "weather": [
           {
            "description": "overcast clouds",
            "icon": "04n",
            "id": 804,
            "main": "Clouds"
           }
          ],
          "wind": {
           "deg": 92,
           "gust": 4.64,
           "speed": 2.35
          }
         },
         {
          "clouds": {
           "all": 100
          },
          "dt": 1638770400,
          "dt_txt": "2021-12-06 06:00:00",
          "main": {
           "feels_like": -6.21,
           "grnd_level": 986,
           "humidity": 97,
           "pressure": 1013,
           "sea_level": 1013,
           "temp": -2.87,
           "temp_kf": 0,
           "temp_max": -2.87,
           "temp_min": -2.87
          },
          "pop": 0.22,
          "snow": {
           "3h": 0.29
          },
          "sys": {
           "pod": "n"
          },
          "visibility": 267,
          "weather": [
           {
            "description": "light snow",
            "icon": "13n",
            "id": 600,
            "main": "Snow"
           }
          ],
          "wind": {
           "deg": 84,
           "gust": 4.74,
           "speed": 2.32
          }
         },
         {
          "clouds": {
           "all": 100
          },
          "dt": 1638781200,
          "dt_txt": "2021-12-06 09:00:00",
          "main": {
           "feels_like": -5.61,
           "grnd_level": 986,
           "humidity": 96,
           "pressure": 1013,
           "sea_level": 1013,
           "temp": -1.75,
           "temp_kf": 0,
           "temp_max": -1.75,
           "temp_min": -1.75
          },
          "pop": 0.21,
          "snow": {
           "3h": 0.2
          },
          "sys": {
           "pod": "d"
          },
          "visibility": 1853,
          "weather": [
           {
            "description": "light snow",
            "icon": "13d",
            "id": 600,
            "main": "Snow"
           }
          ],
          "wind": {
           "deg": 99,
           "gust": 5.72,
           "speed": 3.01
          }
         },
         {
          "clouds": {
           "all": 100
          },
          "dt": 1638792000,
          "dt_txt": "2021-12-06 12:00:00",
          "main": {
           "feels_like": -4.17,
           "grnd_level": 985,
           "humidity": 95,
           "pressure": 1013,
           "sea_level": 1013,
           "temp": -1.16,
           "temp_kf": 0,
           "temp_max": -1.16,
           "temp_min": -1.16
          },
          "pop": 0.2,
          "snow": {
           "3h": 0.14
          },
          "sys": {
           "pod": "d"
          },
          "visibility": 805,
          "weather": [
           {
            "description": "light snow",
            "icon": "13d",
            "id": 600,
            "main": "Snow"
           }
          ],
          "wind": {
           "deg": 103,
           "gust": 3.5,
           "speed": 2.3
          }
         },
         {
          "clouds": {
           "all": 100
          },
          "dt": 1638802800,
          "dt_txt": "2021-12-06 15:00:00",
          "main": {
           "feels_like": -4.46,
           "grnd_level": 985,
           "humidity": 94,
           "pressure": 1013,
           "sea_level": 1013,
           "temp": -1.58,
           "temp_kf": 0,
           "temp_max": -1.58,
           "temp_min": -1.58
          },
          "pop": 0.2,
          "snow": {
           "3h": 0.1
          },
          "sys": {
           "pod": "n"
          },
          "visibility": 2888,
          "weather": [
           {
            "description": "light snow",
            "icon": "13n",
            "id": 600,
            "main": "Snow"
           }
          ],
          "wind": {
           "deg": 91,
           "gust": 3.55,
           "speed": 2.13
          }
         },
         {
          "clouds": {
           "all": 100
          },
          "dt": 1638813600,
          "dt_txt": "2021-12-06 18:00:00",
          "main": {
           "feels_like": -4.46,
           "grnd_level": 985,
           "humidity": 98,
           "pressure": 1012,
           "sea_level": 1012,
           "temp": -2.12,
           "temp_kf": 0,
           "temp_max": -2.12,
           "temp_min": -2.12
          },
          "pop": 0.27,
          "snow": {
           "3h": 0.24
          },
          "sys": {
           "pod": "n"
          },
          "visibility": 8329,
          "weather": [
           {
            "description": "light snow",
            "icon": "13n",
            "id": 600,
            "main": "Snow"
           }
          ],
          "wind": {
           "deg": 75,
           "gust": 2.96,
           "speed": 1.68
          }
         },
         {
          "clouds": {
           "all": 100
          },
          "dt": 1638824400,
          "dt_txt": "2021-12-06 21:00:00",
          "main": {
           "feels_like": -4.7,
           "grnd_level": 984,
           "humidity": 98,
           "pressure": 1011,
           "sea_level": 1011,
           "temp": -2.31,
           "temp_kf": 0,
           "temp_max": -2.31,
           "temp_min": -2.31
          },
          "pop": 0.37,
          "snow": {
           "3h": 0.13
          },
          "sys": {
           "pod": "n"
          },
          "visibility": 708,
          "weather": [
           {
            "description": "light snow",
            "icon": "13n",
            "id": 600,
            "main": "Snow"
           }
          ],
          "wind": {
           "deg": 50,
           "gust": 2.57,
           "speed": 1.69
          }
         },
         {
          "clouds": {
           "all": 100
          },
          "dt": 1638835200,
          "dt_txt": "2021-12-07 00:00:00",
          "main": {
           "feels_like": -4.67,
           "grnd_level": 984,
           "humidity": 98,
           "pressure": 1011,
           "sea_level": 1011,
           "temp": -1.99,
           "temp_kf": 0,
           "temp_max": -1.99,
           "temp_min": -1.99
          },
          "pop": 0.85,
          "snow": {
           "3h": 1.01
          },
          "sys": {
           "pod": "n"
          },
          "visibility": 215,
          "weather": [
           {
            "description": "light snow",
            "icon": "13n",
            "id": 600,
            "main": "Snow"
           }
          ],
          "wind": {
           "deg": 19,
           "gust": 3.09,
           "speed": 1.92
          }
         },
         {
          "clouds": {
           "all": 100
          },
          "dt": 1638846000,
          "dt_txt": "2021-12-07 03:00:00",
          "main": {
           "feels_like": -5.86,
           "grnd_level": 983,
           "humidity": 97,
           "pressure": 1010,
           "sea_level": 1010,
           "temp": -2.44,
           "temp_kf": 0,
           "temp_max": -2.44,
           "temp_min": -2.44
          },
          "pop": 0.95,
          "snow": {
           "3h": 0.65
          },
          "sys": {
           "pod": "n"
          },
          "visibility": 1619,
          "weather": [
           {
            "description": "light snow",
            "icon": "13n",
            "id": 600,
            "main": "Snow"
           }
          ],
          "wind": {
           "deg": 15,
           "gust": 4.95,
           "speed": 2.45
          }
         },
         {
          "clouds": {
           "all": 100
          },
          "dt": 1638856800,
          "dt_txt": "2021-12-07 06:00:00",
          "main": {
           "feels_like": -7.3,
           "grnd_level": 983,
           "humidity": 97,
           "pressure": 1011,
           "sea_level": 1011,
           "temp": -3.67,
           "temp_kf": 0,
           "temp_max": -3.67,
           "temp_min": -3.67
          },
          "pop": 0.72,
          "sys": {
           "pod": "n"
          },
          "visibility": 3993,
          "weather": [
           {
            "description": "overcast clouds",
            "icon": "04n",
            "id": 804,
            "main": "Clouds"
           }
          ],
          "wind": {
           "deg": 350,
           "gust": 4.67,
           "speed": 2.44
          }
         },
         {
          "clouds": {
           "all": 100
          },
          "dt": 1638867600,
          "dt_txt": "2021-12-07 09:00:00",
          "main": {
           "feels_like": -8.11,
           "grnd_level": 984,
           "humidity": 94,
           "pressure": 1011,
           "sea_level": 1011,
           "temp": -3.79,
           "temp_kf": 0,
           "temp_max": -3.79,
           "temp_min": -3.79
          },
          "pop": 0,
          "sys": {
           "pod": "d"
          },
          "visibility": 10000,
          "weather": [
           {
            "description": "overcast clouds",
            "icon": "04d",
            "id": 804,
            "main": "Clouds"
           }
          ],
          "wind": {
           "deg": 355,
           "gust": 5.13,
           "speed": 3.06
          }
         },
         {
          "clouds": {
           "all": 100
          },
          "dt": 1638878400,
          "dt_txt": "2021-12-07 12:00:00",
          "main": {
           "feels_like": -8.8,
           "grnd_level": 983,
           "humidity": 93,
           "pressure": 1011,
           "sea_level": 1011,
           "temp": -3.77,
           "temp_kf": 0,
           "temp_max": -3.77,
           "temp_min": -3.77
          },
          "pop": 0,
          "sys": {
           "pod": "d"
          },
          "visibility": 10000,
          "weather": [
           {
            "description": "overcast clouds",
            "icon": "04d",
            "id": 804,
            "main": "Clouds"
           }
          ],
          "wind": {
           "deg": 357,
           "gust": 5.85,
           "speed": 3.86
          }
         },
         {
          "clouds": {
           "all": 100
          },
          "dt": 1638889200,
          "dt_txt": "2021-12-07 15:00:00",
          "main": {
           "feels_like": -11.72,
           "grnd_level": 985,
           "humidity": 95,
           "pressure": 1012,
           "sea_level": 1012,
           "temp": -6.17,
           "temp_kf": 0,
           "temp_max": -6.17,
           "temp_min": -6.17
          },
          "pop": 0,
          "sys": {
           "pod": "n"
          },
          "visibility": 10000,
          "weather": [
           {
            "description": "overcast clouds",
            "icon": "04n",
            "id": 804,
            "main": "Clouds"
           }
          ],
          "wind": {
           "deg": 349,
           "gust": 7.2,
           "speed": 3.83
          }
         },
         {
          "clouds": {
           "all": 100
          },
          "dt": 1638900000,
          "dt_txt": "2021-12-07 18:00:00",
          "main": {
           "feels_like": -13.48,
           "grnd_level": 985,
           "humidity": 95,
           "pressure": 1013,
           "sea_level": 1013,
           "temp": -7.57,
           "temp_kf": 0,
           "temp_max": -7.57,
           "temp_min": -7.57
          },
          "pop": 0,
          "sys": {
           "pod": "n"
          },
          "visibility": 10000,
          "weather": [
           {
            "description": "overcast clouds",
            "icon": "04n",
            "id": 804,
            "main": "Clouds"
           }
          ],
          "wind": {
           "deg": 353,
           "gust": 7.49,
           "speed": 3.88
          }
         },
         {
          "clouds": {
           "all": 75
          },
          "dt": 1638910800,
          "dt_txt": "2021-12-07 21:00:00",
          "main": {
           "feels_like": -14.82,
           "grnd_level": 986,
           "humidity": 95,
           "pressure": 1014,
           "sea_level": 1014,
           "temp": -9.02,
           "temp_kf": 0,
           "temp_max": -9.02,
           "temp_min": -9.02
          },
          "pop": 0,
          "sys": {
           "pod": "n"
          },
          "visibility": 10000,
          "weather": [
           {
            "description": "broken clouds",
            "icon": "04n",
            "id": 803,
            "main": "Clouds"
           }
          ],
          "wind": {
           "deg": 351,
           "gust": 6.9,
           "speed": 3.44
          }
         },
         {
          "clouds": {
           "all": 60
          },
          "dt": 1638921600,
          "dt_txt": "2021-12-08 00:00:00",
          "main": {
           "feels_like": -15.75,
           "grnd_level": 987,
           "humidity": 95,
           "pressure": 1015,
           "sea_level": 1015,
           "temp": -9.97,
           "temp_kf": 0,
           "temp_max": -9.97,
           "temp_min": -9.97
          },
          "pop": 0,
          "sys": {
           "pod": "n"
          },
          "visibility": 10000,
          "weather": [
           {
            "description": "broken clouds",
            "icon": "04n",
            "id": 803,
            "main": "Clouds"
           }
          ],
          "wind": {
           "deg": 354,
           "gust": 6.49,
           "speed": 3.24
          }
         },
         {
          "clouds": {
           "all": 35
          },
          "dt": 1638932400,
          "dt_txt": "2021-12-08 03:00:00",
          "main": {
           "feels_like": -16.25,
           "grnd_level": 988,
           "humidity": 95,
           "pressure": 1016,
           "sea_level": 1016,
           "temp": -10.77,
           "temp_kf": 0,
           "temp_max": -10.77,
           "temp_min": -10.77
          },
          "pop": 0,
          "sys": {
           "pod": "n"
          },
          "visibility": 10000,
          "weather": [
           {
            "description": "scattered clouds",
            "icon": "03n",
            "id": 802,
            "main": "Clouds"
           }
          ],
          "wind": {
           "deg": 7,
           "gust": 5.88,
           "speed": 2.85
          }
         },
         {
          "clouds": {
           "all": 27
          },
          "dt": 1638943200,
          "dt_txt": "2021-12-08 06:00:00",
          "main": {
           "feels_like": -17.18,
           "grnd_level": 988,
           "humidity": 94,
           "pressure": 1017,
           "sea_level": 1017,
           "temp": -11.14,
           "temp_kf": 0,
           "temp_max": -11.14,
           "temp_min": -11.14
          },
          "pop": 0,
          "sys": {
           "pod": "n"
          },
          "visibility": 10000,
          "weather": [
           {
            "description": "scattered clouds",
            "icon": "03n",
            "id": 802,
            "main": "Clouds"
           }
          ],
          "wind": {
           "deg": 9,
           "gust": 7.1,
           "speed": 3.25
          }
         },
         {
          "clouds": {
           "all": 17
          },
          "dt": 1638954000,
          "dt_txt": "2021-12-08 09:00:00",
          "main": {
           "feels_like": -14.89,
           "grnd_level": 990,
           "humidity": 91,
           "pressure": 1018,
           "sea_level": 1018,
           "temp": -9.42,
           "temp_kf": 0,
           "temp_max": -9.42,
           "temp_min": -9.42
          },
          "pop": 0,
          "sys": {
           "pod": "d"
          },
          "visibility": 10000,
          "weather": [
           {
            "description": "few clouds",
            "icon": "02d",
            "id": 801,
            "main": "Clouds"
           }
          ],
          "wind": {
           "deg": 34,
           "gust": 5.19,
           "speed": 3.06
          }
         },
         {
          "clouds": {
           "all": 39
          },
          "dt": 1638964800,
          "dt_txt": "2021-12-08 12:00:00",
          "main": {
           "feels_like": -14.15,
           "grnd_level": 989,
           "humidity": 92,
           "pressure": 1017,
           "sea_level": 1017,
           "temp": -8.44,
           "temp_kf": 0,
           "temp_max": -8.44,
           "temp_min": -8.44
          },
          "pop": 0,
          "sys": {
           "pod": "d"
          },
          "visibility": 10000,
          "weather": [
           {
            "description": "scattered clouds",
            "icon": "03d",
            "id": 802,
            "main": "Clouds"
           }
          ],
          "wind": {
           "deg": 24,
           "gust": 6.52,
           "speed": 3.47
          }
         },
         {
          "clouds": {
           "all": 31
          },
          "dt": 1638975600,
          "dt_txt": "2021-12-08 15:00:00",
          "main": {
           "feels_like": -16.38,
           "grnd_level": 990,
           "humidity": 94,
           "pressure": 1018,
           "sea_level": 1018,
           "temp": -9.99,
           "temp_kf": 0,
           "temp_max": -9.99,
           "temp_min": -9.99
          },
          "pop": 0,
          "sys": {
           "pod": "n"
          },
          "visibility": 10000,
          "weather": [
           {
            "description": "scattered clouds",
            "icon": "03n",
            "id": 802,
            "main": "Clouds"
           }
          ],
          "wind": {
           "deg": 30,
           "gust": 8.96,
           "speed": 3.82
          }
         },
         {
          "clouds": {
           "all": 53
          },
          "dt": 1638986400,
          "dt_txt": "2021-12-08 18:00:00",
          "main": {
           "feels_like": -17.15,
           "grnd_level": 990,
           "humidity": 93,
           "pressure": 1018,
           "sea_level": 1018,
           "temp": -10.44,
           "temp_kf": 0,
           "temp_max": -10.44,
           "temp_min": -10.44
          },
          "pop": 0,
          "sys": {
           "pod": "n"
          },
          "visibility": 10000,
          "weather": [
           {
            "description": "broken clouds",
            "icon": "04n",
            "id": 803,
            "main": "Clouds"
           }
          ],
          "wind": {
           "deg": 40,
           "gust": 9.81,
           "speed": 4.04
          }
         },
         {
          "clouds": {
           "all": 100
          },
          "dt": 1638997200,
          "dt_txt": "2021-12-08 21:00:00",
          "main": {
           "feels_like": -17.03,
           "grnd_level": 990,
           "humidity": 92,
           "pressure": 1018,
           "sea_level": 1018,
           "temp": -10.43,
           "temp_kf": 0,
           "temp_max": -10.43,
           "temp_min": -10.43
          },
          "pop": 0,
          "sys": {
           "pod": "n"
          },
          "visibility": 10000,
          "weather": [
           {
            "description": "overcast clouds",
            "icon": "04n",
            "id": 804,
            "main": "Clouds"
           }
          ],
          "wind": {
           "deg": 27,
           "gust": 8.82,
           "speed": 3.93
          }
         },
         {
          "clouds": {
           "all": 99
          },
          "dt": 1639008000,
          "dt_txt": "2021-12-09 00:00:00",
          "main": {
           "feels_like": -17.16,
           "grnd_level": 989,
           "humidity": 90,
           "pressure": 1018,
           "sea_level": 1018,
           "temp": -10.16,
           "temp_kf": 0,
           "temp_max": -10.16,
           "temp_min": -10.16
          },
          "pop": 0,
          "sys": {
           "pod": "n"
          },
          "visibility": 10000,
          "weather": [
           {
            "description": "overcast clouds",
            "icon": "04n",
            "id": 804,
            "main": "Clouds"
           }
          ],
          "wind": {
           "deg": 28,
           "gust": 10.09,
           "speed": 4.5
          }
         },
         {
          "clouds": {
           "all": 64
          },
          "dt": 1639018800,
          "dt_txt": "2021-12-09 03:00:00",
          "main": {
           "feels_like": -17.55,
           "grnd_level": 989,
           "humidity": 91,
           "pressure": 1017,
           "sea_level": 1017,
           "temp": -10.6,
           "temp_kf": 0,
           "temp_max": -10.6,
           "temp_min": -10.6
          },
          "pop": 0,
          "sys": {
           "pod": "n"
          },
          "visibility": 10000,
          "weather": [
           {
            "description": "broken clouds",
            "icon": "04n",
            "id": 803,
            "main": "Clouds"
           }
          ],
          "wind": {
           "deg": 25,
           "gust": 10.22,
           "speed": 4.26
          }
         },
         {
          "clouds": {
           "all": 35
          },
          "dt": 1639029600,
          "dt_txt": "2021-12-09 06:00:00",
          "main": {
           "feels_like": -17.19,
           "grnd_level": 989,
           "humidity": 92,
           "pressure": 1017,
           "sea_level": 1017,
           "temp": -10.88,
           "temp_kf": 0,
           "temp_max": -10.88,
           "temp_min": -10.88
          },
          "pop": 0,
          "sys": {
           "pod": "n"
          },
          "visibility": 10000,
          "weather": [
           {
            "description": "scattered clouds",
            "icon": "03n",
            "id": 802,
            "main": "Clouds"
           }
          ],
          "wind": {
           "deg": 30,
           "gust": 9.09,
           "speed": 3.54
          }
         },
         {
          "clouds": {
           "all": 8
          },
          "dt": 1639040400,
          "dt_txt": "2021-12-09 09:00:00",
          "main": {
           "feels_like": -15.1,
           "grnd_level": 990,
           "humidity": 91,
           "pressure": 1018,
           "sea_level": 1018,
           "temp": -8.86,
           "temp_kf": 0,
           "temp_max": -8.86,
           "temp_min": -8.86
          },
          "pop": 0,
          "sys": {
           "pod": "d"
          },
          "visibility": 10000,
          "weather": [
           {
            "description": "clear sky",
            "icon": "01d",
            "id": 800,
            "main": "Clear"
           }
          ],
          "wind": {
           "deg": 43,
           "gust": 8.74,
           "speed": 3.93
          }
         },
         {
          "clouds": {
           "all": 17
          },
          "dt": 1639051200,
          "dt_txt": "2021-12-09 12:00:00",
          "main": {
           "feels_like": -12.35,
           "grnd_level": 989,
           "humidity": 93,
           "pressure": 1017,
           "sea_level": 1017,
           "temp": -7.52,
           "temp_kf": 0,
           "temp_max": -7.52,
           "temp_min": -7.52
          },
          "pop": 0,
          "sys": {
           "pod": "d"
          },
          "visibility": 10000,
          "weather": [
           {
            "description": "few clouds",
            "icon": "02d",
            "id": 801,
            "main": "Clouds"
           }
          ],
          "wind": {
           "deg": 41,
           "gust": 6.12,
           "speed": 2.84
          }
         },
         {
          "clouds": {
           "all": 74
          },
          "dt": 1639062000,
          "dt_txt": "2021-12-09 15:00:00",
          "main": {
           "feels_like": -14.36,
           "grnd_level": 990,
           "humidity": 96,
           "pressure": 1018,
           "sea_level": 1018,
           "temp": -9.45,
           "temp_kf": 0,
           "temp_max": -9.45,
           "temp_min": -9.45
          },
          "pop": 0,
          "sys": {
           "pod": "n"
          },
          "visibility": 10000,
          "weather": [
           {
            "description": "broken clouds",
            "icon": "04n",
            "id": 803,
            "main": "Clouds"
           }
          ],
          "wind": {
           "deg": 32,
           "gust": 5.28,
           "speed": 2.61
          }
         },
         {
          "clouds": {
           "all": 86
          },
          "dt": 1639072800,
          "dt_txt": "2021-12-09 18:00:00",
          "main": {
           "feels_like": -14.87,
           "grnd_level": 990,
           "humidity": 96,
           "pressure": 1018,
           "sea_level": 1018,
           "temp": -8.96,
           "temp_kf": 0,
           "temp_max": -8.96,
           "temp_min": -8.96
          },
          "pop": 0,
          "sys": {
           "pod": "n"
          },
          "visibility": 10000,
          "weather": [
           {
            "description": "overcast clouds",
            "icon": "04n",
            "id": 804,
            "main": "Clouds"
           }
          ],
          "wind": {
           "deg": 56,
           "gust": 7.43,
           "speed": 3.56
          }
         },
         {
          "clouds": {
           "all": 100
          },
          "dt": 1639083600,
          "dt_txt": "2021-12-09 21:00:00",
          "main": {
           "feels_like": -13.87,
           "grnd_level": 990,
           "humidity": 97,
           "pressure": 1018,
           "sea_level": 1018,
           "temp": -8.89,
           "temp_kf": 0,
           "temp_max": -8.89,
           "temp_min": -8.89
          },
          "pop": 0,
          "sys": {
           "pod": "n"
          },
          "visibility": 7762,
          "weather": [
           {
            "description": "overcast clouds",
            "icon": "04n",
            "id": 804,
            "main": "Clouds"
           }
          ],
          "wind": {
           "deg": 74,
           "gust": 6.68,
           "speed": 2.74
          }
         },
         {
          "clouds": {
           "all": 100
          },
          "dt": 1639094400,
          "dt_txt": "2021-12-10 00:00:00",
          "main": {
           "feels_like": -13.43,
           "grnd_level": 989,
           "humidity": 96,
           "pressure": 1017,
           "sea_level": 1017,
           "temp": -7.8,
           "temp_kf": 0,
           "temp_max": -7.8,
           "temp_min": -7.8
          },
          "pop": 0,
          "sys": {
           "pod": "n"
          },
          "visibility": 9583,
          "weather": [
           {
            "description": "overcast clouds",
            "icon": "04n",
            "id": 804,
            "main": "Clouds"
           }
          ],
          "wind": {
           "deg": 102,
           "gust": 8.41,
           "speed": 3.53
          }
         },
         {
          "clouds": {
           "all": 100
          },
          "dt": 1639105200,
          "dt_txt": "2021-12-10 03:00:00",
          "main": {
           "feels_like": -12.57,
           "grnd_level": 988,
           "humidity": 96,
           "pressure": 1015,
           "sea_level": 1015,
           "temp": -6.76,
           "temp_kf": 0,
           "temp_max": -6.76,
           "temp_min": -6.76
          },
          "pop": 0,
          "sys": {
           "pod": "n"
          },
          "visibility": 10000,
          "weather": [
           {
            "description": "overcast clouds",
            "icon": "04n",
            "id": 804,
            "main": "Clouds"
           }
          ],
          "wind": {
           "deg": 95,
           "gust": 9.2,
           "speed": 3.98
          }
         },
         {
          "clouds": {
           "all": 100
          },
          "dt": 1639116000,
          "dt_txt": "2021-12-10 06:00:00",
          "main": {
           "feels_like": -12.72,
           "grnd_level": 987,
           "humidity": 97,
           "pressure": 1015,
           "sea_level": 1015,
           "temp": -6.12,
           "temp_kf": 0,
           "temp_max": -6.12,
           "temp_min": -6.12
          },
          "pop": 0,
          "sys": {
           "pod": "n"
          },
          "visibility": 10000,
          "weather": [
           {
            "description": "overcast clouds",
            "icon": "04n",
            "id": 804,
            "main": "Clouds"
           }
          ],
          "wind": {
           "deg": 99,
           "gust": 12.15,
           "speed": 5.22
          }
         },
         {
          "clouds": {
           "all": 100
          },
          "dt": 1639126800,
          "dt_txt": "2021-12-10 09:00:00",
          "main": {
           "feels_like": -10.06,
           "grnd_level": 986,
           "humidity": 96,
           "pressure": 1014,
           "sea_level": 1014,
           "temp": -3.64,
           "temp_kf": 0,
           "temp_max": -3.64,
           "temp_min": -3.64
          },
          "pop": 0,
          "sys": {
           "pod": "d"
          },
          "visibility": 10000,
          "weather": [
           {
            "description": "overcast clouds",
            "icon": "04d",
            "id": 804,
            "main": "Clouds"
           }
          ],
          "wind": {
           "deg": 107,
           "gust": 14.74,
           "speed": 5.99
          }
         },
         {
          "clouds": {
           "all": 100
          },
          "dt": 1639137600,
          "dt_txt": "2021-12-10 12:00:00",
          "main": {
           "feels_like": -7.12,
           "grnd_level": 985,
           "humidity": 97,
           "pressure": 1012,
           "sea_level": 1012,
           "temp": -1.09,
           "temp_kf": 0,
           "temp_max": -1.09,
           "temp_min": -1.09
          },
          "pop": 0,
          "sys": {
           "pod": "d"
          },
          "visibility": 4043,
          "weather": [
           {
            "description": "overcast clouds",
            "icon": "04d",
            "id": 804,
            "main": "Clouds"
           }
          ],
          "wind": {
           "deg": 112,
           "gust": 14.78,
           "speed": 6.57
          }
         }
        ],
        "message": 0
       },
       {
        "city": {
         "coord": {
          "lat": 48.2085,
          "lon": 16.3721
         },
         "country": "AT",
         "id": 2761369,
         "name": "Vienna",
         "population": 1000000,
         "sunrise": 1638685743,
         "sunset": 1638716496,
         "timezone": 3600
        },
        "cnt": 40,
        "cod": "200",
        "list": [
         {
          "clouds": {
           "all": 46
          },
          "dt": 1638716400,
          "dt_txt": "2021-12-05 15:00:00",
          "main": {
           "feels_like": 3.8,
           "grnd_level": 983,
           "humidity": 85,
           "pressure": 1005,
           "sea_level": 1005,
           "temp": 3.8,
           "temp_kf": 0.02,
           "temp_max": 3.8,
           "temp_min": 3.78
          },
          "pop": 0.39,
          "rain": {
           "3h": 0.2
          },
          "sys": {
           "pod": "d"
          },
          "visibility": 10000,
          "weather": [
           {
            "description": "light rain",
            "icon": "10d",
            "id": 500,
            "main": "Rain"
           }
          ],
          "wind": {
           "deg": 327,
           "gust": 1.88,
           "speed": 1.03
          }
         },
         {
          "clouds": {
           "all": 73
          },
          "dt": 1638727200,
          "dt_txt": "2021-12-05 18:00:00",
          "main": {
           "feels_like": 1.93,
           "grnd_level": 984,
           "humidity": 90,
           "pressure": 1007,
           "sea_level": 1007,
           "temp": 3.13,
           "temp_kf": 0.34,
           "temp_max": 3.13,
           "temp_min": 2.79
          },
          "pop": 0.12,
          "sys": {
           "pod": "n"
          },
          "visibility": 9071,
          "weather": [
           {
            "description": "broken clouds",
            "icon": "04n",
            "id": 803,
            "main": "Clouds"
           }
          ],
          "wind": {
           "deg": 315,
           "gust": 3.69,
           "speed": 1.42
          }
         },
         {
          "clouds": {
           "all": 100
          },
          "dt": 1638738000,
          "dt_txt": "2021-12-05 21:00:00",
          "main": {
           "feels_like": 0.32,
           "grnd_level": 985,
           "humidity": 91,
           "pressure": 1008,
           "sea_level": 1008,
           "temp": 2.58,
           "temp_kf": 0,
           "temp_max": 2.58,
           "temp_min": 2.58
          },
          "pop": 0.06,
          "sys": {
           "pod": "n"
          },
          "visibility": 10000,
          "weather": [
           {
            "description": "overcast clouds",
            "icon": "04n",
            "id": 804,
            "main": "Clouds"
           }
          ],
          "wind": {
           "deg": 323,
           "gust": 4.96,
           "speed": 2.21
          }
         },
         {
          "clouds": {
           "all": 100
          },
          "dt": 1638748800,
          "dt_txt": "2021-12-06 00:00:00",
          "main": {
           "feels_like": -0.94,
           "grnd_level": 986,
           "humidity": 90,
           "pressure": 1009,
           "sea_level": 1009,
           "temp": 2.04,
           "temp_kf": 0,
           "temp_max": 2.04,
           "temp_min": 2.04
          },
          "pop": 0.02,
          "sys": {
           "pod": "n"
          },
          "visibility": 10000,
          "weather": [
           {
            "description": "overcast clouds",
            "icon": "04n",
            "id": 804,
            "main": "Clouds"
           }
          ],
          "wind": {
           "deg": 318,
           "gust": 6.37,
           "speed": 2.87
          }
         },
         {
          "clouds": {
           "all": 90
          },
          "dt": 1638759600,
          "dt_txt": "2021-12-06 03:00:00",
          "main": {
           "feels_like": -1.91,
           "grnd_level": 987,
           "humidity": 87,
           "pressure": 1010,
           "sea_level": 1010,
           "temp": 1.48,
           "temp_kf": 0,
           "temp_max": 1.48,
           "temp_min": 1.48
          },
          "pop": 0,
          "sys": {
           "pod": "n"
          },
          "visibility": 10000,
          "weather": [
           {
            "description": "overcast clouds",
            "icon": "04n",
            "id": 804,
            "main": "Clouds"
           }
          ],
          "wind": {
           "deg": 300,
           "gust": 7.77,
           "speed": 3.23
          }
         },
         {
          "clouds": {
           "all": 95
          },
          "dt": 1638770400,
          "dt_txt": "2021-12-06 06:00:00",
          "main": {
           "feels_like": -2.82,
           "grnd_level": 988,
           "humidity": 86,
           "pressure": 1012,
           "sea_level": 1012,
           "temp": 1.31,
           "temp_kf": 0,
           "temp_max": 1.31,
           "temp_min": 1.31
          },
          "pop": 0,
          "sys": {
           "pod": "n"
          },
          "visibility": 10000,
          "weather": [
           {
            "description": "overcast clouds",
            "icon": "04n",
            "id": 804,
            "main": "Clouds"
           }
          ],
          "wind": {
           "deg": 306,
           "gust": 10.42,
           "speed": 4.23
          }
         },
         {
          "clouds": {
           "all": 100
          },
          "dt": 1638781200,
          "dt_txt": "2021-12-06 09:00:00",
          "main": {
           "feels_like": -1.84,
           "grnd_level": 990,
           "humidity": 78,
           "pressure": 1013,
           "sea_level": 1013,
           "temp": 2.29,
           "temp_kf": 0,
           "temp_max": 2.29,
           "temp_min": 2.29
          },
          "pop": 0,
          "sys": {
           "pod": "d"
          },
          "visibility": 10000,
          "weather": [
           {
            "description": "overcast clouds",
            "icon": "04d",
            "id": 804,
            "main": "Clouds"
           }
          ],
          "wind": {
           "deg": 311,
           "gust": 10.67,
           "speed": 4.62
          }
         },
         {
          "clouds": {
           "all": 99
          },
          "dt": 1638792000,
          "dt_txt": "2021-12-06 12:00:00",
          "main": {
           "feels_like": 0.77,
           "grnd_level": 990,
           "humidity": 61,
           "pressure": 1013,
           "sea_level": 1013,
           "temp": 4.47,
           "temp_kf": 0,
           "temp_max": 4.47,
           "temp_min": 4.47
          },
          "pop": 0,
          "sys": {
           "pod": "d"
          },
          "visibility": 10000,
          "weather": [
           {
            "description": "overcast clouds",
            "icon": "04d",
            "id": 804,
            "main": "Clouds"
           }
          ],
          "wind": {
           "deg": 315,
           "gust": 8.9,
           "speed": 4.8
          }
         },
         {
          "clouds": {
           "all": 94
          },
          "dt": 1638802800,
          "dt_txt": "2021-12-06 15:00:00",
          "main": {
           "feels_like": -0.61,
           "grnd_level": 990,
           "humidity": 70,
           "pressure": 1014,
           "sea_level": 1014,
           "temp": 3.11,
           "temp_kf": 0,
           "temp_max": 3.11,
           "temp_min": 3.11
          },
          "pop": 0.04,
          "sys": {
           "pod": "d"
          },
          "visibility": 10000,
          "weather": [
           {
            "description": "overcast clouds",
            "icon": "04d",
            "id": 804,
            "main": "Clouds"
           }
          ],
          "wind": {
           "deg": 319,
           "gust": 9.43,
           "speed": 4.25
          }
         },
         {
          "clouds": {
           "all": 70
          },
          "dt": 1638813600,
          "dt_txt": "2021-12-06 18:00:00",
          "main": {
           "feels_like": -2.25,
           "grnd_level": 991,
           "humidity": 80,
           "pressure": 1015,
           "sea_level": 1015,
           "temp": 1.68,
           "temp_kf": 0,
           "temp_max": 1.68,
           "temp_min": 1.68
          },
          "pop": 0,
          "sys": {
           "pod": "n"
          },
          "visibility": 10000,
          "weather": [
           {
            "description": "broken clouds",
            "icon": "04n",
            "id": 803,
            "main": "Clouds"
           }
          ],
          "wind": {
           "deg": 298,
           "gust": 10.53,
           "speed": 4.04
          }
         },
         {
          "clouds": {
           "all": 32
          },
          "dt": 1638824400,
          "dt_txt": "2021-12-06 21:00:00",
          "main": {
           "feels_like": -3.16,
           "grnd_level": 991,
           "humidity": 82,
           "pressure": 1014,
           "sea_level": 1014,
           "temp": 1.1,
           "temp_kf": 0,
           "temp_max": 1.1,
           "temp_min": 1.1
          },
          "pop": 0,
          "sys": {
           "pod": "n"
          },
          "visibility": 10000,
          "weather": [
           {
            "description": "scattered clouds",
            "icon": "03n",
            "id": 802,
            "main": "Clouds"
           }
          ],
          "wind": {
           "deg": 306,
           "gust": 11.1,
           "speed": 4.36
          }
         },
         {
          "clouds": {
           "all": 21
          },
          "dt": 1638835200,
          "dt_txt": "2021-12-07 00:00:00",
          "main": {
           "feels_like": -3.02,
           "grnd_level": 990,
           "humidity": 84,
           "pressure": 1014,
           "sea_level": 1014,
           "temp": 0.2,
           "temp_kf": 0,
           "temp_max": 0.2,
           "temp_min": 0.2
          },
          "pop": 0,
          "sys": {
           "pod": "n"
          },
          "visibility": 10000,
          "weather": [
           {
            "description": "few clouds",
            "icon": "02n",
            "id": 801,
            "main": "Clouds"
           }
          ],
          "wind": {
           "deg": 319,
           "gust": 8.7,
           "speed": 2.74
          }
         },
         {
          "clouds": {
           "all": 14
          },
          "dt": 1638846000,
          "dt_txt": "2021-12-07 03:00:00",
          "main": {
           "feels_like": -2.87,
           "grnd_level": 990,
           "humidity": 86,
           "pressure": 1014,
           "sea_level": 1014,
           "temp": -0.27,
           "temp_kf": 0,
           "temp_max": -0.27,
           "temp_min": -0.27
          },
          "pop": 0,
          "sys": {
           "pod": "n"
          },
          "visibility": 10000,
          "weather": [
           {
            "description": "few clouds",
            "icon": "02n",
            "id": 801,
            "main": "Clouds"
           }
          ],
          "wind": {
           "deg": 313,
           "gust": 5.52,
           "speed": 2.08
          }
         },
         {
          "clouds": {
           "all": 26
          },
          "dt": 1638856800,
          "dt_txt": "2021-12-07 06:00:00",
          "main": {
           "feels_like": -2.26,
           "grnd_level": 990,
           "humidity": 85,
           "pressure": 1014,
           "sea_level": 1014,
           "temp": -0.47,
           "temp_kf": 0,
           "temp_max": -0.47,
           "temp_min": -0.47
          },
          "pop": 0,
          "sys": {
           "pod": "n"
          },
          "visibility": 10000,
          "weather": [
           {
            "description": "scattered clouds",
            "icon": "03n",
            "id": 802,
            "main": "Clouds"
           }
          ],
          "wind": {
           "deg": 313,
           "gust": 4.55,
           "speed": 1.48
          }
         },
         {
          "clouds": {
           "all": 91
          },
          "dt": 1638867600,
          "dt_txt": "2021-12-07 09:00:00",
          "main": {
           "feels_like": -0.75,
           "grnd_level": 991,
           "humidity": 74,
           "pressure": 1014,
           "sea_level": 1014,
           "temp": 1.32,
           "temp_kf": 0,
           "temp_max": 1.32,
           "temp_min": 1.32
          },
          "pop": 0,
          "sys": {
           "pod": "d"
          },
          "visibility": 10000,
          "weather": [
           {
            "description": "overcast clouds",
            "icon": "04d",
            "id": 804,
            "main": "Clouds"
           }
          ],
          "wind": {
           "deg": 307,
           "gust": 5.5,
           "speed": 1.86
          }
         },
         {
          "clouds": {
           "all": 91
          },
          "dt": 1638878400,
          "dt_txt": "2021-12-07 12:00:00",
          "main": {
           "feels_like": -1.51,
           "grnd_level": 990,
           "humidity": 82,
           "pressure": 1013,
           "sea_level": 1013,
           "temp": 2.51,
           "temp_kf": 0,
           "temp_max": 2.51,
           "temp_min": 2.51
          },
          "pop": 0,
          "sys": {
           "pod": "d"
          },
          "visibility": 10000,
          "weather": [
           {
            "description": "overcast clouds",
            "icon": "04d",
            "id": 804,
            "main": "Clouds"
           }
          ],
          "wind": {
           "deg": 291,
           "gust": 9.68,
           "speed": 4.52
          }
         },
         {
          "clouds": {
           "all": 100
          },
          "dt": 1638889200,
          "dt_txt": "2021-12-07 15:00:00",
          "main": {
           "feels_like": -0.89,
           "grnd_level": 990,
           "humidity": 82,
           "pressure": 1013,
           "sea_level": 1013,
           "temp": 2.88,
           "temp_kf": 0,
           "temp_max": 2.88,
           "temp_min": 2.88
          },
          "pop": 0.28,
          "rain": {
           "3h": 0.15
          },
          "sys": {
           "pod": "d"
          },
          "visibility": 10000,
          "weather": [
           {
            "description": "light rain",
            "icon": "10d",
            "id": 500,
            "main": "Rain"
           }
          ],
          "wind": {
           "deg": 287,
           "gust": 10.16,
           "speed": 4.23
          }
         },
         {
          "clouds": {
           "all": 88
          },
          "dt": 1638900000,
          "dt_txt": "2021-12-07 18:00:00",
          "main": {
           "feels_like": -1.54,
           "grnd_level": 989,
           "humidity": 80,
           "pressure": 1013,
           "sea_level": 1013,
           "temp": 2.01,
           "temp_kf": 0,
           "temp_max": 2.01,
           "temp_min": 2.01
          },
          "pop": 0,
          "sys": {
           "pod": "n"
          },
          "visibility": 10000,
          "weather": [
           {
            "description": "overcast clouds",
            "icon": "04n",
            "id": 804,
            "main": "Clouds"
           }
          ],
          "wind": {
           "deg": 282,
           "gust": 9.31,
           "speed": 3.59
          }
         },
         {
          "clouds": {
           "all": 76
          },
          "dt": 1638910800,
          "dt_txt": "2021-12-07 21:00:00",
          "main": {
           "feels_like": 0.01,
           "grnd_level": 989,
           "humidity": 79,
           "pressure": 1013,
           "sea_level": 1013,
           "temp": 1.7,
           "temp_kf": 0,
           "temp_max": 1.7,
           "temp_min": 1.7
          },
          "pop": 0,
          "sys": {
           "pod": "n"
          },
          "visibility": 10000,
          "weather": [
           {
            "description": "broken clouds",
            "icon": "04n",
            "id": 803,
            "main": "Clouds"
           }
          ],
          "wind": {
           "deg": 278,
           "gust": 4.81,
           "speed": 1.62
          }
         },
         {
          "clouds": {
           "all": 65
          },
          "dt": 1638921600,
          "dt_txt": "2021-12-08 00:00:00",
          "main": {
           "feels_like": 0.51,
           "grnd_level": 988,
           "humidity": 84,
           "pressure": 1011,
           "sea_level": 1011,
           "temp": 0.51,
           "temp_kf": 0,
           "temp_max": 0.51,
           "temp_min": 0.51
          },
          "pop": 0,
          "sys": {
           "pod": "n"
          },
          "visibility": 10000,
          "weather": [
           {
            "description": "broken clouds",
            "icon": "04n",
            "id": 803,
            "main": "Clouds"
           }
          ],
          "wind": {
           "deg": 172,
           "gust": 1.12,
           "speed": 1.18
          }
         },
         {
          "clouds": {
           "all": 10
          },
          "dt": 1638932400,
          "dt_txt": "2021-12-08 03:00:00",
          "main": {
           "feels_like": -3.81,
           "grnd_level": 986,
           "humidity": 87,
           "pressure": 1010,
           "sea_level": 1010,
           "temp": -0.23,
           "temp_kf": 0,
           "temp_max": -0.23,
           "temp_min": -0.23
          },
          "pop": 0,
          "sys": {
           "pod": "n"
          },
          "visibility": 10000,
          "weather": [
           {
            "description": "clear sky",
            "icon": "01n",
            "id": 800,
            "main": "Clear"
           }
          ],
          "wind": {
           "deg": 124,
           "gust": 8.41,
           "speed": 3.04
          }
         },
         {
          "clouds": {
           "all": 10
          },
          "dt": 1638943200,
          "dt_txt": "2021-12-08 06:00:00",
          "main": {
           "feels_like": -6.12,
           "grnd_level": 984,
           "humidity": 80,
           "pressure": 1008,
           "sea_level": 1008,
           "temp": -0.63,
           "temp_kf": 0,
           "temp_max": -0.63,
           "temp_min": -0.63
          },
          "pop": 0,
          "sys": {
           "pod": "n"
          },
          "visibility": 10000,
          "weather": [
           {
            "description": "clear sky",
            "icon": "01n",
            "id": 800,
            "main": "Clear"
           }
          ],
          "wind": {
           "deg": 121,
           "gust": 13.67,
           "speed": 5.75
          }
         },
         {
          "clouds": {
           "all": 93
          },
          "dt": 1638954000,
          "dt_txt": "2021-12-08 09:00:00",
          "main": {
           "feels_like": -5.44,
           "grnd_level": 983,
           "humidity": 77,
           "pressure": 1006,
           "sea_level": 1006,
           "temp": 0.57,
           "temp_kf": 0,
           "temp_max": 0.57,
           "temp_min": 0.57
          },
          "pop": 0,
          "sys": {
           "pod": "d"
          },
          "visibility": 10000,
          "weather": [
           {
            "description": "overcast clouds",
            "icon": "04d",
            "id": 804,
            "main": "Clouds"
           }
          ],
          "wind": {
           "deg": 128,
           "gust": 15.86,
           "speed": 7.64
          }
         },
         {
          "clouds": {
           "all": 96
          },
          "dt": 1638964800,
          "dt_txt": "2021-12-08 12:00:00",
          "main": {
           "feels_like": -3.88,
           "grnd_level": 980,
           "humidity": 69,
           "pressure": 1003,
           "sea_level": 1003,
           "temp": 2.22,
           "temp_kf": 0,
           "temp_max": 2.22,
           "temp_min": 2.22
          },
          "pop": 0,
          "sys": {
           "pod": "d"
          },
          "visibility": 10000,
          "weather": [
           {
            "description": "overcast clouds",
            "icon": "04d",
            "id": 804,
            "main": "Clouds"
           }
          ],
          "wind": {
           "deg": 141,
           "gust": 17.13,
           "speed": 9.31
          }
         },
         {
          "clouds": {
           "all": 61
          },
          "dt": 1638975600,
          "dt_txt": "2021-12-08 15:00:00",
          "main": {
           "feels_like": -4.09,
           "grnd_level": 978,
           "humidity": 71,
           "pressure": 1001,
           "sea_level": 1001,
           "temp": 2.12,
           "temp_kf": 0,
           "temp_max": 2.12,
           "temp_min": 2.12
          },
          "pop": 0,
          "sys": {
           "pod": "d"
          },
          "visibility": 10000,
          "weather": [
           {
            "description": "broken clouds",
            "icon": "04d",
            "id": 803,
            "main": "Clouds"
           }
          ],
          "wind": {
           "deg": 145,
           "gust": 17.83,
           "speed": 9.56
          }
         },
         {
          "clouds": {
           "all": 71
          },
          "dt": 1638986400,
          "dt_txt": "2021-12-08 18:00:00",
          "main": {
           "feels_like": -4.12,
           "grnd_level": 979,
           "humidity": 74,
           "pressure": 1002,
           "sea_level": 1002,
           "temp": 1.69,
           "temp_kf": 0,
           "temp_max": 1.69,
           "temp_min": 1.69
          },
          "pop": 0,
          "sys": {
           "pod": "n"
          },
          "visibility": 10000,
          "weather": [
           {
            "description": "broken clouds",
            "icon": "04n",
            "id": 803,
            "main": "Clouds"
           }
          ],
          "wind": {
           "deg": 155,
           "gust": 16.31,
           "speed": 7.98
          }
         },
         {
          "clouds": {
           "all": 100
          },
          "dt": 1638997200,
          "dt_txt": "2021-12-08 21:00:00",
          "main": {
           "feels_like": -2.89,
           "grnd_level": 981,
           "humidity": 77,
           "pressure": 1004,
           "sea_level": 1004,
           "temp": 1.55,
           "temp_kf": 0,
           "temp_max": 1.55,
           "temp_min": 1.55
          },
          "pop": 0,
          "sys": {
           "pod": "n"
          },
          "visibility": 10000,
          "weather": [
           {
            "description": "overcast clouds",
            "icon": "04n",
            "id": 804,
            "main": "Clouds"
           }
          ],
          "wind": {
           "deg": 152,
           "gust": 10.16,
           "speed": 4.85
          }
         },
         {
          "clouds": {
           "all": 100
          },
          "dt": 1639008000,
          "dt_txt": "2021-12-09 00:00:00",
          "main": {
           "feels_like": -3.17,
           "grnd_level": 982,
           "humidity": 90,
           "pressure": 1005,
           "sea_level": 1005,
           "temp": 0.75,
           "temp_kf": 0,
           "temp_max": 0.75,
           "temp_min": 0.75
          },
          "pop": 0.21,
          "sys": {
           "pod": "n"
          },
          "visibility": 10000,
          "weather": [
           {
            "description": "overcast clouds",
            "icon": "04n",
            "id": 804,
            "main": "Clouds"
           }
          ],
          "wind": {
           "deg": 130,
           "gust": 7.65,
           "speed": 3.73
          }
         },
         {
          "clouds": {
           "all": 100
          },
          "dt": 1639018800,
          "dt_txt": "2021-12-09 03:00:00",
          "main": {
           "feels_like": -2.69,
           "grnd_level": 983,
           "humidity": 93,
           "pressure": 1007,
           "sea_level": 1007,
           "temp": 0.62,
           "temp_kf": 0,
           "temp_max": 0.62,
           "temp_min": 0.62
          },
          "pop": 0.09,
          "sys": {
           "pod": "n"
          },
          "visibility": 10000,
          "weather": [
           {
            "description": "overcast clouds",
            "icon": "04n",
            "id": 804,
            "main": "Clouds"
           }
          ],
          "wind": {
           "deg": 130,
           "gust": 5.88,
           "speed": 2.92
          }
         },
         {
          "clouds": {
           "all": 100
          },
          "dt": 1639029600,
          "dt_txt": "2021-12-09 06:00:00",
          "main": {
           "feels_like": -2.33,
           "grnd_level": 984,
           "humidity": 93,
           "pressure": 1007,
           "sea_level": 1007,
           "temp": 0.33,
           "temp_kf": 0,
           "temp_max": 0.33,
           "temp_min": 0.33
          },
          "pop": 0.09,
          "sys": {
           "pod": "n"
          },
          "visibility": 10000,
          "weather": [
           {
            "description": "overcast clouds",
            "icon": "04n",
            "id": 804,
            "main": "Clouds"
           }
          ],
          "wind": {
           "deg": 129,
           "gust": 3.97,
           "speed": 2.22
          }
         },
         {
          "clouds": {
           "all": 100
          },
          "dt": 1639040400,
          "dt_txt": "2021-12-09 09:00:00",
          "main": {
           "feels_like": -2.17,
           "grnd_level": 985,
           "humidity": 89,
           "pressure": 1008,
           "sea_level": 1008,
           "temp": 0.82,
           "temp_kf": 0,
           "temp_max": 0.82,
           "temp_min": 0.82
          },
          "pop": 0,
          "sys": {
           "pod": "d"
          },
          "visibility": 10000,
          "weather": [
           {
            "description": "overcast clouds",
            "icon": "04d",
            "id": 804,
            "main": "Clouds"
           }
          ],
          "wind": {
           "deg": 123,
           "gust": 4.2,
           "speed": 2.62
          }
         },
         {
          "clouds": {
           "all": 100
          },
          "dt": 1639051200,
          "dt_txt": "2021-12-09 12:00:00",
          "main": {
           "feels_like": -2.08,
           "grnd_level": 984,
           "humidity": 89,
           "pressure": 1007,
           "sea_level": 1007,
           "temp": 0.88,
           "temp_kf": 0,
           "temp_max": 0.88,
           "temp_min": 0.88
          },
          "pop": 0.08,
          "sys": {
           "pod": "d"
          },
          "visibility": 10000,
          "weather": [
           {
            "description": "overcast clouds",
            "icon": "04d",
            "id": 804,
            "main": "Clouds"
           }
          ],
          "wind": {
           "deg": 119,
           "gust": 4.1,
           "speed": 2.6
          }
         },
         {
          "clouds": {
           "all": 100
          },
          "dt": 1639062000,
          "dt_txt": "2021-12-09 15:00:00",
          "main": {
           "feels_like": 0.44,
           "grnd_level": 981,
           "humidity": 93,
           "pressure": 1005,
           "sea_level": 1005,
           "temp": 0.44,
           "temp_kf": 0,
           "temp_max": 0.44,
           "temp_min": 0.44
          },
          "pop": 0.57,
          "snow": {
           "3h": 0.38
          },
          "sys": {
           "pod": "d"
          },
          "visibility": 2779,
          "weather": [
           {
            "description": "light snow",
            "icon": "13d",
            "id": 600,
            "main": "Snow"
           }
          ],
          "wind": {
           "deg": 34,
           "gust": 1.74,
           "speed": 1.21
          }
         },
         {
          "clouds": {
           "all": 100
          },
          "dt": 1639072800,
          "dt_txt": "2021-12-09 18:00:00",
          "main": {
           "feels_like": 0.33,
           "grnd_level": 980,
           "humidity": 98,
           "pressure": 1004,
           "sea_level": 1004,
           "temp": 0.33,
           "temp_kf": 0,
           "temp_max": 0.33,
           "temp_min": 0.33
          },
          "pop": 0.81,
          "snow": {
           "3h": 1.55
          },
          "sys": {
           "pod": "n"
          },
          "visibility": 107,
          "weather": [
           {
            "description": "snow",
            "icon": "13n",
            "id": 601,
            "main": "Snow"
           }
          ],
          "wind": {
           "deg": 25,
           "gust": 2.6,
           "speed": 1.25
          }
         },
         {
          "clouds": {
           "all": 100
          },
          "dt": 1639083600,
          "dt_txt": "2021-12-09 21:00:00",
          "main": {
           "feels_like": -2.49,
           "grnd_level": 978,
           "humidity": 99,
           "pressure": 1002,
           "sea_level": 1002,
           "temp": 0.2,
           "temp_kf": 0,
           "temp_max": 0.2,
           "temp_min": 0.2
          },
          "pop": 0.98,
          "snow": {
           "3h": 3.26
          },
          "sys": {
           "pod": "n"
          },
          "visibility": 102,
          "weather": [
           {
            "description": "snow",
            "icon": "13n",
            "id": 601,
            "main": "Snow"
           }
          ],
          "wind": {
           "deg": 308,
           "gust": 4.8,
           "speed": 2.23
          }
         },
         {
          "clouds": {
           "all": 100
          },
          "dt": 1639094400,
          "dt_txt": "2021-12-10 00:00:00",
          "main": {
           "feels_like": -4.22,
           "grnd_level": 977,
           "humidity": 97,
           "pressure": 1001,
           "sea_level": 1001,
           "temp": 0.08,
           "temp_kf": 0,
           "temp_max": 0.08,
           "temp_min": 0.08
          },
          "pop": 1,
          "snow": {
           "3h": 4.19
          },
          "sys": {
           "pod": "n"
          },
          "visibility": 274,
          "weather": [
           {
            "description": "snow",
            "icon": "13n",
            "id": 601,
            "main": "Snow"
           }
          ],
          "wind": {
           "deg": 300,
           "gust": 9.66,
           "speed": 4.05
          }
         },
         {
          "clouds": {
           "all": 100
          },
          "dt": 1639105200,
          "dt_txt": "2021-12-10 03:00:00",
          "main": {
           "feels_like": -3.92,
           "grnd_level": 978,
           "humidity": 96,
           "pressure": 1001,
           "sea_level": 1001,
           "temp": 0.47,
           "temp_kf": 0,
           "temp_max": 0.47,
           "temp_min": 0.47
          },
          "pop": 0.91,
          "snow": {
           "3h": 2.27
          },
          "sys": {
           "pod": "n"
          },
          "visibility": 2493,
          "weather": [
           {
            "description": "snow",
            "icon": "13n",
            "id": 601,
            "main": "Snow"
           }
          ],
          "wind": {
           "deg": 295,
           "gust": 9.71,
           "speed": 4.32
          }
         },
         {
          "clouds": {
           "all": 100
          },
          "dt": 1639116000,
          "dt_txt": "2021-12-10 06:00:00",
          "main": {
           "feels_like": -4.37,
           "grnd_level": 979,
           "humidity": 90,
           "pressure": 1003,
           "sea_level": 1003,
           "temp": -0.55,
           "temp_kf": 0,
           "temp_max": -0.55,
           "temp_min": -0.55
          },
          "pop": 0.85,
          "snow": {
           "3h": 0.19
          },
          "sys": {
           "pod": "n"
          },
          "visibility": 10000,
          "weather": [
           {
            "description": "light snow",
            "icon": "13n",
            "id": 600,
            "main": "Snow"
           }
          ],
          "wind": {
           "deg": 276,
           "gust": 8.93,
           "speed": 3.24
          }
         },
         {
          "clouds": {
           "all": 55
          },
          "dt": 1639126800,
          "dt_txt": "2021-12-10 09:00:00",
          "main": {
           "feels_like": 0.36,
           "grnd_level": 981,
           "humidity": 93,
           "pressure": 1005,
           "sea_level": 1005,
           "temp": 0.36,
           "temp_kf": 0,
           "temp_max": 0.36,
           "temp_min": 0.36
          },
          "pop": 0.02,
          "sys": {
           "pod": "d"
          },
          "visibility": 10000,
          "weather": [
           {
            "description": "broken clouds",
            "icon": "04d",
            "id": 803,
            "main": "Clouds"
           }
          ],
          "wind": {
           "deg": 225,
           "gust": 3.51,
           "speed": 1.15
          }
         },
         {
          "clouds": {
           "all": 53
          },
          "dt": 1639137600,
          "dt_txt": "2021-12-10 12:00:00",
          "main": {
           "feels_like": -0.82,
           "grnd_level": 982,
           "humidity": 97,
           "pressure": 1005,
           "sea_level": 1005,
           "temp": 0.95,
           "temp_kf": 0,
           "temp_max": 0.95,
           "temp_min": 0.95
          },
          "pop": 0,
          "sys": {
           "pod": "d"
          },
          "visibility": 1915,
          "weather": [
           {
            "description": "broken clouds",
            "icon": "04d",
            "id": 803,
            "main": "Clouds"
           }
          ],
          "wind": {
           "deg": 117,
           "gust": 2.6,
           "speed": 1.6
          }
         }
        ],
        "message": 0
       },
       {
        "city": {
         "coord": {
          "lat": 53.55,
          "lon": 10
         },
         "country": "DE",
         "id": 2911298,
         "name": "Hamburg",
         "population": 1739117,
         "sunrise": 1638688752,
         "sunset": 1638716547,
         "timezone": 3600
        },
        "cnt": 40,
        "cod": "200",
        "list": [
         {
          "clouds": {
           "all": 83
          },
          "dt": 1638716400,
          "dt_txt": "2021-12-05 15:00:00",
          "main": {
           "feels_like": -1.97,
           "grnd_level": 1005,
           "humidity": 97,
           "pressure": 1006,
           "sea_level": 1006,
           "temp": 1.26,
           "temp_kf": 0.67,
           "temp_max": 1.26,
           "temp_min": 0.59
          },
          "pop": 0.76,
          "snow": {
           "3h": 1.13
          },
          "sys": {
           "pod": "d"
          },
          "visibility": 23,
          "weather": [
           {
            "description": "light snow",
            "icon": "13d",
            "id": 600,
            "main": "Snow"
           }
          ],
          "wind": {
           "deg": 67,
           "gust": 7.86,
           "speed": 2.98
          }
         },
         {
          "clouds": {
           "all": 92
          },
          "dt": 1638727200,
          "dt_txt": "2021-12-05 18:00:00",
          "main": {
           "feels_like": -2.88,
           "grnd_level": 1007,
           "humidity": 97,
           "pressure": 1008,
           "sea_level": 1008,
           "temp": 0.91,
           "temp_kf": 0.34,
           "temp_max": 0.91,
           "temp_min": 0.57
          },
          "pop": 0.8,
          "snow": {
           "3h": 0.71
          },
          "sys": {
           "pod": "n"
          },
          "visibility": 68,
          "weather": [
           {
            "description": "light snow",
            "icon": "13n",
            "id": 600,
            "main": "Snow"
           }
          ],
          "wind": {
           "deg": 69,
           "gust": 9.07,
           "speed": 3.59
          }
         },
         {
          "clouds": {
           "all": 100
          },
          "dt": 1638738000,
          "dt_txt": "2021-12-05 21:00:00",
          "main": {
           "feels_like": -2.57,
           "grnd_level": 1010,
           "humidity": 98,
           "pressure": 1012,
           "sea_level": 1012,
           "temp": 0.56,
           "temp_kf": 0,
           "temp_max": 0.56,
           "temp_min": 0.56
          },
          "pop": 0.6,
          "snow": {
           "3h": 0.5
          },
          "sys": {
           "pod": "n"
          },
          "visibility": 178,
          "weather": [
           {
            "description": "light snow",
            "icon": "13n",
            "id": 600,
            "main": "Snow"
           }
          ],
          "wind": {
           "deg": 56,
           "gust": 8.95,
           "speed": 2.72
          }
         },
         {
          "clouds": {
           "all": 100
          },
          "dt": 1638748800,
          "dt_txt": "2021-12-06 00:00:00",
          "main": {
           "feels_like": 0.24,
           "grnd_level": 1011,
           "humidity": 100,
           "pressure": 1014,
           "sea_level": 1014,
           "temp": 0.24,
           "temp_kf": 0,
           "temp_max": 0.24,
           "temp_min": 0.24
          },
          "pop": 0.6,
          "snow": {
           "3h": 0.37
          },
          "sys": {
           "pod": "n"
          },
          "visibility": 49,
          "weather": [
           {
            "description": "light snow",
            "icon": "13n",
            "id": 600,
            "main": "Snow"
           }
          ],
          "wind": {
           "deg": 36,
           "gust": 3.74,
           "speed": 1.33
          }
         },
         {
          "clouds": {
           "all": 100
          },
          "dt": 1638759600,
          "dt_txt": "2021-12-06 03:00:00",
          "main": {
           "feels_like": -2.72,
           "grnd_level": 1012,
           "humidity": 97,
           "pressure": 1015,
           "sea_level": 1015,
           "temp": 0.23,
           "temp_kf": 0,
           "temp_max": 0.23,
           "temp_min": 0.23
          },
          "pop": 0.21,
          "snow": {
           "3h": 0.1
          },
          "sys": {
           "pod": "n"
          },
          "visibility": 6347,
          "weather": [
           {
            "description": "light snow",
            "icon": "13n",
            "id": 600,
            "main": "Snow"
           }
          ],
          "wind": {
           "deg": 70,
           "gust": 5.29,
           "speed": 2.47
          }
         },
         {
          "clouds": {
           "all": 86
          },
          "dt": 1638770400,
          "dt_txt": "2021-12-06 06:00:00",
          "main": {
           "feels_like": -4.63,
           "grnd_level": 1013,
           "humidity": 98,
           "pressure": 1016,
           "sea_level": 1016,
           "temp": -2.78,
           "temp_kf": 0,
           "temp_max": -2.78,
           "temp_min": -2.78
          },
          "pop": 0.02,
          "sys": {
           "pod": "n"
          },
          "visibility": 10000,
          "weather": [
           {
            "description": "overcast clouds",
            "icon": "04n",
            "id": 804,
            "main": "Clouds"
           }
          ],
          "wind": {
           "deg": 97,
           "gust": 1.82,
           "speed": 1.34
          }
         },
         {
          "clouds": {
           "all": 52
          },
          "dt": 1638781200,
          "dt_txt": "2021-12-06 09:00:00",
          "main": {
           "feels_like": -5.28,
           "grnd_level": 1014,
           "humidity": 98,
           "pressure": 1016,
           "sea_level": 1016,
           "temp": -1.32,
           "temp_kf": 0,
           "temp_max": -1.32,
           "temp_min": -1.32
          },
          "pop": 0,
          "sys": {
           "pod": "d"
          },
          "visibility": 8392,
          "weather": [
           {
            "description": "broken clouds",
            "icon": "04d",
            "id": 803,
            "main": "Clouds"
           }
          ],
          "wind": {
           "deg": 111,
           "gust": 8.33,
           "speed": 3.22
          }
         },
         {
          "clouds": {
           "all": 73
          },
          "dt": 1638792000,
          "dt_txt": "2021-12-06 12:00:00",
          "main": {
           "feels_like": -3.01,
           "grnd_level": 1013,
           "humidity": 92,
           "pressure": 1016,
           "sea_level": 1016,
           "temp": 0.76,
           "temp_kf": 0,
           "temp_max": 0.76,
           "temp_min": 0.76
          },
          "pop": 0,
          "sys": {
           "pod": "d"
          },
          "visibility": 10000,
          "weather": [
           {
            "description": "broken clouds",
            "icon": "04d",
            "id": 803,
            "main": "Clouds"
           }
          ],
          "wind": {
           "deg": 132,
           "gust": 7.12,
           "speed": 3.53
          }
         },
         {
          "clouds": {
           "all": 99
          },
          "dt": 1638802800,
          "dt_txt": "2021-12-06 15:00:00",
          "main": {
           "feels_like": -3.87,
           "grnd_level": 1012,
           "humidity": 95,
           "pressure": 1014,
           "sea_level": 1014,
           "temp": -0.92,
           "temp_kf": 0,
           "temp_max": -0.92,
           "temp_min": -0.92
          },
          "pop": 0,
          "sys": {
           "pod": "d"
          },
          "visibility": 10000,
          "weather": [
           {
            "description": "overcast clouds",
            "icon": "04d",
            "id": 804,
            "main": "Clouds"
           }
          ],
          "wind": {
           "deg": 129,
           "gust": 5.8,
           "speed": 2.28
          }
         },
         {
          "clouds": {
           "all": 100
          },
          "dt": 1638813600,
          "dt_txt": "2021-12-06 18:00:00",
          "main": {
           "feels_like": -5.01,
           "grnd_level": 1010,
           "humidity": 93,
           "pressure": 1012,
           "sea_level": 1012,
           "temp": -0.8,
           "temp_kf": 0,
           "temp_max": -0.8,
           "temp_min": -0.8
          },
          "pop": 0,
          "sys": {
           "pod": "n"
          },
          "visibility": 10000,
          "weather": [
           {
            "description": "overcast clouds",
            "icon": "04n",
            "id": 804,
            "main": "Clouds"
           }
          ],
          "wind": {
           "deg": 128,
           "gust": 9.89,
           "speed": 3.65
          }
         },
         {
          "clouds": {
           "all": 100
          },
          "dt": 1638824400,
          "dt_txt": "2021-12-06 21:00:00",
          "main": {
           "feels_like": -5.72,
           "grnd_level": 1007,
           "humidity": 92,
           "pressure": 1010,
           "sea_level": 1010,
           "temp": -0.75,
           "temp_kf": 0,
           "temp_max": -0.75,
           "temp_min": -0.75
          },
          "pop": 0,
          "sys": {
           "pod": "n"
          },
          "visibility": 10000,
          "weather": [
           {
            "description": "overcast clouds",
            "icon": "04n",
            "id": 804,
            "main": "Clouds"
           }
          ],
          "wind": {
           "deg": 130,
           "gust": 11.51,
           "speed": 4.77
          }
         },
         {
          "clouds": {
           "all": 100
          },
          "dt": 1638835200,
          "dt_txt": "2021-12-07 00:00:00",
          "main": {
           "feels_like": -5.97,
           "grnd_level": 1005,
           "humidity": 92,
           "pressure": 1007,
           "sea_level": 1007,
           "temp": -0.9,
           "temp_kf": 0,
           "temp_max": -0.9,
           "temp_min": -0.9
          },
          "pop": 0,
          "sys": {
           "pod": "n"
          },
          "visibility": 10000,
          "weather": [
           {
            "description": "overcast clouds",
            "icon": "04n",
            "id": 804,
            "main": "Clouds"
           }
          ],
          "wind": {
           "deg": 124,
           "gust": 11.86,
           "speed": 4.88
          }
         },
         {
          "clouds": {
           "all": 100
          },
          "dt": 1638846000,
          "dt_txt": "2021-12-07 03:00:00",
          "main": {
           "feels_like": -4.52,
           "grnd_level": 1004,
           "humidity": 93,
           "pressure": 1007,
           "sea_level": 1007,
           "temp": -0.52,
           "temp_kf": 0,
           "temp_max": -0.52,
           "temp_min": -0.52
          },
          "pop": 0,
          "sys": {
           "pod": "n"
          },
          "visibility": 10000,
          "weather": [
           {
            "description": "overcast clouds",
            "icon": "04n",
            "id": 804,
            "main": "Clouds"
           }
          ],
          "wind": {
           "deg": 129,
           "gust": 9.36,
           "speed": 3.46
          }
         },
         {
          "clouds": {
           "all": 100
          },
          "dt": 1638856800,
          "dt_txt": "2021-12-07 06:00:00",
          "main": {
           "feels_like": -4.25,
           "grnd_level": 1005,
           "humidity": 97,
           "pressure": 1007,
           "sea_level": 1007,
           "temp": -0.6,
           "temp_kf": 0,
           "temp_max": -0.6,
           "temp_min": -0.6
          },
          "pop": 0,
          "sys": {
           "pod": "n"
          },
          "visibility": 2290,
          "weather": [
           {
            "description": "overcast clouds",
            "icon": "04n",
            "id": 804,
            "main": "Clouds"
           }
          ],
          "wind": {
           "deg": 120,
           "gust": 7.18,
           "speed": 3.03
          }
         },
         {
          "clouds": {
           "all": 100
          },
          "dt": 1638867600,
          "dt_txt": "2021-12-07 09:00:00",
          "main": {
           "feels_like": -2.51,
           "grnd_level": 1006,
           "humidity": 99,
           "pressure": 1008,
           "sea_level": 1008,
           "temp": 0.1,
           "temp_kf": 0,
           "temp_max": 0.1,
           "temp_min": 0.1
          },
          "pop": 0.81,
          "snow": {
           "3h": 1.03
          },
          "sys": {
           "pod": "d"
          },
          "visibility": 121,
          "weather": [
           {
            "description": "light snow",
            "icon": "13d",
            "id": 600,
            "main": "Snow"
           }
          ],
          "wind": {
           "deg": 122,
           "gust": 4.79,
           "speed": 2.14
          }
         },
         {
          "clouds": {
           "all": 100
          },
          "dt": 1638878400,
          "dt_txt": "2021-12-07 12:00:00",
          "main": {
           "feels_like": -1.4,
           "grnd_level": 1007,
           "humidity": 99,
           "pressure": 1009,
           "sea_level": 1009,
           "temp": 0.9,
           "temp_kf": 0,
           "temp_max": 0.9,
           "temp_min": 0.9
          },
          "pop": 0.76,
          "snow": {
           "3h": 0.34
          },
          "sys": {
           "pod": "d"
          },
          "visibility": 652,
          "weather": [
           {
            "description": "light snow",
            "icon": "13d",
            "id": 600,
            "main": "Snow"
           }
          ],
          "wind": {
           "deg": 153,
           "gust": 3.62,
           "speed": 1.99
          }
         },
         {
          "clouds": {
           "all": 100
          },
          "dt": 1638889200,
          "dt_txt": "2021-12-07 15:00:00",
          "main": {
           "feels_like": -2.41,
           "grnd_level": 1006,
           "humidity": 99,
           "pressure": 1009,
           "sea_level": 1009,
           "temp": 0.67,
           "temp_kf": 0,
           "temp_max": 0.67,
           "temp_min": 0.67
          },
          "pop": 0.38,
          "snow": {
           "3h": 0.44
          },
          "sys": {
           "pod": "d"
          },
          "visibility": 25,
          "weather": [
           {
            "description": "light snow",
            "icon": "13d",
            "id": 600,
            "main": "Snow"
           }
          ],
          "wind": {
           "deg": 132,
           "gust": 5.38,
           "speed": 2.68
          }
         },
         {
          "clouds": {
           "all": 100
          },
          "dt": 1638900000,
          "dt_txt": "2021-12-07 18:00:00",
          "main": {
           "feels_like": -2.3,
           "grnd_level": 1005,
           "humidity": 99,
           "pressure": 1008,
           "sea_level": 1008,
           "temp": 0.91,
           "temp_kf": 0,
           "temp_max": 0.91,
           "temp_min": 0.91
          },
          "pop": 0.22,
          "sys": {
           "pod": "n"
          },
          "visibility": 27,
          "weather": [
           {
            "description": "overcast clouds",
            "icon": "04n",
            "id": 804,
            "main": "Clouds"
           }
          ],
          "wind": {
           "deg": 138,
           "gust": 6.47,
           "speed": 2.88
          }
         },
         {
          "clouds": {
           "all": 100
          },
          "dt": 1638910800,
          "dt_txt": "2021-12-07 21:00:00",
          "main": {
           "feels_like": -2.23,
           "grnd_level": 1005,
           "humidity": 99,
           "pressure": 1007,
           "sea_level": 1007,
           "temp": 1.04,
           "temp_kf": 0,
           "temp_max": 1.04,
           "temp_min": 1.04
          },
          "pop": 0,
          "sys": {
           "pod": "n"
          },
          "visibility": 44,
          "weather": [
           {
            "description": "overcast clouds",
            "icon": "04n",
            "id": 804,
            "main": "Clouds"
           }
          ],
          "wind": {
           "deg": 129,
           "gust": 6.92,
           "speed": 2.98
          }
         },
         {
          "clouds": {
           "all": 100
          },
          "dt": 1638921600,
          "dt_txt": "2021-12-08 00:00:00",
          "main": {
           "feels_like": -3.62,
           "grnd_level": 1002,
           "humidity": 98,
           "pressure": 1005,
           "sea_level": 1005,
           "temp": 0.78,
           "temp_kf": 0,
           "temp_max": 0.78,
           "temp_min": 0.78
          },
          "pop": 0,
          "sys": {
           "pod": "n"
          },
          "visibility": 1718,
          "weather": [
           {
            "description": "overcast clouds",
            "icon": "04n",
            "id": 804,
            "main": "Clouds"
           }
          ],
          "wind": {
           "deg": 108,
           "gust": 9.38,
           "speed": 4.45
          }
         },
         {
          "clouds": {
           "all": 100
          },
          "dt": 1638932400,
          "dt_txt": "2021-12-08 03:00:00",
          "main": {
           "feels_like": -4.51,
           "grnd_level": 1001,
           "humidity": 95,
           "pressure": 1004,
           "sea_level": 1004,
           "temp": 0.47,
           "temp_kf": 0,
           "temp_max": 0.47,
           "temp_min": 0.47
          },
          "pop": 0,
          "sys": {
           "pod": "n"
          },
          "visibility": 10000,
          "weather": [
           {
            "description": "overcast clouds",
            "icon": "04n",
            "id": 804,
            "main": "Clouds"
           }
          ],
          "wind": {
           "deg": 116,
           "gust": 13.06,
           "speed": 5.32
          }
         },
         {
          "clouds": {
           "all": 100
          },
          "dt": 1638943200,
          "dt_txt": "2021-12-08 06:00:00",
          "main": {
           "feels_like": -4.42,
           "grnd_level": 1001,
           "humidity": 94,
           "pressure": 1003,
           "sea_level": 1003,
           "temp": 0.6,
           "temp_kf": 0,
           "temp_max": 0.6,
           "temp_min": 0.6
          },
          "pop": 0,
          "sys": {
           "pod": "n"
          },
          "visibility": 10000,
          "weather": [
           {
            "description": "overcast clouds",
            "icon": "04n",
            "id": 804,
            "main": "Clouds"
           }
          ],
          "wind": {
           "deg": 123,
           "gust": 14.17,
           "speed": 5.46
          }
         },
         {
          "clouds": {
           "all": 100
          },
          "dt": 1638954000,
          "dt_txt": "2021-12-08 09:00:00",
          "main": {
           "feels_like": -3.98,
           "grnd_level": 1001,
           "humidity": 94,
           "pressure": 1004,
           "sea_level": 1004,
           "temp": 0.81,
           "temp_kf": 0,
           "temp_max": 0.81,
           "temp_min": 0.81
          },
          "pop": 0.28,
          "snow": {
           "3h": 0.35
          },
          "sys": {
           "pod": "d"
          },
          "visibility": 10000,
          "weather": [
           {
            "description": "light snow",
            "icon": "13d",
            "id": 600,
            "main": "Snow"
           }
          ],
          "wind": {
           "deg": 122,
           "gust": 11.45,
           "speed": 5.14
          }
         },
         {
          "clouds": {
           "all": 100
          },
          "dt": 1638964800,
          "dt_txt": "2021-12-08 12:00:00",
          "main": {
           "feels_like": -4.52,
           "grnd_level": 1000,
           "humidity": 92,
           "pressure": 1003,
           "sea_level": 1003,
           "temp": 0.51,
           "temp_kf": 0,
           "temp_max": 0.51,
           "temp_min": 0.51
          },
          "pop": 0,
          "sys": {
           "pod": "d"
          },
          "visibility": 10000,
          "weather": [
           {
            "description": "overcast clouds",
            "icon": "04d",
            "id": 804,
            "main": "Clouds"
           }
          ],
          "wind": {
           "deg": 104,
           "gust": 11.23,
           "speed": 5.45
          }
         },
         {
          "clouds": {
           "all": 100
          },
          "dt": 1638975600,
          "dt_txt": "2021-12-08 15:00:00",
          "main": {
           "feels_like": -5.78,
           "grnd_level": 1001,
           "humidity": 90,
           "pressure": 1003,
           "sea_level": 1003,
           "temp": -0.61,
           "temp_kf": 0,
           "temp_max": -0.61,
           "temp_min": -0.61
          },
          "pop": 0,
          "sys": {
           "pod": "d"
          },
          "visibility": 10000,
          "weather": [
           {
            "description": "overcast clouds",
            "icon": "04d",
            "id": 804,
            "main": "Clouds"
           }
          ],
          "wind": {
           "deg": 95,
           "gust": 11.28,
           "speed": 5.17
          }
         },
         {
          "clouds": {
           "all": 100
          },
          "dt": 1638986400,
          "dt_txt": "2021-12-08 18:00:00",
          "main": {
           "feels_like": -6.53,
           "grnd_level": 1002,
           "humidity": 90,
           "pressure": 1004,
           "sea_level": 1004,
           "temp": -1.32,
           "temp_kf": 0,
           "temp_max": -1.32,
           "temp_min": -1.32
          },
          "pop": 0,
          "sys": {
           "pod": "n"
          },
          "visibility": 10000,
          "weather": [
           {
            "description": "overcast clouds",
            "icon": "04n",
            "id": 804,
            "main": "Clouds"
           }
          ],
          "wind": {
           "deg": 93,
           "gust": 11.36,
           "speed": 4.94
          }
         },
         {
          "clouds": {
           "all": 100
          },
          "dt": 1638997200,
          "dt_txt": "2021-12-08 21:00:00",
          "main": {
           "feels_like": -7.1,
           "grnd_level": 1002,
           "humidity": 91,
           "pressure": 1005,
           "sea_level": 1005,
           "temp": -1.92,
           "temp_kf": 0,
           "temp_max": -1.92,
           "temp_min": -1.92
          },
          "pop": 0,
          "sys": {
           "pod": "n"
          },
          "visibility": 10000,
          "weather": [
           {
            "description": "overcast clouds",
            "icon": "04n",
            "id": 804,
            "main": "Clouds"
           }
          ],
          "wind": {
           "deg": 85,
           "gust": 10.05,
           "speed": 4.66
          }
         },
         {
          "clouds": {
           "all": 100
          },
          "dt": 1639008000,
          "dt_txt": "2021-12-09 00:00:00",
          "main": {
           "feels_like": -7.84,
           "grnd_level": 1002,
           "humidity": 92,
           "pressure": 1004,
           "sea_level": 1004,
           "temp": -2.56,
           "temp_kf": 0,
           "temp_max": -2.56,
           "temp_min": -2.56
          },
          "pop": 0,
          "sys": {
           "pod": "n"
          },
          "visibility": 10000,
          "weather": [
           {
            "description": "overcast clouds",
            "icon": "04n",
            "id": 804,
            "main": "Clouds"
           }
          ],
          "wind": {
           "deg": 78,
           "gust": 9.64,
           "speed": 4.58
          }
         },
         {
          "clouds": {
           "all": 100
          },
          "dt": 1639018800,
          "dt_txt": "2021-12-09 03:00:00",
          "main": {
           "feels_like": -8.2,
           "grnd_level": 1001,
           "humidity": 92,
           "pressure": 1004,
           "sea_level": 1004,
           "temp": -3.01,
           "temp_kf": 0,
           "temp_max": -3.01,
           "temp_min": -3.01
          },
          "pop": 0.1,
          "sys": {
           "pod": "n"
          },
          "visibility": 10000,
          "weather": [
           {
            "description": "overcast clouds",
            "icon": "04n",
            "id": 804,
            "main": "Clouds"
           }
          ],
          "wind": {
           "deg": 72,
           "gust": 9.16,
           "speed": 4.29
          }
         },
         {
          "clouds": {
           "all": 100
          },
          "dt": 1639029600,
          "dt_txt": "2021-12-09 06:00:00",
          "main": {
           "feels_like": -8.02,
           "grnd_level": 1001,
           "humidity": 95,
           "pressure": 1004,
           "sea_level": 1004,
           "temp": -2.99,
           "temp_kf": 0,
           "temp_max": -2.99,
           "temp_min": -2.99
          },
          "pop": 0.34,
          "snow": {
           "3h": 0.6
          },
          "sys": {
           "pod": "n"
          },
          "visibility": 206,
          "weather": [
           {
            "description": "light snow",
            "icon": "13n",
            "id": 600,
            "main": "Snow"
           }
          ],
          "wind": {
           "deg": 71,
           "gust": 9.34,
           "speed": 4.08
          }
         },
         {
          "clouds": {
           "all": 100
          },
          "dt": 1639040400,
          "dt_txt": "2021-12-09 09:00:00",
          "main": {
           "feels_like": -7.27,
           "grnd_level": 1001,
           "humidity": 92,
           "pressure": 1004,
           "sea_level": 1004,
           "temp": -2.56,
           "temp_kf": 0,
           "temp_max": -2.56,
           "temp_min": -2.56
          },
          "pop": 0.78,
          "snow": {
           "3h": 0.38
          },
          "sys": {
           "pod": "d"
          },
          "visibility": 1124,
          "weather": [
           {
            "description": "light snow",
            "icon": "13d",
            "id": 600,
            "main": "Snow"
           }
          ],
          "wind": {
           "deg": 76,
           "gust": 7.86,
           "speed": 3.8
          }
         },
         {
          "clouds": {
           "all": 100
          },
          "dt": 1639051200,
          "dt_txt": "2021-12-09 12:00:00",
          "main": {
           "feels_like": -5.91,
           "grnd_level": 1001,
           "humidity": 87,
           "pressure": 1003,
           "sea_level": 1003,
           "temp": -1.77,
           "temp_kf": 0,
           "temp_max": -1.77,
           "temp_min": -1.77
          },
          "pop": 0.58,
          "snow": {
           "3h": 0.11
          },
          "sys": {
           "pod": "d"
          },
          "visibility": 6348,
          "weather": [
           {
            "description": "light snow",
            "icon": "13d",
            "id": 600,
            "main": "Snow"
           }
          ],
          "wind": {
           "deg": 84,
           "gust": 5.12,
           "speed": 3.31
          }
         },
         {
          "clouds": {
           "all": 100
          },
          "dt": 1639062000,
          "dt_txt": "2021-12-09 15:00:00",
          "main": {
           "feels_like": -5.39,
           "grnd_level": 1001,
           "humidity": 95,
           "pressure": 1003,
           "sea_level": 1003,
           "temp": -2.17,
           "temp_kf": 0,
           "temp_max": -2.17,
           "temp_min": -2.17
          },
          "pop": 0.26,
          "snow": {
           "3h": 0.24
          },
          "sys": {
           "pod": "d"
          },
          "visibility": 1925,
          "weather": [
           {
            "description": "light snow",
            "icon": "13d",
            "id": 600,
            "main": "Snow"
           }
          ],
          "wind": {
           "deg": 78,
           "gust": 5.15,
           "speed": 2.32
          }
         },
         {
          "clouds": {
           "all": 100
          },
          "dt": 1639072800,
          "dt_txt": "2021-12-09 18:00:00",
          "main": {
           "feels_like": -5.24,
           "grnd_level": 1001,
           "humidity": 95,
           "pressure": 1004,
           "sea_level": 1004,
           "temp": -2.01,
           "temp_kf": 0,
           "temp_max": -2.01,
           "temp_min": -2.01
          },
          "pop": 0.3,
          "snow": {
           "3h": 0.13
          },
          "sys": {
           "pod": "n"
          },
          "visibility": 9822,
          "weather": [
           {
            "description": "light snow",
            "icon": "13n",
            "id": 600,
            "main": "Snow"
           }
          ],
          "wind": {
           "deg": 86,
           "gust": 5.4,
           "speed": 2.36
          }
         },
         {
          "clouds": {
           "all": 98
          },
          "dt": 1639083600,
          "dt_txt": "2021-12-09 21:00:00",
          "main": {
           "feels_like": -4.81,
           "grnd_level": 1001,
           "humidity": 94,
           "pressure": 1004,
           "sea_level": 1004,
           "temp": -1.67,
           "temp_kf": 0,
           "temp_max": -1.67,
           "temp_min": -1.67
          },
          "pop": 0,
          "sys": {
           "pod": "n"
          },
          "visibility": 10000,
          "weather": [
           {
            "description": "overcast clouds",
            "icon": "04n",
            "id": 804,
            "main": "Clouds"
           }
          ],
          "wind": {
           "deg": 81,
           "gust": 5.35,
           "speed": 2.33
          }
         },
         {
          "clouds": {
           "all": 99
          },
          "dt": 1639094400,
          "dt_txt": "2021-12-10 00:00:00",
          "main": {
           "feels_like": -4.27,
           "grnd_level": 1000,
           "humidity": 96,
           "pressure": 1003,
           "sea_level": 1003,
           "temp": -0.93,
           "temp_kf": 0,
           "temp_max": -0.93,
           "temp_min": -0.93
          },
          "pop": 0.2,
          "snow": {
           "3h": 0.11
          },
          "sys": {
           "pod": "n"
          },
          "visibility": 10000,
          "weather": [
           {
            "description": "light snow",
            "icon": "13n",
            "id": 600,
            "main": "Snow"
           }
          ],
          "wind": {
           "deg": 83,
           "gust": 7.31,
           "speed": 2.64
          }
         },
         {
          "clouds": {
           "all": 100
          },
          "dt": 1639105200,
          "dt_txt": "2021-12-10 03:00:00",
          "main": {
           "feels_like": -3.78,
           "grnd_level": 1000,
           "humidity": 96,
           "pressure": 1002,
           "sea_level": 1002,
           "temp": -0.04,
           "temp_kf": 0,
           "temp_max": -0.04,
           "temp_min": -0.04
          },
          "pop": 0.1,
          "sys": {
           "pod": "n"
          },
          "visibility": 10000,
          "weather": [
           {
            "description": "overcast clouds",
            "icon": "04n",
            "id": 804,
            "main": "Clouds"
           }
          ],
          "wind": {
           "deg": 107,
           "gust": 9.13,
           "speed": 3.27
          }
         },
         {
          "clouds": {
           "all": 98
          },
          "dt": 1639116000,
          "dt_txt": "2021-12-10 06:00:00",
          "main": {
           "feels_like": -4.59,
           "grnd_level": 1000,
           "humidity": 94,
           "pressure": 1002,
           "sea_level": 1002,
           "temp": -0.77,
           "temp_kf": 0,
           "temp_max": -0.77,
           "temp_min": -0.77
          },
          "pop": 0.06,
          "sys": {
           "pod": "n"
          },
          "visibility": 10000,
          "weather": [
           {
            "description": "overcast clouds",
            "icon": "04n",
            "id": 804,
            "main": "Clouds"
           }
          ],
          "wind": {
           "deg": 99,
           "gust": 9.48,
           "speed": 3.19
          }
         },
         {
          "clouds": {
           "all": 84
          },
          "dt": 1639126800,
          "dt_txt": "2021-12-10 09:00:00",
          "main": {
           "feels_like": -4.72,
           "grnd_level": 1000,
           "humidity": 93,
           "pressure": 1003,
           "sea_level": 1003,
           "temp": -0.81,
           "temp_kf": 0,
           "temp_max": -0.81,
           "temp_min": -0.81
          },
          "pop": 0,
          "sys": {
           "pod": "d"
          },
          "visibility": 10000,
          "weather": [
           {
            "description": "broken clouds",
            "icon": "04d",
            "id": 803,
            "main": "Clouds"
           }
          ],
          "wind": {
           "deg": 100,
           "gust": 9.39,
           "speed": 3.28
          }
         },
         {
          "clouds": {
           "all": 90
          },
          "dt": 1639137600,
          "dt_txt": "2021-12-10 12:00:00",
          "main": {
           "feels_like": -3.06,
           "grnd_level": 1001,
           "humidity": 91,
           "pressure": 1003,
           "sea_level": 1003,
           "temp": 0.42,
           "temp_kf": 0,
           "temp_max": 0.42,
           "temp_min": 0.42
          },
          "pop": 0,
          "sys": {
           "pod": "d"
          },
          "visibility": 10000,
          "weather": [
           {
            "description": "overcast clouds",
            "icon": "04d",
            "id": 804,
            "main": "Clouds"
           }
          ],
          "wind": {
           "deg": 91,
           "gust": 7.18,
           "speed": 3.07
          }
         }
        ],
        "message": 0
       },
       {
        "city": {
         "coord": {
          "lat": 52.2298,
          "lon": 21.0118
         },
         "country": "PL",
         "id": 756135,
         "name": "Warsaw",
         "population": 1000000,
         "sunrise": 1638685700,
         "sunset": 1638714311,
         "timezone": 3600
        },
        "cnt": 40,
        "cod": "200",
        "list": [
         {
          "clouds": {
           "all": 83
          },
          "dt": 1638716400,
          "dt_txt": "2021-12-05 15:00:00",
          "main": {
           "feels_like": -1.9,
           "grnd_level": 992,
           "humidity": 92,
           "pressure": 1004,
           "sea_level": 1004,
           "temp": -0.18,
           "temp_kf": 0.21,
           "temp_max": -0.18,
           "temp_min": -0.39
          },
          "pop": 0.71,
          "snow": {
           "3h": 0.74
          },
          "sys": {
           "pod": "n"
          },
          "visibility": 392,
          "weather": [
           {
            "description": "light snow",
            "icon": "13n",
            "id": 600,
            "main": "Snow"
           }
          ],
          "wind": {
           "deg": 94,
           "gust": 3.89,
           "speed": 1.46
          }
         },
         {
          "clouds": {
           "all": 92
          },
          "dt": 1638727200,
          "dt_txt": "2021-12-05 18:00:00",
          "main": {
           "feels_like": -2.43,
           "grnd_level": 993,
           "humidity": 94,
           "pressure": 1006,
           "sea_level": 1006,
           "temp": -0.36,
           "temp_kf": 0.14,
           "temp_max": -0.36,
           "temp_min": -0.5
          },
          "pop": 0.63,
          "snow": {
           "3h": 0.35
          },
          "sys": {
           "pod": "n"
          },
          "visibility": 10000,
          "weather": [
           {
            "description": "light snow",
            "icon": "13n",
            "id": 600,
            "main": "Snow"
           }
          ],
          "wind": {
           "deg": 114,
           "gust": 2.7,
           "speed": 1.67
          }
         },
         {
          "clouds": {
           "all": 100
          },
          "dt": 1638738000,
          "dt_txt": "2021-12-05 21:00:00",
          "main": {
           "feels_like": -2.57,
           "grnd_level": 994,
           "humidity": 97,
           "pressure": 1009,
           "sea_level": 1009,
           "temp": -0.66,
           "temp_kf": 0,
           "temp_max": -0.66,
           "temp_min": -0.66
          },
          "pop": 0,
          "sys": {
           "pod": "n"
          },
          "visibility": 533,
          "weather": [
           {
            "description": "overcast clouds",
            "icon": "04n",
            "id": 804,
            "main": "Clouds"
           }
          ],
          "wind": {
           "deg": 105,
           "gust": 3.11,
           "speed": 1.54
          }
         },
         {
          "clouds": {
           "all": 100
          },
          "dt": 1638748800,
          "dt_txt": "2021-12-06 00:00:00",
          "main": {
           "feels_like": -2.17,
           "grnd_level": 995,
           "humidity": 98,
           "pressure": 1009,
           "sea_level": 1009,
           "temp": -0.35,
           "temp_kf": 0,
           "temp_max": -0.35,
           "temp_min": -0.35
          },
          "pop": 0.39,
          "snow": {
           "3h": 0.19
          },
          "sys": {
           "pod": "n"
          },
          "visibility": 643,
          "weather": [
           {
            "description": "light snow",
            "icon": "13n",
            "id": 600,
            "main": "Snow"
           }
          ],
          "wind": {
           "deg": 95,
           "gust": 2.98,
           "speed": 1.51
          }
         },
         {
          "clouds": {
           "all": 100
          },
          "dt": 1638759600,
          "dt_txt": "2021-12-06 03:00:00",
          "main": {
           "feels_like": -2.21,
           "grnd_level": 995,
           "humidity": 99,
           "pressure": 1009,
           "sea_level": 1009,
           "temp": -0.01,
           "temp_kf": 0,
           "temp_max": -0.01,
           "temp_min": -0.01
          },
          "pop": 0.58,
          "snow": {
           "3h": 0.37
          },
          "sys": {
           "pod": "n"
          },
          "visibility": 96,
          "weather": [
           {
            "description": "light snow",
            "icon": "13n",
            "id": 600,
            "main": "Snow"
           }
          ],
          "wind": {
           "deg": 67,
           "gust": 3.44,
           "speed": 1.8
          }
         },
         {
          "clouds": {
           "all": 100
          },
          "dt": 1638770400,
          "dt_txt": "2021-12-06 06:00:00",
          "main": {
           "feels_like": -3.07,
           "grnd_level": 996,
           "humidity": 95,
           "pressure": 1010,
           "sea_level": 1010,
           "temp": -0.38,
           "temp_kf": 0,
           "temp_max": -0.38,
           "temp_min": -0.38
          },
          "pop": 0.33,
          "snow": {
           "3h": 0.19
          },
          "sys": {
           "pod": "n"
          },
          "visibility": 6426,
          "weather": [
           {
            "description": "light snow",
            "icon": "13n",
            "id": 600,
            "main": "Snow"
           }
          ],
          "wind": {
           "deg": 64,
           "gust": 4.02,
           "speed": 2.14
          }
         },
         {
          "clouds": {
           "all": 100
          },
          "dt": 1638781200,
          "dt_txt": "2021-12-06 09:00:00",
          "main": {
           "feels_like": -3.33,
           "grnd_level": 997,
           "humidity": 94,
           "pressure": 1011,
           "sea_level": 1011,
           "temp": -0.33,
           "temp_kf": 0,
           "temp_max": -0.33,
           "temp_min": -0.33
          },
          "pop": 0.38,
          "snow": {
           "3h": 0.37
          },
          "sys": {
           "pod": "d"
          },
          "visibility": 4413,
          "weather": [
           {
            "description": "light snow",
            "icon": "13d",
            "id": 600,
            "main": "Snow"
           }
          ],
          "wind": {
           "deg": 39,
           "gust": 3.31,
           "speed": 2.42
          }
         },
         {
          "clouds": {
           "all": 100
          },
          "dt": 1638792000,
          "dt_txt": "2021-12-06 12:00:00",
          "main": {
           "feels_like": -3.23,
           "grnd_level": 997,
           "humidity": 93,
           "pressure": 1011,
           "sea_level": 1011,
           "temp": -0.17,
           "temp_kf": 0,
           "temp_max": -0.17,
           "temp_min": -0.17
          },
          "pop": 0.23,
          "snow": {
           "3h": 0.2
          },
          "sys": {
           "pod": "d"
          },
          "visibility": 561,
          "weather": [
           {
            "description": "light snow",
            "icon": "13d",
            "id": 600,
            "main": "Snow"
           }
          ],
          "wind": {
           "deg": 22,
           "gust": 3.48,
           "speed": 2.51
          }
         },
         {
          "clouds": {
           "all": 100
          },
          "dt": 1638802800,
          "dt_txt": "2021-12-06 15:00:00",
          "main": {
           "feels_like": -3.68,
           "grnd_level": 998,
           "humidity": 90,
           "pressure": 1012,
           "sea_level": 1012,
           "temp": -0.36,
           "temp_kf": 0,
           "temp_max": -0.36,
           "temp_min": -0.36
          },
          "pop": 0.36,
          "snow": {
           "3h": 0.27
          },
          "sys": {
           "pod": "n"
          },
          "visibility": 10000,
          "weather": [
           {
            "description": "light snow",
            "icon": "13n",
            "id": 600,
            "main": "Snow"
           }
          ],
          "wind": {
           "deg": 13,
           "gust": 4.47,
           "speed": 2.73
          }
         },
         {
          "clouds": {
           "all": 100
          },
          "dt": 1638813600,
          "dt_txt": "2021-12-06 18:00:00",
          "main": {
           "feels_like": -4.88,
           "grnd_level": 998,
           "humidity": 93,
           "pressure": 1013,
           "sea_level": 1013,
           "temp": -1.13,
           "temp_kf": 0,
           "temp_max": -1.13,
           "temp_min": -1.13
          },
          "pop": 0.2,
          "sys": {
           "pod": "n"
          },
          "visibility": 1179,
          "weather": [
           {
            "description": "overcast clouds",
            "icon": "04n",
            "id": 804,
            "main": "Clouds"
           }
          ],
          "wind": {
           "deg": 7,
           "gust": 4.88,
           "speed": 3.02
          }
         },
         {
          "clouds": {
           "all": 100
          },
          "dt": 1638824400,
          "dt_txt": "2021-12-06 21:00:00",
          "main": {
           "feels_like": -5.75,
           "grnd_level": 998,
           "humidity": 91,
           "pressure": 1013,
           "sea_level": 1013,
           "temp": -1.97,
           "temp_kf": 0,
           "temp_max": -1.97,
           "temp_min": -1.97
          },
          "pop": 0.21,
          "snow": {
           "3h": 0.19
          },
          "sys": {
           "pod": "n"
          },
          "visibility": 1409,
          "weather": [
           {
            "description": "light snow",
            "icon": "13n",
            "id": 600,
            "main": "Snow"
           }
          ],
          "wind": {
           "deg": 4,
           "gust": 4.27,
           "speed": 2.88
          }
         },
         {
          "clouds": {
           "all": 100
          },
          "dt": 1638835200,
          "dt_txt": "2021-12-07 00:00:00",
          "main": {
           "feels_like": -6.56,
           "grnd_level": 998,
           "humidity": 89,
           "pressure": 1013,
           "sea_level": 1013,
           "temp": -2.63,
           "temp_kf": 0,
           "temp_max": -2.63,
           "temp_min": -2.63
          },
          "pop": 0.2,
          "snow": {
           "3h": 0.12
          },
          "sys": {
           "pod": "n"
          },
          "visibility": 6367,
          "weather": [
           {
            "description": "light snow",
            "icon": "13n",
            "id": 600,
            "main": "Snow"
           }
          ],
          "wind": {
           "deg": 5,
           "gust": 4.36,
           "speed": 2.9
          }
         },
         {
          "clouds": {
           "all": 100
          },
          "dt": 1638846000,
          "dt_txt": "2021-12-07 03:00:00",
          "main": {
           "feels_like": -6.68,
           "grnd_level": 998,
           "humidity": 88,
           "pressure": 1013,
           "sea_level": 1013,
           "temp": -2.96,
           "temp_kf": 0,
           "temp_max": -2.96,
           "temp_min": -2.96
          },
          "pop": 0,
          "sys": {
           "pod": "n"
          },
          "visibility": 9198,
          "weather": [
           {
            "description": "overcast clouds",
            "icon": "04n",
            "id": 804,
            "main": "Clouds"
           }
          ],
          "wind": {
           "deg": 354,
           "gust": 3.56,
           "speed": 2.64
          }
         },
         {
          "clouds": {
           "all": 98
          },
          "dt": 1638856800,
          "dt_txt": "2021-12-07 06:00:00",
          "main": {
           "feels_like": -7.19,
           "grnd_level": 999,
           "humidity": 86,
           "pressure": 1013,
           "sea_level": 1013,
           "temp": -3.58,
           "temp_kf": 0,
           "temp_max": -3.58,
           "temp_min": -3.58
          },
          "pop": 0,
          "sys": {
           "pod": "n"
          },
          "visibility": 10000,
          "weather": [
           {
            "description": "overcast clouds",
            "icon": "04n",
            "id": 804,
            "main": "Clouds"
           }
          ],
          "wind": {
           "deg": 356,
           "gust": 3.28,
           "speed": 2.44
          }
         },
         {
          "clouds": {
           "all": 99
          },
          "dt": 1638867600,
          "dt_txt": "2021-12-07 09:00:00",
          "main": {
           "feels_like": -6.38,
           "grnd_level": 1000,
           "humidity": 82,
           "pressure": 1014,
           "sea_level": 1014,
           "temp": -3.25,
           "temp_kf": 0,
           "temp_max": -3.25,
           "temp_min": -3.25
          },
          "pop": 0,
          "sys": {
           "pod": "d"
          },
          "visibility": 10000,
          "weather": [
           {
            "description": "overcast clouds",
            "icon": "04d",
            "id": 804,
            "main": "Clouds"
           }
          ],
          "wind": {
           "deg": 3,
           "gust": 2.56,
           "speed": 2.1
          }
         },
         {
          "clouds": {
           "all": 98
          },
          "dt": 1638878400,
          "dt_txt": "2021-12-07 12:00:00",
          "main": {
           "feels_like": -5.55,
           "grnd_level": 1000,
           "humidity": 79,
           "pressure": 1014,
           "sea_level": 1014,
           "temp": -2.67,
           "temp_kf": 0,
           "temp_max": -2.67,
           "temp_min": -2.67
          },
          "pop": 0,
          "sys": {
           "pod": "d"
          },
          "visibility": 10000,
          "weather": [
           {
            "description": "overcast clouds",
            "icon": "04d",
            "id": 804,
            "main": "Clouds"
           }
          ],
          "wind": {
           "deg": 335,
           "gust": 2.18,
           "speed": 1.99
          }
         },
         {
          "clouds": {
           "all": 100
          },
          "dt": 1638889200,
          "dt_txt": "2021-12-07 15:00:00",
          "main": {
           "feels_like": -6.3,
           "grnd_level": 1000,
           "humidity": 80,
           "pressure": 1014,
           "sea_level": 1014,
           "temp": -3.13,
           "temp_kf": 0,
           "temp_max": -3.13,
           "temp_min": -3.13
          },
          "pop": 0,
          "sys": {
           "pod": "n"
          },
          "visibility": 10000,
          "weather": [
           {
            "description": "overcast clouds",
            "icon": "04n",
            "id": 804,
            "main": "Clouds"
           }
          ],
          "wind": {
           "deg": 19,
           "gust": 2.53,
           "speed": 2.15
          }
         },
         {
          "clouds": {
           "all": 100
          },
          "dt": 1638900000,
          "dt_txt": "2021-12-07 18:00:00",
          "main": {
           "feels_like": -5.61,
           "grnd_level": 1001,
           "humidity": 79,
           "pressure": 1015,
           "sea_level": 1015,
           "temp": -3.44,
           "temp_kf": 0,
           "temp_max": -3.44,
           "temp_min": -3.44
          },
          "pop": 0,
          "sys": {
           "pod": "n"
          },
          "visibility": 10000,
          "weather": [
           {
            "description": "overcast clouds",
            "icon": "04n",
            "id": 804,
            "main": "Clouds"
           }
          ],
          "wind": {
           "deg": 31,
           "gust": 1.44,
           "speed": 1.46
          }
         },
         {
          "clouds": {
           "all": 99
          },
          "dt": 1638910800,
          "dt_txt": "2021-12-07 21:00:00",
          "main": {
           "feels_like": -6.93,
           "grnd_level": 1001,
           "humidity": 79,
           "pressure": 1016,
           "sea_level": 1016,
           "temp": -3.77,
           "temp_kf": 0,
           "temp_max": -3.77,
           "temp_min": -3.77
          },
          "pop": 0,
          "sys": {
           "pod": "n"
          },
          "visibility": 10000,
          "weather": [
           {
            "description": "overcast clouds",
            "icon": "04n",
            "id": 804,
            "main": "Clouds"
           }
          ],
          "wind": {
           "deg": 56,
           "gust": 2.22,
           "speed": 2.06
          }
         },
         {
          "clouds": {
           "all": 97
          },
          "dt": 1638921600,
          "dt_txt": "2021-12-08 00:00:00",
          "main": {
           "feels_like": -8.21,
           "grnd_level": 1001,
           "humidity": 83,
           "pressure": 1016,
           "sea_level": 1016,
           "temp": -4.76,
           "temp_kf": 0,
           "temp_max": -4.76,
           "temp_min": -4.76
          },
          "pop": 0,
          "sys": {
           "pod": "n"
          },
          "visibility": 10000,
          "weather": [
           {
            "description": "overcast clouds",
            "icon": "04n",
            "id": 804,
            "main": "Clouds"
           }
          ],
          "wind": {
           "deg": 71,
           "gust": 2.62,
           "speed": 2.15
          }
         },
         {
          "clouds": {
           "all": 79
          },
          "dt": 1638932400,
          "dt_txt": "2021-12-08 03:00:00",
          "main": {
           "feels_like": -9.44,
           "grnd_level": 1001,
           "humidity": 83,
           "pressure": 1016,
           "sea_level": 1016,
           "temp": -5.52,
           "temp_kf": 0,
           "temp_max": -5.52,
           "temp_min": -5.52
          },
          "pop": 0,
          "sys": {
           "pod": "n"
          },
          "visibility": 10000,
          "weather": [
           {
            "description": "broken clouds",
            "icon": "04n",
            "id": 803,
            "main": "Clouds"
           }
          ],
          "wind": {
           "deg": 79,
           "gust": 3.57,
           "speed": 2.4
          }
         },
         {
          "clouds": {
           "all": 49
          },
          "dt": 1638943200,
          "dt_txt": "2021-12-08 06:00:00",
          "main": {
           "feels_like": -10.36,
           "grnd_level": 1001,
           "humidity": 85,
           "pressure": 1015,
           "sea_level": 1015,
           "temp": -5.94,
           "temp_kf": 0,
           "temp_max": -5.94,
           "temp_min": -5.94
          },
          "pop": 0,
          "sys": {
           "pod": "n"
          },
          "visibility": 10000,
          "weather": [
           {
            "description": "scattered clouds",
            "icon": "03n",
            "id": 802,
            "main": "Clouds"
           }
          ],
          "wind": {
           "deg": 73,
           "gust": 4.72,
           "speed": 2.75
          }
         },
         {
          "clouds": {
           "all": 23
          },
          "dt": 1638954000,
          "dt_txt": "2021-12-08 09:00:00",
          "main": {
           "feels_like": -9.01,
           "grnd_level": 1001,
           "humidity": 81,
           "pressure": 1016,
           "sea_level": 1016,
           "temp": -4.72,
           "temp_kf": 0,
           "temp_max": -4.72,
           "temp_min": -4.72
          },
          "pop": 0,
          "sys": {
           "pod": "d"
          },
          "visibility": 10000,
          "weather": [
           {
            "description": "few clouds",
            "icon": "02d",
            "id": 801,
            "main": "Clouds"
           }
          ],
          "wind": {
           "deg": 88,
           "gust": 4.64,
           "speed": 2.85
          }
         },
         {
          "clouds": {
           "all": 32
          },
          "dt": 1638964800,
          "dt_txt": "2021-12-08 12:00:00",
          "main": {
           "feels_like": -7.99,
           "grnd_level": 999,
           "humidity": 78,
           "pressure": 1014,
           "sea_level": 1014,
           "temp": -3.03,
           "temp_kf": 0,
           "temp_max": -3.03,
           "temp_min": -3.03
          },
          "pop": 0,
          "sys": {
           "pod": "d"
          },
          "visibility": 10000,
          "weather": [
           {
            "description": "scattered clouds",
            "icon": "03d",
            "id": 802,
            "main": "Clouds"
           }
          ],
          "wind": {
           "deg": 87,
           "gust": 6.29,
           "speed": 3.98
          }
         },
         {
          "clouds": {
           "all": 45
          },
          "dt": 1638975600,
          "dt_txt": "2021-12-08 15:00:00",
          "main": {
           "feels_like": -9.5,
           "grnd_level": 999,
           "humidity": 86,
           "pressure": 1014,
           "sea_level": 1014,
           "temp": -4.34,
           "temp_kf": 0,
           "temp_max": -4.34,
           "temp_min": -4.34
          },
          "pop": 0,
          "sys": {
           "pod": "n"
          },
          "visibility": 10000,
          "weather": [
           {
            "description": "scattered clouds",
            "icon": "03n",
            "id": 802,
            "main": "Clouds"
           }
          ],
          "wind": {
           "deg": 79,
           "gust": 7.98,
           "speed": 3.86
          }
         },
         {
          "clouds": {
           "all": 47
          },
          "dt": 1638986400,
          "dt_txt": "2021-12-08 18:00:00",
          "main": {
           "feels_like": -10.47,
           "grnd_level": 999,
           "humidity": 85,
           "pressure": 1014,
           "sea_level": 1014,
           "temp": -4.79,
           "temp_kf": 0,
           "temp_max": -4.79,
           "temp_min": -4.79
          },
          "pop": 0,
          "sys": {
           "pod": "n"
          },
          "visibility": 10000,
          "weather": [
           {
            "description": "scattered clouds",
            "icon": "03n",
            "id": 802,
            "main": "Clouds"
           }
          ],
          "wind": {
           "deg": 81,
           "gust": 9.46,
           "speed": 4.38
          }
         },
         {
          "clouds": {
           "all": 68
          },
          "dt": 1638997200,
          "dt_txt": "2021-12-08 21:00:00",
          "main": {
           "feels_like": -10.67,
           "grnd_level": 999,
           "humidity": 86,
           "pressure": 1014,
           "sea_level": 1014,
           "temp": -5.08,
           "temp_kf": 0,
           "temp_max": -5.08,
           "temp_min": -5.08
          },
          "pop": 0,
          "sys": {
           "pod": "n"
          },
          "visibility": 10000,
          "weather": [
           {
            "description": "broken clouds",
            "icon": "04n",
            "id": 803,
            "main": "Clouds"
           }
          ],
          "wind": {
           "deg": 100,
           "gust": 10.76,
           "speed": 4.18
          }
         },
         {
          "clouds": {
           "all": 84
          },
          "dt": 1639008000,
          "dt_txt": "2021-12-09 00:00:00",
          "main": {
           "feels_like": -10.98,
           "grnd_level": 998,
           "humidity": 88,
           "pressure": 1012,
           "sea_level": 1012,
           "temp": -4.9,
           "temp_kf": 0,
           "temp_max": -4.9,
           "temp_min": -4.9
          },
          "pop": 0,
          "sys": {
           "pod": "n"
          },
          "visibility": 10000,
          "weather": [
           {
            "description": "broken clouds",
            "icon": "04n",
            "id": 803,
            "main": "Clouds"
           }
          ],
          "wind": {
           "deg": 89,
           "gust": 11.22,
           "speed": 4.91
          }
         },
         {
          "clouds": {
           "all": 100
          },
          "dt": 1639018800,
          "dt_txt": "2021-12-09 03:00:00",
          "main": {
           "feels_like": -10.7,
           "grnd_level": 997,
           "humidity": 87,
           "pressure": 1012,
           "sea_level": 1012,
           "temp": -4.71,
           "temp_kf": 0,
           "temp_max": -4.71,
           "temp_min": -4.71
          },
          "pop": 0,
          "sys": {
           "pod": "n"
          },
          "visibility": 10000,
          "weather": [
           {
            "description": "overcast clouds",
            "icon": "04n",
            "id": 804,
            "main": "Clouds"
           }
          ],
          "wind": {
           "deg": 94,
           "gust": 11.92,
           "speed": 4.85
          }
         },
         {
          "clouds": {
           "all": 100
          },
          "dt": 1639029600,
          "dt_txt": "2021-12-09 06:00:00",
          "main": {
           "feels_like": -10.14,
           "grnd_level": 997,
           "humidity": 85,
           "pressure": 1012,
           "sea_level": 1012,
           "temp": -4.3,
           "temp_kf": 0,
           "temp_max": -4.3,
           "temp_min": -4.3
          },
          "pop": 0,
          "sys": {
           "pod": "n"
          },
          "visibility": 10000,
          "weather": [
           {
            "description": "overcast clouds",
            "icon": "04n",
            "id": 804,
            "main": "Clouds"
           }
          ],
          "wind": {
           "deg": 108,
           "gust": 12.68,
           "speed": 4.77
          }
         },
         {
          "clouds": {
           "all": 87
          },
          "dt": 1639040400,
          "dt_txt": "2021-12-09 09:00:00",
          "main": {
           "feels_like": -8.37,
           "grnd_level": 997,
           "humidity": 83,
           "pressure": 1011,
           "sea_level": 1011,
           "temp": -3.08,
           "temp_kf": 0,
           "temp_max": -3.08,
           "temp_min": -3.08
          },
          "pop": 0,
          "sys": {
           "pod": "d"
          },
          "visibility": 10000,
          "weather": [
           {
            "description": "overcast clouds",
            "icon": "04d",
            "id": 804,
            "main": "Clouds"
           }
          ],
          "wind": {
           "deg": 104,
           "gust": 10.44,
           "speed": 4.41
          }
         },
         {
          "clouds": {
           "all": 94
          },
          "dt": 1639051200,
          "dt_txt": "2021-12-09 12:00:00",
          "main": {
           "feels_like": -6.12,
           "grnd_level": 996,
           "humidity": 81,
           "pressure": 1011,
           "sea_level": 1011,
           "temp": -1.62,
           "temp_kf": 0,
           "temp_max": -1.62,
           "temp_min": -1.62
          },
          "pop": 0,
          "sys": {
           "pod": "d"
          },
          "visibility": 10000,
          "weather": [
           {
            "description": "overcast clouds",
            "icon": "04d",
            "id": 804,
            "main": "Clouds"
           }
          ],
          "wind": {
           "deg": 109,
           "gust": 7.71,
           "speed": 3.8
          }
         },
         {
          "clouds": {
           "all": 100
          },
          "dt": 1639062000,
          "dt_txt": "2021-12-09 15:00:00",
          "main": {
           "feels_like": -5.56,
           "grnd_level": 996,
           "humidity": 85,
           "pressure": 1011,
           "sea_level": 1011,
           "temp": -1.68,
           "temp_kf": 0,
           "temp_max": -1.68,
           "temp_min": -1.68
          },
          "pop": 0,
          "sys": {
           "pod": "n"
          },
          "visibility": 10000,
          "weather": [
           {
            "description": "overcast clouds",
            "icon": "04n",
            "id": 804,
            "main": "Clouds"
           }
          ],
          "wind": {
           "deg": 112,
           "gust": 7.74,
           "speed": 3.04
          }
         },
         {
          "clouds": {
           "all": 100
          },
          "dt": 1639072800,
          "dt_txt": "2021-12-09 18:00:00",
          "main": {
           "feels_like": -5.21,
           "grnd_level": 995,
           "humidity": 86,
           "pressure": 1010,
           "sea_level": 1010,
           "temp": -1.35,
           "temp_kf": 0,
           "temp_max": -1.35,
           "temp_min": -1.35
          },
          "pop": 0,
          "sys": {
           "pod": "n"
          },
          "visibility": 10000,
          "weather": [
           {
            "description": "overcast clouds",
            "icon": "04n",
            "id": 804,
            "main": "Clouds"
           }
          ],
          "wind": {
           "deg": 99,
           "gust": 8.03,
           "speed": 3.1
          }
         },
         {
          "clouds": {
           "all": 100
          },
          "dt": 1639083600,
          "dt_txt": "2021-12-09 21:00:00",
          "main": {
           "feels_like": -5.99,
           "grnd_level": 994,
           "humidity": 96,
           "pressure": 1008,
           "sea_level": 1008,
           "temp": -1.53,
           "temp_kf": 0,
           "temp_max": -1.53,
           "temp_min": -1.53
          },
          "pop": 1,
          "snow": {
           "3h": 1.91
          },
          "sys": {
           "pod": "n"
          },
          "visibility": 193,
          "weather": [
           {
            "description": "snow",
            "icon": "13n",
            "id": 601,
            "main": "Snow"
           }
          ],
          "wind": {
           "deg": 79,
           "gust": 8.73,
           "speed": 3.77
          }
         },
         {
          "clouds": {
           "all": 100
          },
          "dt": 1639094400,
          "dt_txt": "2021-12-10 00:00:00",
          "main": {
           "feels_like": -6.63,
           "grnd_level": 991,
           "humidity": 91,
           "pressure": 1006,
           "sea_level": 1006,
           "temp": -1.28,
           "temp_kf": 0,
           "temp_max": -1.28,
           "temp_min": -1.28
          },
          "pop": 1,
          "snow": {
           "3h": 1.99
          },
          "sys": {
           "pod": "n"
          },
          "visibility": 10000,
          "weather": [
           {
            "description": "snow",
            "icon": "13n",
            "id": 601,
            "main": "Snow"
           },
           {
            "description": "freezing rain",
            "icon": "13n",
            "id": 511,
            "main": "Rain"
           }
          ],
          "wind": {
           "deg": 74,
           "gust": 11.13,
           "speed": 5.19
          }
         },
         {
          "clouds": {
           "all": 100
          },
          "dt": 1639105200,
          "dt_txt": "2021-12-10 03:00:00",
          "main": {
           "feels_like": -5.64,
           "grnd_level": 988,
           "humidity": 87,
           "pressure": 1002,
           "sea_level": 1002,
           "temp": -0.31,
           "temp_kf": 0,
           "temp_max": -0.31,
           "temp_min": -0.31
          },
          "pop": 0.42,
          "snow": {
           "3h": 0.12
          },
          "sys": {
           "pod": "n"
          },
          "visibility": 10000,
          "weather": [
           {
            "description": "light snow",
            "icon": "13n",
            "id": 600,
            "main": "Snow"
           },
           {
            "description": "freezing rain",
            "icon": "13n",
            "id": 511,
            "main": "Rain"
           }
          ],
          "wind": {
           "deg": 96,
           "gust": 12.53,
           "speed": 5.61
          }
         },
         {
          "clouds": {
           "all": 100
          },
          "dt": 1639116000,
          "dt_txt": "2021-12-10 06:00:00",
          "main": {
           "feels_like": -4.61,
           "grnd_level": 986,
           "humidity": 86,
           "pressure": 1000,
           "sea_level": 1000,
           "temp": 0.35,
           "temp_kf": 0,
           "temp_max": 0.35,
           "temp_min": 0.35
          },
          "pop": 0.31,
          "rain": {
           "3h": 0.36
          },
          "sys": {
           "pod": "n"
          },
          "visibility": 10000,
          "weather": [
           {
            "description": "light rain",
            "icon": "10n",
            "id": 500,
            "main": "Rain"
           }
          ],
          "wind": {
           "deg": 115,
           "gust": 13.62,
           "speed": 5.23
          }
         },
         {
          "clouds": {
           "all": 100
          },
          "dt": 1639126800,
          "dt_txt": "2021-12-10 09:00:00",
          "main": {
           "feels_like": -2.53,
           "grnd_level": 986,
           "humidity": 86,
           "pressure": 1000,
           "sea_level": 1000,
           "temp": 1.52,
           "temp_kf": 0,
           "temp_max": 1.52,
           "temp_min": 1.52
          },
          "pop": 0,
          "sys": {
           "pod": "d"
          },
          "visibility": 10000,
          "weather": [
           {
            "description": "overcast clouds",
            "icon": "04d",
            "id": 804,
            "main": "Clouds"
           }
          ],
          "wind": {
           "deg": 131,
           "gust": 13.71,
           "speed": 4.18
          }
         },
         {
          "clouds": {
           "all": 85
          },
          "dt": 1639137600,
          "dt_txt": "2021-12-10 12:00:00",
          "main": {
           "feels_like": -0.86,
           "grnd_level": 987,
           "humidity": 93,
           "pressure": 1001,
           "sea_level": 1001,
           "temp": 2.82,
           "temp_kf": 0,
           "temp_max": 2.82,
           "temp_min": 2.82
          },
          "pop": 0,
          "sys": {
           "pod": "d"
          },
          "visibility": 10000,
          "weather": [
           {
            "description": "overcast clouds",
            "icon": "04d",
            "id": 804,
            "main": "Clouds"
           }
          ],
          "wind": {
           "deg": 189,
           "gust": 10.31,
           "speed": 4.07
          }
         }
        ],
        "message": 0
       },
       {
        "city": {
         "coord": {
          "lat": 47.498,
          "lon": 19.0399
         },
         "country": "HU",
         "id": 3054643,
         "name": "Budapest",
         "population": 1696128,
         "sunrise": 1638684934,
         "sunset": 1638716024,
         "timezone": 3600
        },
        "cnt": 40,
        "cod": "200",
        "list": [
         {
          "clouds": {
           "all": 90
          },
          "dt": 1638716400,
          "dt_txt": "2021-12-05 15:00:00",
          "main": {
           "feels_like": -0.98,
           "grnd_level": 994,
           "humidity": 92,
           "pressure": 1005,
           "sea_level": 1005,
           "temp": 1.58,
           "temp_kf": -0.33,
           "temp_max": 1.91,
           "temp_min": 1.58
          },
          "pop": 0.03,
          "sys": {
           "pod": "n"
          },
          "visibility": 25,
          "weather": [
           {
            "description": "overcast clouds",
            "icon": "04n",
            "id": 804,
            "main": "Clouds"
           }
          ],
          "wind": {
           "deg": 33,
           "gust": 5.05,
           "speed": 2.33
          }
         },
         {
          "clouds": {
           "all": 93
          },
          "dt": 1638727200,
          "dt_txt": "2021-12-05 18:00:00",
          "main": {
           "feels_like": -0.2,
           "grnd_level": 994,
           "humidity": 95,
           "pressure": 1006,
           "sea_level": 1006,
           "temp": 1.75,
           "temp_kf": -0.35,
           "temp_max": 2.1,
           "temp_min": 1.75
          },
          "pop": 0.07,
          "sys": {
           "pod": "n"
          },
          "visibility": 25,
          "weather": [
           {
            "description": "overcast clouds",
            "icon": "04n",
            "id": 804,
            "main": "Clouds"
           }
          ],
          "wind": {
           "deg": 45,
           "gust": 4.84,
           "speed": 1.82
          }
         },
         {
          "clouds": {
           "all": 97
          },
          "dt": 1638738000,
          "dt_txt": "2021-12-05 21:00:00",
          "main": {
           "feels_like": 0.33,
           "grnd_level": 995,
           "humidity": 96,
           "pressure": 1006,
           "sea_level": 1006,
           "temp": 1.89,
           "temp_kf": -0.15,
           "temp_max": 2.04,
           "temp_min": 1.89
          },
          "pop": 0.35,
          "snow": {
           "3h": 0.26
          },
          "sys": {
           "pod": "n"
          },
          "visibility": 60,
          "weather": [
           {
            "description": "light snow",
            "icon": "13n",
            "id": 600,
            "main": "Snow"
           }
          ],
          "wind": {
           "deg": 6,
           "gust": 3.35,
           "speed": 1.55
          }
         },
         {
          "clouds": {
           "all": 100
          },
          "dt": 1638748800,
          "dt_txt": "2021-12-06 00:00:00",
          "main": {
           "feels_like": -0.22,
           "grnd_level": 995,
           "humidity": 96,
           "pressure": 1007,
           "sea_level": 1007,
           "temp": 2.13,
           "temp_kf": 0,
           "temp_max": 2.13,
           "temp_min": 2.13
          },
          "pop": 0.23,
          "rain": {
           "3h": 0.14
          },
          "sys": {
           "pod": "n"
          },
          "visibility": 658,
          "weather": [
           {
            "description": "light rain",
            "icon": "10n",
            "id": 500,
            "main": "Rain"
           }
          ],
          "wind": {
           "deg": 14,
           "gust": 4.22,
           "speed": 2.22
          }
         },
         {
          "clouds": {
           "all": 100
          },
          "dt": 1638759600,
          "dt_txt": "2021-12-06 03:00:00",
          "main": {
           "feels_like": -0.95,
           "grnd_level": 994,
           "humidity": 93,
           "pressure": 1007,
           "sea_level": 1007,
           "temp": 1.97,
           "temp_kf": 0,
           "temp_max": 1.97,
           "temp_min": 1.97
          },
          "pop": 0.1,
          "sys": {
           "pod": "n"
          },
          "visibility": 7185,
          "weather": [
           {
            "description": "overcast clouds",
            "icon": "04n",
            "id": 804,
            "main": "Clouds"
           }
          ],
          "wind": {
           "deg": 346,
           "gust": 5.07,
           "speed": 2.78
          }
         },
         {
          "clouds": {
           "all": 100
          },
          "dt": 1638770400,
          "dt_txt": "2021-12-06 06:00:00",
          "main": {
           "feels_like": -1.32,
           "grnd_level": 995,
           "humidity": 96,
           "pressure": 1007,
           "sea_level": 1007,
           "temp": 1.88,
           "temp_kf": 0,
           "temp_max": 1.88,
           "temp_min": 1.88
          },
          "pop": 0.47,
          "rain": {
           "3h": 0.6
          },
          "sys": {
           "pod": "n"
          },
          "visibility": 120,
          "weather": [
           {
            "description": "light rain",
            "icon": "10n",
            "id": 500,
            "main": "Rain"
           }
          ],
          "wind": {
           "deg": 353,
           "gust": 6.92,
           "speed": 3.1
          }
         },
         {
          "clouds": {
           "all": 100
          },
          "dt": 1638781200,
          "dt_txt": "2021-12-06 09:00:00",
          "main": {
           "feels_like": -1.42,
           "grnd_level": 997,
           "humidity": 92,
           "pressure": 1009,
           "sea_level": 1009,
           "temp": 1.81,
           "temp_kf": 0,
           "temp_max": 1.81,
           "temp_min": 1.81
          },
          "pop": 0.51,
          "rain": {
           "3h": 0.12
          },
          "sys": {
           "pod": "d"
          },
          "visibility": 6340,
          "weather": [
           {
            "description": "light rain",
            "icon": "10d",
            "id": 500,
            "main": "Rain"
           }
          ],
          "wind": {
           "deg": 328,
           "gust": 5.79,
           "speed": 3.12
          }
         },
         {
          "clouds": {
           "all": 100
          },
          "dt": 1638792000,
          "dt_txt": "2021-12-06 12:00:00",
          "main": {
           "feels_like": -1.32,
           "grnd_level": 997,
           "humidity": 96,
           "pressure": 1009,
           "sea_level": 1009,
           "temp": 2.04,
           "temp_kf": 0,
           "temp_max": 2.04,
           "temp_min": 2.04
          },
          "pop": 0.79,
          "snow": {
           "3h": 1.63
          },
          "sys": {
           "pod": "d"
          },
          "visibility": 84,
          "weather": [
           {
            "description": "snow",
            "icon": "13d",
            "id": 601,
            "main": "Snow"
           }
          ],
          "wind": {
           "deg": 325,
           "gust": 7.02,
           "speed": 3.34
          }
         },
         {
          "clouds": {
           "all": 97
          },
          "dt": 1638802800,
          "dt_txt": "2021-12-06 15:00:00",
          "main": {
           "feels_like": -0.43,
           "grnd_level": 998,
           "humidity": 93,
           "pressure": 1011,
           "sea_level": 1011,
           "temp": 2.15,
           "temp_kf": 0,
           "temp_max": 2.15,
           "temp_min": 2.15
          },
          "pop": 0.55,
          "snow": {
           "3h": 0.39
          },
          "sys": {
           "pod": "n"
          },
          "visibility": 10000,
          "weather": [
           {
            "description": "light snow",
            "icon": "13n",
            "id": 600,
            "main": "Snow"
           }
          ],
          "wind": {
           "deg": 331,
           "gust": 5.14,
           "speed": 2.45
          }
         },
         {
          "clouds": {
           "all": 98
          },
          "dt": 1638813600,
          "dt_txt": "2021-12-06 18:00:00",
          "main": {
           "feels_like": -1.73,
           "grnd_level": 999,
           "humidity": 87,
           "pressure": 1011,
           "sea_level": 1011,
           "temp": 1.57,
           "temp_kf": 0,
           "temp_max": 1.57,
           "temp_min": 1.57
          },
          "pop": 0.39,
          "sys": {
           "pod": "n"
          },
          "visibility": 10000,
          "weather": [
           {
            "description": "overcast clouds",
            "icon": "04n",
            "id": 804,
            "main": "Clouds"
           }
          ],
          "wind": {
           "deg": 324,
           "gust": 7.44,
           "speed": 3.14
          }
         },
         {
          "clouds": {
           "all": 100
          },
          "dt": 1638824400,
          "dt_txt": "2021-12-06 21:00:00",
          "main": {
           "feels_like": -2.43,
           "grnd_level": 999,
           "humidity": 83,
           "pressure": 1011,
           "sea_level": 1011,
           "temp": 0.87,
           "temp_kf": 0,
           "temp_max": 0.87,
           "temp_min": 0.87
          },
          "pop": 0,
          "sys": {
           "pod": "n"
          },
          "visibility": 10000,
          "weather": [
           {
            "description": "overcast clouds",
            "icon": "04n",
            "id": 804,
            "main": "Clouds"
           }
          ],
          "wind": {
           "deg": 315,
           "gust": 7.51,
           "speed": 2.97
          }
         },
         {
          "clouds": {
           "all": 99
          },
          "dt": 1638835200,
          "dt_txt": "2021-12-07 00:00:00",
          "main": {
           "feels_like": -3.13,
           "grnd_level": 999,
           "humidity": 85,
           "pressure": 1012,
           "sea_level": 1012,
           "temp": -0.1,
           "temp_kf": 0,
           "temp_max": -0.1,
           "temp_min": -0.1
          },
          "pop": 0,
          "sys": {
           "pod": "n"
          },
          "visibility": 10000,
          "weather": [
           {
            "description": "overcast clouds",
            "icon": "04n",
            "id": 804,
            "main": "Clouds"
           }
          ],
          "wind": {
           "deg": 315,
           "gust": 6.65,
           "speed": 2.49
          }
         },
         {
          "clouds": {
           "all": 92
          },
          "dt": 1638846000,
          "dt_txt": "2021-12-07 03:00:00",
          "main": {
           "feels_like": -4,
           "grnd_level": 999,
           "humidity": 85,
           "pressure": 1011,
           "sea_level": 1011,
           "temp": -0.76,
           "temp_kf": 0,
           "temp_max": -0.76,
           "temp_min": -0.76
          },
          "pop": 0,
          "sys": {
           "pod": "n"
          },
          "visibility": 10000,
          "weather": [
           {
            "description": "overcast clouds",
            "icon": "04n",
            "id": 804,
            "main": "Clouds"
           }
          ],
          "wind": {
           "deg": 322,
           "gust": 6.06,
           "speed": 2.57
          }
         },
         {
          "clouds": {
           "all": 65
          },
          "dt": 1638856800,
          "dt_txt": "2021-12-07 06:00:00",
          "main": {
           "feels_like": -4.94,
           "grnd_level": 999,
           "humidity": 81,
           "pressure": 1011,
           "sea_level": 1011,
           "temp": -1.01,
           "temp_kf": 0,
           "temp_max": -1.01,
           "temp_min": -1.01
          },
          "pop": 0,
          "sys": {
           "pod": "n"
          },
          "visibility": 10000,
          "weather": [
           {
            "description": "broken clouds",
            "icon": "04n",
            "id": 803,
            "main": "Clouds"
           }
          ],
          "wind": {
           "deg": 320,
           "gust": 7.52,
           "speed": 3.25
          }
         },
         {
          "clouds": {
           "all": 6
          },
          "dt": 1638867600,
          "dt_txt": "2021-12-07 09:00:00",
          "main": {
           "feels_like": -3.89,
           "grnd_level": 1000,
           "humidity": 72,
           "pressure": 1012,
           "sea_level": 1012,
           "temp": 0.07,
           "temp_kf": 0,
           "temp_max": 0.07,
           "temp_min": 0.07
          },
          "pop": 0,
          "sys": {
           "pod": "d"
          },
          "visibility": 10000,
          "weather": [
           {
            "description": "clear sky",
            "icon": "01d",
            "id": 800,
            "main": "Clear"
           }
          ],
          "wind": {
           "deg": 316,
           "gust": 6.96,
           "speed": 3.58
          }
         },
         {
          "clouds": {
           "all": 5
          },
          "dt": 1638878400,
          "dt_txt": "2021-12-07 12:00:00",
          "main": {
           "feels_like": -1.79,
           "grnd_level": 999,
           "humidity": 64,
           "pressure": 1012,
           "sea_level": 1012,
           "temp": 1.59,
           "temp_kf": 0,
           "temp_max": 1.59,
           "temp_min": 1.59
          },
          "pop": 0,
          "sys": {
           "pod": "d"
          },
          "visibility": 10000,
          "weather": [
           {
            "description": "clear sky",
            "icon": "01d",
            "id": 800,
            "main": "Clear"
           }
          ],
          "wind": {
           "deg": 316,
           "gust": 7.5,
           "speed": 3.25
          }
         },
         {
          "clouds": {
           "all": 4
          },
          "dt": 1638889200,
          "dt_txt": "2021-12-07 15:00:00",
          "main": {
           "feels_like": -2.57,
           "grnd_level": 1000,
           "humidity": 75,
           "pressure": 1012,
           "sea_level": 1012,
           "temp": 0.49,
           "temp_kf": 0,
           "temp_max": 0.49,
           "temp_min": 0.49
          },
          "pop": 0,
          "sys": {
           "pod": "n"
          },
          "visibility": 10000,
          "weather": [
           {
            "description": "clear sky",
            "icon": "01n",
            "id": 800,
            "main": "Clear"
           }
          ],
          "wind": {
           "deg": 315,
           "gust": 8.61,
           "speed": 2.63
          }
         },
         {
          "clouds": {
           "all": 7
          },
          "dt": 1638900000,
          "dt_txt": "2021-12-07 18:00:00",
          "main": {
           "feels_like": -2.51,
           "grnd_level": 1000,
           "humidity": 81,
           "pressure": 1013,
           "sea_level": 1013,
           "temp": -0.3,
           "temp_kf": 0,
           "temp_max": -0.3,
           "temp_min": -0.3
          },
          "pop": 0,
          "sys": {
           "pod": "n"
          },
          "visibility": 10000,
          "weather": [
           {
            "description": "clear sky",
            "icon": "01n",
            "id": 800,
            "main": "Clear"
           }
          ],
          "wind": {
           "deg": 322,
           "gust": 4.17,
           "speed": 1.78
          }
         },
         {
          "clouds": {
           "all": 11
          },
          "dt": 1638910800,
          "dt_txt": "2021-12-07 21:00:00",
          "main": {
           "feels_like": -1.97,
           "grnd_level": 1000,
           "humidity": 79,
           "pressure": 1013,
           "sea_level": 1013,
           "temp": -0.38,
           "temp_kf": 0,
           "temp_max": -0.38,
           "temp_min": -0.38
          },
          "pop": 0,
          "sys": {
           "pod": "n"
          },
          "visibility": 10000,
          "weather": [
           {
            "description": "few clouds",
            "icon": "02n",
            "id": 801,
            "main": "Clouds"
           }
          ],
          "wind": {
           "deg": 319,
           "gust": 2.36,
           "speed": 1.37
          }
         },
         {
          "clouds": {
           "all": 22
          },
          "dt": 1638921600,
          "dt_txt": "2021-12-08 00:00:00",
          "main": {
           "feels_like": -0.46,
           "grnd_level": 1000,
           "humidity": 79,
           "pressure": 1013,
           "sea_level": 1013,
           "temp": -0.46,
           "temp_kf": 0,
           "temp_max": -0.46,
           "temp_min": -0.46
          },
          "pop": 0,
          "sys": {
           "pod": "n"
          },
          "visibility": 10000,
          "weather": [
           {
            "description": "few clouds",
            "icon": "02n",
            "id": 801,
            "main": "Clouds"
           }
          ],
          "wind": {
           "deg": 0,
           "gust": 0.94,
           "speed": 0.73
          }
         },
         {
          "clouds": {
           "all": 11
          },
          "dt": 1638932400,
          "dt_txt": "2021-12-08 03:00:00",
          "main": {
           "feels_like": -0.44,
           "grnd_level": 1000,
           "humidity": 79,
           "pressure": 1012,
           "sea_level": 1012,
           "temp": -0.44,
           "temp_kf": 0,
           "temp_max": -0.44,
           "temp_min": -0.44
          },
          "pop": 0,
          "sys": {
           "pod": "n"
          },
          "visibility": 10000,
          "weather": [
           {
            "description": "few clouds",
            "icon": "02n",
            "id": 801,
            "main": "Clouds"
           }
          ],
          "wind": {
           "deg": 124,
           "gust": 0.62,
           "speed": 0.6
          }
         },
         {
          "clouds": {
           "all": 12
          },
          "dt": 1638943200,
          "dt_txt": "2021-12-08 06:00:00",
          "main": {
           "feels_like": -0.52,
           "grnd_level": 1000,
           "humidity": 79,
           "pressure": 1012,
           "sea_level": 1012,
           "temp": -0.52,
           "temp_kf": 0,
           "temp_max": -0.52,
           "temp_min": -0.52
          },
          "pop": 0,
          "sys": {
           "pod": "n"
          },
          "visibility": 10000,
          "weather": [
           {
            "description": "few clouds",
            "icon": "02n",
            "id": 801,
            "main": "Clouds"
           }
          ],
          "wind": {
           "deg": 151,
           "gust": 1.74,
           "speed": 1.24
          }
         },
         {
          "clouds": {
           "all": 69
          },
          "dt": 1638954000,
          "dt_txt": "2021-12-08 09:00:00",
          "main": {
           "feels_like": -1.72,
           "grnd_level": 999,
           "humidity": 74,
           "pressure": 1012,
           "sea_level": 1012,
           "temp": 0.47,
           "temp_kf": 0,
           "temp_max": 0.47,
           "temp_min": 0.47
          },
          "pop": 0,
          "sys": {
           "pod": "d"
          },
          "visibility": 10000,
          "weather": [
           {
            "description": "broken clouds",
            "icon": "04d",
            "id": 803,
            "main": "Clouds"
           }
          ],
          "wind": {
           "deg": 119,
           "gust": 2.67,
           "speed": 1.85
          }
         },
         {
          "clouds": {
           "all": 80
          },
          "dt": 1638964800,
          "dt_txt": "2021-12-08 12:00:00",
          "main": {
           "feels_like": -1.45,
           "grnd_level": 998,
           "humidity": 74,
           "pressure": 1010,
           "sea_level": 1010,
           "temp": 1.43,
           "temp_kf": 0,
           "temp_max": 1.43,
           "temp_min": 1.43
          },
          "pop": 0,
          "sys": {
           "pod": "d"
          },
          "visibility": 10000,
          "weather": [
           {
            "description": "broken clouds",
            "icon": "04d",
            "id": 803,
            "main": "Clouds"
           }
          ],
          "wind": {
           "deg": 116,
           "gust": 4.28,
           "speed": 2.63
          }
         },
         {
          "clouds": {
           "all": 100
          },
          "dt": 1638975600,
          "dt_txt": "2021-12-08 15:00:00",
          "main": {
           "feels_like": -2.91,
           "grnd_level": 997,
           "humidity": 75,
           "pressure": 1009,
           "sea_level": 1009,
           "temp": 1.07,
           "temp_kf": 0,
           "temp_max": 1.07,
           "temp_min": 1.07
          },
          "pop": 0,
          "sys": {
           "pod": "n"
          },
          "visibility": 10000,
          "weather": [
           {
            "description": "overcast clouds",
            "icon": "04n",
            "id": 804,
            "main": "Clouds"
           }
          ],
          "wind": {
           "deg": 122,
           "gust": 8.44,
           "speed": 3.91
          }
         },
         {
          "clouds": {
           "all": 78
          },
          "dt": 1638986400,
          "dt_txt": "2021-12-08 18:00:00",
          "main": {
           "feels_like": -3.94,
           "grnd_level": 997,
           "humidity": 80,
           "pressure": 1010,
           "sea_level": 1010,
           "temp": 0.27,
           "temp_kf": 0,
           "temp_max": 0.27,
           "temp_min": 0.27
          },
          "pop": 0,
          "sys": {
           "pod": "n"
          },
          "visibility": 10000,
          "weather": [
           {
            "description": "broken clouds",
            "icon": "04n",
            "id": 803,
            "main": "Clouds"
           }
          ],
          "wind": {
           "deg": 118,
           "gust": 9.89,
           "speed": 3.98
          }
         },
         {
          "clouds": {
           "all": 99
          },
          "dt": 1638997200,
          "dt_txt": "2021-12-08 21:00:00",
          "main": {
           "feels_like": -3.34,
           "grnd_level": 997,
           "humidity": 81,
           "pressure": 1010,
           "sea_level": 1010,
           "temp": 0.38,
           "temp_kf": 0,
           "temp_max": 0.38,
           "temp_min": 0.38
          },
          "pop": 0,
          "sys": {
           "pod": "n"
          },
          "visibility": 10000,
          "weather": [
           {
            "description": "overcast clouds",
            "icon": "04n",
            "id": 804,
            "main": "Clouds"
           }
          ],
          "wind": {
           "deg": 103,
           "gust": 9.18,
           "speed": 3.35
          }
         },
         {
          "clouds": {
           "all": 99
          },
          "dt": 1639008000,
          "dt_txt": "2021-12-09 00:00:00",
          "main": {
           "feels_like": -3.78,
           "grnd_level": 997,
           "humidity": 79,
           "pressure": 1009,
           "sea_level": 1009,
           "temp": 0.23,
           "temp_kf": 0,
           "temp_max": 0.23,
           "temp_min": 0.23
          },
          "pop": 0,
          "sys": {
           "pod": "n"
          },
          "visibility": 10000,
          "weather": [
           {
            "description": "overcast clouds",
            "icon": "04n",
            "id": 804,
            "main": "Clouds"
           }
          ],
          "wind": {
           "deg": 86,
           "gust": 9.63,
           "speed": 3.69
          }
         },
         {
          "clouds": {
           "all": 100
          },
          "dt": 1639018800,
          "dt_txt": "2021-12-09 03:00:00",
          "main": {
           "feels_like": -5.11,
           "grnd_level": 996,
           "humidity": 94,
           "pressure": 1009,
           "sea_level": 1009,
           "temp": -0.48,
           "temp_kf": 0,
           "temp_max": -0.48,
           "temp_min": -0.48
          },
          "pop": 0.85,
          "snow": {
           "3h": 1.96
          },
          "sys": {
           "pod": "n"
          },
          "visibility": 437,
          "weather": [
           {
            "description": "snow",
            "icon": "13n",
            "id": 601,
            "main": "Snow"
           }
          ],
          "wind": {
           "deg": 82,
           "gust": 8.71,
           "speed": 4.35
          }
         },
         {
          "clouds": {
           "all": 100
          },
          "dt": 1639029600,
          "dt_txt": "2021-12-09 06:00:00",
          "main": {
           "feels_like": -3.99,
           "grnd_level": 997,
           "humidity": 94,
           "pressure": 1009,
           "sea_level": 1009,
           "temp": -0.09,
           "temp_kf": 0,
           "temp_max": -0.09,
           "temp_min": -0.09
          },
          "pop": 1,
          "snow": {
           "3h": 2.04
          },
          "sys": {
           "pod": "n"
          },
          "visibility": 10000,
          "weather": [
           {
            "description": "snow",
            "icon": "13n",
            "id": 601,
            "main": "Snow"
           },
           {
            "description": "freezing rain",
            "icon": "13n",
            "id": 511,
            "main": "Rain"
           }
          ],
          "wind": {
           "deg": 59,
           "gust": 7.28,
           "speed": 3.45
          }
         },
         {
          "clouds": {
           "all": 100
          },
          "dt": 1639040400,
          "dt_txt": "2021-12-09 09:00:00",
          "main": {
           "feels_like": -3.82,
           "grnd_level": 997,
           "humidity": 95,
           "pressure": 1009,
           "sea_level": 1009,
           "temp": 0.33,
           "temp_kf": 0,
           "temp_max": 0.33,
           "temp_min": 0.33
          },
          "pop": 0,
          "sys": {
           "pod": "d"
          },
          "visibility": 10000,
          "weather": [
           {
            "description": "overcast clouds",
            "icon": "04d",
            "id": 804,
            "main": "Clouds"
           }
          ],
          "wind": {
           "deg": 64,
           "gust": 7.94,
           "speed": 3.92
          }
         },
         {
          "clouds": {
           "all": 100
          },
          "dt": 1639051200,
          "dt_txt": "2021-12-09 12:00:00",
          "main": {
           "feels_like": -3.52,
           "grnd_level": 994,
           "humidity": 96,
           "pressure": 1007,
           "sea_level": 1007,
           "temp": 0.54,
           "temp_kf": 0,
           "temp_max": 0.54,
           "temp_min": 0.54
          },
          "pop": 0.55,
          "snow": {
           "3h": 0.59
          },
          "sys": {
           "pod": "d"
          },
          "visibility": 848,
          "weather": [
           {
            "description": "light snow",
            "icon": "13d",
            "id": 600,
            "main": "Snow"
           }
          ],
          "wind": {
           "deg": 47,
           "gust": 8.45,
           "speed": 3.85
          }
         },
         {
          "clouds": {
           "all": 100
          },
          "dt": 1639062000,
          "dt_txt": "2021-12-09 15:00:00",
          "main": {
           "feels_like": -3.72,
           "grnd_level": 991,
           "humidity": 98,
           "pressure": 1004,
           "sea_level": 1004,
           "temp": 0.56,
           "temp_kf": 0,
           "temp_max": 0.56,
           "temp_min": 0.56
          },
          "pop": 1,
          "snow": {
           "3h": 4.61
          },
          "sys": {
           "pod": "n"
          },
          "visibility": 125,
          "weather": [
           {
            "description": "snow",
            "icon": "13n",
            "id": 601,
            "main": "Snow"
           }
          ],
          "wind": {
           "deg": 49,
           "gust": 10.8,
           "speed": 4.18
          }
         },
         {
          "clouds": {
           "all": 100
          },
          "dt": 1639072800,
          "dt_txt": "2021-12-09 18:00:00",
          "main": {
           "feels_like": -3,
           "grnd_level": 989,
           "humidity": 97,
           "pressure": 1001,
           "sea_level": 1001,
           "temp": 1.19,
           "temp_kf": 0,
           "temp_max": 1.19,
           "temp_min": 1.19
          },
          "pop": 0.99,
          "rain": {
           "3h": 1.86
          },
          "sys": {
           "pod": "n"
          },
          "visibility": 10000,
          "weather": [
           {
            "description": "light rain",
            "icon": "10n",
            "id": 500,
            "main": "Rain"
           }
          ],
          "wind": {
           "deg": 42,
           "gust": 10.34,
           "speed": 4.27
          }
         },
         {
          "clouds": {
           "all": 100
          },
          "dt": 1639083600,
          "dt_txt": "2021-12-09 21:00:00",
          "main": {
           "feels_like": -2.61,
           "grnd_level": 987,
           "humidity": 96,
           "pressure": 999,
           "sea_level": 999,
           "temp": 1.48,
           "temp_kf": 0,
           "temp_max": 1.48,
           "temp_min": 1.48
          },
          "pop": 0.81,
          "rain": {
           "3h": 1.84
          },
          "sys": {
           "pod": "n"
          },
          "visibility": 7828,
          "weather": [
           {
            "description": "light rain",
            "icon": "10n",
            "id": 500,
            "main": "Rain"
           }
          ],
          "wind": {
           "deg": 69,
           "gust": 8.66,
           "speed": 4.23
          }
         },
         {
          "clouds": {
           "all": 100
          },
          "dt": 1639094400,
          "dt_txt": "2021-12-10 00:00:00",
          "main": {
           "feels_like": -0.94,
           "grnd_level": 986,
           "humidity": 96,
           "pressure": 999,
           "sea_level": 999,
           "temp": 2.08,
           "temp_kf": 0,
           "temp_max": 2.08,
           "temp_min": 2.08
          },
          "pop": 0.81,
          "rain": {
           "3h": 1.08
          },
          "sys": {
           "pod": "n"
          },
          "visibility": 10000,
          "weather": [
           {
            "description": "light rain",
            "icon": "10n",
            "id": 500,
            "main": "Rain"
           }
          ],
          "wind": {
           "deg": 107,
           "gust": 8.05,
           "speed": 2.92
          }
         },
         {
          "clouds": {
           "all": 100
          },
          "dt": 1639105200,
          "dt_txt": "2021-12-10 03:00:00",
          "main": {
           "feels_like": -3.83,
           "grnd_level": 987,
           "humidity": 98,
           "pressure": 1000,
           "sea_level": 1000,
           "temp": 1.17,
           "temp_kf": 0,
           "temp_max": 1.17,
           "temp_min": 1.17
          },
          "pop": 0.45,
          "snow": {
           "3h": 0.29
          },
          "sys": {
           "pod": "n"
          },
          "visibility": 29,
          "weather": [
           {
            "description": "light snow",
            "icon": "13n",
            "id": 600,
            "main": "Snow"
           }
          ],
          "wind": {
           "deg": 190,
           "gust": 11.07,
           "speed": 5.73
          }
         },
         {
          "clouds": {
           "all": 100
          },
          "dt": 1639116000,
          "dt_txt": "2021-12-10 06:00:00",
          "main": {
           "feels_like": -3.61,
           "grnd_level": 990,
           "humidity": 91,
           "pressure": 1003,
           "sea_level": 1003,
           "temp": 0.61,
           "temp_kf": 0,
           "temp_max": 0.61,
           "temp_min": 0.61
          },
          "pop": 0.3,
          "sys": {
           "pod": "n"
          },
          "visibility": 10000,
          "weather": [
           {
            "description": "overcast clouds",
            "icon": "04n",
            "id": 804,
            "main": "Clouds"
           }
          ],
          "wind": {
           "deg": 241,
           "gust": 7.19,
           "speed": 4.12
          }
         },
         {
          "clouds": {
           "all": 100
          },
          "dt": 1639126800,
          "dt_txt": "2021-12-10 09:00:00",
          "main": {
           "feels_like": -3.05,
           "grnd_level": 993,
           "humidity": 95,
           "pressure": 1006,
           "sea_level": 1006,
           "temp": 1.23,
           "temp_kf": 0,
           "temp_max": 1.23,
           "temp_min": 1.23
          },
          "pop": 0,
          "sys": {
           "pod": "d"
          },
          "visibility": 10000,
          "weather": [
           {
            "description": "overcast clouds",
            "icon": "04d",
            "id": 804,
            "main": "Clouds"
           }
          ],
          "wind": {
           "deg": 272,
           "gust": 10.62,
           "speed": 4.43
          }
         },
         {
          "clouds": {
           "all": 100
          },
          "dt": 1639137600,
          "dt_txt": "2021-12-10 12:00:00",
          "main": {
           "feels_like": 0.95,
           "grnd_level": 995,
           "humidity": 96,
           "pressure": 1007,
           "sea_level": 1007,
           "temp": 2.24,
           "temp_kf": 0,
           "temp_max": 2.24,
           "temp_min": 2.24
          },
          "pop": 0,
          "sys": {
           "pod": "d"
          },
          "visibility": 4099,
          "weather": [
           {
            "description": "overcast clouds",
            "icon": "04d",
            "id": 804,
            "main": "Clouds"
           }
          ],
          "wind": {
           "deg": 201,
           "gust": 2.18,
           "speed": 1.4
          }
         }
        ],
        "message": 0
       },
       {
        "city": {
         "coord": {
          "lat": 41.3888,
          "lon": 2.159
         },
         "country": "ES",
         "id": 3128760,
         "name": "Barcelona",
         "population": 1621537,
         "sunrise": 1638687734,
         "sunset": 1638721329,
         "timezone": 3600
        },
        "cnt": 40,
        "cod": "200",
        "list": [
         {
          "clouds": {
           "all": 37
          },
          "dt": 1638716400,
          "dt_txt": "2021-12-05 15:00:00",
          "main": {
           "feels_like": 10.44,
           "grnd_level": 1003,
           "humidity": 55,
           "pressure": 1008,
           "sea_level": 1008,
           "temp": 11.77,
           "temp_kf": -0.39,
           "temp_max": 12.16,
           "temp_min": 11.77
          },
          "pop": 0.11,
          "sys": {
           "pod": "d"
          },
          "visibility": 10000,
          "weather": [
           {
            "description": "scattered clouds",
            "icon": "03d",
            "id": 802,
            "main": "Clouds"
           }
          ],
          "wind": {
           "deg": 347,
           "gust": 6.69,
           "speed": 4.64
          }
         },
         {
          "clouds": {
           "all": 43
          },
          "dt": 1638727200,
          "dt_txt": "2021-12-05 18:00:00",
          "main": {
           "feels_like": 9.69,
           "grnd_level": 1006,
           "humidity": 51,
           "pressure": 1010,
           "sea_level": 1010,
           "temp": 11.18,
           "temp_kf": 0.2,
           "temp_max": 11.18,
           "temp_min": 10.98
          },
          "pop": 0.08,
          "sys": {
           "pod": "n"
          },
          "visibility": 10000,
          "weather": [
           {
            "description": "scattered clouds",
            "icon": "03n",
            "id": 802,
            "main": "Clouds"
           }
          ],
          "wind": {
           "deg": 298,
           "gust": 3.61,
           "speed": 2.82
          }
         },
         {
          "clouds": {
           "all": 0
          },
          "dt": 1638738000,
          "dt_txt": "2021-12-05 21:00:00",
          "main": {
           "feels_like": 7.04,
           "grnd_level": 1007,
           "humidity": 52,
           "pressure": 1013,
           "sea_level": 1013,
           "temp": 9.51,
           "temp_kf": 0,
           "temp_max": 9.51,
           "temp_min": 9.51
          },
          "pop": 0,
          "sys": {
           "pod": "n"
          },
          "visibility": 10000,
          "weather": [
           {
            "description": "clear sky",
            "icon": "01n",
            "id": 800,
            "main": "Clear"
           }
          ],
          "wind": {
           "deg": 298,
           "gust": 5.68,
           "speed": 4.83
          }
         },
         {
          "clouds": {
           "all": 1
          },
          "dt": 1638748800,
          "dt_txt": "2021-12-06 00:00:00",
          "main": {
           "feels_like": 5.49,
           "grnd_level": 1008,
           "humidity": 54,
           "pressure": 1014,
           "sea_level": 1014,
           "temp": 8.23,
           "temp_kf": 0,
           "temp_max": 8.23,
           "temp_min": 8.23
          },
          "pop": 0,
          "sys": {
           "pod": "n"
          },
          "visibility": 10000,
          "weather": [
           {
            "description": "clear sky",
            "icon": "01n",
            "id": 800,
            "main": "Clear"
           }
          ],
          "wind": {
           "deg": 309,
           "gust": 7.9,
           "speed": 4.74
          }
         },
         {
          "clouds": {
           "all": 2
          },
          "dt": 1638759600,
          "dt_txt": "2021-12-06 03:00:00",
          "main": {
           "feels_like": 4.98,
           "grnd_level": 1008,
           "humidity": 57,
           "pressure": 1014,
           "sea_level": 1014,
           "temp": 7.46,
           "temp_kf": 0,
           "temp_max": 7.46,
           "temp_min": 7.46
          },
          "pop": 0,
          "sys": {
           "pod": "n"
          },
          "visibility": 10000,
          "weather": [
           {
            "description": "clear sky",
            "icon": "01n",
            "id": 800,
            "main": "Clear"
           }
          ],
          "wind": {
           "deg": 295,
           "gust": 4.4,
           "speed": 3.82
          }
         },
         {
          "clouds": {
           "all": 1
          },
          "dt": 1638770400,
          "dt_txt": "2021-12-06 06:00:00",
          "main": {
           "feels_like": 4.44,
           "grnd_level": 1009,
           "humidity": 57,
           "pressure": 1015,
           "sea_level": 1015,
           "temp": 6.97,
           "temp_kf": 0,
           "temp_max": 6.97,
           "temp_min": 6.97
          },
          "pop": 0,
          "sys": {
           "pod": "n"
          },
          "visibility": 10000,
          "weather": [
           {
            "description": "clear sky",
            "icon": "01n",
            "id": 800,
            "main": "Clear"
           }
          ],
          "wind": {
           "deg": 318,
           "gust": 4.81,
           "speed": 3.71
          }
         },
         {
          "clouds": {
           "all": 1
          },
          "dt": 1638781200,
          "dt_txt": "2021-12-06 09:00:00",
          "main": {
           "feels_like": 6.56,
           "grnd_level": 1012,
           "humidity": 52,
           "pressure": 1017,
           "sea_level": 1017,
           "temp": 8.61,
           "temp_kf": 0,
           "temp_max": 8.61,
           "temp_min": 8.61
          },
          "pop": 0,
          "sys": {
           "pod": "d"
          },
          "visibility": 10000,
          "weather": [
           {
            "description": "clear sky",
            "icon": "01d",
            "id": 800,
            "main": "Clear"
           }
          ],
          "wind": {
           "deg": 319,
           "gust": 5.2,
           "speed": 3.48
          }
         },
         {
          "clouds": {
           "all": 1
          },
          "dt": 1638792000,
          "dt_txt": "2021-12-06 12:00:00",
          "main": {
           "feels_like": 10.02,
           "grnd_level": 1012,
           "humidity": 41,
           "pressure": 1017,
           "sea_level": 1017,
           "temp": 11.72,
           "temp_kf": 0,
           "temp_max": 11.72,
           "temp_min": 11.72
          },
          "pop": 0,
          "sys": {
           "pod": "d"
          },
          "visibility": 10000,
          "weather": [
           {
            "description": "clear sky",
            "icon": "01d",
            "id": 800,
            "main": "Clear"
           }
          ],
          "wind": {
           "deg": 307,
           "gust": 3.86,
           "speed": 1.93
          }
         },
         {
          "clouds": {
           "all": 46
          },
          "dt": 1638802800,
          "dt_txt": "2021-12-06 15:00:00",
          "main": {
           "feels_like": 11.2,
           "grnd_level": 1012,
           "humidity": 38,
           "pressure": 1018,
           "sea_level": 1018,
           "temp": 12.87,
           "temp_kf": 0,
           "temp_max": 12.87,
           "temp_min": 12.87
          },
          "pop": 0,
          "sys": {
           "pod": "d"
          },
          "visibility": 10000,
          "weather": [
           {
            "description": "scattered clouds",
            "icon": "03d",
            "id": 802,
            "main": "Clouds"
           }
          ],
          "wind": {
           "deg": 280,
           "gust": 3.43,
           "speed": 1.43
          }
         },
         {
          "clouds": {
           "all": 72
          },
          "dt": 1638813600,
          "dt_txt": "2021-12-06 18:00:00",
          "main": {
           "feels_like": 10.1,
           "grnd_level": 1013,
           "humidity": 41,
           "pressure": 1019,
           "sea_level": 1019,
           "temp": 11.79,
           "temp_kf": 0,
           "temp_max": 11.79,
           "temp_min": 11.79
          },
          "pop": 0,
          "sys": {
           "pod": "n"
          },
          "visibility": 10000,
          "weather": [
           {
            "description": "broken clouds",
            "icon": "04n",
            "id": 803,
            "main": "Clouds"
           }
          ],
          "wind": {
           "deg": 307,
           "gust": 2.1,
           "speed": 1.57
          }
         },
         {
          "clouds": {
           "all": 57
          },
          "dt": 1638824400,
          "dt_txt": "2021-12-06 21:00:00",
          "main": {
           "feels_like": 8.85,
           "grnd_level": 1014,
           "humidity": 46,
           "pressure": 1019,
           "sea_level": 1019,
           "temp": 10.54,
           "temp_kf": 0,
           "temp_max": 10.54,
           "temp_min": 10.54
          },
          "pop": 0,
          "sys": {
           "pod": "n"
          },
          "visibility": 10000,
          "weather": [
           {
            "description": "broken clouds",
            "icon": "04n",
            "id": 803,
            "main": "Clouds"
           }
          ],
          "wind": {
           "deg": 321,
           "gust": 2.7,
           "speed": 2.48
          }
         },
         {
          "clouds": {
           "all": 66
          },
          "dt": 1638835200,
          "dt_txt": "2021-12-07 00:00:00",
          "main": {
           "feels_like": 8.23,
           "grnd_level": 1013,
           "humidity": 50,
           "pressure": 1019,
           "sea_level": 1019,
           "temp": 9.65,
           "temp_kf": 0,
           "temp_max": 9.65,
           "temp_min": 9.65
          },
          "pop": 0,
          "sys": {
           "pod": "n"
          },
          "visibility": 10000,
          "weather": [
           {
            "description": "broken clouds",
            "icon": "04n",
            "id": 803,
            "main": "Clouds"
           }
          ],
          "wind": {
           "deg": 316,
           "gust": 3.33,
           "speed": 2.78
          }
         },
         {
          "clouds": {
           "all": 38
          },
          "dt": 1638846000,
          "dt_txt": "2021-12-07 03:00:00",
          "main": {
           "feels_like": 7.76,
           "grnd_level": 1013,
           "humidity": 53,
           "pressure": 1019,
           "sea_level": 1019,
           "temp": 9.08,
           "temp_kf": 0,
           "temp_max": 9.08,
           "temp_min": 9.08
          },
          "pop": 0,
          "sys": {
           "pod": "n"
          },
          "visibility": 10000,
          "weather": [
           {
            "description": "scattered clouds",
            "icon": "03n",
            "id": 802,
            "main": "Clouds"
           }
          ],
          "wind": {
           "deg": 326,
           "gust": 2.63,
           "speed": 2.46
          }
         },
         {
          "clouds": {
           "all": 38
          },
          "dt": 1638856800,
          "dt_txt": "2021-12-07 06:00:00",
          "main": {
           "feels_like": 8.05,
           "grnd_level": 1013,
           "humidity": 53,
           "pressure": 1019,
           "sea_level": 1019,
           "temp": 8.78,
           "temp_kf": 0,
           "temp_max": 8.78,
           "temp_min": 8.78
          },
          "pop": 0,
          "sys": {
           "pod": "n"
          },
          "visibility": 10000,
          "weather": [
           {
            "description": "scattered clouds",
            "icon": "03n",
            "id": 802,
            "main": "Clouds"
           }
          ],
          "wind": {
           "deg": 343,
           "gust": 1.67,
           "speed": 1.7
          }
         },
         {
          "clouds": {
           "all": 95
          },
          "dt": 1638867600,
          "dt_txt": "2021-12-07 09:00:00",
          "main": {
           "feels_like": 8.92,
           "grnd_level": 1013,
           "humidity": 54,
           "pressure": 1019,
           "sea_level": 1019,
           "temp": 9.65,
           "temp_kf": 0,
           "temp_max": 9.65,
           "temp_min": 9.65
          },
          "pop": 0,
          "sys": {
           "pod": "d"
          },
          "visibility": 10000,
          "weather": [
           {
            "description": "overcast clouds",
            "icon": "04d",
            "id": 804,
            "main": "Clouds"
           }
          ],
          "wind": {
           "deg": 306,
           "gust": 2.1,
           "speed": 1.84
          }
         },
         {
          "clouds": {
           "all": 82
          },
          "dt": 1638878400,
          "dt_txt": "2021-12-07 12:00:00",
          "main": {
           "feels_like": 11.65,
           "grnd_level": 1010,
           "humidity": 58,
           "pressure": 1015,
           "sea_level": 1015,
           "temp": 12.8,
           "temp_kf": 0,
           "temp_max": 12.8,
           "temp_min": 12.8
          },
          "pop": 0,
          "sys": {
           "pod": "d"
          },
          "visibility": 10000,
          "weather": [
           {
            "description": "broken clouds",
            "icon": "04d",
            "id": 803,
            "main": "Clouds"
           }
          ],
          "wind": {
           "deg": 256,
           "gust": 6.53,
           "speed": 3.56
          }
         },
         {
          "clouds": {
           "all": 51
          },
          "dt": 1638889200,
          "dt_txt": "2021-12-07 15:00:00",
          "main": {
           "feels_like": 13.86,
           "grnd_level": 1006,
           "humidity": 68,
           "pressure": 1012,
           "sea_level": 1012,
           "temp": 14.57,
           "temp_kf": 0,
           "temp_max": 14.57,
           "temp_min": 14.57
          },
          "pop": 0,
          "sys": {
           "pod": "d"
          },
          "visibility": 10000,
          "weather": [
           {
            "description": "broken clouds",
            "icon": "04d",
            "id": 803,
            "main": "Clouds"
           }
          ],
          "wind": {
           "deg": 255,
           "gust": 9.91,
           "speed": 5.5
          }
         },
         {
          "clouds": {
           "all": 71
          },
          "dt": 1638900000,
          "dt_txt": "2021-12-07 18:00:00",
          "main": {
           "feels_like": 12.93,
           "grnd_level": 1005,
           "humidity": 73,
           "pressure": 1010,
           "sea_level": 1010,
           "temp": 13.61,
           "temp_kf": 0,
           "temp_max": 13.61,
           "temp_min": 13.61
          },
          "pop": 0,
          "sys": {
           "pod": "n"
          },
          "visibility": 10000,
          "weather": [
           {
            "description": "broken clouds",
            "icon": "04n",
            "id": 803,
            "main": "Clouds"
           }
          ],
          "wind": {
           "deg": 264,
           "gust": 11.45,
           "speed": 4.71
          }
         },
         {
          "clouds": {
           "all": 66
          },
          "dt": 1638910800,
          "dt_txt": "2021-12-07 21:00:00",
          "main": {
           "feels_like": 13.11,
           "grnd_level": 1004,
           "humidity": 71,
           "pressure": 1009,
           "sea_level": 1009,
           "temp": 13.82,
           "temp_kf": 0,
           "temp_max": 13.82,
           "temp_min": 13.82
          },
          "pop": 0,
          "sys": {
           "pod": "n"
          },
          "visibility": 10000,
          "weather": [
           {
            "description": "broken clouds",
            "icon": "04n",
            "id": 803,
            "main": "Clouds"
           }
          ],
          "wind": {
           "deg": 274,
           "gust": 15.04,
           "speed": 6.88
          }
         },
         {
          "clouds": {
           "all": 72
          },
          "dt": 1638921600,
          "dt_txt": "2021-12-08 00:00:00",
          "main": {
           "feels_like": 13.21,
           "grnd_level": 1001,
           "humidity": 72,
           "pressure": 1007,
           "sea_level": 1007,
           "temp": 13.89,
           "temp_kf": 0,
           "temp_max": 13.89,
           "temp_min": 13.89
          },
          "pop": 0,
          "sys": {
           "pod": "n"
          },
          "visibility": 10000,
          "weather": [
           {
            "description": "broken clouds",
            "icon": "04n",
            "id": 803,
            "main": "Clouds"
           }
          ],
          "wind": {
           "deg": 261,
           "gust": 13.43,
           "speed": 6.87
          }
         },
         {
          "clouds": {
           "all": 57
          },
          "dt": 1638932400,
          "dt_txt": "2021-12-08 03:00:00",
          "main": {
           "feels_like": 13.76,
           "grnd_level": 1000,
           "humidity": 62,
           "pressure": 1005,
           "sea_level": 1005,
           "temp": 14.62,
           "temp_kf": 0,
           "temp_max": 14.62,
           "temp_min": 14.62
          },
          "pop": 0,
          "sys": {
           "pod": "n"
          },
          "visibility": 10000,
          "weather": [
           {
            "description": "broken clouds",
            "icon": "04n",
            "id": 803,
            "main": "Clouds"
           }
          ],
          "wind": {
           "deg": 271,
           "gust": 17.9,
           "speed": 10.76
          }
         },
         {
          "clouds": {
           "all": 30
          },
          "dt": 1638943200,
          "dt_txt": "2021-12-08 06:00:00",
          "main": {
           "feels_like": 10.58,
           "grnd_level": 1001,
           "humidity": 42,
           "pressure": 1007,
           "sea_level": 1007,
           "temp": 12.21,
           "temp_kf": 0,
           "temp_max": 12.21,
           "temp_min": 12.21
          },
          "pop": 0,
          "sys": {
           "pod": "n"
          },
          "visibility": 10000,
          "weather": [
           {
            "description": "scattered clouds",
            "icon": "03n",
            "id": 802,
            "main": "Clouds"
           }
          ],
          "wind": {
           "deg": 277,
           "gust": 17.39,
           "speed": 10.54
          }
         },
         {
          "clouds": {
           "all": 65
          },
          "dt": 1638954000,
          "dt_txt": "2021-12-08 09:00:00",
          "main": {
           "feels_like": 9.71,
           "grnd_level": 1003,
           "humidity": 47,
           "pressure": 1008,
           "sea_level": 1008,
           "temp": 11.3,
           "temp_kf": 0,
           "temp_max": 11.3,
           "temp_min": 11.3
          },
          "pop": 0,
          "sys": {
           "pod": "d"
          },
          "visibility": 10000,
          "weather": [
           {
            "description": "broken clouds",
            "icon": "04d",
            "id": 803,
            "main": "Clouds"
           }
          ],
          "wind": {
           "deg": 283,
           "gust": 14.17,
           "speed": 9.01
          }
         },
         {
          "clouds": {
           "all": 80
          },
          "dt": 1638964800,
          "dt_txt": "2021-12-08 12:00:00",
          "main": {
           "feels_like": 11.41,
           "grnd_level": 1001,
           "humidity": 46,
           "pressure": 1007,
           "sea_level": 1007,
           "temp": 12.87,
           "temp_kf": 0,
           "temp_max": 12.87,
           "temp_min": 12.87
          },
          "pop": 0,
          "sys": {
           "pod": "d"
          },
          "visibility": 10000,
          "weather": [
           {
            "description": "broken clouds",
            "icon": "04d",
            "id": 803,
            "main": "Clouds"
           }
          ],
          "wind": {
           "deg": 270,
           "gust": 11.75,
           "speed": 9.42
          }
         },
         {
          "clouds": {
           "all": 77
          },
          "dt": 1638975600,
          "dt_txt": "2021-12-08 15:00:00",
          "main": {
           "feels_like": 11.16,
           "grnd_level": 1000,
           "humidity": 39,
           "pressure": 1005,
           "sea_level": 1005,
           "temp": 12.81,
           "temp_kf": 0,
           "temp_max": 12.81,
           "temp_min": 12.81
          },
          "pop": 0,
          "sys": {
           "pod": "d"
          },
          "visibility": 10000,
          "weather": [
           {
            "description": "broken clouds",
            "icon": "04d",
            "id": 803,
            "main": "Clouds"
           }
          ],
          "wind": {
           "deg": 279,
           "gust": 11.75,
           "speed": 8.92
          }
         },
         {
          "clouds": {
           "all": 80
          },
          "dt": 1638986400,
          "dt_txt": "2021-12-08 18:00:00",
          "main": {
           "feels_like": 9.29,
           "grnd_level": 1000,
           "humidity": 43,
           "pressure": 1006,
           "sea_level": 1006,
           "temp": 11.01,
           "temp_kf": 0,
           "temp_max": 11.01,
           "temp_min": 11.01
          },
          "pop": 0.01,
          "sys": {
           "pod": "n"
          },
          "visibility": 10000,
          "weather": [
           {
            "description": "broken clouds",
            "icon": "04n",
            "id": 803,
            "main": "Clouds"
           }
          ],
          "wind": {
           "deg": 289,
           "gust": 10.28,
           "speed": 6.5
          }
         },
         {
          "clouds": {
           "all": 28
          },
          "dt": 1638997200,
          "dt_txt": "2021-12-08 21:00:00",
          "main": {
           "feels_like": 7.1,
           "grnd_level": 1002,
           "humidity": 49,
           "pressure": 1007,
           "sea_level": 1007,
           "temp": 9.4,
           "temp_kf": 0,
           "temp_max": 9.4,
           "temp_min": 9.4
          },
          "pop": 0.05,
          "sys": {
           "pod": "n"
          },
          "visibility": 10000,
          "weather": [
           {
            "description": "scattered clouds",
            "icon": "03n",
            "id": 802,
            "main": "Clouds"
           }
          ],
          "wind": {
           "deg": 326,
           "gust": 6.01,
           "speed": 4.37
          }
         },
         {
          "clouds": {
           "all": 23
          },
          "dt": 1639008000,
          "dt_txt": "2021-12-09 00:00:00",
          "main": {
           "feels_like": 6.44,
           "grnd_level": 1004,
           "humidity": 56,
           "pressure": 1009,
           "sea_level": 1009,
           "temp": 8.31,
           "temp_kf": 0,
           "temp_max": 8.31,
           "temp_min": 8.31
          },
          "pop": 0.05,
          "sys": {
           "pod": "n"
          },
          "visibility": 10000,
          "weather": [
           {
            "description": "few clouds",
            "icon": "02n",
            "id": 801,
            "main": "Clouds"
           }
          ],
          "wind": {
           "deg": 311,
           "gust": 4.1,
           "speed": 3.07
          }
         },
         {
          "clouds": {
           "all": 15
          },
          "dt": 1639018800,
          "dt_txt": "2021-12-09 03:00:00",
          "main": {
           "feels_like": 4.34,
           "grnd_level": 1004,
           "humidity": 59,
           "pressure": 1009,
           "sea_level": 1009,
           "temp": 7.1,
           "temp_kf": 0,
           "temp_max": 7.1,
           "temp_min": 7.1
          },
          "pop": 0,
          "sys": {
           "pod": "n"
          },
          "visibility": 10000,
          "weather": [
           {
            "description": "few clouds",
            "icon": "02n",
            "id": 801,
            "main": "Clouds"
           }
          ],
          "wind": {
           "deg": 306,
           "gust": 6.35,
           "speed": 4.2
          }
         },
         {
          "clouds": {
           "all": 46
          },
          "dt": 1639029600,
          "dt_txt": "2021-12-09 06:00:00",
          "main": {
           "feels_like": 3.56,
           "grnd_level": 1003,
           "humidity": 62,
           "pressure": 1009,
           "sea_level": 1009,
           "temp": 7.07,
           "temp_kf": 0,
           "temp_max": 7.07,
           "temp_min": 7.07
          },
          "pop": 0,
          "sys": {
           "pod": "n"
          },
          "visibility": 10000,
          "weather": [
           {
            "description": "scattered clouds",
            "icon": "03n",
            "id": 802,
            "main": "Clouds"
           }
          ],
          "wind": {
           "deg": 291,
           "gust": 12.2,
           "speed": 5.9
          }
         },
         {
          "clouds": {
           "all": 93
          },
          "dt": 1639040400,
          "dt_txt": "2021-12-09 09:00:00",
          "main": {
           "feels_like": 5.18,
           "grnd_level": 1003,
           "humidity": 54,
           "pressure": 1008,
           "sea_level": 1008,
           "temp": 8.59,
           "temp_kf": 0,
           "temp_max": 8.59,
           "temp_min": 8.59
          },
          "pop": 0,
          "sys": {
           "pod": "d"
          },
          "visibility": 10000,
          "weather": [
           {
            "description": "overcast clouds",
            "icon": "04d",
            "id": 804,
            "main": "Clouds"
           }
          ],
          "wind": {
           "deg": 279,
           "gust": 12.5,
           "speed": 6.82
          }
         },
         {
          "clouds": {
           "all": 84
          },
          "dt": 1639051200,
          "dt_txt": "2021-12-09 12:00:00",
          "main": {
           "feels_like": 8.62,
           "grnd_level": 1001,
           "humidity": 56,
           "pressure": 1006,
           "sea_level": 1006,
           "temp": 10.09,
           "temp_kf": 0,
           "temp_max": 10.09,
           "temp_min": 10.09
          },
          "pop": 0,
          "sys": {
           "pod": "d"
          },
          "visibility": 10000,
          "weather": [
           {
            "description": "broken clouds",
            "icon": "04d",
            "id": 803,
            "main": "Clouds"
           }
          ],
          "wind": {
           "deg": 289,
           "gust": 11.66,
           "speed": 8.69
          }
         },
         {
          "clouds": {
           "all": 8
          },
          "dt": 1639062000,
          "dt_txt": "2021-12-09 15:00:00",
          "main": {
           "feels_like": 9.14,
           "grnd_level": 999,
           "humidity": 55,
           "pressure": 1005,
           "sea_level": 1005,
           "temp": 10.59,
           "temp_kf": 0,
           "temp_max": 10.59,
           "temp_min": 10.59
          },
          "pop": 0,
          "sys": {
           "pod": "d"
          },
          "visibility": 10000,
          "weather": [
           {
            "description": "clear sky",
            "icon": "01d",
            "id": 800,
            "main": "Clear"
           }
          ],
          "wind": {
           "deg": 308,
           "gust": 9.2,
           "speed": 6.21
          }
         },
         {
          "clouds": {
           "all": 14
          },
          "dt": 1639072800,
          "dt_txt": "2021-12-09 18:00:00",
          "main": {
           "feels_like": 6.3,
           "grnd_level": 1000,
           "humidity": 65,
           "pressure": 1005,
           "sea_level": 1005,
           "temp": 9.63,
           "temp_kf": 0,
           "temp_max": 9.63,
           "temp_min": 9.63
          },
          "pop": 0,
          "sys": {
           "pod": "n"
          },
          "visibility": 10000,
          "weather": [
           {
            "description": "few clouds",
            "icon": "02n",
            "id": 801,
            "main": "Clouds"
           }
          ],
          "wind": {
           "deg": 314,
           "gust": 12.83,
           "speed": 7.57
          }
         },
         {
          "clouds": {
           "all": 24
          },
          "dt": 1639083600,
          "dt_txt": "2021-12-09 21:00:00",
          "main": {
           "feels_like": 6.31,
           "grnd_level": 1001,
           "humidity": 66,
           "pressure": 1006,
           "sea_level": 1006,
           "temp": 9.15,
           "temp_kf": 0,
           "temp_max": 9.15,
           "temp_min": 9.15
          },
          "pop": 0,
          "sys": {
           "pod": "n"
          },
          "visibility": 10000,
          "weather": [
           {
            "description": "few clouds",
            "icon": "02n",
            "id": 801,
            "main": "Clouds"
           }
          ],
          "wind": {
           "deg": 325,
           "gust": 9.73,
           "speed": 5.59
          }
         },
         {
          "clouds": {
           "all": 61
          },
          "dt": 1639094400,
          "dt_txt": "2021-12-10 00:00:00",
          "main": {
           "feels_like": 6.71,
           "grnd_level": 1001,
           "humidity": 66,
           "pressure": 1006,
           "sea_level": 1006,
           "temp": 8.35,
           "temp_kf": 0,
           "temp_max": 8.35,
           "temp_min": 8.35
          },
          "pop": 0,
          "sys": {
           "pod": "n"
          },
          "visibility": 10000,
          "weather": [
           {
            "description": "broken clouds",
            "icon": "04n",
            "id": 803,
            "main": "Clouds"
           }
          ],
          "wind": {
           "deg": 359,
           "gust": 4.98,
           "speed": 2.72
          }
         },
         {
          "clouds": {
           "all": 99
          },
          "dt": 1639105200,
          "dt_txt": "2021-12-10 03:00:00",
          "main": {
           "feels_like": 6.76,
           "grnd_level": 1001,
           "humidity": 68,
           "pressure": 1007,
           "sea_level": 1007,
           "temp": 7.94,
           "temp_kf": 0,
           "temp_max": 7.94,
           "temp_min": 7.94
          },
          "pop": 0,
          "sys": {
           "pod": "n"
          },
          "visibility": 10000,
          "weather": [
           {
            "description": "overcast clouds",
            "icon": "04n",
            "id": 804,
            "main": "Clouds"
           }
          ],
          "wind": {
           "deg": 299,
           "gust": 2.83,
           "speed": 2.04
          }
         },
         {
          "clouds": {
           "all": 98
          },
          "dt": 1639116000,
          "dt_txt": "2021-12-10 06:00:00",
          "main": {
           "feels_like": 5.98,
           "grnd_level": 1000,
           "humidity": 67,
           "pressure": 1006,
           "sea_level": 1006,
           "temp": 7.61,
           "temp_kf": 0,
           "temp_max": 7.61,
           "temp_min": 7.61
          },
          "pop": 0,
          "sys": {
           "pod": "n"
          },
          "visibility": 10000,
          "weather": [
           {
            "description": "overcast clouds",
            "icon": "04n",
            "id": 804,
            "main": "Clouds"
           }
          ],
          "wind": {
           "deg": 307,
           "gust": 2.97,
           "speed": 2.52
          }
         },
         {
          "clouds": {
           "all": 38
          },
          "dt": 1639126800,
          "dt_txt": "2021-12-10 09:00:00",
          "main": {
           "feels_like": 5.74,
           "grnd_level": 1000,
           "humidity": 63,
           "pressure": 1005,
           "sea_level": 1005,
           "temp": 7.74,
           "temp_kf": 0,
           "temp_max": 7.74,
           "temp_min": 7.74
          },
          "pop": 0,
          "sys": {
           "pod": "d"
          },
          "visibility": 10000,
          "weather": [
           {
            "description": "scattered clouds",
            "icon": "03d",
            "id": 802,
            "main": "Clouds"
           }
          ],
          "wind": {
           "deg": 304,
           "gust": 4.07,
           "speed": 3.09
          }
         },
         {
          "clouds": {
           "all": 69
          },
          "dt": 1639137600,
          "dt_txt": "2021-12-10 12:00:00",
          "main": {
           "feels_like": 8.75,
           "grnd_level": 999,
           "humidity": 51,
           "pressure": 1004,
           "sea_level": 1004,
           "temp": 9.95,
           "temp_kf": 0,
           "temp_max": 9.95,
           "temp_min": 9.95
          },
          "pop": 0,
          "sys": {
           "pod": "d"
          },
          "visibility": 10000,
          "weather": [
           {
            "description": "broken clouds",
            "icon": "04d",
            "id": 803,
            "main": "Clouds"
           }
          ],
          "wind": {
           "deg": 336,
           "gust": 4.23,
           "speed": 2.52
          }
         }
        ],
        "message": 0
       },
       {
        "city": {
         "coord": {
          "lat": 48.1374,
          "lon": 11.5755
         },
         "country": "DE",
         "id": 2867714,
         "name": "Munich",
         "population": 1260391,
         "sunrise": 1638686878,
         "sunset": 1638717664,
         "timezone": 3600
        },
        "cnt": 40,
        "cod": "200",
        "list": [
         {
          "clouds": {
           "all": 99
          },
          "dt": 1638716400,
          "dt_txt": "2021-12-05 15:00:00",
          "main": {
           "feels_like": 2.76,
           "grnd_level": 944,
           "humidity": 82,
           "pressure": 1006,
           "sea_level": 1006,
           "temp": 2.76,
           "temp_kf": 1.5,
           "temp_max": 2.76,
           "temp_min": 1.26
          },
          "pop": 0.47,
          "snow": {
           "3h": 0.24
          },
          "sys": {
           "pod": "d"
          },
          "visibility": 10000,
          "weather": [
           {
            "description": "light snow",
            "icon": "13d",
            "id": 600,
            "main": "Snow"
           }
          ],
          "wind": {
           "deg": 280,
           "gust": 0.27,
           "speed": 0.19
          }
         },
         {
          "clouds": {
           "all": 99
          },
          "dt": 1638727200,
          "dt_txt": "2021-12-05 18:00:00",
          "main": {
           "feels_like": 0.94,
           "grnd_level": 945,
           "humidity": 88,
           "pressure": 1007,
           "sea_level": 1007,
           "temp": 0.94,
           "temp_kf": 1.28,
           "temp_max": 0.94,
           "temp_min": -0.34
          },
          "pop": 0.46,
          "snow": {
           "3h": 0.26
          },
          "sys": {
           "pod": "n"
          },
          "visibility": 10000,
          "weather": [
           {
            "description": "light snow",
            "icon": "13n",
            "id": 600,
            "main": "Snow"
           }
          ],
          "wind": {
           "deg": 188,
           "gust": 0.95,
           "speed": 0.97
          }
         },
         {
          "clouds": {
           "all": 96
          },
          "dt": 1638738000,
          "dt_txt": "2021-12-05 21:00:00",
          "main": {
           "feels_like": -1.73,
           "grnd_level": 946,
           "humidity": 93,
           "pressure": 1010,
           "sea_level": 1010,
           "temp": -1.73,
           "temp_kf": 0,
           "temp_max": -1.73,
           "temp_min": -1.73
          },
          "pop": 0,
          "sys": {
           "pod": "n"
          },
          "visibility": 10000,
          "weather": [
           {
            "description": "overcast clouds",
            "icon": "04n",
            "id": 804,
            "main": "Clouds"
           }
          ],
          "wind": {
           "deg": 202,
           "gust": 0.87,
           "speed": 0.83
          }
         },
         {
          "clouds": {
           "all": 95
          },
          "dt": 1638748800,
          "dt_txt": "2021-12-06 00:00:00",
          "main": {
           "feels_like": -4.17,
           "grnd_level": 947,
           "humidity": 93,
           "pressure": 1012,
           "sea_level": 1012,
           "temp": -2.29,
           "temp_kf": 0,
           "temp_max": -2.29,
           "temp_min": -2.29
          },
          "pop": 0,
          "sys": {
           "pod": "n"
          },
          "visibility": 10000,
          "weather": [
           {
            "description": "overcast clouds",
            "icon": "04n",
            "id": 804,
            "main": "Clouds"
           }
          ],
          "wind": {
           "deg": 231,
           "gust": 1.45,
           "speed": 1.39
          }
         },
         {
          "clouds": {
           "all": 62
          },
          "dt": 1638759600,
          "dt_txt": "2021-12-06 03:00:00",
          "main": {
           "feels_like": -5.57,
           "grnd_level": 948,
           "humidity": 94,
           "pressure": 1013,
           "sea_level": 1013,
           "temp": -2.84,
           "temp_kf": 0,
           "temp_max": -2.84,
           "temp_min": -2.84
          },
          "pop": 0,
          "sys": {
           "pod": "n"
          },
          "visibility": 10000,
          "weather": [
           {
            "description": "broken clouds",
            "icon": "04n",
            "id": 803,
            "main": "Clouds"
           }
          ],
          "wind": {
           "deg": 244,
           "gust": 3.28,
           "speed": 1.86
          }
         },
         {
          "clouds": {
           "all": 79
          },
          "dt": 1638770400,
          "dt_txt": "2021-12-06 06:00:00",
          "main": {
           "feels_like": -3.76,
           "grnd_level": 951,
           "humidity": 97,
           "pressure": 1015,
           "sea_level": 1015,
           "temp": -1.85,
           "temp_kf": 0,
           "temp_max": -1.85,
           "temp_min": -1.85
          },
          "pop": 0.36,
          "snow": {
           "3h": 0.39
          },
          "sys": {
           "pod": "n"
          },
          "visibility": 275,
          "weather": [
           {
            "description": "light snow",
            "icon": "13n",
            "id": 600,
            "main": "Snow"
           }
          ],
          "wind": {
           "deg": 246,
           "gust": 3.12,
           "speed": 1.44
          }
         },
         {
          "clouds": {
           "all": 98
          },
          "dt": 1638781200,
          "dt_txt": "2021-12-06 09:00:00",
          "main": {
           "feels_like": -1.89,
           "grnd_level": 953,
           "humidity": 93,
           "pressure": 1017,
           "sea_level": 1017,
           "temp": 0.14,
           "temp_kf": 0,
           "temp_max": 0.14,
           "temp_min": 0.14
          },
          "pop": 0.47,
          "snow": {
           "3h": 0.54
          },
          "sys": {
           "pod": "d"
          },
          "visibility": 10000,
          "weather": [
           {
            "description": "light snow",
            "icon": "13d",
            "id": 600,
            "main": "Snow"
           }
          ],
          "wind": {
           "deg": 275,
           "gust": 2.87,
           "speed": 1.7
          }
         },
         {
          "clouds": {
           "all": 96
          },
          "dt": 1638792000,
          "dt_txt": "2021-12-06 12:00:00",
          "main": {
           "feels_like": -1.42,
           "grnd_level": 953,
           "humidity": 81,
           "pressure": 1017,
           "sea_level": 1017,
           "temp": 1.65,
           "temp_kf": 0,
           "temp_max": 1.65,
           "temp_min": 1.65
          },
          "pop": 0.35,
          "snow": {
           "3h": 0.11
          },
          "sys": {
           "pod": "d"
          },
          "visibility": 10000,
          "weather": [
           {
            "description": "light snow",
            "icon": "13d",
            "id": 600,
            "main": "Snow"
           }
          ],
          "wind": {
           "deg": 270,
           "gust": 4.34,
           "speed": 2.88
          }
         },
         {
          "clouds": {
           "all": 94
          },
          "dt": 1638802800,
          "dt_txt": "2021-12-06 15:00:00",
          "main": {
           "feels_like": -2.12,
           "grnd_level": 953,
           "humidity": 76,
           "pressure": 1017,
           "sea_level": 1017,
           "temp": 1.13,
           "temp_kf": 0,
           "temp_max": 1.13,
           "temp_min": 1.13
          },
          "pop": 0.01,
          "sys": {
           "pod": "d"
          },
          "visibility": 10000,
          "weather": [
           {
            "description": "overcast clouds",
            "icon": "04d",
            "id": 804,
            "main": "Clouds"
           }
          ],
          "wind": {
           "deg": 263,
           "gust": 4.56,
           "speed": 2.97
          }
         },
         {
          "clouds": {
           "all": 97
          },
          "dt": 1638813600,
          "dt_txt": "2021-12-06 18:00:00",
          "main": {
           "feels_like": -3.41,
           "grnd_level": 953,
           "humidity": 84,
           "pressure": 1018,
           "sea_level": 1018,
           "temp": -0.22,
           "temp_kf": 0,
           "temp_max": -0.22,
           "temp_min": -0.22
          },
          "pop": 0,
          "sys": {
           "pod": "n"
          },
          "visibility": 10000,
          "weather": [
           {
            "description": "overcast clouds",
            "icon": "04n",
            "id": 804,
            "main": "Clouds"
           }
          ],
          "wind": {
           "deg": 251,
           "gust": 6.29,
           "speed": 2.62
          }
         },
         {
          "clouds": {
           "all": 87
          },
          "dt": 1638824400,
          "dt_txt": "2021-12-06 21:00:00",
          "main": {
           "feels_like": -5.1,
           "grnd_level": 952,
           "humidity": 90,
           "pressure": 1017,
           "sea_level": 1017,
           "temp": -2.18,
           "temp_kf": 0,
           "temp_max": -2.18,
           "temp_min": -2.18
          },
          "pop": 0,
          "sys": {
           "pod": "n"
          },
          "visibility": 10000,
          "weather": [
           {
            "description": "overcast clouds",
            "icon": "04n",
            "id": 804,
            "main": "Clouds"
           }
          ],
          "wind": {
           "deg": 224,
           "gust": 5.15,
           "speed": 2.08
          }
         },
         {
          "clouds": {
           "all": 94
          },
          "dt": 1638835200,
          "dt_txt": "2021-12-07 00:00:00",
          "main": {
           "feels_like": -5.67,
           "grnd_level": 950,
           "humidity": 88,
           "pressure": 1015,
           "sea_level": 1015,
           "temp": -2.31,
           "temp_kf": 0,
           "temp_max": -2.31,
           "temp_min": -2.31
          },
          "pop": 0,
          "sys": {
           "pod": "n"
          },
          "visibility": 10000,
          "weather": [
           {
            "description": "overcast clouds",
            "icon": "04n",
            "id": 804,
            "main": "Clouds"
           }
          ],
          "wind": {
           "deg": 191,
           "gust": 5.11,
           "speed": 2.42
          }
         },
         {
          "clouds": {
           "all": 100
          },
          "dt": 1638846000,
          "dt_txt": "2021-12-07 03:00:00",
          "main": {
           "feels_like": -7.23,
           "grnd_level": 950,
           "humidity": 92,
           "pressure": 1014,
           "sea_level": 1014,
           "temp": -2.29,
           "temp_kf": 0,
           "temp_max": -2.29,
           "temp_min": -2.29
          },
          "pop": 0.36,
          "snow": {
           "3h": 0.37
          },
          "sys": {
           "pod": "n"
          },
          "visibility": 368,
          "weather": [
           {
            "description": "light snow",
            "icon": "13n",
            "id": 600,
            "main": "Snow"
           }
          ],
          "wind": {
           "deg": 220,
           "gust": 13.53,
           "speed": 4.18
          }
         },
         {
          "clouds": {
           "all": 100
          },
          "dt": 1638856800,
          "dt_txt": "2021-12-07 06:00:00",
          "main": {
           "feels_like": -5.5,
           "grnd_level": 951,
           "humidity": 87,
           "pressure": 1015,
           "sea_level": 1015,
           "temp": 0.57,
           "temp_kf": 0,
           "temp_max": 0.57,
           "temp_min": 0.57
          },
          "pop": 0.99,
          "snow": {
           "3h": 1.92
          },
          "sys": {
           "pod": "n"
          },
          "visibility": 10000,
          "weather": [
           {
            "description": "snow",
            "icon": "13n",
            "id": 601,
            "main": "Snow"
           }
          ],
          "wind": {
           "deg": 258,
           "gust": 14.08,
           "speed": 7.77
          }
         },
         {
          "clouds": {
           "all": 94
          },
          "dt": 1638867600,
          "dt_txt": "2021-12-07 09:00:00",
          "main": {
           "feels_like": -4.29,
           "grnd_level": 952,
           "humidity": 84,
           "pressure": 1016,
           "sea_level": 1016,
           "temp": 0.99,
           "temp_kf": 0,
           "temp_max": 0.99,
           "temp_min": 0.99
          },
          "pop": 0,
          "sys": {
           "pod": "d"
          },
          "visibility": 10000,
          "weather": [
           {
            "description": "overcast clouds",
            "icon": "04d",
            "id": 804,
            "main": "Clouds"
           }
          ],
          "wind": {
           "deg": 251,
           "gust": 11.56,
           "speed": 6.21
          }
         },
         {
          "clouds": {
           "all": 73
          },
          "dt": 1638878400,
          "dt_txt": "2021-12-07 12:00:00",
          "main": {
           "feels_like": -1.86,
           "grnd_level": 952,
           "humidity": 81,
           "pressure": 1015,
           "sea_level": 1015,
           "temp": 2.29,
           "temp_kf": 0,
           "temp_max": 2.29,
           "temp_min": 2.29
          },
          "pop": 0,
          "sys": {
           "pod": "d"
          },
          "visibility": 10000,
          "weather": [
           {
            "description": "broken clouds",
            "icon": "04d",
            "id": 803,
            "main": "Clouds"
           }
          ],
          "wind": {
           "deg": 266,
           "gust": 8.88,
           "speed": 4.65
          }
         },
         {
          "clouds": {
           "all": 12
          },
          "dt": 1638889200,
          "dt_txt": "2021-12-07 15:00:00",
          "main": {
           "feels_like": -0.69,
           "grnd_level": 951,
           "humidity": 92,
           "pressure": 1015,
           "sea_level": 1015,
           "temp": -0.69,
           "temp_kf": 0,
           "temp_max": -0.69,
           "temp_min": -0.69
          },
          "pop": 0,
          "sys": {
           "pod": "d"
          },
          "visibility": 10000,
          "weather": [
           {
            "description": "few clouds",
            "icon": "02d",
            "id": 801,
            "main": "Clouds"
           }
          ],
          "wind": {
           "deg": 230,
           "gust": 0.99,
           "speed": 0.98
          }
         },
         {
          "clouds": {
           "all": 10
          },
          "dt": 1638900000,
          "dt_txt": "2021-12-07 18:00:00",
          "main": {
           "feels_like": -5.74,
           "grnd_level": 948,
           "humidity": 94,
           "pressure": 1013,
           "sea_level": 1013,
           "temp": -2.5,
           "temp_kf": 0,
           "temp_max": -2.5,
           "temp_min": -2.5
          },
          "pop": 0,
          "sys": {
           "pod": "n"
          },
          "visibility": 10000,
          "weather": [
           {
            "description": "clear sky",
            "icon": "01n",
            "id": 800,
            "main": "Clear"
           }
          ],
          "wind": {
           "deg": 130,
           "gust": 4.42,
           "speed": 2.29
          }
         },
         {
          "clouds": {
           "all": 17
          },
          "dt": 1638910800,
          "dt_txt": "2021-12-07 21:00:00",
          "main": {
           "feels_like": -8.22,
           "grnd_level": 945,
           "humidity": 88,
           "pressure": 1009,
           "sea_level": 1009,
           "temp": -3.53,
           "temp_kf": 0,
           "temp_max": -3.53,
           "temp_min": -3.53
          },
          "pop": 0,
          "sys": {
           "pod": "n"
          },
          "visibility": 10000,
          "weather": [
           {
            "description": "few clouds",
            "icon": "02n",
            "id": 801,
            "main": "Clouds"
           }
          ],
          "wind": {
           "deg": 112,
           "gust": 9.29,
           "speed": 3.51
          }
         },
         {
          "clouds": {
           "all": 56
          },
          "dt": 1638921600,
          "dt_txt": "2021-12-08 00:00:00",
          "main": {
           "feels_like": -8.8,
           "grnd_level": 942,
           "humidity": 80,
           "pressure": 1006,
           "sea_level": 1006,
           "temp": -4.3,
           "temp_kf": 0,
           "temp_max": -4.3,
           "temp_min": -4.3
          },
          "pop": 0,
          "sys": {
           "pod": "n"
          },
          "visibility": 10000,
          "weather": [
           {
            "description": "broken clouds",
            "icon": "04n",
            "id": 803,
            "main": "Clouds"
           }
          ],
          "wind": {
           "deg": 112,
           "gust": 7.65,
           "speed": 3.13
          }
         },
         {
          "clouds": {
           "all": 100
          },
          "dt": 1638932400,
          "dt_txt": "2021-12-08 03:00:00",
          "main": {
           "feels_like": -4.75,
           "grnd_level": 941,
           "humidity": 73,
           "pressure": 1005,
           "sea_level": 1005,
           "temp": -2.63,
           "temp_kf": 0,
           "temp_max": -2.63,
           "temp_min": -2.63
          },
          "pop": 0,
          "sys": {
           "pod": "n"
          },
          "visibility": 10000,
          "weather": [
           {
            "description": "overcast clouds",
            "icon": "04n",
            "id": 804,
            "main": "Clouds"
           }
          ],
          "wind": {
           "deg": 148,
           "gust": 2.83,
           "speed": 1.5
          }
         },
         {
          "clouds": {
           "all": 100
          },
          "dt": 1638943200,
          "dt_txt": "2021-12-08 06:00:00",
          "main": {
           "feels_like": -4.82,
           "grnd_level": 939,
           "humidity": 78,
           "pressure": 1002,
           "sea_level": 1002,
           "temp": -2.35,
           "temp_kf": 0,
           "temp_max": -2.35,
           "temp_min": -2.35
          },
          "pop": 0,
          "sys": {
           "pod": "n"
          },
          "visibility": 10000,
          "weather": [
           {
            "description": "overcast clouds",
            "icon": "04n",
            "id": 804,
            "main": "Clouds"
           }
          ],
          "wind": {
           "deg": 106,
           "gust": 2.57,
           "speed": 1.74
          }
         },
         {
          "clouds": {
           "all": 100
          },
          "dt": 1638954000,
          "dt_txt": "2021-12-08 09:00:00",
          "main": {
           "feels_like": -3.53,
           "grnd_level": 937,
           "humidity": 74,
           "pressure": 1000,
           "sea_level": 1000,
           "temp": -1.08,
           "temp_kf": 0,
           "temp_max": -1.08,
           "temp_min": -1.08
          },
          "pop": 0.27,
          "snow": {
           "3h": 0.1
          },
          "sys": {
           "pod": "d"
          },
          "visibility": 10000,
          "weather": [
           {
            "description": "light snow",
            "icon": "13d",
            "id": 600,
            "main": "Snow"
           }
          ],
          "wind": {
           "deg": 90,
           "gust": 3.27,
           "speed": 1.86
          }
         },
         {
          "clouds": {
           "all": 81
          },
          "dt": 1638964800,
          "dt_txt": "2021-12-08 12:00:00",
          "main": {
           "feels_like": -0.83,
           "grnd_level": 935,
           "humidity": 68,
           "pressure": 998,
           "sea_level": 998,
           "temp": 0.61,
           "temp_kf": 0,
           "temp_max": 0.61,
           "temp_min": 0.61
          },
          "pop": 0,
          "sys": {
           "pod": "d"
          },
          "visibility": 10000,
          "weather": [
           {
            "description": "broken clouds",
            "icon": "04d",
            "id": 803,
            "main": "Clouds"
           }
          ],
          "wind": {
           "deg": 349,
           "gust": 1.95,
           "speed": 1.36
          }
         },
         {
          "clouds": {
           "all": 89
          },
          "dt": 1638975600,
          "dt_txt": "2021-12-08 15:00:00",
          "main": {
           "feels_like": -5.22,
           "grnd_level": 937,
           "humidity": 90,
           "pressure": 1001,
           "sea_level": 1001,
           "temp": -1.06,
           "temp_kf": 0,
           "temp_max": -1.06,
           "temp_min": -1.06
          },
          "pop": 0.22,
          "sys": {
           "pod": "d"
          },
          "visibility": 10000,
          "weather": [
           {
            "description": "overcast clouds",
            "icon": "04d",
            "id": 804,
            "main": "Clouds"
           }
          ],
          "wind": {
           "deg": 254,
           "gust": 8.42,
           "speed": 3.52
          }
         },
         {
          "clouds": {
           "all": 95
          },
          "dt": 1638986400,
          "dt_txt": "2021-12-08 18:00:00",
          "main": {
           "feels_like": -4.45,
           "grnd_level": 938,
           "humidity": 97,
           "pressure": 1001,
           "sea_level": 1001,
           "temp": -0.16,
           "temp_kf": 0,
           "temp_max": -0.16,
           "temp_min": -0.16
          },
          "pop": 0.82,
          "snow": {
           "3h": 1.39
          },
          "sys": {
           "pod": "n"
          },
          "visibility": 321,
          "weather": [
           {
            "description": "light snow",
            "icon": "13n",
            "id": 600,
            "main": "Snow"
           }
          ],
          "wind": {
           "deg": 238,
           "gust": 11.4,
           "speed": 3.96
          }
         },
         {
          "clouds": {
           "all": 100
          },
          "dt": 1638997200,
          "dt_txt": "2021-12-08 21:00:00",
          "main": {
           "feels_like": -3.61,
           "grnd_level": 940,
           "humidity": 98,
           "pressure": 1003,
           "sea_level": 1003,
           "temp": 0.37,
           "temp_kf": 0,
           "temp_max": 0.37,
           "temp_min": 0.37
          },
          "pop": 1,
          "snow": {
           "3h": 1.57
          },
          "sys": {
           "pod": "n"
          },
          "visibility": 66,
          "weather": [
           {
            "description": "snow",
            "icon": "13n",
            "id": 601,
            "main": "Snow"
           }
          ],
          "wind": {
           "deg": 259,
           "gust": 9.31,
           "speed": 3.69
          }
         },
         {
          "clouds": {
           "all": 100
          },
          "dt": 1639008000,
          "dt_txt": "2021-12-09 00:00:00",
          "main": {
           "feels_like": -3.41,
           "grnd_level": 941,
           "humidity": 95,
           "pressure": 1004,
           "sea_level": 1004,
           "temp": 0.36,
           "temp_kf": 0,
           "temp_max": 0.36,
           "temp_min": 0.36
          },
          "pop": 1,
          "snow": {
           "3h": 0.83
          },
          "sys": {
           "pod": "n"
          },
          "visibility": 10000,
          "weather": [
           {
            "description": "light snow",
            "icon": "13n",
            "id": 600,
            "main": "Snow"
           }
          ],
          "wind": {
           "deg": 251,
           "gust": 9.46,
           "speed": 3.41
          }
         },
         {
          "clouds": {
           "all": 100
          },
          "dt": 1639018800,
          "dt_txt": "2021-12-09 03:00:00",
          "main": {
           "feels_like": -0.65,
           "grnd_level": 941,
           "humidity": 95,
           "pressure": 1005,
           "sea_level": 1005,
           "temp": -0.65,
           "temp_kf": 0,
           "temp_max": -0.65,
           "temp_min": -0.65
          },
          "pop": 0,
          "sys": {
           "pod": "n"
          },
          "visibility": 10000,
          "weather": [
           {
            "description": "overcast clouds",
            "icon": "04n",
            "id": 804,
            "main": "Clouds"
           }
          ],
          "wind": {
           "deg": 197,
           "gust": 2.18,
           "speed": 1.32
          }
         },
         {
          "clouds": {
           "all": 100
          },
          "dt": 1639029600,
          "dt_txt": "2021-12-09 06:00:00",
          "main": {
           "feels_like": -5.61,
           "grnd_level": 941,
           "humidity": 96,
           "pressure": 1005,
           "sea_level": 1005,
           "temp": -3.05,
           "temp_kf": 0,
           "temp_max": -3.05,
           "temp_min": -3.05
          },
          "pop": 0,
          "sys": {
           "pod": "n"
          },
          "visibility": 10000,
          "weather": [
           {
            "description": "overcast clouds",
            "icon": "04n",
            "id": 804,
            "main": "Clouds"
           }
          ],
          "wind": {
           "deg": 163,
           "gust": 2.38,
           "speed": 1.73
          }
         },
         {
          "clouds": {
           "all": 72
          },
          "dt": 1639040400,
          "dt_txt": "2021-12-09 09:00:00",
          "main": {
           "feels_like": -3.23,
           "grnd_level": 941,
           "humidity": 87,
           "pressure": 1004,
           "sea_level": 1004,
           "temp": -0.01,
           "temp_kf": 0,
           "temp_max": -0.01,
           "temp_min": -0.01
          },
          "pop": 0,
          "sys": {
           "pod": "d"
          },
          "visibility": 10000,
          "weather": [
           {
            "description": "broken clouds",
            "icon": "04d",
            "id": 803,
            "main": "Clouds"
           }
          ],
          "wind": {
           "deg": 129,
           "gust": 6.8,
           "speed": 2.7
          }
         },
         {
          "clouds": {
           "all": 39
          },
          "dt": 1639051200,
          "dt_txt": "2021-12-09 12:00:00",
          "main": {
           "feels_like": -1.14,
           "grnd_level": 939,
           "humidity": 86,
           "pressure": 1002,
           "sea_level": 1002,
           "temp": 2.06,
           "temp_kf": 0,
           "temp_max": 2.06,
           "temp_min": 2.06
          },
          "pop": 0,
          "sys": {
           "pod": "d"
          },
          "visibility": 10000,
          "weather": [
           {
            "description": "scattered clouds",
            "icon": "03d",
            "id": 802,
            "main": "Clouds"
           }
          ],
          "wind": {
           "deg": 107,
           "gust": 6.91,
           "speed": 3.14
          }
         },
         {
          "clouds": {
           "all": 48
          },
          "dt": 1639062000,
          "dt_txt": "2021-12-09 15:00:00",
          "main": {
           "feels_like": -4.11,
           "grnd_level": 939,
           "humidity": 94,
           "pressure": 1002,
           "sea_level": 1002,
           "temp": -0.52,
           "temp_kf": 0,
           "temp_max": -0.52,
           "temp_min": -0.52
          },
          "pop": 0,
          "sys": {
           "pod": "d"
          },
          "visibility": 10000,
          "weather": [
           {
            "description": "scattered clouds",
            "icon": "03d",
            "id": 802,
            "main": "Clouds"
           }
          ],
          "wind": {
           "deg": 84,
           "gust": 8.14,
           "speed": 2.98
          }
         },
         {
          "clouds": {
           "all": 38
          },
          "dt": 1639072800,
          "dt_txt": "2021-12-09 18:00:00",
          "main": {
           "feels_like": -4.34,
           "grnd_level": 939,
           "humidity": 99,
           "pressure": 1003,
           "sea_level": 1003,
           "temp": -4.34,
           "temp_kf": 0,
           "temp_max": -4.34,
           "temp_min": -4.34
          },
          "pop": 0,
          "sys": {
           "pod": "n"
          },
          "visibility": 10000,
          "weather": [
           {
            "description": "scattered clouds",
            "icon": "03n",
            "id": 802,
            "main": "Clouds"
           }
          ],
          "wind": {
           "deg": 156,
           "gust": 0.99,
           "speed": 0.57
          }
         },
         {
          "clouds": {
           "all": 39
          },
          "dt": 1639083600,
          "dt_txt": "2021-12-09 21:00:00",
          "main": {
           "feels_like": -7.21,
           "grnd_level": 940,
           "humidity": 98,
           "pressure": 1004,
           "sea_level": 1004,
           "temp": -4.7,
           "temp_kf": 0,
           "temp_max": -4.7,
           "temp_min": -4.7
          },
          "pop": 0,
          "sys": {
           "pod": "n"
          },
          "visibility": 10000,
          "weather": [
           {
            "description": "scattered clouds",
            "icon": "03n",
            "id": 802,
            "main": "Clouds"
           }
          ],
          "wind": {
           "deg": 244,
           "gust": 2.68,
           "speed": 1.55
          }
         },
         {
          "clouds": {
           "all": 40
          },
          "dt": 1639094400,
          "dt_txt": "2021-12-10 00:00:00",
          "main": {
           "feels_like": -8.01,
           "grnd_level": 940,
           "humidity": 93,
           "pressure": 1005,
           "sea_level": 1005,
           "temp": -4.6,
           "temp_kf": 0,
           "temp_max": -4.6,
           "temp_min": -4.6
          },
          "pop": 0,
          "sys": {
           "pod": "n"
          },
          "visibility": 10000,
          "weather": [
           {
            "description": "scattered clouds",
            "icon": "03n",
            "id": 802,
            "main": "Clouds"
           }
          ],
          "wind": {
           "deg": 238,
           "gust": 4.27,
           "speed": 2.14
          }
         },
         {
          "clouds": {
           "all": 23
          },
          "dt": 1639105200,
          "dt_txt": "2021-12-10 03:00:00",
          "main": {
           "feels_like": -7.95,
           "grnd_level": 940,
           "humidity": 89,
           "pressure": 1004,
           "sea_level": 1004,
           "temp": -4.62,
           "temp_kf": 0,
           "temp_max": -4.62,
           "temp_min": -4.62
          },
          "pop": 0,
          "sys": {
           "pod": "n"
          },
          "visibility": 10000,
          "weather": [
           {
            "description": "few clouds",
            "icon": "02n",
            "id": 801,
            "main": "Clouds"
           }
          ],
          "wind": {
           "deg": 224,
           "gust": 4.01,
           "speed": 2.08
          }
         },
         {
          "clouds": {
           "all": 20
          },
          "dt": 1639116000,
          "dt_txt": "2021-12-10 06:00:00",
          "main": {
           "feels_like": -7.41,
           "grnd_level": 940,
           "humidity": 90,
           "pressure": 1004,
           "sea_level": 1004,
           "temp": -4.83,
           "temp_kf": 0,
           "temp_max": -4.83,
           "temp_min": -4.83
          },
          "pop": 0,
          "sys": {
           "pod": "n"
          },
          "visibility": 10000,
          "weather": [
           {
            "description": "few clouds",
            "icon": "02n",
            "id": 801,
            "main": "Clouds"
           }
          ],
          "wind": {
           "deg": 211,
           "gust": 2.23,
           "speed": 1.58
          }
         },
         {
          "clouds": {
           "all": 44
          },
          "dt": 1639126800,
          "dt_txt": "2021-12-10 09:00:00",
          "main": {
           "feels_like": -4.51,
           "grnd_level": 941,
           "humidity": 79,
           "pressure": 1004,
           "sea_level": 1004,
           "temp": -1.58,
           "temp_kf": 0,
           "temp_max": -1.58,
           "temp_min": -1.58
          },
          "pop": 0,
          "sys": {
           "pod": "d"
          },
          "visibility": 10000,
          "weather": [
           {
            "description": "scattered clouds",
            "icon": "03d",
            "id": 802,
            "main": "Clouds"
           }
          ],
          "wind": {
           "deg": 199,
           "gust": 4.7,
           "speed": 2.17
          }
         },
         {
          "clouds": {
           "all": 72
          },
          "dt": 1639137600,
          "dt_txt": "2021-12-10 12:00:00",
          "main": {
           "feels_like": -0.84,
           "grnd_level": 941,
           "humidity": 80,
           "pressure": 1004,
           "sea_level": 1004,
           "temp": 1.43,
           "temp_kf": 0,
           "temp_max": 1.43,
           "temp_min": 1.43
          },
          "pop": 0,
          "sys": {
           "pod": "d"
          },
          "visibility": 10000,
          "weather": [
           {
            "description": "broken clouds",
            "icon": "04d",
            "id": 803,
            "main": "Clouds"
           }
          ],
          "wind": {
           "deg": 253,
           "gust": 5.64,
           "speed": 2.04
          }
         }
        ],
        "message": 0
       },
       {
        "city": {
         "coord": {
          "lat": 50,
          "lon": 36.25
         },
         "country": "UA",
         "id": 706483,
         "name": "Kharkiv",
         "population": 1430885,
         "sunrise": 1638681419,
         "sunset": 1638711277,
         "timezone": 7200
        },
        "cnt": 40,
        "cod": "200",
        "list": [
         {
          "clouds": {
           "all": 82
          },
          "dt": 1638716400,
          "dt_txt": "2021-12-05 15:00:00",
          "main": {
           "feels_like": -4.34,
           "grnd_level": 997,
           "humidity": 77,
           "pressure": 1015,
           "sea_level": 1015,
           "temp": -1.35,
           "temp_kf": -1.32,
           "temp_max": -0.03,
           "temp_min": -1.35
          },
          "pop": 0,
          "sys": {
           "pod": "n"
          },
          "visibility": 10000,
          "weather": [
           {
            "description": "broken clouds",
            "icon": "04n",
            "id": 803,
            "main": "Clouds"
           }
          ],
          "wind": {
           "deg": 71,
           "gust": 5.3,
           "speed": 2.25
          }
         },
         {
          "clouds": {
           "all": 90
          },
          "dt": 1638727200,
          "dt_txt": "2021-12-05 18:00:00",
          "main": {
           "feels_like": -4.05,
           "grnd_level": 998,
           "humidity": 70,
           "pressure": 1016,
           "sea_level": 1016,
           "temp": -1,
           "temp_kf": -0.51,
           "temp_max": -0.49,
           "temp_min": -1
          },
          "pop": 0,
          "sys": {
           "pod": "n"
          },
          "visibility": 10000,
          "weather": [
           {
            "description": "overcast clouds",
            "icon": "04n",
            "id": 804,
            "main": "Clouds"
           }
          ],
          "wind": {
           "deg": 82,
           "gust": 5.61,
           "speed": 2.36
          }
         },
         {
          "clouds": {
           "all": 100
          },
          "dt": 1638738000,
          "dt_txt": "2021-12-05 21:00:00",
          "main": {
           "feels_like": -3.06,
           "grnd_level": 998,
           "humidity": 64,
           "pressure": 1017,
           "sea_level": 1017,
           "temp": -0.42,
           "temp_kf": 0,
           "temp_max": -0.42,
           "temp_min": -0.42
          },
          "pop": 0,
          "sys": {
           "pod": "n"
          },
          "visibility": 10000,
          "weather": [
           {
            "description": "overcast clouds",
            "icon": "04n",
            "id": 804,
            "main": "Clouds"
           }
          ],
          "wind": {
           "deg": 109,
           "gust": 5.21,
           "speed": 2.09
          }
         },
         {
          "clouds": {
           "all": 100
          },
          "dt": 1638748800,
          "dt_txt": "2021-12-06 00:00:00",
          "main": {
           "feels_like": -2.81,
           "grnd_level": 999,
           "humidity": 69,
           "pressure": 1018,
           "sea_level": 1018,
           "temp": -0.35,
           "temp_kf": 0,
           "temp_max": -0.35,
           "temp_min": -0.35
          },
          "pop": 0,
          "sys": {
           "pod": "n"
          },
          "visibility": 10000,
          "weather": [
           {
            "description": "overcast clouds",
            "icon": "04n",
            "id": 804,
            "main": "Clouds"
           }
          ],
          "wind": {
           "deg": 102,
           "gust": 4.1,
           "speed": 1.96
          }
         },
         {
          "clouds": {
           "all": 100
          },
          "dt": 1638759600,
          "dt_txt": "2021-12-06 03:00:00",
          "main": {
           "feels_like": -3.42,
           "grnd_level": 998,
           "humidity": 74,
           "pressure": 1017,
           "sea_level": 1017,
           "temp": -0.39,
           "temp_kf": 0,
           "temp_max": -0.39,
           "temp_min": -0.39
          },
          "pop": 0,
          "sys": {
           "pod": "n"
          },
          "visibility": 10000,
          "weather": [
           {
            "description": "overcast clouds",
            "icon": "04n",
            "id": 804,
            "main": "Clouds"
           }
          ],
          "wind": {
           "deg": 108,
           "gust": 5.41,
           "speed": 2.44
          }
         },
         {
          "clouds": {
           "all": 100
          },
          "dt": 1638770400,
          "dt_txt": "2021-12-06 06:00:00",
          "main": {
           "feels_like": -3.73,
           "grnd_level": 999,
           "humidity": 81,
           "pressure": 1018,
           "sea_level": 1018,
           "temp": -0.43,
           "temp_kf": 0,
           "temp_max": -0.43,
           "temp_min": -0.43
          },
          "pop": 0,
          "sys": {
           "pod": "d"
          },
          "visibility": 10000,
          "weather": [
           {
            "description": "overcast clouds",
            "icon": "04d",
            "id": 804,
            "main": "Clouds"
           }
          ],
          "wind": {
           "deg": 124,
           "gust": 6.92,
           "speed": 2.7
          }
         },
         {
          "clouds": {
           "all": 100
          },
          "dt": 1638781200,
          "dt_txt": "2021-12-06 09:00:00",
          "main": {
           "feels_like": -1.9,
           "grnd_level": 999,
           "humidity": 81,
           "pressure": 1018,
           "sea_level": 1018,
           "temp": 1.32,
           "temp_kf": 0,
           "temp_max": 1.32,
           "temp_min": 1.32
          },
          "pop": 0,
          "sys": {
           "pod": "d"
          },
          "visibility": 10000,
          "weather": [
           {
            "description": "overcast clouds",
            "icon": "04d",
            "id": 804,
            "main": "Clouds"
           }
          ],
          "wind": {
           "deg": 144,
           "gust": 6.21,
           "speed": 2.98
          }
         },
         {
          "clouds": {
           "all": 100
          },
          "dt": 1638792000,
          "dt_txt": "2021-12-06 12:00:00",
          "main": {
           "feels_like": -0.51,
           "grnd_level": 999,
           "humidity": 84,
           "pressure": 1018,
           "sea_level": 1018,
           "temp": 2.48,
           "temp_kf": 0,
           "temp_max": 2.48,
           "temp_min": 2.48
          },
          "pop": 0,
          "sys": {
           "pod": "d"
          },
          "visibility": 10000,
          "weather": [
           {
            "description": "overcast clouds",
            "icon": "04d",
            "id": 804,
            "main": "Clouds"
           }
          ],
          "wind": {
           "deg": 146,
           "gust": 6.02,
           "speed": 2.98
          }
         },
         {
          "clouds": {
           "all": 100
          },
          "dt": 1638802800,
          "dt_txt": "2021-12-06 15:00:00",
          "main": {
           "feels_like": -1.34,
           "grnd_level": 999,
           "humidity": 87,
           "pressure": 1018,
           "sea_level": 1018,
           "temp": 1.94,
           "temp_kf": 0,
           "temp_max": 1.94,
           "temp_min": 1.94
          },
          "pop": 0.08,
          "sys": {
           "pod": "n"
          },
          "visibility": 10000,
          "weather": [
           {
            "description": "overcast clouds",
            "icon": "04n",
            "id": 804,
            "main": "Clouds"
           }
          ],
          "wind": {
           "deg": 129,
           "gust": 7.42,
           "speed": 3.21
          }
         },
         {
          "clouds": {
           "all": 100
          },
          "dt": 1638813600,
          "dt_txt": "2021-12-06 18:00:00",
          "main": {
           "feels_like": -1.54,
           "grnd_level": 998,
           "humidity": 97,
           "pressure": 1017,
           "sea_level": 1017,
           "temp": 2.1,
           "temp_kf": 0,
           "temp_max": 2.1,
           "temp_min": 2.1
          },
          "pop": 0.56,
          "rain": {
           "3h": 1.38
          },
          "sys": {
           "pod": "n"
          },
          "visibility": 1485,
          "weather": [
           {
            "description": "light rain",
            "icon": "10n",
            "id": 500,
            "main": "Rain"
           }
          ],
          "wind": {
           "deg": 129,
           "gust": 9.91,
           "speed": 3.75
          }
         },
         {
          "clouds": {
           "all": 100
          },
          "dt": 1638824400,
          "dt_txt": "2021-12-06 21:00:00",
          "main": {
           "feels_like": -1.04,
           "grnd_level": 997,
           "humidity": 92,
           "pressure": 1016,
           "sea_level": 1016,
           "temp": 2.93,
           "temp_kf": 0,
           "temp_max": 2.93,
           "temp_min": 2.93
          },
          "pop": 0.72,
          "rain": {
           "3h": 0.75
          },
          "sys": {
           "pod": "n"
          },
          "visibility": 10000,
          "weather": [
           {
            "description": "light rain",
            "icon": "10n",
            "id": 500,
            "main": "Rain"
           }
          ],
          "wind": {
           "deg": 133,
           "gust": 12.51,
           "speed": 4.6
          }
         },
         {
          "clouds": {
           "all": 100
          },
          "dt": 1638835200,
          "dt_txt": "2021-12-07 00:00:00",
          "main": {
           "feels_like": -0.33,
           "grnd_level": 996,
           "humidity": 96,
           "pressure": 1015,
           "sea_level": 1015,
           "temp": 3.57,
           "temp_kf": 0,
           "temp_max": 3.57,
           "temp_min": 3.57
          },
          "pop": 0.88,
          "rain": {
           "3h": 3
          },
          "sys": {
           "pod": "n"
          },
          "visibility": 10000,
          "weather": [
           {
            "description": "light rain",
            "icon": "10n",
            "id": 500,
            "main": "Rain"
           }
          ],
          "wind": {
           "deg": 137,
           "gust": 12.1,
           "speed": 4.77
          }
         },
         {
          "clouds": {
           "all": 99
          },
          "dt": 1638846000,
          "dt_txt": "2021-12-07 03:00:00",
          "main": {
           "feels_like": 1,
           "grnd_level": 995,
           "humidity": 97,
           "pressure": 1014,
           "sea_level": 1014,
           "temp": 4.56,
           "temp_kf": 0,
           "temp_max": 4.56,
           "temp_min": 4.56
          },
          "pop": 0.32,
          "sys": {
           "pod": "n"
          },
          "visibility": 10000,
          "weather": [
           {
            "description": "overcast clouds",
            "icon": "04n",
            "id": 804,
            "main": "Clouds"
           }
          ],
          "wind": {
           "deg": 146,
           "gust": 12.8,
           "speed": 4.58
          }
         },
         {
          "clouds": {
           "all": 100
          },
          "dt": 1638856800,
          "dt_txt": "2021-12-07 06:00:00",
          "main": {
           "feels_like": 2.99,
           "grnd_level": 995,
           "humidity": 95,
           "pressure": 1013,
           "sea_level": 1013,
           "temp": 6.21,
           "temp_kf": 0,
           "temp_max": 6.21,
           "temp_min": 6.21
          },
          "pop": 0.44,
          "rain": {
           "3h": 0.31
          },
          "sys": {
           "pod": "d"
          },
          "visibility": 10000,
          "weather": [
           {
            "description": "light rain",
            "icon": "10d",
            "id": 500,
            "main": "Rain"
           }
          ],
          "wind": {
           "deg": 161,
           "gust": 13.8,
           "speed": 4.69
          }
         },
         {
          "clouds": {
           "all": 100
          },
          "dt": 1638867600,
          "dt_txt": "2021-12-07 09:00:00",
          "main": {
           "feels_like": 4.66,
           "grnd_level": 994,
           "humidity": 93,
           "pressure": 1013,
           "sea_level": 1013,
           "temp": 7.8,
           "temp_kf": 0,
           "temp_max": 7.8,
           "temp_min": 7.8
          },
          "pop": 0.76,
          "rain": {
           "3h": 0.31
          },
          "sys": {
           "pod": "d"
          },
          "visibility": 10000,
          "weather": [
           {
            "description": "light rain",
            "icon": "10d",
            "id": 500,
            "main": "Rain"
           }
          ],
          "wind": {
           "deg": 163,
           "gust": 15.71,
           "speed": 5.45
          }
         },
         {
          "clouds": {
           "all": 100
          },
          "dt": 1638878400,
          "dt_txt": "2021-12-07 12:00:00",
          "main": {
           "feels_like": 5.01,
           "grnd_level": 993,
           "humidity": 95,
           "pressure": 1012,
           "sea_level": 1012,
           "temp": 7.64,
           "temp_kf": 0,
           "temp_max": 7.64,
           "temp_min": 7.64
          },
          "pop": 1,
          "rain": {
           "3h": 5.75
          },
          "sys": {
           "pod": "d"
          },
          "visibility": 4576,
          "weather": [
           {
            "description": "moderate rain",
            "icon": "10d",
            "id": 501,
            "main": "Rain"
           }
          ],
          "wind": {
           "deg": 151,
           "gust": 9,
           "speed": 4.19
          }
         },
         {
          "clouds": {
           "all": 100
          },
          "dt": 1638889200,
          "dt_txt": "2021-12-07 15:00:00",
          "main": {
           "feels_like": 4.67,
           "grnd_level": 993,
           "humidity": 81,
           "pressure": 1012,
           "sea_level": 1012,
           "temp": 7.25,
           "temp_kf": 0,
           "temp_max": 7.25,
           "temp_min": 7.25
          },
          "pop": 0.8,
          "rain": {
           "3h": 2.69
          },
          "sys": {
           "pod": "n"
          },
          "visibility": 10000,
          "weather": [
           {
            "description": "light rain",
            "icon": "10n",
            "id": 500,
            "main": "Rain"
           }
          ],
          "wind": {
           "deg": 141,
           "gust": 10.6,
           "speed": 3.91
          }
         },
         {
          "clouds": {
           "all": 100
          },
          "dt": 1638900000,
          "dt_txt": "2021-12-07 18:00:00",
          "main": {
           "feels_like": 3.34,
           "grnd_level": 992,
           "humidity": 83,
           "pressure": 1011,
           "sea_level": 1011,
           "temp": 6.39,
           "temp_kf": 0,
           "temp_max": 6.39,
           "temp_min": 6.39
          },
          "pop": 0.68,
          "sys": {
           "pod": "n"
          },
          "visibility": 10000,
          "weather": [
           {
            "description": "overcast clouds",
            "icon": "04n",
            "id": 804,
            "main": "Clouds"
           }
          ],
          "wind": {
           "deg": 143,
           "gust": 12.11,
           "speed": 4.43
          }
         },
         {
          "clouds": {
           "all": 72
          },
          "dt": 1638910800,
          "dt_txt": "2021-12-07 21:00:00",
          "main": {
           "feels_like": 2.65,
           "grnd_level": 992,
           "humidity": 83,
           "pressure": 1011,
           "sea_level": 1011,
           "temp": 5.16,
           "temp_kf": 0,
           "temp_max": 5.16,
           "temp_min": 5.16
          },
          "pop": 0,
          "sys": {
           "pod": "n"
          },
          "visibility": 10000,
          "weather": [
           {
            "description": "broken clouds",
            "icon": "04n",
            "id": 803,
            "main": "Clouds"
           }
          ],
          "wind": {
           "deg": 138,
           "gust": 9.12,
           "speed": 3.06
          }
         },
         {
          "clouds": {
           "all": 86
          },
          "dt": 1638921600,
          "dt_txt": "2021-12-08 00:00:00",
          "main": {
           "feels_like": 1.92,
           "grnd_level": 992,
           "humidity": 86,
           "pressure": 1010,
           "sea_level": 1010,
           "temp": 4.4,
           "temp_kf": 0,
           "temp_max": 4.4,
           "temp_min": 4.4
          },
          "pop": 0,
          "sys": {
           "pod": "n"
          },
          "visibility": 10000,
          "weather": [
           {
            "description": "overcast clouds",
            "icon": "04n",
            "id": 804,
            "main": "Clouds"
           }
          ],
          "wind": {
           "deg": 132,
           "gust": 8.1,
           "speed": 2.83
          }
         },
         {
          "clouds": {
           "all": 100
          },
          "dt": 1638932400,
          "dt_txt": "2021-12-08 03:00:00",
          "main": {
           "feels_like": 1.48,
           "grnd_level": 991,
           "humidity": 91,
           "pressure": 1010,
           "sea_level": 1010,
           "temp": 3.88,
           "temp_kf": 0,
           "temp_max": 3.88,
           "temp_min": 3.88
          },
          "pop": 0,
          "sys": {
           "pod": "n"
          },
          "visibility": 10000,
          "weather": [
           {
            "description": "overcast clouds",
            "icon": "04n",
            "id": 804,
            "main": "Clouds"
           }
          ],
          "wind": {
           "deg": 120,
           "gust": 6.8,
           "speed": 2.61
          }
         },
         {
          "clouds": {
           "all": 100
          },
          "dt": 1638943200,
          "dt_txt": "2021-12-08 06:00:00",
          "main": {
           "feels_like": 1.09,
           "grnd_level": 991,
           "humidity": 90,
           "pressure": 1010,
           "sea_level": 1010,
           "temp": 3.85,
           "temp_kf": 0,
           "temp_max": 3.85,
           "temp_min": 3.85
          },
          "pop": 0,
          "sys": {
           "pod": "d"
          },
          "visibility": 10000,
          "weather": [
           {
            "description": "overcast clouds",
            "icon": "04d",
            "id": 804,
            "main": "Clouds"
           }
          ],
          "wind": {
           "deg": 110,
           "gust": 8.41,
           "speed": 3.05
          }
         },
         {
          "clouds": {
           "all": 100
          },
          "dt": 1638954000,
          "dt_txt": "2021-12-08 09:00:00",
          "main": {
           "feels_like": 2.37,
           "grnd_level": 990,
           "humidity": 83,
           "pressure": 1009,
           "sea_level": 1009,
           "temp": 5.26,
           "temp_kf": 0,
           "temp_max": 5.26,
           "temp_min": 5.26
          },
          "pop": 0,
          "sys": {
           "pod": "d"
          },
          "visibility": 10000,
          "weather": [
           {
            "description": "overcast clouds",
            "icon": "04d",
            "id": 804,
            "main": "Clouds"
           }
          ],
          "wind": {
           "deg": 113,
           "gust": 8.61,
           "speed": 3.67
          }
         },
         {
          "clouds": {
           "all": 100
          },
          "dt": 1638964800,
          "dt_txt": "2021-12-08 12:00:00",
          "main": {
           "feels_like": 2.9,
           "grnd_level": 989,
           "humidity": 83,
           "pressure": 1008,
           "sea_level": 1008,
           "temp": 5.68,
           "temp_kf": 0,
           "temp_max": 5.68,
           "temp_min": 5.68
          },
          "pop": 0,
          "sys": {
           "pod": "d"
          },
          "visibility": 10000,
          "weather": [
           {
            "description": "overcast clouds",
            "icon": "04d",
            "id": 804,
            "main": "Clouds"
           }
          ],
          "wind": {
           "deg": 108,
           "gust": 8.71,
           "speed": 3.64
          }
         },
         {
          "clouds": {
           "all": 100
          },
          "dt": 1638975600,
          "dt_txt": "2021-12-08 15:00:00",
          "main": {
           "feels_like": 2.12,
           "grnd_level": 989,
           "humidity": 87,
           "pressure": 1008,
           "sea_level": 1008,
           "temp": 5.28,
           "temp_kf": 0,
           "temp_max": 5.28,
           "temp_min": 5.28
          },
          "pop": 0,
          "sys": {
           "pod": "n"
          },
          "visibility": 10000,
          "weather": [
           {
            "description": "overcast clouds",
            "icon": "04n",
            "id": 804,
            "main": "Clouds"
           }
          ],
          "wind": {
           "deg": 110,
           "gust": 10.6,
           "speed": 4.14
          }
         },
         {
          "clouds": {
           "all": 100
          },
          "dt": 1638986400,
          "dt_txt": "2021-12-08 18:00:00",
          "main": {
           "feels_like": 2.31,
           "grnd_level": 989,
           "humidity": 90,
           "pressure": 1008,
           "sea_level": 1008,
           "temp": 5.37,
           "temp_kf": 0,
           "temp_max": 5.37,
           "temp_min": 5.37
          },
          "pop": 0,
          "sys": {
           "pod": "n"
          },
          "visibility": 10000,
          "weather": [
           {
            "description": "overcast clouds",
            "icon": "04n",
            "id": 804,
            "main": "Clouds"
           }
          ],
          "wind": {
           "deg": 109,
           "gust": 10.3,
           "speed": 4.01
          }
         },
         {
          "clouds": {
           "all": 100
          },
          "dt": 1638997200,
          "dt_txt": "2021-12-08 21:00:00",
          "main": {
           "feels_like": 2.61,
           "grnd_level": 990,
           "humidity": 90,
           "pressure": 1008,
           "sea_level": 1008,
           "temp": 5.28,
           "temp_kf": 0,
           "temp_max": 5.28,
           "temp_min": 5.28
          },
          "pop": 0,
          "sys": {
           "pod": "n"
          },
          "visibility": 10000,
          "weather": [
           {
            "description": "overcast clouds",
            "icon": "04n",
            "id": 804,
            "main": "Clouds"
           }
          ],
          "wind": {
           "deg": 111,
           "gust": 9.51,
           "speed": 3.33
          }
         },
         {
          "clouds": {
           "all": 98
          },
          "dt": 1639008000,
          "dt_txt": "2021-12-09 00:00:00",
          "main": {
           "feels_like": 2.29,
           "grnd_level": 990,
           "humidity": 91,
           "pressure": 1008,
           "sea_level": 1008,
           "temp": 4.83,
           "temp_kf": 0,
           "temp_max": 4.83,
           "temp_min": 4.83
          },
          "pop": 0,
          "sys": {
           "pod": "n"
          },
          "visibility": 10000,
          "weather": [
           {
            "description": "overcast clouds",
            "icon": "04n",
            "id": 804,
            "main": "Clouds"
           }
          ],
          "wind": {
           "deg": 135,
           "gust": 9.1,
           "speed": 3.01
          }
         },
         {
          "clouds": {
           "all": 60
          },
          "dt": 1639018800,
          "dt_txt": "2021-12-09 03:00:00",
          "main": {
           "feels_like": 1.92,
           "grnd_level": 990,
           "humidity": 96,
           "pressure": 1009,
           "sea_level": 1009,
           "temp": 3.9,
           "temp_kf": 0,
           "temp_max": 3.9,
           "temp_min": 3.9
          },
          "pop": 0,
          "sys": {
           "pod": "n"
          },
          "visibility": 10000,
          "weather": [
           {
            "description": "broken clouds",
            "icon": "04n",
            "id": 803,
            "main": "Clouds"
           }
          ],
          "wind": {
           "deg": 146,
           "gust": 4.7,
           "speed": 2.16
          }
         },
         {
          "clouds": {
           "all": 62
          },
          "dt": 1639029600,
          "dt_txt": "2021-12-09 06:00:00",
          "main": {
           "feels_like": 2.19,
           "grnd_level": 991,
           "humidity": 97,
           "pressure": 1010,
           "sea_level": 1010,
           "temp": 3.95,
           "temp_kf": 0,
           "temp_max": 3.95,
           "temp_min": 3.95
          },
          "pop": 0,
          "sys": {
           "pod": "d"
          },
          "visibility": 10000,
          "weather": [
           {
            "description": "broken clouds",
            "icon": "04d",
            "id": 803,
            "main": "Clouds"
           }
          ],
          "wind": {
           "deg": 143,
           "gust": 4.8,
           "speed": 1.96
          }
         },
         {
          "clouds": {
           "all": 100
          },
          "dt": 1639040400,
          "dt_txt": "2021-12-09 09:00:00",
          "main": {
           "feels_like": 3.33,
           "grnd_level": 992,
           "humidity": 98,
           "pressure": 1011,
           "sea_level": 1011,
           "temp": 4.86,
           "temp_kf": 0,
           "temp_max": 4.86,
           "temp_min": 4.86
          },
          "pop": 0.04,
          "sys": {
           "pod": "d"
          },
          "visibility": 10000,
          "weather": [
           {
            "description": "overcast clouds",
            "icon": "04d",
            "id": 804,
            "main": "Clouds"
           }
          ],
          "wind": {
           "deg": 141,
           "gust": 6.3,
           "speed": 1.88
          }
         },
         {
          "clouds": {
           "all": 100
          },
          "dt": 1639051200,
          "dt_txt": "2021-12-09 12:00:00",
          "main": {
           "feels_like": 5.1,
           "grnd_level": 993,
           "humidity": 99,
           "pressure": 1011,
           "sea_level": 1011,
           "temp": 5.1,
           "temp_kf": 0,
           "temp_max": 5.1,
           "temp_min": 5.1
          },
          "pop": 0.36,
          "rain": {
           "3h": 0.56
          },
          "sys": {
           "pod": "d"
          },
          "visibility": 10000,
          "weather": [
           {
            "description": "light rain",
            "icon": "10d",
            "id": 500,
            "main": "Rain"
           }
          ],
          "wind": {
           "deg": 207,
           "gust": 0.82,
           "speed": 0.76
          }
         },
         {
          "clouds": {
           "all": 100
          },
          "dt": 1639062000,
          "dt_txt": "2021-12-09 15:00:00",
          "main": {
           "feels_like": 4.21,
           "grnd_level": 995,
           "humidity": 98,
           "pressure": 1013,
           "sea_level": 1013,
           "temp": 5.31,
           "temp_kf": 0,
           "temp_max": 5.31,
           "temp_min": 5.31
          },
          "pop": 0.32,
          "rain": {
           "3h": 0.19
          },
          "sys": {
           "pod": "n"
          },
          "visibility": 10000,
          "weather": [
           {
            "description": "light rain",
            "icon": "10n",
            "id": 500,
            "main": "Rain"
           }
          ],
          "wind": {
           "deg": 254,
           "gust": 2.61,
           "speed": 1.57
          }
         },
         {
          "clouds": {
           "all": 100
          },
          "dt": 1639072800,
          "dt_txt": "2021-12-09 18:00:00",
          "main": {
           "feels_like": 2.71,
           "grnd_level": 996,
           "humidity": 95,
           "pressure": 1015,
           "sea_level": 1015,
           "temp": 5.21,
           "temp_kf": 0,
           "temp_max": 5.21,
           "temp_min": 5.21
          },
          "pop": 0.32,
          "rain": {
           "3h": 0.19
          },
          "sys": {
           "pod": "n"
          },
          "visibility": 10000,
          "weather": [
           {
            "description": "light rain",
            "icon": "10n",
            "id": 500,
            "main": "Rain"
           }
          ],
          "wind": {
           "deg": 254,
           "gust": 6.92,
           "speed": 3.06
          }
         },
         {
          "clouds": {
           "all": 99
          },
          "dt": 1639083600,
          "dt_txt": "2021-12-09 21:00:00",
          "main": {
           "feels_like": 2.32,
           "grnd_level": 998,
           "humidity": 91,
           "pressure": 1017,
           "sea_level": 1017,
           "temp": 4.78,
           "temp_kf": 0,
           "temp_max": 4.78,
           "temp_min": 4.78
          },
          "pop": 0,
          "sys": {
           "pod": "n"
          },
          "visibility": 10000,
          "weather": [
           {
            "description": "overcast clouds",
            "icon": "04n",
            "id": 804,
            "main": "Clouds"
           }
          ],
          "wind": {
           "deg": 253,
           "gust": 6.41,
           "speed": 2.9
          }
         },
         {
          "clouds": {
           "all": 99
          },
          "dt": 1639094400,
          "dt_txt": "2021-12-10 00:00:00",
          "main": {
           "feels_like": 2.15,
           "grnd_level": 999,
           "humidity": 87,
           "pressure": 1018,
           "sea_level": 1018,
           "temp": 4.23,
           "temp_kf": 0,
           "temp_max": 4.23,
           "temp_min": 4.23
          },
          "pop": 0,
          "sys": {
           "pod": "n"
          },
          "visibility": 10000,
          "weather": [
           {
            "description": "overcast clouds",
            "icon": "04n",
            "id": 804,
            "main": "Clouds"
           }
          ],
          "wind": {
           "deg": 258,
           "gust": 5.11,
           "speed": 2.32
          }
         },
         {
          "clouds": {
           "all": 59
          },
          "dt": 1639105200,
          "dt_txt": "2021-12-10 03:00:00",
          "main": {
           "feels_like": 1.54,
           "grnd_level": 1000,
           "humidity": 89,
           "pressure": 1019,
           "sea_level": 1019,
           "temp": 3.2,
           "temp_kf": 0,
           "temp_max": 3.2,
           "temp_min": 3.2
          },
          "pop": 0,
          "sys": {
           "pod": "n"
          },
          "visibility": 10000,
          "weather": [
           {
            "description": "broken clouds",
            "icon": "04n",
            "id": 803,
            "main": "Clouds"
           }
          ],
          "wind": {
           "deg": 235,
           "gust": 3.91,
           "speed": 1.77
          }
         },
         {
          "clouds": {
           "all": 77
          },
          "dt": 1639116000,
          "dt_txt": "2021-12-10 06:00:00",
          "main": {
           "feels_like": 1.06,
           "grnd_level": 1001,
           "humidity": 87,
           "pressure": 1020,
           "sea_level": 1020,
           "temp": 3.18,
           "temp_kf": 0,
           "temp_max": 3.18,
           "temp_min": 3.18
          },
          "pop": 0,
          "sys": {
           "pod": "d"
          },
          "visibility": 10000,
          "weather": [
           {
            "description": "broken clouds",
            "icon": "04d",
            "id": 803,
            "main": "Clouds"
           }
          ],
          "wind": {
           "deg": 214,
           "gust": 4.6,
           "speed": 2.18
          }
         },
         {
          "clouds": {
           "all": 43
          },
          "dt": 1639126800,
          "dt_txt": "2021-12-10 09:00:00",
          "main": {
           "feels_like": 2.97,
           "grnd_level": 1002,
           "humidity": 78,
           "pressure": 1021,
           "sea_level": 1021,
           "temp": 4.83,
           "temp_kf": 0,
           "temp_max": 4.83,
           "temp_min": 4.83
          },
          "pop": 0,
          "sys": {
           "pod": "d"
          },
          "visibility": 10000,
          "weather": [
           {
            "description": "scattered clouds",
            "icon": "03d",
            "id": 802,
            "main": "Clouds"
           }
          ],
          "wind": {
           "deg": 200,
           "gust": 3.21,
           "speed": 2.2
          }
         },
         {
          "clouds": {
           "all": 26
          },
          "dt": 1639137600,
          "dt_txt": "2021-12-10 12:00:00",
          "main": {
           "feels_like": 4.27,
           "grnd_level": 1002,
           "humidity": 74,
           "pressure": 1021,
           "sea_level": 1021,
           "temp": 5.86,
           "temp_kf": 0,
           "temp_max": 5.86,
           "temp_min": 5.86
          },
          "pop": 0,
          "sys": {
           "pod": "d"
          },
          "visibility": 10000,
          "weather": [
           {
            "description": "scattered clouds",
            "icon": "03d",
            "id": 802,
            "main": "Clouds"
           }
          ],
          "wind": {
           "deg": 174,
           "gust": 3.4,
           "speed": 2.1
          }
         }
        ],
        "message": 0
       },
       {
        "city": {
         "coord": {
          "lat": 45.4643,
          "lon": 9.1895
         },
         "country": "IT",
         "id": 3173435,
         "name": "Milan",
         "population": 1000000,
         "sunrise": 1638686848,
         "sunset": 1638718840,
         "timezone": 3600
        },
        "cnt": 40,
        "cod": "200",
        "list": [
         {
          "clouds": {
           "all": 11
          },
          "dt": 1638716400,
          "dt_txt": "2021-12-05 15:00:00",
          "main": {
           "feels_like": 7.6,
           "grnd_level": 986,
           "humidity": 55,
           "pressure": 1000,
           "sea_level": 1000,
           "temp": 7.6,
           "temp_kf": 0.75,
           "temp_max": 7.6,
           "temp_min": 6.85
          },
          "pop": 0,
          "sys": {
           "pod": "d"
          },
          "visibility": 10000,
          "weather": [
           {
            "description": "few clouds",
            "icon": "02d",
            "id": 801,
            "main": "Clouds"
           }
          ],
          "wind": {
           "deg": 197,
           "gust": 1.51,
           "speed": 1.22
          }
         },
         {
          "clouds": {
           "all": 35
          },
          "dt": 1638727200,
          "dt_txt": "2021-12-05 18:00:00",
          "main": {
           "feels_like": 5.94,
           "grnd_level": 988,
           "humidity": 58,
           "pressure": 1002,
           "sea_level": 1002,
           "temp": 5.94,
           "temp_kf": 1.02,
           "temp_max": 5.94,
           "temp_min": 4.92
          },
          "pop": 0,
          "sys": {
           "pod": "n"
          },
          "visibility": 10000,
          "weather": [
           {
            "description": "scattered clouds",
            "icon": "03n",
            "id": 802,
            "main": "Clouds"
           }
          ],
          "wind": {
           "deg": 265,
           "gust": 1.64,
           "speed": 1.17
          }
         },
         {
          "clouds": {
           "all": 73
          },
          "dt": 1638738000,
          "dt_txt": "2021-12-05 21:00:00",
          "main": {
           "feels_like": 2.99,
           "grnd_level": 989,
           "humidity": 60,
           "pressure": 1006,
           "sea_level": 1006,
           "temp": 4.17,
           "temp_kf": 0,
           "temp_max": 4.17,
           "temp_min": 4.17
          },
          "pop": 0,
          "sys": {
           "pod": "n"
          },
          "visibility": 10000,
          "weather": [
           {
            "description": "broken clouds",
            "icon": "04n",
            "id": 803,
            "main": "Clouds"
           }
          ],
          "wind": {
           "deg": 105,
           "gust": 2.23,
           "speed": 1.51
          }
         },
         {
          "clouds": {
           "all": 57
          },
          "dt": 1638748800,
          "dt_txt": "2021-12-06 00:00:00",
          "main": {
           "feels_like": 2.1,
           "grnd_level": 990,
           "humidity": 75,
           "pressure": 1006,
           "sea_level": 1006,
           "temp": 3.21,
           "temp_kf": 0,
           "temp_max": 3.21,
           "temp_min": 3.21
          },
          "pop": 0,
          "sys": {
           "pod": "n"
          },
          "visibility": 10000,
          "weather": [
           {
            "description": "broken clouds",
            "icon": "04n",
            "id": 803,
            "main": "Clouds"
           }
          ],
          "wind": {
           "deg": 59,
           "gust": 2.03,
           "speed": 1.37
          }
         },
         {
          "clouds": {
           "all": 6
          },
          "dt": 1638759600,
          "dt_txt": "2021-12-06 03:00:00",
          "main": {
           "feels_like": 2.86,
           "grnd_level": 991,
           "humidity": 74,
           "pressure": 1007,
           "sea_level": 1007,
           "temp": 2.86,
           "temp_kf": 0,
           "temp_max": 2.86,
           "temp_min": 2.86
          },
          "pop": 0,
          "sys": {
           "pod": "n"
          },
          "visibility": 10000,
          "weather": [
           {
            "description": "clear sky",
            "icon": "01n",
            "id": 800,
            "main": "Clear"
           }
          ],
          "wind": {
           "deg": 14,
           "gust": 0.54,
           "speed": 0.41
          }
         },
         {
          "clouds": {
           "all": 7
          },
          "dt": 1638770400,
          "dt_txt": "2021-12-06 06:00:00",
          "main": {
           "feels_like": 2.47,
           "grnd_level": 993,
           "humidity": 68,
           "pressure": 1009,
           "sea_level": 1009,
           "temp": 2.47,
           "temp_kf": 0,
           "temp_max": 2.47,
           "temp_min": 2.47
          },
          "pop": 0,
          "sys": {
           "pod": "n"
          },
          "visibility": 10000,
          "weather": [
           {
            "description": "clear sky",
            "icon": "01n",
            "id": 800,
            "main": "Clear"
           }
          ],
          "wind": {
           "deg": 317,
           "gust": 0.38,
           "speed": 0.25
          }
         },
         {
          "clouds": {
           "all": 6
          },
          "dt": 1638781200,
          "dt_txt": "2021-12-06 09:00:00",
          "main": {
           "feels_like": 4.09,
           "grnd_level": 995,
           "humidity": 53,
           "pressure": 1012,
           "sea_level": 1012,
           "temp": 4.09,
           "temp_kf": 0,
           "temp_max": 4.09,
           "temp_min": 4.09
          },
          "pop": 0,
          "sys": {
           "pod": "d"
          },
          "visibility": 10000,
          "weather": [
           {
            "description": "clear sky",
            "icon": "01d",
            "id": 800,
            "main": "Clear"
           }
          ],
          "wind": {
           "deg": 261,
           "gust": 1.42,
           "speed": 0.99
          }
         },
         {
          "clouds": {
           "all": 3
          },
          "dt": 1638792000,
          "dt_txt": "2021-12-06 12:00:00",
          "main": {
           "feels_like": 5.22,
           "grnd_level": 995,
           "humidity": 37,
           "pressure": 1012,
           "sea_level": 1012,
           "temp": 6.6,
           "temp_kf": 0,
           "temp_max": 6.6,
           "temp_min": 6.6
          },
          "pop": 0,
          "sys": {
           "pod": "d"
          },
          "visibility": 10000,
          "weather": [
           {
            "description": "clear sky",
            "icon": "01d",
            "id": 800,
            "main": "Clear"
           }
          ],
          "wind": {
           "deg": 267,
           "gust": 2.66,
           "speed": 2.01
          }
         },
         {
          "clouds": {
           "all": 0
          },
          "dt": 1638802800,
          "dt_txt": "2021-12-06 15:00:00",
          "main": {
           "feels_like": 4.6,
           "grnd_level": 995,
           "humidity": 39,
           "pressure": 1012,
           "sea_level": 1012,
           "temp": 6.29,
           "temp_kf": 0,
           "temp_max": 6.29,
           "temp_min": 6.29
          },
          "pop": 0,
          "sys": {
           "pod": "d"
          },
          "visibility": 10000,
          "weather": [
           {
            "description": "clear sky",
            "icon": "01d",
            "id": 800,
            "main": "Clear"
           }
          ],
          "wind": {
           "deg": 247,
           "gust": 4.27,
           "speed": 2.3
          }
         },
         {
          "clouds": {
           "all": 1
          },
          "dt": 1638813600,
          "dt_txt": "2021-12-06 18:00:00",
          "main": {
           "feels_like": 2.3,
           "grnd_level": 997,
           "humidity": 50,
           "pressure": 1013,
           "sea_level": 1013,
           "temp": 4.23,
           "temp_kf": 0,
           "temp_max": 4.23,
           "temp_min": 4.23
          },
          "pop": 0,
          "sys": {
           "pod": "n"
          },
          "visibility": 10000,
          "weather": [
           {
            "description": "clear sky",
            "icon": "01n",
            "id": 800,
            "main": "Clear"
           }
          ],
          "wind": {
           "deg": 250,
           "gust": 4.44,
           "speed": 2.17
          }
         },
         {
          "clouds": {
           "all": 1
          },
          "dt": 1638824400,
          "dt_txt": "2021-12-06 21:00:00",
          "main": {
           "feels_like": 3.46,
           "grnd_level": 997,
           "humidity": 53,
           "pressure": 1014,
           "sea_level": 1014,
           "temp": 3.46,
           "temp_kf": 0,
           "temp_max": 3.46,
           "temp_min": 3.46
          },
          "pop": 0,
          "sys": {
           "pod": "n"
          },
          "visibility": 10000,
          "weather": [
           {
            "description": "clear sky",
            "icon": "01n",
            "id": 800,
            "main": "Clear"
           }
          ],
          "wind": {
           "deg": 273,
           "gust": 1.5,
           "speed": 1.31
          }
         },
         {
          "clouds": {
           "all": 1
          },
          "dt": 1638835200,
          "dt_txt": "2021-12-07 00:00:00",
          "main": {
           "feels_like": 2.94,
           "grnd_level": 997,
           "humidity": 50,
           "pressure": 1013,
           "sea_level": 1013,
           "temp": 2.94,
           "temp_kf": 0,
           "temp_max": 2.94,
           "temp_min": 2.94
          },
          "pop": 0,
          "sys": {
           "pod": "n"
          },
          "visibility": 10000,
          "weather": [
           {
            "description": "clear sky",
            "icon": "01n",
            "id": 800,
            "main": "Clear"
           }
          ],
          "wind": {
           "deg": 335,
           "gust": 1.44,
           "speed": 1.1
          }
         },
         {
          "clouds": {
           "all": 39
          },
          "dt": 1638846000,
          "dt_txt": "2021-12-07 03:00:00",
          "main": {
           "feels_like": 2.59,
           "grnd_level": 996,
           "humidity": 50,
           "pressure": 1012,
           "sea_level": 1012,
           "temp": 2.59,
           "temp_kf": 0,
           "temp_max": 2.59,
           "temp_min": 2.59
          },
          "pop": 0,
          "sys": {
           "pod": "n"
          },
          "visibility": 10000,
          "weather": [
           {
            "description": "scattered clouds",
            "icon": "03n",
            "id": 802,
            "main": "Clouds"
           }
          ],
          "wind": {
           "deg": 44,
           "gust": 0.79,
           "speed": 0.51
          }
         },
         {
          "clouds": {
           "all": 49
          },
          "dt": 1638856800,
          "dt_txt": "2021-12-07 06:00:00",
          "main": {
           "feels_like": 0.79,
           "grnd_level": 996,
           "humidity": 47,
           "pressure": 1013,
           "sea_level": 1013,
           "temp": 2.23,
           "temp_kf": 0,
           "temp_max": 2.23,
           "temp_min": 2.23
          },
          "pop": 0,
          "sys": {
           "pod": "n"
          },
          "visibility": 10000,
          "weather": [
           {
            "description": "scattered clouds",
            "icon": "03n",
            "id": 802,
            "main": "Clouds"
           }
          ],
          "wind": {
           "deg": 247,
           "gust": 1.43,
           "speed": 1.5
          }
         },
         {
          "clouds": {
           "all": 2
          },
          "dt": 1638867600,
          "dt_txt": "2021-12-07 09:00:00",
          "main": {
           "feels_like": 2.47,
           "grnd_level": 997,
           "humidity": 37,
           "pressure": 1013,
           "sea_level": 1013,
           "temp": 3.78,
           "temp_kf": 0,
           "temp_max": 3.78,
           "temp_min": 3.78
          },
          "pop": 0,
          "sys": {
           "pod": "d"
          },
          "visibility": 10000,
          "weather": [
           {
            "description": "clear sky",
            "icon": "01d",
            "id": 800,
            "main": "Clear"
           }
          ],
          "wind": {
           "deg": 263,
           "gust": 2.82,
           "speed": 1.56
          }
         },
         {
          "clouds": {
           "all": 3
          },
          "dt": 1638878400,
          "dt_txt": "2021-12-07 12:00:00",
          "main": {
           "feels_like": 6.47,
           "grnd_level": 996,
           "humidity": 32,
           "pressure": 1012,
           "sea_level": 1012,
           "temp": 6.47,
           "temp_kf": 0,
           "temp_max": 6.47,
           "temp_min": 6.47
          },
          "pop": 0,
          "sys": {
           "pod": "d"
          },
          "visibility": 10000,
          "weather": [
           {
            "description": "clear sky",
            "icon": "01d",
            "id": 800,
            "main": "Clear"
           }
          ],
          "wind": {
           "deg": 215,
           "gust": 0.61,
           "speed": 0.56
          }
         },
         {
          "clouds": {
           "all": 53
          },
          "dt": 1638889200,
          "dt_txt": "2021-12-07 15:00:00",
          "main": {
           "feels_like": 5.59,
           "grnd_level": 996,
           "humidity": 42,
           "pressure": 1012,
           "sea_level": 1012,
           "temp": 5.59,
           "temp_kf": 0,
           "temp_max": 5.59,
           "temp_min": 5.59
          },
          "pop": 0,
          "sys": {
           "pod": "d"
          },
          "visibility": 10000,
          "weather": [
           {
            "description": "broken clouds",
            "icon": "04d",
            "id": 803,
            "main": "Clouds"
           }
          ],
          "wind": {
           "deg": 139,
           "gust": 0.69,
           "speed": 0.61
          }
         },
         {
          "clouds": {
           "all": 77
          },
          "dt": 1638900000,
          "dt_txt": "2021-12-07 18:00:00",
          "main": {
           "feels_like": 2.45,
           "grnd_level": 996,
           "humidity": 51,
           "pressure": 1013,
           "sea_level": 1013,
           "temp": 3.95,
           "temp_kf": 0,
           "temp_max": 3.95,
           "temp_min": 3.95
          },
          "pop": 0,
          "sys": {
           "pod": "n"
          },
          "visibility": 10000,
          "weather": [
           {
            "description": "broken clouds",
            "icon": "04n",
            "id": 803,
            "main": "Clouds"
           }
          ],
          "wind": {
           "deg": 92,
           "gust": 3.34,
           "speed": 1.73
          }
         },
         {
          "clouds": {
           "all": 80
          },
          "dt": 1638910800,
          "dt_txt": "2021-12-07 21:00:00",
          "main": {
           "feels_like": 1.69,
           "grnd_level": 996,
           "humidity": 53,
           "pressure": 1013,
           "sea_level": 1013,
           "temp": 3.05,
           "temp_kf": 0,
           "temp_max": 3.05,
           "temp_min": 3.05
          },
          "pop": 0,
          "sys": {
           "pod": "n"
          },
          "visibility": 10000,
          "weather": [
           {
            "description": "broken clouds",
            "icon": "04n",
            "id": 803,
            "main": "Clouds"
           }
          ],
          "wind": {
           "deg": 78,
           "gust": 2.9,
           "speed": 1.52
          }
         },
         {
          "clouds": {
           "all": 90
          },
          "dt": 1638921600,
          "dt_txt": "2021-12-08 00:00:00",
          "main": {
           "feels_like": 1.21,
           "grnd_level": 995,
           "humidity": 55,
           "pressure": 1011,
           "sea_level": 1011,
           "temp": 2.39,
           "temp_kf": 0,
           "temp_max": 2.39,
           "temp_min": 2.39
          },
          "pop": 0,
          "sys": {
           "pod": "n"
          },
          "visibility": 10000,
          "weather": [
           {
            "description": "overcast clouds",
            "icon": "04n",
            "id": 804,
            "main": "Clouds"
           }
          ],
          "wind": {
           "deg": 58,
           "gust": 2.6,
           "speed": 1.34
          }
         },
         {
          "clouds": {
           "all": 100
          },
          "dt": 1638932400,
          "dt_txt": "2021-12-08 03:00:00",
          "main": {
           "feels_like": 2.62,
           "grnd_level": 993,
           "humidity": 60,
           "pressure": 1009,
           "sea_level": 1009,
           "temp": 2.62,
           "temp_kf": 0,
           "temp_max": 2.62,
           "temp_min": 2.62
          },
          "pop": 0.07,
          "sys": {
           "pod": "n"
          },
          "visibility": 10000,
          "weather": [
           {
            "description": "overcast clouds",
            "icon": "04n",
            "id": 804,
            "main": "Clouds"
           }
          ],
          "wind": {
           "deg": 106,
           "gust": 2.67,
           "speed": 1.26
          }
         },
         {
          "clouds": {
           "all": 100
          },
          "dt": 1638943200,
          "dt_txt": "2021-12-08 06:00:00",
          "main": {
           "feels_like": -0.98,
           "grnd_level": 991,
           "humidity": 80,
           "pressure": 1007,
           "sea_level": 1007,
           "temp": 1.47,
           "temp_kf": 0,
           "temp_max": 1.47,
           "temp_min": 1.47
          },
          "pop": 0.43,
          "snow": {
           "3h": 0.18
          },
          "sys": {
           "pod": "n"
          },
          "visibility": 10000,
          "weather": [
           {
            "description": "light snow",
            "icon": "13n",
            "id": 600,
            "main": "Snow"
           }
          ],
          "wind": {
           "deg": 84,
           "gust": 4.78,
           "speed": 2.21
          }
         },
         {
          "clouds": {
           "all": 100
          },
          "dt": 1638954000,
          "dt_txt": "2021-12-08 09:00:00",
          "main": {
           "feels_like": -2.55,
           "grnd_level": 989,
           "humidity": 99,
           "pressure": 1006,
           "sea_level": 1006,
           "temp": 0.64,
           "temp_kf": 0,
           "temp_max": 0.64,
           "temp_min": 0.64
          },
          "pop": 1,
          "snow": {
           "3h": 5.13
          },
          "sys": {
           "pod": "d"
          },
          "visibility": 36,
          "weather": [
           {
            "description": "snow",
            "icon": "13d",
            "id": 601,
            "main": "Snow"
           }
          ],
          "wind": {
           "deg": 29,
           "gust": 6.35,
           "speed": 2.8
          }
         },
         {
          "clouds": {
           "all": 100
          },
          "dt": 1638964800,
          "dt_txt": "2021-12-08 12:00:00",
          "main": {
           "feels_like": -2.43,
           "grnd_level": 986,
           "humidity": 100,
           "pressure": 1003,
           "sea_level": 1003,
           "temp": 0.23,
           "temp_kf": 0,
           "temp_max": 0.23,
           "temp_min": 0.23
          },
          "pop": 1,
          "snow": {
           "3h": 7
          },
          "sys": {
           "pod": "d"
          },
          "visibility": 31,
          "weather": [
           {
            "description": "snow",
            "icon": "13d",
            "id": 601,
            "main": "Snow"
           }
          ],
          "wind": {
           "deg": 273,
           "gust": 4.79,
           "speed": 2.2
          }
         },
         {
          "clouds": {
           "all": 100
          },
          "dt": 1638975600,
          "dt_txt": "2021-12-08 15:00:00",
          "main": {
           "feels_like": -2.26,
           "grnd_level": 986,
           "humidity": 100,
           "pressure": 1003,
           "sea_level": 1003,
           "temp": 0.14,
           "temp_kf": 0,
           "temp_max": 0.14,
           "temp_min": 0.14
          },
          "pop": 1,
          "snow": {
           "3h": 6.84
          },
          "sys": {
           "pod": "d"
          },
          "visibility": 28,
          "weather": [
           {
            "description": "snow",
            "icon": "13d",
            "id": 601,
            "main": "Snow"
           }
          ],
          "wind": {
           "deg": 244,
           "gust": 4.78,
           "speed": 1.97
          }
         },
         {
          "clouds": {
           "all": 100
          },
          "dt": 1638986400,
          "dt_txt": "2021-12-08 18:00:00",
          "main": {
           "feels_like": -2.88,
           "grnd_level": 987,
           "humidity": 100,
           "pressure": 1004,
           "sea_level": 1004,
           "temp": -0.07,
           "temp_kf": 0,
           "temp_max": -0.07,
           "temp_min": -0.07
          },
          "pop": 1,
          "snow": {
           "3h": 1.21
          },
          "sys": {
           "pod": "n"
          },
          "visibility": 229,
          "weather": [
           {
            "description": "light snow",
            "icon": "13n",
            "id": 600,
            "main": "Snow"
           },
           {
            "description": "freezing rain",
            "icon": "13n",
            "id": 511,
            "main": "Rain"
           }
          ],
          "wind": {
           "deg": 233,
           "gust": 4.57,
           "speed": 2.29
          }
         },
         {
          "clouds": {
           "all": 99
          },
          "dt": 1638997200,
          "dt_txt": "2021-12-08 21:00:00",
          "main": {
           "feels_like": -2.88,
           "grnd_level": 989,
           "humidity": 99,
           "pressure": 1005,
           "sea_level": 1005,
           "temp": -0.07,
           "temp_kf": 0,
           "temp_max": -0.07,
           "temp_min": -0.07
          },
          "pop": 0.17,
          "sys": {
           "pod": "n"
          },
          "visibility": 4726,
          "weather": [
           {
            "description": "overcast clouds",
            "icon": "04n",
            "id": 804,
            "main": "Clouds"
           }
          ],
          "wind": {
           "deg": 272,
           "gust": 4.91,
           "speed": 2.29
          }
         },
         {
          "clouds": {
           "all": 98
          },
          "dt": 1639008000,
          "dt_txt": "2021-12-09 00:00:00",
          "main": {
           "feels_like": -2.55,
           "grnd_level": 988,
           "humidity": 97,
           "pressure": 1004,
           "sea_level": 1004,
           "temp": -0.44,
           "temp_kf": 0,
           "temp_max": -0.44,
           "temp_min": -0.44
          },
          "pop": 0.16,
          "sys": {
           "pod": "n"
          },
          "visibility": 10000,
          "weather": [
           {
            "description": "overcast clouds",
            "icon": "04n",
            "id": 804,
            "main": "Clouds"
           }
          ],
          "wind": {
           "deg": 253,
           "gust": 2.94,
           "speed": 1.69
          }
         },
         {
          "clouds": {
           "all": 64
          },
          "dt": 1639018800,
          "dt_txt": "2021-12-09 03:00:00",
          "main": {
           "feels_like": -3.38,
           "grnd_level": 989,
           "humidity": 97,
           "pressure": 1005,
           "sea_level": 1005,
           "temp": -1.06,
           "temp_kf": 0,
           "temp_max": -1.06,
           "temp_min": -1.06
          },
          "pop": 0,
          "sys": {
           "pod": "n"
          },
          "visibility": 8060,
          "weather": [
           {
            "description": "broken clouds",
            "icon": "04n",
            "id": 803,
            "main": "Clouds"
           }
          ],
          "wind": {
           "deg": 267,
           "gust": 3.21,
           "speed": 1.77
          }
         },
         {
          "clouds": {
           "all": 81
          },
          "dt": 1639029600,
          "dt_txt": "2021-12-09 06:00:00",
          "main": {
           "feels_like": -2.67,
           "grnd_level": 989,
           "humidity": 96,
           "pressure": 1005,
           "sea_level": 1005,
           "temp": -0.66,
           "temp_kf": 0,
           "temp_max": -0.66,
           "temp_min": -0.66
          },
          "pop": 0,
          "sys": {
           "pod": "n"
          },
          "visibility": 10000,
          "weather": [
           {
            "description": "broken clouds",
            "icon": "04n",
            "id": 803,
            "main": "Clouds"
           }
          ],
          "wind": {
           "deg": 272,
           "gust": 2.53,
           "speed": 1.6
          }
         },
         {
          "clouds": {
           "all": 100
          },
          "dt": 1639040400,
          "dt_txt": "2021-12-09 09:00:00",
          "main": {
           "feels_like": -0.65,
           "grnd_level": 989,
           "humidity": 93,
           "pressure": 1006,
           "sea_level": 1006,
           "temp": -0.65,
           "temp_kf": 0,
           "temp_max": -0.65,
           "temp_min": -0.65
          },
          "pop": 0,
          "sys": {
           "pod": "d"
          },
          "visibility": 10000,
          "weather": [
           {
            "description": "overcast clouds",
            "icon": "04d",
            "id": 804,
            "main": "Clouds"
           }
          ],
          "wind": {
           "deg": 252,
           "gust": 0.54,
           "speed": 0.26
          }
         },
         {
          "clouds": {
           "all": 100
          },
          "dt": 1639051200,
          "dt_txt": "2021-12-09 12:00:00",
          "main": {
           "feels_like": -0.01,
           "grnd_level": 988,
           "humidity": 99,
           "pressure": 1004,
           "sea_level": 1004,
           "temp": -0.01,
           "temp_kf": 0,
           "temp_max": -0.01,
           "temp_min": -0.01
          },
          "pop": 0,
          "sys": {
           "pod": "d"
          },
          "visibility": 10000,
          "weather": [
           {
            "description": "overcast clouds",
            "icon": "04d",
            "id": 804,
            "main": "Clouds"
           }
          ],
          "wind": {
           "deg": 262,
           "gust": 1.44,
           "speed": 1.27
          }
         },
         {
          "clouds": {
           "all": 100
          },
          "dt": 1639062000,
          "dt_txt": "2021-12-09 15:00:00",
          "main": {
           "feels_like": -2.16,
           "grnd_level": 987,
           "humidity": 94,
           "pressure": 1004,
           "sea_level": 1004,
           "temp": 0.21,
           "temp_kf": 0,
           "temp_max": 0.21,
           "temp_min": 0.21
          },
          "pop": 0,
          "sys": {
           "pod": "d"
          },
          "visibility": 10000,
          "weather": [
           {
            "description": "overcast clouds",
            "icon": "04d",
            "id": 804,
            "main": "Clouds"
           }
          ],
          "wind": {
           "deg": 220,
           "gust": 2.65,
           "speed": 1.96
          }
         },
         {
          "clouds": {
           "all": 100
          },
          "dt": 1639072800,
          "dt_txt": "2021-12-09 18:00:00",
          "main": {
           "feels_like": -2.46,
           "grnd_level": 987,
           "humidity": 92,
           "pressure": 1004,
           "sea_level": 1004,
           "temp": 0.25,
           "temp_kf": 0,
           "temp_max": 0.25,
           "temp_min": 0.25
          },
          "pop": 0,
          "sys": {
           "pod": "n"
          },
          "visibility": 10000,
          "weather": [
           {
            "description": "overcast clouds",
            "icon": "04n",
            "id": 804,
            "main": "Clouds"
           }
          ],
          "wind": {
           "deg": 286,
           "gust": 3.31,
           "speed": 2.25
          }
         },
         {
          "clouds": {
           "all": 100
          },
          "dt": 1639083600,
          "dt_txt": "2021-12-09 21:00:00",
          "main": {
           "feels_like": 0.2,
           "grnd_level": 987,
           "humidity": 92,
           "pressure": 1004,
           "sea_level": 1004,
           "temp": 0.2,
           "temp_kf": 0,
           "temp_max": 0.2,
           "temp_min": 0.2
          },
          "pop": 0,
          "sys": {
           "pod": "n"
          },
          "visibility": 10000,
          "weather": [
           {
            "description": "overcast clouds",
            "icon": "04n",
            "id": 804,
            "main": "Clouds"
           }
          ],
          "wind": {
           "deg": 278,
           "gust": 1.63,
           "speed": 1.28
          }
         },
         {
          "clouds": {
           "all": 100
          },
          "dt": 1639094400,
          "dt_txt": "2021-12-10 00:00:00",
          "main": {
           "feels_like": -2.97,
           "grnd_level": 987,
           "humidity": 92,
           "pressure": 1004,
           "sea_level": 1004,
           "temp": -0.28,
           "temp_kf": 0,
           "temp_max": -0.28,
           "temp_min": -0.28
          },
          "pop": 0,
          "sys": {
           "pod": "n"
          },
          "visibility": 10000,
          "weather": [
           {
            "description": "overcast clouds",
            "icon": "04n",
            "id": 804,
            "main": "Clouds"
           }
          ],
          "wind": {
           "deg": 261,
           "gust": 3.29,
           "speed": 2.15
          }
         },
         {
          "clouds": {
           "all": 76
          },
          "dt": 1639105200,
          "dt_txt": "2021-12-10 03:00:00",
          "main": {
           "feels_like": -4.41,
           "grnd_level": 987,
           "humidity": 96,
           "pressure": 1004,
           "sea_level": 1004,
           "temp": -2.11,
           "temp_kf": 0,
           "temp_max": -2.11,
           "temp_min": -2.11
          },
          "pop": 0,
          "sys": {
           "pod": "n"
          },
          "visibility": 10000,
          "weather": [
           {
            "description": "broken clouds",
            "icon": "04n",
            "id": 803,
            "main": "Clouds"
           }
          ],
          "wind": {
           "deg": 236,
           "gust": 2.5,
           "speed": 1.65
          }
         },
         {
          "clouds": {
           "all": 53
          },
          "dt": 1639116000,
          "dt_txt": "2021-12-10 06:00:00",
          "main": {
           "feels_like": -2.44,
           "grnd_level": 988,
           "humidity": 96,
           "pressure": 1004,
           "sea_level": 1004,
           "temp": -2.44,
           "temp_kf": 0,
           "temp_max": -2.44,
           "temp_min": -2.44
          },
          "pop": 0,
          "sys": {
           "pod": "n"
          },
          "visibility": 10000,
          "weather": [
           {
            "description": "broken clouds",
            "icon": "04n",
            "id": 803,
            "main": "Clouds"
           }
          ],
          "wind": {
           "deg": 266,
           "gust": 0.69,
           "speed": 0.61
          }
         },
         {
          "clouds": {
           "all": 58
          },
          "dt": 1639126800,
          "dt_txt": "2021-12-10 09:00:00",
          "main": {
           "feels_like": -1.12,
           "grnd_level": 988,
           "humidity": 95,
           "pressure": 1005,
           "sea_level": 1005,
           "temp": -1.12,
           "temp_kf": 0,
           "temp_max": -1.12,
           "temp_min": -1.12
          },
          "pop": 0,
          "sys": {
           "pod": "d"
          },
          "visibility": 10000,
          "weather": [
           {
            "description": "broken clouds",
            "icon": "04d",
            "id": 803,
            "main": "Clouds"
           }
          ],
          "wind": {
           "deg": 211,
           "gust": 0.65,
           "speed": 0.83
          }
         },
         {
          "clouds": {
           "all": 73
          },
          "dt": 1639137600,
          "dt_txt": "2021-12-10 12:00:00",
          "main": {
           "feels_like": -2.35,
           "grnd_level": 989,
           "humidity": 93,
           "pressure": 1005,
           "sea_level": 1005,
           "temp": 0.14,
           "temp_kf": 0,
           "temp_max": 0.14,
           "temp_min": 0.14
          },
          "pop": 0,
          "sys": {
           "pod": "d"
          },
          "visibility": 10000,
          "weather": [
           {
            "description": "broken clouds",
            "icon": "04d",
            "id": 803,
            "main": "Clouds"
           }
          ],
          "wind": {
           "deg": 88,
           "gust": 4.05,
           "speed": 2.05
          }
         }
        ],
        "message": 0
       },
       {
        "city": {
         "coord": {
          "lat": 44.804,
          "lon": 20.4651
         },
         "country": "RS",
         "id": 792680,
         "name": "Belgrade",
         "population": 1273651,
         "sunrise": 1638684001,
         "sunset": 1638716273,
         "timezone": 3600
        },
        "cnt": 40,
        "cod": "200",
        "list": [
         {
          "clouds": {
           "all": 40
          },
          "dt": 1638716400,
          "dt_txt": "2021-12-05 15:00:00",
          "main": {
           "feels_like": 4.45,
           "grnd_level": 990,
           "humidity": 93,
           "pressure": 1004,
           "sea_level": 1004,
           "temp": 5.8,
           "temp_kf": -1.5,
           "temp_max": 7.3,
           "temp_min": 5.8
          },
          "pop": 0.61,
          "rain": {
           "3h": 0.82
          },
          "sys": {
           "pod": "n"
          },
          "visibility": 10000,
          "weather": [
           {
            "description": "light rain",
            "icon": "10n",
            "id": 500,
            "main": "Rain"
           }
          ],
          "wind": {
           "deg": 13,
           "gust": 3.39,
           "speed": 1.85
          }
         },
         {
          "clouds": {
           "all": 60
          },
          "dt": 1638727200,
          "dt_txt": "2021-12-05 18:00:00",
          "main": {
           "feels_like": 3.83,
           "grnd_level": 989,
           "humidity": 87,
           "pressure": 1004,
           "sea_level": 1004,
           "temp": 6.07,
           "temp_kf": -0.55,
           "temp_max": 6.62,
           "temp_min": 6.07
          },
          "pop": 0.56,
          "sys": {
           "pod": "n"
          },
          "visibility": 10000,
          "weather": [
           {
            "description": "broken clouds",
            "icon": "04n",
            "id": 803,
            "main": "Clouds"
           }
          ],
          "wind": {
           "deg": 101,
           "gust": 5.78,
           "speed": 2.95
          }
         },
         {
          "clouds": {
           "all": 80
          },
          "dt": 1638738000,
          "dt_txt": "2021-12-05 21:00:00",
          "main": {
           "feels_like": 5.01,
           "grnd_level": 989,
           "humidity": 86,
           "pressure": 1004,
           "sea_level": 1004,
           "temp": 6.16,
           "temp_kf": -0.18,
           "temp_max": 6.34,
           "temp_min": 6.16
          },
          "pop": 0.11,
          "sys": {
           "pod": "n"
          },
          "visibility": 10000,
          "weather": [
           {
            "description": "broken clouds",
            "icon": "04n",
            "id": 803,
            "main": "Clouds"
           }
          ],
          "wind": {
           "deg": 114,
           "gust": 2.73,
           "speed": 1.72
          }
         },
         {
          "clouds": {
           "all": 100
          },
          "dt": 1638748800,
          "dt_txt": "2021-12-06 00:00:00",
          "main": {
           "feels_like": 5.4,
           "grnd_level": 988,
           "humidity": 88,
           "pressure": 1003,
           "sea_level": 1003,
           "temp": 6.57,
           "temp_kf": 0,
           "temp_max": 6.57,
           "temp_min": 6.57
          },
          "pop": 0.38,
          "rain": {
           "3h": 0.38
          },
          "sys": {
           "pod": "n"
          },
          "visibility": 10000,
          "weather": [
           {
            "description": "light rain",
            "icon": "10n",
            "id": 500,
            "main": "Rain"
           }
          ],
          "wind": {
           "deg": 122,
           "gust": 3.39,
           "speed": 1.8
          }
         },
         {
          "clouds": {
           "all": 100
          },
          "dt": 1638759600,
          "dt_txt": "2021-12-06 03:00:00",
          "main": {
           "feels_like": 5.04,
           "grnd_level": 987,
           "humidity": 93,
           "pressure": 1002,
           "sea_level": 1002,
           "temp": 6.46,
           "temp_kf": 0,
           "temp_max": 6.46,
           "temp_min": 6.46
          },
          "pop": 0.95,
          "rain": {
           "3h": 2.06
          },
          "sys": {
           "pod": "n"
          },
          "visibility": 7370,
          "weather": [
           {
            "description": "light rain",
            "icon": "10n",
            "id": 500,
            "main": "Rain"
           }
          ],
          "wind": {
           "deg": 156,
           "gust": 6.79,
           "speed": 2.03
          }
         },
         {
          "clouds": {
           "all": 100
          },
          "dt": 1638770400,
          "dt_txt": "2021-12-06 06:00:00",
          "main": {
           "feels_like": 1.93,
           "grnd_level": 989,
           "humidity": 94,
           "pressure": 1004,
           "sea_level": 1004,
           "temp": 5.22,
           "temp_kf": 0,
           "temp_max": 5.22,
           "temp_min": 5.22
          },
          "pop": 1,
          "rain": {
           "3h": 3.67
          },
          "sys": {
           "pod": "n"
          },
          "visibility": 10000,
          "weather": [
           {
            "description": "moderate rain",
            "icon": "10n",
            "id": 501,
            "main": "Rain"
           }
          ],
          "wind": {
           "deg": 239,
           "gust": 7.36,
           "speed": 4.37
          }
         },
         {
          "clouds": {
           "all": 100
          },
          "dt": 1638781200,
          "dt_txt": "2021-12-06 09:00:00",
          "main": {
           "feels_like": -0.86,
           "grnd_level": 991,
           "humidity": 94,
           "pressure": 1007,
           "sea_level": 1007,
           "temp": 3.41,
           "temp_kf": 0,
           "temp_max": 3.41,
           "temp_min": 3.41
          },
          "pop": 0.13,
          "sys": {
           "pod": "d"
          },
          "visibility": 3341,
          "weather": [
           {
            "description": "overcast clouds",
            "icon": "04d",
            "id": 804,
            "main": "Clouds"
           }
          ],
          "wind": {
           "deg": 263,
           "gust": 8.59,
           "speed": 5.43
          }
         },
         {
          "clouds": {
           "all": 100
          },
          "dt": 1638792000,
          "dt_txt": "2021-12-06 12:00:00",
          "main": {
           "feels_like": -0.84,
           "grnd_level": 992,
           "humidity": 94,
           "pressure": 1007,
           "sea_level": 1007,
           "temp": 3.1,
           "temp_kf": 0,
           "temp_max": 3.1,
           "temp_min": 3.1
          },
          "pop": 0.15,
          "sys": {
           "pod": "d"
          },
          "visibility": 2902,
          "weather": [
           {
            "description": "overcast clouds",
            "icon": "04d",
            "id": 804,
            "main": "Clouds"
           }
          ],
          "wind": {
           "deg": 285,
           "gust": 7.98,
           "speed": 4.62
          }
         },
         {
          "clouds": {
           "all": 100
          },
          "dt": 1638802800,
          "dt_txt": "2021-12-06 15:00:00",
          "main": {
           "feels_like": -0.57,
           "grnd_level": 993,
           "humidity": 96,
           "pressure": 1009,
           "sea_level": 1009,
           "temp": 2.84,
           "temp_kf": 0,
           "temp_max": 2.84,
           "temp_min": 2.84
          },
          "pop": 0.39,
          "rain": {
           "3h": 0.11
          },
          "sys": {
           "pod": "n"
          },
          "visibility": 103,
          "weather": [
           {
            "description": "light rain",
            "icon": "10n",
            "id": 500,
            "main": "Rain"
           }
          ],
          "wind": {
           "deg": 288,
           "gust": 6.17,
           "speed": 3.66
          }
         },
         {
          "clouds": {
           "all": 100
          },
          "dt": 1638813600,
          "dt_txt": "2021-12-06 18:00:00",
          "main": {
           "feels_like": -1.13,
           "grnd_level": 995,
           "humidity": 97,
           "pressure": 1010,
           "sea_level": 1010,
           "temp": 2.54,
           "temp_kf": 0,
           "temp_max": 2.54,
           "temp_min": 2.54
          },
          "pop": 0.67,
          "rain": {
           "3h": 1.49
          },
          "sys": {
           "pod": "n"
          },
          "visibility": 47,
          "weather": [
           {
            "description": "light rain",
            "icon": "10n",
            "id": 500,
            "main": "Rain"
           }
          ],
          "wind": {
           "deg": 286,
           "gust": 6.92,
           "speed": 3.95
          }
         },
         {
          "clouds": {
           "all": 100
          },
          "dt": 1638824400,
          "dt_txt": "2021-12-06 21:00:00",
          "main": {
           "feels_like": -1.35,
           "grnd_level": 995,
           "humidity": 97,
           "pressure": 1011,
           "sea_level": 1011,
           "temp": 2.4,
           "temp_kf": 0,
           "temp_max": 2.4,
           "temp_min": 2.4
          },
          "pop": 0.99,
          "rain": {
           "3h": 0.36
          },
          "sys": {
           "pod": "n"
          },
          "visibility": 44,
          "weather": [
           {
            "description": "light rain",
            "icon": "10n",
            "id": 500,
            "main": "Rain"
           }
          ],
          "wind": {
           "deg": 284,
           "gust": 6.51,
           "speed": 4.02
          }
         },
         {
          "clouds": {
           "all": 100
          },
          "dt": 1638835200,
          "dt_txt": "2021-12-07 00:00:00",
          "main": {
           "feels_like": -1.32,
           "grnd_level": 995,
           "humidity": 99,
           "pressure": 1010,
           "sea_level": 1010,
           "temp": 2.13,
           "temp_kf": 0,
           "temp_max": 2.13,
           "temp_min": 2.13
          },
          "pop": 1,
          "rain": {
           "3h": 1.96
          },
          "sys": {
           "pod": "n"
          },
          "visibility": 26,
          "weather": [
           {
            "description": "light rain",
            "icon": "10n",
            "id": 500,
            "main": "Rain"
           }
          ],
          "wind": {
           "deg": 303,
           "gust": 7.6,
           "speed": 3.49
          }
         },
         {
          "clouds": {
           "all": 100
          },
          "dt": 1638846000,
          "dt_txt": "2021-12-07 03:00:00",
          "main": {
           "feels_like": -1.48,
           "grnd_level": 996,
           "humidity": 98,
           "pressure": 1011,
           "sea_level": 1011,
           "temp": 2.15,
           "temp_kf": 0,
           "temp_max": 2.15,
           "temp_min": 2.15
          },
          "pop": 0.88,
          "snow": {
           "3h": 1.13
          },
          "sys": {
           "pod": "n"
          },
          "visibility": 31,
          "weather": [
           {
            "description": "light snow",
            "icon": "13n",
            "id": 600,
            "main": "Snow"
           }
          ],
          "wind": {
           "deg": 288,
           "gust": 6.45,
           "speed": 3.75
          }
         },
         {
          "clouds": {
           "all": 100
          },
          "dt": 1638856800,
          "dt_txt": "2021-12-07 06:00:00",
          "main": {
           "feels_like": -2.84,
           "grnd_level": 996,
           "humidity": 95,
           "pressure": 1011,
           "sea_level": 1011,
           "temp": 1.38,
           "temp_kf": 0,
           "temp_max": 1.38,
           "temp_min": 1.38
          },
          "pop": 0.83,
          "snow": {
           "3h": 0.59
          },
          "sys": {
           "pod": "n"
          },
          "visibility": 2596,
          "weather": [
           {
            "description": "light snow",
            "icon": "13n",
            "id": 600,
            "main": "Snow"
           }
          ],
          "wind": {
           "deg": 291,
           "gust": 7,
           "speed": 4.4
          }
         },
         {
          "clouds": {
           "all": 100
          },
          "dt": 1638867600,
          "dt_txt": "2021-12-07 09:00:00",
          "main": {
           "feels_like": -2.6,
           "grnd_level": 997,
           "humidity": 74,
           "pressure": 1012,
           "sea_level": 1012,
           "temp": 1.86,
           "temp_kf": 0,
           "temp_max": 1.86,
           "temp_min": 1.86
          },
          "pop": 0.06,
          "sys": {
           "pod": "d"
          },
          "visibility": 10000,
          "weather": [
           {
            "description": "overcast clouds",
            "icon": "04d",
            "id": 804,
            "main": "Clouds"
           }
          ],
          "wind": {
           "deg": 293,
           "gust": 6.6,
           "speed": 5.01
          }
         },
         {
          "clouds": {
           "all": 100
          },
          "dt": 1638878400,
          "dt_txt": "2021-12-07 12:00:00",
          "main": {
           "feels_like": -1.06,
           "grnd_level": 996,
           "humidity": 63,
           "pressure": 1011,
           "sea_level": 1011,
           "temp": 3.19,
           "temp_kf": 0,
           "temp_max": 3.19,
           "temp_min": 3.19
          },
          "pop": 0.06,
          "sys": {
           "pod": "d"
          },
          "visibility": 10000,
          "weather": [
           {
            "description": "overcast clouds",
            "icon": "04d",
            "id": 804,
            "main": "Clouds"
           }
          ],
          "wind": {
           "deg": 309,
           "gust": 6.95,
           "speed": 5.26
          }
         },
         {
          "clouds": {
           "all": 100
          },
          "dt": 1638889200,
          "dt_txt": "2021-12-07 15:00:00",
          "main": {
           "feels_like": -1.01,
           "grnd_level": 996,
           "humidity": 64,
           "pressure": 1012,
           "sea_level": 1012,
           "temp": 2.64,
           "temp_kf": 0,
           "temp_max": 2.64,
           "temp_min": 2.64
          },
          "pop": 0,
          "sys": {
           "pod": "n"
          },
          "visibility": 10000,
          "weather": [
           {
            "description": "overcast clouds",
            "icon": "04n",
            "id": 804,
            "main": "Clouds"
           }
          ],
          "wind": {
           "deg": 307,
           "gust": 7.29,
           "speed": 3.95
          }
         },
         {
          "clouds": {
           "all": 80
          },
          "dt": 1638900000,
          "dt_txt": "2021-12-07 18:00:00",
          "main": {
           "feels_like": -2.68,
           "grnd_level": 997,
           "humidity": 74,
           "pressure": 1013,
           "sea_level": 1013,
           "temp": 1.49,
           "temp_kf": 0,
           "temp_max": 1.49,
           "temp_min": 1.49
          },
          "pop": 0,
          "sys": {
           "pod": "n"
          },
          "visibility": 10000,
          "weather": [
           {
            "description": "broken clouds",
            "icon": "04n",
            "id": 803,
            "main": "Clouds"
           }
          ],
          "wind": {
           "deg": 297,
           "gust": 9.56,
           "speed": 4.35
          }
         },
         {
          "clouds": {
           "all": 44
          },
          "dt": 1638910800,
          "dt_txt": "2021-12-07 21:00:00",
          "main": {
           "feels_like": -3.44,
           "grnd_level": 998,
           "humidity": 84,
           "pressure": 1013,
           "sea_level": 1013,
           "temp": 0.36,
           "temp_kf": 0,
           "temp_max": 0.36,
           "temp_min": 0.36
          },
          "pop": 0,
          "sys": {
           "pod": "n"
          },
          "visibility": 10000,
          "weather": [
           {
            "description": "scattered clouds",
            "icon": "03n",
            "id": 802,
            "main": "Clouds"
           }
          ],
          "wind": {
           "deg": 284,
           "gust": 7.6,
           "speed": 3.45
          }
         },
         {
          "clouds": {
           "all": 30
          },
          "dt": 1638921600,
          "dt_txt": "2021-12-08 00:00:00",
          "main": {
           "feels_like": -3.46,
           "grnd_level": 997,
           "humidity": 90,
           "pressure": 1013,
           "sea_level": 1013,
           "temp": -0.15,
           "temp_kf": 0,
           "temp_max": -0.15,
           "temp_min": -0.15
          },
          "pop": 0,
          "sys": {
           "pod": "n"
          },
          "visibility": 10000,
          "weather": [
           {
            "description": "scattered clouds",
            "icon": "03n",
            "id": 802,
            "main": "Clouds"
           }
          ],
          "wind": {
           "deg": 290,
           "gust": 7.49,
           "speed": 2.76
          }
         },
         {
          "clouds": {
           "all": 36
          },
          "dt": 1638932400,
          "dt_txt": "2021-12-08 03:00:00",
          "main": {
           "feels_like": -3.33,
           "grnd_level": 997,
           "humidity": 91,
           "pressure": 1013,
           "sea_level": 1013,
           "temp": -0.15,
           "temp_kf": 0,
           "temp_max": -0.15,
           "temp_min": -0.15
          },
          "pop": 0,
          "sys": {
           "pod": "n"
          },
          "visibility": 10000,
          "weather": [
           {
            "description": "scattered clouds",
            "icon": "03n",
            "id": 802,
            "main": "Clouds"
           }
          ],
          "wind": {
           "deg": 287,
           "gust": 6.57,
           "speed": 2.63
          }
         },
         {
          "clouds": {
           "all": 38
          },
          "dt": 1638943200,
          "dt_txt": "2021-12-08 06:00:00",
          "main": {
           "feels_like": -1.64,
           "grnd_level": 998,
           "humidity": 92,
           "pressure": 1013,
           "sea_level": 1013,
           "temp": -0.07,
           "temp_kf": 0,
           "temp_max": -0.07,
           "temp_min": -0.07
          },
          "pop": 0,
          "sys": {
           "pod": "n"
          },
          "visibility": 10000,
          "weather": [
           {
            "description": "scattered clouds",
            "icon": "03n",
            "id": 802,
            "main": "Clouds"
           }
          ],
          "wind": {
           "deg": 298,
           "gust": 3.56,
           "speed": 1.38
          }
         },
         {
          "clouds": {
           "all": 79
          },
          "dt": 1638954000,
          "dt_txt": "2021-12-08 09:00:00",
          "main": {
           "feels_like": 2.07,
           "grnd_level": 998,
           "humidity": 75,
           "pressure": 1013,
           "sea_level": 1013,
           "temp": 2.07,
           "temp_kf": 0,
           "temp_max": 2.07,
           "temp_min": 2.07
          },
          "pop": 0,
          "sys": {
           "pod": "d"
          },
          "visibility": 10000,
          "weather": [
           {
            "description": "broken clouds",
            "icon": "04d",
            "id": 803,
            "main": "Clouds"
           }
          ],
          "wind": {
           "deg": 14,
           "gust": 1.18,
           "speed": 0.68
          }
         },
         {
          "clouds": {
           "all": 63
          },
          "dt": 1638964800,
          "dt_txt": "2021-12-08 12:00:00",
          "main": {
           "feels_like": 2.47,
           "grnd_level": 996,
           "humidity": 61,
           "pressure": 1011,
           "sea_level": 1011,
           "temp": 3.79,
           "temp_kf": 0,
           "temp_max": 3.79,
           "temp_min": 3.79
          },
          "pop": 0,
          "sys": {
           "pod": "d"
          },
          "visibility": 10000,
          "weather": [
           {
            "description": "broken clouds",
            "icon": "04d",
            "id": 803,
            "main": "Clouds"
           }
          ],
          "wind": {
           "deg": 129,
           "gust": 1.93,
           "speed": 1.57
          }
         },
         {
          "clouds": {
           "all": 78
          },
          "dt": 1638975600,
          "dt_txt": "2021-12-08 15:00:00",
          "main": {
           "feels_like": -0.09,
           "grnd_level": 995,
           "humidity": 69,
           "pressure": 1010,
           "sea_level": 1010,
           "temp": 3.02,
           "temp_kf": 0,
           "temp_max": 3.02,
           "temp_min": 3.02
          },
          "pop": 0,
          "sys": {
           "pod": "n"
          },
          "visibility": 10000,
          "weather": [
           {
            "description": "broken clouds",
            "icon": "04n",
            "id": 803,
            "main": "Clouds"
           }
          ],
          "wind": {
           "deg": 125,
           "gust": 6.44,
           "speed": 3.28
          }
         },
         {
          "clouds": {
           "all": 46
          },
          "dt": 1638986400,
          "dt_txt": "2021-12-08 18:00:00",
          "main": {
           "feels_like": -2.44,
           "grnd_level": 994,
           "humidity": 83,
           "pressure": 1010,
           "sea_level": 1010,
           "temp": 1.01,
           "temp_kf": 0,
           "temp_max": 1.01,
           "temp_min": 1.01
          },
          "pop": 0,
          "sys": {
           "pod": "n"
          },
          "visibility": 10000,
          "weather": [
           {
            "description": "scattered clouds",
            "icon": "03n",
            "id": 802,
            "main": "Clouds"
           }
          ],
          "wind": {
           "deg": 118,
           "gust": 6.62,
           "speed": 3.18
          }
         },
         {
          "clouds": {
           "all": 46
          },
          "dt": 1638997200,
          "dt_txt": "2021-12-08 21:00:00",
          "main": {
           "feels_like": -2.9,
           "grnd_level": 993,
           "humidity": 77,
           "pressure": 1009,
           "sea_level": 1009,
           "temp": 0.82,
           "temp_kf": 0,
           "temp_max": 0.82,
           "temp_min": 0.82
          },
          "pop": 0,
          "sys": {
           "pod": "n"
          },
          "visibility": 10000,
          "weather": [
           {
            "description": "scattered clouds",
            "icon": "03n",
            "id": 802,
            "main": "Clouds"
           }
          ],
          "wind": {
           "deg": 122,
           "gust": 6.5,
           "speed": 3.47
          }
         },
         {
          "clouds": {
           "all": 72
          },
          "dt": 1639008000,
          "dt_txt": "2021-12-09 00:00:00",
          "main": {
           "feels_like": -2.11,
           "grnd_level": 992,
           "humidity": 71,
           "pressure": 1008,
           "sea_level": 1008,
           "temp": 1.4,
           "temp_kf": 0,
           "temp_max": 1.4,
           "temp_min": 1.4
          },
          "pop": 0,
          "sys": {
           "pod": "n"
          },
          "visibility": 10000,
          "weather": [
           {
            "description": "broken clouds",
            "icon": "04n",
            "id": 803,
            "main": "Clouds"
           }
          ],
          "wind": {
           "deg": 128,
           "gust": 6.07,
           "speed": 3.36
          }
         },
         {
          "clouds": {
           "all": 100
          },
          "dt": 1639018800,
          "dt_txt": "2021-12-09 03:00:00",
          "main": {
           "feels_like": 0.02,
           "grnd_level": 992,
           "humidity": 64,
           "pressure": 1007,
           "sea_level": 1007,
           "temp": 3.39,
           "temp_kf": 0,
           "temp_max": 3.39,
           "temp_min": 3.39
          },
          "pop": 0.26,
          "rain": {
           "3h": 0.14
          },
          "sys": {
           "pod": "n"
          },
          "visibility": 10000,
          "weather": [
           {
            "description": "light rain",
            "icon": "10n",
            "id": 500,
            "main": "Rain"
           }
          ],
          "wind": {
           "deg": 142,
           "gust": 7.98,
           "speed": 3.78
          }
         },
         {
          "clouds": {
           "all": 100
          },
          "dt": 1639029600,
          "dt_txt": "2021-12-09 06:00:00",
          "main": {
           "feels_like": 0.54,
           "grnd_level": 992,
           "humidity": 64,
           "pressure": 1007,
           "sea_level": 1007,
           "temp": 4.02,
           "temp_kf": 0,
           "temp_max": 4.02,
           "temp_min": 4.02
          },
          "pop": 0.22,
          "rain": {
           "3h": 0.16
          },
          "sys": {
           "pod": "n"
          },
          "visibility": 10000,
          "weather": [
           {
            "description": "light rain",
            "icon": "10n",
            "id": 500,
            "main": "Rain"
           }
          ],
          "wind": {
           "deg": 136,
           "gust": 11.14,
           "speed": 4.19
          }
         },
         {
          "clouds": {
           "all": 100
          },
          "dt": 1639040400,
          "dt_txt": "2021-12-09 09:00:00",
          "main": {
           "feels_like": 1.86,
           "grnd_level": 991,
           "humidity": 57,
           "pressure": 1007,
           "sea_level": 1007,
           "temp": 5.34,
           "temp_kf": 0,
           "temp_max": 5.34,
           "temp_min": 5.34
          },
          "pop": 0.41,
          "rain": {
           "3h": 0.12
          },
          "sys": {
           "pod": "d"
          },
          "visibility": 10000,
          "weather": [
           {
            "description": "light rain",
            "icon": "10d",
            "id": 500,
            "main": "Rain"
           }
          ],
          "wind": {
           "deg": 134,
           "gust": 11.75,
           "speed": 4.79
          }
         },
         {
          "clouds": {
           "all": 100
          },
          "dt": 1639051200,
          "dt_txt": "2021-12-09 12:00:00",
          "main": {
           "feels_like": 2.66,
           "grnd_level": 988,
           "humidity": 57,
           "pressure": 1003,
           "sea_level": 1003,
           "temp": 6.87,
           "temp_kf": 0,
           "temp_max": 6.87,
           "temp_min": 6.87
          },
          "pop": 0.25,
          "sys": {
           "pod": "d"
          },
          "visibility": 10000,
          "weather": [
           {
            "description": "overcast clouds",
            "icon": "04d",
            "id": 804,
            "main": "Clouds"
           }
          ],
          "wind": {
           "deg": 128,
           "gust": 16.66,
           "speed": 7.8
          }
         },
         {
          "clouds": {
           "all": 100
          },
          "dt": 1639062000,
          "dt_txt": "2021-12-09 15:00:00",
          "main": {
           "feels_like": 1.08,
           "grnd_level": 987,
           "humidity": 64,
           "pressure": 1002,
           "sea_level": 1002,
           "temp": 6,
           "temp_kf": 0,
           "temp_max": 6,
           "temp_min": 6
          },
          "pop": 0,
          "sys": {
           "pod": "n"
          },
          "visibility": 10000,
          "weather": [
           {
            "description": "overcast clouds",
            "icon": "04n",
            "id": 804,
            "main": "Clouds"
           }
          ],
          "wind": {
           "deg": 126,
           "gust": 19.5,
           "speed": 9.37
          }
         },
         {
          "clouds": {
           "all": 99
          },
          "dt": 1639072800,
          "dt_txt": "2021-12-09 18:00:00",
          "main": {
           "feels_like": -0.5,
           "grnd_level": 985,
           "humidity": 65,
           "pressure": 1000,
           "sea_level": 1000,
           "temp": 5.1,
           "temp_kf": 0,
           "temp_max": 5.1,
           "temp_min": 5.1
          },
          "pop": 0,
          "sys": {
           "pod": "n"
          },
          "visibility": 10000,
          "weather": [
           {
            "description": "overcast clouds",
            "icon": "04n",
            "id": 804,
            "main": "Clouds"
           }
          ],
          "wind": {
           "deg": 125,
           "gust": 23.35,
           "speed": 10.88
          }
         },
         {
          "clouds": {
           "all": 74
          },
          "dt": 1639083600,
          "dt_txt": "2021-12-09 21:00:00",
          "main": {
           "feels_like": 2.38,
           "grnd_level": 986,
           "humidity": 68,
           "pressure": 1001,
           "sea_level": 1001,
           "temp": 6.71,
           "temp_kf": 0,
           "temp_max": 6.71,
           "temp_min": 6.71
          },
          "pop": 0.11,
          "sys": {
           "pod": "n"
          },
          "visibility": 10000,
          "weather": [
           {
            "description": "broken clouds",
            "icon": "04n",
            "id": 803,
            "main": "Clouds"
           }
          ],
          "wind": {
           "deg": 131,
           "gust": 15.79,
           "speed": 8.06
          }
         },
         {
          "clouds": {
           "all": 87
          },
          "dt": 1639094400,
          "dt_txt": "2021-12-10 00:00:00",
          "main": {
           "feels_like": 2.29,
           "grnd_level": 987,
           "humidity": 75,
           "pressure": 1002,
           "sea_level": 1002,
           "temp": 6.26,
           "temp_kf": 0,
           "temp_max": 6.26,
           "temp_min": 6.26
          },
          "pop": 0.04,
          "sys": {
           "pod": "n"
          },
          "visibility": 10000,
          "weather": [
           {
            "description": "overcast clouds",
            "icon": "04n",
            "id": 804,
            "main": "Clouds"
           }
          ],
          "wind": {
           "deg": 133,
           "gust": 14.14,
           "speed": 6.54
          }
         },
         {
          "clouds": {
           "all": 70
          },
          "dt": 1639105200,
          "dt_txt": "2021-12-10 03:00:00",
          "main": {
           "feels_like": 2.74,
           "grnd_level": 987,
           "humidity": 81,
           "pressure": 1002,
           "sea_level": 1002,
           "temp": 5.24,
           "temp_kf": 0,
           "temp_max": 5.24,
           "temp_min": 5.24
          },
          "pop": 0,
          "sys": {
           "pod": "n"
          },
          "visibility": 10000,
          "weather": [
           {
            "description": "broken clouds",
            "icon": "04n",
            "id": 803,
            "main": "Clouds"
           }
          ],
          "wind": {
           "deg": 135,
           "gust": 7.89,
           "speed": 3.07
          }
         },
         {
          "clouds": {
           "all": 68
          },
          "dt": 1639116000,
          "dt_txt": "2021-12-10 06:00:00",
          "main": {
           "feels_like": -2.03,
           "grnd_level": 990,
           "humidity": 87,
           "pressure": 1006,
           "sea_level": 1006,
           "temp": 2.54,
           "temp_kf": 0,
           "temp_max": 2.54,
           "temp_min": 2.54
          },
          "pop": 0.02,
          "sys": {
           "pod": "n"
          },
          "visibility": 10000,
          "weather": [
           {
            "description": "broken clouds",
            "icon": "04n",
            "id": 803,
            "main": "Clouds"
           }
          ],
          "wind": {
           "deg": 265,
           "gust": 9.57,
           "speed": 5.58
          }
         },
         {
          "clouds": {
           "all": 87
          },
          "dt": 1639126800,
          "dt_txt": "2021-12-10 09:00:00",
          "main": {
           "feels_like": 0.76,
           "grnd_level": 993,
           "humidity": 86,
           "pressure": 1009,
           "sea_level": 1009,
           "temp": 3.36,
           "temp_kf": 0,
           "temp_max": 3.36,
           "temp_min": 3.36
          },
          "pop": 0.5,
          "rain": {
           "3h": 0.13
          },
          "sys": {
           "pod": "d"
          },
          "visibility": 10000,
          "weather": [
           {
            "description": "light rain",
            "icon": "10d",
            "id": 500,
            "main": "Rain"
           }
          ],
          "wind": {
           "deg": 238,
           "gust": 4.66,
           "speed": 2.73
          }
         },
         {
          "clouds": {
           "all": 94
          },
          "dt": 1639137600,
          "dt_txt": "2021-12-10 12:00:00",
          "main": {
           "feels_like": 5.99,
           "grnd_level": 993,
           "humidity": 70,
           "pressure": 1009,
           "sea_level": 1009,
           "temp": 5.99,
           "temp_kf": 0,
           "temp_max": 5.99,
           "temp_min": 5.99
          },
          "pop": 0.28,
          "sys": {
           "pod": "d"
          },
          "visibility": 10000,
          "weather": [
           {
            "description": "overcast clouds",
            "icon": "04d",
            "id": 804,
            "main": "Clouds"
           }
          ],
          "wind": {
           "deg": 100,
           "gust": 0.67,
           "speed": 0.17
          }
         }
        ],
        "message": 0
       }
      ],
      "text/plain": [
       "<IPython.core.display.JSON object>"
      ]
     },
     "execution_count": 29,
     "metadata": {
      "application/json": {
       "expanded": false,
       "root": "root"
      }
     },
     "output_type": "execute_result"
    }
   ],
   "source": [
    "JSON(Listof_resp)"
   ]
  },
  {
   "cell_type": "code",
   "execution_count": 31,
   "id": "5acdb84c-6060-4763-b1d3-73374e89cfdf",
   "metadata": {
    "tags": []
   },
   "outputs": [],
   "source": [
    "# city_weather_tables"
   ]
  },
  {
   "cell_type": "code",
   "execution_count": 30,
   "id": "5108f947-c7ba-4d23-90f2-954ab52ebd6b",
   "metadata": {
    "tags": []
   },
   "outputs": [],
   "source": [
    "# city_weather_tables[0]"
   ]
  },
  {
   "cell_type": "code",
   "execution_count": 31,
   "id": "30d6b6be-d936-4973-8243-98bf80d3d9cc",
   "metadata": {
    "tags": []
   },
   "outputs": [],
   "source": [
    "# city_weather_tables[1]"
   ]
  },
  {
   "cell_type": "code",
   "execution_count": 32,
   "id": "98d9f47f-d25b-471a-b61d-8ac4c6bb3c19",
   "metadata": {
    "tags": []
   },
   "outputs": [],
   "source": [
    "# city_weather_tables[2]"
   ]
  },
  {
   "cell_type": "code",
   "execution_count": null,
   "id": "ffb25801-5135-4df2-8022-81546b39b169",
   "metadata": {},
   "outputs": [],
   "source": []
  },
  {
   "cell_type": "code",
   "execution_count": 33,
   "id": "6cfa2ae2-d278-4d84-924a-3b6effb70a14",
   "metadata": {
    "tags": []
   },
   "outputs": [],
   "source": [
    "# city_weather_tables"
   ]
  },
  {
   "cell_type": "code",
   "execution_count": 34,
   "id": "821a80f2-bc44-4a15-8548-35c7ef7ae92d",
   "metadata": {},
   "outputs": [],
   "source": [
    "url = (f\"http://api.openweathermap.org/data/2.5/forecast?q=London,GB&appid={weather_key}&units=metric\") \n",
    "response = requests.get(url)\n",
    "json = response.json()"
   ]
  },
  {
   "cell_type": "code",
   "execution_count": 35,
   "id": "ef82b7cb-1903-4309-9850-8283f01de1e2",
   "metadata": {},
   "outputs": [],
   "source": [
    "dictionary = {\"DateTime\":[],'Temperature':[],'Feels_like': [],'Humidity':[],'Weather':[],'Clouds':[],'Wind_speed':[],'Rain':[],'Snow':[]}"
   ]
  },
  {
   "cell_type": "markdown",
   "id": "2ef01e35-d48c-44a9-ace9-6a252004f54f",
   "metadata": {},
   "source": [
    "### one City"
   ]
  },
  {
   "cell_type": "code",
   "execution_count": 36,
   "id": "2b06ed59-0cc0-452c-a508-d0e9085174ff",
   "metadata": {},
   "outputs": [],
   "source": [
    "for hour in json['list']:\n",
    "    dictionary['DateTime'].append(hour['dt_txt'])\n",
    "    dictionary['Temperature'].append(hour['main']['temp'])\n",
    "    dictionary['Feels_like'].append(hour['main']['feels_like'])\n",
    "    dictionary['Humidity'].append(hour['main']['humidity'])\n",
    "    dictionary['Weather'].append(hour['weather'][0]['description'])\n",
    "    dictionary['Clouds'].append(hour['clouds']['all'])\n",
    "    dictionary['Wind_speed'].append(hour['wind']['speed'])\n",
    "    try:\n",
    "        dictionary['Rain'].append(hour['rain']['3h'])\n",
    "    except:\n",
    "        dictionary['Rain'].append('0')\n",
    "    try:\n",
    "        dictionary['Snow'].append(hour['snow']['3h'])\n",
    "    except:\n",
    "        dictionary['Snow'].append('0')\n",
    "weather_table=pd.DataFrame.from_dict(dictionary)"
   ]
  },
  {
   "cell_type": "code",
   "execution_count": 38,
   "id": "129be6e7-1da0-43da-a962-e0d1dd059895",
   "metadata": {
    "tags": []
   },
   "outputs": [],
   "source": [
    "# weather_table"
   ]
  },
  {
   "cell_type": "code",
   "execution_count": 42,
   "id": "dba69163-3cba-4473-9ce5-4f2a130bc62f",
   "metadata": {},
   "outputs": [
    {
     "data": {
      "application/json": {
       "city": {
        "coord": {
         "lat": 51.5085,
         "lon": -0.1257
        },
        "country": "GB",
        "id": 2643743,
        "name": "London",
        "population": 1000000,
        "sunrise": 1638604092,
        "sunset": 1638633220,
        "timezone": 0
       },
       "cnt": 40,
       "cod": "200",
       "list": [
        {
         "clouds": {
          "all": 94
         },
         "dt": 1638651600,
         "dt_txt": "2021-12-04 21:00:00",
         "main": {
          "feels_like": 0.73,
          "grnd_level": 995,
          "humidity": 75,
          "pressure": 998,
          "sea_level": 998,
          "temp": 5.12,
          "temp_kf": -0.46,
          "temp_max": 5.58,
          "temp_min": 5.12
         },
         "pop": 0.01,
         "sys": {
          "pod": "n"
         },
         "visibility": 10000,
         "weather": [
          {
           "description": "overcast clouds",
           "icon": "04n",
           "id": 804,
           "main": "Clouds"
          }
         ],
         "wind": {
          "deg": 266,
          "gust": 14.95,
          "speed": 6.83
         }
        },
        {
         "clouds": {
          "all": 95
         },
         "dt": 1638662400,
         "dt_txt": "2021-12-05 00:00:00",
         "main": {
          "feels_like": 0.96,
          "grnd_level": 995,
          "humidity": 79,
          "pressure": 998,
          "sea_level": 998,
          "temp": 5.11,
          "temp_kf": 0.03,
          "temp_max": 5.11,
          "temp_min": 5.08
         },
         "pop": 0.49,
         "rain": {
          "3h": 0.69
         },
         "sys": {
          "pod": "n"
         },
         "visibility": 9996,
         "weather": [
          {
           "description": "light rain",
           "icon": "10n",
           "id": 500,
           "main": "Rain"
          }
         ],
         "wind": {
          "deg": 295,
          "gust": 14.32,
          "speed": 6.19
         }
        },
        {
         "clouds": {
          "all": 98
         },
         "dt": 1638673200,
         "dt_txt": "2021-12-05 03:00:00",
         "main": {
          "feels_like": 0.27,
          "grnd_level": 996,
          "humidity": 83,
          "pressure": 999,
          "sea_level": 999,
          "temp": 4.83,
          "temp_kf": 0.15,
          "temp_max": 4.83,
          "temp_min": 4.68
         },
         "pop": 0.74,
         "rain": {
          "3h": 1.14
         },
         "sys": {
          "pod": "n"
         },
         "visibility": 10000,
         "weather": [
          {
           "description": "light rain",
           "icon": "10n",
           "id": 500,
           "main": "Rain"
          }
         ],
         "wind": {
          "deg": 316,
          "gust": 13.02,
          "speed": 7.08
         }
        },
        {
         "clouds": {
          "all": 100
         },
         "dt": 1638684000,
         "dt_txt": "2021-12-05 06:00:00",
         "main": {
          "feels_like": -0.06,
          "grnd_level": 998,
          "humidity": 82,
          "pressure": 1001,
          "sea_level": 1001,
          "temp": 4.62,
          "temp_kf": 0,
          "temp_max": 4.62,
          "temp_min": 4.62
         },
         "pop": 0.68,
         "sys": {
          "pod": "n"
         },
         "visibility": 10000,
         "weather": [
          {
           "description": "overcast clouds",
           "icon": "04n",
           "id": 804,
           "main": "Clouds"
          }
         ],
         "wind": {
          "deg": 317,
          "gust": 13.59,
          "speed": 7.22
         }
        },
        {
         "clouds": {
          "all": 100
         },
         "dt": 1638694800,
         "dt_txt": "2021-12-05 09:00:00",
         "main": {
          "feels_like": -0.66,
          "grnd_level": 1001,
          "humidity": 85,
          "pressure": 1004,
          "sea_level": 1004,
          "temp": 4.2,
          "temp_kf": 0,
          "temp_max": 4.2,
          "temp_min": 4.2
         },
         "pop": 0.5,
         "rain": {
          "3h": 0.44
         },
         "sys": {
          "pod": "d"
         },
         "visibility": 10000,
         "weather": [
          {
           "description": "light rain",
           "icon": "10d",
           "id": 500,
           "main": "Rain"
          }
         ],
         "wind": {
          "deg": 326,
          "gust": 14.07,
          "speed": 7.41
         }
        },
        {
         "clouds": {
          "all": 100
         },
         "dt": 1638705600,
         "dt_txt": "2021-12-05 12:00:00",
         "main": {
          "feels_like": 0.36,
          "grnd_level": 1002,
          "humidity": 85,
          "pressure": 1006,
          "sea_level": 1006,
          "temp": 4.69,
          "temp_kf": 0,
          "temp_max": 4.69,
          "temp_min": 4.69
         },
         "pop": 0.5,
         "rain": {
          "3h": 0.16
         },
         "sys": {
          "pod": "d"
         },
         "visibility": 10000,
         "weather": [
          {
           "description": "light rain",
           "icon": "10d",
           "id": 500,
           "main": "Rain"
          }
         ],
         "wind": {
          "deg": 317,
          "gust": 12.97,
          "speed": 6.35
         }
        },
        {
         "clouds": {
          "all": 98
         },
         "dt": 1638716400,
         "dt_txt": "2021-12-05 15:00:00",
         "main": {
          "feels_like": 1.71,
          "grnd_level": 1005,
          "humidity": 84,
          "pressure": 1008,
          "sea_level": 1008,
          "temp": 5.85,
          "temp_kf": 0,
          "temp_max": 5.85,
          "temp_min": 5.85
         },
         "pop": 0.24,
         "rain": {
          "3h": 0.16
         },
         "sys": {
          "pod": "d"
         },
         "visibility": 10000,
         "weather": [
          {
           "description": "light rain",
           "icon": "10d",
           "id": 500,
           "main": "Rain"
          }
         ],
         "wind": {
          "deg": 327,
          "gust": 12.04,
          "speed": 6.69
         }
        },
        {
         "clouds": {
          "all": 99
         },
         "dt": 1638727200,
         "dt_txt": "2021-12-05 18:00:00",
         "main": {
          "feels_like": 2.2,
          "grnd_level": 1007,
          "humidity": 84,
          "pressure": 1011,
          "sea_level": 1011,
          "temp": 5.83,
          "temp_kf": 0,
          "temp_max": 5.83,
          "temp_min": 5.83
         },
         "pop": 0.2,
         "rain": {
          "3h": 0.13
         },
         "sys": {
          "pod": "n"
         },
         "visibility": 10000,
         "weather": [
          {
           "description": "light rain",
           "icon": "10n",
           "id": 500,
           "main": "Rain"
          }
         ],
         "wind": {
          "deg": 331,
          "gust": 11.28,
          "speed": 5.4
         }
        },
        {
         "clouds": {
          "all": 100
         },
         "dt": 1638738000,
         "dt_txt": "2021-12-05 21:00:00",
         "main": {
          "feels_like": 2.02,
          "grnd_level": 1010,
          "humidity": 84,
          "pressure": 1013,
          "sea_level": 1013,
          "temp": 5.61,
          "temp_kf": 0,
          "temp_max": 5.61,
          "temp_min": 5.61
         },
         "pop": 0,
         "sys": {
          "pod": "n"
         },
         "visibility": 10000,
         "weather": [
          {
           "description": "overcast clouds",
           "icon": "04n",
           "id": 804,
           "main": "Clouds"
          }
         ],
         "wind": {
          "deg": 324,
          "gust": 10.85,
          "speed": 5.18
         }
        },
        {
         "clouds": {
          "all": 100
         },
         "dt": 1638748800,
         "dt_txt": "2021-12-06 00:00:00",
         "main": {
          "feels_like": 2.17,
          "grnd_level": 1010,
          "humidity": 83,
          "pressure": 1014,
          "sea_level": 1014,
          "temp": 5.16,
          "temp_kf": 0,
          "temp_max": 5.16,
          "temp_min": 5.16
         },
         "pop": 0,
         "sys": {
          "pod": "n"
         },
         "visibility": 10000,
         "weather": [
          {
           "description": "overcast clouds",
           "icon": "04n",
           "id": 804,
           "main": "Clouds"
          }
         ],
         "wind": {
          "deg": 319,
          "gust": 8.91,
          "speed": 3.8
         }
        },
        {
         "clouds": {
          "all": 100
         },
         "dt": 1638759600,
         "dt_txt": "2021-12-06 03:00:00",
         "main": {
          "feels_like": 2.99,
          "grnd_level": 1010,
          "humidity": 87,
          "pressure": 1013,
          "sea_level": 1013,
          "temp": 4.42,
          "temp_kf": 0,
          "temp_max": 4.42,
          "temp_min": 4.42
         },
         "pop": 0,
         "sys": {
          "pod": "n"
         },
         "visibility": 10000,
         "weather": [
          {
           "description": "overcast clouds",
           "icon": "04n",
           "id": 804,
           "main": "Clouds"
          }
         ],
         "wind": {
          "deg": 295,
          "gust": 3.9,
          "speed": 1.73
         }
        },
        {
         "clouds": {
          "all": 100
         },
         "dt": 1638770400,
         "dt_txt": "2021-12-06 06:00:00",
         "main": {
          "feels_like": 2.2,
          "grnd_level": 1009,
          "humidity": 83,
          "pressure": 1012,
          "sea_level": 1012,
          "temp": 4.15,
          "temp_kf": 0,
          "temp_max": 4.15,
          "temp_min": 4.15
         },
         "pop": 0,
         "sys": {
          "pod": "n"
         },
         "visibility": 10000,
         "weather": [
          {
           "description": "overcast clouds",
           "icon": "04n",
           "id": 804,
           "main": "Clouds"
          }
         ],
         "wind": {
          "deg": 229,
          "gust": 4.75,
          "speed": 2.17
         }
        },
        {
         "clouds": {
          "all": 100
         },
         "dt": 1638781200,
         "dt_txt": "2021-12-06 09:00:00",
         "main": {
          "feels_like": 1.78,
          "grnd_level": 1007,
          "humidity": 75,
          "pressure": 1010,
          "sea_level": 1010,
          "temp": 4.52,
          "temp_kf": 0,
          "temp_max": 4.52,
          "temp_min": 4.52
         },
         "pop": 0.04,
         "sys": {
          "pod": "d"
         },
         "visibility": 10000,
         "weather": [
          {
           "description": "overcast clouds",
           "icon": "04d",
           "id": 804,
           "main": "Clouds"
          }
         ],
         "wind": {
          "deg": 200,
          "gust": 9.68,
          "speed": 3.2
         }
        },
        {
         "clouds": {
          "all": 100
         },
         "dt": 1638792000,
         "dt_txt": "2021-12-06 12:00:00",
         "main": {
          "feels_like": 2.75,
          "grnd_level": 1002,
          "humidity": 86,
          "pressure": 1005,
          "sea_level": 1005,
          "temp": 6.35,
          "temp_kf": 0,
          "temp_max": 6.35,
          "temp_min": 6.35
         },
         "pop": 0.84,
         "rain": {
          "3h": 0.84
         },
         "sys": {
          "pod": "d"
         },
         "visibility": 10000,
         "weather": [
          {
           "description": "light rain",
           "icon": "10d",
           "id": 500,
           "main": "Rain"
          }
         ],
         "wind": {
          "deg": 197,
          "gust": 13.55,
          "speed": 5.65
         }
        },
        {
         "clouds": {
          "all": 100
         },
         "dt": 1638802800,
         "dt_txt": "2021-12-06 15:00:00",
         "main": {
          "feels_like": 1.87,
          "grnd_level": 1002,
          "humidity": 80,
          "pressure": 1005,
          "sea_level": 1005,
          "temp": 5.94,
          "temp_kf": 0,
          "temp_max": 5.94,
          "temp_min": 5.94
         },
         "pop": 1,
         "rain": {
          "3h": 4.38
         },
         "sys": {
          "pod": "d"
         },
         "visibility": 10000,
         "weather": [
          {
           "description": "moderate rain",
           "icon": "10d",
           "id": 501,
           "main": "Rain"
          }
         ],
         "wind": {
          "deg": 286,
          "gust": 15.04,
          "speed": 6.58
         }
        },
        {
         "clouds": {
          "all": 83
         },
         "dt": 1638813600,
         "dt_txt": "2021-12-06 18:00:00",
         "main": {
          "feels_like": 0.87,
          "grnd_level": 1004,
          "humidity": 72,
          "pressure": 1007,
          "sea_level": 1007,
          "temp": 5.24,
          "temp_kf": 0,
          "temp_max": 5.24,
          "temp_min": 5.24
         },
         "pop": 0.8,
         "sys": {
          "pod": "n"
         },
         "visibility": 10000,
         "weather": [
          {
           "description": "broken clouds",
           "icon": "04n",
           "id": 803,
           "main": "Clouds"
          }
         ],
         "wind": {
          "deg": 277,
          "gust": 14.34,
          "speed": 6.86
         }
        },
        {
         "clouds": {
          "all": 10
         },
         "dt": 1638824400,
         "dt_txt": "2021-12-06 21:00:00",
         "main": {
          "feels_like": 0.24,
          "grnd_level": 1006,
          "humidity": 73,
          "pressure": 1009,
          "sea_level": 1009,
          "temp": 4.41,
          "temp_kf": 0,
          "temp_max": 4.41,
          "temp_min": 4.41
         },
         "pop": 0,
         "sys": {
          "pod": "n"
         },
         "visibility": 10000,
         "weather": [
          {
           "description": "clear sky",
           "icon": "01n",
           "id": 800,
           "main": "Clear"
          }
         ],
         "wind": {
          "deg": 274,
          "gust": 13.13,
          "speed": 5.79
         }
        },
        {
         "clouds": {
          "all": 8
         },
         "dt": 1638835200,
         "dt_txt": "2021-12-07 00:00:00",
         "main": {
          "feels_like": -0.1,
          "grnd_level": 1008,
          "humidity": 71,
          "pressure": 1011,
          "sea_level": 1011,
          "temp": 3.82,
          "temp_kf": 0,
          "temp_max": 3.82,
          "temp_min": 3.82
         },
         "pop": 0,
         "sys": {
          "pod": "n"
         },
         "visibility": 10000,
         "weather": [
          {
           "description": "clear sky",
           "icon": "01n",
           "id": 800,
           "main": "Clear"
          }
         ],
         "wind": {
          "deg": 275,
          "gust": 12.83,
          "speed": 4.93
         }
        },
        {
         "clouds": {
          "all": 2
         },
         "dt": 1638846000,
         "dt_txt": "2021-12-07 03:00:00",
         "main": {
          "feels_like": -0.31,
          "grnd_level": 1009,
          "humidity": 76,
          "pressure": 1012,
          "sea_level": 1012,
          "temp": 2.96,
          "temp_kf": 0,
          "temp_max": 2.96,
          "temp_min": 2.96
         },
         "pop": 0,
         "sys": {
          "pod": "n"
         },
         "visibility": 10000,
         "weather": [
          {
           "description": "clear sky",
           "icon": "01n",
           "id": 800,
           "main": "Clear"
          }
         ],
         "wind": {
          "deg": 259,
          "gust": 10.51,
          "speed": 3.49
         }
        },
        {
         "clouds": {
          "all": 2
         },
         "dt": 1638856800,
         "dt_txt": "2021-12-07 06:00:00",
         "main": {
          "feels_like": -0.58,
          "grnd_level": 1008,
          "humidity": 80,
          "pressure": 1011,
          "sea_level": 1011,
          "temp": 2.14,
          "temp_kf": 0,
          "temp_max": 2.14,
          "temp_min": 2.14
         },
         "pop": 0,
         "sys": {
          "pod": "n"
         },
         "visibility": 10000,
         "weather": [
          {
           "description": "clear sky",
           "icon": "01n",
           "id": 800,
           "main": "Clear"
          }
         ],
         "wind": {
          "deg": 225,
          "gust": 6.68,
          "speed": 2.6
         }
        },
        {
         "clouds": {
          "all": 55
         },
         "dt": 1638867600,
         "dt_txt": "2021-12-07 09:00:00",
         "main": {
          "feels_like": 0.5,
          "grnd_level": 1006,
          "humidity": 74,
          "pressure": 1009,
          "sea_level": 1009,
          "temp": 2.4,
          "temp_kf": 0,
          "temp_max": 2.4,
          "temp_min": 2.4
         },
         "pop": 0,
         "sys": {
          "pod": "d"
         },
         "visibility": 10000,
         "weather": [
          {
           "description": "broken clouds",
           "icon": "04d",
           "id": 803,
           "main": "Clouds"
          }
         ],
         "wind": {
          "deg": 146,
          "gust": 4.07,
          "speed": 1.86
         }
        },
        {
         "clouds": {
          "all": 77
         },
         "dt": 1638878400,
         "dt_txt": "2021-12-07 12:00:00",
         "main": {
          "feels_like": 2.14,
          "grnd_level": 1001,
          "humidity": 68,
          "pressure": 1004,
          "sea_level": 1004,
          "temp": 5.68,
          "temp_kf": 0,
          "temp_max": 5.68,
          "temp_min": 5.68
         },
         "pop": 0,
         "sys": {
          "pod": "d"
         },
         "visibility": 10000,
         "weather": [
          {
           "description": "broken clouds",
           "icon": "04d",
           "id": 803,
           "main": "Clouds"
          }
         ],
         "wind": {
          "deg": 144,
          "gust": 11.72,
          "speed": 5.1
         }
        },
        {
         "clouds": {
          "all": 100
         },
         "dt": 1638889200,
         "dt_txt": "2021-12-07 15:00:00",
         "main": {
          "feels_like": 2.37,
          "grnd_level": 995,
          "humidity": 75,
          "pressure": 998,
          "sea_level": 998,
          "temp": 6.56,
          "temp_kf": 0,
          "temp_max": 6.56,
          "temp_min": 6.56
         },
         "pop": 0.22,
         "sys": {
          "pod": "d"
         },
         "visibility": 10000,
         "weather": [
          {
           "description": "overcast clouds",
           "icon": "04d",
           "id": 804,
           "main": "Clouds"
          }
         ],
         "wind": {
          "deg": 149,
          "gust": 14.81,
          "speed": 7.45
         }
        },
        {
         "clouds": {
          "all": 100
         },
         "dt": 1638900000,
         "dt_txt": "2021-12-07 18:00:00",
         "main": {
          "feels_like": 0.45,
          "grnd_level": 990,
          "humidity": 92,
          "pressure": 993,
          "sea_level": 993,
          "temp": 5.29,
          "temp_kf": 0,
          "temp_max": 5.29,
          "temp_min": 5.29
         },
         "pop": 1,
         "rain": {
          "3h": 2.58
         },
         "sys": {
          "pod": "n"
         },
         "visibility": 5495,
         "weather": [
          {
           "description": "light rain",
           "icon": "10n",
           "id": 500,
           "main": "Rain"
          }
         ],
         "wind": {
          "deg": 164,
          "gust": 17.01,
          "speed": 8.32
         }
        },
        {
         "clouds": {
          "all": 100
         },
         "dt": 1638910800,
         "dt_txt": "2021-12-07 21:00:00",
         "main": {
          "feels_like": 0.79,
          "grnd_level": 988,
          "humidity": 94,
          "pressure": 991,
          "sea_level": 991,
          "temp": 3.82,
          "temp_kf": 0,
          "temp_max": 3.82,
          "temp_min": 3.82
         },
         "pop": 1,
         "rain": {
          "3h": 12.81
         },
         "sys": {
          "pod": "n"
         },
         "visibility": 10000,
         "weather": [
          {
           "description": "heavy intensity rain",
           "icon": "10n",
           "id": 502,
           "main": "Rain"
          }
         ],
         "wind": {
          "deg": 283,
          "gust": 9.02,
          "speed": 3.41
         }
        },
        {
         "clouds": {
          "all": 96
         },
         "dt": 1638921600,
         "dt_txt": "2021-12-08 00:00:00",
         "main": {
          "feels_like": 1.32,
          "grnd_level": 989,
          "humidity": 82,
          "pressure": 992,
          "sea_level": 992,
          "temp": 4.42,
          "temp_kf": 0,
          "temp_max": 4.42,
          "temp_min": 4.42
         },
         "pop": 1,
         "rain": {
          "3h": 0.5
         },
         "sys": {
          "pod": "n"
         },
         "visibility": 10000,
         "weather": [
          {
           "description": "light rain",
           "icon": "10n",
           "id": 500,
           "main": "Rain"
          }
         ],
         "wind": {
          "deg": 217,
          "gust": 11.45,
          "speed": 3.72
         }
        },
        {
         "clouds": {
          "all": 33
         },
         "dt": 1638932400,
         "dt_txt": "2021-12-08 03:00:00",
         "main": {
          "feels_like": 0.76,
          "grnd_level": 989,
          "humidity": 79,
          "pressure": 992,
          "sea_level": 992,
          "temp": 4.04,
          "temp_kf": 0,
          "temp_max": 4.04,
          "temp_min": 4.04
         },
         "pop": 0.14,
         "sys": {
          "pod": "n"
         },
         "visibility": 10000,
         "weather": [
          {
           "description": "scattered clouds",
           "icon": "03n",
           "id": 802,
           "main": "Clouds"
          }
         ],
         "wind": {
          "deg": 211,
          "gust": 11.89,
          "speed": 3.87
         }
        },
        {
         "clouds": {
          "all": 20
         },
         "dt": 1638943200,
         "dt_txt": "2021-12-08 06:00:00",
         "main": {
          "feels_like": 0.97,
          "grnd_level": 989,
          "humidity": 77,
          "pressure": 993,
          "sea_level": 993,
          "temp": 3.91,
          "temp_kf": 0,
          "temp_max": 3.91,
          "temp_min": 3.91
         },
         "pop": 0.1,
         "sys": {
          "pod": "n"
         },
         "visibility": 10000,
         "weather": [
          {
           "description": "few clouds",
           "icon": "02n",
           "id": 801,
           "main": "Clouds"
          }
         ],
         "wind": {
          "deg": 197,
          "gust": 10.6,
          "speed": 3.31
         }
        },
        {
         "clouds": {
          "all": 3
         },
         "dt": 1638954000,
         "dt_txt": "2021-12-08 09:00:00",
         "main": {
          "feels_like": 1.06,
          "grnd_level": 990,
          "humidity": 74,
          "pressure": 993,
          "sea_level": 993,
          "temp": 4.38,
          "temp_kf": 0,
          "temp_max": 4.38,
          "temp_min": 4.38
         },
         "pop": 0.17,
         "sys": {
          "pod": "d"
         },
         "visibility": 10000,
         "weather": [
          {
           "description": "clear sky",
           "icon": "01d",
           "id": 800,
           "main": "Clear"
          }
         ],
         "wind": {
          "deg": 178,
          "gust": 12.47,
          "speed": 4.06
         }
        },
        {
         "clouds": {
          "all": 43
         },
         "dt": 1638964800,
         "dt_txt": "2021-12-08 12:00:00",
         "main": {
          "feels_like": 3.62,
          "grnd_level": 989,
          "humidity": 71,
          "pressure": 992,
          "sea_level": 992,
          "temp": 7,
          "temp_kf": 0,
          "temp_max": 7,
          "temp_min": 7
         },
         "pop": 0.21,
         "sys": {
          "pod": "d"
         },
         "visibility": 10000,
         "weather": [
          {
           "description": "scattered clouds",
           "icon": "03d",
           "id": 802,
           "main": "Clouds"
          }
         ],
         "wind": {
          "deg": 184,
          "gust": 11.66,
          "speed": 5.52
         }
        },
        {
         "clouds": {
          "all": 82
         },
         "dt": 1638975600,
         "dt_txt": "2021-12-08 15:00:00",
         "main": {
          "feels_like": 3.19,
          "grnd_level": 989,
          "humidity": 80,
          "pressure": 992,
          "sea_level": 992,
          "temp": 6.7,
          "temp_kf": 0,
          "temp_max": 6.7,
          "temp_min": 6.7
         },
         "pop": 0.63,
         "rain": {
          "3h": 0.49
         },
         "sys": {
          "pod": "d"
         },
         "visibility": 10000,
         "weather": [
          {
           "description": "light rain",
           "icon": "10d",
           "id": 500,
           "main": "Rain"
          }
         ],
         "wind": {
          "deg": 163,
          "gust": 11.04,
          "speed": 5.65
         }
        },
        {
         "clouds": {
          "all": 88
         },
         "dt": 1638986400,
         "dt_txt": "2021-12-08 18:00:00",
         "main": {
          "feels_like": 2.85,
          "grnd_level": 990,
          "humidity": 80,
          "pressure": 993,
          "sea_level": 993,
          "temp": 6.54,
          "temp_kf": 0,
          "temp_max": 6.54,
          "temp_min": 6.54
         },
         "pop": 0.84,
         "rain": {
          "3h": 0.78
         },
         "sys": {
          "pod": "n"
         },
         "visibility": 10000,
         "weather": [
          {
           "description": "light rain",
           "icon": "10n",
           "id": 500,
           "main": "Rain"
          }
         ],
         "wind": {
          "deg": 147,
          "gust": 12.53,
          "speed": 5.99
         }
        },
        {
         "clouds": {
          "all": 100
         },
         "dt": 1638997200,
         "dt_txt": "2021-12-08 21:00:00",
         "main": {
          "feels_like": 2.17,
          "grnd_level": 992,
          "humidity": 78,
          "pressure": 995,
          "sea_level": 995,
          "temp": 5.9,
          "temp_kf": 0,
          "temp_max": 5.9,
          "temp_min": 5.9
         },
         "pop": 0.6,
         "rain": {
          "3h": 0.34
         },
         "sys": {
          "pod": "n"
         },
         "visibility": 10000,
         "weather": [
          {
           "description": "light rain",
           "icon": "10n",
           "id": 500,
           "main": "Rain"
          }
         ],
         "wind": {
          "deg": 116,
          "gust": 11.69,
          "speed": 5.67
         }
        },
        {
         "clouds": {
          "all": 100
         },
         "dt": 1639008000,
         "dt_txt": "2021-12-09 00:00:00",
         "main": {
          "feels_like": 0.49,
          "grnd_level": 993,
          "humidity": 84,
          "pressure": 996,
          "sea_level": 996,
          "temp": 4.77,
          "temp_kf": 0,
          "temp_max": 4.77,
          "temp_min": 4.77
         },
         "pop": 0.31,
         "rain": {
          "3h": 0.12
         },
         "sys": {
          "pod": "n"
         },
         "visibility": 10000,
         "weather": [
          {
           "description": "light rain",
           "icon": "10n",
           "id": 500,
           "main": "Rain"
          }
         ],
         "wind": {
          "deg": 87,
          "gust": 11.99,
          "speed": 6.28
         }
        },
        {
         "clouds": {
          "all": 97
         },
         "dt": 1639018800,
         "dt_txt": "2021-12-09 03:00:00",
         "main": {
          "feels_like": 1.16,
          "grnd_level": 995,
          "humidity": 74,
          "pressure": 998,
          "sea_level": 998,
          "temp": 5.36,
          "temp_kf": 0,
          "temp_max": 5.36,
          "temp_min": 5.36
         },
         "pop": 0.17,
         "sys": {
          "pod": "n"
         },
         "visibility": 10000,
         "weather": [
          {
           "description": "overcast clouds",
           "icon": "04n",
           "id": 804,
           "main": "Clouds"
          }
         ],
         "wind": {
          "deg": 77,
          "gust": 12.79,
          "speed": 6.49
         }
        },
        {
         "clouds": {
          "all": 96
         },
         "dt": 1639029600,
         "dt_txt": "2021-12-09 06:00:00",
         "main": {
          "feels_like": 1.43,
          "grnd_level": 997,
          "humidity": 77,
          "pressure": 1001,
          "sea_level": 1001,
          "temp": 5.49,
          "temp_kf": 0,
          "temp_max": 5.49,
          "temp_min": 5.49
         },
         "pop": 0.17,
         "sys": {
          "pod": "n"
         },
         "visibility": 10000,
         "weather": [
          {
           "description": "overcast clouds",
           "icon": "04n",
           "id": 804,
           "main": "Clouds"
          }
         ],
         "wind": {
          "deg": 55,
          "gust": 12.5,
          "speed": 6.21
         }
        },
        {
         "clouds": {
          "all": 98
         },
         "dt": 1639040400,
         "dt_txt": "2021-12-09 09:00:00",
         "main": {
          "feels_like": 1.12,
          "grnd_level": 1000,
          "humidity": 75,
          "pressure": 1004,
          "sea_level": 1004,
          "temp": 5.09,
          "temp_kf": 0,
          "temp_max": 5.09,
          "temp_min": 5.09
         },
         "pop": 0.19,
         "sys": {
          "pod": "d"
         },
         "visibility": 10000,
         "weather": [
          {
           "description": "overcast clouds",
           "icon": "04d",
           "id": 804,
           "main": "Clouds"
          }
         ],
         "wind": {
          "deg": 50,
          "gust": 11.42,
          "speed": 5.73
         }
        },
        {
         "clouds": {
          "all": 81
         },
         "dt": 1639051200,
         "dt_txt": "2021-12-09 12:00:00",
         "main": {
          "feels_like": 2.99,
          "grnd_level": 1002,
          "humidity": 69,
          "pressure": 1006,
          "sea_level": 1006,
          "temp": 6.2,
          "temp_kf": 0,
          "temp_max": 6.2,
          "temp_min": 6.2
         },
         "pop": 0.17,
         "sys": {
          "pod": "d"
         },
         "visibility": 10000,
         "weather": [
          {
           "description": "broken clouds",
           "icon": "04d",
           "id": 803,
           "main": "Clouds"
          }
         ],
         "wind": {
          "deg": 37,
          "gust": 8.06,
          "speed": 4.67
         }
        },
        {
         "clouds": {
          "all": 67
         },
         "dt": 1639062000,
         "dt_txt": "2021-12-09 15:00:00",
         "main": {
          "feels_like": 2.98,
          "grnd_level": 1004,
          "humidity": 65,
          "pressure": 1007,
          "sea_level": 1007,
          "temp": 5.99,
          "temp_kf": 0,
          "temp_max": 5.99,
          "temp_min": 5.99
         },
         "pop": 0,
         "sys": {
          "pod": "d"
         },
         "visibility": 10000,
         "weather": [
          {
           "description": "broken clouds",
           "icon": "04d",
           "id": 803,
           "main": "Clouds"
          }
         ],
         "wind": {
          "deg": 36,
          "gust": 7.82,
          "speed": 4.18
         }
        },
        {
         "clouds": {
          "all": 47
         },
         "dt": 1639072800,
         "dt_txt": "2021-12-09 18:00:00",
         "main": {
          "feels_like": 1.78,
          "grnd_level": 1005,
          "humidity": 84,
          "pressure": 1008,
          "sea_level": 1008,
          "temp": 4.12,
          "temp_kf": 0,
          "temp_max": 4.12,
          "temp_min": 4.12
         },
         "pop": 0,
         "sys": {
          "pod": "n"
         },
         "visibility": 10000,
         "weather": [
          {
           "description": "scattered clouds",
           "icon": "03n",
           "id": 802,
           "main": "Clouds"
          }
         ],
         "wind": {
          "deg": 12,
          "gust": 7.89,
          "speed": 2.59
         }
        }
       ],
       "message": 0
      },
      "text/plain": [
       "<IPython.core.display.JSON object>"
      ]
     },
     "execution_count": 42,
     "metadata": {
      "application/json": {
       "expanded": false,
       "root": "root"
      }
     },
     "output_type": "execute_result"
    }
   ],
   "source": [
    "JSON(json)"
   ]
  }
 ],
 "metadata": {
  "kernelspec": {
   "display_name": "Python 3",
   "language": "python",
   "name": "python3"
  },
  "language_info": {
   "codemirror_mode": {
    "name": "ipython",
    "version": 3
   },
   "file_extension": ".py",
   "mimetype": "text/x-python",
   "name": "python",
   "nbconvert_exporter": "python",
   "pygments_lexer": "ipython3",
   "version": "3.8.8"
  }
 },
 "nbformat": 4,
 "nbformat_minor": 5
}
