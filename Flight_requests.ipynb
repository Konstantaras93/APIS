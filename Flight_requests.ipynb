{
 "cells": [
  {
   "cell_type": "markdown",
   "id": "e031af8c-b75d-4a60-9682-65cdc6ac7a4d",
   "metadata": {},
   "source": [
    "# Arrivals in \"city\" for tomorrow :"
   ]
  },
  {
   "cell_type": "markdown",
   "id": "be6e8562-2863-4cb4-b3dd-c1615e6d4a73",
   "metadata": {},
   "source": [
    "#### Importing Libraries"
   ]
  },
  {
   "cell_type": "code",
   "execution_count": 1,
   "id": "c97ffaa5-9de0-4310-a1ab-0e1138049f12",
   "metadata": {},
   "outputs": [],
   "source": [
    "path = \"C:/Users/Kosta/OneDrive/Desktop/Data_Science/5_APIS\"\n",
    "import sys\n",
    "sys.path.insert(1, path)"
   ]
  },
  {
   "cell_type": "code",
   "execution_count": 2,
   "id": "3b62ce28-c08e-4cff-9419-0d4c1b52a9f4",
   "metadata": {},
   "outputs": [],
   "source": [
    "from api_keys import *"
   ]
  },
  {
   "cell_type": "code",
   "execution_count": 3,
   "id": "682335c1-e045-43e5-b80d-41c4c5c6da3b",
   "metadata": {
    "tags": []
   },
   "outputs": [],
   "source": [
    "from IPython.display import JSON\n",
    "import json\n",
    "import pandas as pd\n",
    "import requests\n",
    "import datetime"
   ]
  },
  {
   "cell_type": "code",
   "execution_count": 4,
   "id": "352d1815-c499-4f93-b407-4d10582e0c15",
   "metadata": {},
   "outputs": [],
   "source": [
    "def get_cities_dataframe():\n",
    "    cities = pd.DataFrame({'City': ['Istanbul','Moscow','Berlin'], 'Country': ['Turkey','Russian Federation (the)','Germany'], \n",
    "    'Country_code': ['TR','RU','DE'],'CityCountry' : [\"Istanbul, TR\",\"Moscow, RU\",\"Berlin, DE\"],\n",
    "    'Country_short' : ['TR','RU','DE'], 'icao' : [\"LTFM\",\"UUDD\",\"EDDB\"]})\n",
    "    return cities[:3]\n",
    "    \n",
    "#     cities = pd.DataFrame({'City': ['Istanbul','Moscow','Berlin'], 'Country': ['Turkey','Russian Federation (the)','Germany'],'Population' : [15462452,12195221,3748148], \n",
    "#     'Country_code': ['TR','RU','DE'],'CityCountry' : [\"Istanbul, TR\",\"Moscow, RU\",\"Berlin, DE\"], 'name' : [\"Istanbul Airport\",\"Domodedovo International Airport\",\"Berlin Brandenburg Airport\"],\n",
    "#     'Countryshort' : ['TR','RU','DE'], 'icao' : [\"LTFM\",\"UUDD\",\"EDDB\"]})\n",
    "    \n",
    "# def get_cities_dataframe():\n",
    "#     cities = pd.read_csv(path_two + '\\cities.csv')\n",
    "#     return cities[:3]"
   ]
  },
  {
   "cell_type": "code",
   "execution_count": 5,
   "id": "dba28c39-4a57-49bc-81d1-0db009a52293",
   "metadata": {},
   "outputs": [
    {
     "data": {
      "text/html": [
       "<div>\n",
       "<style scoped>\n",
       "    .dataframe tbody tr th:only-of-type {\n",
       "        vertical-align: middle;\n",
       "    }\n",
       "\n",
       "    .dataframe tbody tr th {\n",
       "        vertical-align: top;\n",
       "    }\n",
       "\n",
       "    .dataframe thead th {\n",
       "        text-align: right;\n",
       "    }\n",
       "</style>\n",
       "<table border=\"1\" class=\"dataframe\">\n",
       "  <thead>\n",
       "    <tr style=\"text-align: right;\">\n",
       "      <th></th>\n",
       "      <th>City</th>\n",
       "      <th>Country</th>\n",
       "      <th>Country_code</th>\n",
       "      <th>CityCountry</th>\n",
       "      <th>Country_short</th>\n",
       "      <th>icao</th>\n",
       "    </tr>\n",
       "  </thead>\n",
       "  <tbody>\n",
       "    <tr>\n",
       "      <th>0</th>\n",
       "      <td>Istanbul</td>\n",
       "      <td>Turkey</td>\n",
       "      <td>TR</td>\n",
       "      <td>Istanbul, TR</td>\n",
       "      <td>TR</td>\n",
       "      <td>LTFM</td>\n",
       "    </tr>\n",
       "    <tr>\n",
       "      <th>1</th>\n",
       "      <td>Moscow</td>\n",
       "      <td>Russian Federation (the)</td>\n",
       "      <td>RU</td>\n",
       "      <td>Moscow, RU</td>\n",
       "      <td>RU</td>\n",
       "      <td>UUDD</td>\n",
       "    </tr>\n",
       "    <tr>\n",
       "      <th>2</th>\n",
       "      <td>Berlin</td>\n",
       "      <td>Germany</td>\n",
       "      <td>DE</td>\n",
       "      <td>Berlin, DE</td>\n",
       "      <td>DE</td>\n",
       "      <td>EDDB</td>\n",
       "    </tr>\n",
       "  </tbody>\n",
       "</table>\n",
       "</div>"
      ],
      "text/plain": [
       "       City                   Country Country_code   CityCountry  \\\n",
       "0  Istanbul                    Turkey           TR  Istanbul, TR   \n",
       "1    Moscow  Russian Federation (the)           RU    Moscow, RU   \n",
       "2    Berlin                   Germany           DE    Berlin, DE   \n",
       "\n",
       "  Country_short  icao  \n",
       "0            TR  LTFM  \n",
       "1            RU  UUDD  \n",
       "2            DE  EDDB  "
      ]
     },
     "execution_count": 5,
     "metadata": {},
     "output_type": "execute_result"
    }
   ],
   "source": [
    "# cities = pd.DataFrame({'City': ['Istanbul','Moscow','Berlin'], 'Country': ['Turkey','Russian Federation (the)','Germany'],'Population' : [15462452,12195221,3748148], \n",
    "#      'Country_code': ['TR','RU','DE'],'CityCountry' : [\"Istanbul, TR\",\"Moscow, RU\",\"Berlin, DE\"], 'name' : [\"Istanbul Airport\",\"Domodedovo International Airport\",\"Berlin Brandenburg Airport\"],\n",
    "#     'Countryshort' : ['TR','RU','DE'], 'icao' : [\"LTFM\",\"UUDD\",\"EDDB\"]})\n",
    "# cities\n",
    "cities = get_cities_dataframe()\n",
    "cities"
   ]
  },
  {
   "cell_type": "markdown",
   "id": "b69e4486-3743-43f1-adf9-a4e9e62620da",
   "metadata": {},
   "source": [
    "## Flight schedule :"
   ]
  },
  {
   "cell_type": "code",
   "execution_count": 6,
   "id": "b98ee262-e61a-4785-bd82-084314791c0d",
   "metadata": {
    "tags": []
   },
   "outputs": [],
   "source": [
    "# These are only the very first hours from 07:00 till 19:00\n",
    "# Between 00:00 and 07:00 there were no flights found in Berlin.\n",
    "\n",
    "def get_jsons_from_AerodataboxAPI(icao):\n",
    "    today = datetime.date.today()\n",
    "    tomorrow = str(today + datetime.timedelta(days=1))    \n",
    "    times = [[\"00:00\",\"11:59\"],[\"12:00\",\"23:59\"]]\n",
    "    jsons = []\n",
    "    for time in times:\n",
    "        url = f\"https://aerodatabox.p.rapidapi.com/flights/airports/icao/{icao}/{tomorrow}T{time[0]}/{tomorrow}T{time[1]}\"\n",
    "        querystring = {\"direction\":\"Arrival\",\"withPrivate\":\"true\"}\n",
    "        headers = {\n",
    "            'x-rapidapi-host': \"aerodatabox.p.rapidapi.com\",\n",
    "            'x-rapidapi-key': flight_API_key\n",
    "            }\n",
    "        jsons.append(requests.request(\"GET\", url, headers=headers, params=querystring).json())\n",
    "    return jsons"
   ]
  },
  {
   "cell_type": "markdown",
   "id": "caaa2687-8b43-483b-b45c-d6f5b69208d8",
   "metadata": {},
   "source": [
    "### It works ! "
   ]
  },
  {
   "cell_type": "code",
   "execution_count": 7,
   "id": "3d21c284-dc9b-4cec-85d6-bf6e4028edbe",
   "metadata": {},
   "outputs": [
    {
     "data": {
      "application/json": [
       {
        "arrivals": [
         {
          "aircraft": {
           "model": "Airbus A320"
          },
          "airline": {
           "name": "Lufthansa"
          },
          "codeshareStatus": "IsCodeshared",
          "isCargo": false,
          "movement": {
           "airport": {
            "iata": "FRA",
            "icao": "EDDF",
            "name": "Frankfurt-am-Main"
           },
           "quality": [
            "Basic"
           ],
           "scheduledTimeLocal": "2022-01-23 11:55+01:00",
           "scheduledTimeUtc": "2022-01-23 10:55Z",
           "terminal": "1"
          },
          "number": "LH 180",
          "status": "Unknown"
         },
         {
          "aircraft": {
           "model": "Airbus A320"
          },
          "airline": {
           "name": "Lufthansa"
          },
          "codeshareStatus": "IsCodeshared",
          "isCargo": false,
          "movement": {
           "airport": {
            "iata": "MUC",
            "icao": "EDDM",
            "name": "Munich"
           },
           "quality": [
            "Basic"
           ],
           "scheduledTimeLocal": "2022-01-23 08:10+01:00",
           "scheduledTimeUtc": "2022-01-23 07:10Z",
           "terminal": "1"
          },
          "number": "LH 1928",
          "status": "Unknown"
         },
         {
          "aircraft": {
           "model": "Airbus A320"
          },
          "airline": {
           "name": "Lufthansa"
          },
          "codeshareStatus": "IsCodeshared",
          "isCargo": false,
          "movement": {
           "airport": {
            "iata": "FRA",
            "icao": "EDDF",
            "name": "Frankfurt-am-Main"
           },
           "quality": [
            "Basic"
           ],
           "scheduledTimeLocal": "2022-01-23 09:55+01:00",
           "scheduledTimeUtc": "2022-01-23 08:55Z",
           "terminal": "1"
          },
          "number": "LH 176",
          "status": "Unknown"
         },
         {
          "aircraft": {
           "model": "Embraer 190"
          },
          "airline": {
           "name": "Finnair"
          },
          "codeshareStatus": "Unknown",
          "isCargo": false,
          "movement": {
           "airport": {
            "iata": "HEL",
            "icao": "EFHK",
            "name": "Helsinki"
           },
           "quality": [
            "Basic"
           ],
           "scheduledTimeLocal": "2022-01-23 08:20+01:00",
           "scheduledTimeUtc": "2022-01-23 07:20Z",
           "terminal": "1"
          },
          "number": "AY 1431",
          "status": "Unknown"
         },
         {
          "aircraft": {
           "model": "Airbus A319"
          },
          "airline": {
           "name": "British Airways"
          },
          "codeshareStatus": "IsCodeshared",
          "isCargo": false,
          "movement": {
           "airport": {
            "iata": "LHR",
            "icao": "EGLL",
            "name": "London"
           },
           "quality": [
            "Basic"
           ],
           "scheduledTimeLocal": "2022-01-23 11:25+01:00",
           "scheduledTimeUtc": "2022-01-23 10:25Z",
           "terminal": "1"
          },
          "number": "BA 992",
          "status": "Unknown"
         },
         {
          "aircraft": {
           "model": "Airbus A320"
          },
          "airline": {
           "name": "Lufthansa"
          },
          "codeshareStatus": "IsCodeshared",
          "isCargo": false,
          "movement": {
           "airport": {
            "iata": "FRA",
            "icao": "EDDF",
            "name": "Frankfurt-am-Main"
           },
           "quality": [
            "Basic"
           ],
           "scheduledTimeLocal": "2022-01-23 08:55+01:00",
           "scheduledTimeUtc": "2022-01-23 07:55Z",
           "terminal": "1"
          },
          "number": "LH 172",
          "status": "Unknown"
         },
         {
          "aircraft": {
           "model": "Boeing 737-800"
          },
          "airline": {
           "name": "Ryanair"
          },
          "codeshareStatus": "Unknown",
          "isCargo": false,
          "movement": {
           "airport": {
            "iata": "STN",
            "icao": "EGSS",
            "name": "London"
           },
           "quality": [
            "Basic"
           ],
           "scheduledTimeLocal": "2022-01-23 10:50+01:00",
           "scheduledTimeUtc": "2022-01-23 09:50Z"
          },
          "number": "FR 3911",
          "status": "Unknown"
         },
         {
          "aircraft": {
           "model": "Embraer 190"
          },
          "airline": {
           "name": "KLM"
          },
          "codeshareStatus": "IsCodeshared",
          "isCargo": false,
          "movement": {
           "airport": {
            "iata": "AMS",
            "icao": "EHAM",
            "name": "Amsterdam"
           },
           "quality": [
            "Basic"
           ],
           "scheduledTimeLocal": "2022-01-23 09:25+01:00",
           "scheduledTimeUtc": "2022-01-23 08:25Z",
           "terminal": "1"
          },
          "number": "KL 1821",
          "status": "Unknown"
         },
         {
          "aircraft": {
           "model": "Boeing 737-700",
           "reg": "PH-BXU"
          },
          "airline": {
           "name": "KLM"
          },
          "codeshareStatus": "IsCodeshared",
          "isCargo": false,
          "movement": {
           "airport": {
            "iata": "AMS",
            "icao": "EHAM",
            "name": "Amsterdam"
           },
           "quality": [
            "Basic"
           ],
           "scheduledTimeLocal": "2022-01-23 11:05+01:00",
           "scheduledTimeUtc": "2022-01-23 10:05Z",
           "terminal": "1"
          },
          "number": "KL 1823",
          "status": "Unknown"
         },
         {
          "aircraft": {
           "model": "Airbus A320"
          },
          "airline": {
           "name": "Aer Lingus"
          },
          "codeshareStatus": "Unknown",
          "isCargo": false,
          "movement": {
           "airport": {
            "iata": "DUB",
            "icao": "EIDW",
            "name": "Dublin"
           },
           "quality": [
            "Basic"
           ],
           "scheduledTimeLocal": "2022-01-23 10:30+01:00",
           "scheduledTimeUtc": "2022-01-23 09:30Z",
           "terminal": "1"
          },
          "number": "EI 332",
          "status": "Unknown"
         },
         {
          "aircraft": {
           "model": "Airbus A321"
          },
          "airline": {
           "name": "Lufthansa"
          },
          "codeshareStatus": "IsCodeshared",
          "isCargo": false,
          "movement": {
           "airport": {
            "iata": "FRA",
            "icao": "EDDF",
            "name": "Frankfurt-am-Main"
           },
           "quality": [
            "Basic"
           ],
           "scheduledTimeLocal": "2022-01-23 07:55+01:00",
           "scheduledTimeUtc": "2022-01-23 06:55Z",
           "terminal": "1"
          },
          "number": "LH 170",
          "status": "Unknown"
         },
         {
          "aircraft": {
           "model": "Bombardier Dash 8 Q400 / DHC-8-400"
          },
          "airline": {
           "name": "LOT - Polish"
          },
          "codeshareStatus": "Unknown",
          "isCargo": false,
          "movement": {
           "airport": {
            "iata": "WAW",
            "icao": "EPWA",
            "name": "Warsaw"
           },
           "quality": [
            "Basic"
           ],
           "scheduledTimeLocal": "2022-01-23 11:35+01:00",
           "scheduledTimeUtc": "2022-01-23 10:35Z",
           "terminal": "1"
          },
          "number": "LO 385",
          "status": "Unknown"
         },
         {
          "aircraft": {
           "model": "Boeing 737-800"
          },
          "airline": {
           "name": "Ryanair"
          },
          "codeshareStatus": "Unknown",
          "isCargo": false,
          "movement": {
           "airport": {
            "iata": "BCN",
            "icao": "LEBL",
            "name": "Barcelona"
           },
           "quality": [
            "Basic"
           ],
           "scheduledTimeLocal": "2022-01-23 09:20+01:00",
           "scheduledTimeUtc": "2022-01-23 08:20Z"
          },
          "number": "FR 149",
          "status": "Unknown"
         },
         {
          "aircraft": {
           "model": "Boeing 737-800"
          },
          "airline": {
           "name": "Ryanair"
          },
          "codeshareStatus": "Unknown",
          "isCargo": false,
          "movement": {
           "airport": {
            "iata": "MAD",
            "icao": "LEMD",
            "name": "Madrid"
           },
           "quality": [
            "Basic"
           ],
           "scheduledTimeLocal": "2022-01-23 11:40+01:00",
           "scheduledTimeUtc": "2022-01-23 10:40Z"
          },
          "number": "FR 2528",
          "status": "Unknown"
         },
         {
          "aircraft": {
           "model": "Airbus A320"
          },
          "airline": {
           "name": "Iberia"
          },
          "codeshareStatus": "Unknown",
          "isCargo": false,
          "movement": {
           "airport": {
            "iata": "MAD",
            "icao": "LEMD",
            "name": "Madrid"
           },
           "quality": [
            "Basic"
           ],
           "scheduledTimeLocal": "2022-01-23 11:10+01:00",
           "scheduledTimeUtc": "2022-01-23 10:10Z",
           "terminal": "1"
          },
          "number": "IB 3676",
          "status": "Unknown"
         },
         {
          "aircraft": {
           "model": "Boeing 737-800"
          },
          "airline": {
           "name": "Ryanair"
          },
          "codeshareStatus": "Unknown",
          "isCargo": false,
          "movement": {
           "airport": {
            "iata": "PMI",
            "icao": "LEPA",
            "name": "Palma De Mallorca"
           },
           "quality": [
            "Basic"
           ],
           "scheduledTimeLocal": "2022-01-23 10:30+01:00",
           "scheduledTimeUtc": "2022-01-23 09:30Z"
          },
          "number": "FR 217",
          "status": "Unknown"
         },
         {
          "aircraft": {
           "model": "Airbus A320"
          },
          "airline": {
           "name": "Eurowings"
          },
          "codeshareStatus": "Unknown",
          "isCargo": false,
          "movement": {
           "airport": {
            "iata": "PMI",
            "icao": "LEPA",
            "name": "Palma De Mallorca"
           },
           "quality": [
            "Basic"
           ],
           "scheduledTimeLocal": "2022-01-23 11:10+01:00",
           "scheduledTimeUtc": "2022-01-23 10:10Z",
           "terminal": "1"
          },
          "number": "EW 8591",
          "status": "Unknown"
         },
         {
          "aircraft": {
           "model": "Airbus A220-300"
          },
          "airline": {
           "name": "Air France"
          },
          "codeshareStatus": "Unknown",
          "isCargo": false,
          "movement": {
           "airport": {
            "iata": "CDG",
            "icao": "LFPG",
            "name": "Paris"
           },
           "quality": [
            "Basic"
           ],
           "scheduledTimeLocal": "2022-01-23 11:40+01:00",
           "scheduledTimeUtc": "2022-01-23 10:40Z",
           "terminal": "1"
          },
          "number": "AF 1734",
          "status": "Unknown"
         },
         {
          "aircraft": {
           "model": "Airbus A318"
          },
          "airline": {
           "name": "Air France"
          },
          "codeshareStatus": "Unknown",
          "isCargo": false,
          "movement": {
           "airport": {
            "iata": "ORY",
            "icao": "LFPO",
            "name": "Paris"
           },
           "quality": [
            "Basic"
           ],
           "scheduledTimeLocal": "2022-01-23 08:55+01:00",
           "scheduledTimeUtc": "2022-01-23 07:55Z",
           "terminal": "1"
          },
          "number": "AF 7354",
          "status": "Unknown"
         },
         {
          "aircraft": {
           "model": "Boeing 787-8"
          },
          "airline": {
           "name": "Scoot"
          },
          "codeshareStatus": "Unknown",
          "isCargo": false,
          "movement": {
           "airport": {
            "iata": "ATH",
            "icao": "LGAV",
            "name": "Athens"
           },
           "quality": [
            "Basic"
           ],
           "scheduledTimeLocal": "2022-01-23 10:20+01:00",
           "scheduledTimeUtc": "2022-01-23 09:20Z",
           "terminal": "1"
          },
          "number": "TR 722",
          "status": "Unknown"
         },
         {
          "aircraft": {
           "model": "Boeing 737-800"
          },
          "airline": {
           "name": "Ryanair"
          },
          "codeshareStatus": "Unknown",
          "isCargo": false,
          "movement": {
           "airport": {
            "iata": "BUD",
            "icao": "LHBP",
            "name": "Budapest"
           },
           "quality": [
            "Basic"
           ],
           "scheduledTimeLocal": "2022-01-23 10:30+01:00",
           "scheduledTimeUtc": "2022-01-23 09:30Z"
          },
          "number": "FR 197",
          "status": "Unknown"
         },
         {
          "aircraft": {
           "model": "Boeing 737-800"
          },
          "airline": {
           "name": "Ryanair"
          },
          "codeshareStatus": "Unknown",
          "isCargo": false,
          "movement": {
           "airport": {
            "iata": "MXP",
            "icao": "LIMC",
            "name": "Milan"
           },
           "quality": [
            "Basic"
           ],
           "scheduledTimeLocal": "2022-01-23 09:45+01:00",
           "scheduledTimeUtc": "2022-01-23 08:45Z"
          },
          "number": "FR 9",
          "status": "Unknown"
         },
         {
          "aircraft": {
           "model": "Airbus A319"
          },
          "airline": {
           "name": "easyJet"
          },
          "codeshareStatus": "Unknown",
          "isCargo": false,
          "movement": {
           "airport": {
            "iata": "LIN",
            "icao": "LIML",
            "name": "Milan"
           },
           "quality": [
            "Basic"
           ],
           "scheduledTimeLocal": "2022-01-23 11:50+01:00",
           "scheduledTimeUtc": "2022-01-23 10:50Z",
           "terminal": "1"
          },
          "number": "U2 4662",
          "status": "Unknown"
         },
         {
          "aircraft": {
           "model": "Boeing 737-800"
          },
          "airline": {
           "name": "Ryanair"
          },
          "codeshareStatus": "Unknown",
          "isCargo": false,
          "movement": {
           "airport": {
            "iata": "BLQ",
            "icao": "LIPE",
            "name": "Bologna"
           },
           "quality": [
            "Basic"
           ],
           "scheduledTimeLocal": "2022-01-23 11:35+01:00",
           "scheduledTimeUtc": "2022-01-23 10:35Z"
          },
          "number": "FR 137",
          "status": "Unknown"
         },
         {
          "aircraft": {
           "model": "Boeing 737-800"
          },
          "airline": {
           "name": "Ryanair"
          },
          "codeshareStatus": "Unknown",
          "isCargo": false,
          "movement": {
           "airport": {
            "iata": "PSA",
            "icao": "LIRP",
            "name": "Pisa"
           },
           "quality": [
            "Basic"
           ],
           "scheduledTimeLocal": "2022-01-23 09:25+01:00",
           "scheduledTimeUtc": "2022-01-23 08:25Z"
          },
          "number": "FR 9955",
          "status": "Unknown"
         },
         {
          "aircraft": {
           "model": "Airbus A320 NEO"
          },
          "airline": {
           "name": "SWISS"
          },
          "codeshareStatus": "Unknown",
          "isCargo": false,
          "movement": {
           "airport": {
            "iata": "ZRH",
            "icao": "LSZH",
            "name": "Zurich"
           },
           "quality": [
            "Basic"
           ],
           "scheduledTimeLocal": "2022-01-23 08:45+01:00",
           "scheduledTimeUtc": "2022-01-23 07:45Z",
           "terminal": "1"
          },
          "number": "LX 974",
          "status": "Unknown"
         },
         {
          "aircraft": {
           "model": "Boeing 737-800"
          },
          "airline": {
           "name": "Pegasus"
          },
          "codeshareStatus": "Unknown",
          "isCargo": false,
          "movement": {
           "airport": {
            "iata": "SAW",
            "icao": "LTFJ",
            "name": "Istanbul"
           },
           "quality": [
            "Basic"
           ],
           "scheduledTimeLocal": "2022-01-23 11:00+01:00",
           "scheduledTimeUtc": "2022-01-23 10:00Z",
           "terminal": "0"
          },
          "number": "PC 977",
          "status": "Unknown"
         },
         {
          "aircraft": {
           "model": "Airbus A319"
          },
          "airline": {
           "name": "Lufthansa"
          },
          "codeshareStatus": "IsCodeshared",
          "isCargo": false,
          "movement": {
           "airport": {
            "iata": "MUC",
            "icao": "EDDM",
            "name": "Munich"
           },
           "quality": [
            "Basic"
           ],
           "scheduledTimeLocal": "2022-01-23 09:35+01:00",
           "scheduledTimeUtc": "2022-01-23 08:35Z",
           "terminal": "1"
          },
          "number": "LH 1930",
          "status": "Unknown"
         },
         {
          "aircraft": {
           "model": "Boeing 737-800"
          },
          "airline": {
           "name": "Ryanair"
          },
          "codeshareStatus": "Unknown",
          "isCargo": false,
          "movement": {
           "airport": {
            "iata": "EDI",
            "icao": "EGPH",
            "name": "Edinburgh"
           },
           "quality": [
            "Basic"
           ],
           "scheduledTimeLocal": "2022-01-23 09:35+01:00",
           "scheduledTimeUtc": "2022-01-23 08:35Z"
          },
          "number": "FR 2376",
          "status": "Unknown"
         },
         {
          "aircraft": {
           "model": "Boeing 737-800"
          },
          "airline": {
           "name": "Ryanair"
          },
          "codeshareStatus": "Unknown",
          "isCargo": false,
          "movement": {
           "airport": {
            "iata": "BLL",
            "icao": "EKBI",
            "name": "Billund"
           },
           "quality": [
            "Basic"
           ],
           "scheduledTimeLocal": "2022-01-23 09:45+01:00",
           "scheduledTimeUtc": "2022-01-23 08:45Z"
          },
          "number": "FR 1701",
          "status": "Unknown"
         },
         {
          "aircraft": {
           "model": "Airbus A319",
           "reg": "VP-BIQ"
          },
          "airline": {
           "name": "Rossiya"
          },
          "codeshareStatus": "IsCodeshared",
          "isCargo": false,
          "movement": {
           "airport": {
            "iata": "LED",
            "icao": "ULLI",
            "name": "Saint-Petersburg"
           },
           "quality": [
            "Basic"
           ],
           "scheduledTimeLocal": "2022-01-23 10:05+01:00",
           "scheduledTimeUtc": "2022-01-23 09:05Z",
           "terminal": "1"
          },
          "number": "FV 6641",
          "status": "Unknown"
         },
         {
          "aircraft": {
           "model": "Airbus A321"
          },
          "airline": {
           "name": "Turkish"
          },
          "codeshareStatus": "Unknown",
          "isCargo": false,
          "movement": {
           "airport": {
            "iata": "IST",
            "icao": "LTFM",
            "name": "Istanbul"
           },
           "quality": [
            "Basic"
           ],
           "scheduledTimeLocal": "2022-01-23 09:35+01:00",
           "scheduledTimeUtc": "2022-01-23 08:35Z",
           "terminal": "1"
          },
          "number": "TK 1721",
          "status": "Unknown"
         }
        ]
       },
       {
        "arrivals": [
         {
          "aircraft": {
           "model": "Airbus A319"
          },
          "airline": {
           "name": "Bulgaria Air"
          },
          "codeshareStatus": "Unknown",
          "isCargo": false,
          "movement": {
           "airport": {
            "name": "Sofia"
           },
           "quality": [
            "Basic"
           ],
           "scheduledTimeLocal": "2022-01-23 13:10+01:00",
           "scheduledTimeUtc": "2022-01-23 12:10Z",
           "terminal": "1"
          },
          "number": "FB 440",
          "status": "Unknown"
         },
         {
          "aircraft": {
           "model": "Boeing 737-800"
          },
          "airline": {
           "name": "Ryanair"
          },
          "codeshareStatus": "Unknown",
          "isCargo": false,
          "movement": {
           "airport": {
            "name": "Manchester"
           },
           "quality": [
            "Basic"
           ],
           "scheduledTimeLocal": "2022-01-23 22:25+01:00",
           "scheduledTimeUtc": "2022-01-23 21:25Z"
          },
          "number": "FR 1155",
          "status": "Unknown"
         },
         {
          "aircraft": {
           "model": "Airbus A319"
          },
          "airline": {
           "name": "easyJet"
          },
          "codeshareStatus": "Unknown",
          "isCargo": false,
          "movement": {
           "airport": {
            "name": "Stockholm"
           },
           "quality": [
            "Basic"
           ],
           "scheduledTimeLocal": "2022-01-23 22:25+01:00",
           "scheduledTimeUtc": "2022-01-23 21:25Z",
           "terminal": "1"
          },
          "number": "U2 5216",
          "status": "Unknown"
         },
         {
          "aircraft": {
           "model": "Boeing 737-800"
          },
          "airline": {
           "name": "Ryanair"
          },
          "codeshareStatus": "Unknown",
          "isCargo": false,
          "movement": {
           "airport": {
            "name": "Nis"
           },
           "quality": [
            "Basic"
           ],
           "scheduledTimeLocal": "2022-01-23 22:30+01:00",
           "scheduledTimeUtc": "2022-01-23 21:30Z"
          },
          "number": "FR 1106",
          "status": "Unknown"
         },
         {
          "aircraft": {
           "model": "Airbus A320"
          },
          "airline": {
           "name": "Brussels"
          },
          "codeshareStatus": "Unknown",
          "isCargo": false,
          "movement": {
           "airport": {
            "iata": "BRU",
            "icao": "EBBR",
            "name": "Brussels"
           },
           "quality": [
            "Basic"
           ],
           "scheduledTimeLocal": "2022-01-23 14:20+01:00",
           "scheduledTimeUtc": "2022-01-23 13:20Z",
           "terminal": "1"
          },
          "number": "SN 2589",
          "status": "Unknown"
         },
         {
          "aircraft": {
           "model": "Boeing 737-800"
          },
          "airline": {
           "name": "Ryanair"
          },
          "codeshareStatus": "Unknown",
          "isCargo": false,
          "movement": {
           "airport": {
            "iata": "BRU",
            "icao": "EBBR",
            "name": "Brussels"
           },
           "quality": [
            "Basic"
           ],
           "scheduledTimeLocal": "2022-01-23 22:25+01:00",
           "scheduledTimeUtc": "2022-01-23 21:25Z"
          },
          "number": "FR 167",
          "status": "Unknown"
         },
         {
          "aircraft": {
           "model": "Boeing 737"
          },
          "airline": {
           "name": "Icelandair"
          },
          "codeshareStatus": "Unknown",
          "isCargo": false,
          "movement": {
           "airport": {
            "iata": "KEF",
            "icao": "BIKF",
            "name": "Reykjavik"
           },
           "quality": [
            "Basic"
           ],
           "scheduledTimeLocal": "2022-01-23 12:10+01:00",
           "scheduledTimeUtc": "2022-01-23 11:10Z",
           "terminal": "1"
          },
          "number": "FI 528",
          "status": "Unknown"
         },
         {
          "aircraft": {
           "model": "Airbus A320"
          },
          "airline": {
           "name": "easyJet"
          },
          "codeshareStatus": "Unknown",
          "isCargo": false,
          "movement": {
           "airport": {
            "iata": "PRN",
            "icao": "BKPR",
            "name": "Prishtina"
           },
           "quality": [
            "Basic"
           ],
           "scheduledTimeLocal": "2022-01-23 15:15+01:00",
           "scheduledTimeUtc": "2022-01-23 14:15Z",
           "terminal": "1"
          },
          "number": "U2 4580",
          "status": "Unknown"
         },
         {
          "aircraft": {
           "model": "Airbus A319"
          },
          "airline": {
           "name": "Brussels"
          },
          "codeshareStatus": "Unknown",
          "isCargo": false,
          "movement": {
           "airport": {
            "iata": "BRU",
            "icao": "EBBR",
            "name": "Brussels"
           },
           "quality": [
            "Basic"
           ],
           "scheduledTimeLocal": "2022-01-23 18:50+01:00",
           "scheduledTimeUtc": "2022-01-23 17:50Z",
           "terminal": "1"
          },
          "number": "SN 2591",
          "status": "Unknown"
         },
         {
          "aircraft": {
           "model": "Airbus A320 NEO"
          },
          "airline": {
           "name": "Lufthansa"
          },
          "codeshareStatus": "IsCodeshared",
          "isCargo": false,
          "movement": {
           "airport": {
            "iata": "FRA",
            "icao": "EDDF",
            "name": "Frankfurt-am-Main"
           },
           "quality": [
            "Basic"
           ],
           "scheduledTimeLocal": "2022-01-23 14:55+01:00",
           "scheduledTimeUtc": "2022-01-23 13:55Z",
           "terminal": "1"
          },
          "number": "LH 186",
          "status": "Unknown"
         },
         {
          "aircraft": {
           "model": "Airbus A320"
          },
          "airline": {
           "name": "Lufthansa"
          },
          "codeshareStatus": "IsCodeshared",
          "isCargo": false,
          "movement": {
           "airport": {
            "iata": "FRA",
            "icao": "EDDF",
            "name": "Frankfurt-am-Main"
           },
           "quality": [
            "Basic"
           ],
           "scheduledTimeLocal": "2022-01-23 17:55+01:00",
           "scheduledTimeUtc": "2022-01-23 16:55Z",
           "terminal": "1"
          },
          "number": "LH 192",
          "status": "Unknown"
         },
         {
          "aircraft": {
           "model": "Airbus A319"
          },
          "airline": {
           "name": "Eurowings"
          },
          "codeshareStatus": "Unknown",
          "isCargo": false,
          "movement": {
           "airport": {
            "iata": "CGN",
            "icao": "EDDK",
            "name": "Cologne"
           },
           "quality": [
            "Basic"
           ],
           "scheduledTimeLocal": "2022-01-23 18:55+01:00",
           "scheduledTimeUtc": "2022-01-23 17:55Z",
           "terminal": "1"
          },
          "number": "EW 6",
          "status": "Unknown"
         },
         {
          "aircraft": {
           "model": "Airbus A320"
          },
          "airline": {
           "name": "easyJet"
          },
          "codeshareStatus": "Unknown",
          "isCargo": false,
          "movement": {
           "airport": {
            "iata": "CGN",
            "icao": "EDDK",
            "name": "Cologne"
           },
           "quality": [
            "Basic"
           ],
           "scheduledTimeLocal": "2022-01-23 19:10+01:00",
           "scheduledTimeUtc": "2022-01-23 18:10Z",
           "terminal": "1"
          },
          "number": "U2 5512",
          "status": "Unknown"
         },
         {
          "aircraft": {
           "model": "Airbus A319"
          },
          "airline": {
           "name": "easyJet"
          },
          "codeshareStatus": "Unknown",
          "isCargo": false,
          "movement": {
           "airport": {
            "iata": "CGN",
            "icao": "EDDK",
            "name": "Cologne"
           },
           "quality": [
            "Basic"
           ],
           "scheduledTimeLocal": "2022-01-23 21:00+01:00",
           "scheduledTimeUtc": "2022-01-23 20:00Z",
           "terminal": "1"
          },
          "number": "U2 5514",
          "status": "Unknown"
         },
         {
          "aircraft": {
           "model": "Airbus A320"
          },
          "airline": {
           "name": "Eurowings"
          },
          "codeshareStatus": "Unknown",
          "isCargo": false,
          "movement": {
           "airport": {
            "iata": "DUS",
            "icao": "EDDL",
            "name": "Duesseldorf"
           },
           "quality": [
            "Basic"
           ],
           "scheduledTimeLocal": "2022-01-23 15:50+01:00",
           "scheduledTimeUtc": "2022-01-23 14:50Z",
           "terminal": "1"
          },
          "number": "EW 9042",
          "status": "Unknown"
         },
         {
          "aircraft": {
           "model": "Airbus A320"
          },
          "airline": {
           "name": "Lufthansa"
          },
          "codeshareStatus": "IsCodeshared",
          "isCargo": false,
          "movement": {
           "airport": {
            "iata": "FRA",
            "icao": "EDDF",
            "name": "Frankfurt-am-Main"
           },
           "quality": [
            "Basic"
           ],
           "scheduledTimeLocal": "2022-01-23 22:25+01:00",
           "scheduledTimeUtc": "2022-01-23 21:25Z",
           "terminal": "1"
          },
          "number": "LH 202",
          "status": "Unknown"
         },
         {
          "aircraft": {
           "model": "Airbus A320 NEO"
          },
          "airline": {
           "name": "Lufthansa"
          },
          "codeshareStatus": "IsCodeshared",
          "isCargo": false,
          "movement": {
           "airport": {
            "iata": "FRA",
            "icao": "EDDF",
            "name": "Frankfurt-am-Main"
           },
           "quality": [
            "Basic"
           ],
           "scheduledTimeLocal": "2022-01-23 18:55+01:00",
           "scheduledTimeUtc": "2022-01-23 17:55Z",
           "terminal": "1"
          },
          "number": "LH 194",
          "status": "Unknown"
         },
         {
          "aircraft": {
           "model": "Airbus A319"
          },
          "airline": {
           "name": "Eurowings"
          },
          "codeshareStatus": "Unknown",
          "isCargo": false,
          "movement": {
           "airport": {
            "iata": "CGN",
            "icao": "EDDK",
            "name": "Cologne"
           },
           "quality": [
            "Basic"
           ],
           "scheduledTimeLocal": "2022-01-23 16:20+01:00",
           "scheduledTimeUtc": "2022-01-23 15:20Z",
           "terminal": "1"
          },
          "number": "EW 8",
          "status": "Unknown"
         },
         {
          "aircraft": {
           "model": "Airbus A319"
          },
          "airline": {
           "name": "Lufthansa"
          },
          "codeshareStatus": "IsCodeshared",
          "isCargo": false,
          "movement": {
           "airport": {
            "iata": "MUC",
            "icao": "EDDM",
            "name": "Munich"
           },
           "quality": [
            "Basic"
           ],
           "scheduledTimeLocal": "2022-01-23 18:10+01:00",
           "scheduledTimeUtc": "2022-01-23 17:10Z",
           "terminal": "1"
          },
          "number": "LH 1948",
          "status": "Unknown"
         },
         {
          "aircraft": {
           "model": "Airbus A320 NEO"
          },
          "airline": {
           "name": "Lufthansa"
          },
          "codeshareStatus": "IsCodeshared",
          "isCargo": false,
          "movement": {
           "airport": {
            "iata": "MUC",
            "icao": "EDDM",
            "name": "Munich"
           },
           "quality": [
            "Basic"
           ],
           "scheduledTimeLocal": "2022-01-23 20:10+01:00",
           "scheduledTimeUtc": "2022-01-23 19:10Z",
           "terminal": "1"
          },
          "number": "LH 1954",
          "status": "Unknown"
         },
         {
          "aircraft": {
           "model": "Airbus A319"
          },
          "airline": {
           "name": "Lufthansa"
          },
          "codeshareStatus": "IsCodeshared",
          "isCargo": false,
          "movement": {
           "airport": {
            "iata": "MUC",
            "icao": "EDDM",
            "name": "Munich"
           },
           "quality": [
            "Basic"
           ],
           "scheduledTimeLocal": "2022-01-23 16:55+01:00",
           "scheduledTimeUtc": "2022-01-23 15:55Z",
           "terminal": "1"
          },
          "number": "LH 1942",
          "status": "Unknown"
         },
         {
          "aircraft": {
           "model": "Airbus A320"
          },
          "airline": {
           "name": "Lufthansa"
          },
          "codeshareStatus": "IsCodeshared",
          "isCargo": false,
          "movement": {
           "airport": {
            "iata": "MUC",
            "icao": "EDDM",
            "name": "Munich"
           },
           "quality": [
            "Basic"
           ],
           "scheduledTimeLocal": "2022-01-23 12:15+01:00",
           "scheduledTimeUtc": "2022-01-23 11:15Z",
           "terminal": "1"
          },
          "number": "LH 1936",
          "status": "Unknown"
         },
         {
          "aircraft": {
           "model": "Airbus A319"
          },
          "airline": {
           "name": "Eurowings"
          },
          "codeshareStatus": "Unknown",
          "isCargo": false,
          "movement": {
           "airport": {
            "iata": "STR",
            "icao": "EDDS",
            "name": "Stuttgart"
           },
           "quality": [
            "Basic"
           ],
           "scheduledTimeLocal": "2022-01-23 15:30+01:00",
           "scheduledTimeUtc": "2022-01-23 14:30Z",
           "terminal": "1"
          },
          "number": "EW 2020",
          "status": "Unknown"
         },
         {
          "aircraft": {
           "model": "Airbus A320"
          },
          "airline": {
           "name": "Eurowings"
          },
          "codeshareStatus": "Unknown",
          "isCargo": false,
          "movement": {
           "airport": {
            "iata": "STR",
            "icao": "EDDS",
            "name": "Stuttgart"
           },
           "quality": [
            "Basic"
           ],
           "scheduledTimeLocal": "2022-01-23 19:35+01:00",
           "scheduledTimeUtc": "2022-01-23 18:35Z",
           "terminal": "1"
          },
          "number": "EW 2006",
          "status": "Unknown"
         },
         {
          "aircraft": {
           "model": "Airbus A320"
          },
          "airline": {
           "name": "Lufthansa"
          },
          "codeshareStatus": "IsCodeshared",
          "isCargo": false,
          "movement": {
           "airport": {
            "iata": "MUC",
            "icao": "EDDM",
            "name": "Munich"
           },
           "quality": [
            "Basic"
           ],
           "scheduledTimeLocal": "2022-01-23 15:25+01:00",
           "scheduledTimeUtc": "2022-01-23 14:25Z",
           "terminal": "1"
          },
          "number": "LH 1944",
          "status": "Unknown"
         },
         {
          "aircraft": {
           "model": "Airbus A319"
          },
          "airline": {
           "name": "Finnair"
          },
          "codeshareStatus": "Unknown",
          "isCargo": false,
          "movement": {
           "airport": {
            "iata": "HEL",
            "icao": "EFHK",
            "name": "Helsinki"
           },
           "quality": [
            "Basic"
           ],
           "scheduledTimeLocal": "2022-01-23 18:25+01:00",
           "scheduledTimeUtc": "2022-01-23 17:25Z",
           "terminal": "1"
          },
          "number": "AY 1435",
          "status": "Unknown"
         },
         {
          "aircraft": {
           "model": "Boeing 737-800"
          },
          "airline": {
           "name": "Ryanair"
          },
          "codeshareStatus": "Unknown",
          "isCargo": false,
          "movement": {
           "airport": {
            "iata": "MAN",
            "icao": "EGCC",
            "name": "Manchester"
           },
           "quality": [
            "Basic"
           ],
           "scheduledTimeLocal": "2022-01-23 15:30+01:00",
           "scheduledTimeUtc": "2022-01-23 14:30Z"
          },
          "number": "FR 1145",
          "status": "Unknown"
         },
         {
          "aircraft": {
           "model": "Airbus A320"
          },
          "airline": {
           "name": "Lufthansa"
          },
          "codeshareStatus": "IsCodeshared",
          "isCargo": false,
          "movement": {
           "airport": {
            "iata": "MUC",
            "icao": "EDDM",
            "name": "Munich"
           },
           "quality": [
            "Basic"
           ],
           "scheduledTimeLocal": "2022-01-23 22:55+01:00",
           "scheduledTimeUtc": "2022-01-23 21:55Z",
           "terminal": "1"
          },
          "number": "LH 1958",
          "status": "Unknown"
         },
         {
          "aircraft": {
           "model": "Airbus A220-300"
          },
          "airline": {
           "name": "Air Baltic"
          },
          "codeshareStatus": "Unknown",
          "isCargo": false,
          "movement": {
           "airport": {
            "iata": "TLL",
            "icao": "EETN",
            "name": "Tallinn"
           },
           "quality": [
            "Basic"
           ],
           "scheduledTimeLocal": "2022-01-23 14:25+01:00",
           "scheduledTimeUtc": "2022-01-23 13:25Z",
           "terminal": "1"
          },
          "number": "BT 821",
          "status": "Unknown"
         },
         {
          "aircraft": {
           "model": "Airbus A320"
          },
          "airline": {
           "name": "British Airways"
          },
          "codeshareStatus": "IsCodeshared",
          "isCargo": false,
          "movement": {
           "airport": {
            "iata": "LHR",
            "icao": "EGLL",
            "name": "London"
           },
           "quality": [
            "Basic"
           ],
           "scheduledTimeLocal": "2022-01-23 18:05+01:00",
           "scheduledTimeUtc": "2022-01-23 17:05Z",
           "terminal": "1"
          },
          "number": "BA 998",
          "status": "Unknown"
         },
         {
          "aircraft": {
           "model": "Airbus A320"
          },
          "airline": {
           "name": "British Airways"
          },
          "codeshareStatus": "IsCodeshared",
          "isCargo": false,
          "movement": {
           "airport": {
            "iata": "LHR",
            "icao": "EGLL",
            "name": "London"
           },
           "quality": [
            "Basic"
           ],
           "scheduledTimeLocal": "2022-01-23 21:45+01:00",
           "scheduledTimeUtc": "2022-01-23 20:45Z",
           "terminal": "1"
          },
          "number": "BA 988",
          "status": "Unknown"
         },
         {
          "aircraft": {
           "model": "Boeing 737-800"
          },
          "airline": {
           "name": "Ryanair"
          },
          "codeshareStatus": "Unknown",
          "isCargo": false,
          "movement": {
           "airport": {
            "iata": "STN",
            "icao": "EGSS",
            "name": "London"
           },
           "quality": [
            "Basic"
           ],
           "scheduledTimeLocal": "2022-01-23 15:25+01:00",
           "scheduledTimeUtc": "2022-01-23 14:25Z"
          },
          "number": "FR 176",
          "status": "Unknown"
         },
         {
          "aircraft": {
           "model": "ATR 42-300"
          },
          "airline": {
           "name": "Danish Air"
          },
          "codeshareStatus": "Unknown",
          "isCargo": false,
          "movement": {
           "airport": {
            "iata": "SCN",
            "icao": "EDDR",
            "name": "Saarbrücken"
           },
           "quality": [
            "Basic"
           ],
           "scheduledTimeLocal": "2022-01-23 14:40+01:00",
           "scheduledTimeUtc": "2022-01-23 13:40Z",
           "terminal": "0"
          },
          "number": "DX 123",
          "status": "Unknown"
         },
         {
          "aircraft": {
           "model": "Airbus A320"
          },
          "airline": {
           "name": "easyJet"
          },
          "codeshareStatus": "Unknown",
          "isCargo": false,
          "movement": {
           "airport": {
            "iata": "LGW",
            "icao": "EGKK",
            "name": "London"
           },
           "quality": [
            "Basic"
           ],
           "scheduledTimeLocal": "2022-01-23 22:45+01:00",
           "scheduledTimeUtc": "2022-01-23 21:45Z",
           "terminal": "1"
          },
          "number": "U2 8217",
          "status": "Unknown"
         },
         {
          "aircraft": {
           "model": "Embraer 190"
          },
          "airline": {
           "name": "British Airways"
          },
          "codeshareStatus": "IsCodeshared",
          "isCargo": false,
          "movement": {
           "airport": {
            "iata": "LCY",
            "icao": "EGLC",
            "name": "London"
           },
           "quality": [
            "Basic"
           ],
           "scheduledTimeLocal": "2022-01-23 20:00+01:00",
           "scheduledTimeUtc": "2022-01-23 19:00Z",
           "terminal": "1"
          },
          "number": "BA 8493",
          "status": "Unknown"
         },
         {
          "aircraft": {
           "model": "Boeing 737-800",
           "reg": "PH-HSE"
          },
          "airline": {
           "name": "KLM"
          },
          "codeshareStatus": "IsCodeshared",
          "isCargo": false,
          "movement": {
           "airport": {
            "iata": "AMS",
            "icao": "EHAM",
            "name": "Amsterdam"
           },
           "quality": [
            "Basic"
           ],
           "scheduledTimeLocal": "2022-01-23 18:00+01:00",
           "scheduledTimeUtc": "2022-01-23 17:00Z",
           "terminal": "1"
          },
          "number": "KL 1831",
          "status": "Unknown"
         },
         {
          "aircraft": {
           "model": "Airbus A320"
          },
          "airline": {
           "name": "easyJet"
          },
          "codeshareStatus": "Unknown",
          "isCargo": false,
          "movement": {
           "airport": {
            "iata": "AMS",
            "icao": "EHAM",
            "name": "Amsterdam"
           },
           "quality": [
            "Basic"
           ],
           "scheduledTimeLocal": "2022-01-23 18:30+01:00",
           "scheduledTimeUtc": "2022-01-23 17:30Z",
           "terminal": "1"
          },
          "number": "U2 5106",
          "status": "Unknown"
         },
         {
          "aircraft": {
           "model": "Embraer 190"
          },
          "airline": {
           "name": "KLM"
          },
          "codeshareStatus": "IsCodeshared",
          "isCargo": false,
          "movement": {
           "airport": {
            "iata": "AMS",
            "icao": "EHAM",
            "name": "Amsterdam"
           },
           "quality": [
            "Basic"
           ],
           "scheduledTimeLocal": "2022-01-23 16:40+01:00",
           "scheduledTimeUtc": "2022-01-23 15:40Z",
           "terminal": "1"
          },
          "number": "KL 1829",
          "status": "Unknown"
         },
         {
          "aircraft": {
           "model": "Boeing 737-800"
          },
          "airline": {
           "name": "Ryanair"
          },
          "codeshareStatus": "Unknown",
          "isCargo": false,
          "movement": {
           "airport": {
            "iata": "DUB",
            "icao": "EIDW",
            "name": "Dublin"
           },
           "quality": [
            "Basic"
           ],
           "scheduledTimeLocal": "2022-01-23 12:15+01:00",
           "scheduledTimeUtc": "2022-01-23 11:15Z"
          },
          "number": "FR 8556",
          "status": "Unknown"
         },
         {
          "aircraft": {
           "model": "Airbus A320"
          },
          "airline": {
           "name": "Aer Lingus"
          },
          "codeshareStatus": "Unknown",
          "isCargo": false,
          "movement": {
           "airport": {
            "iata": "DUB",
            "icao": "EIDW",
            "name": "Dublin"
           },
           "quality": [
            "Basic"
           ],
           "scheduledTimeLocal": "2022-01-23 19:00+01:00",
           "scheduledTimeUtc": "2022-01-23 18:00Z",
           "terminal": "1"
          },
          "number": "EI 336",
          "status": "Unknown"
         },
         {
          "aircraft": {
           "model": "Boeing 737-800"
          },
          "airline": {
           "name": "Ryanair"
          },
          "codeshareStatus": "Unknown",
          "isCargo": false,
          "movement": {
           "airport": {
            "iata": "STN",
            "icao": "EGSS",
            "name": "London"
           },
           "quality": [
            "Basic"
           ],
           "scheduledTimeLocal": "2022-01-23 22:30+01:00",
           "scheduledTimeUtc": "2022-01-23 21:30Z"
          },
          "number": "FR 147",
          "status": "Unknown"
         },
         {
          "aircraft": {
           "model": "Boeing 737-800"
          },
          "airline": {
           "name": "Ryanair"
          },
          "codeshareStatus": "Unknown",
          "isCargo": false,
          "movement": {
           "airport": {
            "iata": "STN",
            "icao": "EGSS",
            "name": "London"
           },
           "quality": [
            "Basic"
           ],
           "scheduledTimeLocal": "2022-01-23 21:00+01:00",
           "scheduledTimeUtc": "2022-01-23 20:00Z"
          },
          "number": "FR 8544",
          "status": "Unknown"
         },
         {
          "aircraft": {
           "model": "Boeing 737-800",
           "reg": "PH-BXZ"
          },
          "airline": {
           "name": "KLM"
          },
          "codeshareStatus": "IsCodeshared",
          "isCargo": false,
          "movement": {
           "airport": {
            "iata": "AMS",
            "icao": "EHAM",
            "name": "Amsterdam"
           },
           "quality": [
            "Basic"
           ],
           "scheduledTimeLocal": "2022-01-23 21:55+01:00",
           "scheduledTimeUtc": "2022-01-23 20:55Z",
           "terminal": "1"
          },
          "number": "KL 1835",
          "status": "Unknown"
         },
         {
          "aircraft": {
           "model": "Boeing 737-800"
          },
          "airline": {
           "name": "Ryanair"
          },
          "codeshareStatus": "Unknown",
          "isCargo": false,
          "movement": {
           "airport": {
            "iata": "LUX",
            "icao": "ELLX",
            "name": "Luxembourg"
           },
           "quality": [
            "Basic"
           ],
           "scheduledTimeLocal": "2022-01-23 13:45+01:00",
           "scheduledTimeUtc": "2022-01-23 12:45Z"
          },
          "number": "FR 43",
          "status": "Unknown"
         },
         {
          "aircraft": {
           "model": "Bombardier Dash 8 Q400 / DHC-8-400"
          },
          "airline": {
           "name": "Luxair"
          },
          "codeshareStatus": "Unknown",
          "isCargo": false,
          "movement": {
           "airport": {
            "iata": "LUX",
            "icao": "ELLX",
            "name": "Luxembourg"
           },
           "quality": [
            "Basic"
           ],
           "scheduledTimeLocal": "2022-01-23 20:15+01:00",
           "scheduledTimeUtc": "2022-01-23 19:15Z",
           "terminal": "1"
          },
          "number": "LG 9473",
          "status": "Unknown"
         },
         {
          "aircraft": {
           "model": "Boeing 737-800"
          },
          "airline": {
           "name": "Norwegian Air Shuttle"
          },
          "codeshareStatus": "Unknown",
          "isCargo": false,
          "movement": {
           "airport": {
            "iata": "OSL",
            "icao": "ENGM",
            "name": "Oslo"
           },
           "quality": [
            "Basic"
           ],
           "scheduledTimeLocal": "2022-01-23 14:05+01:00",
           "scheduledTimeUtc": "2022-01-23 13:05Z",
           "terminal": "1"
          },
          "number": "DY 1104",
          "status": "Unknown"
         },
         {
          "aircraft": {
           "model": "Boeing 737-800"
          },
          "airline": {
           "name": "Norwegian Air International"
          },
          "codeshareStatus": "Unknown",
          "isCargo": false,
          "movement": {
           "airport": {
            "iata": "CPH",
            "icao": "EKCH",
            "name": "Copenhagen"
           },
           "quality": [
            "Basic"
           ],
           "scheduledTimeLocal": "2022-01-23 17:55+01:00",
           "scheduledTimeUtc": "2022-01-23 16:55Z",
           "terminal": "1"
          },
          "number": "D8 3302",
          "status": "Unknown"
         },
         {
          "aircraft": {
           "model": "Bombardier CRJ900"
          },
          "airline": {
           "name": "SAS"
          },
          "codeshareStatus": "Unknown",
          "isCargo": false,
          "movement": {
           "airport": {
            "iata": "ARN",
            "icao": "ESSA",
            "name": "Stockholm"
           },
           "quality": [
            "Basic"
           ],
           "scheduledTimeLocal": "2022-01-23 17:35+01:00",
           "scheduledTimeUtc": "2022-01-23 16:35Z",
           "terminal": "1"
          },
          "number": "SK 2679",
          "status": "Unknown"
         },
         {
          "aircraft": {
           "model": "Boeing 737-800"
          },
          "airline": {
           "name": "Ryanair"
          },
          "codeshareStatus": "Unknown",
          "isCargo": false,
          "movement": {
           "airport": {
            "iata": "RIX",
            "icao": "EVRA",
            "name": "Riga"
           },
           "quality": [
            "Basic"
           ],
           "scheduledTimeLocal": "2022-01-23 13:55+01:00",
           "scheduledTimeUtc": "2022-01-23 12:55Z"
          },
          "number": "FR 2600",
          "status": "Unknown"
         },
         {
          "aircraft": {
           "model": "Airbus A220-300"
          },
          "airline": {
           "name": "Air Baltic"
          },
          "codeshareStatus": "Unknown",
          "isCargo": false,
          "movement": {
           "airport": {
            "iata": "RIX",
            "icao": "EVRA",
            "name": "Riga"
           },
           "quality": [
            "Basic"
           ],
           "scheduledTimeLocal": "2022-01-23 19:00+01:00",
           "scheduledTimeUtc": "2022-01-23 18:00Z",
           "terminal": "1"
          },
          "number": "BT 213",
          "status": "Unknown"
         },
         {
          "aircraft": {
           "model": "Airbus A220-300"
          },
          "airline": {
           "name": "Air Baltic"
          },
          "codeshareStatus": "Unknown",
          "isCargo": false,
          "movement": {
           "airport": {
            "iata": "VNO",
            "icao": "EYVI",
            "name": "Vilnius"
           },
           "quality": [
            "Basic"
           ],
           "scheduledTimeLocal": "2022-01-23 15:00+01:00",
           "scheduledTimeUtc": "2022-01-23 14:00Z",
           "terminal": "1"
          },
          "number": "BT 921",
          "status": "Unknown"
         },
         {
          "aircraft": {
           "model": "Airbus A320"
          },
          "airline": {
           "name": "easyJet"
          },
          "codeshareStatus": "Unknown",
          "isCargo": false,
          "movement": {
           "airport": {
            "iata": "LPA",
            "icao": "GCLP",
            "name": "Gran Canaria Island"
           },
           "quality": [
            "Basic"
           ],
           "scheduledTimeLocal": "2022-01-23 18:35+01:00",
           "scheduledTimeUtc": "2022-01-23 17:35Z",
           "terminal": "1"
          },
          "number": "U2 5932",
          "status": "Unknown"
         },
         {
          "aircraft": {
           "model": "Airbus A321"
          },
          "airline": {
           "name": "Condor"
          },
          "codeshareStatus": "Unknown",
          "isCargo": false,
          "movement": {
           "airport": {
            "iata": "LPA",
            "icao": "GCLP",
            "name": "Gran Canaria Island"
           },
           "quality": [
            "Basic"
           ],
           "scheduledTimeLocal": "2022-01-23 20:55+01:00",
           "scheduledTimeUtc": "2022-01-23 19:55Z",
           "terminal": "1"
          },
          "number": "DE 1289",
          "status": "Unknown"
         },
         {
          "aircraft": {
           "model": "Airbus A320"
          },
          "airline": {
           "name": "easyJet"
          },
          "codeshareStatus": "Unknown",
          "isCargo": false,
          "movement": {
           "airport": {
            "iata": "ACE",
            "icao": "GCRR",
            "name": "Lanzarote Island"
           },
           "quality": [
            "Basic"
           ],
           "scheduledTimeLocal": "2022-01-23 18:05+01:00",
           "scheduledTimeUtc": "2022-01-23 17:05Z",
           "terminal": "1"
          },
          "number": "U2 5926",
          "status": "Unknown"
         },
         {
          "aircraft": {
           "model": "Airbus A320"
          },
          "airline": {
           "name": "Eurowings"
          },
          "codeshareStatus": "Unknown",
          "isCargo": false,
          "movement": {
           "airport": {
            "iata": "TFS",
            "icao": "GCTS",
            "name": "Tenerife Island"
           },
           "quality": [
            "Basic"
           ],
           "scheduledTimeLocal": "2022-01-23 19:05+01:00",
           "scheduledTimeUtc": "2022-01-23 18:05Z",
           "terminal": "1"
          },
          "number": "EW 8291",
          "status": "Unknown"
         },
         {
          "aircraft": {
           "model": "Boeing 737-800"
          },
          "airline": {
           "name": "Ryanair"
          },
          "codeshareStatus": "Unknown",
          "isCargo": false,
          "movement": {
           "airport": {
            "iata": "TFS",
            "icao": "GCTS",
            "name": "Tenerife Island"
           },
           "quality": [
            "Basic"
           ],
           "scheduledTimeLocal": "2022-01-23 18:35+01:00",
           "scheduledTimeUtc": "2022-01-23 17:35Z"
          },
          "number": "FR 4067",
          "status": "Unknown"
         },
         {
          "aircraft": {
           "model": "Airbus A320 NEO"
          },
          "airline": {
           "name": "EgyptAir"
          },
          "codeshareStatus": "Unknown",
          "isCargo": false,
          "movement": {
           "airport": {
            "iata": "CAI",
            "icao": "HECA",
            "name": "Cairo"
           },
           "quality": [
            "Basic"
           ],
           "scheduledTimeLocal": "2022-01-23 13:55+01:00",
           "scheduledTimeUtc": "2022-01-23 12:55Z",
           "terminal": "1"
          },
          "number": "MS 731",
          "status": "Unknown"
         },
         {
          "aircraft": {
           "model": "Bombardier Dash 8 Q400 / DHC-8-400"
          },
          "airline": {
           "name": "LOT - Polish"
          },
          "codeshareStatus": "Unknown",
          "isCargo": false,
          "movement": {
           "airport": {
            "iata": "WAW",
            "icao": "EPWA",
            "name": "Warsaw"
           },
           "quality": [
            "Basic"
           ],
           "scheduledTimeLocal": "2022-01-23 17:45+01:00",
           "scheduledTimeUtc": "2022-01-23 16:45Z",
           "terminal": "1"
          },
          "number": "LO 389",
          "status": "Unknown"
         },
         {
          "aircraft": {
           "model": "Boeing 737-800"
          },
          "airline": {
           "name": "Ryanair"
          },
          "codeshareStatus": "Unknown",
          "isCargo": false,
          "movement": {
           "airport": {
            "iata": "DUB",
            "icao": "EIDW",
            "name": "Dublin"
           },
           "quality": [
            "Basic"
           ],
           "scheduledTimeLocal": "2022-01-23 20:55+01:00",
           "scheduledTimeUtc": "2022-01-23 19:55Z"
          },
          "number": "FR 8558",
          "status": "Unknown"
         },
         {
          "aircraft": {
           "model": "Airbus A320"
          },
          "airline": {
           "name": "Vueling"
          },
          "codeshareStatus": "Unknown",
          "isCargo": false,
          "movement": {
           "airport": {
            "iata": "BCN",
            "icao": "LEBL",
            "name": "Barcelona"
           },
           "quality": [
            "Basic"
           ],
           "scheduledTimeLocal": "2022-01-23 14:20+01:00",
           "scheduledTimeUtc": "2022-01-23 13:20Z",
           "terminal": "1"
          },
          "number": "VY 1882",
          "status": "Unknown"
         },
         {
          "aircraft": {
           "model": "Airbus A320"
          },
          "airline": {
           "name": "easyJet"
          },
          "codeshareStatus": "Unknown",
          "isCargo": false,
          "movement": {
           "airport": {
            "iata": "BCN",
            "icao": "LEBL",
            "name": "Barcelona"
           },
           "quality": [
            "Basic"
           ],
           "scheduledTimeLocal": "2022-01-23 15:15+01:00",
           "scheduledTimeUtc": "2022-01-23 14:15Z",
           "terminal": "1"
          },
          "number": "U2 5126",
          "status": "Unknown"
         },
         {
          "aircraft": {
           "model": "Boeing 737-800"
          },
          "airline": {
           "name": "Ryanair"
          },
          "codeshareStatus": "Unknown",
          "isCargo": false,
          "movement": {
           "airport": {
            "iata": "BCN",
            "icao": "LEBL",
            "name": "Barcelona"
           },
           "quality": [
            "Basic"
           ],
           "scheduledTimeLocal": "2022-01-23 18:35+01:00",
           "scheduledTimeUtc": "2022-01-23 17:35Z"
          },
          "number": "FR 133",
          "status": "Unknown"
         },
         {
          "aircraft": {
           "model": "Airbus A320"
          },
          "airline": {
           "name": "Iberia"
          },
          "codeshareStatus": "Unknown",
          "isCargo": false,
          "movement": {
           "airport": {
            "iata": "MAD",
            "icao": "LEMD",
            "name": "Madrid"
           },
           "quality": [
            "Basic"
           ],
           "scheduledTimeLocal": "2022-01-23 18:50+01:00",
           "scheduledTimeUtc": "2022-01-23 17:50Z",
           "terminal": "1"
          },
          "number": "IB 3672",
          "status": "Unknown"
         },
         {
          "aircraft": {
           "model": "Boeing 737-800"
          },
          "airline": {
           "name": "Ryanair"
          },
          "codeshareStatus": "Unknown",
          "isCargo": false,
          "movement": {
           "airport": {
            "iata": "MAD",
            "icao": "LEMD",
            "name": "Madrid"
           },
           "quality": [
            "Basic"
           ],
           "scheduledTimeLocal": "2022-01-23 20:05+01:00",
           "scheduledTimeUtc": "2022-01-23 19:05Z"
          },
          "number": "FR 2526",
          "status": "Unknown"
         },
         {
          "aircraft": {
           "model": "Airbus A320"
          },
          "airline": {
           "name": "easyJet"
          },
          "codeshareStatus": "Unknown",
          "isCargo": false,
          "movement": {
           "airport": {
            "iata": "AGP",
            "icao": "LEMG",
            "name": "Málaga"
           },
           "quality": [
            "Basic"
           ],
           "scheduledTimeLocal": "2022-01-23 15:45+01:00",
           "scheduledTimeUtc": "2022-01-23 14:45Z",
           "terminal": "1"
          },
          "number": "U2 5914",
          "status": "Unknown"
         },
         {
          "aircraft": {
           "model": "Boeing 737-800"
          },
          "airline": {
           "name": "Ryanair"
          },
          "codeshareStatus": "Unknown",
          "isCargo": false,
          "movement": {
           "airport": {
            "iata": "AGP",
            "icao": "LEMG",
            "name": "Málaga"
           },
           "quality": [
            "Basic"
           ],
           "scheduledTimeLocal": "2022-01-23 22:00+01:00",
           "scheduledTimeUtc": "2022-01-23 21:00Z"
          },
          "number": "FR 235",
          "status": "Unknown"
         },
         {
          "aircraft": {
           "model": "Airbus A320"
          },
          "airline": {
           "name": "easyJet"
          },
          "codeshareStatus": "Unknown",
          "isCargo": false,
          "movement": {
           "airport": {
            "iata": "PMI",
            "icao": "LEPA",
            "name": "Palma De Mallorca"
           },
           "quality": [
            "Basic"
           ],
           "scheduledTimeLocal": "2022-01-23 16:50+01:00",
           "scheduledTimeUtc": "2022-01-23 15:50Z",
           "terminal": "1"
          },
          "number": "U2 5808",
          "status": "Unknown"
         },
         {
          "aircraft": {
           "model": "Boeing 737-800"
          },
          "airline": {
           "name": "Ryanair"
          },
          "codeshareStatus": "Unknown",
          "isCargo": false,
          "movement": {
           "airport": {
            "iata": "PMI",
            "icao": "LEPA",
            "name": "Palma De Mallorca"
           },
           "quality": [
            "Basic"
           ],
           "scheduledTimeLocal": "2022-01-23 22:30+01:00",
           "scheduledTimeUtc": "2022-01-23 21:30Z"
          },
          "number": "FR 111",
          "status": "Unknown"
         },
         {
          "aircraft": {
           "model": "Airbus A320"
          },
          "airline": {
           "name": "Air France"
          },
          "codeshareStatus": "Unknown",
          "isCargo": false,
          "movement": {
           "airport": {
            "iata": "CDG",
            "icao": "LFPG",
            "name": "Paris"
           },
           "quality": [
            "Basic"
           ],
           "scheduledTimeLocal": "2022-01-23 14:30+01:00",
           "scheduledTimeUtc": "2022-01-23 13:30Z",
           "terminal": "1"
          },
          "number": "AF 1234",
          "status": "Unknown"
         },
         {
          "aircraft": {
           "model": "Airbus A320"
          },
          "airline": {
           "name": "easyJet"
          },
          "codeshareStatus": "Unknown",
          "isCargo": false,
          "movement": {
           "airport": {
            "iata": "CPH",
            "icao": "EKCH",
            "name": "Copenhagen"
           },
           "quality": [
            "Basic"
           ],
           "scheduledTimeLocal": "2022-01-23 22:25+01:00",
           "scheduledTimeUtc": "2022-01-23 21:25Z",
           "terminal": "1"
          },
          "number": "U2 5690",
          "status": "Unknown"
         },
         {
          "aircraft": {
           "model": "Boeing 737-800"
          },
          "airline": {
           "name": "Ryanair"
          },
          "codeshareStatus": "Unknown",
          "isCargo": false,
          "movement": {
           "airport": {
            "iata": "SOF",
            "icao": "LBSF",
            "name": "Sofia"
           },
           "quality": [
            "Basic"
           ],
           "scheduledTimeLocal": "2022-01-23 22:30+01:00",
           "scheduledTimeUtc": "2022-01-23 21:30Z"
          },
          "number": "FR 1595",
          "status": "Unknown"
         },
         {
          "aircraft": {
           "model": "Airbus A321"
          },
          "airline": {
           "name": "Wizz Air"
          },
          "codeshareStatus": "Unknown",
          "isCargo": false,
          "movement": {
           "airport": {
            "iata": "TIA",
            "icao": "LATI",
            "name": "Tirana"
           },
           "quality": [
            "Basic"
           ],
           "scheduledTimeLocal": "2022-01-23 17:55+01:00",
           "scheduledTimeUtc": "2022-01-23 16:55Z",
           "terminal": "0"
          },
          "number": "W6 6611",
          "status": "Unknown"
         },
         {
          "aircraft": {
           "model": "Airbus A320"
          },
          "airline": {
           "name": "Air France"
          },
          "codeshareStatus": "Unknown",
          "isCargo": false,
          "movement": {
           "airport": {
            "iata": "CDG",
            "icao": "LFPG",
            "name": "Paris"
           },
           "quality": [
            "Basic"
           ],
           "scheduledTimeLocal": "2022-01-23 22:40+01:00",
           "scheduledTimeUtc": "2022-01-23 21:40Z",
           "terminal": "1"
          },
          "number": "AF 1134",
          "status": "Unknown"
         },
         {
          "aircraft": {
           "model": "Airbus A320"
          },
          "airline": {
           "name": "Air France"
          },
          "codeshareStatus": "Unknown",
          "isCargo": false,
          "movement": {
           "airport": {
            "iata": "CDG",
            "icao": "LFPG",
            "name": "Paris"
           },
           "quality": [
            "Basic"
           ],
           "scheduledTimeLocal": "2022-01-23 17:10+01:00",
           "scheduledTimeUtc": "2022-01-23 16:10Z",
           "terminal": "1"
          },
          "number": "AF 1834",
          "status": "Unknown"
         },
         {
          "aircraft": {
           "model": "Airbus A320"
          },
          "airline": {
           "name": "easyJet"
          },
          "codeshareStatus": "Unknown",
          "isCargo": false,
          "movement": {
           "airport": {
            "iata": "BSL",
            "icao": "LFSB",
            "name": "Bâle/Mulhouse"
           },
           "quality": [
            "Basic"
           ],
           "scheduledTimeLocal": "2022-01-23 18:30+01:00",
           "scheduledTimeUtc": "2022-01-23 17:30Z",
           "terminal": "1"
          },
          "number": "U2 5638",
          "status": "Unknown"
         },
         {
          "aircraft": {
           "model": "Airbus A320"
          },
          "airline": {
           "name": "easyJet"
          },
          "codeshareStatus": "Unknown",
          "isCargo": false,
          "movement": {
           "airport": {
            "iata": "CDG",
            "icao": "LFPG",
            "name": "Paris"
           },
           "quality": [
            "Basic"
           ],
           "scheduledTimeLocal": "2022-01-23 19:50+01:00",
           "scheduledTimeUtc": "2022-01-23 18:50Z",
           "terminal": "1"
          },
          "number": "U2 5656",
          "status": "Unknown"
         },
         {
          "aircraft": {
           "model": "Boeing 737-800"
          },
          "airline": {
           "name": "Ryanair"
          },
          "codeshareStatus": "Unknown",
          "isCargo": false,
          "movement": {
           "airport": {
            "iata": "ATH",
            "icao": "LGAV",
            "name": "Athens"
           },
           "quality": [
            "Basic"
           ],
           "scheduledTimeLocal": "2022-01-23 13:35+01:00",
           "scheduledTimeUtc": "2022-01-23 12:35Z"
          },
          "number": "FR 171",
          "status": "Unknown"
         },
         {
          "aircraft": {
           "model": "Airbus A320"
          },
          "airline": {
           "name": "Aegean"
          },
          "codeshareStatus": "IsCodeshared",
          "isCargo": false,
          "movement": {
           "airport": {
            "iata": "ATH",
            "icao": "LGAV",
            "name": "Athens"
           },
           "quality": [
            "Basic"
           ],
           "scheduledTimeLocal": "2022-01-23 16:20+01:00",
           "scheduledTimeUtc": "2022-01-23 15:20Z",
           "terminal": "1"
          },
          "number": "A3 822",
          "status": "Unknown"
         },
         {
          "aircraft": {
           "model": "Airbus A320"
          },
          "airline": {
           "name": "easyJet"
          },
          "codeshareStatus": "Unknown",
          "isCargo": false,
          "movement": {
           "airport": {
            "iata": "ORY",
            "icao": "LFPO",
            "name": "Paris"
           },
           "quality": [
            "Basic"
           ],
           "scheduledTimeLocal": "2022-01-23 15:50+01:00",
           "scheduledTimeUtc": "2022-01-23 14:50Z",
           "terminal": "1"
          },
          "number": "U2 5532",
          "status": "Unknown"
         },
         {
          "aircraft": {
           "model": "Airbus A320"
          },
          "airline": {
           "name": "Wizz Air"
          },
          "codeshareStatus": "Unknown",
          "isCargo": false,
          "movement": {
           "airport": {
            "iata": "BUD",
            "icao": "LHBP",
            "name": "Budapest"
           },
           "quality": [
            "Basic"
           ],
           "scheduledTimeLocal": "2022-01-23 12:05+01:00",
           "scheduledTimeUtc": "2022-01-23 11:05Z",
           "terminal": "0"
          },
          "number": "W6 2315",
          "status": "Unknown"
         },
         {
          "aircraft": {
           "model": "Airbus A319"
          },
          "airline": {
           "name": "easyJet"
          },
          "codeshareStatus": "Unknown",
          "isCargo": false,
          "movement": {
           "airport": {
            "iata": "MXP",
            "icao": "LIMC",
            "name": "Milan"
           },
           "quality": [
            "Basic"
           ],
           "scheduledTimeLocal": "2022-01-23 19:50+01:00",
           "scheduledTimeUtc": "2022-01-23 18:50Z",
           "terminal": "1"
          },
          "number": "U2 4678",
          "status": "Unknown"
         },
         {
          "aircraft": {
           "model": "Boeing 737-800"
          },
          "airline": {
           "name": "Ryanair"
          },
          "codeshareStatus": "Unknown",
          "isCargo": false,
          "movement": {
           "airport": {
            "iata": "BGY",
            "icao": "LIME",
            "name": "Bergamo"
           },
           "quality": [
            "Basic"
           ],
           "scheduledTimeLocal": "2022-01-23 12:05+01:00",
           "scheduledTimeUtc": "2022-01-23 11:05Z"
          },
          "number": "FR 4731",
          "status": "Unknown"
         },
         {
          "aircraft": {
           "model": "Boeing 737-800"
          },
          "airline": {
           "name": "Transavia France"
          },
          "codeshareStatus": "Unknown",
          "isCargo": false,
          "movement": {
           "airport": {
            "iata": "ORY",
            "icao": "LFPO",
            "name": "Paris"
           },
           "quality": [
            "Basic"
           ],
           "scheduledTimeLocal": "2022-01-23 15:30+01:00",
           "scheduledTimeUtc": "2022-01-23 14:30Z",
           "terminal": "2"
          },
          "number": "TO 3754",
          "status": "Unknown"
         },
         {
          "aircraft": {
           "model": "Boeing 737-800"
          },
          "airline": {
           "name": "Ryanair"
          },
          "codeshareStatus": "Unknown",
          "isCargo": false,
          "movement": {
           "airport": {
            "iata": "TSF",
            "icao": "LIPH",
            "name": "Treviso"
           },
           "quality": [
            "Basic"
           ],
           "scheduledTimeLocal": "2022-01-23 16:15+01:00",
           "scheduledTimeUtc": "2022-01-23 15:15Z"
          },
          "number": "FR 4721",
          "status": "Unknown"
         },
         {
          "aircraft": {
           "model": "Boeing 737-800"
          },
          "airline": {
           "name": "Ryanair"
          },
          "codeshareStatus": "Unknown",
          "isCargo": false,
          "movement": {
           "airport": {
            "iata": "CIA",
            "icao": "LIRA",
            "name": "Roma"
           },
           "quality": [
            "Basic"
           ],
           "scheduledTimeLocal": "2022-01-23 17:30+01:00",
           "scheduledTimeUtc": "2022-01-23 16:30Z"
          },
          "number": "FR 141",
          "status": "Unknown"
         },
         {
          "aircraft": {
           "model": "Boeing 737-800"
          },
          "airline": {
           "name": "Ryanair"
          },
          "codeshareStatus": "Unknown",
          "isCargo": false,
          "movement": {
           "airport": {
            "iata": "CIA",
            "icao": "LIRA",
            "name": "Roma"
           },
           "quality": [
            "Basic"
           ],
           "scheduledTimeLocal": "2022-01-23 20:10+01:00",
           "scheduledTimeUtc": "2022-01-23 19:10Z"
          },
          "number": "FR 135",
          "status": "Unknown"
         },
         {
          "aircraft": {
           "model": "Airbus A320"
          },
          "airline": {
           "name": "easyJet"
          },
          "codeshareStatus": "Unknown",
          "isCargo": false,
          "movement": {
           "airport": {
            "iata": "FCO",
            "icao": "LIRF",
            "name": "Rome"
           },
           "quality": [
            "Basic"
           ],
           "scheduledTimeLocal": "2022-01-23 21:15+01:00",
           "scheduledTimeUtc": "2022-01-23 20:15Z",
           "terminal": "1"
          },
          "number": "U2 5708",
          "status": "Unknown"
         },
         {
          "aircraft": {
           "model": "Boeing 737-800"
          },
          "airline": {
           "name": "Ryanair"
          },
          "codeshareStatus": "Unknown",
          "isCargo": false,
          "movement": {
           "airport": {
            "iata": "TLV",
            "icao": "LLBG",
            "name": "Tel Aviv Yafo"
           },
           "quality": [
            "Basic"
           ],
           "scheduledTimeLocal": "2022-01-23 17:30+01:00",
           "scheduledTimeUtc": "2022-01-23 16:30Z"
          },
          "number": "FR 6502",
          "status": "Unknown"
         },
         {
          "aircraft": {
           "model": "Boeing 737-800"
          },
          "airline": {
           "name": "Ryanair"
          },
          "codeshareStatus": "Unknown",
          "isCargo": false,
          "movement": {
           "airport": {
            "iata": "TLV",
            "icao": "LLBG",
            "name": "Tel Aviv Yafo"
           },
           "quality": [
            "Basic"
           ],
           "scheduledTimeLocal": "2022-01-23 21:40+01:00",
           "scheduledTimeUtc": "2022-01-23 20:40Z"
          },
          "number": "FR 6473",
          "status": "Unknown"
         },
         {
          "aircraft": {
           "model": "Airbus A320"
          },
          "airline": {
           "name": "Austrian"
          },
          "codeshareStatus": "Unknown",
          "isCargo": false,
          "movement": {
           "airport": {
            "iata": "VIE",
            "icao": "LOWW",
            "name": "Vienna"
           },
           "quality": [
            "Basic"
           ],
           "scheduledTimeLocal": "2022-01-23 14:20+01:00",
           "scheduledTimeUtc": "2022-01-23 13:20Z",
           "terminal": "1"
          },
          "number": "OS 229",
          "status": "Unknown"
         },
         {
          "aircraft": {
           "model": "Airbus A320"
          },
          "airline": {
           "name": "Austrian"
          },
          "codeshareStatus": "Unknown",
          "isCargo": false,
          "movement": {
           "airport": {
            "iata": "VIE",
            "icao": "LOWW",
            "name": "Vienna"
           },
           "quality": [
            "Basic"
           ],
           "scheduledTimeLocal": "2022-01-23 18:40+01:00",
           "scheduledTimeUtc": "2022-01-23 17:40Z",
           "terminal": "1"
          },
          "number": "OS 235",
          "status": "Unknown"
         },
         {
          "aircraft": {
           "model": "Airbus A320"
          },
          "airline": {
           "name": "Austrian"
          },
          "codeshareStatus": "Unknown",
          "isCargo": false,
          "movement": {
           "airport": {
            "iata": "VIE",
            "icao": "LOWW",
            "name": "Vienna"
           },
           "quality": [
            "Basic"
           ],
           "scheduledTimeLocal": "2022-01-23 22:10+01:00",
           "scheduledTimeUtc": "2022-01-23 21:10Z",
           "terminal": "1"
          },
          "number": "OS 239",
          "status": "Unknown"
         },
         {
          "aircraft": {
           "model": "Boeing 737-800"
          },
          "airline": {
           "name": "Ryanair"
          },
          "codeshareStatus": "Unknown",
          "isCargo": false,
          "movement": {
           "airport": {
            "iata": "FAO",
            "icao": "LPFR",
            "name": "Faro"
           },
           "quality": [
            "Basic"
           ],
           "scheduledTimeLocal": "2022-01-23 21:50+01:00",
           "scheduledTimeUtc": "2022-01-23 20:50Z"
          },
          "number": "FR 91",
          "status": "Unknown"
         },
         {
          "aircraft": {
           "model": "Boeing 737-800"
          },
          "airline": {
           "name": "Ryanair"
          },
          "codeshareStatus": "Unknown",
          "isCargo": false,
          "movement": {
           "airport": {
            "iata": "BGY",
            "icao": "LIME",
            "name": "Bergamo"
           },
           "quality": [
            "Basic"
           ],
           "scheduledTimeLocal": "2022-01-23 22:30+01:00",
           "scheduledTimeUtc": "2022-01-23 21:30Z"
          },
          "number": "FR 4733",
          "status": "Unknown"
         },
         {
          "aircraft": {
           "model": "Airbus A319"
          },
          "airline": {
           "name": "easyJet"
          },
          "codeshareStatus": "Unknown",
          "isCargo": false,
          "movement": {
           "airport": {
            "iata": "BSL",
            "icao": "LFSB",
            "name": "Bâle/Mulhouse"
           },
           "quality": [
            "Basic"
           ],
           "scheduledTimeLocal": "2022-01-23 20:30+01:00",
           "scheduledTimeUtc": "2022-01-23 19:30Z",
           "terminal": "1"
          },
          "number": "U2 5640",
          "status": "Unknown"
         },
         {
          "aircraft": {
           "model": "Boeing 737-800"
          },
          "airline": {
           "name": "Ryanair"
          },
          "codeshareStatus": "Unknown",
          "isCargo": false,
          "movement": {
           "airport": {
            "iata": "SKG",
            "icao": "LGTS",
            "name": "Thessaloniki"
           },
           "quality": [
            "Basic"
           ],
           "scheduledTimeLocal": "2022-01-23 12:00+01:00",
           "scheduledTimeUtc": "2022-01-23 11:00Z"
          },
          "number": "FR 1147",
          "status": "Unknown"
         },
         {
          "aircraft": {
           "model": "Airbus A319"
          },
          "airline": {
           "name": "TAP Air Portugal"
          },
          "codeshareStatus": "Unknown",
          "isCargo": false,
          "movement": {
           "airport": {
            "iata": "LIS",
            "icao": "LPPT",
            "name": "Lisbon"
           },
           "quality": [
            "Basic"
           ],
           "scheduledTimeLocal": "2022-01-23 12:05+01:00",
           "scheduledTimeUtc": "2022-01-23 11:05Z",
           "terminal": "1"
          },
          "number": "TP 536",
          "status": "Unknown"
         },
         {
          "aircraft": {
           "model": "Boeing 737-800"
          },
          "airline": {
           "name": "Ryanair"
          },
          "codeshareStatus": "Unknown",
          "isCargo": false,
          "movement": {
           "airport": {
            "iata": "OPO",
            "icao": "LPPR",
            "name": "Porto"
           },
           "quality": [
            "Basic"
           ],
           "scheduledTimeLocal": "2022-01-23 19:45+01:00",
           "scheduledTimeUtc": "2022-01-23 18:45Z"
          },
          "number": "FR 2945",
          "status": "Unknown"
         },
         {
          "aircraft": {
           "model": "Boeing 737-800"
          },
          "airline": {
           "name": "Ryanair"
          },
          "codeshareStatus": "Unknown",
          "isCargo": false,
          "movement": {
           "airport": {
            "iata": "OTP",
            "icao": "LROP",
            "name": "Bucharest"
           },
           "quality": [
            "Basic"
           ],
           "scheduledTimeLocal": "2022-01-23 22:00+01:00",
           "scheduledTimeUtc": "2022-01-23 21:00Z"
          },
          "number": "FR 328",
          "status": "Unknown"
         },
         {
          "aircraft": {
           "model": "Airbus A320"
          },
          "airline": {
           "name": "easyJet"
          },
          "codeshareStatus": "Unknown",
          "isCargo": false,
          "movement": {
           "airport": {
            "iata": "GVA",
            "icao": "LSGG",
            "name": "Geneva"
           },
           "quality": [
            "Basic"
           ],
           "scheduledTimeLocal": "2022-01-23 22:40+01:00",
           "scheduledTimeUtc": "2022-01-23 21:40Z",
           "terminal": "1"
          },
          "number": "U2 1595",
          "status": "Unknown"
         },
         {
          "aircraft": {
           "model": "Airbus A320"
          },
          "airline": {
           "name": "SWISS"
          },
          "codeshareStatus": "Unknown",
          "isCargo": false,
          "movement": {
           "airport": {
            "iata": "ZRH",
            "icao": "LSZH",
            "name": "Zurich"
           },
           "quality": [
            "Basic"
           ],
           "scheduledTimeLocal": "2022-01-23 14:00+01:00",
           "scheduledTimeUtc": "2022-01-23 13:00Z",
           "terminal": "1"
          },
          "number": "LX 966",
          "status": "Unknown"
         },
         {
          "aircraft": {
           "model": "Airbus A321"
          },
          "airline": {
           "name": "SWISS"
          },
          "codeshareStatus": "Unknown",
          "isCargo": false,
          "movement": {
           "airport": {
            "iata": "ZRH",
            "icao": "LSZH",
            "name": "Zurich"
           },
           "quality": [
            "Basic"
           ],
           "scheduledTimeLocal": "2022-01-23 19:45+01:00",
           "scheduledTimeUtc": "2022-01-23 18:45Z",
           "terminal": "1"
          },
          "number": "LX 978",
          "status": "Unknown"
         },
         {
          "aircraft": {
           "model": "Airbus A320"
          },
          "airline": {
           "name": "easyJet"
          },
          "codeshareStatus": "Unknown",
          "isCargo": false,
          "movement": {
           "airport": {
            "iata": "ZRH",
            "icao": "LSZH",
            "name": "Zurich"
           },
           "quality": [
            "Basic"
           ],
           "scheduledTimeLocal": "2022-01-23 22:30+01:00",
           "scheduledTimeUtc": "2022-01-23 21:30Z",
           "terminal": "1"
          },
          "number": "U2 5874",
          "status": "Unknown"
         },
         {
          "aircraft": {
           "model": "Boeing 737-800"
          },
          "airline": {
           "name": "SunExpress"
          },
          "codeshareStatus": "Unknown",
          "isCargo": false,
          "movement": {
           "airport": {
            "iata": "AYT",
            "icao": "LTAI",
            "name": "Antalya"
           },
           "quality": [
            "Basic"
           ],
           "scheduledTimeLocal": "2022-01-23 15:45+01:00",
           "scheduledTimeUtc": "2022-01-23 14:45Z",
           "terminal": "1"
          },
          "number": "XQ 160",
          "status": "Unknown"
         },
         {
          "aircraft": {
           "model": "Boeing 737-800"
          },
          "airline": {
           "name": "Ryanair"
          },
          "codeshareStatus": "Unknown",
          "isCargo": false,
          "movement": {
           "airport": {
            "iata": "LIS",
            "icao": "LPPT",
            "name": "Lisbon"
           },
           "quality": [
            "Basic"
           ],
           "scheduledTimeLocal": "2022-01-23 22:20+01:00",
           "scheduledTimeUtc": "2022-01-23 21:20Z"
          },
          "number": "FR 1143",
          "status": "Unknown"
         },
         {
          "aircraft": {
           "model": "Boeing 737-800"
          },
          "airline": {
           "name": "Turkish"
          },
          "codeshareStatus": "Unknown",
          "isCargo": false,
          "movement": {
           "airport": {
            "iata": "SAW",
            "icao": "LTFJ",
            "name": "Istanbul"
           },
           "quality": [
            "Basic"
           ],
           "scheduledTimeLocal": "2022-01-23 12:30+01:00",
           "scheduledTimeUtc": "2022-01-23 11:30Z",
           "terminal": "1"
          },
          "number": "TK 7728",
          "status": "Unknown"
         },
         {
          "aircraft": {
           "model": "Airbus A320"
          },
          "airline": {
           "name": "TAP Air Portugal"
          },
          "codeshareStatus": "Unknown",
          "isCargo": false,
          "movement": {
           "airport": {
            "iata": "LIS",
            "icao": "LPPT",
            "name": "Lisbon"
           },
           "quality": [
            "Basic"
           ],
           "scheduledTimeLocal": "2022-01-23 22:50+01:00",
           "scheduledTimeUtc": "2022-01-23 21:50Z",
           "terminal": "1"
          },
          "number": "TP 532",
          "status": "Unknown"
         },
         {
          "aircraft": {
           "model": "Boeing 737-800"
          },
          "airline": {
           "name": "SunExpress"
          },
          "codeshareStatus": "Unknown",
          "isCargo": false,
          "movement": {
           "airport": {
            "iata": "ADB",
            "icao": "LTBJ",
            "name": "İzmir"
           },
           "quality": [
            "Basic"
           ],
           "scheduledTimeLocal": "2022-01-23 12:50+01:00",
           "scheduledTimeUtc": "2022-01-23 11:50Z",
           "terminal": "1"
          },
          "number": "XQ 946",
          "status": "Unknown"
         },
         {
          "aircraft": {
           "model": "Airbus A320"
          },
          "airline": {
           "name": "Wizz Air"
          },
          "codeshareStatus": "Unknown",
          "isCargo": false,
          "movement": {
           "airport": {
            "iata": "TZL",
            "icao": "LQTZ",
            "name": "Tuzla"
           },
           "quality": [
            "Basic"
           ],
           "scheduledTimeLocal": "2022-01-23 13:55+01:00",
           "scheduledTimeUtc": "2022-01-23 12:55Z",
           "terminal": "0"
          },
          "number": "W6 4275",
          "status": "Unknown"
         },
         {
          "aircraft": {
           "model": "Airbus A320"
          },
          "airline": {
           "name": "Air Serbia"
          },
          "codeshareStatus": "Unknown",
          "isCargo": false,
          "movement": {
           "airport": {
            "iata": "BEG",
            "icao": "LYBE",
            "name": "Belgrade"
           },
           "quality": [
            "Basic"
           ],
           "scheduledTimeLocal": "2022-01-23 20:00+01:00",
           "scheduledTimeUtc": "2022-01-23 19:00Z",
           "terminal": "1"
          },
          "number": "JU 354",
          "status": "Unknown"
         },
         {
          "aircraft": {
           "model": "Boeing 737-800"
          },
          "airline": {
           "name": "Ryanair"
          },
          "codeshareStatus": "Unknown",
          "isCargo": false,
          "movement": {
           "airport": {
            "iata": "TGD",
            "icao": "LYPG",
            "name": "Podgorica"
           },
           "quality": [
            "Basic"
           ],
           "scheduledTimeLocal": "2022-01-23 12:00+01:00",
           "scheduledTimeUtc": "2022-01-23 11:00Z"
          },
          "number": "FR 1579",
          "status": "Unknown"
         },
         {
          "aircraft": {
           "model": "Boeing 737-800"
          },
          "airline": {
           "name": "Pegasus"
          },
          "codeshareStatus": "Unknown",
          "isCargo": false,
          "movement": {
           "airport": {
            "iata": "SAW",
            "icao": "LTFJ",
            "name": "Istanbul"
           },
           "quality": [
            "Basic"
           ],
           "scheduledTimeLocal": "2022-01-23 13:15+01:00",
           "scheduledTimeUtc": "2022-01-23 12:15Z",
           "terminal": "0"
          },
          "number": "PC 979",
          "status": "Unknown"
         },
         {
          "aircraft": {
           "model": "Boeing 787-9"
          },
          "airline": {
           "name": "Turkish"
          },
          "codeshareStatus": "Unknown",
          "isCargo": false,
          "movement": {
           "airport": {
            "iata": "IST",
            "icao": "LTFM",
            "name": "Istanbul"
           },
           "quality": [
            "Basic"
           ],
           "scheduledTimeLocal": "2022-01-23 17:30+01:00",
           "scheduledTimeUtc": "2022-01-23 16:30Z",
           "terminal": "1"
          },
          "number": "TK 1723",
          "status": "Unknown"
         },
         {
          "aircraft": {
           "model": "Boeing 737-800"
          },
          "airline": {
           "name": "Ryanair"
          },
          "codeshareStatus": "Unknown",
          "isCargo": false,
          "movement": {
           "airport": {
            "iata": "KBP",
            "icao": "UKBB",
            "name": "Kiev"
           },
           "quality": [
            "Basic"
           ],
           "scheduledTimeLocal": "2022-01-23 18:05+01:00",
           "scheduledTimeUtc": "2022-01-23 17:05Z"
          },
          "number": "FR 3199",
          "status": "Unknown"
         },
         {
          "aircraft": {
           "model": "Airbus A321"
          },
          "airline": {
           "name": "Turkish"
          },
          "codeshareStatus": "Unknown",
          "isCargo": false,
          "movement": {
           "airport": {
            "iata": "IST",
            "icao": "LTFM",
            "name": "Istanbul"
           },
           "quality": [
            "Basic"
           ],
           "scheduledTimeLocal": "2022-01-23 13:30+01:00",
           "scheduledTimeUtc": "2022-01-23 12:30Z",
           "terminal": "1"
          },
          "number": "TK 1725",
          "status": "Unknown"
         },
         {
          "aircraft": {
           "model": "Airbus A321"
          },
          "airline": {
           "name": "SmartLynx"
          },
          "codeshareStatus": "Unknown",
          "isCargo": false,
          "movement": {
           "airport": {
            "iata": "DXB",
            "icao": "OMDB",
            "name": "Dubai City"
           },
           "quality": [
            "Basic"
           ],
           "scheduledTimeLocal": "2022-01-23 12:10+01:00",
           "scheduledTimeUtc": "2022-01-23 11:10Z",
           "terminal": "0"
          },
          "number": "6Y 3179",
          "status": "Unknown"
         },
         {
          "aircraft": {
           "model": "Boeing 787-8"
          },
          "airline": {
           "name": "Qatar Airways"
          },
          "codeshareStatus": "Unknown",
          "isCargo": false,
          "movement": {
           "airport": {
            "iata": "DOH",
            "icao": "OTHH",
            "name": "Doha"
           },
           "quality": [
            "Basic"
           ],
           "scheduledTimeLocal": "2022-01-23 12:40+01:00",
           "scheduledTimeUtc": "2022-01-23 11:40Z",
           "terminal": "1"
          },
          "number": "QR 81",
          "status": "Unknown"
         },
         {
          "aircraft": {
           "model": "Airbus A320"
          },
          "airline": {
           "name": "Wizz Air"
          },
          "codeshareStatus": "Unknown",
          "isCargo": false,
          "movement": {
           "airport": {
            "iata": "IEV",
            "icao": "UKKK",
            "name": "Kiev"
           },
           "quality": [
            "Basic"
           ],
           "scheduledTimeLocal": "2022-01-23 20:30+01:00",
           "scheduledTimeUtc": "2022-01-23 19:30Z",
           "terminal": "0"
          },
          "number": "W6 6113",
          "status": "Unknown"
         },
         {
          "aircraft": {
           "model": "Airbus A320"
          },
          "airline": {
           "name": "Aeroflot"
          },
          "codeshareStatus": "IsOperator",
          "isCargo": false,
          "movement": {
           "airport": {
            "iata": "SVO",
            "icao": "UUEE",
            "name": "Moscow"
           },
           "quality": [
            "Basic"
           ],
           "scheduledTimeLocal": "2022-01-23 12:55+01:00",
           "scheduledTimeUtc": "2022-01-23 11:55Z",
           "terminal": "1"
          },
          "number": "SU 2568",
          "status": "Unknown"
         },
         {
          "aircraft": {
           "model": "Embraer 190"
          },
          "airline": {
           "name": "Pegas Fly"
          },
          "codeshareStatus": "Unknown",
          "isCargo": false,
          "movement": {
           "airport": {
            "iata": "KGD",
            "icao": "UMKK",
            "name": "Kaliningrad"
           },
           "quality": [
            "Basic"
           ],
           "scheduledTimeLocal": "2022-01-23 13:10+01:00",
           "scheduledTimeUtc": "2022-01-23 12:10Z",
           "terminal": "1"
          },
          "number": "EO 2267",
          "status": "Unknown"
         },
         {
          "aircraft": {
           "model": "Airbus A320"
          },
          "airline": {
           "name": "Aeroflot"
          },
          "codeshareStatus": "IsOperator",
          "isCargo": false,
          "movement": {
           "airport": {
            "iata": "SVO",
            "icao": "UUEE",
            "name": "Moscow"
           },
           "quality": [
            "Basic"
           ],
           "scheduledTimeLocal": "2022-01-23 17:55+01:00",
           "scheduledTimeUtc": "2022-01-23 16:55Z",
           "terminal": "1"
          },
          "number": "SU 2664",
          "status": "Unknown"
         },
         {
          "aircraft": {
           "model": "Boeing 737-800"
          },
          "airline": {
           "name": "Pobeda"
          },
          "codeshareStatus": "Unknown",
          "isCargo": false,
          "movement": {
           "airport": {
            "iata": "VKO",
            "icao": "UUWW",
            "name": "Moscow"
           },
           "quality": [
            "Basic"
           ],
           "scheduledTimeLocal": "2022-01-23 18:20+01:00",
           "scheduledTimeUtc": "2022-01-23 17:20Z",
           "terminal": "1"
          },
          "number": "DP 935",
          "status": "Unknown"
         }
        ]
       }
      ],
      "text/plain": [
       "<IPython.core.display.JSON object>"
      ]
     },
     "execution_count": 7,
     "metadata": {
      "application/json": {
       "expanded": false,
       "root": "root"
      }
     },
     "output_type": "execute_result"
    }
   ],
   "source": [
    "# NO need to repeat this\n",
    "# response_one = get_jsons_from_AerodataboxAPI('EDDB')\n",
    "JSON(response_one)\n",
    "# response_two = (get_jsons_from_AerodataboxAPI('EDDB')).json()\n",
    "# response_two"
   ]
  },
  {
   "cell_type": "code",
   "execution_count": 9,
   "id": "dd982625-8b04-42d4-a943-58ca5ecf7ca2",
   "metadata": {},
   "outputs": [],
   "source": [
    "def create_dictionary_from_json(jsons):\n",
    "    dictionary = {\"From_location\":[],\"Arrival_at\":[], \"Terminal\":[],\"Airline\":[],\"Flight_number\":[],\"Airport_code\":[]}\n",
    "    for resp in jsons:\n",
    "        for flight in resp['arrivals']:\n",
    "            try:\n",
    "                dictionary[\"From_location\"].append(flight['movement'][\"airport\"]['name'])\n",
    "            except:\n",
    "                dictionary[\"From_location\"].append(\"Unknown\")\n",
    "            try:\n",
    "                dictionary[\"Arrival_at\"].append(flight['movement']['scheduledTimeLocal'][:-6])\n",
    "            except:\n",
    "                dictionary[\"Arrival_at\"].append(\"Unknown\")\n",
    "            try:\n",
    "                dictionary[\"Terminal\"].append(flight['movement']['terminal'])\n",
    "            except:\n",
    "                dictionary[\"Terminal\"].append(\"Unknown\")\n",
    "            try:\n",
    "                dictionary[\"Airline\"].append(flight['airline']['name'])\n",
    "            except:\n",
    "                dictionary[\"Airline\"].append(\"Unknown\")\n",
    "            try:\n",
    "                dictionary[\"Flight_number\"].append(flight['number'])\n",
    "            except:\n",
    "                dictionary[\"Flight_number\"].append(\"Unknown\")\n",
    "            try:\n",
    "                dictionary[\"Airport_code\"].append(flight['movement'][\"airport\"][\"icao\"])\n",
    "            except:\n",
    "                dictionary[\"Airport_code\"].append(\"Unknown\")\n",
    "    return dictionary "
   ]
  },
  {
   "cell_type": "code",
   "execution_count": 10,
   "id": "eba599d8-d71b-4869-b17d-ca09b9637582",
   "metadata": {},
   "outputs": [],
   "source": [
    "def create_dataframe_from_dictionaries(dictionary):\n",
    "    flights = pd.DataFrame.from_dict(dictionary)\n",
    "    return flights"
   ]
  },
  {
   "cell_type": "code",
   "execution_count": 11,
   "id": "65b99935-0ab8-4dab-8ec8-e737ee7f9006",
   "metadata": {},
   "outputs": [],
   "source": [
    "def get_all_info(cities):\n",
    "    big_table = pd.DataFrame()\n",
    "    for index, city in cities.iterrows():\n",
    "        jsons = get_jsons_from_AerodataboxAPI(city['icao'])\n",
    "        dictionary = create_dictionary_from_json(jsons)\n",
    "        dataframe = create_dataframe_from_dictionaries(dictionary)\n",
    "        dataframe = dataframe.assign(CityCountry = city['CityCountry'])\n",
    "        dataframe = dataframe.assign(icao = city['icao'])\n",
    "        dataframe[\"Arrival_at\"] = pd.to_datetime(dataframe[\"Arrival_at\"])\n",
    "#         dataframe[\"Arrival_UTC_time\"] = pd.to_datetime(dataframe[\"Arrival_UTC_time\"])\n",
    "    big_table = big_table.append(dataframe,ignore_index=True)\n",
    "    return big_table"
   ]
  },
  {
   "cell_type": "code",
   "execution_count": 12,
   "id": "358aa348-ee7e-4d54-bfa2-05c8405e2f67",
   "metadata": {},
   "outputs": [],
   "source": [
    "def create_mysql_table(big_table):\n",
    "    schema=\"gans\"\n",
    "    host=\"127.0.0.1\"\n",
    "    user=\"root\"\n",
    "    password=sql_pass\n",
    "    port=3306\n",
    "    con = f'mysql+pymysql://{user}:{password}@{host}:{port}/{schema}'\n",
    "    big_table.to_sql('flights',con=con,if_exists='append',index=False)"
   ]
  },
  {
   "cell_type": "code",
   "execution_count": 45,
   "id": "36c837ad-8fda-4b00-a685-218ad0e6732a",
   "metadata": {},
   "outputs": [],
   "source": [
    "create_mysql_table(get_all_info(get_cities_dataframe()))"
   ]
  },
  {
   "cell_type": "code",
   "execution_count": 13,
   "id": "a50b885e-1424-4adc-9cdc-5fc6a4d51353",
   "metadata": {},
   "outputs": [],
   "source": [
    "all_info= get_all_info(get_cities_dataframe())"
   ]
  },
  {
   "cell_type": "code",
   "execution_count": 14,
   "id": "843b3c39-3736-4830-a7f3-ca9f0597cdcb",
   "metadata": {},
   "outputs": [
    {
     "data": {
      "text/html": [
       "<div>\n",
       "<style scoped>\n",
       "    .dataframe tbody tr th:only-of-type {\n",
       "        vertical-align: middle;\n",
       "    }\n",
       "\n",
       "    .dataframe tbody tr th {\n",
       "        vertical-align: top;\n",
       "    }\n",
       "\n",
       "    .dataframe thead th {\n",
       "        text-align: right;\n",
       "    }\n",
       "</style>\n",
       "<table border=\"1\" class=\"dataframe\">\n",
       "  <thead>\n",
       "    <tr style=\"text-align: right;\">\n",
       "      <th></th>\n",
       "      <th>From_location</th>\n",
       "      <th>Arrival_at</th>\n",
       "      <th>Terminal</th>\n",
       "      <th>Airline</th>\n",
       "      <th>Flight_number</th>\n",
       "      <th>Airport_code</th>\n",
       "      <th>CityCountry</th>\n",
       "      <th>icao</th>\n",
       "    </tr>\n",
       "  </thead>\n",
       "  <tbody>\n",
       "    <tr>\n",
       "      <th>0</th>\n",
       "      <td>Frankfurt-am-Main</td>\n",
       "      <td>2022-01-23 07:55:00</td>\n",
       "      <td>1</td>\n",
       "      <td>Lufthansa</td>\n",
       "      <td>LH 170</td>\n",
       "      <td>EDDF</td>\n",
       "      <td>Berlin, DE</td>\n",
       "      <td>EDDB</td>\n",
       "    </tr>\n",
       "    <tr>\n",
       "      <th>1</th>\n",
       "      <td>Frankfurt-am-Main</td>\n",
       "      <td>2022-01-23 08:55:00</td>\n",
       "      <td>1</td>\n",
       "      <td>Lufthansa</td>\n",
       "      <td>LH 172</td>\n",
       "      <td>EDDF</td>\n",
       "      <td>Berlin, DE</td>\n",
       "      <td>EDDB</td>\n",
       "    </tr>\n",
       "    <tr>\n",
       "      <th>2</th>\n",
       "      <td>Frankfurt-am-Main</td>\n",
       "      <td>2022-01-23 09:55:00</td>\n",
       "      <td>1</td>\n",
       "      <td>Lufthansa</td>\n",
       "      <td>LH 176</td>\n",
       "      <td>EDDF</td>\n",
       "      <td>Berlin, DE</td>\n",
       "      <td>EDDB</td>\n",
       "    </tr>\n",
       "    <tr>\n",
       "      <th>3</th>\n",
       "      <td>Frankfurt-am-Main</td>\n",
       "      <td>2022-01-23 11:55:00</td>\n",
       "      <td>1</td>\n",
       "      <td>Lufthansa</td>\n",
       "      <td>LH 180</td>\n",
       "      <td>EDDF</td>\n",
       "      <td>Berlin, DE</td>\n",
       "      <td>EDDB</td>\n",
       "    </tr>\n",
       "    <tr>\n",
       "      <th>4</th>\n",
       "      <td>Munich</td>\n",
       "      <td>2022-01-23 08:10:00</td>\n",
       "      <td>1</td>\n",
       "      <td>Lufthansa</td>\n",
       "      <td>LH 1928</td>\n",
       "      <td>EDDM</td>\n",
       "      <td>Berlin, DE</td>\n",
       "      <td>EDDB</td>\n",
       "    </tr>\n",
       "    <tr>\n",
       "      <th>...</th>\n",
       "      <td>...</td>\n",
       "      <td>...</td>\n",
       "      <td>...</td>\n",
       "      <td>...</td>\n",
       "      <td>...</td>\n",
       "      <td>...</td>\n",
       "      <td>...</td>\n",
       "      <td>...</td>\n",
       "    </tr>\n",
       "    <tr>\n",
       "      <th>149</th>\n",
       "      <td>Kiev</td>\n",
       "      <td>2022-01-23 20:30:00</td>\n",
       "      <td>0</td>\n",
       "      <td>Wizz Air</td>\n",
       "      <td>W6 6113</td>\n",
       "      <td>UKKK</td>\n",
       "      <td>Berlin, DE</td>\n",
       "      <td>EDDB</td>\n",
       "    </tr>\n",
       "    <tr>\n",
       "      <th>150</th>\n",
       "      <td>Kaliningrad</td>\n",
       "      <td>2022-01-23 13:10:00</td>\n",
       "      <td>1</td>\n",
       "      <td>Pegas Fly</td>\n",
       "      <td>EO 2267</td>\n",
       "      <td>UMKK</td>\n",
       "      <td>Berlin, DE</td>\n",
       "      <td>EDDB</td>\n",
       "    </tr>\n",
       "    <tr>\n",
       "      <th>151</th>\n",
       "      <td>Moscow</td>\n",
       "      <td>2022-01-23 12:55:00</td>\n",
       "      <td>1</td>\n",
       "      <td>Aeroflot</td>\n",
       "      <td>SU 2568</td>\n",
       "      <td>UUEE</td>\n",
       "      <td>Berlin, DE</td>\n",
       "      <td>EDDB</td>\n",
       "    </tr>\n",
       "    <tr>\n",
       "      <th>152</th>\n",
       "      <td>Moscow</td>\n",
       "      <td>2022-01-23 17:55:00</td>\n",
       "      <td>1</td>\n",
       "      <td>Aeroflot</td>\n",
       "      <td>SU 2664</td>\n",
       "      <td>UUEE</td>\n",
       "      <td>Berlin, DE</td>\n",
       "      <td>EDDB</td>\n",
       "    </tr>\n",
       "    <tr>\n",
       "      <th>153</th>\n",
       "      <td>Moscow</td>\n",
       "      <td>2022-01-23 18:20:00</td>\n",
       "      <td>1</td>\n",
       "      <td>Pobeda</td>\n",
       "      <td>DP 935</td>\n",
       "      <td>UUWW</td>\n",
       "      <td>Berlin, DE</td>\n",
       "      <td>EDDB</td>\n",
       "    </tr>\n",
       "  </tbody>\n",
       "</table>\n",
       "<p>154 rows × 8 columns</p>\n",
       "</div>"
      ],
      "text/plain": [
       "         From_location          Arrival_at Terminal    Airline Flight_number  \\\n",
       "0    Frankfurt-am-Main 2022-01-23 07:55:00        1  Lufthansa        LH 170   \n",
       "1    Frankfurt-am-Main 2022-01-23 08:55:00        1  Lufthansa        LH 172   \n",
       "2    Frankfurt-am-Main 2022-01-23 09:55:00        1  Lufthansa        LH 176   \n",
       "3    Frankfurt-am-Main 2022-01-23 11:55:00        1  Lufthansa        LH 180   \n",
       "4               Munich 2022-01-23 08:10:00        1  Lufthansa       LH 1928   \n",
       "..                 ...                 ...      ...        ...           ...   \n",
       "149               Kiev 2022-01-23 20:30:00        0   Wizz Air       W6 6113   \n",
       "150        Kaliningrad 2022-01-23 13:10:00        1  Pegas Fly       EO 2267   \n",
       "151             Moscow 2022-01-23 12:55:00        1   Aeroflot       SU 2568   \n",
       "152             Moscow 2022-01-23 17:55:00        1   Aeroflot       SU 2664   \n",
       "153             Moscow 2022-01-23 18:20:00        1     Pobeda        DP 935   \n",
       "\n",
       "    Airport_code CityCountry  icao  \n",
       "0           EDDF  Berlin, DE  EDDB  \n",
       "1           EDDF  Berlin, DE  EDDB  \n",
       "2           EDDF  Berlin, DE  EDDB  \n",
       "3           EDDF  Berlin, DE  EDDB  \n",
       "4           EDDM  Berlin, DE  EDDB  \n",
       "..           ...         ...   ...  \n",
       "149         UKKK  Berlin, DE  EDDB  \n",
       "150         UMKK  Berlin, DE  EDDB  \n",
       "151         UUEE  Berlin, DE  EDDB  \n",
       "152         UUEE  Berlin, DE  EDDB  \n",
       "153         UUWW  Berlin, DE  EDDB  \n",
       "\n",
       "[154 rows x 8 columns]"
      ]
     },
     "execution_count": 14,
     "metadata": {},
     "output_type": "execute_result"
    }
   ],
   "source": [
    "all_info"
   ]
  },
  {
   "cell_type": "markdown",
   "id": "13bbca60-ffd4-4bce-8def-c45121eb27e8",
   "metadata": {},
   "source": [
    "### JSON display 1"
   ]
  },
  {
   "cell_type": "code",
   "execution_count": 16,
   "id": "0882d0d0-446f-40d1-a27a-b1129c36accb",
   "metadata": {
    "collapsed": true,
    "jupyter": {
     "outputs_hidden": true
    },
    "tags": []
   },
   "outputs": [
    {
     "data": {
      "text/plain": [
       "[{'arrivals': [{'movement': {'airport': {'icao': 'EDDF',\n",
       "      'iata': 'FRA',\n",
       "      'name': 'Frankfurt-am-Main'},\n",
       "     'scheduledTimeLocal': '2022-01-23 11:55+01:00',\n",
       "     'scheduledTimeUtc': '2022-01-23 10:55Z',\n",
       "     'terminal': '1',\n",
       "     'quality': ['Basic']},\n",
       "    'number': 'LH 180',\n",
       "    'status': 'Unknown',\n",
       "    'codeshareStatus': 'IsCodeshared',\n",
       "    'isCargo': False,\n",
       "    'aircraft': {'model': 'Airbus A320'},\n",
       "    'airline': {'name': 'Lufthansa'}},\n",
       "   {'movement': {'airport': {'icao': 'EDDM', 'iata': 'MUC', 'name': 'Munich'},\n",
       "     'scheduledTimeLocal': '2022-01-23 08:10+01:00',\n",
       "     'scheduledTimeUtc': '2022-01-23 07:10Z',\n",
       "     'terminal': '1',\n",
       "     'quality': ['Basic']},\n",
       "    'number': 'LH 1928',\n",
       "    'status': 'Unknown',\n",
       "    'codeshareStatus': 'IsCodeshared',\n",
       "    'isCargo': False,\n",
       "    'aircraft': {'model': 'Airbus A320'},\n",
       "    'airline': {'name': 'Lufthansa'}},\n",
       "   {'movement': {'airport': {'icao': 'EDDF',\n",
       "      'iata': 'FRA',\n",
       "      'name': 'Frankfurt-am-Main'},\n",
       "     'scheduledTimeLocal': '2022-01-23 09:55+01:00',\n",
       "     'scheduledTimeUtc': '2022-01-23 08:55Z',\n",
       "     'terminal': '1',\n",
       "     'quality': ['Basic']},\n",
       "    'number': 'LH 176',\n",
       "    'status': 'Unknown',\n",
       "    'codeshareStatus': 'IsCodeshared',\n",
       "    'isCargo': False,\n",
       "    'aircraft': {'model': 'Airbus A320'},\n",
       "    'airline': {'name': 'Lufthansa'}},\n",
       "   {'movement': {'airport': {'icao': 'EFHK',\n",
       "      'iata': 'HEL',\n",
       "      'name': 'Helsinki'},\n",
       "     'scheduledTimeLocal': '2022-01-23 08:20+01:00',\n",
       "     'scheduledTimeUtc': '2022-01-23 07:20Z',\n",
       "     'terminal': '1',\n",
       "     'quality': ['Basic']},\n",
       "    'number': 'AY 1431',\n",
       "    'status': 'Unknown',\n",
       "    'codeshareStatus': 'Unknown',\n",
       "    'isCargo': False,\n",
       "    'aircraft': {'model': 'Embraer 190'},\n",
       "    'airline': {'name': 'Finnair'}},\n",
       "   {'movement': {'airport': {'icao': 'EGLL', 'iata': 'LHR', 'name': 'London'},\n",
       "     'scheduledTimeLocal': '2022-01-23 11:25+01:00',\n",
       "     'scheduledTimeUtc': '2022-01-23 10:25Z',\n",
       "     'terminal': '1',\n",
       "     'quality': ['Basic']},\n",
       "    'number': 'BA 992',\n",
       "    'status': 'Unknown',\n",
       "    'codeshareStatus': 'IsCodeshared',\n",
       "    'isCargo': False,\n",
       "    'aircraft': {'model': 'Airbus A319'},\n",
       "    'airline': {'name': 'British Airways'}},\n",
       "   {'movement': {'airport': {'icao': 'EDDF',\n",
       "      'iata': 'FRA',\n",
       "      'name': 'Frankfurt-am-Main'},\n",
       "     'scheduledTimeLocal': '2022-01-23 08:55+01:00',\n",
       "     'scheduledTimeUtc': '2022-01-23 07:55Z',\n",
       "     'terminal': '1',\n",
       "     'quality': ['Basic']},\n",
       "    'number': 'LH 172',\n",
       "    'status': 'Unknown',\n",
       "    'codeshareStatus': 'IsCodeshared',\n",
       "    'isCargo': False,\n",
       "    'aircraft': {'model': 'Airbus A320'},\n",
       "    'airline': {'name': 'Lufthansa'}},\n",
       "   {'movement': {'airport': {'icao': 'EGSS', 'iata': 'STN', 'name': 'London'},\n",
       "     'scheduledTimeLocal': '2022-01-23 10:50+01:00',\n",
       "     'scheduledTimeUtc': '2022-01-23 09:50Z',\n",
       "     'quality': ['Basic']},\n",
       "    'number': 'FR 3911',\n",
       "    'status': 'Unknown',\n",
       "    'codeshareStatus': 'Unknown',\n",
       "    'isCargo': False,\n",
       "    'aircraft': {'model': 'Boeing 737-800'},\n",
       "    'airline': {'name': 'Ryanair'}},\n",
       "   {'movement': {'airport': {'icao': 'EHAM',\n",
       "      'iata': 'AMS',\n",
       "      'name': 'Amsterdam'},\n",
       "     'scheduledTimeLocal': '2022-01-23 09:25+01:00',\n",
       "     'scheduledTimeUtc': '2022-01-23 08:25Z',\n",
       "     'terminal': '1',\n",
       "     'quality': ['Basic']},\n",
       "    'number': 'KL 1821',\n",
       "    'status': 'Unknown',\n",
       "    'codeshareStatus': 'IsCodeshared',\n",
       "    'isCargo': False,\n",
       "    'aircraft': {'model': 'Embraer 190'},\n",
       "    'airline': {'name': 'KLM'}},\n",
       "   {'movement': {'airport': {'icao': 'EHAM',\n",
       "      'iata': 'AMS',\n",
       "      'name': 'Amsterdam'},\n",
       "     'scheduledTimeLocal': '2022-01-23 11:05+01:00',\n",
       "     'scheduledTimeUtc': '2022-01-23 10:05Z',\n",
       "     'terminal': '1',\n",
       "     'quality': ['Basic']},\n",
       "    'number': 'KL 1823',\n",
       "    'status': 'Unknown',\n",
       "    'codeshareStatus': 'IsCodeshared',\n",
       "    'isCargo': False,\n",
       "    'aircraft': {'reg': 'PH-BXU', 'model': 'Boeing 737-700'},\n",
       "    'airline': {'name': 'KLM'}},\n",
       "   {'movement': {'airport': {'icao': 'EIDW', 'iata': 'DUB', 'name': 'Dublin'},\n",
       "     'scheduledTimeLocal': '2022-01-23 10:30+01:00',\n",
       "     'scheduledTimeUtc': '2022-01-23 09:30Z',\n",
       "     'terminal': '1',\n",
       "     'quality': ['Basic']},\n",
       "    'number': 'EI 332',\n",
       "    'status': 'Unknown',\n",
       "    'codeshareStatus': 'Unknown',\n",
       "    'isCargo': False,\n",
       "    'aircraft': {'model': 'Airbus A320'},\n",
       "    'airline': {'name': 'Aer Lingus'}},\n",
       "   {'movement': {'airport': {'icao': 'EDDF',\n",
       "      'iata': 'FRA',\n",
       "      'name': 'Frankfurt-am-Main'},\n",
       "     'scheduledTimeLocal': '2022-01-23 07:55+01:00',\n",
       "     'scheduledTimeUtc': '2022-01-23 06:55Z',\n",
       "     'terminal': '1',\n",
       "     'quality': ['Basic']},\n",
       "    'number': 'LH 170',\n",
       "    'status': 'Unknown',\n",
       "    'codeshareStatus': 'IsCodeshared',\n",
       "    'isCargo': False,\n",
       "    'aircraft': {'model': 'Airbus A321'},\n",
       "    'airline': {'name': 'Lufthansa'}},\n",
       "   {'movement': {'airport': {'icao': 'EPWA', 'iata': 'WAW', 'name': 'Warsaw'},\n",
       "     'scheduledTimeLocal': '2022-01-23 11:35+01:00',\n",
       "     'scheduledTimeUtc': '2022-01-23 10:35Z',\n",
       "     'terminal': '1',\n",
       "     'quality': ['Basic']},\n",
       "    'number': 'LO 385',\n",
       "    'status': 'Unknown',\n",
       "    'codeshareStatus': 'Unknown',\n",
       "    'isCargo': False,\n",
       "    'aircraft': {'model': 'Bombardier Dash 8 Q400 / DHC-8-400'},\n",
       "    'airline': {'name': 'LOT - Polish'}},\n",
       "   {'movement': {'airport': {'icao': 'LEBL',\n",
       "      'iata': 'BCN',\n",
       "      'name': 'Barcelona'},\n",
       "     'scheduledTimeLocal': '2022-01-23 09:20+01:00',\n",
       "     'scheduledTimeUtc': '2022-01-23 08:20Z',\n",
       "     'quality': ['Basic']},\n",
       "    'number': 'FR 149',\n",
       "    'status': 'Unknown',\n",
       "    'codeshareStatus': 'Unknown',\n",
       "    'isCargo': False,\n",
       "    'aircraft': {'model': 'Boeing 737-800'},\n",
       "    'airline': {'name': 'Ryanair'}},\n",
       "   {'movement': {'airport': {'icao': 'LEMD', 'iata': 'MAD', 'name': 'Madrid'},\n",
       "     'scheduledTimeLocal': '2022-01-23 11:40+01:00',\n",
       "     'scheduledTimeUtc': '2022-01-23 10:40Z',\n",
       "     'quality': ['Basic']},\n",
       "    'number': 'FR 2528',\n",
       "    'status': 'Unknown',\n",
       "    'codeshareStatus': 'Unknown',\n",
       "    'isCargo': False,\n",
       "    'aircraft': {'model': 'Boeing 737-800'},\n",
       "    'airline': {'name': 'Ryanair'}},\n",
       "   {'movement': {'airport': {'icao': 'LEMD', 'iata': 'MAD', 'name': 'Madrid'},\n",
       "     'scheduledTimeLocal': '2022-01-23 11:10+01:00',\n",
       "     'scheduledTimeUtc': '2022-01-23 10:10Z',\n",
       "     'terminal': '1',\n",
       "     'quality': ['Basic']},\n",
       "    'number': 'IB 3676',\n",
       "    'status': 'Unknown',\n",
       "    'codeshareStatus': 'Unknown',\n",
       "    'isCargo': False,\n",
       "    'aircraft': {'model': 'Airbus A320'},\n",
       "    'airline': {'name': 'Iberia'}},\n",
       "   {'movement': {'airport': {'icao': 'LEPA',\n",
       "      'iata': 'PMI',\n",
       "      'name': 'Palma De Mallorca'},\n",
       "     'scheduledTimeLocal': '2022-01-23 10:30+01:00',\n",
       "     'scheduledTimeUtc': '2022-01-23 09:30Z',\n",
       "     'quality': ['Basic']},\n",
       "    'number': 'FR 217',\n",
       "    'status': 'Unknown',\n",
       "    'codeshareStatus': 'Unknown',\n",
       "    'isCargo': False,\n",
       "    'aircraft': {'model': 'Boeing 737-800'},\n",
       "    'airline': {'name': 'Ryanair'}},\n",
       "   {'movement': {'airport': {'icao': 'LEPA',\n",
       "      'iata': 'PMI',\n",
       "      'name': 'Palma De Mallorca'},\n",
       "     'scheduledTimeLocal': '2022-01-23 11:10+01:00',\n",
       "     'scheduledTimeUtc': '2022-01-23 10:10Z',\n",
       "     'terminal': '1',\n",
       "     'quality': ['Basic']},\n",
       "    'number': 'EW 8591',\n",
       "    'status': 'Unknown',\n",
       "    'codeshareStatus': 'Unknown',\n",
       "    'isCargo': False,\n",
       "    'aircraft': {'model': 'Airbus A320'},\n",
       "    'airline': {'name': 'Eurowings'}},\n",
       "   {'movement': {'airport': {'icao': 'LFPG', 'iata': 'CDG', 'name': 'Paris'},\n",
       "     'scheduledTimeLocal': '2022-01-23 11:40+01:00',\n",
       "     'scheduledTimeUtc': '2022-01-23 10:40Z',\n",
       "     'terminal': '1',\n",
       "     'quality': ['Basic']},\n",
       "    'number': 'AF 1734',\n",
       "    'status': 'Unknown',\n",
       "    'codeshareStatus': 'Unknown',\n",
       "    'isCargo': False,\n",
       "    'aircraft': {'model': 'Airbus A220-300'},\n",
       "    'airline': {'name': 'Air France'}},\n",
       "   {'movement': {'airport': {'icao': 'LFPO', 'iata': 'ORY', 'name': 'Paris'},\n",
       "     'scheduledTimeLocal': '2022-01-23 08:55+01:00',\n",
       "     'scheduledTimeUtc': '2022-01-23 07:55Z',\n",
       "     'terminal': '1',\n",
       "     'quality': ['Basic']},\n",
       "    'number': 'AF 7354',\n",
       "    'status': 'Unknown',\n",
       "    'codeshareStatus': 'Unknown',\n",
       "    'isCargo': False,\n",
       "    'aircraft': {'model': 'Airbus A318'},\n",
       "    'airline': {'name': 'Air France'}},\n",
       "   {'movement': {'airport': {'icao': 'LGAV', 'iata': 'ATH', 'name': 'Athens'},\n",
       "     'scheduledTimeLocal': '2022-01-23 10:20+01:00',\n",
       "     'scheduledTimeUtc': '2022-01-23 09:20Z',\n",
       "     'terminal': '1',\n",
       "     'quality': ['Basic']},\n",
       "    'number': 'TR 722',\n",
       "    'status': 'Unknown',\n",
       "    'codeshareStatus': 'Unknown',\n",
       "    'isCargo': False,\n",
       "    'aircraft': {'model': 'Boeing 787-8'},\n",
       "    'airline': {'name': 'Scoot'}},\n",
       "   {'movement': {'airport': {'icao': 'LHBP',\n",
       "      'iata': 'BUD',\n",
       "      'name': 'Budapest'},\n",
       "     'scheduledTimeLocal': '2022-01-23 10:30+01:00',\n",
       "     'scheduledTimeUtc': '2022-01-23 09:30Z',\n",
       "     'quality': ['Basic']},\n",
       "    'number': 'FR 197',\n",
       "    'status': 'Unknown',\n",
       "    'codeshareStatus': 'Unknown',\n",
       "    'isCargo': False,\n",
       "    'aircraft': {'model': 'Boeing 737-800'},\n",
       "    'airline': {'name': 'Ryanair'}},\n",
       "   {'movement': {'airport': {'icao': 'LIMC', 'iata': 'MXP', 'name': 'Milan'},\n",
       "     'scheduledTimeLocal': '2022-01-23 09:45+01:00',\n",
       "     'scheduledTimeUtc': '2022-01-23 08:45Z',\n",
       "     'quality': ['Basic']},\n",
       "    'number': 'FR 9',\n",
       "    'status': 'Unknown',\n",
       "    'codeshareStatus': 'Unknown',\n",
       "    'isCargo': False,\n",
       "    'aircraft': {'model': 'Boeing 737-800'},\n",
       "    'airline': {'name': 'Ryanair'}},\n",
       "   {'movement': {'airport': {'icao': 'LIML', 'iata': 'LIN', 'name': 'Milan'},\n",
       "     'scheduledTimeLocal': '2022-01-23 11:50+01:00',\n",
       "     'scheduledTimeUtc': '2022-01-23 10:50Z',\n",
       "     'terminal': '1',\n",
       "     'quality': ['Basic']},\n",
       "    'number': 'U2 4662',\n",
       "    'status': 'Unknown',\n",
       "    'codeshareStatus': 'Unknown',\n",
       "    'isCargo': False,\n",
       "    'aircraft': {'model': 'Airbus A319'},\n",
       "    'airline': {'name': 'easyJet'}},\n",
       "   {'movement': {'airport': {'icao': 'LIPE', 'iata': 'BLQ', 'name': 'Bologna'},\n",
       "     'scheduledTimeLocal': '2022-01-23 11:35+01:00',\n",
       "     'scheduledTimeUtc': '2022-01-23 10:35Z',\n",
       "     'quality': ['Basic']},\n",
       "    'number': 'FR 137',\n",
       "    'status': 'Unknown',\n",
       "    'codeshareStatus': 'Unknown',\n",
       "    'isCargo': False,\n",
       "    'aircraft': {'model': 'Boeing 737-800'},\n",
       "    'airline': {'name': 'Ryanair'}},\n",
       "   {'movement': {'airport': {'icao': 'LIRP', 'iata': 'PSA', 'name': 'Pisa'},\n",
       "     'scheduledTimeLocal': '2022-01-23 09:25+01:00',\n",
       "     'scheduledTimeUtc': '2022-01-23 08:25Z',\n",
       "     'quality': ['Basic']},\n",
       "    'number': 'FR 9955',\n",
       "    'status': 'Unknown',\n",
       "    'codeshareStatus': 'Unknown',\n",
       "    'isCargo': False,\n",
       "    'aircraft': {'model': 'Boeing 737-800'},\n",
       "    'airline': {'name': 'Ryanair'}},\n",
       "   {'movement': {'airport': {'icao': 'LSZH', 'iata': 'ZRH', 'name': 'Zurich'},\n",
       "     'scheduledTimeLocal': '2022-01-23 08:45+01:00',\n",
       "     'scheduledTimeUtc': '2022-01-23 07:45Z',\n",
       "     'terminal': '1',\n",
       "     'quality': ['Basic']},\n",
       "    'number': 'LX 974',\n",
       "    'status': 'Unknown',\n",
       "    'codeshareStatus': 'Unknown',\n",
       "    'isCargo': False,\n",
       "    'aircraft': {'model': 'Airbus A320 NEO'},\n",
       "    'airline': {'name': 'SWISS'}},\n",
       "   {'movement': {'airport': {'icao': 'LTFJ',\n",
       "      'iata': 'SAW',\n",
       "      'name': 'Istanbul'},\n",
       "     'scheduledTimeLocal': '2022-01-23 11:00+01:00',\n",
       "     'scheduledTimeUtc': '2022-01-23 10:00Z',\n",
       "     'terminal': '0',\n",
       "     'quality': ['Basic']},\n",
       "    'number': 'PC 977',\n",
       "    'status': 'Unknown',\n",
       "    'codeshareStatus': 'Unknown',\n",
       "    'isCargo': False,\n",
       "    'aircraft': {'model': 'Boeing 737-800'},\n",
       "    'airline': {'name': 'Pegasus'}},\n",
       "   {'movement': {'airport': {'icao': 'EDDM', 'iata': 'MUC', 'name': 'Munich'},\n",
       "     'scheduledTimeLocal': '2022-01-23 09:35+01:00',\n",
       "     'scheduledTimeUtc': '2022-01-23 08:35Z',\n",
       "     'terminal': '1',\n",
       "     'quality': ['Basic']},\n",
       "    'number': 'LH 1930',\n",
       "    'status': 'Unknown',\n",
       "    'codeshareStatus': 'IsCodeshared',\n",
       "    'isCargo': False,\n",
       "    'aircraft': {'model': 'Airbus A319'},\n",
       "    'airline': {'name': 'Lufthansa'}},\n",
       "   {'movement': {'airport': {'icao': 'EGPH',\n",
       "      'iata': 'EDI',\n",
       "      'name': 'Edinburgh'},\n",
       "     'scheduledTimeLocal': '2022-01-23 09:35+01:00',\n",
       "     'scheduledTimeUtc': '2022-01-23 08:35Z',\n",
       "     'quality': ['Basic']},\n",
       "    'number': 'FR 2376',\n",
       "    'status': 'Unknown',\n",
       "    'codeshareStatus': 'Unknown',\n",
       "    'isCargo': False,\n",
       "    'aircraft': {'model': 'Boeing 737-800'},\n",
       "    'airline': {'name': 'Ryanair'}},\n",
       "   {'movement': {'airport': {'icao': 'EKBI', 'iata': 'BLL', 'name': 'Billund'},\n",
       "     'scheduledTimeLocal': '2022-01-23 09:45+01:00',\n",
       "     'scheduledTimeUtc': '2022-01-23 08:45Z',\n",
       "     'quality': ['Basic']},\n",
       "    'number': 'FR 1701',\n",
       "    'status': 'Unknown',\n",
       "    'codeshareStatus': 'Unknown',\n",
       "    'isCargo': False,\n",
       "    'aircraft': {'model': 'Boeing 737-800'},\n",
       "    'airline': {'name': 'Ryanair'}},\n",
       "   {'movement': {'airport': {'icao': 'ULLI',\n",
       "      'iata': 'LED',\n",
       "      'name': 'Saint-Petersburg'},\n",
       "     'scheduledTimeLocal': '2022-01-23 10:05+01:00',\n",
       "     'scheduledTimeUtc': '2022-01-23 09:05Z',\n",
       "     'terminal': '1',\n",
       "     'quality': ['Basic']},\n",
       "    'number': 'FV 6641',\n",
       "    'status': 'Unknown',\n",
       "    'codeshareStatus': 'IsCodeshared',\n",
       "    'isCargo': False,\n",
       "    'aircraft': {'reg': 'VP-BIQ', 'model': 'Airbus A319'},\n",
       "    'airline': {'name': 'Rossiya'}},\n",
       "   {'movement': {'airport': {'icao': 'LTFM',\n",
       "      'iata': 'IST',\n",
       "      'name': 'Istanbul'},\n",
       "     'scheduledTimeLocal': '2022-01-23 09:35+01:00',\n",
       "     'scheduledTimeUtc': '2022-01-23 08:35Z',\n",
       "     'terminal': '1',\n",
       "     'quality': ['Basic']},\n",
       "    'number': 'TK 1721',\n",
       "    'status': 'Unknown',\n",
       "    'codeshareStatus': 'Unknown',\n",
       "    'isCargo': False,\n",
       "    'aircraft': {'model': 'Airbus A321'},\n",
       "    'airline': {'name': 'Turkish'}}]},\n",
       " {'arrivals': [{'movement': {'airport': {'name': 'Sofia'},\n",
       "     'scheduledTimeLocal': '2022-01-23 13:10+01:00',\n",
       "     'scheduledTimeUtc': '2022-01-23 12:10Z',\n",
       "     'terminal': '1',\n",
       "     'quality': ['Basic']},\n",
       "    'number': 'FB 440',\n",
       "    'status': 'Unknown',\n",
       "    'codeshareStatus': 'Unknown',\n",
       "    'isCargo': False,\n",
       "    'aircraft': {'model': 'Airbus A319'},\n",
       "    'airline': {'name': 'Bulgaria Air'}},\n",
       "   {'movement': {'airport': {'name': 'Manchester'},\n",
       "     'scheduledTimeLocal': '2022-01-23 22:25+01:00',\n",
       "     'scheduledTimeUtc': '2022-01-23 21:25Z',\n",
       "     'quality': ['Basic']},\n",
       "    'number': 'FR 1155',\n",
       "    'status': 'Unknown',\n",
       "    'codeshareStatus': 'Unknown',\n",
       "    'isCargo': False,\n",
       "    'aircraft': {'model': 'Boeing 737-800'},\n",
       "    'airline': {'name': 'Ryanair'}},\n",
       "   {'movement': {'airport': {'name': 'Stockholm'},\n",
       "     'scheduledTimeLocal': '2022-01-23 22:25+01:00',\n",
       "     'scheduledTimeUtc': '2022-01-23 21:25Z',\n",
       "     'terminal': '1',\n",
       "     'quality': ['Basic']},\n",
       "    'number': 'U2 5216',\n",
       "    'status': 'Unknown',\n",
       "    'codeshareStatus': 'Unknown',\n",
       "    'isCargo': False,\n",
       "    'aircraft': {'model': 'Airbus A319'},\n",
       "    'airline': {'name': 'easyJet'}},\n",
       "   {'movement': {'airport': {'name': 'Nis'},\n",
       "     'scheduledTimeLocal': '2022-01-23 22:30+01:00',\n",
       "     'scheduledTimeUtc': '2022-01-23 21:30Z',\n",
       "     'quality': ['Basic']},\n",
       "    'number': 'FR 1106',\n",
       "    'status': 'Unknown',\n",
       "    'codeshareStatus': 'Unknown',\n",
       "    'isCargo': False,\n",
       "    'aircraft': {'model': 'Boeing 737-800'},\n",
       "    'airline': {'name': 'Ryanair'}},\n",
       "   {'movement': {'airport': {'icao': 'EBBR',\n",
       "      'iata': 'BRU',\n",
       "      'name': 'Brussels'},\n",
       "     'scheduledTimeLocal': '2022-01-23 14:20+01:00',\n",
       "     'scheduledTimeUtc': '2022-01-23 13:20Z',\n",
       "     'terminal': '1',\n",
       "     'quality': ['Basic']},\n",
       "    'number': 'SN 2589',\n",
       "    'status': 'Unknown',\n",
       "    'codeshareStatus': 'Unknown',\n",
       "    'isCargo': False,\n",
       "    'aircraft': {'model': 'Airbus A320'},\n",
       "    'airline': {'name': 'Brussels'}},\n",
       "   {'movement': {'airport': {'icao': 'EBBR',\n",
       "      'iata': 'BRU',\n",
       "      'name': 'Brussels'},\n",
       "     'scheduledTimeLocal': '2022-01-23 22:25+01:00',\n",
       "     'scheduledTimeUtc': '2022-01-23 21:25Z',\n",
       "     'quality': ['Basic']},\n",
       "    'number': 'FR 167',\n",
       "    'status': 'Unknown',\n",
       "    'codeshareStatus': 'Unknown',\n",
       "    'isCargo': False,\n",
       "    'aircraft': {'model': 'Boeing 737-800'},\n",
       "    'airline': {'name': 'Ryanair'}},\n",
       "   {'movement': {'airport': {'icao': 'BIKF',\n",
       "      'iata': 'KEF',\n",
       "      'name': 'Reykjavik'},\n",
       "     'scheduledTimeLocal': '2022-01-23 12:10+01:00',\n",
       "     'scheduledTimeUtc': '2022-01-23 11:10Z',\n",
       "     'terminal': '1',\n",
       "     'quality': ['Basic']},\n",
       "    'number': 'FI 528',\n",
       "    'status': 'Unknown',\n",
       "    'codeshareStatus': 'Unknown',\n",
       "    'isCargo': False,\n",
       "    'aircraft': {'model': 'Boeing 737'},\n",
       "    'airline': {'name': 'Icelandair'}},\n",
       "   {'movement': {'airport': {'icao': 'BKPR',\n",
       "      'iata': 'PRN',\n",
       "      'name': 'Prishtina'},\n",
       "     'scheduledTimeLocal': '2022-01-23 15:15+01:00',\n",
       "     'scheduledTimeUtc': '2022-01-23 14:15Z',\n",
       "     'terminal': '1',\n",
       "     'quality': ['Basic']},\n",
       "    'number': 'U2 4580',\n",
       "    'status': 'Unknown',\n",
       "    'codeshareStatus': 'Unknown',\n",
       "    'isCargo': False,\n",
       "    'aircraft': {'model': 'Airbus A320'},\n",
       "    'airline': {'name': 'easyJet'}},\n",
       "   {'movement': {'airport': {'icao': 'EBBR',\n",
       "      'iata': 'BRU',\n",
       "      'name': 'Brussels'},\n",
       "     'scheduledTimeLocal': '2022-01-23 18:50+01:00',\n",
       "     'scheduledTimeUtc': '2022-01-23 17:50Z',\n",
       "     'terminal': '1',\n",
       "     'quality': ['Basic']},\n",
       "    'number': 'SN 2591',\n",
       "    'status': 'Unknown',\n",
       "    'codeshareStatus': 'Unknown',\n",
       "    'isCargo': False,\n",
       "    'aircraft': {'model': 'Airbus A319'},\n",
       "    'airline': {'name': 'Brussels'}},\n",
       "   {'movement': {'airport': {'icao': 'EDDF',\n",
       "      'iata': 'FRA',\n",
       "      'name': 'Frankfurt-am-Main'},\n",
       "     'scheduledTimeLocal': '2022-01-23 14:55+01:00',\n",
       "     'scheduledTimeUtc': '2022-01-23 13:55Z',\n",
       "     'terminal': '1',\n",
       "     'quality': ['Basic']},\n",
       "    'number': 'LH 186',\n",
       "    'status': 'Unknown',\n",
       "    'codeshareStatus': 'IsCodeshared',\n",
       "    'isCargo': False,\n",
       "    'aircraft': {'model': 'Airbus A320 NEO'},\n",
       "    'airline': {'name': 'Lufthansa'}},\n",
       "   {'movement': {'airport': {'icao': 'EDDF',\n",
       "      'iata': 'FRA',\n",
       "      'name': 'Frankfurt-am-Main'},\n",
       "     'scheduledTimeLocal': '2022-01-23 17:55+01:00',\n",
       "     'scheduledTimeUtc': '2022-01-23 16:55Z',\n",
       "     'terminal': '1',\n",
       "     'quality': ['Basic']},\n",
       "    'number': 'LH 192',\n",
       "    'status': 'Unknown',\n",
       "    'codeshareStatus': 'IsCodeshared',\n",
       "    'isCargo': False,\n",
       "    'aircraft': {'model': 'Airbus A320'},\n",
       "    'airline': {'name': 'Lufthansa'}},\n",
       "   {'movement': {'airport': {'icao': 'EDDK', 'iata': 'CGN', 'name': 'Cologne'},\n",
       "     'scheduledTimeLocal': '2022-01-23 18:55+01:00',\n",
       "     'scheduledTimeUtc': '2022-01-23 17:55Z',\n",
       "     'terminal': '1',\n",
       "     'quality': ['Basic']},\n",
       "    'number': 'EW 6',\n",
       "    'status': 'Unknown',\n",
       "    'codeshareStatus': 'Unknown',\n",
       "    'isCargo': False,\n",
       "    'aircraft': {'model': 'Airbus A319'},\n",
       "    'airline': {'name': 'Eurowings'}},\n",
       "   {'movement': {'airport': {'icao': 'EDDK', 'iata': 'CGN', 'name': 'Cologne'},\n",
       "     'scheduledTimeLocal': '2022-01-23 19:10+01:00',\n",
       "     'scheduledTimeUtc': '2022-01-23 18:10Z',\n",
       "     'terminal': '1',\n",
       "     'quality': ['Basic']},\n",
       "    'number': 'U2 5512',\n",
       "    'status': 'Unknown',\n",
       "    'codeshareStatus': 'Unknown',\n",
       "    'isCargo': False,\n",
       "    'aircraft': {'model': 'Airbus A320'},\n",
       "    'airline': {'name': 'easyJet'}},\n",
       "   {'movement': {'airport': {'icao': 'EDDK', 'iata': 'CGN', 'name': 'Cologne'},\n",
       "     'scheduledTimeLocal': '2022-01-23 21:00+01:00',\n",
       "     'scheduledTimeUtc': '2022-01-23 20:00Z',\n",
       "     'terminal': '1',\n",
       "     'quality': ['Basic']},\n",
       "    'number': 'U2 5514',\n",
       "    'status': 'Unknown',\n",
       "    'codeshareStatus': 'Unknown',\n",
       "    'isCargo': False,\n",
       "    'aircraft': {'model': 'Airbus A319'},\n",
       "    'airline': {'name': 'easyJet'}},\n",
       "   {'movement': {'airport': {'icao': 'EDDL',\n",
       "      'iata': 'DUS',\n",
       "      'name': 'Duesseldorf'},\n",
       "     'scheduledTimeLocal': '2022-01-23 15:50+01:00',\n",
       "     'scheduledTimeUtc': '2022-01-23 14:50Z',\n",
       "     'terminal': '1',\n",
       "     'quality': ['Basic']},\n",
       "    'number': 'EW 9042',\n",
       "    'status': 'Unknown',\n",
       "    'codeshareStatus': 'Unknown',\n",
       "    'isCargo': False,\n",
       "    'aircraft': {'model': 'Airbus A320'},\n",
       "    'airline': {'name': 'Eurowings'}},\n",
       "   {'movement': {'airport': {'icao': 'EDDF',\n",
       "      'iata': 'FRA',\n",
       "      'name': 'Frankfurt-am-Main'},\n",
       "     'scheduledTimeLocal': '2022-01-23 22:25+01:00',\n",
       "     'scheduledTimeUtc': '2022-01-23 21:25Z',\n",
       "     'terminal': '1',\n",
       "     'quality': ['Basic']},\n",
       "    'number': 'LH 202',\n",
       "    'status': 'Unknown',\n",
       "    'codeshareStatus': 'IsCodeshared',\n",
       "    'isCargo': False,\n",
       "    'aircraft': {'model': 'Airbus A320'},\n",
       "    'airline': {'name': 'Lufthansa'}},\n",
       "   {'movement': {'airport': {'icao': 'EDDF',\n",
       "      'iata': 'FRA',\n",
       "      'name': 'Frankfurt-am-Main'},\n",
       "     'scheduledTimeLocal': '2022-01-23 18:55+01:00',\n",
       "     'scheduledTimeUtc': '2022-01-23 17:55Z',\n",
       "     'terminal': '1',\n",
       "     'quality': ['Basic']},\n",
       "    'number': 'LH 194',\n",
       "    'status': 'Unknown',\n",
       "    'codeshareStatus': 'IsCodeshared',\n",
       "    'isCargo': False,\n",
       "    'aircraft': {'model': 'Airbus A320 NEO'},\n",
       "    'airline': {'name': 'Lufthansa'}},\n",
       "   {'movement': {'airport': {'icao': 'EDDK', 'iata': 'CGN', 'name': 'Cologne'},\n",
       "     'scheduledTimeLocal': '2022-01-23 16:20+01:00',\n",
       "     'scheduledTimeUtc': '2022-01-23 15:20Z',\n",
       "     'terminal': '1',\n",
       "     'quality': ['Basic']},\n",
       "    'number': 'EW 8',\n",
       "    'status': 'Unknown',\n",
       "    'codeshareStatus': 'Unknown',\n",
       "    'isCargo': False,\n",
       "    'aircraft': {'model': 'Airbus A319'},\n",
       "    'airline': {'name': 'Eurowings'}},\n",
       "   {'movement': {'airport': {'icao': 'EDDM', 'iata': 'MUC', 'name': 'Munich'},\n",
       "     'scheduledTimeLocal': '2022-01-23 18:10+01:00',\n",
       "     'scheduledTimeUtc': '2022-01-23 17:10Z',\n",
       "     'terminal': '1',\n",
       "     'quality': ['Basic']},\n",
       "    'number': 'LH 1948',\n",
       "    'status': 'Unknown',\n",
       "    'codeshareStatus': 'IsCodeshared',\n",
       "    'isCargo': False,\n",
       "    'aircraft': {'model': 'Airbus A319'},\n",
       "    'airline': {'name': 'Lufthansa'}},\n",
       "   {'movement': {'airport': {'icao': 'EDDM', 'iata': 'MUC', 'name': 'Munich'},\n",
       "     'scheduledTimeLocal': '2022-01-23 20:10+01:00',\n",
       "     'scheduledTimeUtc': '2022-01-23 19:10Z',\n",
       "     'terminal': '1',\n",
       "     'quality': ['Basic']},\n",
       "    'number': 'LH 1954',\n",
       "    'status': 'Unknown',\n",
       "    'codeshareStatus': 'IsCodeshared',\n",
       "    'isCargo': False,\n",
       "    'aircraft': {'model': 'Airbus A320 NEO'},\n",
       "    'airline': {'name': 'Lufthansa'}},\n",
       "   {'movement': {'airport': {'icao': 'EDDM', 'iata': 'MUC', 'name': 'Munich'},\n",
       "     'scheduledTimeLocal': '2022-01-23 16:55+01:00',\n",
       "     'scheduledTimeUtc': '2022-01-23 15:55Z',\n",
       "     'terminal': '1',\n",
       "     'quality': ['Basic']},\n",
       "    'number': 'LH 1942',\n",
       "    'status': 'Unknown',\n",
       "    'codeshareStatus': 'IsCodeshared',\n",
       "    'isCargo': False,\n",
       "    'aircraft': {'model': 'Airbus A319'},\n",
       "    'airline': {'name': 'Lufthansa'}},\n",
       "   {'movement': {'airport': {'icao': 'EDDM', 'iata': 'MUC', 'name': 'Munich'},\n",
       "     'scheduledTimeLocal': '2022-01-23 12:15+01:00',\n",
       "     'scheduledTimeUtc': '2022-01-23 11:15Z',\n",
       "     'terminal': '1',\n",
       "     'quality': ['Basic']},\n",
       "    'number': 'LH 1936',\n",
       "    'status': 'Unknown',\n",
       "    'codeshareStatus': 'IsCodeshared',\n",
       "    'isCargo': False,\n",
       "    'aircraft': {'model': 'Airbus A320'},\n",
       "    'airline': {'name': 'Lufthansa'}},\n",
       "   {'movement': {'airport': {'icao': 'EDDS',\n",
       "      'iata': 'STR',\n",
       "      'name': 'Stuttgart'},\n",
       "     'scheduledTimeLocal': '2022-01-23 15:30+01:00',\n",
       "     'scheduledTimeUtc': '2022-01-23 14:30Z',\n",
       "     'terminal': '1',\n",
       "     'quality': ['Basic']},\n",
       "    'number': 'EW 2020',\n",
       "    'status': 'Unknown',\n",
       "    'codeshareStatus': 'Unknown',\n",
       "    'isCargo': False,\n",
       "    'aircraft': {'model': 'Airbus A319'},\n",
       "    'airline': {'name': 'Eurowings'}},\n",
       "   {'movement': {'airport': {'icao': 'EDDS',\n",
       "      'iata': 'STR',\n",
       "      'name': 'Stuttgart'},\n",
       "     'scheduledTimeLocal': '2022-01-23 19:35+01:00',\n",
       "     'scheduledTimeUtc': '2022-01-23 18:35Z',\n",
       "     'terminal': '1',\n",
       "     'quality': ['Basic']},\n",
       "    'number': 'EW 2006',\n",
       "    'status': 'Unknown',\n",
       "    'codeshareStatus': 'Unknown',\n",
       "    'isCargo': False,\n",
       "    'aircraft': {'model': 'Airbus A320'},\n",
       "    'airline': {'name': 'Eurowings'}},\n",
       "   {'movement': {'airport': {'icao': 'EDDM', 'iata': 'MUC', 'name': 'Munich'},\n",
       "     'scheduledTimeLocal': '2022-01-23 15:25+01:00',\n",
       "     'scheduledTimeUtc': '2022-01-23 14:25Z',\n",
       "     'terminal': '1',\n",
       "     'quality': ['Basic']},\n",
       "    'number': 'LH 1944',\n",
       "    'status': 'Unknown',\n",
       "    'codeshareStatus': 'IsCodeshared',\n",
       "    'isCargo': False,\n",
       "    'aircraft': {'model': 'Airbus A320'},\n",
       "    'airline': {'name': 'Lufthansa'}},\n",
       "   {'movement': {'airport': {'icao': 'EFHK',\n",
       "      'iata': 'HEL',\n",
       "      'name': 'Helsinki'},\n",
       "     'scheduledTimeLocal': '2022-01-23 18:25+01:00',\n",
       "     'scheduledTimeUtc': '2022-01-23 17:25Z',\n",
       "     'terminal': '1',\n",
       "     'quality': ['Basic']},\n",
       "    'number': 'AY 1435',\n",
       "    'status': 'Unknown',\n",
       "    'codeshareStatus': 'Unknown',\n",
       "    'isCargo': False,\n",
       "    'aircraft': {'model': 'Airbus A319'},\n",
       "    'airline': {'name': 'Finnair'}},\n",
       "   {'movement': {'airport': {'icao': 'EGCC',\n",
       "      'iata': 'MAN',\n",
       "      'name': 'Manchester'},\n",
       "     'scheduledTimeLocal': '2022-01-23 15:30+01:00',\n",
       "     'scheduledTimeUtc': '2022-01-23 14:30Z',\n",
       "     'quality': ['Basic']},\n",
       "    'number': 'FR 1145',\n",
       "    'status': 'Unknown',\n",
       "    'codeshareStatus': 'Unknown',\n",
       "    'isCargo': False,\n",
       "    'aircraft': {'model': 'Boeing 737-800'},\n",
       "    'airline': {'name': 'Ryanair'}},\n",
       "   {'movement': {'airport': {'icao': 'EDDM', 'iata': 'MUC', 'name': 'Munich'},\n",
       "     'scheduledTimeLocal': '2022-01-23 22:55+01:00',\n",
       "     'scheduledTimeUtc': '2022-01-23 21:55Z',\n",
       "     'terminal': '1',\n",
       "     'quality': ['Basic']},\n",
       "    'number': 'LH 1958',\n",
       "    'status': 'Unknown',\n",
       "    'codeshareStatus': 'IsCodeshared',\n",
       "    'isCargo': False,\n",
       "    'aircraft': {'model': 'Airbus A320'},\n",
       "    'airline': {'name': 'Lufthansa'}},\n",
       "   {'movement': {'airport': {'icao': 'EETN', 'iata': 'TLL', 'name': 'Tallinn'},\n",
       "     'scheduledTimeLocal': '2022-01-23 14:25+01:00',\n",
       "     'scheduledTimeUtc': '2022-01-23 13:25Z',\n",
       "     'terminal': '1',\n",
       "     'quality': ['Basic']},\n",
       "    'number': 'BT 821',\n",
       "    'status': 'Unknown',\n",
       "    'codeshareStatus': 'Unknown',\n",
       "    'isCargo': False,\n",
       "    'aircraft': {'model': 'Airbus A220-300'},\n",
       "    'airline': {'name': 'Air Baltic'}},\n",
       "   {'movement': {'airport': {'icao': 'EGLL', 'iata': 'LHR', 'name': 'London'},\n",
       "     'scheduledTimeLocal': '2022-01-23 18:05+01:00',\n",
       "     'scheduledTimeUtc': '2022-01-23 17:05Z',\n",
       "     'terminal': '1',\n",
       "     'quality': ['Basic']},\n",
       "    'number': 'BA 998',\n",
       "    'status': 'Unknown',\n",
       "    'codeshareStatus': 'IsCodeshared',\n",
       "    'isCargo': False,\n",
       "    'aircraft': {'model': 'Airbus A320'},\n",
       "    'airline': {'name': 'British Airways'}},\n",
       "   {'movement': {'airport': {'icao': 'EGLL', 'iata': 'LHR', 'name': 'London'},\n",
       "     'scheduledTimeLocal': '2022-01-23 21:45+01:00',\n",
       "     'scheduledTimeUtc': '2022-01-23 20:45Z',\n",
       "     'terminal': '1',\n",
       "     'quality': ['Basic']},\n",
       "    'number': 'BA 988',\n",
       "    'status': 'Unknown',\n",
       "    'codeshareStatus': 'IsCodeshared',\n",
       "    'isCargo': False,\n",
       "    'aircraft': {'model': 'Airbus A320'},\n",
       "    'airline': {'name': 'British Airways'}},\n",
       "   {'movement': {'airport': {'icao': 'EGSS', 'iata': 'STN', 'name': 'London'},\n",
       "     'scheduledTimeLocal': '2022-01-23 15:25+01:00',\n",
       "     'scheduledTimeUtc': '2022-01-23 14:25Z',\n",
       "     'quality': ['Basic']},\n",
       "    'number': 'FR 176',\n",
       "    'status': 'Unknown',\n",
       "    'codeshareStatus': 'Unknown',\n",
       "    'isCargo': False,\n",
       "    'aircraft': {'model': 'Boeing 737-800'},\n",
       "    'airline': {'name': 'Ryanair'}},\n",
       "   {'movement': {'airport': {'icao': 'EDDR',\n",
       "      'iata': 'SCN',\n",
       "      'name': 'Saarbrücken'},\n",
       "     'scheduledTimeLocal': '2022-01-23 14:40+01:00',\n",
       "     'scheduledTimeUtc': '2022-01-23 13:40Z',\n",
       "     'terminal': '0',\n",
       "     'quality': ['Basic']},\n",
       "    'number': 'DX 123',\n",
       "    'status': 'Unknown',\n",
       "    'codeshareStatus': 'Unknown',\n",
       "    'isCargo': False,\n",
       "    'aircraft': {'model': 'ATR 42-300'},\n",
       "    'airline': {'name': 'Danish Air'}},\n",
       "   {'movement': {'airport': {'icao': 'EGKK', 'iata': 'LGW', 'name': 'London'},\n",
       "     'scheduledTimeLocal': '2022-01-23 22:45+01:00',\n",
       "     'scheduledTimeUtc': '2022-01-23 21:45Z',\n",
       "     'terminal': '1',\n",
       "     'quality': ['Basic']},\n",
       "    'number': 'U2 8217',\n",
       "    'status': 'Unknown',\n",
       "    'codeshareStatus': 'Unknown',\n",
       "    'isCargo': False,\n",
       "    'aircraft': {'model': 'Airbus A320'},\n",
       "    'airline': {'name': 'easyJet'}},\n",
       "   {'movement': {'airport': {'icao': 'EGLC', 'iata': 'LCY', 'name': 'London'},\n",
       "     'scheduledTimeLocal': '2022-01-23 20:00+01:00',\n",
       "     'scheduledTimeUtc': '2022-01-23 19:00Z',\n",
       "     'terminal': '1',\n",
       "     'quality': ['Basic']},\n",
       "    'number': 'BA 8493',\n",
       "    'status': 'Unknown',\n",
       "    'codeshareStatus': 'IsCodeshared',\n",
       "    'isCargo': False,\n",
       "    'aircraft': {'model': 'Embraer 190'},\n",
       "    'airline': {'name': 'British Airways'}},\n",
       "   {'movement': {'airport': {'icao': 'EHAM',\n",
       "      'iata': 'AMS',\n",
       "      'name': 'Amsterdam'},\n",
       "     'scheduledTimeLocal': '2022-01-23 18:00+01:00',\n",
       "     'scheduledTimeUtc': '2022-01-23 17:00Z',\n",
       "     'terminal': '1',\n",
       "     'quality': ['Basic']},\n",
       "    'number': 'KL 1831',\n",
       "    'status': 'Unknown',\n",
       "    'codeshareStatus': 'IsCodeshared',\n",
       "    'isCargo': False,\n",
       "    'aircraft': {'reg': 'PH-HSE', 'model': 'Boeing 737-800'},\n",
       "    'airline': {'name': 'KLM'}},\n",
       "   {'movement': {'airport': {'icao': 'EHAM',\n",
       "      'iata': 'AMS',\n",
       "      'name': 'Amsterdam'},\n",
       "     'scheduledTimeLocal': '2022-01-23 18:30+01:00',\n",
       "     'scheduledTimeUtc': '2022-01-23 17:30Z',\n",
       "     'terminal': '1',\n",
       "     'quality': ['Basic']},\n",
       "    'number': 'U2 5106',\n",
       "    'status': 'Unknown',\n",
       "    'codeshareStatus': 'Unknown',\n",
       "    'isCargo': False,\n",
       "    'aircraft': {'model': 'Airbus A320'},\n",
       "    'airline': {'name': 'easyJet'}},\n",
       "   {'movement': {'airport': {'icao': 'EHAM',\n",
       "      'iata': 'AMS',\n",
       "      'name': 'Amsterdam'},\n",
       "     'scheduledTimeLocal': '2022-01-23 16:40+01:00',\n",
       "     'scheduledTimeUtc': '2022-01-23 15:40Z',\n",
       "     'terminal': '1',\n",
       "     'quality': ['Basic']},\n",
       "    'number': 'KL 1829',\n",
       "    'status': 'Unknown',\n",
       "    'codeshareStatus': 'IsCodeshared',\n",
       "    'isCargo': False,\n",
       "    'aircraft': {'model': 'Embraer 190'},\n",
       "    'airline': {'name': 'KLM'}},\n",
       "   {'movement': {'airport': {'icao': 'EIDW', 'iata': 'DUB', 'name': 'Dublin'},\n",
       "     'scheduledTimeLocal': '2022-01-23 12:15+01:00',\n",
       "     'scheduledTimeUtc': '2022-01-23 11:15Z',\n",
       "     'quality': ['Basic']},\n",
       "    'number': 'FR 8556',\n",
       "    'status': 'Unknown',\n",
       "    'codeshareStatus': 'Unknown',\n",
       "    'isCargo': False,\n",
       "    'aircraft': {'model': 'Boeing 737-800'},\n",
       "    'airline': {'name': 'Ryanair'}},\n",
       "   {'movement': {'airport': {'icao': 'EIDW', 'iata': 'DUB', 'name': 'Dublin'},\n",
       "     'scheduledTimeLocal': '2022-01-23 19:00+01:00',\n",
       "     'scheduledTimeUtc': '2022-01-23 18:00Z',\n",
       "     'terminal': '1',\n",
       "     'quality': ['Basic']},\n",
       "    'number': 'EI 336',\n",
       "    'status': 'Unknown',\n",
       "    'codeshareStatus': 'Unknown',\n",
       "    'isCargo': False,\n",
       "    'aircraft': {'model': 'Airbus A320'},\n",
       "    'airline': {'name': 'Aer Lingus'}},\n",
       "   {'movement': {'airport': {'icao': 'EGSS', 'iata': 'STN', 'name': 'London'},\n",
       "     'scheduledTimeLocal': '2022-01-23 22:30+01:00',\n",
       "     'scheduledTimeUtc': '2022-01-23 21:30Z',\n",
       "     'quality': ['Basic']},\n",
       "    'number': 'FR 147',\n",
       "    'status': 'Unknown',\n",
       "    'codeshareStatus': 'Unknown',\n",
       "    'isCargo': False,\n",
       "    'aircraft': {'model': 'Boeing 737-800'},\n",
       "    'airline': {'name': 'Ryanair'}},\n",
       "   {'movement': {'airport': {'icao': 'EGSS', 'iata': 'STN', 'name': 'London'},\n",
       "     'scheduledTimeLocal': '2022-01-23 21:00+01:00',\n",
       "     'scheduledTimeUtc': '2022-01-23 20:00Z',\n",
       "     'quality': ['Basic']},\n",
       "    'number': 'FR 8544',\n",
       "    'status': 'Unknown',\n",
       "    'codeshareStatus': 'Unknown',\n",
       "    'isCargo': False,\n",
       "    'aircraft': {'model': 'Boeing 737-800'},\n",
       "    'airline': {'name': 'Ryanair'}},\n",
       "   {'movement': {'airport': {'icao': 'EHAM',\n",
       "      'iata': 'AMS',\n",
       "      'name': 'Amsterdam'},\n",
       "     'scheduledTimeLocal': '2022-01-23 21:55+01:00',\n",
       "     'scheduledTimeUtc': '2022-01-23 20:55Z',\n",
       "     'terminal': '1',\n",
       "     'quality': ['Basic']},\n",
       "    'number': 'KL 1835',\n",
       "    'status': 'Unknown',\n",
       "    'codeshareStatus': 'IsCodeshared',\n",
       "    'isCargo': False,\n",
       "    'aircraft': {'reg': 'PH-BXZ', 'model': 'Boeing 737-800'},\n",
       "    'airline': {'name': 'KLM'}},\n",
       "   {'movement': {'airport': {'icao': 'ELLX',\n",
       "      'iata': 'LUX',\n",
       "      'name': 'Luxembourg'},\n",
       "     'scheduledTimeLocal': '2022-01-23 13:45+01:00',\n",
       "     'scheduledTimeUtc': '2022-01-23 12:45Z',\n",
       "     'quality': ['Basic']},\n",
       "    'number': 'FR 43',\n",
       "    'status': 'Unknown',\n",
       "    'codeshareStatus': 'Unknown',\n",
       "    'isCargo': False,\n",
       "    'aircraft': {'model': 'Boeing 737-800'},\n",
       "    'airline': {'name': 'Ryanair'}},\n",
       "   {'movement': {'airport': {'icao': 'ELLX',\n",
       "      'iata': 'LUX',\n",
       "      'name': 'Luxembourg'},\n",
       "     'scheduledTimeLocal': '2022-01-23 20:15+01:00',\n",
       "     'scheduledTimeUtc': '2022-01-23 19:15Z',\n",
       "     'terminal': '1',\n",
       "     'quality': ['Basic']},\n",
       "    'number': 'LG 9473',\n",
       "    'status': 'Unknown',\n",
       "    'codeshareStatus': 'Unknown',\n",
       "    'isCargo': False,\n",
       "    'aircraft': {'model': 'Bombardier Dash 8 Q400 / DHC-8-400'},\n",
       "    'airline': {'name': 'Luxair'}},\n",
       "   {'movement': {'airport': {'icao': 'ENGM', 'iata': 'OSL', 'name': 'Oslo'},\n",
       "     'scheduledTimeLocal': '2022-01-23 14:05+01:00',\n",
       "     'scheduledTimeUtc': '2022-01-23 13:05Z',\n",
       "     'terminal': '1',\n",
       "     'quality': ['Basic']},\n",
       "    'number': 'DY 1104',\n",
       "    'status': 'Unknown',\n",
       "    'codeshareStatus': 'Unknown',\n",
       "    'isCargo': False,\n",
       "    'aircraft': {'model': 'Boeing 737-800'},\n",
       "    'airline': {'name': 'Norwegian Air Shuttle'}},\n",
       "   {'movement': {'airport': {'icao': 'EKCH',\n",
       "      'iata': 'CPH',\n",
       "      'name': 'Copenhagen'},\n",
       "     'scheduledTimeLocal': '2022-01-23 17:55+01:00',\n",
       "     'scheduledTimeUtc': '2022-01-23 16:55Z',\n",
       "     'terminal': '1',\n",
       "     'quality': ['Basic']},\n",
       "    'number': 'D8 3302',\n",
       "    'status': 'Unknown',\n",
       "    'codeshareStatus': 'Unknown',\n",
       "    'isCargo': False,\n",
       "    'aircraft': {'model': 'Boeing 737-800'},\n",
       "    'airline': {'name': 'Norwegian Air International'}},\n",
       "   {'movement': {'airport': {'icao': 'ESSA',\n",
       "      'iata': 'ARN',\n",
       "      'name': 'Stockholm'},\n",
       "     'scheduledTimeLocal': '2022-01-23 17:35+01:00',\n",
       "     'scheduledTimeUtc': '2022-01-23 16:35Z',\n",
       "     'terminal': '1',\n",
       "     'quality': ['Basic']},\n",
       "    'number': 'SK 2679',\n",
       "    'status': 'Unknown',\n",
       "    'codeshareStatus': 'Unknown',\n",
       "    'isCargo': False,\n",
       "    'aircraft': {'model': 'Bombardier CRJ900'},\n",
       "    'airline': {'name': 'SAS'}},\n",
       "   {'movement': {'airport': {'icao': 'EVRA', 'iata': 'RIX', 'name': 'Riga'},\n",
       "     'scheduledTimeLocal': '2022-01-23 13:55+01:00',\n",
       "     'scheduledTimeUtc': '2022-01-23 12:55Z',\n",
       "     'quality': ['Basic']},\n",
       "    'number': 'FR 2600',\n",
       "    'status': 'Unknown',\n",
       "    'codeshareStatus': 'Unknown',\n",
       "    'isCargo': False,\n",
       "    'aircraft': {'model': 'Boeing 737-800'},\n",
       "    'airline': {'name': 'Ryanair'}},\n",
       "   {'movement': {'airport': {'icao': 'EVRA', 'iata': 'RIX', 'name': 'Riga'},\n",
       "     'scheduledTimeLocal': '2022-01-23 19:00+01:00',\n",
       "     'scheduledTimeUtc': '2022-01-23 18:00Z',\n",
       "     'terminal': '1',\n",
       "     'quality': ['Basic']},\n",
       "    'number': 'BT 213',\n",
       "    'status': 'Unknown',\n",
       "    'codeshareStatus': 'Unknown',\n",
       "    'isCargo': False,\n",
       "    'aircraft': {'model': 'Airbus A220-300'},\n",
       "    'airline': {'name': 'Air Baltic'}},\n",
       "   {'movement': {'airport': {'icao': 'EYVI', 'iata': 'VNO', 'name': 'Vilnius'},\n",
       "     'scheduledTimeLocal': '2022-01-23 15:00+01:00',\n",
       "     'scheduledTimeUtc': '2022-01-23 14:00Z',\n",
       "     'terminal': '1',\n",
       "     'quality': ['Basic']},\n",
       "    'number': 'BT 921',\n",
       "    'status': 'Unknown',\n",
       "    'codeshareStatus': 'Unknown',\n",
       "    'isCargo': False,\n",
       "    'aircraft': {'model': 'Airbus A220-300'},\n",
       "    'airline': {'name': 'Air Baltic'}},\n",
       "   {'movement': {'airport': {'icao': 'GCLP',\n",
       "      'iata': 'LPA',\n",
       "      'name': 'Gran Canaria Island'},\n",
       "     'scheduledTimeLocal': '2022-01-23 18:35+01:00',\n",
       "     'scheduledTimeUtc': '2022-01-23 17:35Z',\n",
       "     'terminal': '1',\n",
       "     'quality': ['Basic']},\n",
       "    'number': 'U2 5932',\n",
       "    'status': 'Unknown',\n",
       "    'codeshareStatus': 'Unknown',\n",
       "    'isCargo': False,\n",
       "    'aircraft': {'model': 'Airbus A320'},\n",
       "    'airline': {'name': 'easyJet'}},\n",
       "   {'movement': {'airport': {'icao': 'GCLP',\n",
       "      'iata': 'LPA',\n",
       "      'name': 'Gran Canaria Island'},\n",
       "     'scheduledTimeLocal': '2022-01-23 20:55+01:00',\n",
       "     'scheduledTimeUtc': '2022-01-23 19:55Z',\n",
       "     'terminal': '1',\n",
       "     'quality': ['Basic']},\n",
       "    'number': 'DE 1289',\n",
       "    'status': 'Unknown',\n",
       "    'codeshareStatus': 'Unknown',\n",
       "    'isCargo': False,\n",
       "    'aircraft': {'model': 'Airbus A321'},\n",
       "    'airline': {'name': 'Condor'}},\n",
       "   {'movement': {'airport': {'icao': 'GCRR',\n",
       "      'iata': 'ACE',\n",
       "      'name': 'Lanzarote Island'},\n",
       "     'scheduledTimeLocal': '2022-01-23 18:05+01:00',\n",
       "     'scheduledTimeUtc': '2022-01-23 17:05Z',\n",
       "     'terminal': '1',\n",
       "     'quality': ['Basic']},\n",
       "    'number': 'U2 5926',\n",
       "    'status': 'Unknown',\n",
       "    'codeshareStatus': 'Unknown',\n",
       "    'isCargo': False,\n",
       "    'aircraft': {'model': 'Airbus A320'},\n",
       "    'airline': {'name': 'easyJet'}},\n",
       "   {'movement': {'airport': {'icao': 'GCTS',\n",
       "      'iata': 'TFS',\n",
       "      'name': 'Tenerife Island'},\n",
       "     'scheduledTimeLocal': '2022-01-23 19:05+01:00',\n",
       "     'scheduledTimeUtc': '2022-01-23 18:05Z',\n",
       "     'terminal': '1',\n",
       "     'quality': ['Basic']},\n",
       "    'number': 'EW 8291',\n",
       "    'status': 'Unknown',\n",
       "    'codeshareStatus': 'Unknown',\n",
       "    'isCargo': False,\n",
       "    'aircraft': {'model': 'Airbus A320'},\n",
       "    'airline': {'name': 'Eurowings'}},\n",
       "   {'movement': {'airport': {'icao': 'GCTS',\n",
       "      'iata': 'TFS',\n",
       "      'name': 'Tenerife Island'},\n",
       "     'scheduledTimeLocal': '2022-01-23 18:35+01:00',\n",
       "     'scheduledTimeUtc': '2022-01-23 17:35Z',\n",
       "     'quality': ['Basic']},\n",
       "    'number': 'FR 4067',\n",
       "    'status': 'Unknown',\n",
       "    'codeshareStatus': 'Unknown',\n",
       "    'isCargo': False,\n",
       "    'aircraft': {'model': 'Boeing 737-800'},\n",
       "    'airline': {'name': 'Ryanair'}},\n",
       "   {'movement': {'airport': {'icao': 'HECA', 'iata': 'CAI', 'name': 'Cairo'},\n",
       "     'scheduledTimeLocal': '2022-01-23 13:55+01:00',\n",
       "     'scheduledTimeUtc': '2022-01-23 12:55Z',\n",
       "     'terminal': '1',\n",
       "     'quality': ['Basic']},\n",
       "    'number': 'MS 731',\n",
       "    'status': 'Unknown',\n",
       "    'codeshareStatus': 'Unknown',\n",
       "    'isCargo': False,\n",
       "    'aircraft': {'model': 'Airbus A320 NEO'},\n",
       "    'airline': {'name': 'EgyptAir'}},\n",
       "   {'movement': {'airport': {'icao': 'EPWA', 'iata': 'WAW', 'name': 'Warsaw'},\n",
       "     'scheduledTimeLocal': '2022-01-23 17:45+01:00',\n",
       "     'scheduledTimeUtc': '2022-01-23 16:45Z',\n",
       "     'terminal': '1',\n",
       "     'quality': ['Basic']},\n",
       "    'number': 'LO 389',\n",
       "    'status': 'Unknown',\n",
       "    'codeshareStatus': 'Unknown',\n",
       "    'isCargo': False,\n",
       "    'aircraft': {'model': 'Bombardier Dash 8 Q400 / DHC-8-400'},\n",
       "    'airline': {'name': 'LOT - Polish'}},\n",
       "   {'movement': {'airport': {'icao': 'EIDW', 'iata': 'DUB', 'name': 'Dublin'},\n",
       "     'scheduledTimeLocal': '2022-01-23 20:55+01:00',\n",
       "     'scheduledTimeUtc': '2022-01-23 19:55Z',\n",
       "     'quality': ['Basic']},\n",
       "    'number': 'FR 8558',\n",
       "    'status': 'Unknown',\n",
       "    'codeshareStatus': 'Unknown',\n",
       "    'isCargo': False,\n",
       "    'aircraft': {'model': 'Boeing 737-800'},\n",
       "    'airline': {'name': 'Ryanair'}},\n",
       "   {'movement': {'airport': {'icao': 'LEBL',\n",
       "      'iata': 'BCN',\n",
       "      'name': 'Barcelona'},\n",
       "     'scheduledTimeLocal': '2022-01-23 14:20+01:00',\n",
       "     'scheduledTimeUtc': '2022-01-23 13:20Z',\n",
       "     'terminal': '1',\n",
       "     'quality': ['Basic']},\n",
       "    'number': 'VY 1882',\n",
       "    'status': 'Unknown',\n",
       "    'codeshareStatus': 'Unknown',\n",
       "    'isCargo': False,\n",
       "    'aircraft': {'model': 'Airbus A320'},\n",
       "    'airline': {'name': 'Vueling'}},\n",
       "   {'movement': {'airport': {'icao': 'LEBL',\n",
       "      'iata': 'BCN',\n",
       "      'name': 'Barcelona'},\n",
       "     'scheduledTimeLocal': '2022-01-23 15:15+01:00',\n",
       "     'scheduledTimeUtc': '2022-01-23 14:15Z',\n",
       "     'terminal': '1',\n",
       "     'quality': ['Basic']},\n",
       "    'number': 'U2 5126',\n",
       "    'status': 'Unknown',\n",
       "    'codeshareStatus': 'Unknown',\n",
       "    'isCargo': False,\n",
       "    'aircraft': {'model': 'Airbus A320'},\n",
       "    'airline': {'name': 'easyJet'}},\n",
       "   {'movement': {'airport': {'icao': 'LEBL',\n",
       "      'iata': 'BCN',\n",
       "      'name': 'Barcelona'},\n",
       "     'scheduledTimeLocal': '2022-01-23 18:35+01:00',\n",
       "     'scheduledTimeUtc': '2022-01-23 17:35Z',\n",
       "     'quality': ['Basic']},\n",
       "    'number': 'FR 133',\n",
       "    'status': 'Unknown',\n",
       "    'codeshareStatus': 'Unknown',\n",
       "    'isCargo': False,\n",
       "    'aircraft': {'model': 'Boeing 737-800'},\n",
       "    'airline': {'name': 'Ryanair'}},\n",
       "   {'movement': {'airport': {'icao': 'LEMD', 'iata': 'MAD', 'name': 'Madrid'},\n",
       "     'scheduledTimeLocal': '2022-01-23 18:50+01:00',\n",
       "     'scheduledTimeUtc': '2022-01-23 17:50Z',\n",
       "     'terminal': '1',\n",
       "     'quality': ['Basic']},\n",
       "    'number': 'IB 3672',\n",
       "    'status': 'Unknown',\n",
       "    'codeshareStatus': 'Unknown',\n",
       "    'isCargo': False,\n",
       "    'aircraft': {'model': 'Airbus A320'},\n",
       "    'airline': {'name': 'Iberia'}},\n",
       "   {'movement': {'airport': {'icao': 'LEMD', 'iata': 'MAD', 'name': 'Madrid'},\n",
       "     'scheduledTimeLocal': '2022-01-23 20:05+01:00',\n",
       "     'scheduledTimeUtc': '2022-01-23 19:05Z',\n",
       "     'quality': ['Basic']},\n",
       "    'number': 'FR 2526',\n",
       "    'status': 'Unknown',\n",
       "    'codeshareStatus': 'Unknown',\n",
       "    'isCargo': False,\n",
       "    'aircraft': {'model': 'Boeing 737-800'},\n",
       "    'airline': {'name': 'Ryanair'}},\n",
       "   {'movement': {'airport': {'icao': 'LEMG', 'iata': 'AGP', 'name': 'Málaga'},\n",
       "     'scheduledTimeLocal': '2022-01-23 15:45+01:00',\n",
       "     'scheduledTimeUtc': '2022-01-23 14:45Z',\n",
       "     'terminal': '1',\n",
       "     'quality': ['Basic']},\n",
       "    'number': 'U2 5914',\n",
       "    'status': 'Unknown',\n",
       "    'codeshareStatus': 'Unknown',\n",
       "    'isCargo': False,\n",
       "    'aircraft': {'model': 'Airbus A320'},\n",
       "    'airline': {'name': 'easyJet'}},\n",
       "   {'movement': {'airport': {'icao': 'LEMG', 'iata': 'AGP', 'name': 'Málaga'},\n",
       "     'scheduledTimeLocal': '2022-01-23 22:00+01:00',\n",
       "     'scheduledTimeUtc': '2022-01-23 21:00Z',\n",
       "     'quality': ['Basic']},\n",
       "    'number': 'FR 235',\n",
       "    'status': 'Unknown',\n",
       "    'codeshareStatus': 'Unknown',\n",
       "    'isCargo': False,\n",
       "    'aircraft': {'model': 'Boeing 737-800'},\n",
       "    'airline': {'name': 'Ryanair'}},\n",
       "   {'movement': {'airport': {'icao': 'LEPA',\n",
       "      'iata': 'PMI',\n",
       "      'name': 'Palma De Mallorca'},\n",
       "     'scheduledTimeLocal': '2022-01-23 16:50+01:00',\n",
       "     'scheduledTimeUtc': '2022-01-23 15:50Z',\n",
       "     'terminal': '1',\n",
       "     'quality': ['Basic']},\n",
       "    'number': 'U2 5808',\n",
       "    'status': 'Unknown',\n",
       "    'codeshareStatus': 'Unknown',\n",
       "    'isCargo': False,\n",
       "    'aircraft': {'model': 'Airbus A320'},\n",
       "    'airline': {'name': 'easyJet'}},\n",
       "   {'movement': {'airport': {'icao': 'LEPA',\n",
       "      'iata': 'PMI',\n",
       "      'name': 'Palma De Mallorca'},\n",
       "     'scheduledTimeLocal': '2022-01-23 22:30+01:00',\n",
       "     'scheduledTimeUtc': '2022-01-23 21:30Z',\n",
       "     'quality': ['Basic']},\n",
       "    'number': 'FR 111',\n",
       "    'status': 'Unknown',\n",
       "    'codeshareStatus': 'Unknown',\n",
       "    'isCargo': False,\n",
       "    'aircraft': {'model': 'Boeing 737-800'},\n",
       "    'airline': {'name': 'Ryanair'}},\n",
       "   {'movement': {'airport': {'icao': 'LFPG', 'iata': 'CDG', 'name': 'Paris'},\n",
       "     'scheduledTimeLocal': '2022-01-23 14:30+01:00',\n",
       "     'scheduledTimeUtc': '2022-01-23 13:30Z',\n",
       "     'terminal': '1',\n",
       "     'quality': ['Basic']},\n",
       "    'number': 'AF 1234',\n",
       "    'status': 'Unknown',\n",
       "    'codeshareStatus': 'Unknown',\n",
       "    'isCargo': False,\n",
       "    'aircraft': {'model': 'Airbus A320'},\n",
       "    'airline': {'name': 'Air France'}},\n",
       "   {'movement': {'airport': {'icao': 'EKCH',\n",
       "      'iata': 'CPH',\n",
       "      'name': 'Copenhagen'},\n",
       "     'scheduledTimeLocal': '2022-01-23 22:25+01:00',\n",
       "     'scheduledTimeUtc': '2022-01-23 21:25Z',\n",
       "     'terminal': '1',\n",
       "     'quality': ['Basic']},\n",
       "    'number': 'U2 5690',\n",
       "    'status': 'Unknown',\n",
       "    'codeshareStatus': 'Unknown',\n",
       "    'isCargo': False,\n",
       "    'aircraft': {'model': 'Airbus A320'},\n",
       "    'airline': {'name': 'easyJet'}},\n",
       "   {'movement': {'airport': {'icao': 'LBSF', 'iata': 'SOF', 'name': 'Sofia'},\n",
       "     'scheduledTimeLocal': '2022-01-23 22:30+01:00',\n",
       "     'scheduledTimeUtc': '2022-01-23 21:30Z',\n",
       "     'quality': ['Basic']},\n",
       "    'number': 'FR 1595',\n",
       "    'status': 'Unknown',\n",
       "    'codeshareStatus': 'Unknown',\n",
       "    'isCargo': False,\n",
       "    'aircraft': {'model': 'Boeing 737-800'},\n",
       "    'airline': {'name': 'Ryanair'}},\n",
       "   {'movement': {'airport': {'icao': 'LATI', 'iata': 'TIA', 'name': 'Tirana'},\n",
       "     'scheduledTimeLocal': '2022-01-23 17:55+01:00',\n",
       "     'scheduledTimeUtc': '2022-01-23 16:55Z',\n",
       "     'terminal': '0',\n",
       "     'quality': ['Basic']},\n",
       "    'number': 'W6 6611',\n",
       "    'status': 'Unknown',\n",
       "    'codeshareStatus': 'Unknown',\n",
       "    'isCargo': False,\n",
       "    'aircraft': {'model': 'Airbus A321'},\n",
       "    'airline': {'name': 'Wizz Air'}},\n",
       "   {'movement': {'airport': {'icao': 'LFPG', 'iata': 'CDG', 'name': 'Paris'},\n",
       "     'scheduledTimeLocal': '2022-01-23 22:40+01:00',\n",
       "     'scheduledTimeUtc': '2022-01-23 21:40Z',\n",
       "     'terminal': '1',\n",
       "     'quality': ['Basic']},\n",
       "    'number': 'AF 1134',\n",
       "    'status': 'Unknown',\n",
       "    'codeshareStatus': 'Unknown',\n",
       "    'isCargo': False,\n",
       "    'aircraft': {'model': 'Airbus A320'},\n",
       "    'airline': {'name': 'Air France'}},\n",
       "   {'movement': {'airport': {'icao': 'LFPG', 'iata': 'CDG', 'name': 'Paris'},\n",
       "     'scheduledTimeLocal': '2022-01-23 17:10+01:00',\n",
       "     'scheduledTimeUtc': '2022-01-23 16:10Z',\n",
       "     'terminal': '1',\n",
       "     'quality': ['Basic']},\n",
       "    'number': 'AF 1834',\n",
       "    'status': 'Unknown',\n",
       "    'codeshareStatus': 'Unknown',\n",
       "    'isCargo': False,\n",
       "    'aircraft': {'model': 'Airbus A320'},\n",
       "    'airline': {'name': 'Air France'}},\n",
       "   {'movement': {'airport': {'icao': 'LFSB',\n",
       "      'iata': 'BSL',\n",
       "      'name': 'Bâle/Mulhouse'},\n",
       "     'scheduledTimeLocal': '2022-01-23 18:30+01:00',\n",
       "     'scheduledTimeUtc': '2022-01-23 17:30Z',\n",
       "     'terminal': '1',\n",
       "     'quality': ['Basic']},\n",
       "    'number': 'U2 5638',\n",
       "    'status': 'Unknown',\n",
       "    'codeshareStatus': 'Unknown',\n",
       "    'isCargo': False,\n",
       "    'aircraft': {'model': 'Airbus A320'},\n",
       "    'airline': {'name': 'easyJet'}},\n",
       "   {'movement': {'airport': {'icao': 'LFPG', 'iata': 'CDG', 'name': 'Paris'},\n",
       "     'scheduledTimeLocal': '2022-01-23 19:50+01:00',\n",
       "     'scheduledTimeUtc': '2022-01-23 18:50Z',\n",
       "     'terminal': '1',\n",
       "     'quality': ['Basic']},\n",
       "    'number': 'U2 5656',\n",
       "    'status': 'Unknown',\n",
       "    'codeshareStatus': 'Unknown',\n",
       "    'isCargo': False,\n",
       "    'aircraft': {'model': 'Airbus A320'},\n",
       "    'airline': {'name': 'easyJet'}},\n",
       "   {'movement': {'airport': {'icao': 'LGAV', 'iata': 'ATH', 'name': 'Athens'},\n",
       "     'scheduledTimeLocal': '2022-01-23 13:35+01:00',\n",
       "     'scheduledTimeUtc': '2022-01-23 12:35Z',\n",
       "     'quality': ['Basic']},\n",
       "    'number': 'FR 171',\n",
       "    'status': 'Unknown',\n",
       "    'codeshareStatus': 'Unknown',\n",
       "    'isCargo': False,\n",
       "    'aircraft': {'model': 'Boeing 737-800'},\n",
       "    'airline': {'name': 'Ryanair'}},\n",
       "   {'movement': {'airport': {'icao': 'LGAV', 'iata': 'ATH', 'name': 'Athens'},\n",
       "     'scheduledTimeLocal': '2022-01-23 16:20+01:00',\n",
       "     'scheduledTimeUtc': '2022-01-23 15:20Z',\n",
       "     'terminal': '1',\n",
       "     'quality': ['Basic']},\n",
       "    'number': 'A3 822',\n",
       "    'status': 'Unknown',\n",
       "    'codeshareStatus': 'IsCodeshared',\n",
       "    'isCargo': False,\n",
       "    'aircraft': {'model': 'Airbus A320'},\n",
       "    'airline': {'name': 'Aegean'}},\n",
       "   {'movement': {'airport': {'icao': 'LFPO', 'iata': 'ORY', 'name': 'Paris'},\n",
       "     'scheduledTimeLocal': '2022-01-23 15:50+01:00',\n",
       "     'scheduledTimeUtc': '2022-01-23 14:50Z',\n",
       "     'terminal': '1',\n",
       "     'quality': ['Basic']},\n",
       "    'number': 'U2 5532',\n",
       "    'status': 'Unknown',\n",
       "    'codeshareStatus': 'Unknown',\n",
       "    'isCargo': False,\n",
       "    'aircraft': {'model': 'Airbus A320'},\n",
       "    'airline': {'name': 'easyJet'}},\n",
       "   {'movement': {'airport': {'icao': 'LHBP',\n",
       "      'iata': 'BUD',\n",
       "      'name': 'Budapest'},\n",
       "     'scheduledTimeLocal': '2022-01-23 12:05+01:00',\n",
       "     'scheduledTimeUtc': '2022-01-23 11:05Z',\n",
       "     'terminal': '0',\n",
       "     'quality': ['Basic']},\n",
       "    'number': 'W6 2315',\n",
       "    'status': 'Unknown',\n",
       "    'codeshareStatus': 'Unknown',\n",
       "    'isCargo': False,\n",
       "    'aircraft': {'model': 'Airbus A320'},\n",
       "    'airline': {'name': 'Wizz Air'}},\n",
       "   {'movement': {'airport': {'icao': 'LIMC', 'iata': 'MXP', 'name': 'Milan'},\n",
       "     'scheduledTimeLocal': '2022-01-23 19:50+01:00',\n",
       "     'scheduledTimeUtc': '2022-01-23 18:50Z',\n",
       "     'terminal': '1',\n",
       "     'quality': ['Basic']},\n",
       "    'number': 'U2 4678',\n",
       "    'status': 'Unknown',\n",
       "    'codeshareStatus': 'Unknown',\n",
       "    'isCargo': False,\n",
       "    'aircraft': {'model': 'Airbus A319'},\n",
       "    'airline': {'name': 'easyJet'}},\n",
       "   {'movement': {'airport': {'icao': 'LIME', 'iata': 'BGY', 'name': 'Bergamo'},\n",
       "     'scheduledTimeLocal': '2022-01-23 12:05+01:00',\n",
       "     'scheduledTimeUtc': '2022-01-23 11:05Z',\n",
       "     'quality': ['Basic']},\n",
       "    'number': 'FR 4731',\n",
       "    'status': 'Unknown',\n",
       "    'codeshareStatus': 'Unknown',\n",
       "    'isCargo': False,\n",
       "    'aircraft': {'model': 'Boeing 737-800'},\n",
       "    'airline': {'name': 'Ryanair'}},\n",
       "   {'movement': {'airport': {'icao': 'LFPO', 'iata': 'ORY', 'name': 'Paris'},\n",
       "     'scheduledTimeLocal': '2022-01-23 15:30+01:00',\n",
       "     'scheduledTimeUtc': '2022-01-23 14:30Z',\n",
       "     'terminal': '2',\n",
       "     'quality': ['Basic']},\n",
       "    'number': 'TO 3754',\n",
       "    'status': 'Unknown',\n",
       "    'codeshareStatus': 'Unknown',\n",
       "    'isCargo': False,\n",
       "    'aircraft': {'model': 'Boeing 737-800'},\n",
       "    'airline': {'name': 'Transavia France'}},\n",
       "   {'movement': {'airport': {'icao': 'LIPH', 'iata': 'TSF', 'name': 'Treviso'},\n",
       "     'scheduledTimeLocal': '2022-01-23 16:15+01:00',\n",
       "     'scheduledTimeUtc': '2022-01-23 15:15Z',\n",
       "     'quality': ['Basic']},\n",
       "    'number': 'FR 4721',\n",
       "    'status': 'Unknown',\n",
       "    'codeshareStatus': 'Unknown',\n",
       "    'isCargo': False,\n",
       "    'aircraft': {'model': 'Boeing 737-800'},\n",
       "    'airline': {'name': 'Ryanair'}},\n",
       "   {'movement': {'airport': {'icao': 'LIRA', 'iata': 'CIA', 'name': 'Roma'},\n",
       "     'scheduledTimeLocal': '2022-01-23 17:30+01:00',\n",
       "     'scheduledTimeUtc': '2022-01-23 16:30Z',\n",
       "     'quality': ['Basic']},\n",
       "    'number': 'FR 141',\n",
       "    'status': 'Unknown',\n",
       "    'codeshareStatus': 'Unknown',\n",
       "    'isCargo': False,\n",
       "    'aircraft': {'model': 'Boeing 737-800'},\n",
       "    'airline': {'name': 'Ryanair'}},\n",
       "   {'movement': {'airport': {'icao': 'LIRA', 'iata': 'CIA', 'name': 'Roma'},\n",
       "     'scheduledTimeLocal': '2022-01-23 20:10+01:00',\n",
       "     'scheduledTimeUtc': '2022-01-23 19:10Z',\n",
       "     'quality': ['Basic']},\n",
       "    'number': 'FR 135',\n",
       "    'status': 'Unknown',\n",
       "    'codeshareStatus': 'Unknown',\n",
       "    'isCargo': False,\n",
       "    'aircraft': {'model': 'Boeing 737-800'},\n",
       "    'airline': {'name': 'Ryanair'}},\n",
       "   {'movement': {'airport': {'icao': 'LIRF', 'iata': 'FCO', 'name': 'Rome'},\n",
       "     'scheduledTimeLocal': '2022-01-23 21:15+01:00',\n",
       "     'scheduledTimeUtc': '2022-01-23 20:15Z',\n",
       "     'terminal': '1',\n",
       "     'quality': ['Basic']},\n",
       "    'number': 'U2 5708',\n",
       "    'status': 'Unknown',\n",
       "    'codeshareStatus': 'Unknown',\n",
       "    'isCargo': False,\n",
       "    'aircraft': {'model': 'Airbus A320'},\n",
       "    'airline': {'name': 'easyJet'}},\n",
       "   {'movement': {'airport': {'icao': 'LLBG',\n",
       "      'iata': 'TLV',\n",
       "      'name': 'Tel Aviv Yafo'},\n",
       "     'scheduledTimeLocal': '2022-01-23 17:30+01:00',\n",
       "     'scheduledTimeUtc': '2022-01-23 16:30Z',\n",
       "     'quality': ['Basic']},\n",
       "    'number': 'FR 6502',\n",
       "    'status': 'Unknown',\n",
       "    'codeshareStatus': 'Unknown',\n",
       "    'isCargo': False,\n",
       "    'aircraft': {'model': 'Boeing 737-800'},\n",
       "    'airline': {'name': 'Ryanair'}},\n",
       "   {'movement': {'airport': {'icao': 'LLBG',\n",
       "      'iata': 'TLV',\n",
       "      'name': 'Tel Aviv Yafo'},\n",
       "     'scheduledTimeLocal': '2022-01-23 21:40+01:00',\n",
       "     'scheduledTimeUtc': '2022-01-23 20:40Z',\n",
       "     'quality': ['Basic']},\n",
       "    'number': 'FR 6473',\n",
       "    'status': 'Unknown',\n",
       "    'codeshareStatus': 'Unknown',\n",
       "    'isCargo': False,\n",
       "    'aircraft': {'model': 'Boeing 737-800'},\n",
       "    'airline': {'name': 'Ryanair'}},\n",
       "   {'movement': {'airport': {'icao': 'LOWW', 'iata': 'VIE', 'name': 'Vienna'},\n",
       "     'scheduledTimeLocal': '2022-01-23 14:20+01:00',\n",
       "     'scheduledTimeUtc': '2022-01-23 13:20Z',\n",
       "     'terminal': '1',\n",
       "     'quality': ['Basic']},\n",
       "    'number': 'OS 229',\n",
       "    'status': 'Unknown',\n",
       "    'codeshareStatus': 'Unknown',\n",
       "    'isCargo': False,\n",
       "    'aircraft': {'model': 'Airbus A320'},\n",
       "    'airline': {'name': 'Austrian'}},\n",
       "   {'movement': {'airport': {'icao': 'LOWW', 'iata': 'VIE', 'name': 'Vienna'},\n",
       "     'scheduledTimeLocal': '2022-01-23 18:40+01:00',\n",
       "     'scheduledTimeUtc': '2022-01-23 17:40Z',\n",
       "     'terminal': '1',\n",
       "     'quality': ['Basic']},\n",
       "    'number': 'OS 235',\n",
       "    'status': 'Unknown',\n",
       "    'codeshareStatus': 'Unknown',\n",
       "    'isCargo': False,\n",
       "    'aircraft': {'model': 'Airbus A320'},\n",
       "    'airline': {'name': 'Austrian'}},\n",
       "   {'movement': {'airport': {'icao': 'LOWW', 'iata': 'VIE', 'name': 'Vienna'},\n",
       "     'scheduledTimeLocal': '2022-01-23 22:10+01:00',\n",
       "     'scheduledTimeUtc': '2022-01-23 21:10Z',\n",
       "     'terminal': '1',\n",
       "     'quality': ['Basic']},\n",
       "    'number': 'OS 239',\n",
       "    'status': 'Unknown',\n",
       "    'codeshareStatus': 'Unknown',\n",
       "    'isCargo': False,\n",
       "    'aircraft': {'model': 'Airbus A320'},\n",
       "    'airline': {'name': 'Austrian'}},\n",
       "   {'movement': {'airport': {'icao': 'LPFR', 'iata': 'FAO', 'name': 'Faro'},\n",
       "     'scheduledTimeLocal': '2022-01-23 21:50+01:00',\n",
       "     'scheduledTimeUtc': '2022-01-23 20:50Z',\n",
       "     'quality': ['Basic']},\n",
       "    'number': 'FR 91',\n",
       "    'status': 'Unknown',\n",
       "    'codeshareStatus': 'Unknown',\n",
       "    'isCargo': False,\n",
       "    'aircraft': {'model': 'Boeing 737-800'},\n",
       "    'airline': {'name': 'Ryanair'}},\n",
       "   {'movement': {'airport': {'icao': 'LIME', 'iata': 'BGY', 'name': 'Bergamo'},\n",
       "     'scheduledTimeLocal': '2022-01-23 22:30+01:00',\n",
       "     'scheduledTimeUtc': '2022-01-23 21:30Z',\n",
       "     'quality': ['Basic']},\n",
       "    'number': 'FR 4733',\n",
       "    'status': 'Unknown',\n",
       "    'codeshareStatus': 'Unknown',\n",
       "    'isCargo': False,\n",
       "    'aircraft': {'model': 'Boeing 737-800'},\n",
       "    'airline': {'name': 'Ryanair'}},\n",
       "   {'movement': {'airport': {'icao': 'LFSB',\n",
       "      'iata': 'BSL',\n",
       "      'name': 'Bâle/Mulhouse'},\n",
       "     'scheduledTimeLocal': '2022-01-23 20:30+01:00',\n",
       "     'scheduledTimeUtc': '2022-01-23 19:30Z',\n",
       "     'terminal': '1',\n",
       "     'quality': ['Basic']},\n",
       "    'number': 'U2 5640',\n",
       "    'status': 'Unknown',\n",
       "    'codeshareStatus': 'Unknown',\n",
       "    'isCargo': False,\n",
       "    'aircraft': {'model': 'Airbus A319'},\n",
       "    'airline': {'name': 'easyJet'}},\n",
       "   {'movement': {'airport': {'icao': 'LGTS',\n",
       "      'iata': 'SKG',\n",
       "      'name': 'Thessaloniki'},\n",
       "     'scheduledTimeLocal': '2022-01-23 12:00+01:00',\n",
       "     'scheduledTimeUtc': '2022-01-23 11:00Z',\n",
       "     'quality': ['Basic']},\n",
       "    'number': 'FR 1147',\n",
       "    'status': 'Unknown',\n",
       "    'codeshareStatus': 'Unknown',\n",
       "    'isCargo': False,\n",
       "    'aircraft': {'model': 'Boeing 737-800'},\n",
       "    'airline': {'name': 'Ryanair'}},\n",
       "   {'movement': {'airport': {'icao': 'LPPT', 'iata': 'LIS', 'name': 'Lisbon'},\n",
       "     'scheduledTimeLocal': '2022-01-23 12:05+01:00',\n",
       "     'scheduledTimeUtc': '2022-01-23 11:05Z',\n",
       "     'terminal': '1',\n",
       "     'quality': ['Basic']},\n",
       "    'number': 'TP 536',\n",
       "    'status': 'Unknown',\n",
       "    'codeshareStatus': 'Unknown',\n",
       "    'isCargo': False,\n",
       "    'aircraft': {'model': 'Airbus A319'},\n",
       "    'airline': {'name': 'TAP Air Portugal'}},\n",
       "   {'movement': {'airport': {'icao': 'LPPR', 'iata': 'OPO', 'name': 'Porto'},\n",
       "     'scheduledTimeLocal': '2022-01-23 19:45+01:00',\n",
       "     'scheduledTimeUtc': '2022-01-23 18:45Z',\n",
       "     'quality': ['Basic']},\n",
       "    'number': 'FR 2945',\n",
       "    'status': 'Unknown',\n",
       "    'codeshareStatus': 'Unknown',\n",
       "    'isCargo': False,\n",
       "    'aircraft': {'model': 'Boeing 737-800'},\n",
       "    'airline': {'name': 'Ryanair'}},\n",
       "   {'movement': {'airport': {'icao': 'LROP',\n",
       "      'iata': 'OTP',\n",
       "      'name': 'Bucharest'},\n",
       "     'scheduledTimeLocal': '2022-01-23 22:00+01:00',\n",
       "     'scheduledTimeUtc': '2022-01-23 21:00Z',\n",
       "     'quality': ['Basic']},\n",
       "    'number': 'FR 328',\n",
       "    'status': 'Unknown',\n",
       "    'codeshareStatus': 'Unknown',\n",
       "    'isCargo': False,\n",
       "    'aircraft': {'model': 'Boeing 737-800'},\n",
       "    'airline': {'name': 'Ryanair'}},\n",
       "   {'movement': {'airport': {'icao': 'LSGG', 'iata': 'GVA', 'name': 'Geneva'},\n",
       "     'scheduledTimeLocal': '2022-01-23 22:40+01:00',\n",
       "     'scheduledTimeUtc': '2022-01-23 21:40Z',\n",
       "     'terminal': '1',\n",
       "     'quality': ['Basic']},\n",
       "    'number': 'U2 1595',\n",
       "    'status': 'Unknown',\n",
       "    'codeshareStatus': 'Unknown',\n",
       "    'isCargo': False,\n",
       "    'aircraft': {'model': 'Airbus A320'},\n",
       "    'airline': {'name': 'easyJet'}},\n",
       "   {'movement': {'airport': {'icao': 'LSZH', 'iata': 'ZRH', 'name': 'Zurich'},\n",
       "     'scheduledTimeLocal': '2022-01-23 14:00+01:00',\n",
       "     'scheduledTimeUtc': '2022-01-23 13:00Z',\n",
       "     'terminal': '1',\n",
       "     'quality': ['Basic']},\n",
       "    'number': 'LX 966',\n",
       "    'status': 'Unknown',\n",
       "    'codeshareStatus': 'Unknown',\n",
       "    'isCargo': False,\n",
       "    'aircraft': {'model': 'Airbus A320'},\n",
       "    'airline': {'name': 'SWISS'}},\n",
       "   {'movement': {'airport': {'icao': 'LSZH', 'iata': 'ZRH', 'name': 'Zurich'},\n",
       "     'scheduledTimeLocal': '2022-01-23 19:45+01:00',\n",
       "     'scheduledTimeUtc': '2022-01-23 18:45Z',\n",
       "     'terminal': '1',\n",
       "     'quality': ['Basic']},\n",
       "    'number': 'LX 978',\n",
       "    'status': 'Unknown',\n",
       "    'codeshareStatus': 'Unknown',\n",
       "    'isCargo': False,\n",
       "    'aircraft': {'model': 'Airbus A321'},\n",
       "    'airline': {'name': 'SWISS'}},\n",
       "   {'movement': {'airport': {'icao': 'LSZH', 'iata': 'ZRH', 'name': 'Zurich'},\n",
       "     'scheduledTimeLocal': '2022-01-23 22:30+01:00',\n",
       "     'scheduledTimeUtc': '2022-01-23 21:30Z',\n",
       "     'terminal': '1',\n",
       "     'quality': ['Basic']},\n",
       "    'number': 'U2 5874',\n",
       "    'status': 'Unknown',\n",
       "    'codeshareStatus': 'Unknown',\n",
       "    'isCargo': False,\n",
       "    'aircraft': {'model': 'Airbus A320'},\n",
       "    'airline': {'name': 'easyJet'}},\n",
       "   {'movement': {'airport': {'icao': 'LTAI', 'iata': 'AYT', 'name': 'Antalya'},\n",
       "     'scheduledTimeLocal': '2022-01-23 15:45+01:00',\n",
       "     'scheduledTimeUtc': '2022-01-23 14:45Z',\n",
       "     'terminal': '1',\n",
       "     'quality': ['Basic']},\n",
       "    'number': 'XQ 160',\n",
       "    'status': 'Unknown',\n",
       "    'codeshareStatus': 'Unknown',\n",
       "    'isCargo': False,\n",
       "    'aircraft': {'model': 'Boeing 737-800'},\n",
       "    'airline': {'name': 'SunExpress'}},\n",
       "   {'movement': {'airport': {'icao': 'LPPT', 'iata': 'LIS', 'name': 'Lisbon'},\n",
       "     'scheduledTimeLocal': '2022-01-23 22:20+01:00',\n",
       "     'scheduledTimeUtc': '2022-01-23 21:20Z',\n",
       "     'quality': ['Basic']},\n",
       "    'number': 'FR 1143',\n",
       "    'status': 'Unknown',\n",
       "    'codeshareStatus': 'Unknown',\n",
       "    'isCargo': False,\n",
       "    'aircraft': {'model': 'Boeing 737-800'},\n",
       "    'airline': {'name': 'Ryanair'}},\n",
       "   {'movement': {'airport': {'icao': 'LTFJ',\n",
       "      'iata': 'SAW',\n",
       "      'name': 'Istanbul'},\n",
       "     'scheduledTimeLocal': '2022-01-23 12:30+01:00',\n",
       "     'scheduledTimeUtc': '2022-01-23 11:30Z',\n",
       "     'terminal': '1',\n",
       "     'quality': ['Basic']},\n",
       "    'number': 'TK 7728',\n",
       "    'status': 'Unknown',\n",
       "    'codeshareStatus': 'Unknown',\n",
       "    'isCargo': False,\n",
       "    'aircraft': {'model': 'Boeing 737-800'},\n",
       "    'airline': {'name': 'Turkish'}},\n",
       "   {'movement': {'airport': {'icao': 'LPPT', 'iata': 'LIS', 'name': 'Lisbon'},\n",
       "     'scheduledTimeLocal': '2022-01-23 22:50+01:00',\n",
       "     'scheduledTimeUtc': '2022-01-23 21:50Z',\n",
       "     'terminal': '1',\n",
       "     'quality': ['Basic']},\n",
       "    'number': 'TP 532',\n",
       "    'status': 'Unknown',\n",
       "    'codeshareStatus': 'Unknown',\n",
       "    'isCargo': False,\n",
       "    'aircraft': {'model': 'Airbus A320'},\n",
       "    'airline': {'name': 'TAP Air Portugal'}},\n",
       "   {'movement': {'airport': {'icao': 'LTBJ', 'iata': 'ADB', 'name': 'İzmir'},\n",
       "     'scheduledTimeLocal': '2022-01-23 12:50+01:00',\n",
       "     'scheduledTimeUtc': '2022-01-23 11:50Z',\n",
       "     'terminal': '1',\n",
       "     'quality': ['Basic']},\n",
       "    'number': 'XQ 946',\n",
       "    'status': 'Unknown',\n",
       "    'codeshareStatus': 'Unknown',\n",
       "    'isCargo': False,\n",
       "    'aircraft': {'model': 'Boeing 737-800'},\n",
       "    'airline': {'name': 'SunExpress'}},\n",
       "   {'movement': {'airport': {'icao': 'LQTZ', 'iata': 'TZL', 'name': 'Tuzla'},\n",
       "     'scheduledTimeLocal': '2022-01-23 13:55+01:00',\n",
       "     'scheduledTimeUtc': '2022-01-23 12:55Z',\n",
       "     'terminal': '0',\n",
       "     'quality': ['Basic']},\n",
       "    'number': 'W6 4275',\n",
       "    'status': 'Unknown',\n",
       "    'codeshareStatus': 'Unknown',\n",
       "    'isCargo': False,\n",
       "    'aircraft': {'model': 'Airbus A320'},\n",
       "    'airline': {'name': 'Wizz Air'}},\n",
       "   {'movement': {'airport': {'icao': 'LYBE',\n",
       "      'iata': 'BEG',\n",
       "      'name': 'Belgrade'},\n",
       "     'scheduledTimeLocal': '2022-01-23 20:00+01:00',\n",
       "     'scheduledTimeUtc': '2022-01-23 19:00Z',\n",
       "     'terminal': '1',\n",
       "     'quality': ['Basic']},\n",
       "    'number': 'JU 354',\n",
       "    'status': 'Unknown',\n",
       "    'codeshareStatus': 'Unknown',\n",
       "    'isCargo': False,\n",
       "    'aircraft': {'model': 'Airbus A320'},\n",
       "    'airline': {'name': 'Air Serbia'}},\n",
       "   {'movement': {'airport': {'icao': 'LYPG',\n",
       "      'iata': 'TGD',\n",
       "      'name': 'Podgorica'},\n",
       "     'scheduledTimeLocal': '2022-01-23 12:00+01:00',\n",
       "     'scheduledTimeUtc': '2022-01-23 11:00Z',\n",
       "     'quality': ['Basic']},\n",
       "    'number': 'FR 1579',\n",
       "    'status': 'Unknown',\n",
       "    'codeshareStatus': 'Unknown',\n",
       "    'isCargo': False,\n",
       "    'aircraft': {'model': 'Boeing 737-800'},\n",
       "    'airline': {'name': 'Ryanair'}},\n",
       "   {'movement': {'airport': {'icao': 'LTFJ',\n",
       "      'iata': 'SAW',\n",
       "      'name': 'Istanbul'},\n",
       "     'scheduledTimeLocal': '2022-01-23 13:15+01:00',\n",
       "     'scheduledTimeUtc': '2022-01-23 12:15Z',\n",
       "     'terminal': '0',\n",
       "     'quality': ['Basic']},\n",
       "    'number': 'PC 979',\n",
       "    'status': 'Unknown',\n",
       "    'codeshareStatus': 'Unknown',\n",
       "    'isCargo': False,\n",
       "    'aircraft': {'model': 'Boeing 737-800'},\n",
       "    'airline': {'name': 'Pegasus'}},\n",
       "   {'movement': {'airport': {'icao': 'LTFM',\n",
       "      'iata': 'IST',\n",
       "      'name': 'Istanbul'},\n",
       "     'scheduledTimeLocal': '2022-01-23 17:30+01:00',\n",
       "     'scheduledTimeUtc': '2022-01-23 16:30Z',\n",
       "     'terminal': '1',\n",
       "     'quality': ['Basic']},\n",
       "    'number': 'TK 1723',\n",
       "    'status': 'Unknown',\n",
       "    'codeshareStatus': 'Unknown',\n",
       "    'isCargo': False,\n",
       "    'aircraft': {'model': 'Boeing 787-9'},\n",
       "    'airline': {'name': 'Turkish'}},\n",
       "   {'movement': {'airport': {'icao': 'UKBB', 'iata': 'KBP', 'name': 'Kiev'},\n",
       "     'scheduledTimeLocal': '2022-01-23 18:05+01:00',\n",
       "     'scheduledTimeUtc': '2022-01-23 17:05Z',\n",
       "     'quality': ['Basic']},\n",
       "    'number': 'FR 3199',\n",
       "    'status': 'Unknown',\n",
       "    'codeshareStatus': 'Unknown',\n",
       "    'isCargo': False,\n",
       "    'aircraft': {'model': 'Boeing 737-800'},\n",
       "    'airline': {'name': 'Ryanair'}},\n",
       "   {'movement': {'airport': {'icao': 'LTFM',\n",
       "      'iata': 'IST',\n",
       "      'name': 'Istanbul'},\n",
       "     'scheduledTimeLocal': '2022-01-23 13:30+01:00',\n",
       "     'scheduledTimeUtc': '2022-01-23 12:30Z',\n",
       "     'terminal': '1',\n",
       "     'quality': ['Basic']},\n",
       "    'number': 'TK 1725',\n",
       "    'status': 'Unknown',\n",
       "    'codeshareStatus': 'Unknown',\n",
       "    'isCargo': False,\n",
       "    'aircraft': {'model': 'Airbus A321'},\n",
       "    'airline': {'name': 'Turkish'}},\n",
       "   {'movement': {'airport': {'icao': 'OMDB',\n",
       "      'iata': 'DXB',\n",
       "      'name': 'Dubai City'},\n",
       "     'scheduledTimeLocal': '2022-01-23 12:10+01:00',\n",
       "     'scheduledTimeUtc': '2022-01-23 11:10Z',\n",
       "     'terminal': '0',\n",
       "     'quality': ['Basic']},\n",
       "    'number': '6Y 3179',\n",
       "    'status': 'Unknown',\n",
       "    'codeshareStatus': 'Unknown',\n",
       "    'isCargo': False,\n",
       "    'aircraft': {'model': 'Airbus A321'},\n",
       "    'airline': {'name': 'SmartLynx'}},\n",
       "   {'movement': {'airport': {'icao': 'OTHH', 'iata': 'DOH', 'name': 'Doha'},\n",
       "     'scheduledTimeLocal': '2022-01-23 12:40+01:00',\n",
       "     'scheduledTimeUtc': '2022-01-23 11:40Z',\n",
       "     'terminal': '1',\n",
       "     'quality': ['Basic']},\n",
       "    'number': 'QR 81',\n",
       "    'status': 'Unknown',\n",
       "    'codeshareStatus': 'Unknown',\n",
       "    'isCargo': False,\n",
       "    'aircraft': {'model': 'Boeing 787-8'},\n",
       "    'airline': {'name': 'Qatar Airways'}},\n",
       "   {'movement': {'airport': {'icao': 'UKKK', 'iata': 'IEV', 'name': 'Kiev'},\n",
       "     'scheduledTimeLocal': '2022-01-23 20:30+01:00',\n",
       "     'scheduledTimeUtc': '2022-01-23 19:30Z',\n",
       "     'terminal': '0',\n",
       "     'quality': ['Basic']},\n",
       "    'number': 'W6 6113',\n",
       "    'status': 'Unknown',\n",
       "    'codeshareStatus': 'Unknown',\n",
       "    'isCargo': False,\n",
       "    'aircraft': {'model': 'Airbus A320'},\n",
       "    'airline': {'name': 'Wizz Air'}},\n",
       "   {'movement': {'airport': {'icao': 'UUEE', 'iata': 'SVO', 'name': 'Moscow'},\n",
       "     'scheduledTimeLocal': '2022-01-23 12:55+01:00',\n",
       "     'scheduledTimeUtc': '2022-01-23 11:55Z',\n",
       "     'terminal': '1',\n",
       "     'quality': ['Basic']},\n",
       "    'number': 'SU 2568',\n",
       "    'status': 'Unknown',\n",
       "    'codeshareStatus': 'IsOperator',\n",
       "    'isCargo': False,\n",
       "    'aircraft': {'model': 'Airbus A320'},\n",
       "    'airline': {'name': 'Aeroflot'}},\n",
       "   {'movement': {'airport': {'icao': 'UMKK',\n",
       "      'iata': 'KGD',\n",
       "      'name': 'Kaliningrad'},\n",
       "     'scheduledTimeLocal': '2022-01-23 13:10+01:00',\n",
       "     'scheduledTimeUtc': '2022-01-23 12:10Z',\n",
       "     'terminal': '1',\n",
       "     'quality': ['Basic']},\n",
       "    'number': 'EO 2267',\n",
       "    'status': 'Unknown',\n",
       "    'codeshareStatus': 'Unknown',\n",
       "    'isCargo': False,\n",
       "    'aircraft': {'model': 'Embraer 190'},\n",
       "    'airline': {'name': 'Pegas Fly'}},\n",
       "   {'movement': {'airport': {'icao': 'UUEE', 'iata': 'SVO', 'name': 'Moscow'},\n",
       "     'scheduledTimeLocal': '2022-01-23 17:55+01:00',\n",
       "     'scheduledTimeUtc': '2022-01-23 16:55Z',\n",
       "     'terminal': '1',\n",
       "     'quality': ['Basic']},\n",
       "    'number': 'SU 2664',\n",
       "    'status': 'Unknown',\n",
       "    'codeshareStatus': 'IsOperator',\n",
       "    'isCargo': False,\n",
       "    'aircraft': {'model': 'Airbus A320'},\n",
       "    'airline': {'name': 'Aeroflot'}},\n",
       "   {'movement': {'airport': {'icao': 'UUWW', 'iata': 'VKO', 'name': 'Moscow'},\n",
       "     'scheduledTimeLocal': '2022-01-23 18:20+01:00',\n",
       "     'scheduledTimeUtc': '2022-01-23 17:20Z',\n",
       "     'terminal': '1',\n",
       "     'quality': ['Basic']},\n",
       "    'number': 'DP 935',\n",
       "    'status': 'Unknown',\n",
       "    'codeshareStatus': 'Unknown',\n",
       "    'isCargo': False,\n",
       "    'aircraft': {'model': 'Boeing 737-800'},\n",
       "    'airline': {'name': 'Pobeda'}}]}]"
      ]
     },
     "execution_count": 16,
     "metadata": {},
     "output_type": "execute_result"
    }
   ],
   "source": [
    "response_one"
   ]
  },
  {
   "cell_type": "code",
   "execution_count": 18,
   "id": "55c530e4-3d89-4731-b09f-149003c77891",
   "metadata": {
    "tags": []
   },
   "outputs": [
    {
     "data": {
      "application/json": [
       {
        "arrivals": [
         {
          "aircraft": {
           "model": "Airbus A320"
          },
          "airline": {
           "name": "Lufthansa"
          },
          "codeshareStatus": "IsCodeshared",
          "isCargo": false,
          "movement": {
           "airport": {
            "iata": "FRA",
            "icao": "EDDF",
            "name": "Frankfurt-am-Main"
           },
           "quality": [
            "Basic"
           ],
           "scheduledTimeLocal": "2022-01-23 11:55+01:00",
           "scheduledTimeUtc": "2022-01-23 10:55Z",
           "terminal": "1"
          },
          "number": "LH 180",
          "status": "Unknown"
         },
         {
          "aircraft": {
           "model": "Airbus A320"
          },
          "airline": {
           "name": "Lufthansa"
          },
          "codeshareStatus": "IsCodeshared",
          "isCargo": false,
          "movement": {
           "airport": {
            "iata": "MUC",
            "icao": "EDDM",
            "name": "Munich"
           },
           "quality": [
            "Basic"
           ],
           "scheduledTimeLocal": "2022-01-23 08:10+01:00",
           "scheduledTimeUtc": "2022-01-23 07:10Z",
           "terminal": "1"
          },
          "number": "LH 1928",
          "status": "Unknown"
         },
         {
          "aircraft": {
           "model": "Airbus A320"
          },
          "airline": {
           "name": "Lufthansa"
          },
          "codeshareStatus": "IsCodeshared",
          "isCargo": false,
          "movement": {
           "airport": {
            "iata": "FRA",
            "icao": "EDDF",
            "name": "Frankfurt-am-Main"
           },
           "quality": [
            "Basic"
           ],
           "scheduledTimeLocal": "2022-01-23 09:55+01:00",
           "scheduledTimeUtc": "2022-01-23 08:55Z",
           "terminal": "1"
          },
          "number": "LH 176",
          "status": "Unknown"
         },
         {
          "aircraft": {
           "model": "Embraer 190"
          },
          "airline": {
           "name": "Finnair"
          },
          "codeshareStatus": "Unknown",
          "isCargo": false,
          "movement": {
           "airport": {
            "iata": "HEL",
            "icao": "EFHK",
            "name": "Helsinki"
           },
           "quality": [
            "Basic"
           ],
           "scheduledTimeLocal": "2022-01-23 08:20+01:00",
           "scheduledTimeUtc": "2022-01-23 07:20Z",
           "terminal": "1"
          },
          "number": "AY 1431",
          "status": "Unknown"
         },
         {
          "aircraft": {
           "model": "Airbus A319"
          },
          "airline": {
           "name": "British Airways"
          },
          "codeshareStatus": "IsCodeshared",
          "isCargo": false,
          "movement": {
           "airport": {
            "iata": "LHR",
            "icao": "EGLL",
            "name": "London"
           },
           "quality": [
            "Basic"
           ],
           "scheduledTimeLocal": "2022-01-23 11:25+01:00",
           "scheduledTimeUtc": "2022-01-23 10:25Z",
           "terminal": "1"
          },
          "number": "BA 992",
          "status": "Unknown"
         },
         {
          "aircraft": {
           "model": "Airbus A320"
          },
          "airline": {
           "name": "Lufthansa"
          },
          "codeshareStatus": "IsCodeshared",
          "isCargo": false,
          "movement": {
           "airport": {
            "iata": "FRA",
            "icao": "EDDF",
            "name": "Frankfurt-am-Main"
           },
           "quality": [
            "Basic"
           ],
           "scheduledTimeLocal": "2022-01-23 08:55+01:00",
           "scheduledTimeUtc": "2022-01-23 07:55Z",
           "terminal": "1"
          },
          "number": "LH 172",
          "status": "Unknown"
         },
         {
          "aircraft": {
           "model": "Boeing 737-800"
          },
          "airline": {
           "name": "Ryanair"
          },
          "codeshareStatus": "Unknown",
          "isCargo": false,
          "movement": {
           "airport": {
            "iata": "STN",
            "icao": "EGSS",
            "name": "London"
           },
           "quality": [
            "Basic"
           ],
           "scheduledTimeLocal": "2022-01-23 10:50+01:00",
           "scheduledTimeUtc": "2022-01-23 09:50Z"
          },
          "number": "FR 3911",
          "status": "Unknown"
         },
         {
          "aircraft": {
           "model": "Embraer 190"
          },
          "airline": {
           "name": "KLM"
          },
          "codeshareStatus": "IsCodeshared",
          "isCargo": false,
          "movement": {
           "airport": {
            "iata": "AMS",
            "icao": "EHAM",
            "name": "Amsterdam"
           },
           "quality": [
            "Basic"
           ],
           "scheduledTimeLocal": "2022-01-23 09:25+01:00",
           "scheduledTimeUtc": "2022-01-23 08:25Z",
           "terminal": "1"
          },
          "number": "KL 1821",
          "status": "Unknown"
         },
         {
          "aircraft": {
           "model": "Boeing 737-700",
           "reg": "PH-BXU"
          },
          "airline": {
           "name": "KLM"
          },
          "codeshareStatus": "IsCodeshared",
          "isCargo": false,
          "movement": {
           "airport": {
            "iata": "AMS",
            "icao": "EHAM",
            "name": "Amsterdam"
           },
           "quality": [
            "Basic"
           ],
           "scheduledTimeLocal": "2022-01-23 11:05+01:00",
           "scheduledTimeUtc": "2022-01-23 10:05Z",
           "terminal": "1"
          },
          "number": "KL 1823",
          "status": "Unknown"
         },
         {
          "aircraft": {
           "model": "Airbus A320"
          },
          "airline": {
           "name": "Aer Lingus"
          },
          "codeshareStatus": "Unknown",
          "isCargo": false,
          "movement": {
           "airport": {
            "iata": "DUB",
            "icao": "EIDW",
            "name": "Dublin"
           },
           "quality": [
            "Basic"
           ],
           "scheduledTimeLocal": "2022-01-23 10:30+01:00",
           "scheduledTimeUtc": "2022-01-23 09:30Z",
           "terminal": "1"
          },
          "number": "EI 332",
          "status": "Unknown"
         },
         {
          "aircraft": {
           "model": "Airbus A321"
          },
          "airline": {
           "name": "Lufthansa"
          },
          "codeshareStatus": "IsCodeshared",
          "isCargo": false,
          "movement": {
           "airport": {
            "iata": "FRA",
            "icao": "EDDF",
            "name": "Frankfurt-am-Main"
           },
           "quality": [
            "Basic"
           ],
           "scheduledTimeLocal": "2022-01-23 07:55+01:00",
           "scheduledTimeUtc": "2022-01-23 06:55Z",
           "terminal": "1"
          },
          "number": "LH 170",
          "status": "Unknown"
         },
         {
          "aircraft": {
           "model": "Bombardier Dash 8 Q400 / DHC-8-400"
          },
          "airline": {
           "name": "LOT - Polish"
          },
          "codeshareStatus": "Unknown",
          "isCargo": false,
          "movement": {
           "airport": {
            "iata": "WAW",
            "icao": "EPWA",
            "name": "Warsaw"
           },
           "quality": [
            "Basic"
           ],
           "scheduledTimeLocal": "2022-01-23 11:35+01:00",
           "scheduledTimeUtc": "2022-01-23 10:35Z",
           "terminal": "1"
          },
          "number": "LO 385",
          "status": "Unknown"
         },
         {
          "aircraft": {
           "model": "Boeing 737-800"
          },
          "airline": {
           "name": "Ryanair"
          },
          "codeshareStatus": "Unknown",
          "isCargo": false,
          "movement": {
           "airport": {
            "iata": "BCN",
            "icao": "LEBL",
            "name": "Barcelona"
           },
           "quality": [
            "Basic"
           ],
           "scheduledTimeLocal": "2022-01-23 09:20+01:00",
           "scheduledTimeUtc": "2022-01-23 08:20Z"
          },
          "number": "FR 149",
          "status": "Unknown"
         },
         {
          "aircraft": {
           "model": "Boeing 737-800"
          },
          "airline": {
           "name": "Ryanair"
          },
          "codeshareStatus": "Unknown",
          "isCargo": false,
          "movement": {
           "airport": {
            "iata": "MAD",
            "icao": "LEMD",
            "name": "Madrid"
           },
           "quality": [
            "Basic"
           ],
           "scheduledTimeLocal": "2022-01-23 11:40+01:00",
           "scheduledTimeUtc": "2022-01-23 10:40Z"
          },
          "number": "FR 2528",
          "status": "Unknown"
         },
         {
          "aircraft": {
           "model": "Airbus A320"
          },
          "airline": {
           "name": "Iberia"
          },
          "codeshareStatus": "Unknown",
          "isCargo": false,
          "movement": {
           "airport": {
            "iata": "MAD",
            "icao": "LEMD",
            "name": "Madrid"
           },
           "quality": [
            "Basic"
           ],
           "scheduledTimeLocal": "2022-01-23 11:10+01:00",
           "scheduledTimeUtc": "2022-01-23 10:10Z",
           "terminal": "1"
          },
          "number": "IB 3676",
          "status": "Unknown"
         },
         {
          "aircraft": {
           "model": "Boeing 737-800"
          },
          "airline": {
           "name": "Ryanair"
          },
          "codeshareStatus": "Unknown",
          "isCargo": false,
          "movement": {
           "airport": {
            "iata": "PMI",
            "icao": "LEPA",
            "name": "Palma De Mallorca"
           },
           "quality": [
            "Basic"
           ],
           "scheduledTimeLocal": "2022-01-23 10:30+01:00",
           "scheduledTimeUtc": "2022-01-23 09:30Z"
          },
          "number": "FR 217",
          "status": "Unknown"
         },
         {
          "aircraft": {
           "model": "Airbus A320"
          },
          "airline": {
           "name": "Eurowings"
          },
          "codeshareStatus": "Unknown",
          "isCargo": false,
          "movement": {
           "airport": {
            "iata": "PMI",
            "icao": "LEPA",
            "name": "Palma De Mallorca"
           },
           "quality": [
            "Basic"
           ],
           "scheduledTimeLocal": "2022-01-23 11:10+01:00",
           "scheduledTimeUtc": "2022-01-23 10:10Z",
           "terminal": "1"
          },
          "number": "EW 8591",
          "status": "Unknown"
         },
         {
          "aircraft": {
           "model": "Airbus A220-300"
          },
          "airline": {
           "name": "Air France"
          },
          "codeshareStatus": "Unknown",
          "isCargo": false,
          "movement": {
           "airport": {
            "iata": "CDG",
            "icao": "LFPG",
            "name": "Paris"
           },
           "quality": [
            "Basic"
           ],
           "scheduledTimeLocal": "2022-01-23 11:40+01:00",
           "scheduledTimeUtc": "2022-01-23 10:40Z",
           "terminal": "1"
          },
          "number": "AF 1734",
          "status": "Unknown"
         },
         {
          "aircraft": {
           "model": "Airbus A318"
          },
          "airline": {
           "name": "Air France"
          },
          "codeshareStatus": "Unknown",
          "isCargo": false,
          "movement": {
           "airport": {
            "iata": "ORY",
            "icao": "LFPO",
            "name": "Paris"
           },
           "quality": [
            "Basic"
           ],
           "scheduledTimeLocal": "2022-01-23 08:55+01:00",
           "scheduledTimeUtc": "2022-01-23 07:55Z",
           "terminal": "1"
          },
          "number": "AF 7354",
          "status": "Unknown"
         },
         {
          "aircraft": {
           "model": "Boeing 787-8"
          },
          "airline": {
           "name": "Scoot"
          },
          "codeshareStatus": "Unknown",
          "isCargo": false,
          "movement": {
           "airport": {
            "iata": "ATH",
            "icao": "LGAV",
            "name": "Athens"
           },
           "quality": [
            "Basic"
           ],
           "scheduledTimeLocal": "2022-01-23 10:20+01:00",
           "scheduledTimeUtc": "2022-01-23 09:20Z",
           "terminal": "1"
          },
          "number": "TR 722",
          "status": "Unknown"
         },
         {
          "aircraft": {
           "model": "Boeing 737-800"
          },
          "airline": {
           "name": "Ryanair"
          },
          "codeshareStatus": "Unknown",
          "isCargo": false,
          "movement": {
           "airport": {
            "iata": "BUD",
            "icao": "LHBP",
            "name": "Budapest"
           },
           "quality": [
            "Basic"
           ],
           "scheduledTimeLocal": "2022-01-23 10:30+01:00",
           "scheduledTimeUtc": "2022-01-23 09:30Z"
          },
          "number": "FR 197",
          "status": "Unknown"
         },
         {
          "aircraft": {
           "model": "Boeing 737-800"
          },
          "airline": {
           "name": "Ryanair"
          },
          "codeshareStatus": "Unknown",
          "isCargo": false,
          "movement": {
           "airport": {
            "iata": "MXP",
            "icao": "LIMC",
            "name": "Milan"
           },
           "quality": [
            "Basic"
           ],
           "scheduledTimeLocal": "2022-01-23 09:45+01:00",
           "scheduledTimeUtc": "2022-01-23 08:45Z"
          },
          "number": "FR 9",
          "status": "Unknown"
         },
         {
          "aircraft": {
           "model": "Airbus A319"
          },
          "airline": {
           "name": "easyJet"
          },
          "codeshareStatus": "Unknown",
          "isCargo": false,
          "movement": {
           "airport": {
            "iata": "LIN",
            "icao": "LIML",
            "name": "Milan"
           },
           "quality": [
            "Basic"
           ],
           "scheduledTimeLocal": "2022-01-23 11:50+01:00",
           "scheduledTimeUtc": "2022-01-23 10:50Z",
           "terminal": "1"
          },
          "number": "U2 4662",
          "status": "Unknown"
         },
         {
          "aircraft": {
           "model": "Boeing 737-800"
          },
          "airline": {
           "name": "Ryanair"
          },
          "codeshareStatus": "Unknown",
          "isCargo": false,
          "movement": {
           "airport": {
            "iata": "BLQ",
            "icao": "LIPE",
            "name": "Bologna"
           },
           "quality": [
            "Basic"
           ],
           "scheduledTimeLocal": "2022-01-23 11:35+01:00",
           "scheduledTimeUtc": "2022-01-23 10:35Z"
          },
          "number": "FR 137",
          "status": "Unknown"
         },
         {
          "aircraft": {
           "model": "Boeing 737-800"
          },
          "airline": {
           "name": "Ryanair"
          },
          "codeshareStatus": "Unknown",
          "isCargo": false,
          "movement": {
           "airport": {
            "iata": "PSA",
            "icao": "LIRP",
            "name": "Pisa"
           },
           "quality": [
            "Basic"
           ],
           "scheduledTimeLocal": "2022-01-23 09:25+01:00",
           "scheduledTimeUtc": "2022-01-23 08:25Z"
          },
          "number": "FR 9955",
          "status": "Unknown"
         },
         {
          "aircraft": {
           "model": "Airbus A320 NEO"
          },
          "airline": {
           "name": "SWISS"
          },
          "codeshareStatus": "Unknown",
          "isCargo": false,
          "movement": {
           "airport": {
            "iata": "ZRH",
            "icao": "LSZH",
            "name": "Zurich"
           },
           "quality": [
            "Basic"
           ],
           "scheduledTimeLocal": "2022-01-23 08:45+01:00",
           "scheduledTimeUtc": "2022-01-23 07:45Z",
           "terminal": "1"
          },
          "number": "LX 974",
          "status": "Unknown"
         },
         {
          "aircraft": {
           "model": "Boeing 737-800"
          },
          "airline": {
           "name": "Pegasus"
          },
          "codeshareStatus": "Unknown",
          "isCargo": false,
          "movement": {
           "airport": {
            "iata": "SAW",
            "icao": "LTFJ",
            "name": "Istanbul"
           },
           "quality": [
            "Basic"
           ],
           "scheduledTimeLocal": "2022-01-23 11:00+01:00",
           "scheduledTimeUtc": "2022-01-23 10:00Z",
           "terminal": "0"
          },
          "number": "PC 977",
          "status": "Unknown"
         },
         {
          "aircraft": {
           "model": "Airbus A319"
          },
          "airline": {
           "name": "Lufthansa"
          },
          "codeshareStatus": "IsCodeshared",
          "isCargo": false,
          "movement": {
           "airport": {
            "iata": "MUC",
            "icao": "EDDM",
            "name": "Munich"
           },
           "quality": [
            "Basic"
           ],
           "scheduledTimeLocal": "2022-01-23 09:35+01:00",
           "scheduledTimeUtc": "2022-01-23 08:35Z",
           "terminal": "1"
          },
          "number": "LH 1930",
          "status": "Unknown"
         },
         {
          "aircraft": {
           "model": "Boeing 737-800"
          },
          "airline": {
           "name": "Ryanair"
          },
          "codeshareStatus": "Unknown",
          "isCargo": false,
          "movement": {
           "airport": {
            "iata": "EDI",
            "icao": "EGPH",
            "name": "Edinburgh"
           },
           "quality": [
            "Basic"
           ],
           "scheduledTimeLocal": "2022-01-23 09:35+01:00",
           "scheduledTimeUtc": "2022-01-23 08:35Z"
          },
          "number": "FR 2376",
          "status": "Unknown"
         },
         {
          "aircraft": {
           "model": "Boeing 737-800"
          },
          "airline": {
           "name": "Ryanair"
          },
          "codeshareStatus": "Unknown",
          "isCargo": false,
          "movement": {
           "airport": {
            "iata": "BLL",
            "icao": "EKBI",
            "name": "Billund"
           },
           "quality": [
            "Basic"
           ],
           "scheduledTimeLocal": "2022-01-23 09:45+01:00",
           "scheduledTimeUtc": "2022-01-23 08:45Z"
          },
          "number": "FR 1701",
          "status": "Unknown"
         },
         {
          "aircraft": {
           "model": "Airbus A319",
           "reg": "VP-BIQ"
          },
          "airline": {
           "name": "Rossiya"
          },
          "codeshareStatus": "IsCodeshared",
          "isCargo": false,
          "movement": {
           "airport": {
            "iata": "LED",
            "icao": "ULLI",
            "name": "Saint-Petersburg"
           },
           "quality": [
            "Basic"
           ],
           "scheduledTimeLocal": "2022-01-23 10:05+01:00",
           "scheduledTimeUtc": "2022-01-23 09:05Z",
           "terminal": "1"
          },
          "number": "FV 6641",
          "status": "Unknown"
         },
         {
          "aircraft": {
           "model": "Airbus A321"
          },
          "airline": {
           "name": "Turkish"
          },
          "codeshareStatus": "Unknown",
          "isCargo": false,
          "movement": {
           "airport": {
            "iata": "IST",
            "icao": "LTFM",
            "name": "Istanbul"
           },
           "quality": [
            "Basic"
           ],
           "scheduledTimeLocal": "2022-01-23 09:35+01:00",
           "scheduledTimeUtc": "2022-01-23 08:35Z",
           "terminal": "1"
          },
          "number": "TK 1721",
          "status": "Unknown"
         }
        ]
       },
       {
        "arrivals": [
         {
          "aircraft": {
           "model": "Airbus A319"
          },
          "airline": {
           "name": "Bulgaria Air"
          },
          "codeshareStatus": "Unknown",
          "isCargo": false,
          "movement": {
           "airport": {
            "name": "Sofia"
           },
           "quality": [
            "Basic"
           ],
           "scheduledTimeLocal": "2022-01-23 13:10+01:00",
           "scheduledTimeUtc": "2022-01-23 12:10Z",
           "terminal": "1"
          },
          "number": "FB 440",
          "status": "Unknown"
         },
         {
          "aircraft": {
           "model": "Boeing 737-800"
          },
          "airline": {
           "name": "Ryanair"
          },
          "codeshareStatus": "Unknown",
          "isCargo": false,
          "movement": {
           "airport": {
            "name": "Manchester"
           },
           "quality": [
            "Basic"
           ],
           "scheduledTimeLocal": "2022-01-23 22:25+01:00",
           "scheduledTimeUtc": "2022-01-23 21:25Z"
          },
          "number": "FR 1155",
          "status": "Unknown"
         },
         {
          "aircraft": {
           "model": "Airbus A319"
          },
          "airline": {
           "name": "easyJet"
          },
          "codeshareStatus": "Unknown",
          "isCargo": false,
          "movement": {
           "airport": {
            "name": "Stockholm"
           },
           "quality": [
            "Basic"
           ],
           "scheduledTimeLocal": "2022-01-23 22:25+01:00",
           "scheduledTimeUtc": "2022-01-23 21:25Z",
           "terminal": "1"
          },
          "number": "U2 5216",
          "status": "Unknown"
         },
         {
          "aircraft": {
           "model": "Boeing 737-800"
          },
          "airline": {
           "name": "Ryanair"
          },
          "codeshareStatus": "Unknown",
          "isCargo": false,
          "movement": {
           "airport": {
            "name": "Nis"
           },
           "quality": [
            "Basic"
           ],
           "scheduledTimeLocal": "2022-01-23 22:30+01:00",
           "scheduledTimeUtc": "2022-01-23 21:30Z"
          },
          "number": "FR 1106",
          "status": "Unknown"
         },
         {
          "aircraft": {
           "model": "Airbus A320"
          },
          "airline": {
           "name": "Brussels"
          },
          "codeshareStatus": "Unknown",
          "isCargo": false,
          "movement": {
           "airport": {
            "iata": "BRU",
            "icao": "EBBR",
            "name": "Brussels"
           },
           "quality": [
            "Basic"
           ],
           "scheduledTimeLocal": "2022-01-23 14:20+01:00",
           "scheduledTimeUtc": "2022-01-23 13:20Z",
           "terminal": "1"
          },
          "number": "SN 2589",
          "status": "Unknown"
         },
         {
          "aircraft": {
           "model": "Boeing 737-800"
          },
          "airline": {
           "name": "Ryanair"
          },
          "codeshareStatus": "Unknown",
          "isCargo": false,
          "movement": {
           "airport": {
            "iata": "BRU",
            "icao": "EBBR",
            "name": "Brussels"
           },
           "quality": [
            "Basic"
           ],
           "scheduledTimeLocal": "2022-01-23 22:25+01:00",
           "scheduledTimeUtc": "2022-01-23 21:25Z"
          },
          "number": "FR 167",
          "status": "Unknown"
         },
         {
          "aircraft": {
           "model": "Boeing 737"
          },
          "airline": {
           "name": "Icelandair"
          },
          "codeshareStatus": "Unknown",
          "isCargo": false,
          "movement": {
           "airport": {
            "iata": "KEF",
            "icao": "BIKF",
            "name": "Reykjavik"
           },
           "quality": [
            "Basic"
           ],
           "scheduledTimeLocal": "2022-01-23 12:10+01:00",
           "scheduledTimeUtc": "2022-01-23 11:10Z",
           "terminal": "1"
          },
          "number": "FI 528",
          "status": "Unknown"
         },
         {
          "aircraft": {
           "model": "Airbus A320"
          },
          "airline": {
           "name": "easyJet"
          },
          "codeshareStatus": "Unknown",
          "isCargo": false,
          "movement": {
           "airport": {
            "iata": "PRN",
            "icao": "BKPR",
            "name": "Prishtina"
           },
           "quality": [
            "Basic"
           ],
           "scheduledTimeLocal": "2022-01-23 15:15+01:00",
           "scheduledTimeUtc": "2022-01-23 14:15Z",
           "terminal": "1"
          },
          "number": "U2 4580",
          "status": "Unknown"
         },
         {
          "aircraft": {
           "model": "Airbus A319"
          },
          "airline": {
           "name": "Brussels"
          },
          "codeshareStatus": "Unknown",
          "isCargo": false,
          "movement": {
           "airport": {
            "iata": "BRU",
            "icao": "EBBR",
            "name": "Brussels"
           },
           "quality": [
            "Basic"
           ],
           "scheduledTimeLocal": "2022-01-23 18:50+01:00",
           "scheduledTimeUtc": "2022-01-23 17:50Z",
           "terminal": "1"
          },
          "number": "SN 2591",
          "status": "Unknown"
         },
         {
          "aircraft": {
           "model": "Airbus A320 NEO"
          },
          "airline": {
           "name": "Lufthansa"
          },
          "codeshareStatus": "IsCodeshared",
          "isCargo": false,
          "movement": {
           "airport": {
            "iata": "FRA",
            "icao": "EDDF",
            "name": "Frankfurt-am-Main"
           },
           "quality": [
            "Basic"
           ],
           "scheduledTimeLocal": "2022-01-23 14:55+01:00",
           "scheduledTimeUtc": "2022-01-23 13:55Z",
           "terminal": "1"
          },
          "number": "LH 186",
          "status": "Unknown"
         },
         {
          "aircraft": {
           "model": "Airbus A320"
          },
          "airline": {
           "name": "Lufthansa"
          },
          "codeshareStatus": "IsCodeshared",
          "isCargo": false,
          "movement": {
           "airport": {
            "iata": "FRA",
            "icao": "EDDF",
            "name": "Frankfurt-am-Main"
           },
           "quality": [
            "Basic"
           ],
           "scheduledTimeLocal": "2022-01-23 17:55+01:00",
           "scheduledTimeUtc": "2022-01-23 16:55Z",
           "terminal": "1"
          },
          "number": "LH 192",
          "status": "Unknown"
         },
         {
          "aircraft": {
           "model": "Airbus A319"
          },
          "airline": {
           "name": "Eurowings"
          },
          "codeshareStatus": "Unknown",
          "isCargo": false,
          "movement": {
           "airport": {
            "iata": "CGN",
            "icao": "EDDK",
            "name": "Cologne"
           },
           "quality": [
            "Basic"
           ],
           "scheduledTimeLocal": "2022-01-23 18:55+01:00",
           "scheduledTimeUtc": "2022-01-23 17:55Z",
           "terminal": "1"
          },
          "number": "EW 6",
          "status": "Unknown"
         },
         {
          "aircraft": {
           "model": "Airbus A320"
          },
          "airline": {
           "name": "easyJet"
          },
          "codeshareStatus": "Unknown",
          "isCargo": false,
          "movement": {
           "airport": {
            "iata": "CGN",
            "icao": "EDDK",
            "name": "Cologne"
           },
           "quality": [
            "Basic"
           ],
           "scheduledTimeLocal": "2022-01-23 19:10+01:00",
           "scheduledTimeUtc": "2022-01-23 18:10Z",
           "terminal": "1"
          },
          "number": "U2 5512",
          "status": "Unknown"
         },
         {
          "aircraft": {
           "model": "Airbus A319"
          },
          "airline": {
           "name": "easyJet"
          },
          "codeshareStatus": "Unknown",
          "isCargo": false,
          "movement": {
           "airport": {
            "iata": "CGN",
            "icao": "EDDK",
            "name": "Cologne"
           },
           "quality": [
            "Basic"
           ],
           "scheduledTimeLocal": "2022-01-23 21:00+01:00",
           "scheduledTimeUtc": "2022-01-23 20:00Z",
           "terminal": "1"
          },
          "number": "U2 5514",
          "status": "Unknown"
         },
         {
          "aircraft": {
           "model": "Airbus A320"
          },
          "airline": {
           "name": "Eurowings"
          },
          "codeshareStatus": "Unknown",
          "isCargo": false,
          "movement": {
           "airport": {
            "iata": "DUS",
            "icao": "EDDL",
            "name": "Duesseldorf"
           },
           "quality": [
            "Basic"
           ],
           "scheduledTimeLocal": "2022-01-23 15:50+01:00",
           "scheduledTimeUtc": "2022-01-23 14:50Z",
           "terminal": "1"
          },
          "number": "EW 9042",
          "status": "Unknown"
         },
         {
          "aircraft": {
           "model": "Airbus A320"
          },
          "airline": {
           "name": "Lufthansa"
          },
          "codeshareStatus": "IsCodeshared",
          "isCargo": false,
          "movement": {
           "airport": {
            "iata": "FRA",
            "icao": "EDDF",
            "name": "Frankfurt-am-Main"
           },
           "quality": [
            "Basic"
           ],
           "scheduledTimeLocal": "2022-01-23 22:25+01:00",
           "scheduledTimeUtc": "2022-01-23 21:25Z",
           "terminal": "1"
          },
          "number": "LH 202",
          "status": "Unknown"
         },
         {
          "aircraft": {
           "model": "Airbus A320 NEO"
          },
          "airline": {
           "name": "Lufthansa"
          },
          "codeshareStatus": "IsCodeshared",
          "isCargo": false,
          "movement": {
           "airport": {
            "iata": "FRA",
            "icao": "EDDF",
            "name": "Frankfurt-am-Main"
           },
           "quality": [
            "Basic"
           ],
           "scheduledTimeLocal": "2022-01-23 18:55+01:00",
           "scheduledTimeUtc": "2022-01-23 17:55Z",
           "terminal": "1"
          },
          "number": "LH 194",
          "status": "Unknown"
         },
         {
          "aircraft": {
           "model": "Airbus A319"
          },
          "airline": {
           "name": "Eurowings"
          },
          "codeshareStatus": "Unknown",
          "isCargo": false,
          "movement": {
           "airport": {
            "iata": "CGN",
            "icao": "EDDK",
            "name": "Cologne"
           },
           "quality": [
            "Basic"
           ],
           "scheduledTimeLocal": "2022-01-23 16:20+01:00",
           "scheduledTimeUtc": "2022-01-23 15:20Z",
           "terminal": "1"
          },
          "number": "EW 8",
          "status": "Unknown"
         },
         {
          "aircraft": {
           "model": "Airbus A319"
          },
          "airline": {
           "name": "Lufthansa"
          },
          "codeshareStatus": "IsCodeshared",
          "isCargo": false,
          "movement": {
           "airport": {
            "iata": "MUC",
            "icao": "EDDM",
            "name": "Munich"
           },
           "quality": [
            "Basic"
           ],
           "scheduledTimeLocal": "2022-01-23 18:10+01:00",
           "scheduledTimeUtc": "2022-01-23 17:10Z",
           "terminal": "1"
          },
          "number": "LH 1948",
          "status": "Unknown"
         },
         {
          "aircraft": {
           "model": "Airbus A320 NEO"
          },
          "airline": {
           "name": "Lufthansa"
          },
          "codeshareStatus": "IsCodeshared",
          "isCargo": false,
          "movement": {
           "airport": {
            "iata": "MUC",
            "icao": "EDDM",
            "name": "Munich"
           },
           "quality": [
            "Basic"
           ],
           "scheduledTimeLocal": "2022-01-23 20:10+01:00",
           "scheduledTimeUtc": "2022-01-23 19:10Z",
           "terminal": "1"
          },
          "number": "LH 1954",
          "status": "Unknown"
         },
         {
          "aircraft": {
           "model": "Airbus A319"
          },
          "airline": {
           "name": "Lufthansa"
          },
          "codeshareStatus": "IsCodeshared",
          "isCargo": false,
          "movement": {
           "airport": {
            "iata": "MUC",
            "icao": "EDDM",
            "name": "Munich"
           },
           "quality": [
            "Basic"
           ],
           "scheduledTimeLocal": "2022-01-23 16:55+01:00",
           "scheduledTimeUtc": "2022-01-23 15:55Z",
           "terminal": "1"
          },
          "number": "LH 1942",
          "status": "Unknown"
         },
         {
          "aircraft": {
           "model": "Airbus A320"
          },
          "airline": {
           "name": "Lufthansa"
          },
          "codeshareStatus": "IsCodeshared",
          "isCargo": false,
          "movement": {
           "airport": {
            "iata": "MUC",
            "icao": "EDDM",
            "name": "Munich"
           },
           "quality": [
            "Basic"
           ],
           "scheduledTimeLocal": "2022-01-23 12:15+01:00",
           "scheduledTimeUtc": "2022-01-23 11:15Z",
           "terminal": "1"
          },
          "number": "LH 1936",
          "status": "Unknown"
         },
         {
          "aircraft": {
           "model": "Airbus A319"
          },
          "airline": {
           "name": "Eurowings"
          },
          "codeshareStatus": "Unknown",
          "isCargo": false,
          "movement": {
           "airport": {
            "iata": "STR",
            "icao": "EDDS",
            "name": "Stuttgart"
           },
           "quality": [
            "Basic"
           ],
           "scheduledTimeLocal": "2022-01-23 15:30+01:00",
           "scheduledTimeUtc": "2022-01-23 14:30Z",
           "terminal": "1"
          },
          "number": "EW 2020",
          "status": "Unknown"
         },
         {
          "aircraft": {
           "model": "Airbus A320"
          },
          "airline": {
           "name": "Eurowings"
          },
          "codeshareStatus": "Unknown",
          "isCargo": false,
          "movement": {
           "airport": {
            "iata": "STR",
            "icao": "EDDS",
            "name": "Stuttgart"
           },
           "quality": [
            "Basic"
           ],
           "scheduledTimeLocal": "2022-01-23 19:35+01:00",
           "scheduledTimeUtc": "2022-01-23 18:35Z",
           "terminal": "1"
          },
          "number": "EW 2006",
          "status": "Unknown"
         },
         {
          "aircraft": {
           "model": "Airbus A320"
          },
          "airline": {
           "name": "Lufthansa"
          },
          "codeshareStatus": "IsCodeshared",
          "isCargo": false,
          "movement": {
           "airport": {
            "iata": "MUC",
            "icao": "EDDM",
            "name": "Munich"
           },
           "quality": [
            "Basic"
           ],
           "scheduledTimeLocal": "2022-01-23 15:25+01:00",
           "scheduledTimeUtc": "2022-01-23 14:25Z",
           "terminal": "1"
          },
          "number": "LH 1944",
          "status": "Unknown"
         },
         {
          "aircraft": {
           "model": "Airbus A319"
          },
          "airline": {
           "name": "Finnair"
          },
          "codeshareStatus": "Unknown",
          "isCargo": false,
          "movement": {
           "airport": {
            "iata": "HEL",
            "icao": "EFHK",
            "name": "Helsinki"
           },
           "quality": [
            "Basic"
           ],
           "scheduledTimeLocal": "2022-01-23 18:25+01:00",
           "scheduledTimeUtc": "2022-01-23 17:25Z",
           "terminal": "1"
          },
          "number": "AY 1435",
          "status": "Unknown"
         },
         {
          "aircraft": {
           "model": "Boeing 737-800"
          },
          "airline": {
           "name": "Ryanair"
          },
          "codeshareStatus": "Unknown",
          "isCargo": false,
          "movement": {
           "airport": {
            "iata": "MAN",
            "icao": "EGCC",
            "name": "Manchester"
           },
           "quality": [
            "Basic"
           ],
           "scheduledTimeLocal": "2022-01-23 15:30+01:00",
           "scheduledTimeUtc": "2022-01-23 14:30Z"
          },
          "number": "FR 1145",
          "status": "Unknown"
         },
         {
          "aircraft": {
           "model": "Airbus A320"
          },
          "airline": {
           "name": "Lufthansa"
          },
          "codeshareStatus": "IsCodeshared",
          "isCargo": false,
          "movement": {
           "airport": {
            "iata": "MUC",
            "icao": "EDDM",
            "name": "Munich"
           },
           "quality": [
            "Basic"
           ],
           "scheduledTimeLocal": "2022-01-23 22:55+01:00",
           "scheduledTimeUtc": "2022-01-23 21:55Z",
           "terminal": "1"
          },
          "number": "LH 1958",
          "status": "Unknown"
         },
         {
          "aircraft": {
           "model": "Airbus A220-300"
          },
          "airline": {
           "name": "Air Baltic"
          },
          "codeshareStatus": "Unknown",
          "isCargo": false,
          "movement": {
           "airport": {
            "iata": "TLL",
            "icao": "EETN",
            "name": "Tallinn"
           },
           "quality": [
            "Basic"
           ],
           "scheduledTimeLocal": "2022-01-23 14:25+01:00",
           "scheduledTimeUtc": "2022-01-23 13:25Z",
           "terminal": "1"
          },
          "number": "BT 821",
          "status": "Unknown"
         },
         {
          "aircraft": {
           "model": "Airbus A320"
          },
          "airline": {
           "name": "British Airways"
          },
          "codeshareStatus": "IsCodeshared",
          "isCargo": false,
          "movement": {
           "airport": {
            "iata": "LHR",
            "icao": "EGLL",
            "name": "London"
           },
           "quality": [
            "Basic"
           ],
           "scheduledTimeLocal": "2022-01-23 18:05+01:00",
           "scheduledTimeUtc": "2022-01-23 17:05Z",
           "terminal": "1"
          },
          "number": "BA 998",
          "status": "Unknown"
         },
         {
          "aircraft": {
           "model": "Airbus A320"
          },
          "airline": {
           "name": "British Airways"
          },
          "codeshareStatus": "IsCodeshared",
          "isCargo": false,
          "movement": {
           "airport": {
            "iata": "LHR",
            "icao": "EGLL",
            "name": "London"
           },
           "quality": [
            "Basic"
           ],
           "scheduledTimeLocal": "2022-01-23 21:45+01:00",
           "scheduledTimeUtc": "2022-01-23 20:45Z",
           "terminal": "1"
          },
          "number": "BA 988",
          "status": "Unknown"
         },
         {
          "aircraft": {
           "model": "Boeing 737-800"
          },
          "airline": {
           "name": "Ryanair"
          },
          "codeshareStatus": "Unknown",
          "isCargo": false,
          "movement": {
           "airport": {
            "iata": "STN",
            "icao": "EGSS",
            "name": "London"
           },
           "quality": [
            "Basic"
           ],
           "scheduledTimeLocal": "2022-01-23 15:25+01:00",
           "scheduledTimeUtc": "2022-01-23 14:25Z"
          },
          "number": "FR 176",
          "status": "Unknown"
         },
         {
          "aircraft": {
           "model": "ATR 42-300"
          },
          "airline": {
           "name": "Danish Air"
          },
          "codeshareStatus": "Unknown",
          "isCargo": false,
          "movement": {
           "airport": {
            "iata": "SCN",
            "icao": "EDDR",
            "name": "Saarbrücken"
           },
           "quality": [
            "Basic"
           ],
           "scheduledTimeLocal": "2022-01-23 14:40+01:00",
           "scheduledTimeUtc": "2022-01-23 13:40Z",
           "terminal": "0"
          },
          "number": "DX 123",
          "status": "Unknown"
         },
         {
          "aircraft": {
           "model": "Airbus A320"
          },
          "airline": {
           "name": "easyJet"
          },
          "codeshareStatus": "Unknown",
          "isCargo": false,
          "movement": {
           "airport": {
            "iata": "LGW",
            "icao": "EGKK",
            "name": "London"
           },
           "quality": [
            "Basic"
           ],
           "scheduledTimeLocal": "2022-01-23 22:45+01:00",
           "scheduledTimeUtc": "2022-01-23 21:45Z",
           "terminal": "1"
          },
          "number": "U2 8217",
          "status": "Unknown"
         },
         {
          "aircraft": {
           "model": "Embraer 190"
          },
          "airline": {
           "name": "British Airways"
          },
          "codeshareStatus": "IsCodeshared",
          "isCargo": false,
          "movement": {
           "airport": {
            "iata": "LCY",
            "icao": "EGLC",
            "name": "London"
           },
           "quality": [
            "Basic"
           ],
           "scheduledTimeLocal": "2022-01-23 20:00+01:00",
           "scheduledTimeUtc": "2022-01-23 19:00Z",
           "terminal": "1"
          },
          "number": "BA 8493",
          "status": "Unknown"
         },
         {
          "aircraft": {
           "model": "Boeing 737-800",
           "reg": "PH-HSE"
          },
          "airline": {
           "name": "KLM"
          },
          "codeshareStatus": "IsCodeshared",
          "isCargo": false,
          "movement": {
           "airport": {
            "iata": "AMS",
            "icao": "EHAM",
            "name": "Amsterdam"
           },
           "quality": [
            "Basic"
           ],
           "scheduledTimeLocal": "2022-01-23 18:00+01:00",
           "scheduledTimeUtc": "2022-01-23 17:00Z",
           "terminal": "1"
          },
          "number": "KL 1831",
          "status": "Unknown"
         },
         {
          "aircraft": {
           "model": "Airbus A320"
          },
          "airline": {
           "name": "easyJet"
          },
          "codeshareStatus": "Unknown",
          "isCargo": false,
          "movement": {
           "airport": {
            "iata": "AMS",
            "icao": "EHAM",
            "name": "Amsterdam"
           },
           "quality": [
            "Basic"
           ],
           "scheduledTimeLocal": "2022-01-23 18:30+01:00",
           "scheduledTimeUtc": "2022-01-23 17:30Z",
           "terminal": "1"
          },
          "number": "U2 5106",
          "status": "Unknown"
         },
         {
          "aircraft": {
           "model": "Embraer 190"
          },
          "airline": {
           "name": "KLM"
          },
          "codeshareStatus": "IsCodeshared",
          "isCargo": false,
          "movement": {
           "airport": {
            "iata": "AMS",
            "icao": "EHAM",
            "name": "Amsterdam"
           },
           "quality": [
            "Basic"
           ],
           "scheduledTimeLocal": "2022-01-23 16:40+01:00",
           "scheduledTimeUtc": "2022-01-23 15:40Z",
           "terminal": "1"
          },
          "number": "KL 1829",
          "status": "Unknown"
         },
         {
          "aircraft": {
           "model": "Boeing 737-800"
          },
          "airline": {
           "name": "Ryanair"
          },
          "codeshareStatus": "Unknown",
          "isCargo": false,
          "movement": {
           "airport": {
            "iata": "DUB",
            "icao": "EIDW",
            "name": "Dublin"
           },
           "quality": [
            "Basic"
           ],
           "scheduledTimeLocal": "2022-01-23 12:15+01:00",
           "scheduledTimeUtc": "2022-01-23 11:15Z"
          },
          "number": "FR 8556",
          "status": "Unknown"
         },
         {
          "aircraft": {
           "model": "Airbus A320"
          },
          "airline": {
           "name": "Aer Lingus"
          },
          "codeshareStatus": "Unknown",
          "isCargo": false,
          "movement": {
           "airport": {
            "iata": "DUB",
            "icao": "EIDW",
            "name": "Dublin"
           },
           "quality": [
            "Basic"
           ],
           "scheduledTimeLocal": "2022-01-23 19:00+01:00",
           "scheduledTimeUtc": "2022-01-23 18:00Z",
           "terminal": "1"
          },
          "number": "EI 336",
          "status": "Unknown"
         },
         {
          "aircraft": {
           "model": "Boeing 737-800"
          },
          "airline": {
           "name": "Ryanair"
          },
          "codeshareStatus": "Unknown",
          "isCargo": false,
          "movement": {
           "airport": {
            "iata": "STN",
            "icao": "EGSS",
            "name": "London"
           },
           "quality": [
            "Basic"
           ],
           "scheduledTimeLocal": "2022-01-23 22:30+01:00",
           "scheduledTimeUtc": "2022-01-23 21:30Z"
          },
          "number": "FR 147",
          "status": "Unknown"
         },
         {
          "aircraft": {
           "model": "Boeing 737-800"
          },
          "airline": {
           "name": "Ryanair"
          },
          "codeshareStatus": "Unknown",
          "isCargo": false,
          "movement": {
           "airport": {
            "iata": "STN",
            "icao": "EGSS",
            "name": "London"
           },
           "quality": [
            "Basic"
           ],
           "scheduledTimeLocal": "2022-01-23 21:00+01:00",
           "scheduledTimeUtc": "2022-01-23 20:00Z"
          },
          "number": "FR 8544",
          "status": "Unknown"
         },
         {
          "aircraft": {
           "model": "Boeing 737-800",
           "reg": "PH-BXZ"
          },
          "airline": {
           "name": "KLM"
          },
          "codeshareStatus": "IsCodeshared",
          "isCargo": false,
          "movement": {
           "airport": {
            "iata": "AMS",
            "icao": "EHAM",
            "name": "Amsterdam"
           },
           "quality": [
            "Basic"
           ],
           "scheduledTimeLocal": "2022-01-23 21:55+01:00",
           "scheduledTimeUtc": "2022-01-23 20:55Z",
           "terminal": "1"
          },
          "number": "KL 1835",
          "status": "Unknown"
         },
         {
          "aircraft": {
           "model": "Boeing 737-800"
          },
          "airline": {
           "name": "Ryanair"
          },
          "codeshareStatus": "Unknown",
          "isCargo": false,
          "movement": {
           "airport": {
            "iata": "LUX",
            "icao": "ELLX",
            "name": "Luxembourg"
           },
           "quality": [
            "Basic"
           ],
           "scheduledTimeLocal": "2022-01-23 13:45+01:00",
           "scheduledTimeUtc": "2022-01-23 12:45Z"
          },
          "number": "FR 43",
          "status": "Unknown"
         },
         {
          "aircraft": {
           "model": "Bombardier Dash 8 Q400 / DHC-8-400"
          },
          "airline": {
           "name": "Luxair"
          },
          "codeshareStatus": "Unknown",
          "isCargo": false,
          "movement": {
           "airport": {
            "iata": "LUX",
            "icao": "ELLX",
            "name": "Luxembourg"
           },
           "quality": [
            "Basic"
           ],
           "scheduledTimeLocal": "2022-01-23 20:15+01:00",
           "scheduledTimeUtc": "2022-01-23 19:15Z",
           "terminal": "1"
          },
          "number": "LG 9473",
          "status": "Unknown"
         },
         {
          "aircraft": {
           "model": "Boeing 737-800"
          },
          "airline": {
           "name": "Norwegian Air Shuttle"
          },
          "codeshareStatus": "Unknown",
          "isCargo": false,
          "movement": {
           "airport": {
            "iata": "OSL",
            "icao": "ENGM",
            "name": "Oslo"
           },
           "quality": [
            "Basic"
           ],
           "scheduledTimeLocal": "2022-01-23 14:05+01:00",
           "scheduledTimeUtc": "2022-01-23 13:05Z",
           "terminal": "1"
          },
          "number": "DY 1104",
          "status": "Unknown"
         },
         {
          "aircraft": {
           "model": "Boeing 737-800"
          },
          "airline": {
           "name": "Norwegian Air International"
          },
          "codeshareStatus": "Unknown",
          "isCargo": false,
          "movement": {
           "airport": {
            "iata": "CPH",
            "icao": "EKCH",
            "name": "Copenhagen"
           },
           "quality": [
            "Basic"
           ],
           "scheduledTimeLocal": "2022-01-23 17:55+01:00",
           "scheduledTimeUtc": "2022-01-23 16:55Z",
           "terminal": "1"
          },
          "number": "D8 3302",
          "status": "Unknown"
         },
         {
          "aircraft": {
           "model": "Bombardier CRJ900"
          },
          "airline": {
           "name": "SAS"
          },
          "codeshareStatus": "Unknown",
          "isCargo": false,
          "movement": {
           "airport": {
            "iata": "ARN",
            "icao": "ESSA",
            "name": "Stockholm"
           },
           "quality": [
            "Basic"
           ],
           "scheduledTimeLocal": "2022-01-23 17:35+01:00",
           "scheduledTimeUtc": "2022-01-23 16:35Z",
           "terminal": "1"
          },
          "number": "SK 2679",
          "status": "Unknown"
         },
         {
          "aircraft": {
           "model": "Boeing 737-800"
          },
          "airline": {
           "name": "Ryanair"
          },
          "codeshareStatus": "Unknown",
          "isCargo": false,
          "movement": {
           "airport": {
            "iata": "RIX",
            "icao": "EVRA",
            "name": "Riga"
           },
           "quality": [
            "Basic"
           ],
           "scheduledTimeLocal": "2022-01-23 13:55+01:00",
           "scheduledTimeUtc": "2022-01-23 12:55Z"
          },
          "number": "FR 2600",
          "status": "Unknown"
         },
         {
          "aircraft": {
           "model": "Airbus A220-300"
          },
          "airline": {
           "name": "Air Baltic"
          },
          "codeshareStatus": "Unknown",
          "isCargo": false,
          "movement": {
           "airport": {
            "iata": "RIX",
            "icao": "EVRA",
            "name": "Riga"
           },
           "quality": [
            "Basic"
           ],
           "scheduledTimeLocal": "2022-01-23 19:00+01:00",
           "scheduledTimeUtc": "2022-01-23 18:00Z",
           "terminal": "1"
          },
          "number": "BT 213",
          "status": "Unknown"
         },
         {
          "aircraft": {
           "model": "Airbus A220-300"
          },
          "airline": {
           "name": "Air Baltic"
          },
          "codeshareStatus": "Unknown",
          "isCargo": false,
          "movement": {
           "airport": {
            "iata": "VNO",
            "icao": "EYVI",
            "name": "Vilnius"
           },
           "quality": [
            "Basic"
           ],
           "scheduledTimeLocal": "2022-01-23 15:00+01:00",
           "scheduledTimeUtc": "2022-01-23 14:00Z",
           "terminal": "1"
          },
          "number": "BT 921",
          "status": "Unknown"
         },
         {
          "aircraft": {
           "model": "Airbus A320"
          },
          "airline": {
           "name": "easyJet"
          },
          "codeshareStatus": "Unknown",
          "isCargo": false,
          "movement": {
           "airport": {
            "iata": "LPA",
            "icao": "GCLP",
            "name": "Gran Canaria Island"
           },
           "quality": [
            "Basic"
           ],
           "scheduledTimeLocal": "2022-01-23 18:35+01:00",
           "scheduledTimeUtc": "2022-01-23 17:35Z",
           "terminal": "1"
          },
          "number": "U2 5932",
          "status": "Unknown"
         },
         {
          "aircraft": {
           "model": "Airbus A321"
          },
          "airline": {
           "name": "Condor"
          },
          "codeshareStatus": "Unknown",
          "isCargo": false,
          "movement": {
           "airport": {
            "iata": "LPA",
            "icao": "GCLP",
            "name": "Gran Canaria Island"
           },
           "quality": [
            "Basic"
           ],
           "scheduledTimeLocal": "2022-01-23 20:55+01:00",
           "scheduledTimeUtc": "2022-01-23 19:55Z",
           "terminal": "1"
          },
          "number": "DE 1289",
          "status": "Unknown"
         },
         {
          "aircraft": {
           "model": "Airbus A320"
          },
          "airline": {
           "name": "easyJet"
          },
          "codeshareStatus": "Unknown",
          "isCargo": false,
          "movement": {
           "airport": {
            "iata": "ACE",
            "icao": "GCRR",
            "name": "Lanzarote Island"
           },
           "quality": [
            "Basic"
           ],
           "scheduledTimeLocal": "2022-01-23 18:05+01:00",
           "scheduledTimeUtc": "2022-01-23 17:05Z",
           "terminal": "1"
          },
          "number": "U2 5926",
          "status": "Unknown"
         },
         {
          "aircraft": {
           "model": "Airbus A320"
          },
          "airline": {
           "name": "Eurowings"
          },
          "codeshareStatus": "Unknown",
          "isCargo": false,
          "movement": {
           "airport": {
            "iata": "TFS",
            "icao": "GCTS",
            "name": "Tenerife Island"
           },
           "quality": [
            "Basic"
           ],
           "scheduledTimeLocal": "2022-01-23 19:05+01:00",
           "scheduledTimeUtc": "2022-01-23 18:05Z",
           "terminal": "1"
          },
          "number": "EW 8291",
          "status": "Unknown"
         },
         {
          "aircraft": {
           "model": "Boeing 737-800"
          },
          "airline": {
           "name": "Ryanair"
          },
          "codeshareStatus": "Unknown",
          "isCargo": false,
          "movement": {
           "airport": {
            "iata": "TFS",
            "icao": "GCTS",
            "name": "Tenerife Island"
           },
           "quality": [
            "Basic"
           ],
           "scheduledTimeLocal": "2022-01-23 18:35+01:00",
           "scheduledTimeUtc": "2022-01-23 17:35Z"
          },
          "number": "FR 4067",
          "status": "Unknown"
         },
         {
          "aircraft": {
           "model": "Airbus A320 NEO"
          },
          "airline": {
           "name": "EgyptAir"
          },
          "codeshareStatus": "Unknown",
          "isCargo": false,
          "movement": {
           "airport": {
            "iata": "CAI",
            "icao": "HECA",
            "name": "Cairo"
           },
           "quality": [
            "Basic"
           ],
           "scheduledTimeLocal": "2022-01-23 13:55+01:00",
           "scheduledTimeUtc": "2022-01-23 12:55Z",
           "terminal": "1"
          },
          "number": "MS 731",
          "status": "Unknown"
         },
         {
          "aircraft": {
           "model": "Bombardier Dash 8 Q400 / DHC-8-400"
          },
          "airline": {
           "name": "LOT - Polish"
          },
          "codeshareStatus": "Unknown",
          "isCargo": false,
          "movement": {
           "airport": {
            "iata": "WAW",
            "icao": "EPWA",
            "name": "Warsaw"
           },
           "quality": [
            "Basic"
           ],
           "scheduledTimeLocal": "2022-01-23 17:45+01:00",
           "scheduledTimeUtc": "2022-01-23 16:45Z",
           "terminal": "1"
          },
          "number": "LO 389",
          "status": "Unknown"
         },
         {
          "aircraft": {
           "model": "Boeing 737-800"
          },
          "airline": {
           "name": "Ryanair"
          },
          "codeshareStatus": "Unknown",
          "isCargo": false,
          "movement": {
           "airport": {
            "iata": "DUB",
            "icao": "EIDW",
            "name": "Dublin"
           },
           "quality": [
            "Basic"
           ],
           "scheduledTimeLocal": "2022-01-23 20:55+01:00",
           "scheduledTimeUtc": "2022-01-23 19:55Z"
          },
          "number": "FR 8558",
          "status": "Unknown"
         },
         {
          "aircraft": {
           "model": "Airbus A320"
          },
          "airline": {
           "name": "Vueling"
          },
          "codeshareStatus": "Unknown",
          "isCargo": false,
          "movement": {
           "airport": {
            "iata": "BCN",
            "icao": "LEBL",
            "name": "Barcelona"
           },
           "quality": [
            "Basic"
           ],
           "scheduledTimeLocal": "2022-01-23 14:20+01:00",
           "scheduledTimeUtc": "2022-01-23 13:20Z",
           "terminal": "1"
          },
          "number": "VY 1882",
          "status": "Unknown"
         },
         {
          "aircraft": {
           "model": "Airbus A320"
          },
          "airline": {
           "name": "easyJet"
          },
          "codeshareStatus": "Unknown",
          "isCargo": false,
          "movement": {
           "airport": {
            "iata": "BCN",
            "icao": "LEBL",
            "name": "Barcelona"
           },
           "quality": [
            "Basic"
           ],
           "scheduledTimeLocal": "2022-01-23 15:15+01:00",
           "scheduledTimeUtc": "2022-01-23 14:15Z",
           "terminal": "1"
          },
          "number": "U2 5126",
          "status": "Unknown"
         },
         {
          "aircraft": {
           "model": "Boeing 737-800"
          },
          "airline": {
           "name": "Ryanair"
          },
          "codeshareStatus": "Unknown",
          "isCargo": false,
          "movement": {
           "airport": {
            "iata": "BCN",
            "icao": "LEBL",
            "name": "Barcelona"
           },
           "quality": [
            "Basic"
           ],
           "scheduledTimeLocal": "2022-01-23 18:35+01:00",
           "scheduledTimeUtc": "2022-01-23 17:35Z"
          },
          "number": "FR 133",
          "status": "Unknown"
         },
         {
          "aircraft": {
           "model": "Airbus A320"
          },
          "airline": {
           "name": "Iberia"
          },
          "codeshareStatus": "Unknown",
          "isCargo": false,
          "movement": {
           "airport": {
            "iata": "MAD",
            "icao": "LEMD",
            "name": "Madrid"
           },
           "quality": [
            "Basic"
           ],
           "scheduledTimeLocal": "2022-01-23 18:50+01:00",
           "scheduledTimeUtc": "2022-01-23 17:50Z",
           "terminal": "1"
          },
          "number": "IB 3672",
          "status": "Unknown"
         },
         {
          "aircraft": {
           "model": "Boeing 737-800"
          },
          "airline": {
           "name": "Ryanair"
          },
          "codeshareStatus": "Unknown",
          "isCargo": false,
          "movement": {
           "airport": {
            "iata": "MAD",
            "icao": "LEMD",
            "name": "Madrid"
           },
           "quality": [
            "Basic"
           ],
           "scheduledTimeLocal": "2022-01-23 20:05+01:00",
           "scheduledTimeUtc": "2022-01-23 19:05Z"
          },
          "number": "FR 2526",
          "status": "Unknown"
         },
         {
          "aircraft": {
           "model": "Airbus A320"
          },
          "airline": {
           "name": "easyJet"
          },
          "codeshareStatus": "Unknown",
          "isCargo": false,
          "movement": {
           "airport": {
            "iata": "AGP",
            "icao": "LEMG",
            "name": "Málaga"
           },
           "quality": [
            "Basic"
           ],
           "scheduledTimeLocal": "2022-01-23 15:45+01:00",
           "scheduledTimeUtc": "2022-01-23 14:45Z",
           "terminal": "1"
          },
          "number": "U2 5914",
          "status": "Unknown"
         },
         {
          "aircraft": {
           "model": "Boeing 737-800"
          },
          "airline": {
           "name": "Ryanair"
          },
          "codeshareStatus": "Unknown",
          "isCargo": false,
          "movement": {
           "airport": {
            "iata": "AGP",
            "icao": "LEMG",
            "name": "Málaga"
           },
           "quality": [
            "Basic"
           ],
           "scheduledTimeLocal": "2022-01-23 22:00+01:00",
           "scheduledTimeUtc": "2022-01-23 21:00Z"
          },
          "number": "FR 235",
          "status": "Unknown"
         },
         {
          "aircraft": {
           "model": "Airbus A320"
          },
          "airline": {
           "name": "easyJet"
          },
          "codeshareStatus": "Unknown",
          "isCargo": false,
          "movement": {
           "airport": {
            "iata": "PMI",
            "icao": "LEPA",
            "name": "Palma De Mallorca"
           },
           "quality": [
            "Basic"
           ],
           "scheduledTimeLocal": "2022-01-23 16:50+01:00",
           "scheduledTimeUtc": "2022-01-23 15:50Z",
           "terminal": "1"
          },
          "number": "U2 5808",
          "status": "Unknown"
         },
         {
          "aircraft": {
           "model": "Boeing 737-800"
          },
          "airline": {
           "name": "Ryanair"
          },
          "codeshareStatus": "Unknown",
          "isCargo": false,
          "movement": {
           "airport": {
            "iata": "PMI",
            "icao": "LEPA",
            "name": "Palma De Mallorca"
           },
           "quality": [
            "Basic"
           ],
           "scheduledTimeLocal": "2022-01-23 22:30+01:00",
           "scheduledTimeUtc": "2022-01-23 21:30Z"
          },
          "number": "FR 111",
          "status": "Unknown"
         },
         {
          "aircraft": {
           "model": "Airbus A320"
          },
          "airline": {
           "name": "Air France"
          },
          "codeshareStatus": "Unknown",
          "isCargo": false,
          "movement": {
           "airport": {
            "iata": "CDG",
            "icao": "LFPG",
            "name": "Paris"
           },
           "quality": [
            "Basic"
           ],
           "scheduledTimeLocal": "2022-01-23 14:30+01:00",
           "scheduledTimeUtc": "2022-01-23 13:30Z",
           "terminal": "1"
          },
          "number": "AF 1234",
          "status": "Unknown"
         },
         {
          "aircraft": {
           "model": "Airbus A320"
          },
          "airline": {
           "name": "easyJet"
          },
          "codeshareStatus": "Unknown",
          "isCargo": false,
          "movement": {
           "airport": {
            "iata": "CPH",
            "icao": "EKCH",
            "name": "Copenhagen"
           },
           "quality": [
            "Basic"
           ],
           "scheduledTimeLocal": "2022-01-23 22:25+01:00",
           "scheduledTimeUtc": "2022-01-23 21:25Z",
           "terminal": "1"
          },
          "number": "U2 5690",
          "status": "Unknown"
         },
         {
          "aircraft": {
           "model": "Boeing 737-800"
          },
          "airline": {
           "name": "Ryanair"
          },
          "codeshareStatus": "Unknown",
          "isCargo": false,
          "movement": {
           "airport": {
            "iata": "SOF",
            "icao": "LBSF",
            "name": "Sofia"
           },
           "quality": [
            "Basic"
           ],
           "scheduledTimeLocal": "2022-01-23 22:30+01:00",
           "scheduledTimeUtc": "2022-01-23 21:30Z"
          },
          "number": "FR 1595",
          "status": "Unknown"
         },
         {
          "aircraft": {
           "model": "Airbus A321"
          },
          "airline": {
           "name": "Wizz Air"
          },
          "codeshareStatus": "Unknown",
          "isCargo": false,
          "movement": {
           "airport": {
            "iata": "TIA",
            "icao": "LATI",
            "name": "Tirana"
           },
           "quality": [
            "Basic"
           ],
           "scheduledTimeLocal": "2022-01-23 17:55+01:00",
           "scheduledTimeUtc": "2022-01-23 16:55Z",
           "terminal": "0"
          },
          "number": "W6 6611",
          "status": "Unknown"
         },
         {
          "aircraft": {
           "model": "Airbus A320"
          },
          "airline": {
           "name": "Air France"
          },
          "codeshareStatus": "Unknown",
          "isCargo": false,
          "movement": {
           "airport": {
            "iata": "CDG",
            "icao": "LFPG",
            "name": "Paris"
           },
           "quality": [
            "Basic"
           ],
           "scheduledTimeLocal": "2022-01-23 22:40+01:00",
           "scheduledTimeUtc": "2022-01-23 21:40Z",
           "terminal": "1"
          },
          "number": "AF 1134",
          "status": "Unknown"
         },
         {
          "aircraft": {
           "model": "Airbus A320"
          },
          "airline": {
           "name": "Air France"
          },
          "codeshareStatus": "Unknown",
          "isCargo": false,
          "movement": {
           "airport": {
            "iata": "CDG",
            "icao": "LFPG",
            "name": "Paris"
           },
           "quality": [
            "Basic"
           ],
           "scheduledTimeLocal": "2022-01-23 17:10+01:00",
           "scheduledTimeUtc": "2022-01-23 16:10Z",
           "terminal": "1"
          },
          "number": "AF 1834",
          "status": "Unknown"
         },
         {
          "aircraft": {
           "model": "Airbus A320"
          },
          "airline": {
           "name": "easyJet"
          },
          "codeshareStatus": "Unknown",
          "isCargo": false,
          "movement": {
           "airport": {
            "iata": "BSL",
            "icao": "LFSB",
            "name": "Bâle/Mulhouse"
           },
           "quality": [
            "Basic"
           ],
           "scheduledTimeLocal": "2022-01-23 18:30+01:00",
           "scheduledTimeUtc": "2022-01-23 17:30Z",
           "terminal": "1"
          },
          "number": "U2 5638",
          "status": "Unknown"
         },
         {
          "aircraft": {
           "model": "Airbus A320"
          },
          "airline": {
           "name": "easyJet"
          },
          "codeshareStatus": "Unknown",
          "isCargo": false,
          "movement": {
           "airport": {
            "iata": "CDG",
            "icao": "LFPG",
            "name": "Paris"
           },
           "quality": [
            "Basic"
           ],
           "scheduledTimeLocal": "2022-01-23 19:50+01:00",
           "scheduledTimeUtc": "2022-01-23 18:50Z",
           "terminal": "1"
          },
          "number": "U2 5656",
          "status": "Unknown"
         },
         {
          "aircraft": {
           "model": "Boeing 737-800"
          },
          "airline": {
           "name": "Ryanair"
          },
          "codeshareStatus": "Unknown",
          "isCargo": false,
          "movement": {
           "airport": {
            "iata": "ATH",
            "icao": "LGAV",
            "name": "Athens"
           },
           "quality": [
            "Basic"
           ],
           "scheduledTimeLocal": "2022-01-23 13:35+01:00",
           "scheduledTimeUtc": "2022-01-23 12:35Z"
          },
          "number": "FR 171",
          "status": "Unknown"
         },
         {
          "aircraft": {
           "model": "Airbus A320"
          },
          "airline": {
           "name": "Aegean"
          },
          "codeshareStatus": "IsCodeshared",
          "isCargo": false,
          "movement": {
           "airport": {
            "iata": "ATH",
            "icao": "LGAV",
            "name": "Athens"
           },
           "quality": [
            "Basic"
           ],
           "scheduledTimeLocal": "2022-01-23 16:20+01:00",
           "scheduledTimeUtc": "2022-01-23 15:20Z",
           "terminal": "1"
          },
          "number": "A3 822",
          "status": "Unknown"
         },
         {
          "aircraft": {
           "model": "Airbus A320"
          },
          "airline": {
           "name": "easyJet"
          },
          "codeshareStatus": "Unknown",
          "isCargo": false,
          "movement": {
           "airport": {
            "iata": "ORY",
            "icao": "LFPO",
            "name": "Paris"
           },
           "quality": [
            "Basic"
           ],
           "scheduledTimeLocal": "2022-01-23 15:50+01:00",
           "scheduledTimeUtc": "2022-01-23 14:50Z",
           "terminal": "1"
          },
          "number": "U2 5532",
          "status": "Unknown"
         },
         {
          "aircraft": {
           "model": "Airbus A320"
          },
          "airline": {
           "name": "Wizz Air"
          },
          "codeshareStatus": "Unknown",
          "isCargo": false,
          "movement": {
           "airport": {
            "iata": "BUD",
            "icao": "LHBP",
            "name": "Budapest"
           },
           "quality": [
            "Basic"
           ],
           "scheduledTimeLocal": "2022-01-23 12:05+01:00",
           "scheduledTimeUtc": "2022-01-23 11:05Z",
           "terminal": "0"
          },
          "number": "W6 2315",
          "status": "Unknown"
         },
         {
          "aircraft": {
           "model": "Airbus A319"
          },
          "airline": {
           "name": "easyJet"
          },
          "codeshareStatus": "Unknown",
          "isCargo": false,
          "movement": {
           "airport": {
            "iata": "MXP",
            "icao": "LIMC",
            "name": "Milan"
           },
           "quality": [
            "Basic"
           ],
           "scheduledTimeLocal": "2022-01-23 19:50+01:00",
           "scheduledTimeUtc": "2022-01-23 18:50Z",
           "terminal": "1"
          },
          "number": "U2 4678",
          "status": "Unknown"
         },
         {
          "aircraft": {
           "model": "Boeing 737-800"
          },
          "airline": {
           "name": "Ryanair"
          },
          "codeshareStatus": "Unknown",
          "isCargo": false,
          "movement": {
           "airport": {
            "iata": "BGY",
            "icao": "LIME",
            "name": "Bergamo"
           },
           "quality": [
            "Basic"
           ],
           "scheduledTimeLocal": "2022-01-23 12:05+01:00",
           "scheduledTimeUtc": "2022-01-23 11:05Z"
          },
          "number": "FR 4731",
          "status": "Unknown"
         },
         {
          "aircraft": {
           "model": "Boeing 737-800"
          },
          "airline": {
           "name": "Transavia France"
          },
          "codeshareStatus": "Unknown",
          "isCargo": false,
          "movement": {
           "airport": {
            "iata": "ORY",
            "icao": "LFPO",
            "name": "Paris"
           },
           "quality": [
            "Basic"
           ],
           "scheduledTimeLocal": "2022-01-23 15:30+01:00",
           "scheduledTimeUtc": "2022-01-23 14:30Z",
           "terminal": "2"
          },
          "number": "TO 3754",
          "status": "Unknown"
         },
         {
          "aircraft": {
           "model": "Boeing 737-800"
          },
          "airline": {
           "name": "Ryanair"
          },
          "codeshareStatus": "Unknown",
          "isCargo": false,
          "movement": {
           "airport": {
            "iata": "TSF",
            "icao": "LIPH",
            "name": "Treviso"
           },
           "quality": [
            "Basic"
           ],
           "scheduledTimeLocal": "2022-01-23 16:15+01:00",
           "scheduledTimeUtc": "2022-01-23 15:15Z"
          },
          "number": "FR 4721",
          "status": "Unknown"
         },
         {
          "aircraft": {
           "model": "Boeing 737-800"
          },
          "airline": {
           "name": "Ryanair"
          },
          "codeshareStatus": "Unknown",
          "isCargo": false,
          "movement": {
           "airport": {
            "iata": "CIA",
            "icao": "LIRA",
            "name": "Roma"
           },
           "quality": [
            "Basic"
           ],
           "scheduledTimeLocal": "2022-01-23 17:30+01:00",
           "scheduledTimeUtc": "2022-01-23 16:30Z"
          },
          "number": "FR 141",
          "status": "Unknown"
         },
         {
          "aircraft": {
           "model": "Boeing 737-800"
          },
          "airline": {
           "name": "Ryanair"
          },
          "codeshareStatus": "Unknown",
          "isCargo": false,
          "movement": {
           "airport": {
            "iata": "CIA",
            "icao": "LIRA",
            "name": "Roma"
           },
           "quality": [
            "Basic"
           ],
           "scheduledTimeLocal": "2022-01-23 20:10+01:00",
           "scheduledTimeUtc": "2022-01-23 19:10Z"
          },
          "number": "FR 135",
          "status": "Unknown"
         },
         {
          "aircraft": {
           "model": "Airbus A320"
          },
          "airline": {
           "name": "easyJet"
          },
          "codeshareStatus": "Unknown",
          "isCargo": false,
          "movement": {
           "airport": {
            "iata": "FCO",
            "icao": "LIRF",
            "name": "Rome"
           },
           "quality": [
            "Basic"
           ],
           "scheduledTimeLocal": "2022-01-23 21:15+01:00",
           "scheduledTimeUtc": "2022-01-23 20:15Z",
           "terminal": "1"
          },
          "number": "U2 5708",
          "status": "Unknown"
         },
         {
          "aircraft": {
           "model": "Boeing 737-800"
          },
          "airline": {
           "name": "Ryanair"
          },
          "codeshareStatus": "Unknown",
          "isCargo": false,
          "movement": {
           "airport": {
            "iata": "TLV",
            "icao": "LLBG",
            "name": "Tel Aviv Yafo"
           },
           "quality": [
            "Basic"
           ],
           "scheduledTimeLocal": "2022-01-23 17:30+01:00",
           "scheduledTimeUtc": "2022-01-23 16:30Z"
          },
          "number": "FR 6502",
          "status": "Unknown"
         },
         {
          "aircraft": {
           "model": "Boeing 737-800"
          },
          "airline": {
           "name": "Ryanair"
          },
          "codeshareStatus": "Unknown",
          "isCargo": false,
          "movement": {
           "airport": {
            "iata": "TLV",
            "icao": "LLBG",
            "name": "Tel Aviv Yafo"
           },
           "quality": [
            "Basic"
           ],
           "scheduledTimeLocal": "2022-01-23 21:40+01:00",
           "scheduledTimeUtc": "2022-01-23 20:40Z"
          },
          "number": "FR 6473",
          "status": "Unknown"
         },
         {
          "aircraft": {
           "model": "Airbus A320"
          },
          "airline": {
           "name": "Austrian"
          },
          "codeshareStatus": "Unknown",
          "isCargo": false,
          "movement": {
           "airport": {
            "iata": "VIE",
            "icao": "LOWW",
            "name": "Vienna"
           },
           "quality": [
            "Basic"
           ],
           "scheduledTimeLocal": "2022-01-23 14:20+01:00",
           "scheduledTimeUtc": "2022-01-23 13:20Z",
           "terminal": "1"
          },
          "number": "OS 229",
          "status": "Unknown"
         },
         {
          "aircraft": {
           "model": "Airbus A320"
          },
          "airline": {
           "name": "Austrian"
          },
          "codeshareStatus": "Unknown",
          "isCargo": false,
          "movement": {
           "airport": {
            "iata": "VIE",
            "icao": "LOWW",
            "name": "Vienna"
           },
           "quality": [
            "Basic"
           ],
           "scheduledTimeLocal": "2022-01-23 18:40+01:00",
           "scheduledTimeUtc": "2022-01-23 17:40Z",
           "terminal": "1"
          },
          "number": "OS 235",
          "status": "Unknown"
         },
         {
          "aircraft": {
           "model": "Airbus A320"
          },
          "airline": {
           "name": "Austrian"
          },
          "codeshareStatus": "Unknown",
          "isCargo": false,
          "movement": {
           "airport": {
            "iata": "VIE",
            "icao": "LOWW",
            "name": "Vienna"
           },
           "quality": [
            "Basic"
           ],
           "scheduledTimeLocal": "2022-01-23 22:10+01:00",
           "scheduledTimeUtc": "2022-01-23 21:10Z",
           "terminal": "1"
          },
          "number": "OS 239",
          "status": "Unknown"
         },
         {
          "aircraft": {
           "model": "Boeing 737-800"
          },
          "airline": {
           "name": "Ryanair"
          },
          "codeshareStatus": "Unknown",
          "isCargo": false,
          "movement": {
           "airport": {
            "iata": "FAO",
            "icao": "LPFR",
            "name": "Faro"
           },
           "quality": [
            "Basic"
           ],
           "scheduledTimeLocal": "2022-01-23 21:50+01:00",
           "scheduledTimeUtc": "2022-01-23 20:50Z"
          },
          "number": "FR 91",
          "status": "Unknown"
         },
         {
          "aircraft": {
           "model": "Boeing 737-800"
          },
          "airline": {
           "name": "Ryanair"
          },
          "codeshareStatus": "Unknown",
          "isCargo": false,
          "movement": {
           "airport": {
            "iata": "BGY",
            "icao": "LIME",
            "name": "Bergamo"
           },
           "quality": [
            "Basic"
           ],
           "scheduledTimeLocal": "2022-01-23 22:30+01:00",
           "scheduledTimeUtc": "2022-01-23 21:30Z"
          },
          "number": "FR 4733",
          "status": "Unknown"
         },
         {
          "aircraft": {
           "model": "Airbus A319"
          },
          "airline": {
           "name": "easyJet"
          },
          "codeshareStatus": "Unknown",
          "isCargo": false,
          "movement": {
           "airport": {
            "iata": "BSL",
            "icao": "LFSB",
            "name": "Bâle/Mulhouse"
           },
           "quality": [
            "Basic"
           ],
           "scheduledTimeLocal": "2022-01-23 20:30+01:00",
           "scheduledTimeUtc": "2022-01-23 19:30Z",
           "terminal": "1"
          },
          "number": "U2 5640",
          "status": "Unknown"
         },
         {
          "aircraft": {
           "model": "Boeing 737-800"
          },
          "airline": {
           "name": "Ryanair"
          },
          "codeshareStatus": "Unknown",
          "isCargo": false,
          "movement": {
           "airport": {
            "iata": "SKG",
            "icao": "LGTS",
            "name": "Thessaloniki"
           },
           "quality": [
            "Basic"
           ],
           "scheduledTimeLocal": "2022-01-23 12:00+01:00",
           "scheduledTimeUtc": "2022-01-23 11:00Z"
          },
          "number": "FR 1147",
          "status": "Unknown"
         },
         {
          "aircraft": {
           "model": "Airbus A319"
          },
          "airline": {
           "name": "TAP Air Portugal"
          },
          "codeshareStatus": "Unknown",
          "isCargo": false,
          "movement": {
           "airport": {
            "iata": "LIS",
            "icao": "LPPT",
            "name": "Lisbon"
           },
           "quality": [
            "Basic"
           ],
           "scheduledTimeLocal": "2022-01-23 12:05+01:00",
           "scheduledTimeUtc": "2022-01-23 11:05Z",
           "terminal": "1"
          },
          "number": "TP 536",
          "status": "Unknown"
         },
         {
          "aircraft": {
           "model": "Boeing 737-800"
          },
          "airline": {
           "name": "Ryanair"
          },
          "codeshareStatus": "Unknown",
          "isCargo": false,
          "movement": {
           "airport": {
            "iata": "OPO",
            "icao": "LPPR",
            "name": "Porto"
           },
           "quality": [
            "Basic"
           ],
           "scheduledTimeLocal": "2022-01-23 19:45+01:00",
           "scheduledTimeUtc": "2022-01-23 18:45Z"
          },
          "number": "FR 2945",
          "status": "Unknown"
         },
         {
          "aircraft": {
           "model": "Boeing 737-800"
          },
          "airline": {
           "name": "Ryanair"
          },
          "codeshareStatus": "Unknown",
          "isCargo": false,
          "movement": {
           "airport": {
            "iata": "OTP",
            "icao": "LROP",
            "name": "Bucharest"
           },
           "quality": [
            "Basic"
           ],
           "scheduledTimeLocal": "2022-01-23 22:00+01:00",
           "scheduledTimeUtc": "2022-01-23 21:00Z"
          },
          "number": "FR 328",
          "status": "Unknown"
         },
         {
          "aircraft": {
           "model": "Airbus A320"
          },
          "airline": {
           "name": "easyJet"
          },
          "codeshareStatus": "Unknown",
          "isCargo": false,
          "movement": {
           "airport": {
            "iata": "GVA",
            "icao": "LSGG",
            "name": "Geneva"
           },
           "quality": [
            "Basic"
           ],
           "scheduledTimeLocal": "2022-01-23 22:40+01:00",
           "scheduledTimeUtc": "2022-01-23 21:40Z",
           "terminal": "1"
          },
          "number": "U2 1595",
          "status": "Unknown"
         },
         {
          "aircraft": {
           "model": "Airbus A320"
          },
          "airline": {
           "name": "SWISS"
          },
          "codeshareStatus": "Unknown",
          "isCargo": false,
          "movement": {
           "airport": {
            "iata": "ZRH",
            "icao": "LSZH",
            "name": "Zurich"
           },
           "quality": [
            "Basic"
           ],
           "scheduledTimeLocal": "2022-01-23 14:00+01:00",
           "scheduledTimeUtc": "2022-01-23 13:00Z",
           "terminal": "1"
          },
          "number": "LX 966",
          "status": "Unknown"
         },
         {
          "aircraft": {
           "model": "Airbus A321"
          },
          "airline": {
           "name": "SWISS"
          },
          "codeshareStatus": "Unknown",
          "isCargo": false,
          "movement": {
           "airport": {
            "iata": "ZRH",
            "icao": "LSZH",
            "name": "Zurich"
           },
           "quality": [
            "Basic"
           ],
           "scheduledTimeLocal": "2022-01-23 19:45+01:00",
           "scheduledTimeUtc": "2022-01-23 18:45Z",
           "terminal": "1"
          },
          "number": "LX 978",
          "status": "Unknown"
         },
         {
          "aircraft": {
           "model": "Airbus A320"
          },
          "airline": {
           "name": "easyJet"
          },
          "codeshareStatus": "Unknown",
          "isCargo": false,
          "movement": {
           "airport": {
            "iata": "ZRH",
            "icao": "LSZH",
            "name": "Zurich"
           },
           "quality": [
            "Basic"
           ],
           "scheduledTimeLocal": "2022-01-23 22:30+01:00",
           "scheduledTimeUtc": "2022-01-23 21:30Z",
           "terminal": "1"
          },
          "number": "U2 5874",
          "status": "Unknown"
         },
         {
          "aircraft": {
           "model": "Boeing 737-800"
          },
          "airline": {
           "name": "SunExpress"
          },
          "codeshareStatus": "Unknown",
          "isCargo": false,
          "movement": {
           "airport": {
            "iata": "AYT",
            "icao": "LTAI",
            "name": "Antalya"
           },
           "quality": [
            "Basic"
           ],
           "scheduledTimeLocal": "2022-01-23 15:45+01:00",
           "scheduledTimeUtc": "2022-01-23 14:45Z",
           "terminal": "1"
          },
          "number": "XQ 160",
          "status": "Unknown"
         },
         {
          "aircraft": {
           "model": "Boeing 737-800"
          },
          "airline": {
           "name": "Ryanair"
          },
          "codeshareStatus": "Unknown",
          "isCargo": false,
          "movement": {
           "airport": {
            "iata": "LIS",
            "icao": "LPPT",
            "name": "Lisbon"
           },
           "quality": [
            "Basic"
           ],
           "scheduledTimeLocal": "2022-01-23 22:20+01:00",
           "scheduledTimeUtc": "2022-01-23 21:20Z"
          },
          "number": "FR 1143",
          "status": "Unknown"
         },
         {
          "aircraft": {
           "model": "Boeing 737-800"
          },
          "airline": {
           "name": "Turkish"
          },
          "codeshareStatus": "Unknown",
          "isCargo": false,
          "movement": {
           "airport": {
            "iata": "SAW",
            "icao": "LTFJ",
            "name": "Istanbul"
           },
           "quality": [
            "Basic"
           ],
           "scheduledTimeLocal": "2022-01-23 12:30+01:00",
           "scheduledTimeUtc": "2022-01-23 11:30Z",
           "terminal": "1"
          },
          "number": "TK 7728",
          "status": "Unknown"
         },
         {
          "aircraft": {
           "model": "Airbus A320"
          },
          "airline": {
           "name": "TAP Air Portugal"
          },
          "codeshareStatus": "Unknown",
          "isCargo": false,
          "movement": {
           "airport": {
            "iata": "LIS",
            "icao": "LPPT",
            "name": "Lisbon"
           },
           "quality": [
            "Basic"
           ],
           "scheduledTimeLocal": "2022-01-23 22:50+01:00",
           "scheduledTimeUtc": "2022-01-23 21:50Z",
           "terminal": "1"
          },
          "number": "TP 532",
          "status": "Unknown"
         },
         {
          "aircraft": {
           "model": "Boeing 737-800"
          },
          "airline": {
           "name": "SunExpress"
          },
          "codeshareStatus": "Unknown",
          "isCargo": false,
          "movement": {
           "airport": {
            "iata": "ADB",
            "icao": "LTBJ",
            "name": "İzmir"
           },
           "quality": [
            "Basic"
           ],
           "scheduledTimeLocal": "2022-01-23 12:50+01:00",
           "scheduledTimeUtc": "2022-01-23 11:50Z",
           "terminal": "1"
          },
          "number": "XQ 946",
          "status": "Unknown"
         },
         {
          "aircraft": {
           "model": "Airbus A320"
          },
          "airline": {
           "name": "Wizz Air"
          },
          "codeshareStatus": "Unknown",
          "isCargo": false,
          "movement": {
           "airport": {
            "iata": "TZL",
            "icao": "LQTZ",
            "name": "Tuzla"
           },
           "quality": [
            "Basic"
           ],
           "scheduledTimeLocal": "2022-01-23 13:55+01:00",
           "scheduledTimeUtc": "2022-01-23 12:55Z",
           "terminal": "0"
          },
          "number": "W6 4275",
          "status": "Unknown"
         },
         {
          "aircraft": {
           "model": "Airbus A320"
          },
          "airline": {
           "name": "Air Serbia"
          },
          "codeshareStatus": "Unknown",
          "isCargo": false,
          "movement": {
           "airport": {
            "iata": "BEG",
            "icao": "LYBE",
            "name": "Belgrade"
           },
           "quality": [
            "Basic"
           ],
           "scheduledTimeLocal": "2022-01-23 20:00+01:00",
           "scheduledTimeUtc": "2022-01-23 19:00Z",
           "terminal": "1"
          },
          "number": "JU 354",
          "status": "Unknown"
         },
         {
          "aircraft": {
           "model": "Boeing 737-800"
          },
          "airline": {
           "name": "Ryanair"
          },
          "codeshareStatus": "Unknown",
          "isCargo": false,
          "movement": {
           "airport": {
            "iata": "TGD",
            "icao": "LYPG",
            "name": "Podgorica"
           },
           "quality": [
            "Basic"
           ],
           "scheduledTimeLocal": "2022-01-23 12:00+01:00",
           "scheduledTimeUtc": "2022-01-23 11:00Z"
          },
          "number": "FR 1579",
          "status": "Unknown"
         },
         {
          "aircraft": {
           "model": "Boeing 737-800"
          },
          "airline": {
           "name": "Pegasus"
          },
          "codeshareStatus": "Unknown",
          "isCargo": false,
          "movement": {
           "airport": {
            "iata": "SAW",
            "icao": "LTFJ",
            "name": "Istanbul"
           },
           "quality": [
            "Basic"
           ],
           "scheduledTimeLocal": "2022-01-23 13:15+01:00",
           "scheduledTimeUtc": "2022-01-23 12:15Z",
           "terminal": "0"
          },
          "number": "PC 979",
          "status": "Unknown"
         },
         {
          "aircraft": {
           "model": "Boeing 787-9"
          },
          "airline": {
           "name": "Turkish"
          },
          "codeshareStatus": "Unknown",
          "isCargo": false,
          "movement": {
           "airport": {
            "iata": "IST",
            "icao": "LTFM",
            "name": "Istanbul"
           },
           "quality": [
            "Basic"
           ],
           "scheduledTimeLocal": "2022-01-23 17:30+01:00",
           "scheduledTimeUtc": "2022-01-23 16:30Z",
           "terminal": "1"
          },
          "number": "TK 1723",
          "status": "Unknown"
         },
         {
          "aircraft": {
           "model": "Boeing 737-800"
          },
          "airline": {
           "name": "Ryanair"
          },
          "codeshareStatus": "Unknown",
          "isCargo": false,
          "movement": {
           "airport": {
            "iata": "KBP",
            "icao": "UKBB",
            "name": "Kiev"
           },
           "quality": [
            "Basic"
           ],
           "scheduledTimeLocal": "2022-01-23 18:05+01:00",
           "scheduledTimeUtc": "2022-01-23 17:05Z"
          },
          "number": "FR 3199",
          "status": "Unknown"
         },
         {
          "aircraft": {
           "model": "Airbus A321"
          },
          "airline": {
           "name": "Turkish"
          },
          "codeshareStatus": "Unknown",
          "isCargo": false,
          "movement": {
           "airport": {
            "iata": "IST",
            "icao": "LTFM",
            "name": "Istanbul"
           },
           "quality": [
            "Basic"
           ],
           "scheduledTimeLocal": "2022-01-23 13:30+01:00",
           "scheduledTimeUtc": "2022-01-23 12:30Z",
           "terminal": "1"
          },
          "number": "TK 1725",
          "status": "Unknown"
         },
         {
          "aircraft": {
           "model": "Airbus A321"
          },
          "airline": {
           "name": "SmartLynx"
          },
          "codeshareStatus": "Unknown",
          "isCargo": false,
          "movement": {
           "airport": {
            "iata": "DXB",
            "icao": "OMDB",
            "name": "Dubai City"
           },
           "quality": [
            "Basic"
           ],
           "scheduledTimeLocal": "2022-01-23 12:10+01:00",
           "scheduledTimeUtc": "2022-01-23 11:10Z",
           "terminal": "0"
          },
          "number": "6Y 3179",
          "status": "Unknown"
         },
         {
          "aircraft": {
           "model": "Boeing 787-8"
          },
          "airline": {
           "name": "Qatar Airways"
          },
          "codeshareStatus": "Unknown",
          "isCargo": false,
          "movement": {
           "airport": {
            "iata": "DOH",
            "icao": "OTHH",
            "name": "Doha"
           },
           "quality": [
            "Basic"
           ],
           "scheduledTimeLocal": "2022-01-23 12:40+01:00",
           "scheduledTimeUtc": "2022-01-23 11:40Z",
           "terminal": "1"
          },
          "number": "QR 81",
          "status": "Unknown"
         },
         {
          "aircraft": {
           "model": "Airbus A320"
          },
          "airline": {
           "name": "Wizz Air"
          },
          "codeshareStatus": "Unknown",
          "isCargo": false,
          "movement": {
           "airport": {
            "iata": "IEV",
            "icao": "UKKK",
            "name": "Kiev"
           },
           "quality": [
            "Basic"
           ],
           "scheduledTimeLocal": "2022-01-23 20:30+01:00",
           "scheduledTimeUtc": "2022-01-23 19:30Z",
           "terminal": "0"
          },
          "number": "W6 6113",
          "status": "Unknown"
         },
         {
          "aircraft": {
           "model": "Airbus A320"
          },
          "airline": {
           "name": "Aeroflot"
          },
          "codeshareStatus": "IsOperator",
          "isCargo": false,
          "movement": {
           "airport": {
            "iata": "SVO",
            "icao": "UUEE",
            "name": "Moscow"
           },
           "quality": [
            "Basic"
           ],
           "scheduledTimeLocal": "2022-01-23 12:55+01:00",
           "scheduledTimeUtc": "2022-01-23 11:55Z",
           "terminal": "1"
          },
          "number": "SU 2568",
          "status": "Unknown"
         },
         {
          "aircraft": {
           "model": "Embraer 190"
          },
          "airline": {
           "name": "Pegas Fly"
          },
          "codeshareStatus": "Unknown",
          "isCargo": false,
          "movement": {
           "airport": {
            "iata": "KGD",
            "icao": "UMKK",
            "name": "Kaliningrad"
           },
           "quality": [
            "Basic"
           ],
           "scheduledTimeLocal": "2022-01-23 13:10+01:00",
           "scheduledTimeUtc": "2022-01-23 12:10Z",
           "terminal": "1"
          },
          "number": "EO 2267",
          "status": "Unknown"
         },
         {
          "aircraft": {
           "model": "Airbus A320"
          },
          "airline": {
           "name": "Aeroflot"
          },
          "codeshareStatus": "IsOperator",
          "isCargo": false,
          "movement": {
           "airport": {
            "iata": "SVO",
            "icao": "UUEE",
            "name": "Moscow"
           },
           "quality": [
            "Basic"
           ],
           "scheduledTimeLocal": "2022-01-23 17:55+01:00",
           "scheduledTimeUtc": "2022-01-23 16:55Z",
           "terminal": "1"
          },
          "number": "SU 2664",
          "status": "Unknown"
         },
         {
          "aircraft": {
           "model": "Boeing 737-800"
          },
          "airline": {
           "name": "Pobeda"
          },
          "codeshareStatus": "Unknown",
          "isCargo": false,
          "movement": {
           "airport": {
            "iata": "VKO",
            "icao": "UUWW",
            "name": "Moscow"
           },
           "quality": [
            "Basic"
           ],
           "scheduledTimeLocal": "2022-01-23 18:20+01:00",
           "scheduledTimeUtc": "2022-01-23 17:20Z",
           "terminal": "1"
          },
          "number": "DP 935",
          "status": "Unknown"
         }
        ]
       }
      ],
      "text/plain": [
       "<IPython.core.display.JSON object>"
      ]
     },
     "execution_count": 18,
     "metadata": {
      "application/json": {
       "expanded": false,
       "root": "root"
      }
     },
     "output_type": "execute_result"
    }
   ],
   "source": [
    "# # flights between 07:00 - 19:00\n",
    "JSON(response_one)"
   ]
  },
  {
   "cell_type": "markdown",
   "id": "c9b2e4b0-bc81-41f0-913c-74840fc76856",
   "metadata": {},
   "source": [
    "### JSON display 2"
   ]
  },
  {
   "cell_type": "code",
   "execution_count": 41,
   "id": "62e426a6-9a24-4292-ba7d-d21decba5b74",
   "metadata": {
    "tags": []
   },
   "outputs": [
    {
     "data": {
      "application/json": {
       "arrivals": [
        {
         "aircraft": {
          "model": "Airbus A318"
         },
         "airline": {
          "name": "Air France"
         },
         "codeshareStatus": "Unknown",
         "isCargo": false,
         "movement": {
          "airport": {
           "iata": "CDG",
           "icao": "LFPG",
           "name": "Paris"
          },
          "quality": [
           "Basic"
          ],
          "scheduledTimeLocal": "2021-11-25 19:35+01:00",
          "scheduledTimeUtc": "2021-11-25 18:35Z",
          "terminal": "1"
         },
         "number": "AF 1534",
         "status": "Unknown"
        },
        {
         "aircraft": {
          "model": "Embraer 190"
         },
         "airline": {
          "name": "British Airways"
         },
         "codeshareStatus": "IsCodeshared",
         "isCargo": false,
         "movement": {
          "airport": {
           "iata": "LCY",
           "icao": "EGLC",
           "name": "London"
          },
          "quality": [
           "Basic"
          ],
          "scheduledTimeLocal": "2021-11-25 19:30+01:00",
          "scheduledTimeUtc": "2021-11-25 18:30Z",
          "terminal": "1"
         },
         "number": "BA 8743",
         "status": "Unknown"
        },
        {
         "aircraft": {
          "model": "ATR 72"
         },
         "airline": {
          "name": "Danish Air"
         },
         "codeshareStatus": "Unknown",
         "isCargo": false,
         "movement": {
          "airport": {
           "iata": "SCN",
           "icao": "EDDR",
           "name": "Saarbrücken"
          },
          "quality": [
           "Basic"
          ],
          "scheduledTimeLocal": "2021-11-25 19:10+01:00",
          "scheduledTimeUtc": "2021-11-25 18:10Z",
          "terminal": "0"
         },
         "number": "DX 125",
         "status": "Unknown"
        },
        {
         "aircraft": {
          "model": "Boeing 737-800"
         },
         "airline": {
          "name": "Norwegian Air Shuttle"
         },
         "codeshareStatus": "Unknown",
         "isCargo": false,
         "movement": {
          "airport": {
           "iata": "OSL",
           "icao": "ENGM",
           "name": "Oslo"
          },
          "quality": [
           "Basic"
          ],
          "scheduledTimeLocal": "2021-11-25 19:35+01:00",
          "scheduledTimeUtc": "2021-11-25 18:35Z",
          "terminal": "1"
         },
         "number": "DY 1108",
         "status": "Unknown"
        },
        {
         "aircraft": {
          "model": "Boeing 737-800"
         },
         "airline": {
          "name": "Ryanair"
         },
         "codeshareStatus": "Unknown",
         "isCargo": false,
         "movement": {
          "airport": {
           "iata": "CIA",
           "icao": "LIRA",
           "name": "Roma"
          },
          "quality": [
           "Basic"
          ],
          "scheduledTimeLocal": "2021-11-25 19:55+01:00",
          "scheduledTimeUtc": "2021-11-25 18:55Z"
         },
         "number": "FR 141",
         "status": "Unknown"
        },
        {
         "aircraft": {
          "model": "Boeing 737-800"
         },
         "airline": {
          "name": "Ryanair"
         },
         "codeshareStatus": "Unknown",
         "isCargo": false,
         "movement": {
          "airport": {
           "iata": "AGP",
           "icao": "LEMG",
           "name": "Málaga"
          },
          "quality": [
           "Basic"
          ],
          "scheduledTimeLocal": "2021-11-25 19:40+01:00",
          "scheduledTimeUtc": "2021-11-25 18:40Z"
         },
         "number": "FR 2591",
         "status": "Unknown"
        },
        {
         "aircraft": {
          "model": "Boeing 737-800"
         },
         "airline": {
          "name": "Ryanair"
         },
         "codeshareStatus": "Unknown",
         "isCargo": false,
         "movement": {
          "airport": {
           "iata": "TLL",
           "icao": "EETN",
           "name": "Tallinn"
          },
          "quality": [
           "Basic"
          ],
          "scheduledTimeLocal": "2021-11-25 19:10+01:00",
          "scheduledTimeUtc": "2021-11-25 18:10Z"
         },
         "number": "FR 2733",
         "status": "Unknown"
        },
        {
         "aircraft": {
          "model": "Airbus A320"
         },
         "airline": {
          "name": "Iberia"
         },
         "codeshareStatus": "Unknown",
         "isCargo": false,
         "movement": {
          "airport": {
           "iata": "MAD",
           "icao": "LEMD",
           "name": "Madrid"
          },
          "quality": [
           "Basic"
          ],
          "scheduledTimeLocal": "2021-11-25 19:05+01:00",
          "scheduledTimeUtc": "2021-11-25 18:05Z",
          "terminal": "1"
         },
         "number": "IB 3672",
         "status": "Unknown"
        },
        {
         "aircraft": {
          "model": "Airbus A320"
         },
         "airline": {
          "name": "Lufthansa"
         },
         "codeshareStatus": "IsCodeshared",
         "isCargo": false,
         "movement": {
          "airport": {
           "iata": "FRA",
           "icao": "EDDF",
           "name": "Frankfurt-am-Main"
          },
          "quality": [
           "Basic"
          ],
          "scheduledTimeLocal": "2021-11-25 19:55+01:00",
          "scheduledTimeUtc": "2021-11-25 18:55Z",
          "terminal": "1"
         },
         "number": "LH 190",
         "status": "Unknown"
        },
        {
         "aircraft": {
          "model": "Airbus A320"
         },
         "airline": {
          "name": "Lufthansa"
         },
         "codeshareStatus": "Unknown",
         "isCargo": false,
         "movement": {
          "airport": {
           "iata": "MUC",
           "icao": "EDDM",
           "name": "Munich"
          },
          "quality": [
           "Basic"
          ],
          "scheduledTimeLocal": "2021-11-25 19:15+01:00",
          "scheduledTimeUtc": "2021-11-25 18:15Z",
          "terminal": "1"
         },
         "number": "LH 2330",
         "status": "Unknown"
        },
        {
         "aircraft": {
          "model": "Airbus A320 NEO"
         },
         "airline": {
          "name": "SWISS"
         },
         "codeshareStatus": "Unknown",
         "isCargo": false,
         "movement": {
          "airport": {
           "iata": "ZRH",
           "icao": "LSZH",
           "name": "Zurich"
          },
          "quality": [
           "Basic"
          ],
          "scheduledTimeLocal": "2021-11-25 19:45+01:00",
          "scheduledTimeUtc": "2021-11-25 18:45Z",
          "terminal": "1"
         },
         "number": "LX 978",
         "status": "Unknown"
        },
        {
         "aircraft": {
          "model": "Boeing 737-800"
         },
         "airline": {
          "name": "El Al"
         },
         "codeshareStatus": "Unknown",
         "isCargo": false,
         "movement": {
          "airport": {
           "iata": "TLV",
           "icao": "LLBG",
           "name": "Tel Aviv Yafo"
          },
          "quality": [
           "Basic"
          ],
          "scheduledTimeLocal": "2021-11-25 19:50+01:00",
          "scheduledTimeUtc": "2021-11-25 18:50Z",
          "terminal": "1"
         },
         "number": "LY 2373",
         "status": "Unknown"
        },
        {
         "aircraft": {
          "model": "Airbus A319"
         },
         "airline": {
          "name": "Eurowings"
         },
         "codeshareStatus": "Unknown",
         "isCargo": false,
         "movement": {
          "airport": {
           "iata": "STR",
           "icao": "EDDS",
           "name": "Stuttgart"
          },
          "quality": [
           "Basic"
          ],
          "scheduledTimeLocal": "2021-11-25 20:05+01:00",
          "scheduledTimeUtc": "2021-11-25 19:05Z",
          "terminal": "1"
         },
         "number": "EW 2006",
         "status": "Unknown"
        },
        {
         "aircraft": {
          "model": "Airbus A320"
         },
         "airline": {
          "name": "Eurowings"
         },
         "codeshareStatus": "Unknown",
         "isCargo": false,
         "movement": {
          "airport": {
           "iata": "DUS",
           "icao": "EDDL",
           "name": "Duesseldorf"
          },
          "quality": [
           "Basic"
          ],
          "scheduledTimeLocal": "2021-11-25 20:05+01:00",
          "scheduledTimeUtc": "2021-11-25 19:05Z",
          "terminal": "1"
         },
         "number": "EW 9044",
         "status": "Unknown"
        },
        {
         "aircraft": {
          "model": "Bombardier Dash 8 Q400 / DHC-8-400"
         },
         "airline": {
          "name": "Luxair"
         },
         "codeshareStatus": "Unknown",
         "isCargo": false,
         "movement": {
          "airport": {
           "iata": "LUX",
           "icao": "ELLX",
           "name": "Luxembourg"
          },
          "quality": [
           "Basic"
          ],
          "scheduledTimeLocal": "2021-11-25 20:10+01:00",
          "scheduledTimeUtc": "2021-11-25 19:10Z",
          "terminal": "1"
         },
         "number": "LG 9473",
         "status": "Unknown"
        },
        {
         "aircraft": {
          "model": "Airbus A320 NEO"
         },
         "airline": {
          "name": "Lufthansa"
         },
         "codeshareStatus": "IsCodeshared",
         "isCargo": false,
         "movement": {
          "airport": {
           "iata": "MUC",
           "icao": "EDDM",
           "name": "Munich"
          },
          "quality": [
           "Basic"
          ],
          "scheduledTimeLocal": "2021-11-25 20:10+01:00",
          "scheduledTimeUtc": "2021-11-25 19:10Z",
          "terminal": "1"
         },
         "number": "LH 1954",
         "status": "Unknown"
        },
        {
         "aircraft": {
          "model": "Airbus A320"
         },
         "airline": {
          "name": "Ghodawat Enterprises"
         },
         "codeshareStatus": "Unknown",
         "isCargo": false,
         "movement": {
          "airport": {
           "iata": "KEF",
           "icao": "BIKF",
           "name": "Reykjavik"
          },
          "quality": [
           "Basic"
          ],
          "scheduledTimeLocal": "2021-11-25 20:00+01:00",
          "scheduledTimeUtc": "2021-11-25 19:00Z",
          "terminal": "1"
         },
         "number": "OG 704",
         "status": "Unknown"
        },
        {
         "aircraft": {
          "model": "Airbus A320"
         },
         "airline": {
          "name": "Austrian"
         },
         "codeshareStatus": "Unknown",
         "isCargo": false,
         "movement": {
          "airport": {
           "iata": "VIE",
           "icao": "LOWW",
           "name": "Vienna"
          },
          "quality": [
           "Basic"
          ],
          "scheduledTimeLocal": "2021-11-25 20:20+01:00",
          "scheduledTimeUtc": "2021-11-25 19:20Z",
          "terminal": "1"
         },
         "number": "OS 237",
         "status": "Unknown"
        },
        {
         "aircraft": {
          "model": "Airbus A320"
         },
         "airline": {
          "name": "easyJet"
         },
         "codeshareStatus": "Unknown",
         "isCargo": false,
         "movement": {
          "airport": {
           "iata": "CDG",
           "icao": "LFPG",
           "name": "Paris"
          },
          "quality": [
           "Basic"
          ],
          "scheduledTimeLocal": "2021-11-25 20:05+01:00",
          "scheduledTimeUtc": "2021-11-25 19:05Z",
          "terminal": "1"
         },
         "number": "U2 5676",
         "status": "Unknown"
        },
        {
         "aircraft": {
          "model": "Airbus A319"
         },
         "airline": {
          "name": "easyJet"
         },
         "codeshareStatus": "Unknown",
         "isCargo": false,
         "movement": {
          "airport": {
           "iata": "ZRH",
           "icao": "LSZH",
           "name": "Zurich"
          },
          "quality": [
           "Basic"
          ],
          "scheduledTimeLocal": "2021-11-25 20:50+01:00",
          "scheduledTimeUtc": "2021-11-25 19:50Z",
          "terminal": "1"
         },
         "number": "U2 5868",
         "status": "Unknown"
        },
        {
         "aircraft": {
          "model": "Airbus A320"
         },
         "airline": {
          "name": "easyJet"
         },
         "codeshareStatus": "Unknown",
         "isCargo": false,
         "movement": {
          "airport": {
           "iata": "BRS",
           "icao": "EGGD",
           "name": "Bristol"
          },
          "quality": [
           "Basic"
          ],
          "scheduledTimeLocal": "2021-11-25 20:40+01:00",
          "scheduledTimeUtc": "2021-11-25 19:40Z",
          "terminal": "1"
         },
         "number": "U2 6237",
         "status": "Unknown"
        },
        {
         "aircraft": {
          "model": "Embraer 190"
         },
         "airline": {
          "name": "British Airways"
         },
         "codeshareStatus": "IsCodeshared",
         "isCargo": false,
         "movement": {
          "airport": {
           "iata": "LCY",
           "icao": "EGLC",
           "name": "London"
          },
          "quality": [
           "Basic"
          ],
          "scheduledTimeLocal": "2021-11-25 21:10+01:00",
          "scheduledTimeUtc": "2021-11-25 20:10Z",
          "terminal": "1"
         },
         "number": "BA 8495",
         "status": "Unknown"
        },
        {
         "aircraft": {
          "model": "Airbus A320"
         },
         "airline": {
          "name": "British Airways"
         },
         "codeshareStatus": "IsCodeshared",
         "isCargo": false,
         "movement": {
          "airport": {
           "iata": "LHR",
           "icao": "EGLL",
           "name": "London"
          },
          "quality": [
           "Basic"
          ],
          "scheduledTimeLocal": "2021-11-25 21:45+01:00",
          "scheduledTimeUtc": "2021-11-25 20:45Z",
          "terminal": "1"
         },
         "number": "BA 988",
         "status": "Unknown"
        },
        {
         "aircraft": {
          "model": "Boeing 737-800"
         },
         "airline": {
          "name": "Norwegian Air Shuttle"
         },
         "codeshareStatus": "Unknown",
         "isCargo": false,
         "movement": {
          "airport": {
           "iata": "BGO",
           "icao": "ENBR",
           "name": "Bergen"
          },
          "quality": [
           "Basic"
          ],
          "scheduledTimeLocal": "2021-11-25 21:20+01:00",
          "scheduledTimeUtc": "2021-11-25 20:20Z",
          "terminal": "1"
         },
         "number": "DY 1160",
         "status": "Unknown"
        },
        {
         "aircraft": {
          "model": "Airbus A320"
         },
         "airline": {
          "name": "Eurowings"
         },
         "codeshareStatus": "Unknown",
         "isCargo": false,
         "movement": {
          "airport": {
           "iata": "DUS",
           "icao": "EDDL",
           "name": "Duesseldorf"
          },
          "quality": [
           "Basic"
          ],
          "scheduledTimeLocal": "2021-11-25 21:45+01:00",
          "scheduledTimeUtc": "2021-11-25 20:45Z",
          "terminal": "1"
         },
         "number": "EW 8047",
         "status": "Unknown"
        },
        {
         "aircraft": {
          "model": "Airbus A320"
         },
         "airline": {
          "name": "Eurowings"
         },
         "codeshareStatus": "Unknown",
         "isCargo": false,
         "movement": {
          "airport": {
           "iata": "CGN",
           "icao": "EDDK",
           "name": "Cologne"
          },
          "quality": [
           "Basic"
          ],
          "scheduledTimeLocal": "2021-11-25 21:40+01:00",
          "scheduledTimeUtc": "2021-11-25 20:40Z",
          "terminal": "1"
         },
         "number": "EW 8055",
         "status": "Unknown"
        },
        {
         "aircraft": {
          "model": "Boeing 737-800"
         },
         "airline": {
          "name": "Ryanair"
         },
         "codeshareStatus": "Unknown",
         "isCargo": false,
         "movement": {
          "airport": {
           "iata": "SKG",
           "icao": "LGTS",
           "name": "Thessaloniki"
          },
          "quality": [
           "Basic"
          ],
          "scheduledTimeLocal": "2021-11-25 21:45+01:00",
          "scheduledTimeUtc": "2021-11-25 20:45Z"
         },
         "number": "FR 1147",
         "status": "Unknown"
        },
        {
         "aircraft": {
          "model": "Boeing 737-800"
         },
         "airline": {
          "name": "Ryanair"
         },
         "codeshareStatus": "Unknown",
         "isCargo": false,
         "movement": {
          "airport": {
           "iata": "OTP",
           "icao": "LROP",
           "name": "Bucharest"
          },
          "quality": [
           "Basic"
          ],
          "scheduledTimeLocal": "2021-11-25 21:30+01:00",
          "scheduledTimeUtc": "2021-11-25 20:30Z"
         },
         "number": "FR 328",
         "status": "Unknown"
        },
        {
         "aircraft": {
          "model": "Boeing 737-800",
          "reg": "PH-BGX"
         },
         "airline": {
          "name": "KLM"
         },
         "codeshareStatus": "IsOperator",
         "isCargo": false,
         "movement": {
          "airport": {
           "iata": "AMS",
           "icao": "EHAM",
           "name": "Amsterdam"
          },
          "quality": [
           "Basic"
          ],
          "scheduledTimeLocal": "2021-11-25 21:55+01:00",
          "scheduledTimeUtc": "2021-11-25 20:55Z",
          "terminal": "1"
         },
         "number": "KL 1835",
         "status": "Unknown"
        },
        {
         "aircraft": {
          "model": "Airbus A319"
         },
         "airline": {
          "name": "easyJet"
         },
         "codeshareStatus": "Unknown",
         "isCargo": false,
         "movement": {
          "airport": {
           "iata": "AMS",
           "icao": "EHAM",
           "name": "Amsterdam"
          },
          "quality": [
           "Basic"
          ],
          "scheduledTimeLocal": "2021-11-25 21:30+01:00",
          "scheduledTimeUtc": "2021-11-25 20:30Z",
          "terminal": "1"
         },
         "number": "U2 5108",
         "status": "Unknown"
        },
        {
         "aircraft": {
          "model": "Airbus A320"
         },
         "airline": {
          "name": "easyJet"
         },
         "codeshareStatus": "Unknown",
         "isCargo": false,
         "movement": {
          "airport": {
           "iata": "ARN",
           "icao": "ESSA",
           "name": "Stockholm"
          },
          "quality": [
           "Basic"
          ],
          "scheduledTimeLocal": "2021-11-25 21:50+01:00",
          "scheduledTimeUtc": "2021-11-25 20:50Z",
          "terminal": "1"
         },
         "number": "U2 5216",
         "status": "Unknown"
        },
        {
         "aircraft": {
          "model": "Airbus A320"
         },
         "airline": {
          "name": "easyJet"
         },
         "codeshareStatus": "Unknown",
         "isCargo": false,
         "movement": {
          "airport": {
           "name": "Rome"
          },
          "quality": [
           "Basic"
          ],
          "scheduledTimeLocal": "2021-11-25 21:30+01:00",
          "scheduledTimeUtc": "2021-11-25 20:30Z",
          "terminal": "1"
         },
         "number": "U2 5708",
         "status": "Unknown"
        },
        {
         "aircraft": {
          "model": "Airbus A320"
         },
         "airline": {
          "name": "easyJet"
         },
         "codeshareStatus": "Unknown",
         "isCargo": false,
         "movement": {
          "airport": {
           "iata": "VCE",
           "icao": "LIPZ",
           "name": "Venice"
          },
          "quality": [
           "Basic"
          ],
          "scheduledTimeLocal": "2021-11-25 21:45+01:00",
          "scheduledTimeUtc": "2021-11-25 20:45Z",
          "terminal": "1"
         },
         "number": "U2 5838",
         "status": "Unknown"
        },
        {
         "aircraft": {
          "model": "Airbus A320"
         },
         "airline": {
          "name": "easyJet"
         },
         "codeshareStatus": "Unknown",
         "isCargo": false,
         "movement": {
          "airport": {
           "iata": "LGW",
           "icao": "EGKK",
           "name": "London"
          },
          "quality": [
           "Basic"
          ],
          "scheduledTimeLocal": "2021-11-25 21:00+01:00",
          "scheduledTimeUtc": "2021-11-25 20:00Z",
          "terminal": "1"
         },
         "number": "U2 8125",
         "status": "Unknown"
        },
        {
         "aircraft": {
          "model": "Airbus A320"
         },
         "airline": {
          "name": "Air France"
         },
         "codeshareStatus": "Unknown",
         "isCargo": false,
         "movement": {
          "airport": {
           "iata": "CDG",
           "icao": "LFPG",
           "name": "Paris"
          },
          "quality": [
           "Basic"
          ],
          "scheduledTimeLocal": "2021-11-25 22:40+01:00",
          "scheduledTimeUtc": "2021-11-25 21:40Z",
          "terminal": "1"
         },
         "number": "AF 1134",
         "status": "Unknown"
        },
        {
         "aircraft": {
          "model": "Airbus A320"
         },
         "airline": {
          "name": "Eurowings"
         },
         "codeshareStatus": "Unknown",
         "isCargo": false,
         "movement": {
          "airport": {
           "iata": "STR",
           "icao": "EDDS",
           "name": "Stuttgart"
          },
          "quality": [
           "Basic"
          ],
          "scheduledTimeLocal": "2021-11-25 22:25+01:00",
          "scheduledTimeUtc": "2021-11-25 21:25Z",
          "terminal": "1"
         },
         "number": "EW 8007",
         "status": "Unknown"
        },
        {
         "aircraft": {
          "model": "Boeing 737-800"
         },
         "airline": {
          "name": "Ryanair"
         },
         "codeshareStatus": "Unknown",
         "isCargo": false,
         "movement": {
          "airport": {
           "iata": "LIS",
           "icao": "LPPT",
           "name": "Lisbon"
          },
          "quality": [
           "Basic"
          ],
          "scheduledTimeLocal": "2021-11-25 22:15+01:00",
          "scheduledTimeUtc": "2021-11-25 21:15Z"
         },
         "number": "FR 1143",
         "status": "Unknown"
        },
        {
         "aircraft": {
          "model": "Boeing 737-800"
         },
         "airline": {
          "name": "Ryanair"
         },
         "codeshareStatus": "Unknown",
         "isCargo": false,
         "movement": {
          "airport": {
           "name": "Bologna"
          },
          "quality": [
           "Basic"
          ],
          "scheduledTimeLocal": "2021-11-25 22:00+01:00",
          "scheduledTimeUtc": "2021-11-25 21:00Z"
         },
         "number": "FR 137",
         "status": "Unknown"
        },
        {
         "aircraft": {
          "model": "Boeing 737-800"
         },
         "airline": {
          "name": "Ryanair"
         },
         "codeshareStatus": "Unknown",
         "isCargo": false,
         "movement": {
          "airport": {
           "iata": "STN",
           "icao": "EGSS",
           "name": "London"
          },
          "quality": [
           "Basic"
          ],
          "scheduledTimeLocal": "2021-11-25 22:10+01:00",
          "scheduledTimeUtc": "2021-11-25 21:10Z"
         },
         "number": "FR 147",
         "status": "Unknown"
        },
        {
         "aircraft": {
          "model": "Boeing 737-800"
         },
         "airline": {
          "name": "Ryanair"
         },
         "codeshareStatus": "Unknown",
         "isCargo": false,
         "movement": {
          "airport": {
           "iata": "BRU",
           "icao": "EBBR",
           "name": "Brussels"
          },
          "quality": [
           "Basic"
          ],
          "scheduledTimeLocal": "2021-11-25 22:25+01:00",
          "scheduledTimeUtc": "2021-11-25 21:25Z"
         },
         "number": "FR 167",
         "status": "Unknown"
        },
        {
         "aircraft": {
          "model": "Boeing 737-800"
         },
         "airline": {
          "name": "Ryanair"
         },
         "codeshareStatus": "Unknown",
         "isCargo": false,
         "movement": {
          "airport": {
           "iata": "LPA",
           "icao": "GCLP",
           "name": "Gran Canaria Island"
          },
          "quality": [
           "Basic"
          ],
          "scheduledTimeLocal": "2021-11-25 22:30+01:00",
          "scheduledTimeUtc": "2021-11-25 21:30Z"
         },
         "number": "FR 2501",
         "status": "Unknown"
        },
        {
         "aircraft": {
          "model": "Boeing 737-800"
         },
         "airline": {
          "name": "Ryanair"
         },
         "codeshareStatus": "Unknown",
         "isCargo": false,
         "movement": {
          "airport": {
           "iata": "BGY",
           "icao": "LIME",
           "name": "Bergamo"
          },
          "quality": [
           "Basic"
          ],
          "scheduledTimeLocal": "2021-11-25 22:30+01:00",
          "scheduledTimeUtc": "2021-11-25 21:30Z"
         },
         "number": "FR 4733",
         "status": "Unknown"
        },
        {
         "aircraft": {
          "model": "Boeing 737-800"
         },
         "airline": {
          "name": "Ryanair"
         },
         "codeshareStatus": "Unknown",
         "isCargo": false,
         "movement": {
          "airport": {
           "name": "Faro"
          },
          "quality": [
           "Basic"
          ],
          "scheduledTimeLocal": "2021-11-25 22:30+01:00",
          "scheduledTimeUtc": "2021-11-25 21:30Z"
         },
         "number": "FR 5365",
         "status": "Unknown"
        },
        {
         "aircraft": {
          "model": "Airbus A320"
         },
         "airline": {
          "name": "Iberia"
         },
         "codeshareStatus": "Unknown",
         "isCargo": false,
         "movement": {
          "airport": {
           "iata": "MAD",
           "icao": "LEMD",
           "name": "Madrid"
          },
          "quality": [
           "Basic"
          ],
          "scheduledTimeLocal": "2021-11-25 22:45+01:00",
          "scheduledTimeUtc": "2021-11-25 21:45Z",
          "terminal": "1"
         },
         "number": "IB 3674",
         "status": "Unknown"
        },
        {
         "aircraft": {
          "model": "Airbus A321"
         },
         "airline": {
          "name": "Lufthansa"
         },
         "codeshareStatus": "IsCodeshared",
         "isCargo": false,
         "movement": {
          "airport": {
           "iata": "MUC",
           "icao": "EDDM",
           "name": "Munich"
          },
          "quality": [
           "Basic"
          ],
          "scheduledTimeLocal": "2021-11-25 22:55+01:00",
          "scheduledTimeUtc": "2021-11-25 21:55Z",
          "terminal": "1"
         },
         "number": "LH 1958",
         "status": "Unknown"
        },
        {
         "aircraft": {
          "model": "Airbus A321"
         },
         "airline": {
          "name": "Lufthansa"
         },
         "codeshareStatus": "Unknown",
         "isCargo": false,
         "movement": {
          "airport": {
           "iata": "FRA",
           "icao": "EDDF",
           "name": "Frankfurt-am-Main"
          },
          "quality": [
           "Basic"
          ],
          "scheduledTimeLocal": "2021-11-25 22:25+01:00",
          "scheduledTimeUtc": "2021-11-25 21:25Z",
          "terminal": "1"
         },
         "number": "LH 202",
         "status": "Unknown"
        },
        {
         "aircraft": {
          "model": "Bombardier Dash 8 Q400 / DHC-8-400"
         },
         "airline": {
          "name": "LOT - Polish"
         },
         "codeshareStatus": "Unknown",
         "isCargo": false,
         "movement": {
          "airport": {
           "iata": "WAW",
           "icao": "EPWA",
           "name": "Warsaw"
          },
          "quality": [
           "Basic"
          ],
          "scheduledTimeLocal": "2021-11-25 22:20+01:00",
          "scheduledTimeUtc": "2021-11-25 21:20Z",
          "terminal": "1"
         },
         "number": "LO 391",
         "status": "Unknown"
        },
        {
         "aircraft": {
          "model": "Airbus A320"
         },
         "airline": {
          "name": "Austrian"
         },
         "codeshareStatus": "Unknown",
         "isCargo": false,
         "movement": {
          "airport": {
           "iata": "VIE",
           "icao": "LOWW",
           "name": "Vienna"
          },
          "quality": [
           "Basic"
          ],
          "scheduledTimeLocal": "2021-11-25 22:10+01:00",
          "scheduledTimeUtc": "2021-11-25 21:10Z",
          "terminal": "1"
         },
         "number": "OS 239",
         "status": "Unknown"
        },
        {
         "aircraft": {
          "model": "Airbus A320"
         },
         "airline": {
          "name": "Brussels"
         },
         "codeshareStatus": "Unknown",
         "isCargo": false,
         "movement": {
          "airport": {
           "iata": "BRU",
           "icao": "EBBR",
           "name": "Brussels"
          },
          "quality": [
           "Basic"
          ],
          "scheduledTimeLocal": "2021-11-25 22:05+01:00",
          "scheduledTimeUtc": "2021-11-25 21:05Z",
          "terminal": "1"
         },
         "number": "SN 2591",
         "status": "Unknown"
        },
        {
         "aircraft": {
          "model": "Airbus A319"
         },
         "airline": {
          "name": "TAP Air Portugal"
         },
         "codeshareStatus": "Unknown",
         "isCargo": false,
         "movement": {
          "airport": {
           "iata": "LIS",
           "icao": "LPPT",
           "name": "Lisbon"
          },
          "quality": [
           "Basic"
          ],
          "scheduledTimeLocal": "2021-11-25 22:50+01:00",
          "scheduledTimeUtc": "2021-11-25 21:50Z",
          "terminal": "1"
         },
         "number": "TP 532",
         "status": "Unknown"
        },
        {
         "aircraft": {
          "model": "Airbus A320"
         },
         "airline": {
          "name": "easyJet"
         },
         "codeshareStatus": "Unknown",
         "isCargo": false,
         "movement": {
          "airport": {
           "iata": "GVA",
           "icao": "LSGG",
           "name": "Geneva"
          },
          "quality": [
           "Basic"
          ],
          "scheduledTimeLocal": "2021-11-25 22:40+01:00",
          "scheduledTimeUtc": "2021-11-25 21:40Z",
          "terminal": "1"
         },
         "number": "U2 1595",
         "status": "Unknown"
        },
        {
         "aircraft": {
          "model": "Airbus A320"
         },
         "airline": {
          "name": "easyJet"
         },
         "codeshareStatus": "Unknown",
         "isCargo": false,
         "movement": {
          "airport": {
           "iata": "MXP",
           "icao": "LIMC",
           "name": "Milan"
          },
          "quality": [
           "Basic"
          ],
          "scheduledTimeLocal": "2021-11-25 22:30+01:00",
          "scheduledTimeUtc": "2021-11-25 21:30Z",
          "terminal": "1"
         },
         "number": "U2 4678",
         "status": "Unknown"
        },
        {
         "aircraft": {
          "model": "Airbus A320"
         },
         "airline": {
          "name": "easyJet"
         },
         "codeshareStatus": "Unknown",
         "isCargo": false,
         "movement": {
          "airport": {
           "iata": "BSL",
           "icao": "LFSB",
           "name": "Bâle/Mulhouse"
          },
          "quality": [
           "Basic"
          ],
          "scheduledTimeLocal": "2021-11-25 22:20+01:00",
          "scheduledTimeUtc": "2021-11-25 21:20Z",
          "terminal": "1"
         },
         "number": "U2 5640",
         "status": "Unknown"
        },
        {
         "aircraft": {
          "model": "Airbus A320"
         },
         "airline": {
          "name": "easyJet"
         },
         "codeshareStatus": "Unknown",
         "isCargo": false,
         "movement": {
          "airport": {
           "iata": "CPH",
           "icao": "EKCH",
           "name": "Copenhagen"
          },
          "quality": [
           "Basic"
          ],
          "scheduledTimeLocal": "2021-11-25 22:30+01:00",
          "scheduledTimeUtc": "2021-11-25 21:30Z",
          "terminal": "1"
         },
         "number": "U2 5690",
         "status": "Unknown"
        },
        {
         "aircraft": {
          "model": "Airbus A320"
         },
         "airline": {
          "name": "easyJet"
         },
         "codeshareStatus": "Unknown",
         "isCargo": false,
         "movement": {
          "airport": {
           "iata": "PMI",
           "icao": "LEPA",
           "name": "Palma De Mallorca"
          },
          "quality": [
           "Basic"
          ],
          "scheduledTimeLocal": "2021-11-25 22:30+01:00",
          "scheduledTimeUtc": "2021-11-25 21:30Z",
          "terminal": "1"
         },
         "number": "U2 5808",
         "status": "Unknown"
        },
        {
         "aircraft": {
          "model": "Airbus A320"
         },
         "airline": {
          "name": "easyJet"
         },
         "codeshareStatus": "Unknown",
         "isCargo": false,
         "movement": {
          "airport": {
           "iata": "TFS",
           "icao": "GCTS",
           "name": "Tenerife Island"
          },
          "quality": [
           "Basic"
          ],
          "scheduledTimeLocal": "2021-11-25 22:25+01:00",
          "scheduledTimeUtc": "2021-11-25 21:25Z",
          "terminal": "1"
         },
         "number": "U2 5916",
         "status": "Unknown"
        }
       ]
      },
      "text/plain": [
       "<IPython.core.display.JSON object>"
      ]
     },
     "execution_count": 41,
     "metadata": {
      "application/json": {
       "expanded": false,
       "root": "root"
      }
     },
     "output_type": "execute_result"
    }
   ],
   "source": [
    "# # flights between 19:01-23:59\n",
    "# JSON(response_two) # Run this only if you run the 2nd response from get request"
   ]
  },
  {
   "cell_type": "markdown",
   "id": "430486c5-056f-46d8-baa9-76257987df82",
   "metadata": {},
   "source": [
    "## Dictionary"
   ]
  },
  {
   "cell_type": "markdown",
   "id": "4fe270dc-d38d-4934-ace5-710d564721a4",
   "metadata": {},
   "source": [
    "### Creating the data Frame of the flights we are interested in"
   ]
  },
  {
   "cell_type": "code",
   "execution_count": 102,
   "id": "9fb618b8-51bb-4392-8652-74693f77abbe",
   "metadata": {
    "collapsed": true,
    "jupyter": {
     "outputs_hidden": true
    },
    "tags": []
   },
   "outputs": [
    {
     "data": {
      "text/html": [
       "<div>\n",
       "<style scoped>\n",
       "    .dataframe tbody tr th:only-of-type {\n",
       "        vertical-align: middle;\n",
       "    }\n",
       "\n",
       "    .dataframe tbody tr th {\n",
       "        vertical-align: top;\n",
       "    }\n",
       "\n",
       "    .dataframe thead th {\n",
       "        text-align: right;\n",
       "    }\n",
       "</style>\n",
       "<table border=\"1\" class=\"dataframe\">\n",
       "  <thead>\n",
       "    <tr style=\"text-align: right;\">\n",
       "      <th></th>\n",
       "      <th>From</th>\n",
       "      <th>Arrival at :</th>\n",
       "      <th>Terminal</th>\n",
       "      <th>Airline</th>\n",
       "      <th>Flight number</th>\n",
       "      <th>Airport code</th>\n",
       "    </tr>\n",
       "  </thead>\n",
       "  <tbody>\n",
       "    <tr>\n",
       "      <th>0</th>\n",
       "      <td>Unknown</td>\n",
       "      <td>Unknown</td>\n",
       "      <td>Unknown</td>\n",
       "      <td>Unknown</td>\n",
       "      <td>Unknown</td>\n",
       "      <td>Unknown</td>\n",
       "    </tr>\n",
       "    <tr>\n",
       "      <th>1</th>\n",
       "      <td>Unknown</td>\n",
       "      <td>Unknown</td>\n",
       "      <td>Unknown</td>\n",
       "      <td>Unknown</td>\n",
       "      <td>Unknown</td>\n",
       "      <td>Unknown</td>\n",
       "    </tr>\n",
       "    <tr>\n",
       "      <th>2</th>\n",
       "      <td>Unknown</td>\n",
       "      <td>Unknown</td>\n",
       "      <td>Unknown</td>\n",
       "      <td>Unknown</td>\n",
       "      <td>Unknown</td>\n",
       "      <td>Unknown</td>\n",
       "    </tr>\n",
       "    <tr>\n",
       "      <th>3</th>\n",
       "      <td>Unknown</td>\n",
       "      <td>Unknown</td>\n",
       "      <td>Unknown</td>\n",
       "      <td>Unknown</td>\n",
       "      <td>Unknown</td>\n",
       "      <td>Unknown</td>\n",
       "    </tr>\n",
       "    <tr>\n",
       "      <th>4</th>\n",
       "      <td>Unknown</td>\n",
       "      <td>Unknown</td>\n",
       "      <td>Unknown</td>\n",
       "      <td>Unknown</td>\n",
       "      <td>Unknown</td>\n",
       "      <td>Unknown</td>\n",
       "    </tr>\n",
       "    <tr>\n",
       "      <th>...</th>\n",
       "      <td>...</td>\n",
       "      <td>...</td>\n",
       "      <td>...</td>\n",
       "      <td>...</td>\n",
       "      <td>...</td>\n",
       "      <td>...</td>\n",
       "    </tr>\n",
       "    <tr>\n",
       "      <th>715</th>\n",
       "      <td>Milan</td>\n",
       "      <td>2021-11-25 22:30</td>\n",
       "      <td>1</td>\n",
       "      <td>easyJet</td>\n",
       "      <td>U2 4678</td>\n",
       "      <td>LIMC</td>\n",
       "    </tr>\n",
       "    <tr>\n",
       "      <th>716</th>\n",
       "      <td>Bâle/Mulhouse</td>\n",
       "      <td>2021-11-25 22:20</td>\n",
       "      <td>1</td>\n",
       "      <td>easyJet</td>\n",
       "      <td>U2 5640</td>\n",
       "      <td>LFSB</td>\n",
       "    </tr>\n",
       "    <tr>\n",
       "      <th>717</th>\n",
       "      <td>Copenhagen</td>\n",
       "      <td>2021-11-25 22:30</td>\n",
       "      <td>1</td>\n",
       "      <td>easyJet</td>\n",
       "      <td>U2 5690</td>\n",
       "      <td>EKCH</td>\n",
       "    </tr>\n",
       "    <tr>\n",
       "      <th>718</th>\n",
       "      <td>Palma De Mallorca</td>\n",
       "      <td>2021-11-25 22:30</td>\n",
       "      <td>1</td>\n",
       "      <td>easyJet</td>\n",
       "      <td>U2 5808</td>\n",
       "      <td>LEPA</td>\n",
       "    </tr>\n",
       "    <tr>\n",
       "      <th>719</th>\n",
       "      <td>Tenerife Island</td>\n",
       "      <td>2021-11-25 22:25</td>\n",
       "      <td>1</td>\n",
       "      <td>easyJet</td>\n",
       "      <td>U2 5916</td>\n",
       "      <td>GCTS</td>\n",
       "    </tr>\n",
       "  </tbody>\n",
       "</table>\n",
       "<p>720 rows × 6 columns</p>\n",
       "</div>"
      ],
      "text/plain": [
       "                  From     Arrival at :  Terminal  Airline Flight number  \\\n",
       "0              Unknown           Unknown  Unknown  Unknown       Unknown   \n",
       "1              Unknown           Unknown  Unknown  Unknown       Unknown   \n",
       "2              Unknown           Unknown  Unknown  Unknown       Unknown   \n",
       "3              Unknown           Unknown  Unknown  Unknown       Unknown   \n",
       "4              Unknown           Unknown  Unknown  Unknown       Unknown   \n",
       "..                 ...               ...      ...      ...           ...   \n",
       "715              Milan  2021-11-25 22:30        1  easyJet       U2 4678   \n",
       "716      Bâle/Mulhouse  2021-11-25 22:20        1  easyJet       U2 5640   \n",
       "717         Copenhagen  2021-11-25 22:30        1  easyJet       U2 5690   \n",
       "718  Palma De Mallorca  2021-11-25 22:30        1  easyJet       U2 5808   \n",
       "719    Tenerife Island  2021-11-25 22:25        1  easyJet       U2 5916   \n",
       "\n",
       "    Airport code  \n",
       "0        Unknown  \n",
       "1        Unknown  \n",
       "2        Unknown  \n",
       "3        Unknown  \n",
       "4        Unknown  \n",
       "..           ...  \n",
       "715         LIMC  \n",
       "716         LFSB  \n",
       "717         EKCH  \n",
       "718         LEPA  \n",
       "719         GCTS  \n",
       "\n",
       "[720 rows x 6 columns]"
      ]
     },
     "execution_count": 102,
     "metadata": {},
     "output_type": "execute_result"
    }
   ],
   "source": [
    "# flights = pd.DataFrame.from_dict(dictionary)\n",
    "# flights"
   ]
  },
  {
   "cell_type": "markdown",
   "id": "4ad1c008-86ee-4bf2-a969-68fa4f02220c",
   "metadata": {},
   "source": [
    "### Including only flights arriving from \"Barcelona\""
   ]
  },
  {
   "cell_type": "code",
   "execution_count": 94,
   "id": "08e5c8e2-68f7-4a5c-bb5e-05633926357f",
   "metadata": {
    "collapsed": true,
    "jupyter": {
     "outputs_hidden": true
    },
    "tags": []
   },
   "outputs": [
    {
     "data": {
      "text/html": [
       "<div>\n",
       "<style scoped>\n",
       "    .dataframe tbody tr th:only-of-type {\n",
       "        vertical-align: middle;\n",
       "    }\n",
       "\n",
       "    .dataframe tbody tr th {\n",
       "        vertical-align: top;\n",
       "    }\n",
       "\n",
       "    .dataframe thead th {\n",
       "        text-align: right;\n",
       "    }\n",
       "</style>\n",
       "<table border=\"1\" class=\"dataframe\">\n",
       "  <thead>\n",
       "    <tr style=\"text-align: right;\">\n",
       "      <th></th>\n",
       "      <th>index</th>\n",
       "      <th>From</th>\n",
       "      <th>Arrival at :</th>\n",
       "      <th>Terminal</th>\n",
       "      <th>Airline</th>\n",
       "      <th>Flight number</th>\n",
       "      <th>Airport code</th>\n",
       "    </tr>\n",
       "  </thead>\n",
       "  <tbody>\n",
       "    <tr>\n",
       "      <th>0</th>\n",
       "      <td>252</td>\n",
       "      <td>Barcelona</td>\n",
       "      <td>2021-11-25 13:55+01:00</td>\n",
       "      <td>1</td>\n",
       "      <td>easyJet</td>\n",
       "      <td>U2 5122</td>\n",
       "      <td>Unknown</td>\n",
       "    </tr>\n",
       "    <tr>\n",
       "      <th>1</th>\n",
       "      <td>259</td>\n",
       "      <td>Barcelona</td>\n",
       "      <td>2021-11-25 14:10+01:00</td>\n",
       "      <td>1</td>\n",
       "      <td>Vueling</td>\n",
       "      <td>VY 1882</td>\n",
       "      <td>LEBL</td>\n",
       "    </tr>\n",
       "    <tr>\n",
       "      <th>2</th>\n",
       "      <td>283</td>\n",
       "      <td>Barcelona</td>\n",
       "      <td>2021-11-25 17:00+01:00</td>\n",
       "      <td>Unknown</td>\n",
       "      <td>Ryanair</td>\n",
       "      <td>FR 133</td>\n",
       "      <td>LEBL</td>\n",
       "    </tr>\n",
       "    <tr>\n",
       "      <th>3</th>\n",
       "      <td>432</td>\n",
       "      <td>Barcelona</td>\n",
       "      <td>2021-11-25 13:55</td>\n",
       "      <td>1</td>\n",
       "      <td>easyJet</td>\n",
       "      <td>U2 5122</td>\n",
       "      <td>Unknown</td>\n",
       "    </tr>\n",
       "    <tr>\n",
       "      <th>4</th>\n",
       "      <td>439</td>\n",
       "      <td>Barcelona</td>\n",
       "      <td>2021-11-25 14:10</td>\n",
       "      <td>1</td>\n",
       "      <td>Vueling</td>\n",
       "      <td>VY 1882</td>\n",
       "      <td>LEBL</td>\n",
       "    </tr>\n",
       "    <tr>\n",
       "      <th>5</th>\n",
       "      <td>463</td>\n",
       "      <td>Barcelona</td>\n",
       "      <td>2021-11-25 17:00</td>\n",
       "      <td>Unknown</td>\n",
       "      <td>Ryanair</td>\n",
       "      <td>FR 133</td>\n",
       "      <td>LEBL</td>\n",
       "    </tr>\n",
       "  </tbody>\n",
       "</table>\n",
       "</div>"
      ],
      "text/plain": [
       "   index       From           Arrival at :  Terminal  Airline Flight number  \\\n",
       "0    252  Barcelona  2021-11-25 13:55+01:00        1  easyJet       U2 5122   \n",
       "1    259  Barcelona  2021-11-25 14:10+01:00        1  Vueling       VY 1882   \n",
       "2    283  Barcelona  2021-11-25 17:00+01:00  Unknown  Ryanair        FR 133   \n",
       "3    432  Barcelona        2021-11-25 13:55        1  easyJet       U2 5122   \n",
       "4    439  Barcelona        2021-11-25 14:10        1  Vueling       VY 1882   \n",
       "5    463  Barcelona        2021-11-25 17:00  Unknown  Ryanair        FR 133   \n",
       "\n",
       "  Airport code  \n",
       "0      Unknown  \n",
       "1         LEBL  \n",
       "2         LEBL  \n",
       "3      Unknown  \n",
       "4         LEBL  \n",
       "5         LEBL  "
      ]
     },
     "execution_count": 94,
     "metadata": {},
     "output_type": "execute_result"
    }
   ],
   "source": [
    "# arr_from_Barc =flights.query('From == \"Barcelona\"')\n",
    "# arr_from_Barc.reset_index().head(10)"
   ]
  },
  {
   "cell_type": "markdown",
   "id": "62240492-7418-450e-8255-388efeb79754",
   "metadata": {},
   "source": [
    "### Including only flights without \"Unknown\""
   ]
  },
  {
   "cell_type": "code",
   "execution_count": 101,
   "id": "ebfcbf5e-740a-47b0-ab0d-1e9859f50b53",
   "metadata": {
    "collapsed": true,
    "jupyter": {
     "outputs_hidden": true
    },
    "tags": []
   },
   "outputs": [
    {
     "data": {
      "text/html": [
       "<div>\n",
       "<style scoped>\n",
       "    .dataframe tbody tr th:only-of-type {\n",
       "        vertical-align: middle;\n",
       "    }\n",
       "\n",
       "    .dataframe tbody tr th {\n",
       "        vertical-align: top;\n",
       "    }\n",
       "\n",
       "    .dataframe thead th {\n",
       "        text-align: right;\n",
       "    }\n",
       "</style>\n",
       "<table border=\"1\" class=\"dataframe\">\n",
       "  <thead>\n",
       "    <tr style=\"text-align: right;\">\n",
       "      <th></th>\n",
       "      <th>index</th>\n",
       "      <th>From</th>\n",
       "      <th>Arrival at :</th>\n",
       "      <th>Terminal</th>\n",
       "      <th>Airline</th>\n",
       "      <th>Flight number</th>\n",
       "      <th>Airport code</th>\n",
       "    </tr>\n",
       "  </thead>\n",
       "  <tbody>\n",
       "    <tr>\n",
       "      <th>0</th>\n",
       "      <td>180</td>\n",
       "      <td>Riga</td>\n",
       "      <td>2021-11-25 07:55+01:00</td>\n",
       "      <td>1</td>\n",
       "      <td>Air Baltic</td>\n",
       "      <td>BT 211</td>\n",
       "      <td>EVRA</td>\n",
       "    </tr>\n",
       "    <tr>\n",
       "      <th>1</th>\n",
       "      <td>181</td>\n",
       "      <td>Cologne</td>\n",
       "      <td>2021-11-25 07:20+01:00</td>\n",
       "      <td>1</td>\n",
       "      <td>Eurowings</td>\n",
       "      <td>EW 12</td>\n",
       "      <td>EDDK</td>\n",
       "    </tr>\n",
       "    <tr>\n",
       "      <th>2</th>\n",
       "      <td>182</td>\n",
       "      <td>Stuttgart</td>\n",
       "      <td>2021-11-25 07:30+01:00</td>\n",
       "      <td>1</td>\n",
       "      <td>Eurowings</td>\n",
       "      <td>EW 2002</td>\n",
       "      <td>EDDS</td>\n",
       "    </tr>\n",
       "    <tr>\n",
       "      <th>3</th>\n",
       "      <td>183</td>\n",
       "      <td>Duesseldorf</td>\n",
       "      <td>2021-11-25 07:35+01:00</td>\n",
       "      <td>1</td>\n",
       "      <td>Eurowings</td>\n",
       "      <td>EW 9048</td>\n",
       "      <td>EDDL</td>\n",
       "    </tr>\n",
       "    <tr>\n",
       "      <th>4</th>\n",
       "      <td>184</td>\n",
       "      <td>Frankfurt-am-Main</td>\n",
       "      <td>2021-11-25 07:55+01:00</td>\n",
       "      <td>1</td>\n",
       "      <td>Lufthansa</td>\n",
       "      <td>LH 170</td>\n",
       "      <td>EDDF</td>\n",
       "    </tr>\n",
       "    <tr>\n",
       "      <th>...</th>\n",
       "      <td>...</td>\n",
       "      <td>...</td>\n",
       "      <td>...</td>\n",
       "      <td>...</td>\n",
       "      <td>...</td>\n",
       "      <td>...</td>\n",
       "      <td>...</td>\n",
       "    </tr>\n",
       "    <tr>\n",
       "      <th>535</th>\n",
       "      <td>715</td>\n",
       "      <td>Milan</td>\n",
       "      <td>2021-11-25 22:30</td>\n",
       "      <td>1</td>\n",
       "      <td>easyJet</td>\n",
       "      <td>U2 4678</td>\n",
       "      <td>LIMC</td>\n",
       "    </tr>\n",
       "    <tr>\n",
       "      <th>536</th>\n",
       "      <td>716</td>\n",
       "      <td>Bâle/Mulhouse</td>\n",
       "      <td>2021-11-25 22:20</td>\n",
       "      <td>1</td>\n",
       "      <td>easyJet</td>\n",
       "      <td>U2 5640</td>\n",
       "      <td>LFSB</td>\n",
       "    </tr>\n",
       "    <tr>\n",
       "      <th>537</th>\n",
       "      <td>717</td>\n",
       "      <td>Copenhagen</td>\n",
       "      <td>2021-11-25 22:30</td>\n",
       "      <td>1</td>\n",
       "      <td>easyJet</td>\n",
       "      <td>U2 5690</td>\n",
       "      <td>EKCH</td>\n",
       "    </tr>\n",
       "    <tr>\n",
       "      <th>538</th>\n",
       "      <td>718</td>\n",
       "      <td>Palma De Mallorca</td>\n",
       "      <td>2021-11-25 22:30</td>\n",
       "      <td>1</td>\n",
       "      <td>easyJet</td>\n",
       "      <td>U2 5808</td>\n",
       "      <td>LEPA</td>\n",
       "    </tr>\n",
       "    <tr>\n",
       "      <th>539</th>\n",
       "      <td>719</td>\n",
       "      <td>Tenerife Island</td>\n",
       "      <td>2021-11-25 22:25</td>\n",
       "      <td>1</td>\n",
       "      <td>easyJet</td>\n",
       "      <td>U2 5916</td>\n",
       "      <td>GCTS</td>\n",
       "    </tr>\n",
       "  </tbody>\n",
       "</table>\n",
       "<p>540 rows × 7 columns</p>\n",
       "</div>"
      ],
      "text/plain": [
       "     index               From           Arrival at :  Terminal     Airline  \\\n",
       "0      180               Riga  2021-11-25 07:55+01:00        1  Air Baltic   \n",
       "1      181            Cologne  2021-11-25 07:20+01:00        1   Eurowings   \n",
       "2      182          Stuttgart  2021-11-25 07:30+01:00        1   Eurowings   \n",
       "3      183        Duesseldorf  2021-11-25 07:35+01:00        1   Eurowings   \n",
       "4      184  Frankfurt-am-Main  2021-11-25 07:55+01:00        1   Lufthansa   \n",
       "..     ...                ...                     ...      ...         ...   \n",
       "535    715              Milan        2021-11-25 22:30        1     easyJet   \n",
       "536    716      Bâle/Mulhouse        2021-11-25 22:20        1     easyJet   \n",
       "537    717         Copenhagen        2021-11-25 22:30        1     easyJet   \n",
       "538    718  Palma De Mallorca        2021-11-25 22:30        1     easyJet   \n",
       "539    719    Tenerife Island        2021-11-25 22:25        1     easyJet   \n",
       "\n",
       "    Flight number Airport code  \n",
       "0          BT 211         EVRA  \n",
       "1           EW 12         EDDK  \n",
       "2         EW 2002         EDDS  \n",
       "3         EW 9048         EDDL  \n",
       "4          LH 170         EDDF  \n",
       "..            ...          ...  \n",
       "535       U2 4678         LIMC  \n",
       "536       U2 5640         LFSB  \n",
       "537       U2 5690         EKCH  \n",
       "538       U2 5808         LEPA  \n",
       "539       U2 5916         GCTS  \n",
       "\n",
       "[540 rows x 7 columns]"
      ]
     },
     "execution_count": 101,
     "metadata": {},
     "output_type": "execute_result"
    }
   ],
   "source": [
    "# flights_known =flights.query('From != \"Unknown\"')\n",
    "# flights_known.reset_index()"
   ]
  }
 ],
 "metadata": {
  "kernelspec": {
   "display_name": "Python 3",
   "language": "python",
   "name": "python3"
  },
  "language_info": {
   "codemirror_mode": {
    "name": "ipython",
    "version": 3
   },
   "file_extension": ".py",
   "mimetype": "text/x-python",
   "name": "python",
   "nbconvert_exporter": "python",
   "pygments_lexer": "ipython3",
   "version": "3.8.8"
  }
 },
 "nbformat": 4,
 "nbformat_minor": 5
}
