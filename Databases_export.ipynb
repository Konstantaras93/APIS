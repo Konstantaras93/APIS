{
 "cells": [
  {
   "cell_type": "code",
   "execution_count": 38,
   "id": "bb47d5f1-2d82-4b9b-b92a-2ac2036e4a9d",
   "metadata": {
    "tags": []
   },
   "outputs": [],
   "source": [
    "# importing libraries\n",
    "import unicodedata\n",
    "import re\n",
    "from IPython.display import JSON\n",
    "import datetime\n",
    "from datetime import date\n",
    "import time\n",
    "import requests\n",
    "from bs4 import BeautifulSoup\n",
    "import pandas as pd\n",
    "from api_keys import *"
   ]
  },
  {
   "cell_type": "code",
   "execution_count": 2,
   "id": "dcbb6d38-7208-448e-854e-e3105e60bb8d",
   "metadata": {},
   "outputs": [],
   "source": [
    "url = \"https://worldpopulationreview.com/world-cities\"\n",
    "response = requests.get(url)\n",
    "time.sleep(2)\n",
    "soup = BeautifulSoup(response.content, \"html.parser\")\n",
    "# parent = soup.find(class_ = 'jsx-3940296686') This is old - it changed ! \n",
    "parent = soup.find(class_ = 'jsx-3979628367') # always wacth out if this class_ = \" \" is the same , it may vhange from time to time."
   ]
  },
  {
   "cell_type": "code",
   "execution_count": 3,
   "id": "4f120801-4c36-41ff-a871-f4a4a364c2dc",
   "metadata": {
    "tags": []
   },
   "outputs": [],
   "source": [
    "# parent.contents[1]"
   ]
  },
  {
   "cell_type": "code",
   "execution_count": 4,
   "id": "815cceeb-eb96-4cac-beed-ba937948a2d4",
   "metadata": {},
   "outputs": [],
   "source": [
    "children = parent.contents[1]"
   ]
  },
  {
   "cell_type": "code",
   "execution_count": 5,
   "id": "ab21201d-4431-412f-b1d3-9cdff2368d41",
   "metadata": {
    "tags": []
   },
   "outputs": [],
   "source": [
    "children = parent.contents[1]\n",
    "dictionary = {\"id\" : [], \"City\": [],\"Country\":[],\"Population_2021\":[], \"Population_2020\" :[], \"difference_of\" :[]}"
   ]
  },
  {
   "cell_type": "code",
   "execution_count": 7,
   "id": "b43d5ac9-fbea-4332-a7dc-5e4ebc1669fd",
   "metadata": {},
   "outputs": [],
   "source": [
    "# child.contents[0] = Rank # 1,2,3...\n",
    "# child.contents[1] = City\n",
    "# child.contents[2] = Country\n",
    "# child.contents[3] =  Population 2021\n",
    "# child.contents[4] =  Poppulation 2020\n",
    "# child.contents[5] = Change\n",
    "# child.contents[6+] = out of RANGE ! ! !\n",
    "for i, child in enumerate(children):\n",
    "        dictionary['id'].append(child.contents[0].get_text(strip=True))\n",
    "        dictionary['City'].append(child.contents[1].get_text(strip=True))\n",
    "        dictionary['Country'].append(child.contents[2].get_text(strip=True))\n",
    "        dictionary['Population_2021'].append(child.contents[3].get_text(strip=True))\n",
    "        dictionary['Population_2020'].append(child.contents[4].get_text(strip=True))\n",
    "        dictionary['difference_of'].append(child.contents[5].get_text(strip=True))"
   ]
  },
  {
   "cell_type": "code",
   "execution_count": 8,
   "id": "a0a3bfda-cf1b-48aa-a812-1aed7a518fed",
   "metadata": {},
   "outputs": [],
   "source": [
    "table = pd.DataFrame.from_dict(dictionary)"
   ]
  },
  {
   "cell_type": "code",
   "execution_count": 9,
   "id": "b93f1479-3343-465d-97e4-71aad56cfc0b",
   "metadata": {},
   "outputs": [],
   "source": [
    "# the Population was \"object\" which is why we transform it to numeric\n",
    "table.Population_2020 = pd.to_numeric(table.Population_2020.str.replace(',',''))\n",
    "table.Population_2021 = pd.to_numeric(table.Population_2021.str.replace(',',''))\n",
    "table.id = pd.to_numeric(table.id)\n",
    "# table.Population_2021 = pd.to_numeric(table.Population_2021.str.split('|').str[0].str.replace(',',''))"
   ]
  },
  {
   "cell_type": "code",
   "execution_count": 10,
   "id": "f7358749-a0f3-485c-b2dd-59f162531fbf",
   "metadata": {},
   "outputs": [],
   "source": [
    "# We create a new column for the country codes.\n",
    "table['Country_code'] = \"1\""
   ]
  },
  {
   "cell_type": "code",
   "execution_count": 11,
   "id": "912ca8a1-42cf-4391-8e3a-581b39e2bf80",
   "metadata": {},
   "outputs": [
    {
     "data": {
      "text/html": [
       "<div>\n",
       "<style scoped>\n",
       "    .dataframe tbody tr th:only-of-type {\n",
       "        vertical-align: middle;\n",
       "    }\n",
       "\n",
       "    .dataframe tbody tr th {\n",
       "        vertical-align: top;\n",
       "    }\n",
       "\n",
       "    .dataframe thead th {\n",
       "        text-align: right;\n",
       "    }\n",
       "</style>\n",
       "<table border=\"1\" class=\"dataframe\">\n",
       "  <thead>\n",
       "    <tr style=\"text-align: right;\">\n",
       "      <th></th>\n",
       "      <th>id</th>\n",
       "      <th>City</th>\n",
       "      <th>Country</th>\n",
       "      <th>Population_2021</th>\n",
       "      <th>Population_2020</th>\n",
       "      <th>difference_of</th>\n",
       "      <th>Country_code</th>\n",
       "    </tr>\n",
       "  </thead>\n",
       "  <tbody>\n",
       "    <tr>\n",
       "      <th>0</th>\n",
       "      <td>1</td>\n",
       "      <td>Tokyo</td>\n",
       "      <td>Japan</td>\n",
       "      <td>37339804</td>\n",
       "      <td>37393128</td>\n",
       "      <td>-0.14%</td>\n",
       "      <td>1</td>\n",
       "    </tr>\n",
       "    <tr>\n",
       "      <th>1</th>\n",
       "      <td>2</td>\n",
       "      <td>Delhi</td>\n",
       "      <td>India</td>\n",
       "      <td>31181376</td>\n",
       "      <td>30290936</td>\n",
       "      <td>2.94%</td>\n",
       "      <td>1</td>\n",
       "    </tr>\n",
       "  </tbody>\n",
       "</table>\n",
       "</div>"
      ],
      "text/plain": [
       "   id   City Country  Population_2021  Population_2020 difference_of  \\\n",
       "0   1  Tokyo   Japan         37339804         37393128        -0.14%   \n",
       "1   2  Delhi   India         31181376         30290936         2.94%   \n",
       "\n",
       "  Country_code  \n",
       "0            1  \n",
       "1            1  "
      ]
     },
     "execution_count": 11,
     "metadata": {},
     "output_type": "execute_result"
    }
   ],
   "source": [
    "table.head(2)"
   ]
  },
  {
   "cell_type": "code",
   "execution_count": 154,
   "id": "6e9d5e6a-a7b8-4f91-9fc2-17d41e93c4e6",
   "metadata": {},
   "outputs": [],
   "source": [
    "# table.info()"
   ]
  },
  {
   "cell_type": "markdown",
   "id": "75628240-ef84-4081-ad66-0a2951feb85d",
   "metadata": {},
   "source": [
    "### Getting country codes"
   ]
  },
  {
   "cell_type": "code",
   "execution_count": 12,
   "id": "8a3ed7d3-4eb4-460a-911f-44040a43eff3",
   "metadata": {},
   "outputs": [],
   "source": [
    "url = \"https://www.iban.com/country-codes\"\n",
    "response = requests.get(url)\n",
    "time.sleep(2)\n",
    "soup = BeautifulSoup(response.content, \"html.parser\")"
   ]
  },
  {
   "cell_type": "code",
   "execution_count": 13,
   "id": "f5e580d1-6118-415d-ab7a-baa760f76f8f",
   "metadata": {},
   "outputs": [],
   "source": [
    "def get_country_codes(soup):\n",
    "    dictionary_country_code = {\"Country\":[],\"Country_code\":[]}\n",
    "    table_html = soup.find('table',id=\"myTable\")\n",
    "    for row in table_html.find_all('tr'):\n",
    "        for j, column in enumerate(row.find_all('td')):\n",
    "            if (j==0):\n",
    "                dictionary_country_code['Country'].append(column.get_text())\n",
    "            if(j==1):\n",
    "                dictionary_country_code['Country_code'].append(column.get_text())\n",
    "    table_country_codes = pd.DataFrame.from_dict(dictionary_country_code)\n",
    "    return table_country_codes"
   ]
  },
  {
   "cell_type": "code",
   "execution_count": 14,
   "id": "1730a78d-f563-4646-92e7-e1e05c9d4b99",
   "metadata": {},
   "outputs": [],
   "source": [
    "table_country_codes = get_country_codes(soup)"
   ]
  },
  {
   "cell_type": "code",
   "execution_count": 13,
   "id": "65e8c24b-401e-4fe9-b036-527fab4d876f",
   "metadata": {},
   "outputs": [],
   "source": [
    "# table_country_codes"
   ]
  },
  {
   "cell_type": "code",
   "execution_count": 15,
   "id": "47e82920-033c-468c-a4d8-de9932e86adc",
   "metadata": {},
   "outputs": [],
   "source": [
    "big_table = table.merge(table_country_codes,how='left')"
   ]
  },
  {
   "cell_type": "markdown",
   "id": "67caa2dd-705b-4769-8913-fe8caee26c17",
   "metadata": {
    "tags": []
   },
   "source": [
    "### Example with split string etc"
   ]
  },
  {
   "cell_type": "code",
   "execution_count": 16,
   "id": "a3ef6d7b-c6c9-4458-8ea3-24ba027641d7",
   "metadata": {},
   "outputs": [
    {
     "data": {
      "text/html": [
       "<div>\n",
       "<style scoped>\n",
       "    .dataframe tbody tr th:only-of-type {\n",
       "        vertical-align: middle;\n",
       "    }\n",
       "\n",
       "    .dataframe tbody tr th {\n",
       "        vertical-align: top;\n",
       "    }\n",
       "\n",
       "    .dataframe thead th {\n",
       "        text-align: right;\n",
       "    }\n",
       "</style>\n",
       "<table border=\"1\" class=\"dataframe\">\n",
       "  <thead>\n",
       "    <tr style=\"text-align: right;\">\n",
       "      <th></th>\n",
       "      <th>id</th>\n",
       "      <th>City</th>\n",
       "      <th>Country</th>\n",
       "      <th>Population_2021</th>\n",
       "      <th>Population_2020</th>\n",
       "      <th>difference_of</th>\n",
       "      <th>Country_code</th>\n",
       "    </tr>\n",
       "  </thead>\n",
       "  <tbody>\n",
       "    <tr>\n",
       "      <th>0</th>\n",
       "      <td>1</td>\n",
       "      <td>Tokyo</td>\n",
       "      <td>Japan</td>\n",
       "      <td>37339804</td>\n",
       "      <td>37393128</td>\n",
       "      <td>-0.14%</td>\n",
       "      <td>1</td>\n",
       "    </tr>\n",
       "    <tr>\n",
       "      <th>1</th>\n",
       "      <td>2</td>\n",
       "      <td>Delhi</td>\n",
       "      <td>India</td>\n",
       "      <td>31181376</td>\n",
       "      <td>30290936</td>\n",
       "      <td>2.94%</td>\n",
       "      <td>1</td>\n",
       "    </tr>\n",
       "  </tbody>\n",
       "</table>\n",
       "</div>"
      ],
      "text/plain": [
       "   id   City Country  Population_2021  Population_2020 difference_of  \\\n",
       "0   1  Tokyo   Japan         37339804         37393128        -0.14%   \n",
       "1   2  Delhi   India         31181376         30290936         2.94%   \n",
       "\n",
       "  Country_code  \n",
       "0            1  \n",
       "1            1  "
      ]
     },
     "execution_count": 16,
     "metadata": {},
     "output_type": "execute_result"
    }
   ],
   "source": [
    "big_table.head(2)"
   ]
  },
  {
   "cell_type": "markdown",
   "id": "861ebaf1-1d8f-4c1e-87ee-30219d6974ed",
   "metadata": {},
   "source": [
    "### Coutnries NOt existed with the same name in tables :D "
   ]
  },
  {
   "cell_type": "code",
   "execution_count": 17,
   "id": "5e92a6c1-3b02-49f2-b282-f6e569200c25",
   "metadata": {
    "tags": []
   },
   "outputs": [],
   "source": [
    "unordered_list_countries = [\"Iran\",\"United States\",\"United Kingdom\",\"Russia\",\"Trinidad And Tobago\",\"North Macedonia\",\"Guinea Bissau\",\"Macau\",\"Laos\",\"Palestine\",\"Central African Republic\",\"Republic of the Congo\",\"United Arab Emirates\",\"DR Congo\",\"Venezuela\",\"Philippines\",\"Sudan\",\"South Korea\",\"North Korea\",\"Vietnam\",\"Tanzania\",\"Ivory Coast\",\"Taiwan\",\"Dominican Republic\",\"Syria\",\"Bolivia\",\"Niger\",\"Czech Republic\",\"Netherlands\"]\n",
    "unordered_list_countries_codes = [\"IR\",\"US\",\"GB\",\"RU\",\"TT\",\"MK\",\"GW\",\"MO\",\"LA\",\"PS\",\"CF\",\"CG\",\"AE\",\"CD\",\"VE\",\"PH\",\"SD\",\"KR\",\"KP\",\"VN\",\"TZ\",\"CI\",\"TW\",\"DO\",\"SY\",\"BO\",\"NE\",\"CZ\",\"NL\"]"
   ]
  },
  {
   "cell_type": "markdown",
   "id": "51e5eb7e-e7e5-499a-b694-4e40a56bf76f",
   "metadata": {},
   "source": [
    "##### Get all countries where the name of country is a match"
   ]
  },
  {
   "cell_type": "code",
   "execution_count": 18,
   "id": "9f2e1506-1362-4f65-8341-10d4235b3ea2",
   "metadata": {},
   "outputs": [],
   "source": [
    "for i,country in enumerate(table_country_codes.Country):\n",
    "    for y , city in enumerate(big_table.City):\n",
    "        if table_country_codes.Country[i] == table.Country[y]:\n",
    "             big_table.loc[y,'Country_code']=table_country_codes.Country_code[i]"
   ]
  },
  {
   "cell_type": "markdown",
   "id": "9f0ce638-5886-4f57-9194-4a3443c067bc",
   "metadata": {
    "toc-hr-collapsed": true
   },
   "source": [
    "##### Get the rest of countries where the name of country is NOT a match in both tables."
   ]
  },
  {
   "cell_type": "code",
   "execution_count": 19,
   "id": "051f9a5b-7f01-4b56-8efb-e787973608ca",
   "metadata": {
    "tags": []
   },
   "outputs": [],
   "source": [
    "for i,item in enumerate(big_table.Country):\n",
    "    for y,index in enumerate(unordered_list_countries):\n",
    "        if item ==index:\n",
    "                big_table.loc[i,'Country_code'] = unordered_list_countries_codes[y]"
   ]
  },
  {
   "cell_type": "code",
   "execution_count": 20,
   "id": "1e06a9d1-dbc7-4cee-a308-92eb767066b1",
   "metadata": {},
   "outputs": [],
   "source": [
    "big_table['CityCountry'] = big_table[['City','Country_code']].apply(lambda x: ', '.join(x), axis = 1)"
   ]
  },
  {
   "cell_type": "code",
   "execution_count": 21,
   "id": "06402ce3-c447-4940-8fe9-a62224411392",
   "metadata": {},
   "outputs": [
    {
     "data": {
      "text/plain": [
       "7"
      ]
     },
     "execution_count": 21,
     "metadata": {},
     "output_type": "execute_result"
    }
   ],
   "source": [
    "big_table[\"City\"].duplicated().sum()"
   ]
  },
  {
   "cell_type": "code",
   "execution_count": 45,
   "id": "e2f1d56f-f65f-44f6-a6fd-9de878bf1017",
   "metadata": {},
   "outputs": [],
   "source": [
    "# big_table.info()"
   ]
  },
  {
   "cell_type": "code",
   "execution_count": 22,
   "id": "ed77a064-406e-45c5-b1f0-82047e98b1c1",
   "metadata": {},
   "outputs": [],
   "source": [
    "# big_table[(~big_table.duplicated())]\n",
    "big_table = big_table.drop_duplicates(subset=['City'], keep='first')"
   ]
  },
  {
   "cell_type": "code",
   "execution_count": 23,
   "id": "ed8d746e-ba8e-4caa-842e-f0f9793c0b2a",
   "metadata": {},
   "outputs": [
    {
     "data": {
      "text/plain": [
       "(1163, 8)"
      ]
     },
     "execution_count": 23,
     "metadata": {},
     "output_type": "execute_result"
    }
   ],
   "source": [
    "big_table.shape"
   ]
  },
  {
   "cell_type": "code",
   "execution_count": 27,
   "id": "aab73224-c3a9-4132-a522-97e824df89ca",
   "metadata": {},
   "outputs": [
    {
     "data": {
      "text/plain": [
       "0"
      ]
     },
     "execution_count": 27,
     "metadata": {},
     "output_type": "execute_result"
    }
   ],
   "source": [
    "big_table[\"CityCountry\"].duplicated().sum()"
   ]
  },
  {
   "cell_type": "code",
   "execution_count": 33,
   "id": "00d1b0ad-ec62-44bb-9a9e-c903d7984d98",
   "metadata": {},
   "outputs": [
    {
     "data": {
      "text/html": [
       "<div>\n",
       "<style scoped>\n",
       "    .dataframe tbody tr th:only-of-type {\n",
       "        vertical-align: middle;\n",
       "    }\n",
       "\n",
       "    .dataframe tbody tr th {\n",
       "        vertical-align: top;\n",
       "    }\n",
       "\n",
       "    .dataframe thead th {\n",
       "        text-align: right;\n",
       "    }\n",
       "</style>\n",
       "<table border=\"1\" class=\"dataframe\">\n",
       "  <thead>\n",
       "    <tr style=\"text-align: right;\">\n",
       "      <th></th>\n",
       "      <th>id</th>\n",
       "      <th>City</th>\n",
       "      <th>Country</th>\n",
       "      <th>Population_2021</th>\n",
       "      <th>Population_2020</th>\n",
       "      <th>difference_of</th>\n",
       "      <th>Country_code</th>\n",
       "      <th>CityCountry</th>\n",
       "    </tr>\n",
       "  </thead>\n",
       "  <tbody>\n",
       "  </tbody>\n",
       "</table>\n",
       "</div>"
      ],
      "text/plain": [
       "Empty DataFrame\n",
       "Columns: [id, City, Country, Population_2021, Population_2020, difference_of, Country_code, CityCountry]\n",
       "Index: []"
      ]
     },
     "execution_count": 33,
     "metadata": {},
     "output_type": "execute_result"
    }
   ],
   "source": [
    "# Here we check if there is any row left with value of \"1\" we defined earlier.\n",
    "# If yes , this would mean that there are one or more countries which they hadn't been given the country code.\n",
    "big_table.query('Country_code ==\"1\"')"
   ]
  },
  {
   "cell_type": "code",
   "execution_count": 51,
   "id": "dc37f1e7-8722-4a72-9daa-5ec3efb628b5",
   "metadata": {
    "tags": []
   },
   "outputs": [],
   "source": [
    "# big_table.to_csv('Cities_countries.csv' ,index=False)"
   ]
  },
  {
   "cell_type": "markdown",
   "id": "553403c4-9f1c-4aed-96c2-e66bb10045fe",
   "metadata": {},
   "source": [
    "# Cities to sql"
   ]
  },
  {
   "cell_type": "code",
   "execution_count": 141,
   "id": "752be148-8718-496b-a8e1-7d22210f2142",
   "metadata": {},
   "outputs": [],
   "source": [
    "cities = big_table.loc[:,[\"id\",\"City\",\"Country\",\"Country_code\",\"CityCountry\"]]"
   ]
  },
  {
   "cell_type": "code",
   "execution_count": 142,
   "id": "e3794edc-fb74-4925-a52d-c36d05b80ff2",
   "metadata": {},
   "outputs": [
    {
     "data": {
      "text/plain": [
       "(1163, 5)"
      ]
     },
     "execution_count": 142,
     "metadata": {},
     "output_type": "execute_result"
    }
   ],
   "source": [
    "cities.shape"
   ]
  },
  {
   "cell_type": "code",
   "execution_count": 143,
   "id": "7c3cd84c-e4ee-4c45-8609-8367091b7666",
   "metadata": {},
   "outputs": [
    {
     "data": {
      "text/html": [
       "<div>\n",
       "<style scoped>\n",
       "    .dataframe tbody tr th:only-of-type {\n",
       "        vertical-align: middle;\n",
       "    }\n",
       "\n",
       "    .dataframe tbody tr th {\n",
       "        vertical-align: top;\n",
       "    }\n",
       "\n",
       "    .dataframe thead th {\n",
       "        text-align: right;\n",
       "    }\n",
       "</style>\n",
       "<table border=\"1\" class=\"dataframe\">\n",
       "  <thead>\n",
       "    <tr style=\"text-align: right;\">\n",
       "      <th></th>\n",
       "      <th>id</th>\n",
       "      <th>City</th>\n",
       "      <th>Country</th>\n",
       "      <th>Country_code</th>\n",
       "      <th>CityCountry</th>\n",
       "    </tr>\n",
       "  </thead>\n",
       "  <tbody>\n",
       "    <tr>\n",
       "      <th>0</th>\n",
       "      <td>1</td>\n",
       "      <td>Tokyo</td>\n",
       "      <td>Japan</td>\n",
       "      <td>JP</td>\n",
       "      <td>Tokyo, JP</td>\n",
       "    </tr>\n",
       "    <tr>\n",
       "      <th>1</th>\n",
       "      <td>2</td>\n",
       "      <td>Delhi</td>\n",
       "      <td>India</td>\n",
       "      <td>IN</td>\n",
       "      <td>Delhi, IN</td>\n",
       "    </tr>\n",
       "    <tr>\n",
       "      <th>2</th>\n",
       "      <td>3</td>\n",
       "      <td>Shanghai</td>\n",
       "      <td>China</td>\n",
       "      <td>CN</td>\n",
       "      <td>Shanghai, CN</td>\n",
       "    </tr>\n",
       "    <tr>\n",
       "      <th>3</th>\n",
       "      <td>4</td>\n",
       "      <td>Sao Paulo</td>\n",
       "      <td>Brazil</td>\n",
       "      <td>BR</td>\n",
       "      <td>Sao Paulo, BR</td>\n",
       "    </tr>\n",
       "    <tr>\n",
       "      <th>4</th>\n",
       "      <td>5</td>\n",
       "      <td>Mexico City</td>\n",
       "      <td>Mexico</td>\n",
       "      <td>MX</td>\n",
       "      <td>Mexico City, MX</td>\n",
       "    </tr>\n",
       "  </tbody>\n",
       "</table>\n",
       "</div>"
      ],
      "text/plain": [
       "   id         City Country Country_code      CityCountry\n",
       "0   1        Tokyo   Japan           JP        Tokyo, JP\n",
       "1   2        Delhi   India           IN        Delhi, IN\n",
       "2   3     Shanghai   China           CN     Shanghai, CN\n",
       "3   4    Sao Paulo  Brazil           BR    Sao Paulo, BR\n",
       "4   5  Mexico City  Mexico           MX  Mexico City, MX"
      ]
     },
     "execution_count": 143,
     "metadata": {},
     "output_type": "execute_result"
    }
   ],
   "source": [
    "cities.head()"
   ]
  },
  {
   "cell_type": "code",
   "execution_count": 144,
   "id": "ce5837c9-0410-4449-82b0-e6e7b1232549",
   "metadata": {},
   "outputs": [
    {
     "name": "stdout",
     "output_type": "stream",
     "text": [
      "<class 'pandas.core.frame.DataFrame'>\n",
      "Int64Index: 1163 entries, 0 to 1169\n",
      "Data columns (total 5 columns):\n",
      " #   Column        Non-Null Count  Dtype \n",
      "---  ------        --------------  ----- \n",
      " 0   id            1163 non-null   int64 \n",
      " 1   City          1163 non-null   object\n",
      " 2   Country       1163 non-null   object\n",
      " 3   Country_code  1163 non-null   object\n",
      " 4   CityCountry   1163 non-null   object\n",
      "dtypes: int64(1), object(4)\n",
      "memory usage: 54.5+ KB\n"
     ]
    }
   ],
   "source": [
    "cities.info()"
   ]
  },
  {
   "cell_type": "code",
   "execution_count": 160,
   "id": "1e26a982-d30f-419a-96e2-8cdd91024155",
   "metadata": {},
   "outputs": [],
   "source": [
    "schema=\"gans\"\n",
    "host=\"127.0.0.1\"\n",
    "user=\"root\"\n",
    "password= sql_pass\n",
    "port=3306\n",
    "con = f'mysql+pymysql://{user}:{password}@{host}:{port}/{schema}'\n",
    "cities.to_sql('cities',con=con,if_exists='append',index=False)"
   ]
  },
  {
   "cell_type": "markdown",
   "id": "030e2a14-264c-4f7d-9f6d-9bab5dc70002",
   "metadata": {},
   "source": [
    "# POPULATION to sql"
   ]
  },
  {
   "cell_type": "markdown",
   "id": "3b836fef-a257-4690-bc08-3cb085fc54ac",
   "metadata": {},
   "source": [
    "## Creating a sub - DataFrame from from existing one"
   ]
  },
  {
   "cell_type": "code",
   "execution_count": 119,
   "id": "73cd8a40-a54d-4e05-81a6-47fd4261a585",
   "metadata": {},
   "outputs": [
    {
     "data": {
      "text/plain": [
       "(1163, 8)"
      ]
     },
     "execution_count": 119,
     "metadata": {},
     "output_type": "execute_result"
    }
   ],
   "source": [
    "big_table.shape"
   ]
  },
  {
   "cell_type": "code",
   "execution_count": 112,
   "id": "c93b4bfb-d526-4561-83b6-0644495d6d2c",
   "metadata": {},
   "outputs": [],
   "source": [
    "population = big_table.query('City == (\"Athens\",\"Berlin\",\"Barcelona\",\"Istanbul\",\"Moscow\",\"London\",\"Zurich\",\"Paris\",\"Rome\")')"
   ]
  },
  {
   "cell_type": "code",
   "execution_count": 113,
   "id": "455c2445-59e8-48bd-949e-b804bceb4e8b",
   "metadata": {},
   "outputs": [],
   "source": [
    "population.to_csv('Population_big_Cities.csv', index=False)"
   ]
  },
  {
   "cell_type": "code",
   "execution_count": 134,
   "id": "58ea1352-f585-483a-b3df-8782f64473ab",
   "metadata": {},
   "outputs": [
    {
     "name": "stdout",
     "output_type": "stream",
     "text": [
      "<class 'pandas.core.frame.DataFrame'>\n",
      "Int64Index: 9 entries, 12 to 366\n",
      "Data columns (total 8 columns):\n",
      " #   Column           Non-Null Count  Dtype \n",
      "---  ------           --------------  ----- \n",
      " 0   id               9 non-null      int64 \n",
      " 1   City             9 non-null      object\n",
      " 2   Country          9 non-null      object\n",
      " 3   Population_2021  9 non-null      int64 \n",
      " 4   Population_2020  9 non-null      int64 \n",
      " 5   difference_of    9 non-null      object\n",
      " 6   Country_code     9 non-null      object\n",
      " 7   CityCountry      9 non-null      object\n",
      "dtypes: int64(3), object(5)\n",
      "memory usage: 648.0+ bytes\n"
     ]
    }
   ],
   "source": [
    "population.info()"
   ]
  },
  {
   "cell_type": "markdown",
   "id": "8b227b07-b4d3-464f-b77d-8fae93238775",
   "metadata": {},
   "source": [
    "##### And this here is the code to send our tables to the MySQL"
   ]
  },
  {
   "cell_type": "code",
   "execution_count": 161,
   "id": "813297cd-8f6e-4e0d-bd01-ce5a905604cb",
   "metadata": {
    "tags": []
   },
   "outputs": [],
   "source": [
    "schema=\"gans\"\n",
    "host=\"127.0.0.1\"\n",
    "user=\"root\"\n",
    "password= sql_pass\n",
    "port=3306\n",
    "con = f'mysql+pymysql://{user}:{password}@{host}:{port}/{schema}'\n",
    "# var_name.to_sql('population',con=con,if_exists='append',index=False)\n",
    "big_table.to_sql('population',con=con,if_exists='append',index=False)\n",
    "\n",
    "\n",
    "# var_name : the name of variable that contains our dataframe \n",
    "# 'population' : the name of the table we WANT to send to the SQL\n",
    "\n",
    "# about the if_exists : replace , append or fail by default is fail.\n",
    "\n",
    "# for more info : https://pandas.pydata.org/docs/reference/api/pandas.DataFrame.to_sql.html"
   ]
  },
  {
   "cell_type": "markdown",
   "id": "ae87c55a-140d-40f9-a540-0688184573fe",
   "metadata": {},
   "source": [
    "## Weather API"
   ]
  },
  {
   "cell_type": "code",
   "execution_count": 149,
   "id": "5328b9cc-4260-46cd-9cb8-2850ce3ed579",
   "metadata": {},
   "outputs": [],
   "source": [
    "path = \"C:/Users/Kosta/OneDrive/Desktop/Data_Science\"\n",
    "from pyowm.owm import OWM\n",
    "import sys\n",
    "sys.path.insert(1, path)"
   ]
  },
  {
   "cell_type": "code",
   "execution_count": 150,
   "id": "bfa95b81-5cfc-4b65-8db9-69c8c9d67fb4",
   "metadata": {},
   "outputs": [],
   "source": [
    "pd.set_option('display.expand_frame_repr', False)\n",
    "owm = OWM(weather_key)"
   ]
  },
  {
   "cell_type": "code",
   "execution_count": 151,
   "id": "6d3320b6-f728-4073-8873-59774f655cf8",
   "metadata": {},
   "outputs": [],
   "source": [
    "some_cities = cities.query('City == (\"Athens\",\"Berlin\",\"Barcelona\",\"Istanbul\",\"Moscow\",\"London\",\"Zurich\",\"Paris\",\"Rome\")')"
   ]
  },
  {
   "cell_type": "code",
   "execution_count": 152,
   "id": "b8965f6c-2acf-4d30-9246-4408ebc2daa6",
   "metadata": {},
   "outputs": [],
   "source": [
    "def get_weather_tables(cities):\n",
    "    owm = OWM(weather_key)\n",
    "    city_weather_tables = pd.DataFrame()\n",
    "    for index, row in cities.iterrows():\n",
    "        url = (f\"http://api.openweathermap.org/data/2.5/forecast?q={row['CityCountry']}&appid={weather_key}&units=metric\") \n",
    "        response = requests.get(url)\n",
    "        json = response.json()\n",
    "        dictionary = {\"Date_Time\":[],'Temperature':[],'Feels_like': [],'Humidity':[],'Weather':[],'Clouds':[],'Wind_speed':[],'Rain':[],'Snow':[]}\n",
    "        for hour in json['list']:\n",
    "            dictionary['Date_Time'].append(hour['dt_txt'])\n",
    "            dictionary['Temperature'].append(hour['main']['temp'])\n",
    "            dictionary['Feels_like'].append(hour['main']['feels_like'])\n",
    "            dictionary['Humidity'].append(hour['main']['humidity'])\n",
    "            dictionary['Weather'].append(hour['weather'][0]['description'])\n",
    "            dictionary['Clouds'].append(hour['clouds']['all'])\n",
    "            dictionary['Wind_speed'].append(hour['wind']['speed'])\n",
    "            try:\n",
    "                dictionary['Rain'].append(hour['rain']['3h'])\n",
    "            except:\n",
    "                dictionary['Rain'].append('0')\n",
    "            try:\n",
    "                dictionary['Snow'].append(hour['snow']['3h'])\n",
    "            except:\n",
    "                dictionary['Snow'].append('0')\n",
    "        weather_table=pd.DataFrame.from_dict(dictionary)\n",
    "        weather_table[\"Date_Time\"] = pd.to_datetime(weather_table[\"Date_Time\"])\n",
    "        weather_table = weather_table.assign(City_id = row['id'], City_country = row['CityCountry'])\n",
    "        city_weather_tables = city_weather_tables.append(weather_table)\n",
    "    return city_weather_tables"
   ]
  },
  {
   "cell_type": "code",
   "execution_count": 153,
   "id": "d10c87e4-ed51-40b3-b152-ff833acde42f",
   "metadata": {
    "tags": []
   },
   "outputs": [],
   "source": [
    "def create_mysql_table_weather(big_table):\n",
    "    schema=\"gans\"\n",
    "    host=\"127.0.0.1\"\n",
    "    user=\"root\"\n",
    "    password= sql_pass\n",
    "    port=3306\n",
    "    con = f'mysql+pymysql://{user}:{password}@{host}:{port}/{schema}'\n",
    "    big_table.to_sql('weather',con=con,if_exists='append',index=False)"
   ]
  },
  {
   "cell_type": "code",
   "execution_count": 156,
   "id": "02ce2d56-40e9-4ed0-901b-e8c3797fa545",
   "metadata": {
    "collapsed": true,
    "jupyter": {
     "outputs_hidden": true
    },
    "tags": []
   },
   "outputs": [
    {
     "ename": "OperationalError",
     "evalue": "(pymysql.err.OperationalError) (1054, \"Unknown column 'City_country' in 'field list'\")\n[SQL: INSERT INTO weather (`Date_Time`, `Temperature`, `Feels_like`, `Humidity`, `Weather`, `Clouds`, `Wind_speed`, `Rain`, `Snow`, `City_id`, `City_country`) VALUES (%(Date_Time)s, %(Temperature)s, %(Feels_like)s, %(Humidity)s, %(Weather)s, %(Clouds)s, %(Wind_speed)s, %(Rain)s, %(Snow)s, %(City_id)s, %(City_country)s)]\n[parameters: ({'Date_Time': datetime.datetime(2022, 1, 22, 18, 0), 'Temperature': 0.73, 'Feels_like': -2.35, 'Humidity': 60, 'Weather': 'scattered clouds', 'Clouds': 40, 'Wind_speed': 2.7, 'Rain': '0', 'Snow': '0', 'City_id': 13, 'City_country': 'Istanbul, TR'}, {'Date_Time': datetime.datetime(2022, 1, 22, 21, 0), 'Temperature': 0.67, 'Feels_like': -3.0, 'Humidity': 59, 'Weather': 'scattered clouds', 'Clouds': 44, 'Wind_speed': 3.37, 'Rain': '0', 'Snow': '0', 'City_id': 13, 'City_country': 'Istanbul, TR'}, {'Date_Time': datetime.datetime(2022, 1, 23, 0, 0), 'Temperature': 0.47, 'Feels_like': -3.54, 'Humidity': 66, 'Weather': 'light snow', 'Clouds': 51, 'Wind_speed': 3.77, 'Rain': '0', 'Snow': 0.22, 'City_id': 13, 'City_country': 'Istanbul, TR'}, {'Date_Time': datetime.datetime(2022, 1, 23, 3, 0), 'Temperature': 0.99, 'Feels_like': -3.45, 'Humidity': 63, 'Weather': 'light snow', 'Clouds': 96, 'Wind_speed': 4.61, 'Rain': '0', 'Snow': 0.16, 'City_id': 13, 'City_country': 'Istanbul, TR'}, {'Date_Time': datetime.datetime(2022, 1, 23, 6, 0), 'Temperature': 1.3, 'Feels_like': -3.92, 'Humidity': 59, 'Weather': 'light snow', 'Clouds': 97, 'Wind_speed': 6.26, 'Rain': '0', 'Snow': 0.44, 'City_id': 13, 'City_country': 'Istanbul, TR'}, {'Date_Time': datetime.datetime(2022, 1, 23, 9, 0), 'Temperature': 2.22, 'Feels_like': -3.07, 'Humidity': 56, 'Weather': 'light snow', 'Clouds': 100, 'Wind_speed': 7.03, 'Rain': '0', 'Snow': 0.68, 'City_id': 13, 'City_country': 'Istanbul, TR'}, {'Date_Time': datetime.datetime(2022, 1, 23, 12, 0), 'Temperature': 2.59, 'Feels_like': -3.09, 'Humidity': 52, 'Weather': 'light snow', 'Clouds': 98, 'Wind_speed': 8.37, 'Rain': '0', 'Snow': 0.18, 'City_id': 13, 'City_country': 'Istanbul, TR'}, {'Date_Time': datetime.datetime(2022, 1, 23, 15, 0), 'Temperature': 1.53, 'Feels_like': -3.81, 'Humidity': 55, 'Weather': 'broken clouds', 'Clouds': 71, 'Wind_speed': 6.67, 'Rain': '0', 'Snow': '0', 'City_id': 13, 'City_country': 'Istanbul, TR'}  ... displaying 10 of 360 total bound parameter sets ...  {'Date_Time': datetime.datetime(2022, 1, 27, 12, 0), 'Temperature': 3.19, 'Feels_like': 3.19, 'Humidity': 72, 'Weather': 'scattered clouds', 'Clouds': 47, 'Wind_speed': 0.59, 'Rain': '0', 'Snow': '0', 'City_id': 367, 'City_country': 'Zurich, CH'}, {'Date_Time': datetime.datetime(2022, 1, 27, 15, 0), 'Temperature': 2.6, 'Feels_like': 2.6, 'Humidity': 79, 'Weather': 'clear sky', 'Clouds': 8, 'Wind_speed': 0.25, 'Rain': '0', 'Snow': '0', 'City_id': 367, 'City_country': 'Zurich, CH'})]\n(Background on this error at: http://sqlalche.me/e/14/e3q8)",
     "output_type": "error",
     "traceback": [
      "\u001b[1;31m---------------------------------------------------------------------------\u001b[0m",
      "\u001b[1;31mOperationalError\u001b[0m                          Traceback (most recent call last)",
      "\u001b[1;32mC:\\ProgramData\\Anaconda3\\lib\\site-packages\\sqlalchemy\\engine\\base.py\u001b[0m in \u001b[0;36m_execute_context\u001b[1;34m(self, dialect, constructor, statement, parameters, execution_options, *args, **kw)\u001b[0m\n\u001b[0;32m   1684\u001b[0m                 \u001b[1;32mif\u001b[0m \u001b[1;32mnot\u001b[0m \u001b[0mevt_handled\u001b[0m\u001b[1;33m:\u001b[0m\u001b[1;33m\u001b[0m\u001b[1;33m\u001b[0m\u001b[0m\n\u001b[1;32m-> 1685\u001b[1;33m                     self.dialect.do_executemany(\n\u001b[0m\u001b[0;32m   1686\u001b[0m                         \u001b[0mcursor\u001b[0m\u001b[1;33m,\u001b[0m \u001b[0mstatement\u001b[0m\u001b[1;33m,\u001b[0m \u001b[0mparameters\u001b[0m\u001b[1;33m,\u001b[0m \u001b[0mcontext\u001b[0m\u001b[1;33m\u001b[0m\u001b[1;33m\u001b[0m\u001b[0m\n",
      "\u001b[1;32mC:\\ProgramData\\Anaconda3\\lib\\site-packages\\sqlalchemy\\dialects\\mysql\\mysqldb.py\u001b[0m in \u001b[0;36mdo_executemany\u001b[1;34m(self, cursor, statement, parameters, context)\u001b[0m\n\u001b[0;32m    147\u001b[0m     \u001b[1;32mdef\u001b[0m \u001b[0mdo_executemany\u001b[0m\u001b[1;33m(\u001b[0m\u001b[0mself\u001b[0m\u001b[1;33m,\u001b[0m \u001b[0mcursor\u001b[0m\u001b[1;33m,\u001b[0m \u001b[0mstatement\u001b[0m\u001b[1;33m,\u001b[0m \u001b[0mparameters\u001b[0m\u001b[1;33m,\u001b[0m \u001b[0mcontext\u001b[0m\u001b[1;33m=\u001b[0m\u001b[1;32mNone\u001b[0m\u001b[1;33m)\u001b[0m\u001b[1;33m:\u001b[0m\u001b[1;33m\u001b[0m\u001b[1;33m\u001b[0m\u001b[0m\n\u001b[1;32m--> 148\u001b[1;33m         \u001b[0mrowcount\u001b[0m \u001b[1;33m=\u001b[0m \u001b[0mcursor\u001b[0m\u001b[1;33m.\u001b[0m\u001b[0mexecutemany\u001b[0m\u001b[1;33m(\u001b[0m\u001b[0mstatement\u001b[0m\u001b[1;33m,\u001b[0m \u001b[0mparameters\u001b[0m\u001b[1;33m)\u001b[0m\u001b[1;33m\u001b[0m\u001b[1;33m\u001b[0m\u001b[0m\n\u001b[0m\u001b[0;32m    149\u001b[0m         \u001b[1;32mif\u001b[0m \u001b[0mcontext\u001b[0m \u001b[1;32mis\u001b[0m \u001b[1;32mnot\u001b[0m \u001b[1;32mNone\u001b[0m\u001b[1;33m:\u001b[0m\u001b[1;33m\u001b[0m\u001b[1;33m\u001b[0m\u001b[0m\n",
      "\u001b[1;32mC:\\ProgramData\\Anaconda3\\lib\\site-packages\\pymysql\\cursors.py\u001b[0m in \u001b[0;36mexecutemany\u001b[1;34m(self, query, args)\u001b[0m\n\u001b[0;32m    172\u001b[0m             \u001b[1;32massert\u001b[0m \u001b[0mq_values\u001b[0m\u001b[1;33m[\u001b[0m\u001b[1;36m0\u001b[0m\u001b[1;33m]\u001b[0m \u001b[1;33m==\u001b[0m \u001b[1;34m\"(\"\u001b[0m \u001b[1;32mand\u001b[0m \u001b[0mq_values\u001b[0m\u001b[1;33m[\u001b[0m\u001b[1;33m-\u001b[0m\u001b[1;36m1\u001b[0m\u001b[1;33m]\u001b[0m \u001b[1;33m==\u001b[0m \u001b[1;34m\")\"\u001b[0m\u001b[1;33m\u001b[0m\u001b[1;33m\u001b[0m\u001b[0m\n\u001b[1;32m--> 173\u001b[1;33m             return self._do_execute_many(\n\u001b[0m\u001b[0;32m    174\u001b[0m                 \u001b[0mq_prefix\u001b[0m\u001b[1;33m,\u001b[0m\u001b[1;33m\u001b[0m\u001b[1;33m\u001b[0m\u001b[0m\n",
      "\u001b[1;32mC:\\ProgramData\\Anaconda3\\lib\\site-packages\\pymysql\\cursors.py\u001b[0m in \u001b[0;36m_do_execute_many\u001b[1;34m(self, prefix, values, postfix, args, max_stmt_length, encoding)\u001b[0m\n\u001b[0;32m    210\u001b[0m             \u001b[0msql\u001b[0m \u001b[1;33m+=\u001b[0m \u001b[0mv\u001b[0m\u001b[1;33m\u001b[0m\u001b[1;33m\u001b[0m\u001b[0m\n\u001b[1;32m--> 211\u001b[1;33m         \u001b[0mrows\u001b[0m \u001b[1;33m+=\u001b[0m \u001b[0mself\u001b[0m\u001b[1;33m.\u001b[0m\u001b[0mexecute\u001b[0m\u001b[1;33m(\u001b[0m\u001b[0msql\u001b[0m \u001b[1;33m+\u001b[0m \u001b[0mpostfix\u001b[0m\u001b[1;33m)\u001b[0m\u001b[1;33m\u001b[0m\u001b[1;33m\u001b[0m\u001b[0m\n\u001b[0m\u001b[0;32m    212\u001b[0m         \u001b[0mself\u001b[0m\u001b[1;33m.\u001b[0m\u001b[0mrowcount\u001b[0m \u001b[1;33m=\u001b[0m \u001b[0mrows\u001b[0m\u001b[1;33m\u001b[0m\u001b[1;33m\u001b[0m\u001b[0m\n",
      "\u001b[1;32mC:\\ProgramData\\Anaconda3\\lib\\site-packages\\pymysql\\cursors.py\u001b[0m in \u001b[0;36mexecute\u001b[1;34m(self, query, args)\u001b[0m\n\u001b[0;32m    147\u001b[0m \u001b[1;33m\u001b[0m\u001b[0m\n\u001b[1;32m--> 148\u001b[1;33m         \u001b[0mresult\u001b[0m \u001b[1;33m=\u001b[0m \u001b[0mself\u001b[0m\u001b[1;33m.\u001b[0m\u001b[0m_query\u001b[0m\u001b[1;33m(\u001b[0m\u001b[0mquery\u001b[0m\u001b[1;33m)\u001b[0m\u001b[1;33m\u001b[0m\u001b[1;33m\u001b[0m\u001b[0m\n\u001b[0m\u001b[0;32m    149\u001b[0m         \u001b[0mself\u001b[0m\u001b[1;33m.\u001b[0m\u001b[0m_executed\u001b[0m \u001b[1;33m=\u001b[0m \u001b[0mquery\u001b[0m\u001b[1;33m\u001b[0m\u001b[1;33m\u001b[0m\u001b[0m\n",
      "\u001b[1;32mC:\\ProgramData\\Anaconda3\\lib\\site-packages\\pymysql\\cursors.py\u001b[0m in \u001b[0;36m_query\u001b[1;34m(self, q)\u001b[0m\n\u001b[0;32m    309\u001b[0m         \u001b[0mself\u001b[0m\u001b[1;33m.\u001b[0m\u001b[0m_clear_result\u001b[0m\u001b[1;33m(\u001b[0m\u001b[1;33m)\u001b[0m\u001b[1;33m\u001b[0m\u001b[1;33m\u001b[0m\u001b[0m\n\u001b[1;32m--> 310\u001b[1;33m         \u001b[0mconn\u001b[0m\u001b[1;33m.\u001b[0m\u001b[0mquery\u001b[0m\u001b[1;33m(\u001b[0m\u001b[0mq\u001b[0m\u001b[1;33m)\u001b[0m\u001b[1;33m\u001b[0m\u001b[1;33m\u001b[0m\u001b[0m\n\u001b[0m\u001b[0;32m    311\u001b[0m         \u001b[0mself\u001b[0m\u001b[1;33m.\u001b[0m\u001b[0m_do_get_result\u001b[0m\u001b[1;33m(\u001b[0m\u001b[1;33m)\u001b[0m\u001b[1;33m\u001b[0m\u001b[1;33m\u001b[0m\u001b[0m\n",
      "\u001b[1;32mC:\\ProgramData\\Anaconda3\\lib\\site-packages\\pymysql\\connections.py\u001b[0m in \u001b[0;36mquery\u001b[1;34m(self, sql, unbuffered)\u001b[0m\n\u001b[0;32m    547\u001b[0m         \u001b[0mself\u001b[0m\u001b[1;33m.\u001b[0m\u001b[0m_execute_command\u001b[0m\u001b[1;33m(\u001b[0m\u001b[0mCOMMAND\u001b[0m\u001b[1;33m.\u001b[0m\u001b[0mCOM_QUERY\u001b[0m\u001b[1;33m,\u001b[0m \u001b[0msql\u001b[0m\u001b[1;33m)\u001b[0m\u001b[1;33m\u001b[0m\u001b[1;33m\u001b[0m\u001b[0m\n\u001b[1;32m--> 548\u001b[1;33m         \u001b[0mself\u001b[0m\u001b[1;33m.\u001b[0m\u001b[0m_affected_rows\u001b[0m \u001b[1;33m=\u001b[0m \u001b[0mself\u001b[0m\u001b[1;33m.\u001b[0m\u001b[0m_read_query_result\u001b[0m\u001b[1;33m(\u001b[0m\u001b[0munbuffered\u001b[0m\u001b[1;33m=\u001b[0m\u001b[0munbuffered\u001b[0m\u001b[1;33m)\u001b[0m\u001b[1;33m\u001b[0m\u001b[1;33m\u001b[0m\u001b[0m\n\u001b[0m\u001b[0;32m    549\u001b[0m         \u001b[1;32mreturn\u001b[0m \u001b[0mself\u001b[0m\u001b[1;33m.\u001b[0m\u001b[0m_affected_rows\u001b[0m\u001b[1;33m\u001b[0m\u001b[1;33m\u001b[0m\u001b[0m\n",
      "\u001b[1;32mC:\\ProgramData\\Anaconda3\\lib\\site-packages\\pymysql\\connections.py\u001b[0m in \u001b[0;36m_read_query_result\u001b[1;34m(self, unbuffered)\u001b[0m\n\u001b[0;32m    774\u001b[0m             \u001b[0mresult\u001b[0m \u001b[1;33m=\u001b[0m \u001b[0mMySQLResult\u001b[0m\u001b[1;33m(\u001b[0m\u001b[0mself\u001b[0m\u001b[1;33m)\u001b[0m\u001b[1;33m\u001b[0m\u001b[1;33m\u001b[0m\u001b[0m\n\u001b[1;32m--> 775\u001b[1;33m             \u001b[0mresult\u001b[0m\u001b[1;33m.\u001b[0m\u001b[0mread\u001b[0m\u001b[1;33m(\u001b[0m\u001b[1;33m)\u001b[0m\u001b[1;33m\u001b[0m\u001b[1;33m\u001b[0m\u001b[0m\n\u001b[0m\u001b[0;32m    776\u001b[0m         \u001b[0mself\u001b[0m\u001b[1;33m.\u001b[0m\u001b[0m_result\u001b[0m \u001b[1;33m=\u001b[0m \u001b[0mresult\u001b[0m\u001b[1;33m\u001b[0m\u001b[1;33m\u001b[0m\u001b[0m\n",
      "\u001b[1;32mC:\\ProgramData\\Anaconda3\\lib\\site-packages\\pymysql\\connections.py\u001b[0m in \u001b[0;36mread\u001b[1;34m(self)\u001b[0m\n\u001b[0;32m   1155\u001b[0m         \u001b[1;32mtry\u001b[0m\u001b[1;33m:\u001b[0m\u001b[1;33m\u001b[0m\u001b[1;33m\u001b[0m\u001b[0m\n\u001b[1;32m-> 1156\u001b[1;33m             \u001b[0mfirst_packet\u001b[0m \u001b[1;33m=\u001b[0m \u001b[0mself\u001b[0m\u001b[1;33m.\u001b[0m\u001b[0mconnection\u001b[0m\u001b[1;33m.\u001b[0m\u001b[0m_read_packet\u001b[0m\u001b[1;33m(\u001b[0m\u001b[1;33m)\u001b[0m\u001b[1;33m\u001b[0m\u001b[1;33m\u001b[0m\u001b[0m\n\u001b[0m\u001b[0;32m   1157\u001b[0m \u001b[1;33m\u001b[0m\u001b[0m\n",
      "\u001b[1;32mC:\\ProgramData\\Anaconda3\\lib\\site-packages\\pymysql\\connections.py\u001b[0m in \u001b[0;36m_read_packet\u001b[1;34m(self, packet_type)\u001b[0m\n\u001b[0;32m    724\u001b[0m                 \u001b[0mself\u001b[0m\u001b[1;33m.\u001b[0m\u001b[0m_result\u001b[0m\u001b[1;33m.\u001b[0m\u001b[0munbuffered_active\u001b[0m \u001b[1;33m=\u001b[0m \u001b[1;32mFalse\u001b[0m\u001b[1;33m\u001b[0m\u001b[1;33m\u001b[0m\u001b[0m\n\u001b[1;32m--> 725\u001b[1;33m             \u001b[0mpacket\u001b[0m\u001b[1;33m.\u001b[0m\u001b[0mraise_for_error\u001b[0m\u001b[1;33m(\u001b[0m\u001b[1;33m)\u001b[0m\u001b[1;33m\u001b[0m\u001b[1;33m\u001b[0m\u001b[0m\n\u001b[0m\u001b[0;32m    726\u001b[0m         \u001b[1;32mreturn\u001b[0m \u001b[0mpacket\u001b[0m\u001b[1;33m\u001b[0m\u001b[1;33m\u001b[0m\u001b[0m\n",
      "\u001b[1;32mC:\\ProgramData\\Anaconda3\\lib\\site-packages\\pymysql\\protocol.py\u001b[0m in \u001b[0;36mraise_for_error\u001b[1;34m(self)\u001b[0m\n\u001b[0;32m    220\u001b[0m             \u001b[0mprint\u001b[0m\u001b[1;33m(\u001b[0m\u001b[1;34m\"errno =\"\u001b[0m\u001b[1;33m,\u001b[0m \u001b[0merrno\u001b[0m\u001b[1;33m)\u001b[0m\u001b[1;33m\u001b[0m\u001b[1;33m\u001b[0m\u001b[0m\n\u001b[1;32m--> 221\u001b[1;33m         \u001b[0merr\u001b[0m\u001b[1;33m.\u001b[0m\u001b[0mraise_mysql_exception\u001b[0m\u001b[1;33m(\u001b[0m\u001b[0mself\u001b[0m\u001b[1;33m.\u001b[0m\u001b[0m_data\u001b[0m\u001b[1;33m)\u001b[0m\u001b[1;33m\u001b[0m\u001b[1;33m\u001b[0m\u001b[0m\n\u001b[0m\u001b[0;32m    222\u001b[0m \u001b[1;33m\u001b[0m\u001b[0m\n",
      "\u001b[1;32mC:\\ProgramData\\Anaconda3\\lib\\site-packages\\pymysql\\err.py\u001b[0m in \u001b[0;36mraise_mysql_exception\u001b[1;34m(data)\u001b[0m\n\u001b[0;32m    142\u001b[0m         \u001b[0merrorclass\u001b[0m \u001b[1;33m=\u001b[0m \u001b[0mInternalError\u001b[0m \u001b[1;32mif\u001b[0m \u001b[0merrno\u001b[0m \u001b[1;33m<\u001b[0m \u001b[1;36m1000\u001b[0m \u001b[1;32melse\u001b[0m \u001b[0mOperationalError\u001b[0m\u001b[1;33m\u001b[0m\u001b[1;33m\u001b[0m\u001b[0m\n\u001b[1;32m--> 143\u001b[1;33m     \u001b[1;32mraise\u001b[0m \u001b[0merrorclass\u001b[0m\u001b[1;33m(\u001b[0m\u001b[0merrno\u001b[0m\u001b[1;33m,\u001b[0m \u001b[0merrval\u001b[0m\u001b[1;33m)\u001b[0m\u001b[1;33m\u001b[0m\u001b[1;33m\u001b[0m\u001b[0m\n\u001b[0m",
      "\u001b[1;31mOperationalError\u001b[0m: (1054, \"Unknown column 'City_country' in 'field list'\")",
      "\nThe above exception was the direct cause of the following exception:\n",
      "\u001b[1;31mOperationalError\u001b[0m                          Traceback (most recent call last)",
      "\u001b[1;32m<ipython-input-156-153d9215c781>\u001b[0m in \u001b[0;36m<module>\u001b[1;34m\u001b[0m\n\u001b[1;32m----> 1\u001b[1;33m \u001b[0mcreate_mysql_table_weather\u001b[0m\u001b[1;33m(\u001b[0m\u001b[0mget_weather_tables\u001b[0m\u001b[1;33m(\u001b[0m\u001b[0msome_cities\u001b[0m\u001b[1;33m)\u001b[0m\u001b[1;33m)\u001b[0m\u001b[1;33m\u001b[0m\u001b[1;33m\u001b[0m\u001b[0m\n\u001b[0m",
      "\u001b[1;32m<ipython-input-153-3057d23c43e3>\u001b[0m in \u001b[0;36mcreate_mysql_table_weather\u001b[1;34m(big_table)\u001b[0m\n\u001b[0;32m      6\u001b[0m     \u001b[0mport\u001b[0m\u001b[1;33m=\u001b[0m\u001b[1;36m3306\u001b[0m\u001b[1;33m\u001b[0m\u001b[1;33m\u001b[0m\u001b[0m\n\u001b[0;32m      7\u001b[0m     \u001b[0mcon\u001b[0m \u001b[1;33m=\u001b[0m \u001b[1;34mf'mysql+pymysql://{user}:{password}@{host}:{port}/{schema}'\u001b[0m\u001b[1;33m\u001b[0m\u001b[1;33m\u001b[0m\u001b[0m\n\u001b[1;32m----> 8\u001b[1;33m     \u001b[0mbig_table\u001b[0m\u001b[1;33m.\u001b[0m\u001b[0mto_sql\u001b[0m\u001b[1;33m(\u001b[0m\u001b[1;34m'weather'\u001b[0m\u001b[1;33m,\u001b[0m\u001b[0mcon\u001b[0m\u001b[1;33m=\u001b[0m\u001b[0mcon\u001b[0m\u001b[1;33m,\u001b[0m\u001b[0mif_exists\u001b[0m\u001b[1;33m=\u001b[0m\u001b[1;34m'append'\u001b[0m\u001b[1;33m,\u001b[0m\u001b[0mindex\u001b[0m\u001b[1;33m=\u001b[0m\u001b[1;32mFalse\u001b[0m\u001b[1;33m)\u001b[0m\u001b[1;33m\u001b[0m\u001b[1;33m\u001b[0m\u001b[0m\n\u001b[0m",
      "\u001b[1;32mC:\\ProgramData\\Anaconda3\\lib\\site-packages\\pandas\\core\\generic.py\u001b[0m in \u001b[0;36mto_sql\u001b[1;34m(self, name, con, schema, if_exists, index, index_label, chunksize, dtype, method)\u001b[0m\n\u001b[0;32m   2870\u001b[0m         \u001b[1;32mfrom\u001b[0m \u001b[0mpandas\u001b[0m\u001b[1;33m.\u001b[0m\u001b[0mio\u001b[0m \u001b[1;32mimport\u001b[0m \u001b[0msql\u001b[0m\u001b[1;33m\u001b[0m\u001b[1;33m\u001b[0m\u001b[0m\n\u001b[0;32m   2871\u001b[0m \u001b[1;33m\u001b[0m\u001b[0m\n\u001b[1;32m-> 2872\u001b[1;33m         sql.to_sql(\n\u001b[0m\u001b[0;32m   2873\u001b[0m             \u001b[0mself\u001b[0m\u001b[1;33m,\u001b[0m\u001b[1;33m\u001b[0m\u001b[1;33m\u001b[0m\u001b[0m\n\u001b[0;32m   2874\u001b[0m             \u001b[0mname\u001b[0m\u001b[1;33m,\u001b[0m\u001b[1;33m\u001b[0m\u001b[1;33m\u001b[0m\u001b[0m\n",
      "\u001b[1;32mC:\\ProgramData\\Anaconda3\\lib\\site-packages\\pandas\\io\\sql.py\u001b[0m in \u001b[0;36mto_sql\u001b[1;34m(frame, name, con, schema, if_exists, index, index_label, chunksize, dtype, method, engine, **engine_kwargs)\u001b[0m\n\u001b[0;32m    715\u001b[0m         )\n\u001b[0;32m    716\u001b[0m \u001b[1;33m\u001b[0m\u001b[0m\n\u001b[1;32m--> 717\u001b[1;33m     pandas_sql.to_sql(\n\u001b[0m\u001b[0;32m    718\u001b[0m         \u001b[0mframe\u001b[0m\u001b[1;33m,\u001b[0m\u001b[1;33m\u001b[0m\u001b[1;33m\u001b[0m\u001b[0m\n\u001b[0;32m    719\u001b[0m         \u001b[0mname\u001b[0m\u001b[1;33m,\u001b[0m\u001b[1;33m\u001b[0m\u001b[1;33m\u001b[0m\u001b[0m\n",
      "\u001b[1;32mC:\\ProgramData\\Anaconda3\\lib\\site-packages\\pandas\\io\\sql.py\u001b[0m in \u001b[0;36mto_sql\u001b[1;34m(self, frame, name, if_exists, index, index_label, schema, chunksize, dtype, method, engine, **engine_kwargs)\u001b[0m\n\u001b[0;32m   1759\u001b[0m         )\n\u001b[0;32m   1760\u001b[0m \u001b[1;33m\u001b[0m\u001b[0m\n\u001b[1;32m-> 1761\u001b[1;33m         sql_engine.insert_records(\n\u001b[0m\u001b[0;32m   1762\u001b[0m             \u001b[0mtable\u001b[0m\u001b[1;33m=\u001b[0m\u001b[0mtable\u001b[0m\u001b[1;33m,\u001b[0m\u001b[1;33m\u001b[0m\u001b[1;33m\u001b[0m\u001b[0m\n\u001b[0;32m   1763\u001b[0m             \u001b[0mcon\u001b[0m\u001b[1;33m=\u001b[0m\u001b[0mself\u001b[0m\u001b[1;33m.\u001b[0m\u001b[0mconnectable\u001b[0m\u001b[1;33m,\u001b[0m\u001b[1;33m\u001b[0m\u001b[1;33m\u001b[0m\u001b[0m\n",
      "\u001b[1;32mC:\\ProgramData\\Anaconda3\\lib\\site-packages\\pandas\\io\\sql.py\u001b[0m in \u001b[0;36minsert_records\u001b[1;34m(self, table, con, frame, name, index, schema, chunksize, method, **engine_kwargs)\u001b[0m\n\u001b[0;32m   1348\u001b[0m                 \u001b[1;32mraise\u001b[0m \u001b[0mValueError\u001b[0m\u001b[1;33m(\u001b[0m\u001b[1;34m\"inf cannot be used with MySQL\"\u001b[0m\u001b[1;33m)\u001b[0m \u001b[1;32mfrom\u001b[0m \u001b[0merr\u001b[0m\u001b[1;33m\u001b[0m\u001b[1;33m\u001b[0m\u001b[0m\n\u001b[0;32m   1349\u001b[0m             \u001b[1;32melse\u001b[0m\u001b[1;33m:\u001b[0m\u001b[1;33m\u001b[0m\u001b[1;33m\u001b[0m\u001b[0m\n\u001b[1;32m-> 1350\u001b[1;33m                 \u001b[1;32mraise\u001b[0m \u001b[0merr\u001b[0m\u001b[1;33m\u001b[0m\u001b[1;33m\u001b[0m\u001b[0m\n\u001b[0m\u001b[0;32m   1351\u001b[0m \u001b[1;33m\u001b[0m\u001b[0m\n\u001b[0;32m   1352\u001b[0m \u001b[1;33m\u001b[0m\u001b[0m\n",
      "\u001b[1;32mC:\\ProgramData\\Anaconda3\\lib\\site-packages\\pandas\\io\\sql.py\u001b[0m in \u001b[0;36minsert_records\u001b[1;34m(self, table, con, frame, name, index, schema, chunksize, method, **engine_kwargs)\u001b[0m\n\u001b[0;32m   1338\u001b[0m \u001b[1;33m\u001b[0m\u001b[0m\n\u001b[0;32m   1339\u001b[0m         \u001b[1;32mtry\u001b[0m\u001b[1;33m:\u001b[0m\u001b[1;33m\u001b[0m\u001b[1;33m\u001b[0m\u001b[0m\n\u001b[1;32m-> 1340\u001b[1;33m             \u001b[0mtable\u001b[0m\u001b[1;33m.\u001b[0m\u001b[0minsert\u001b[0m\u001b[1;33m(\u001b[0m\u001b[0mchunksize\u001b[0m\u001b[1;33m=\u001b[0m\u001b[0mchunksize\u001b[0m\u001b[1;33m,\u001b[0m \u001b[0mmethod\u001b[0m\u001b[1;33m=\u001b[0m\u001b[0mmethod\u001b[0m\u001b[1;33m)\u001b[0m\u001b[1;33m\u001b[0m\u001b[1;33m\u001b[0m\u001b[0m\n\u001b[0m\u001b[0;32m   1341\u001b[0m         \u001b[1;32mexcept\u001b[0m \u001b[0mexc\u001b[0m\u001b[1;33m.\u001b[0m\u001b[0mSQLAlchemyError\u001b[0m \u001b[1;32mas\u001b[0m \u001b[0merr\u001b[0m\u001b[1;33m:\u001b[0m\u001b[1;33m\u001b[0m\u001b[1;33m\u001b[0m\u001b[0m\n\u001b[0;32m   1342\u001b[0m             \u001b[1;31m# GH34431\u001b[0m\u001b[1;33m\u001b[0m\u001b[1;33m\u001b[0m\u001b[1;33m\u001b[0m\u001b[0m\n",
      "\u001b[1;32mC:\\ProgramData\\Anaconda3\\lib\\site-packages\\pandas\\io\\sql.py\u001b[0m in \u001b[0;36minsert\u001b[1;34m(self, chunksize, method)\u001b[0m\n\u001b[0;32m    965\u001b[0m \u001b[1;33m\u001b[0m\u001b[0m\n\u001b[0;32m    966\u001b[0m                 \u001b[0mchunk_iter\u001b[0m \u001b[1;33m=\u001b[0m \u001b[0mzip\u001b[0m\u001b[1;33m(\u001b[0m\u001b[1;33m*\u001b[0m\u001b[1;33m[\u001b[0m\u001b[0marr\u001b[0m\u001b[1;33m[\u001b[0m\u001b[0mstart_i\u001b[0m\u001b[1;33m:\u001b[0m\u001b[0mend_i\u001b[0m\u001b[1;33m]\u001b[0m \u001b[1;32mfor\u001b[0m \u001b[0marr\u001b[0m \u001b[1;32min\u001b[0m \u001b[0mdata_list\u001b[0m\u001b[1;33m]\u001b[0m\u001b[1;33m)\u001b[0m\u001b[1;33m\u001b[0m\u001b[1;33m\u001b[0m\u001b[0m\n\u001b[1;32m--> 967\u001b[1;33m                 \u001b[0mexec_insert\u001b[0m\u001b[1;33m(\u001b[0m\u001b[0mconn\u001b[0m\u001b[1;33m,\u001b[0m \u001b[0mkeys\u001b[0m\u001b[1;33m,\u001b[0m \u001b[0mchunk_iter\u001b[0m\u001b[1;33m)\u001b[0m\u001b[1;33m\u001b[0m\u001b[1;33m\u001b[0m\u001b[0m\n\u001b[0m\u001b[0;32m    968\u001b[0m \u001b[1;33m\u001b[0m\u001b[0m\n\u001b[0;32m    969\u001b[0m     def _query_iterator(\n",
      "\u001b[1;32mC:\\ProgramData\\Anaconda3\\lib\\site-packages\\pandas\\io\\sql.py\u001b[0m in \u001b[0;36m_execute_insert\u001b[1;34m(self, conn, keys, data_iter)\u001b[0m\n\u001b[0;32m    880\u001b[0m         \"\"\"\n\u001b[0;32m    881\u001b[0m         \u001b[0mdata\u001b[0m \u001b[1;33m=\u001b[0m \u001b[1;33m[\u001b[0m\u001b[0mdict\u001b[0m\u001b[1;33m(\u001b[0m\u001b[0mzip\u001b[0m\u001b[1;33m(\u001b[0m\u001b[0mkeys\u001b[0m\u001b[1;33m,\u001b[0m \u001b[0mrow\u001b[0m\u001b[1;33m)\u001b[0m\u001b[1;33m)\u001b[0m \u001b[1;32mfor\u001b[0m \u001b[0mrow\u001b[0m \u001b[1;32min\u001b[0m \u001b[0mdata_iter\u001b[0m\u001b[1;33m]\u001b[0m\u001b[1;33m\u001b[0m\u001b[1;33m\u001b[0m\u001b[0m\n\u001b[1;32m--> 882\u001b[1;33m         \u001b[0mconn\u001b[0m\u001b[1;33m.\u001b[0m\u001b[0mexecute\u001b[0m\u001b[1;33m(\u001b[0m\u001b[0mself\u001b[0m\u001b[1;33m.\u001b[0m\u001b[0mtable\u001b[0m\u001b[1;33m.\u001b[0m\u001b[0minsert\u001b[0m\u001b[1;33m(\u001b[0m\u001b[1;33m)\u001b[0m\u001b[1;33m,\u001b[0m \u001b[0mdata\u001b[0m\u001b[1;33m)\u001b[0m\u001b[1;33m\u001b[0m\u001b[1;33m\u001b[0m\u001b[0m\n\u001b[0m\u001b[0;32m    883\u001b[0m \u001b[1;33m\u001b[0m\u001b[0m\n\u001b[0;32m    884\u001b[0m     \u001b[1;32mdef\u001b[0m \u001b[0m_execute_insert_multi\u001b[0m\u001b[1;33m(\u001b[0m\u001b[0mself\u001b[0m\u001b[1;33m,\u001b[0m \u001b[0mconn\u001b[0m\u001b[1;33m,\u001b[0m \u001b[0mkeys\u001b[0m\u001b[1;33m:\u001b[0m \u001b[0mlist\u001b[0m\u001b[1;33m[\u001b[0m\u001b[0mstr\u001b[0m\u001b[1;33m]\u001b[0m\u001b[1;33m,\u001b[0m \u001b[0mdata_iter\u001b[0m\u001b[1;33m)\u001b[0m\u001b[1;33m:\u001b[0m\u001b[1;33m\u001b[0m\u001b[1;33m\u001b[0m\u001b[0m\n",
      "\u001b[1;32mC:\\ProgramData\\Anaconda3\\lib\\site-packages\\sqlalchemy\\engine\\base.py\u001b[0m in \u001b[0;36mexecute\u001b[1;34m(self, statement, *multiparams, **params)\u001b[0m\n\u001b[0;32m   1198\u001b[0m             )\n\u001b[0;32m   1199\u001b[0m         \u001b[1;32melse\u001b[0m\u001b[1;33m:\u001b[0m\u001b[1;33m\u001b[0m\u001b[1;33m\u001b[0m\u001b[0m\n\u001b[1;32m-> 1200\u001b[1;33m             \u001b[1;32mreturn\u001b[0m \u001b[0mmeth\u001b[0m\u001b[1;33m(\u001b[0m\u001b[0mself\u001b[0m\u001b[1;33m,\u001b[0m \u001b[0mmultiparams\u001b[0m\u001b[1;33m,\u001b[0m \u001b[0mparams\u001b[0m\u001b[1;33m,\u001b[0m \u001b[0m_EMPTY_EXECUTION_OPTS\u001b[0m\u001b[1;33m)\u001b[0m\u001b[1;33m\u001b[0m\u001b[1;33m\u001b[0m\u001b[0m\n\u001b[0m\u001b[0;32m   1201\u001b[0m \u001b[1;33m\u001b[0m\u001b[0m\n\u001b[0;32m   1202\u001b[0m     \u001b[1;32mdef\u001b[0m \u001b[0m_execute_function\u001b[0m\u001b[1;33m(\u001b[0m\u001b[0mself\u001b[0m\u001b[1;33m,\u001b[0m \u001b[0mfunc\u001b[0m\u001b[1;33m,\u001b[0m \u001b[0mmultiparams\u001b[0m\u001b[1;33m,\u001b[0m \u001b[0mparams\u001b[0m\u001b[1;33m,\u001b[0m \u001b[0mexecution_options\u001b[0m\u001b[1;33m)\u001b[0m\u001b[1;33m:\u001b[0m\u001b[1;33m\u001b[0m\u001b[1;33m\u001b[0m\u001b[0m\n",
      "\u001b[1;32mC:\\ProgramData\\Anaconda3\\lib\\site-packages\\sqlalchemy\\sql\\elements.py\u001b[0m in \u001b[0;36m_execute_on_connection\u001b[1;34m(self, connection, multiparams, params, execution_options, _force)\u001b[0m\n\u001b[0;32m    311\u001b[0m     ):\n\u001b[0;32m    312\u001b[0m         \u001b[1;32mif\u001b[0m \u001b[0m_force\u001b[0m \u001b[1;32mor\u001b[0m \u001b[0mself\u001b[0m\u001b[1;33m.\u001b[0m\u001b[0msupports_execution\u001b[0m\u001b[1;33m:\u001b[0m\u001b[1;33m\u001b[0m\u001b[1;33m\u001b[0m\u001b[0m\n\u001b[1;32m--> 313\u001b[1;33m             return connection._execute_clauseelement(\n\u001b[0m\u001b[0;32m    314\u001b[0m                 \u001b[0mself\u001b[0m\u001b[1;33m,\u001b[0m \u001b[0mmultiparams\u001b[0m\u001b[1;33m,\u001b[0m \u001b[0mparams\u001b[0m\u001b[1;33m,\u001b[0m \u001b[0mexecution_options\u001b[0m\u001b[1;33m\u001b[0m\u001b[1;33m\u001b[0m\u001b[0m\n\u001b[0;32m    315\u001b[0m             )\n",
      "\u001b[1;32mC:\\ProgramData\\Anaconda3\\lib\\site-packages\\sqlalchemy\\engine\\base.py\u001b[0m in \u001b[0;36m_execute_clauseelement\u001b[1;34m(self, elem, multiparams, params, execution_options)\u001b[0m\n\u001b[0;32m   1387\u001b[0m             \u001b[0mlinting\u001b[0m\u001b[1;33m=\u001b[0m\u001b[0mself\u001b[0m\u001b[1;33m.\u001b[0m\u001b[0mdialect\u001b[0m\u001b[1;33m.\u001b[0m\u001b[0mcompiler_linting\u001b[0m \u001b[1;33m|\u001b[0m \u001b[0mcompiler\u001b[0m\u001b[1;33m.\u001b[0m\u001b[0mWARN_LINTING\u001b[0m\u001b[1;33m,\u001b[0m\u001b[1;33m\u001b[0m\u001b[1;33m\u001b[0m\u001b[0m\n\u001b[0;32m   1388\u001b[0m         )\n\u001b[1;32m-> 1389\u001b[1;33m         ret = self._execute_context(\n\u001b[0m\u001b[0;32m   1390\u001b[0m             \u001b[0mdialect\u001b[0m\u001b[1;33m,\u001b[0m\u001b[1;33m\u001b[0m\u001b[1;33m\u001b[0m\u001b[0m\n\u001b[0;32m   1391\u001b[0m             \u001b[0mdialect\u001b[0m\u001b[1;33m.\u001b[0m\u001b[0mexecution_ctx_cls\u001b[0m\u001b[1;33m.\u001b[0m\u001b[0m_init_compiled\u001b[0m\u001b[1;33m,\u001b[0m\u001b[1;33m\u001b[0m\u001b[1;33m\u001b[0m\u001b[0m\n",
      "\u001b[1;32mC:\\ProgramData\\Anaconda3\\lib\\site-packages\\sqlalchemy\\engine\\base.py\u001b[0m in \u001b[0;36m_execute_context\u001b[1;34m(self, dialect, constructor, statement, parameters, execution_options, *args, **kw)\u001b[0m\n\u001b[0;32m   1746\u001b[0m \u001b[1;33m\u001b[0m\u001b[0m\n\u001b[0;32m   1747\u001b[0m         \u001b[1;32mexcept\u001b[0m \u001b[0mBaseException\u001b[0m \u001b[1;32mas\u001b[0m \u001b[0me\u001b[0m\u001b[1;33m:\u001b[0m\u001b[1;33m\u001b[0m\u001b[1;33m\u001b[0m\u001b[0m\n\u001b[1;32m-> 1748\u001b[1;33m             self._handle_dbapi_exception(\n\u001b[0m\u001b[0;32m   1749\u001b[0m                 \u001b[0me\u001b[0m\u001b[1;33m,\u001b[0m \u001b[0mstatement\u001b[0m\u001b[1;33m,\u001b[0m \u001b[0mparameters\u001b[0m\u001b[1;33m,\u001b[0m \u001b[0mcursor\u001b[0m\u001b[1;33m,\u001b[0m \u001b[0mcontext\u001b[0m\u001b[1;33m\u001b[0m\u001b[1;33m\u001b[0m\u001b[0m\n\u001b[0;32m   1750\u001b[0m             )\n",
      "\u001b[1;32mC:\\ProgramData\\Anaconda3\\lib\\site-packages\\sqlalchemy\\engine\\base.py\u001b[0m in \u001b[0;36m_handle_dbapi_exception\u001b[1;34m(self, e, statement, parameters, cursor, context)\u001b[0m\n\u001b[0;32m   1927\u001b[0m                 \u001b[0mutil\u001b[0m\u001b[1;33m.\u001b[0m\u001b[0mraise_\u001b[0m\u001b[1;33m(\u001b[0m\u001b[0mnewraise\u001b[0m\u001b[1;33m,\u001b[0m \u001b[0mwith_traceback\u001b[0m\u001b[1;33m=\u001b[0m\u001b[0mexc_info\u001b[0m\u001b[1;33m[\u001b[0m\u001b[1;36m2\u001b[0m\u001b[1;33m]\u001b[0m\u001b[1;33m,\u001b[0m \u001b[0mfrom_\u001b[0m\u001b[1;33m=\u001b[0m\u001b[0me\u001b[0m\u001b[1;33m)\u001b[0m\u001b[1;33m\u001b[0m\u001b[1;33m\u001b[0m\u001b[0m\n\u001b[0;32m   1928\u001b[0m             \u001b[1;32melif\u001b[0m \u001b[0mshould_wrap\u001b[0m\u001b[1;33m:\u001b[0m\u001b[1;33m\u001b[0m\u001b[1;33m\u001b[0m\u001b[0m\n\u001b[1;32m-> 1929\u001b[1;33m                 util.raise_(\n\u001b[0m\u001b[0;32m   1930\u001b[0m                     \u001b[0msqlalchemy_exception\u001b[0m\u001b[1;33m,\u001b[0m \u001b[0mwith_traceback\u001b[0m\u001b[1;33m=\u001b[0m\u001b[0mexc_info\u001b[0m\u001b[1;33m[\u001b[0m\u001b[1;36m2\u001b[0m\u001b[1;33m]\u001b[0m\u001b[1;33m,\u001b[0m \u001b[0mfrom_\u001b[0m\u001b[1;33m=\u001b[0m\u001b[0me\u001b[0m\u001b[1;33m\u001b[0m\u001b[1;33m\u001b[0m\u001b[0m\n\u001b[0;32m   1931\u001b[0m                 )\n",
      "\u001b[1;32mC:\\ProgramData\\Anaconda3\\lib\\site-packages\\sqlalchemy\\util\\compat.py\u001b[0m in \u001b[0;36mraise_\u001b[1;34m(***failed resolving arguments***)\u001b[0m\n\u001b[0;32m    209\u001b[0m \u001b[1;33m\u001b[0m\u001b[0m\n\u001b[0;32m    210\u001b[0m         \u001b[1;32mtry\u001b[0m\u001b[1;33m:\u001b[0m\u001b[1;33m\u001b[0m\u001b[1;33m\u001b[0m\u001b[0m\n\u001b[1;32m--> 211\u001b[1;33m             \u001b[1;32mraise\u001b[0m \u001b[0mexception\u001b[0m\u001b[1;33m\u001b[0m\u001b[1;33m\u001b[0m\u001b[0m\n\u001b[0m\u001b[0;32m    212\u001b[0m         \u001b[1;32mfinally\u001b[0m\u001b[1;33m:\u001b[0m\u001b[1;33m\u001b[0m\u001b[1;33m\u001b[0m\u001b[0m\n\u001b[0;32m    213\u001b[0m             \u001b[1;31m# credit to\u001b[0m\u001b[1;33m\u001b[0m\u001b[1;33m\u001b[0m\u001b[1;33m\u001b[0m\u001b[0m\n",
      "\u001b[1;32mC:\\ProgramData\\Anaconda3\\lib\\site-packages\\sqlalchemy\\engine\\base.py\u001b[0m in \u001b[0;36m_execute_context\u001b[1;34m(self, dialect, constructor, statement, parameters, execution_options, *args, **kw)\u001b[0m\n\u001b[0;32m   1683\u001b[0m                             \u001b[1;32mbreak\u001b[0m\u001b[1;33m\u001b[0m\u001b[1;33m\u001b[0m\u001b[0m\n\u001b[0;32m   1684\u001b[0m                 \u001b[1;32mif\u001b[0m \u001b[1;32mnot\u001b[0m \u001b[0mevt_handled\u001b[0m\u001b[1;33m:\u001b[0m\u001b[1;33m\u001b[0m\u001b[1;33m\u001b[0m\u001b[0m\n\u001b[1;32m-> 1685\u001b[1;33m                     self.dialect.do_executemany(\n\u001b[0m\u001b[0;32m   1686\u001b[0m                         \u001b[0mcursor\u001b[0m\u001b[1;33m,\u001b[0m \u001b[0mstatement\u001b[0m\u001b[1;33m,\u001b[0m \u001b[0mparameters\u001b[0m\u001b[1;33m,\u001b[0m \u001b[0mcontext\u001b[0m\u001b[1;33m\u001b[0m\u001b[1;33m\u001b[0m\u001b[0m\n\u001b[0;32m   1687\u001b[0m                     )\n",
      "\u001b[1;32mC:\\ProgramData\\Anaconda3\\lib\\site-packages\\sqlalchemy\\dialects\\mysql\\mysqldb.py\u001b[0m in \u001b[0;36mdo_executemany\u001b[1;34m(self, cursor, statement, parameters, context)\u001b[0m\n\u001b[0;32m    146\u001b[0m \u001b[1;33m\u001b[0m\u001b[0m\n\u001b[0;32m    147\u001b[0m     \u001b[1;32mdef\u001b[0m \u001b[0mdo_executemany\u001b[0m\u001b[1;33m(\u001b[0m\u001b[0mself\u001b[0m\u001b[1;33m,\u001b[0m \u001b[0mcursor\u001b[0m\u001b[1;33m,\u001b[0m \u001b[0mstatement\u001b[0m\u001b[1;33m,\u001b[0m \u001b[0mparameters\u001b[0m\u001b[1;33m,\u001b[0m \u001b[0mcontext\u001b[0m\u001b[1;33m=\u001b[0m\u001b[1;32mNone\u001b[0m\u001b[1;33m)\u001b[0m\u001b[1;33m:\u001b[0m\u001b[1;33m\u001b[0m\u001b[1;33m\u001b[0m\u001b[0m\n\u001b[1;32m--> 148\u001b[1;33m         \u001b[0mrowcount\u001b[0m \u001b[1;33m=\u001b[0m \u001b[0mcursor\u001b[0m\u001b[1;33m.\u001b[0m\u001b[0mexecutemany\u001b[0m\u001b[1;33m(\u001b[0m\u001b[0mstatement\u001b[0m\u001b[1;33m,\u001b[0m \u001b[0mparameters\u001b[0m\u001b[1;33m)\u001b[0m\u001b[1;33m\u001b[0m\u001b[1;33m\u001b[0m\u001b[0m\n\u001b[0m\u001b[0;32m    149\u001b[0m         \u001b[1;32mif\u001b[0m \u001b[0mcontext\u001b[0m \u001b[1;32mis\u001b[0m \u001b[1;32mnot\u001b[0m \u001b[1;32mNone\u001b[0m\u001b[1;33m:\u001b[0m\u001b[1;33m\u001b[0m\u001b[1;33m\u001b[0m\u001b[0m\n\u001b[0;32m    150\u001b[0m             \u001b[0mcontext\u001b[0m\u001b[1;33m.\u001b[0m\u001b[0m_rowcount\u001b[0m \u001b[1;33m=\u001b[0m \u001b[0mrowcount\u001b[0m\u001b[1;33m\u001b[0m\u001b[1;33m\u001b[0m\u001b[0m\n",
      "\u001b[1;32mC:\\ProgramData\\Anaconda3\\lib\\site-packages\\pymysql\\cursors.py\u001b[0m in \u001b[0;36mexecutemany\u001b[1;34m(self, query, args)\u001b[0m\n\u001b[0;32m    171\u001b[0m             \u001b[0mq_postfix\u001b[0m \u001b[1;33m=\u001b[0m \u001b[0mm\u001b[0m\u001b[1;33m.\u001b[0m\u001b[0mgroup\u001b[0m\u001b[1;33m(\u001b[0m\u001b[1;36m3\u001b[0m\u001b[1;33m)\u001b[0m \u001b[1;32mor\u001b[0m \u001b[1;34m\"\"\u001b[0m\u001b[1;33m\u001b[0m\u001b[1;33m\u001b[0m\u001b[0m\n\u001b[0;32m    172\u001b[0m             \u001b[1;32massert\u001b[0m \u001b[0mq_values\u001b[0m\u001b[1;33m[\u001b[0m\u001b[1;36m0\u001b[0m\u001b[1;33m]\u001b[0m \u001b[1;33m==\u001b[0m \u001b[1;34m\"(\"\u001b[0m \u001b[1;32mand\u001b[0m \u001b[0mq_values\u001b[0m\u001b[1;33m[\u001b[0m\u001b[1;33m-\u001b[0m\u001b[1;36m1\u001b[0m\u001b[1;33m]\u001b[0m \u001b[1;33m==\u001b[0m \u001b[1;34m\")\"\u001b[0m\u001b[1;33m\u001b[0m\u001b[1;33m\u001b[0m\u001b[0m\n\u001b[1;32m--> 173\u001b[1;33m             return self._do_execute_many(\n\u001b[0m\u001b[0;32m    174\u001b[0m                 \u001b[0mq_prefix\u001b[0m\u001b[1;33m,\u001b[0m\u001b[1;33m\u001b[0m\u001b[1;33m\u001b[0m\u001b[0m\n\u001b[0;32m    175\u001b[0m                 \u001b[0mq_values\u001b[0m\u001b[1;33m,\u001b[0m\u001b[1;33m\u001b[0m\u001b[1;33m\u001b[0m\u001b[0m\n",
      "\u001b[1;32mC:\\ProgramData\\Anaconda3\\lib\\site-packages\\pymysql\\cursors.py\u001b[0m in \u001b[0;36m_do_execute_many\u001b[1;34m(self, prefix, values, postfix, args, max_stmt_length, encoding)\u001b[0m\n\u001b[0;32m    209\u001b[0m                 \u001b[0msql\u001b[0m \u001b[1;33m+=\u001b[0m \u001b[1;34mb\",\"\u001b[0m\u001b[1;33m\u001b[0m\u001b[1;33m\u001b[0m\u001b[0m\n\u001b[0;32m    210\u001b[0m             \u001b[0msql\u001b[0m \u001b[1;33m+=\u001b[0m \u001b[0mv\u001b[0m\u001b[1;33m\u001b[0m\u001b[1;33m\u001b[0m\u001b[0m\n\u001b[1;32m--> 211\u001b[1;33m         \u001b[0mrows\u001b[0m \u001b[1;33m+=\u001b[0m \u001b[0mself\u001b[0m\u001b[1;33m.\u001b[0m\u001b[0mexecute\u001b[0m\u001b[1;33m(\u001b[0m\u001b[0msql\u001b[0m \u001b[1;33m+\u001b[0m \u001b[0mpostfix\u001b[0m\u001b[1;33m)\u001b[0m\u001b[1;33m\u001b[0m\u001b[1;33m\u001b[0m\u001b[0m\n\u001b[0m\u001b[0;32m    212\u001b[0m         \u001b[0mself\u001b[0m\u001b[1;33m.\u001b[0m\u001b[0mrowcount\u001b[0m \u001b[1;33m=\u001b[0m \u001b[0mrows\u001b[0m\u001b[1;33m\u001b[0m\u001b[1;33m\u001b[0m\u001b[0m\n\u001b[0;32m    213\u001b[0m         \u001b[1;32mreturn\u001b[0m \u001b[0mrows\u001b[0m\u001b[1;33m\u001b[0m\u001b[1;33m\u001b[0m\u001b[0m\n",
      "\u001b[1;32mC:\\ProgramData\\Anaconda3\\lib\\site-packages\\pymysql\\cursors.py\u001b[0m in \u001b[0;36mexecute\u001b[1;34m(self, query, args)\u001b[0m\n\u001b[0;32m    146\u001b[0m         \u001b[0mquery\u001b[0m \u001b[1;33m=\u001b[0m \u001b[0mself\u001b[0m\u001b[1;33m.\u001b[0m\u001b[0mmogrify\u001b[0m\u001b[1;33m(\u001b[0m\u001b[0mquery\u001b[0m\u001b[1;33m,\u001b[0m \u001b[0margs\u001b[0m\u001b[1;33m)\u001b[0m\u001b[1;33m\u001b[0m\u001b[1;33m\u001b[0m\u001b[0m\n\u001b[0;32m    147\u001b[0m \u001b[1;33m\u001b[0m\u001b[0m\n\u001b[1;32m--> 148\u001b[1;33m         \u001b[0mresult\u001b[0m \u001b[1;33m=\u001b[0m \u001b[0mself\u001b[0m\u001b[1;33m.\u001b[0m\u001b[0m_query\u001b[0m\u001b[1;33m(\u001b[0m\u001b[0mquery\u001b[0m\u001b[1;33m)\u001b[0m\u001b[1;33m\u001b[0m\u001b[1;33m\u001b[0m\u001b[0m\n\u001b[0m\u001b[0;32m    149\u001b[0m         \u001b[0mself\u001b[0m\u001b[1;33m.\u001b[0m\u001b[0m_executed\u001b[0m \u001b[1;33m=\u001b[0m \u001b[0mquery\u001b[0m\u001b[1;33m\u001b[0m\u001b[1;33m\u001b[0m\u001b[0m\n\u001b[0;32m    150\u001b[0m         \u001b[1;32mreturn\u001b[0m \u001b[0mresult\u001b[0m\u001b[1;33m\u001b[0m\u001b[1;33m\u001b[0m\u001b[0m\n",
      "\u001b[1;32mC:\\ProgramData\\Anaconda3\\lib\\site-packages\\pymysql\\cursors.py\u001b[0m in \u001b[0;36m_query\u001b[1;34m(self, q)\u001b[0m\n\u001b[0;32m    308\u001b[0m         \u001b[0mself\u001b[0m\u001b[1;33m.\u001b[0m\u001b[0m_last_executed\u001b[0m \u001b[1;33m=\u001b[0m \u001b[0mq\u001b[0m\u001b[1;33m\u001b[0m\u001b[1;33m\u001b[0m\u001b[0m\n\u001b[0;32m    309\u001b[0m         \u001b[0mself\u001b[0m\u001b[1;33m.\u001b[0m\u001b[0m_clear_result\u001b[0m\u001b[1;33m(\u001b[0m\u001b[1;33m)\u001b[0m\u001b[1;33m\u001b[0m\u001b[1;33m\u001b[0m\u001b[0m\n\u001b[1;32m--> 310\u001b[1;33m         \u001b[0mconn\u001b[0m\u001b[1;33m.\u001b[0m\u001b[0mquery\u001b[0m\u001b[1;33m(\u001b[0m\u001b[0mq\u001b[0m\u001b[1;33m)\u001b[0m\u001b[1;33m\u001b[0m\u001b[1;33m\u001b[0m\u001b[0m\n\u001b[0m\u001b[0;32m    311\u001b[0m         \u001b[0mself\u001b[0m\u001b[1;33m.\u001b[0m\u001b[0m_do_get_result\u001b[0m\u001b[1;33m(\u001b[0m\u001b[1;33m)\u001b[0m\u001b[1;33m\u001b[0m\u001b[1;33m\u001b[0m\u001b[0m\n\u001b[0;32m    312\u001b[0m         \u001b[1;32mreturn\u001b[0m \u001b[0mself\u001b[0m\u001b[1;33m.\u001b[0m\u001b[0mrowcount\u001b[0m\u001b[1;33m\u001b[0m\u001b[1;33m\u001b[0m\u001b[0m\n",
      "\u001b[1;32mC:\\ProgramData\\Anaconda3\\lib\\site-packages\\pymysql\\connections.py\u001b[0m in \u001b[0;36mquery\u001b[1;34m(self, sql, unbuffered)\u001b[0m\n\u001b[0;32m    546\u001b[0m             \u001b[0msql\u001b[0m \u001b[1;33m=\u001b[0m \u001b[0msql\u001b[0m\u001b[1;33m.\u001b[0m\u001b[0mencode\u001b[0m\u001b[1;33m(\u001b[0m\u001b[0mself\u001b[0m\u001b[1;33m.\u001b[0m\u001b[0mencoding\u001b[0m\u001b[1;33m,\u001b[0m \u001b[1;34m\"surrogateescape\"\u001b[0m\u001b[1;33m)\u001b[0m\u001b[1;33m\u001b[0m\u001b[1;33m\u001b[0m\u001b[0m\n\u001b[0;32m    547\u001b[0m         \u001b[0mself\u001b[0m\u001b[1;33m.\u001b[0m\u001b[0m_execute_command\u001b[0m\u001b[1;33m(\u001b[0m\u001b[0mCOMMAND\u001b[0m\u001b[1;33m.\u001b[0m\u001b[0mCOM_QUERY\u001b[0m\u001b[1;33m,\u001b[0m \u001b[0msql\u001b[0m\u001b[1;33m)\u001b[0m\u001b[1;33m\u001b[0m\u001b[1;33m\u001b[0m\u001b[0m\n\u001b[1;32m--> 548\u001b[1;33m         \u001b[0mself\u001b[0m\u001b[1;33m.\u001b[0m\u001b[0m_affected_rows\u001b[0m \u001b[1;33m=\u001b[0m \u001b[0mself\u001b[0m\u001b[1;33m.\u001b[0m\u001b[0m_read_query_result\u001b[0m\u001b[1;33m(\u001b[0m\u001b[0munbuffered\u001b[0m\u001b[1;33m=\u001b[0m\u001b[0munbuffered\u001b[0m\u001b[1;33m)\u001b[0m\u001b[1;33m\u001b[0m\u001b[1;33m\u001b[0m\u001b[0m\n\u001b[0m\u001b[0;32m    549\u001b[0m         \u001b[1;32mreturn\u001b[0m \u001b[0mself\u001b[0m\u001b[1;33m.\u001b[0m\u001b[0m_affected_rows\u001b[0m\u001b[1;33m\u001b[0m\u001b[1;33m\u001b[0m\u001b[0m\n\u001b[0;32m    550\u001b[0m \u001b[1;33m\u001b[0m\u001b[0m\n",
      "\u001b[1;32mC:\\ProgramData\\Anaconda3\\lib\\site-packages\\pymysql\\connections.py\u001b[0m in \u001b[0;36m_read_query_result\u001b[1;34m(self, unbuffered)\u001b[0m\n\u001b[0;32m    773\u001b[0m         \u001b[1;32melse\u001b[0m\u001b[1;33m:\u001b[0m\u001b[1;33m\u001b[0m\u001b[1;33m\u001b[0m\u001b[0m\n\u001b[0;32m    774\u001b[0m             \u001b[0mresult\u001b[0m \u001b[1;33m=\u001b[0m \u001b[0mMySQLResult\u001b[0m\u001b[1;33m(\u001b[0m\u001b[0mself\u001b[0m\u001b[1;33m)\u001b[0m\u001b[1;33m\u001b[0m\u001b[1;33m\u001b[0m\u001b[0m\n\u001b[1;32m--> 775\u001b[1;33m             \u001b[0mresult\u001b[0m\u001b[1;33m.\u001b[0m\u001b[0mread\u001b[0m\u001b[1;33m(\u001b[0m\u001b[1;33m)\u001b[0m\u001b[1;33m\u001b[0m\u001b[1;33m\u001b[0m\u001b[0m\n\u001b[0m\u001b[0;32m    776\u001b[0m         \u001b[0mself\u001b[0m\u001b[1;33m.\u001b[0m\u001b[0m_result\u001b[0m \u001b[1;33m=\u001b[0m \u001b[0mresult\u001b[0m\u001b[1;33m\u001b[0m\u001b[1;33m\u001b[0m\u001b[0m\n\u001b[0;32m    777\u001b[0m         \u001b[1;32mif\u001b[0m \u001b[0mresult\u001b[0m\u001b[1;33m.\u001b[0m\u001b[0mserver_status\u001b[0m \u001b[1;32mis\u001b[0m \u001b[1;32mnot\u001b[0m \u001b[1;32mNone\u001b[0m\u001b[1;33m:\u001b[0m\u001b[1;33m\u001b[0m\u001b[1;33m\u001b[0m\u001b[0m\n",
      "\u001b[1;32mC:\\ProgramData\\Anaconda3\\lib\\site-packages\\pymysql\\connections.py\u001b[0m in \u001b[0;36mread\u001b[1;34m(self)\u001b[0m\n\u001b[0;32m   1154\u001b[0m     \u001b[1;32mdef\u001b[0m \u001b[0mread\u001b[0m\u001b[1;33m(\u001b[0m\u001b[0mself\u001b[0m\u001b[1;33m)\u001b[0m\u001b[1;33m:\u001b[0m\u001b[1;33m\u001b[0m\u001b[1;33m\u001b[0m\u001b[0m\n\u001b[0;32m   1155\u001b[0m         \u001b[1;32mtry\u001b[0m\u001b[1;33m:\u001b[0m\u001b[1;33m\u001b[0m\u001b[1;33m\u001b[0m\u001b[0m\n\u001b[1;32m-> 1156\u001b[1;33m             \u001b[0mfirst_packet\u001b[0m \u001b[1;33m=\u001b[0m \u001b[0mself\u001b[0m\u001b[1;33m.\u001b[0m\u001b[0mconnection\u001b[0m\u001b[1;33m.\u001b[0m\u001b[0m_read_packet\u001b[0m\u001b[1;33m(\u001b[0m\u001b[1;33m)\u001b[0m\u001b[1;33m\u001b[0m\u001b[1;33m\u001b[0m\u001b[0m\n\u001b[0m\u001b[0;32m   1157\u001b[0m \u001b[1;33m\u001b[0m\u001b[0m\n\u001b[0;32m   1158\u001b[0m             \u001b[1;32mif\u001b[0m \u001b[0mfirst_packet\u001b[0m\u001b[1;33m.\u001b[0m\u001b[0mis_ok_packet\u001b[0m\u001b[1;33m(\u001b[0m\u001b[1;33m)\u001b[0m\u001b[1;33m:\u001b[0m\u001b[1;33m\u001b[0m\u001b[1;33m\u001b[0m\u001b[0m\n",
      "\u001b[1;32mC:\\ProgramData\\Anaconda3\\lib\\site-packages\\pymysql\\connections.py\u001b[0m in \u001b[0;36m_read_packet\u001b[1;34m(self, packet_type)\u001b[0m\n\u001b[0;32m    723\u001b[0m             \u001b[1;32mif\u001b[0m \u001b[0mself\u001b[0m\u001b[1;33m.\u001b[0m\u001b[0m_result\u001b[0m \u001b[1;32mis\u001b[0m \u001b[1;32mnot\u001b[0m \u001b[1;32mNone\u001b[0m \u001b[1;32mand\u001b[0m \u001b[0mself\u001b[0m\u001b[1;33m.\u001b[0m\u001b[0m_result\u001b[0m\u001b[1;33m.\u001b[0m\u001b[0munbuffered_active\u001b[0m \u001b[1;32mis\u001b[0m \u001b[1;32mTrue\u001b[0m\u001b[1;33m:\u001b[0m\u001b[1;33m\u001b[0m\u001b[1;33m\u001b[0m\u001b[0m\n\u001b[0;32m    724\u001b[0m                 \u001b[0mself\u001b[0m\u001b[1;33m.\u001b[0m\u001b[0m_result\u001b[0m\u001b[1;33m.\u001b[0m\u001b[0munbuffered_active\u001b[0m \u001b[1;33m=\u001b[0m \u001b[1;32mFalse\u001b[0m\u001b[1;33m\u001b[0m\u001b[1;33m\u001b[0m\u001b[0m\n\u001b[1;32m--> 725\u001b[1;33m             \u001b[0mpacket\u001b[0m\u001b[1;33m.\u001b[0m\u001b[0mraise_for_error\u001b[0m\u001b[1;33m(\u001b[0m\u001b[1;33m)\u001b[0m\u001b[1;33m\u001b[0m\u001b[1;33m\u001b[0m\u001b[0m\n\u001b[0m\u001b[0;32m    726\u001b[0m         \u001b[1;32mreturn\u001b[0m \u001b[0mpacket\u001b[0m\u001b[1;33m\u001b[0m\u001b[1;33m\u001b[0m\u001b[0m\n\u001b[0;32m    727\u001b[0m \u001b[1;33m\u001b[0m\u001b[0m\n",
      "\u001b[1;32mC:\\ProgramData\\Anaconda3\\lib\\site-packages\\pymysql\\protocol.py\u001b[0m in \u001b[0;36mraise_for_error\u001b[1;34m(self)\u001b[0m\n\u001b[0;32m    219\u001b[0m         \u001b[1;32mif\u001b[0m \u001b[0mDEBUG\u001b[0m\u001b[1;33m:\u001b[0m\u001b[1;33m\u001b[0m\u001b[1;33m\u001b[0m\u001b[0m\n\u001b[0;32m    220\u001b[0m             \u001b[0mprint\u001b[0m\u001b[1;33m(\u001b[0m\u001b[1;34m\"errno =\"\u001b[0m\u001b[1;33m,\u001b[0m \u001b[0merrno\u001b[0m\u001b[1;33m)\u001b[0m\u001b[1;33m\u001b[0m\u001b[1;33m\u001b[0m\u001b[0m\n\u001b[1;32m--> 221\u001b[1;33m         \u001b[0merr\u001b[0m\u001b[1;33m.\u001b[0m\u001b[0mraise_mysql_exception\u001b[0m\u001b[1;33m(\u001b[0m\u001b[0mself\u001b[0m\u001b[1;33m.\u001b[0m\u001b[0m_data\u001b[0m\u001b[1;33m)\u001b[0m\u001b[1;33m\u001b[0m\u001b[1;33m\u001b[0m\u001b[0m\n\u001b[0m\u001b[0;32m    222\u001b[0m \u001b[1;33m\u001b[0m\u001b[0m\n\u001b[0;32m    223\u001b[0m     \u001b[1;32mdef\u001b[0m \u001b[0mdump\u001b[0m\u001b[1;33m(\u001b[0m\u001b[0mself\u001b[0m\u001b[1;33m)\u001b[0m\u001b[1;33m:\u001b[0m\u001b[1;33m\u001b[0m\u001b[1;33m\u001b[0m\u001b[0m\n",
      "\u001b[1;32mC:\\ProgramData\\Anaconda3\\lib\\site-packages\\pymysql\\err.py\u001b[0m in \u001b[0;36mraise_mysql_exception\u001b[1;34m(data)\u001b[0m\n\u001b[0;32m    141\u001b[0m     \u001b[1;32mif\u001b[0m \u001b[0merrorclass\u001b[0m \u001b[1;32mis\u001b[0m \u001b[1;32mNone\u001b[0m\u001b[1;33m:\u001b[0m\u001b[1;33m\u001b[0m\u001b[1;33m\u001b[0m\u001b[0m\n\u001b[0;32m    142\u001b[0m         \u001b[0merrorclass\u001b[0m \u001b[1;33m=\u001b[0m \u001b[0mInternalError\u001b[0m \u001b[1;32mif\u001b[0m \u001b[0merrno\u001b[0m \u001b[1;33m<\u001b[0m \u001b[1;36m1000\u001b[0m \u001b[1;32melse\u001b[0m \u001b[0mOperationalError\u001b[0m\u001b[1;33m\u001b[0m\u001b[1;33m\u001b[0m\u001b[0m\n\u001b[1;32m--> 143\u001b[1;33m     \u001b[1;32mraise\u001b[0m \u001b[0merrorclass\u001b[0m\u001b[1;33m(\u001b[0m\u001b[0merrno\u001b[0m\u001b[1;33m,\u001b[0m \u001b[0merrval\u001b[0m\u001b[1;33m)\u001b[0m\u001b[1;33m\u001b[0m\u001b[1;33m\u001b[0m\u001b[0m\n\u001b[0m",
      "\u001b[1;31mOperationalError\u001b[0m: (pymysql.err.OperationalError) (1054, \"Unknown column 'City_country' in 'field list'\")\n[SQL: INSERT INTO weather (`Date_Time`, `Temperature`, `Feels_like`, `Humidity`, `Weather`, `Clouds`, `Wind_speed`, `Rain`, `Snow`, `City_id`, `City_country`) VALUES (%(Date_Time)s, %(Temperature)s, %(Feels_like)s, %(Humidity)s, %(Weather)s, %(Clouds)s, %(Wind_speed)s, %(Rain)s, %(Snow)s, %(City_id)s, %(City_country)s)]\n[parameters: ({'Date_Time': datetime.datetime(2022, 1, 22, 18, 0), 'Temperature': 0.73, 'Feels_like': -2.35, 'Humidity': 60, 'Weather': 'scattered clouds', 'Clouds': 40, 'Wind_speed': 2.7, 'Rain': '0', 'Snow': '0', 'City_id': 13, 'City_country': 'Istanbul, TR'}, {'Date_Time': datetime.datetime(2022, 1, 22, 21, 0), 'Temperature': 0.67, 'Feels_like': -3.0, 'Humidity': 59, 'Weather': 'scattered clouds', 'Clouds': 44, 'Wind_speed': 3.37, 'Rain': '0', 'Snow': '0', 'City_id': 13, 'City_country': 'Istanbul, TR'}, {'Date_Time': datetime.datetime(2022, 1, 23, 0, 0), 'Temperature': 0.47, 'Feels_like': -3.54, 'Humidity': 66, 'Weather': 'light snow', 'Clouds': 51, 'Wind_speed': 3.77, 'Rain': '0', 'Snow': 0.22, 'City_id': 13, 'City_country': 'Istanbul, TR'}, {'Date_Time': datetime.datetime(2022, 1, 23, 3, 0), 'Temperature': 0.99, 'Feels_like': -3.45, 'Humidity': 63, 'Weather': 'light snow', 'Clouds': 96, 'Wind_speed': 4.61, 'Rain': '0', 'Snow': 0.16, 'City_id': 13, 'City_country': 'Istanbul, TR'}, {'Date_Time': datetime.datetime(2022, 1, 23, 6, 0), 'Temperature': 1.3, 'Feels_like': -3.92, 'Humidity': 59, 'Weather': 'light snow', 'Clouds': 97, 'Wind_speed': 6.26, 'Rain': '0', 'Snow': 0.44, 'City_id': 13, 'City_country': 'Istanbul, TR'}, {'Date_Time': datetime.datetime(2022, 1, 23, 9, 0), 'Temperature': 2.22, 'Feels_like': -3.07, 'Humidity': 56, 'Weather': 'light snow', 'Clouds': 100, 'Wind_speed': 7.03, 'Rain': '0', 'Snow': 0.68, 'City_id': 13, 'City_country': 'Istanbul, TR'}, {'Date_Time': datetime.datetime(2022, 1, 23, 12, 0), 'Temperature': 2.59, 'Feels_like': -3.09, 'Humidity': 52, 'Weather': 'light snow', 'Clouds': 98, 'Wind_speed': 8.37, 'Rain': '0', 'Snow': 0.18, 'City_id': 13, 'City_country': 'Istanbul, TR'}, {'Date_Time': datetime.datetime(2022, 1, 23, 15, 0), 'Temperature': 1.53, 'Feels_like': -3.81, 'Humidity': 55, 'Weather': 'broken clouds', 'Clouds': 71, 'Wind_speed': 6.67, 'Rain': '0', 'Snow': '0', 'City_id': 13, 'City_country': 'Istanbul, TR'}  ... displaying 10 of 360 total bound parameter sets ...  {'Date_Time': datetime.datetime(2022, 1, 27, 12, 0), 'Temperature': 3.19, 'Feels_like': 3.19, 'Humidity': 72, 'Weather': 'scattered clouds', 'Clouds': 47, 'Wind_speed': 0.59, 'Rain': '0', 'Snow': '0', 'City_id': 367, 'City_country': 'Zurich, CH'}, {'Date_Time': datetime.datetime(2022, 1, 27, 15, 0), 'Temperature': 2.6, 'Feels_like': 2.6, 'Humidity': 79, 'Weather': 'clear sky', 'Clouds': 8, 'Wind_speed': 0.25, 'Rain': '0', 'Snow': '0', 'City_id': 367, 'City_country': 'Zurich, CH'})]\n(Background on this error at: http://sqlalche.me/e/14/e3q8)"
     ]
    }
   ],
   "source": [
    "create_mysql_table_weather(get_weather_tables(some_cities))"
   ]
  },
  {
   "cell_type": "code",
   "execution_count": 157,
   "id": "c9046cb5-adf3-4047-802e-278f5ea5ab89",
   "metadata": {},
   "outputs": [],
   "source": [
    "# example_table = get_weather_tables(some_cities)\n",
    "# example_table"
   ]
  },
  {
   "cell_type": "code",
   "execution_count": 159,
   "id": "6876220a-cb5c-4902-999c-caf8899e77bb",
   "metadata": {},
   "outputs": [
    {
     "data": {
      "text/html": [
       "<div>\n",
       "<style scoped>\n",
       "    .dataframe tbody tr th:only-of-type {\n",
       "        vertical-align: middle;\n",
       "    }\n",
       "\n",
       "    .dataframe tbody tr th {\n",
       "        vertical-align: top;\n",
       "    }\n",
       "\n",
       "    .dataframe thead th {\n",
       "        text-align: right;\n",
       "    }\n",
       "</style>\n",
       "<table border=\"1\" class=\"dataframe\">\n",
       "  <thead>\n",
       "    <tr style=\"text-align: right;\">\n",
       "      <th></th>\n",
       "      <th>Date_Time</th>\n",
       "      <th>Temperature</th>\n",
       "      <th>Feels_like</th>\n",
       "      <th>Humidity</th>\n",
       "      <th>Weather</th>\n",
       "      <th>Clouds</th>\n",
       "      <th>Wind_speed</th>\n",
       "      <th>Rain</th>\n",
       "      <th>Snow</th>\n",
       "      <th>City_id</th>\n",
       "      <th>City_country</th>\n",
       "    </tr>\n",
       "  </thead>\n",
       "  <tbody>\n",
       "    <tr>\n",
       "      <th>0</th>\n",
       "      <td>2022-01-22 18:00:00</td>\n",
       "      <td>0.73</td>\n",
       "      <td>-2.35</td>\n",
       "      <td>60</td>\n",
       "      <td>scattered clouds</td>\n",
       "      <td>40</td>\n",
       "      <td>2.70</td>\n",
       "      <td>0</td>\n",
       "      <td>0</td>\n",
       "      <td>13</td>\n",
       "      <td>Istanbul, TR</td>\n",
       "    </tr>\n",
       "    <tr>\n",
       "      <th>1</th>\n",
       "      <td>2022-01-22 21:00:00</td>\n",
       "      <td>0.67</td>\n",
       "      <td>-3.00</td>\n",
       "      <td>59</td>\n",
       "      <td>scattered clouds</td>\n",
       "      <td>44</td>\n",
       "      <td>3.37</td>\n",
       "      <td>0</td>\n",
       "      <td>0</td>\n",
       "      <td>13</td>\n",
       "      <td>Istanbul, TR</td>\n",
       "    </tr>\n",
       "    <tr>\n",
       "      <th>2</th>\n",
       "      <td>2022-01-23 00:00:00</td>\n",
       "      <td>0.47</td>\n",
       "      <td>-3.54</td>\n",
       "      <td>66</td>\n",
       "      <td>light snow</td>\n",
       "      <td>51</td>\n",
       "      <td>3.77</td>\n",
       "      <td>0</td>\n",
       "      <td>0.22</td>\n",
       "      <td>13</td>\n",
       "      <td>Istanbul, TR</td>\n",
       "    </tr>\n",
       "    <tr>\n",
       "      <th>3</th>\n",
       "      <td>2022-01-23 03:00:00</td>\n",
       "      <td>0.99</td>\n",
       "      <td>-3.45</td>\n",
       "      <td>63</td>\n",
       "      <td>light snow</td>\n",
       "      <td>96</td>\n",
       "      <td>4.61</td>\n",
       "      <td>0</td>\n",
       "      <td>0.16</td>\n",
       "      <td>13</td>\n",
       "      <td>Istanbul, TR</td>\n",
       "    </tr>\n",
       "    <tr>\n",
       "      <th>4</th>\n",
       "      <td>2022-01-23 06:00:00</td>\n",
       "      <td>1.30</td>\n",
       "      <td>-3.92</td>\n",
       "      <td>59</td>\n",
       "      <td>light snow</td>\n",
       "      <td>97</td>\n",
       "      <td>6.26</td>\n",
       "      <td>0</td>\n",
       "      <td>0.44</td>\n",
       "      <td>13</td>\n",
       "      <td>Istanbul, TR</td>\n",
       "    </tr>\n",
       "  </tbody>\n",
       "</table>\n",
       "</div>"
      ],
      "text/plain": [
       "            Date_Time  Temperature  Feels_like  Humidity           Weather  Clouds  Wind_speed Rain  Snow  City_id  City_country\n",
       "0 2022-01-22 18:00:00         0.73       -2.35        60  scattered clouds      40        2.70    0     0       13  Istanbul, TR\n",
       "1 2022-01-22 21:00:00         0.67       -3.00        59  scattered clouds      44        3.37    0     0       13  Istanbul, TR\n",
       "2 2022-01-23 00:00:00         0.47       -3.54        66        light snow      51        3.77    0  0.22       13  Istanbul, TR\n",
       "3 2022-01-23 03:00:00         0.99       -3.45        63        light snow      96        4.61    0  0.16       13  Istanbul, TR\n",
       "4 2022-01-23 06:00:00         1.30       -3.92        59        light snow      97        6.26    0  0.44       13  Istanbul, TR"
      ]
     },
     "execution_count": 159,
     "metadata": {},
     "output_type": "execute_result"
    }
   ],
   "source": [
    "example_table.head()"
   ]
  },
  {
   "cell_type": "code",
   "execution_count": 162,
   "id": "531aa1a3-c17c-4755-92c7-52781d30a023",
   "metadata": {},
   "outputs": [],
   "source": [
    "create_mysql_table_weather(example_table)"
   ]
  },
  {
   "cell_type": "code",
   "execution_count": 85,
   "id": "e9a58eac-3f88-41a9-8407-f742b2e77546",
   "metadata": {},
   "outputs": [
    {
     "name": "stdout",
     "output_type": "stream",
     "text": [
      "<class 'pandas.core.frame.DataFrame'>\n",
      "Int64Index: 360 entries, 0 to 39\n",
      "Data columns (total 11 columns):\n",
      " #   Column        Non-Null Count  Dtype         \n",
      "---  ------        --------------  -----         \n",
      " 0   Date_Time     360 non-null    datetime64[ns]\n",
      " 1   Temperature   360 non-null    float64       \n",
      " 2   Feels_like    360 non-null    float64       \n",
      " 3   Humidity      360 non-null    int64         \n",
      " 4   Weather       360 non-null    object        \n",
      " 5   Clouds        360 non-null    int64         \n",
      " 6   Wind_speed    360 non-null    float64       \n",
      " 7   Rain          360 non-null    object        \n",
      " 8   Snow          360 non-null    object        \n",
      " 9   City_id       360 non-null    int64         \n",
      " 10  City_country  360 non-null    object        \n",
      "dtypes: datetime64[ns](1), float64(3), int64(3), object(4)\n",
      "memory usage: 33.8+ KB\n"
     ]
    }
   ],
   "source": [
    "example_table.info()"
   ]
  },
  {
   "cell_type": "code",
   "execution_count": 138,
   "id": "aba2d70a-9a1c-4b46-92ac-458350c836ab",
   "metadata": {},
   "outputs": [
    {
     "data": {
      "text/plain": [
       "(1163, 8)"
      ]
     },
     "execution_count": 138,
     "metadata": {},
     "output_type": "execute_result"
    }
   ],
   "source": [
    "big_table.shape"
   ]
  },
  {
   "cell_type": "code",
   "execution_count": 191,
   "id": "bd05501f-f1a3-4b39-b85a-953c411dc339",
   "metadata": {},
   "outputs": [
    {
     "data": {
      "text/html": [
       "<div>\n",
       "<style scoped>\n",
       "    .dataframe tbody tr th:only-of-type {\n",
       "        vertical-align: middle;\n",
       "    }\n",
       "\n",
       "    .dataframe tbody tr th {\n",
       "        vertical-align: top;\n",
       "    }\n",
       "\n",
       "    .dataframe thead th {\n",
       "        text-align: right;\n",
       "    }\n",
       "</style>\n",
       "<table border=\"1\" class=\"dataframe\">\n",
       "  <thead>\n",
       "    <tr style=\"text-align: right;\">\n",
       "      <th></th>\n",
       "      <th>City</th>\n",
       "      <th>Country</th>\n",
       "      <th>Country_code</th>\n",
       "      <th>CityCountry</th>\n",
       "    </tr>\n",
       "  </thead>\n",
       "  <tbody>\n",
       "    <tr>\n",
       "      <th>0</th>\n",
       "      <td>Tokyo</td>\n",
       "      <td>Japan</td>\n",
       "      <td>JP</td>\n",
       "      <td>Tokyo, JP</td>\n",
       "    </tr>\n",
       "  </tbody>\n",
       "</table>\n",
       "</div>"
      ],
      "text/plain": [
       "    City Country Country_code CityCountry\n",
       "0  Tokyo   Japan           JP   Tokyo, JP"
      ]
     },
     "execution_count": 191,
     "metadata": {},
     "output_type": "execute_result"
    }
   ],
   "source": [
    "cities.head(1)"
   ]
  },
  {
   "cell_type": "code",
   "execution_count": 107,
   "id": "e173c108-5b4d-4247-b70e-20c4c578763a",
   "metadata": {},
   "outputs": [
    {
     "data": {
      "text/html": [
       "<div>\n",
       "<style scoped>\n",
       "    .dataframe tbody tr th:only-of-type {\n",
       "        vertical-align: middle;\n",
       "    }\n",
       "\n",
       "    .dataframe tbody tr th {\n",
       "        vertical-align: top;\n",
       "    }\n",
       "\n",
       "    .dataframe thead th {\n",
       "        text-align: right;\n",
       "    }\n",
       "</style>\n",
       "<table border=\"1\" class=\"dataframe\">\n",
       "  <thead>\n",
       "    <tr style=\"text-align: right;\">\n",
       "      <th></th>\n",
       "      <th>City</th>\n",
       "      <th>Country</th>\n",
       "      <th>Country_code</th>\n",
       "      <th>CityCountry</th>\n",
       "    </tr>\n",
       "  </thead>\n",
       "  <tbody>\n",
       "    <tr>\n",
       "      <th>0</th>\n",
       "      <td>Tokyo</td>\n",
       "      <td>Japan</td>\n",
       "      <td>JP</td>\n",
       "      <td>Tokyo, JP</td>\n",
       "    </tr>\n",
       "    <tr>\n",
       "      <th>1</th>\n",
       "      <td>Delhi</td>\n",
       "      <td>India</td>\n",
       "      <td>IN</td>\n",
       "      <td>Delhi, IN</td>\n",
       "    </tr>\n",
       "    <tr>\n",
       "      <th>2</th>\n",
       "      <td>Shanghai</td>\n",
       "      <td>China</td>\n",
       "      <td>CN</td>\n",
       "      <td>Shanghai, CN</td>\n",
       "    </tr>\n",
       "    <tr>\n",
       "      <th>3</th>\n",
       "      <td>Sao Paulo</td>\n",
       "      <td>Brazil</td>\n",
       "      <td>BR</td>\n",
       "      <td>Sao Paulo, BR</td>\n",
       "    </tr>\n",
       "    <tr>\n",
       "      <th>4</th>\n",
       "      <td>Mexico City</td>\n",
       "      <td>Mexico</td>\n",
       "      <td>MX</td>\n",
       "      <td>Mexico City, MX</td>\n",
       "    </tr>\n",
       "  </tbody>\n",
       "</table>\n",
       "</div>"
      ],
      "text/plain": [
       "          City Country Country_code      CityCountry\n",
       "0        Tokyo   Japan           JP        Tokyo, JP\n",
       "1        Delhi   India           IN        Delhi, IN\n",
       "2     Shanghai   China           CN     Shanghai, CN\n",
       "3    Sao Paulo  Brazil           BR    Sao Paulo, BR\n",
       "4  Mexico City  Mexico           MX  Mexico City, MX"
      ]
     },
     "execution_count": 107,
     "metadata": {},
     "output_type": "execute_result"
    }
   ],
   "source": [
    "exp_table.head()"
   ]
  },
  {
   "cell_type": "code",
   "execution_count": 121,
   "id": "1f2d98c1-0abc-4ad4-8a88-40de080a86eb",
   "metadata": {},
   "outputs": [
    {
     "data": {
      "text/plain": [
       "(1163, 4)"
      ]
     },
     "execution_count": 121,
     "metadata": {},
     "output_type": "execute_result"
    }
   ],
   "source": [
    "exp_table.shape"
   ]
  },
  {
   "cell_type": "code",
   "execution_count": 342,
   "id": "1e4bc3e4-40af-43b4-8f3c-c62a222f292e",
   "metadata": {},
   "outputs": [],
   "source": [
    "weather = weather_forecast"
   ]
  },
  {
   "cell_type": "markdown",
   "id": "af9b20bf-8a35-49ab-88be-1e052437052f",
   "metadata": {},
   "source": [
    "# FLIGHTS"
   ]
  },
  {
   "cell_type": "code",
   "execution_count": 86,
   "id": "0d860acd-142f-452f-a591-87ccf42ca21b",
   "metadata": {},
   "outputs": [],
   "source": [
    "def get_jsons_from_AerodataboxAPI(icao):\n",
    "    today = datetime.date.today()\n",
    "    tomorrow = str(today + datetime.timedelta(days=1))    \n",
    "    times = [[\"00:00\",\"11:59\"],[\"12:00\",\"23:59\"]]\n",
    "    jsons = []\n",
    "    for time in times:\n",
    "        url = f\"https://aerodatabox.p.rapidapi.com/flights/airports/icao/{icao}/{tomorrow}T{time[0]}/{tomorrow}T{time[1]}\"\n",
    "        querystring = {\"direction\":\"Arrival\",\"withPrivate\":\"true\"}\n",
    "        headers = {\n",
    "            'x-rapidapi-host': \"aerodatabox.p.rapidapi.com\",\n",
    "            'x-rapidapi-key': flight_API_key\n",
    "            }\n",
    "        jsons.append(requests.request(\"GET\", url, headers=headers, params=querystring).json())\n",
    "    return jsons"
   ]
  },
  {
   "cell_type": "code",
   "execution_count": null,
   "id": "efedcd0a-a523-4a0a-9964-75184fab9103",
   "metadata": {},
   "outputs": [],
   "source": [
    "# NO need to repeat this\n",
    "# response_one = get_jsons_from_AerodataboxAPI('EDDB')\n",
    "# JSON(response_one)\n",
    "# response_two = (get_jsons_from_AerodataboxAPI('EDDB')).json()\n",
    "# response_two"
   ]
  },
  {
   "cell_type": "markdown",
   "id": "02b0aeff-6086-48fe-a8c9-6a7c20c11730",
   "metadata": {},
   "source": [
    "### Define some Cities - You cannot add every city for every possible flight due to a limited amount of APIS call per month"
   ]
  },
  {
   "cell_type": "code",
   "execution_count": 87,
   "id": "1e8e6712-0ff9-492e-8277-151fef7a7611",
   "metadata": {},
   "outputs": [],
   "source": [
    "# \n",
    "def get_cities_dataframe():\n",
    "    cities = pd.DataFrame({'City': ['Istanbul','Moscow','Berlin'], 'Country': ['Turkey','Russian Federation (the)','Germany'], \n",
    "    'Country_code': ['TR','RU','DE'],'CityCountry' : [\"Istanbul, TR\",\"Moscow, RU\",\"Berlin, DE\"],\n",
    "    'Country_short' : ['TR','RU','DE'], 'icao' : [\"LTFM\",\"UUDD\",\"EDDB\"]})\n",
    "    return cities[:3]"
   ]
  },
  {
   "cell_type": "code",
   "execution_count": 88,
   "id": "bea94b1e-2965-4c27-a60a-a5422bac9c73",
   "metadata": {},
   "outputs": [],
   "source": [
    "def create_dictionary_from_json(jsons):\n",
    "    dictionary = {\"From_location\":[],\"Arrival_at\":[], \"Terminal\":[],\"Airline\":[],\"Flight_number\":[],\"Airport_code\":[]}\n",
    "    for resp in jsons:\n",
    "        for flight in resp['arrivals']:\n",
    "            try:\n",
    "                dictionary[\"From_location\"].append(flight['movement'][\"airport\"]['name'])\n",
    "            except:\n",
    "                dictionary[\"From_location\"].append(\"Unknown\")\n",
    "            try:\n",
    "                dictionary[\"Arrival_at\"].append(flight['movement']['scheduledTimeLocal'][:-6])\n",
    "            except:\n",
    "                dictionary[\"Arrival_at\"].append(\"Unknown\")\n",
    "            try:\n",
    "                dictionary[\"Terminal\"].append(flight['movement']['terminal'])\n",
    "            except:\n",
    "                dictionary[\"Terminal\"].append(\"Unknown\")\n",
    "            try:\n",
    "                dictionary[\"Airline\"].append(flight['airline']['name'])\n",
    "            except:\n",
    "                dictionary[\"Airline\"].append(\"Unknown\")\n",
    "            try:\n",
    "                dictionary[\"Flight_number\"].append(flight['number'])\n",
    "            except:\n",
    "                dictionary[\"Flight_number\"].append(\"Unknown\")\n",
    "            try:\n",
    "                dictionary[\"Airport_code\"].append(flight['movement'][\"airport\"][\"icao\"])\n",
    "            except:\n",
    "                dictionary[\"Airport_code\"].append(\"Unknown\")\n",
    "    return dictionary "
   ]
  },
  {
   "cell_type": "code",
   "execution_count": 89,
   "id": "0df54f03-44ca-4abc-a9f8-3845157b11f3",
   "metadata": {
    "tags": []
   },
   "outputs": [],
   "source": [
    "def create_dataframe_from_dictionaries(dictionary):\n",
    "    flights = pd.DataFrame.from_dict(dictionary)\n",
    "    return flights"
   ]
  },
  {
   "cell_type": "code",
   "execution_count": 90,
   "id": "d7ea3dc4-5f38-4385-bef8-b0e869269056",
   "metadata": {},
   "outputs": [],
   "source": [
    "def get_all_info(cities):\n",
    "    big_table = pd.DataFrame()\n",
    "    for index, city in cities.iterrows():\n",
    "        jsons = get_jsons_from_AerodataboxAPI(city['icao'])\n",
    "        dictionary = create_dictionary_from_json(jsons)\n",
    "        dataframe = create_dataframe_from_dictionaries(dictionary)\n",
    "        dataframe = dataframe.assign(CityCountry = city['CityCountry'])\n",
    "        dataframe = dataframe.assign(icao = city['icao'])\n",
    "        dataframe[\"Arrival_at\"] = pd.to_datetime(dataframe[\"Arrival_at\"])\n",
    "#         dataframe[\"Arrival_UTC_time\"] = pd.to_datetime(dataframe[\"Arrival_UTC_time\"])\n",
    "    big_table = big_table.append(dataframe,ignore_index=True)\n",
    "    return big_table"
   ]
  },
  {
   "cell_type": "code",
   "execution_count": 165,
   "id": "b5a1f740-9b0d-44bf-8e6c-ec3965d0dc8c",
   "metadata": {},
   "outputs": [],
   "source": [
    "def create_mysql_table_flights(big_table):\n",
    "    schema=\"gans\"\n",
    "    host=\"127.0.0.1\"\n",
    "    user=\"root\"\n",
    "    password=sql_pass\n",
    "    port=3306\n",
    "    con = f'mysql+pymysql://{user}:{password}@{host}:{port}/{schema}'\n",
    "    big_table.to_sql('flights',con=con,if_exists='append',index=False)"
   ]
  },
  {
   "cell_type": "code",
   "execution_count": null,
   "id": "4e38b3ab-fe0d-40ff-b5eb-b1847c109a55",
   "metadata": {},
   "outputs": [],
   "source": [
    "# temp_csv_flights = get_all_info(get_cities_dataframe())"
   ]
  },
  {
   "cell_type": "code",
   "execution_count": 166,
   "id": "da626107-ff29-46d6-aae8-10fa76729df4",
   "metadata": {},
   "outputs": [],
   "source": [
    "create_mysql_table_flights(temp_csv_flights)"
   ]
  },
  {
   "cell_type": "code",
   "execution_count": null,
   "id": "3716ea91-b1aa-4322-a0dc-5b89b65289b6",
   "metadata": {},
   "outputs": [],
   "source": [
    "# create_mysql_table(get_all_info(get_cities_dataframe()))"
   ]
  },
  {
   "cell_type": "code",
   "execution_count": 96,
   "id": "cdf6f1b6-20bb-4834-9dcf-7917cd1b1c48",
   "metadata": {},
   "outputs": [],
   "source": [
    "# temp_csv_flights.to_csv('flights.csv',index=False)"
   ]
  },
  {
   "cell_type": "code",
   "execution_count": 344,
   "id": "c3eddf22-0ddd-4a0d-82c0-0ba5a30800f4",
   "metadata": {},
   "outputs": [],
   "source": [
    "# weather.to_sql('weather',con=con,if_exists='append',index=False)"
   ]
  },
  {
   "cell_type": "markdown",
   "id": "2bc2909b-26c0-49d6-ba7e-b749028f6193",
   "metadata": {},
   "source": [
    "# AIRPORTS to sql"
   ]
  },
  {
   "cell_type": "code",
   "execution_count": 54,
   "id": "c7e8e55a-61b9-4f25-b77c-80395c6ceb3f",
   "metadata": {},
   "outputs": [],
   "source": [
    "airports = pd.read_csv('airports.csv')\n",
    "# airports"
   ]
  },
  {
   "cell_type": "code",
   "execution_count": 55,
   "id": "aa1f67b8-434b-441d-9dd0-7ff8e14d3ea1",
   "metadata": {},
   "outputs": [],
   "source": [
    "airports.loc[airports['municipality'] == 'St. Petersburg', 'municipality'] = 'Saint Petersburg'"
   ]
  },
  {
   "cell_type": "code",
   "execution_count": 56,
   "id": "f56be2e5-95f2-41b7-8965-facbb4babf7a",
   "metadata": {},
   "outputs": [],
   "source": [
    "airports.loc[airports['municipality'] == 'Kiev', 'municipality'] = 'Kyiv'"
   ]
  },
  {
   "cell_type": "code",
   "execution_count": 57,
   "id": "ffdea7c3-2a92-4722-8b87-049a2dcbc095",
   "metadata": {},
   "outputs": [],
   "source": [
    "airports = airports.dropna(subset=['municipality', 'iso_country'])"
   ]
  },
  {
   "cell_type": "code",
   "execution_count": 58,
   "id": "ed7d3c74-a312-4297-a33c-34f60f3bb076",
   "metadata": {},
   "outputs": [],
   "source": [
    "airports.loc[airports['municipality'].str.contains('Istanbul'), 'municipality'] = 'Istanbul'"
   ]
  },
  {
   "cell_type": "code",
   "execution_count": 59,
   "id": "0d4d1cee-3376-4155-91e2-3eb041cd1dce",
   "metadata": {},
   "outputs": [],
   "source": [
    "list_of_cities = big_table.CityCountry.to_list()"
   ]
  },
  {
   "cell_type": "code",
   "execution_count": 60,
   "id": "7cb36031-3e3c-411c-ab83-c07b4f936648",
   "metadata": {},
   "outputs": [
    {
     "data": {
      "text/html": [
       "<div>\n",
       "<style scoped>\n",
       "    .dataframe tbody tr th:only-of-type {\n",
       "        vertical-align: middle;\n",
       "    }\n",
       "\n",
       "    .dataframe tbody tr th {\n",
       "        vertical-align: top;\n",
       "    }\n",
       "\n",
       "    .dataframe thead th {\n",
       "        text-align: right;\n",
       "    }\n",
       "</style>\n",
       "<table border=\"1\" class=\"dataframe\">\n",
       "  <thead>\n",
       "    <tr style=\"text-align: right;\">\n",
       "      <th></th>\n",
       "      <th>id</th>\n",
       "      <th>ident</th>\n",
       "      <th>type</th>\n",
       "      <th>name</th>\n",
       "      <th>latitude_deg</th>\n",
       "      <th>longitude_deg</th>\n",
       "      <th>elevation_ft</th>\n",
       "      <th>continent</th>\n",
       "      <th>iso_country</th>\n",
       "      <th>iso_region</th>\n",
       "      <th>municipality</th>\n",
       "      <th>scheduled_service</th>\n",
       "      <th>gps_code</th>\n",
       "      <th>iata_code</th>\n",
       "      <th>local_code</th>\n",
       "      <th>home_link</th>\n",
       "      <th>wikipedia_link</th>\n",
       "      <th>keywords</th>\n",
       "    </tr>\n",
       "  </thead>\n",
       "  <tbody>\n",
       "    <tr>\n",
       "      <th>0</th>\n",
       "      <td>6523</td>\n",
       "      <td>00A</td>\n",
       "      <td>heliport</td>\n",
       "      <td>Total Rf Heliport</td>\n",
       "      <td>40.070801</td>\n",
       "      <td>-74.933601</td>\n",
       "      <td>11.0</td>\n",
       "      <td>NaN</td>\n",
       "      <td>US</td>\n",
       "      <td>US-PA</td>\n",
       "      <td>Bensalem</td>\n",
       "      <td>no</td>\n",
       "      <td>00A</td>\n",
       "      <td>NaN</td>\n",
       "      <td>00A</td>\n",
       "      <td>NaN</td>\n",
       "      <td>NaN</td>\n",
       "      <td>NaN</td>\n",
       "    </tr>\n",
       "  </tbody>\n",
       "</table>\n",
       "</div>"
      ],
      "text/plain": [
       "     id ident      type               name  latitude_deg  longitude_deg  elevation_ft continent iso_country iso_region municipality scheduled_service gps_code iata_code local_code home_link wikipedia_link keywords\n",
       "0  6523   00A  heliport  Total Rf Heliport     40.070801     -74.933601          11.0       NaN          US      US-PA     Bensalem                no      00A       NaN        00A       NaN            NaN      NaN"
      ]
     },
     "execution_count": 60,
     "metadata": {},
     "output_type": "execute_result"
    }
   ],
   "source": [
    "airports.head(1)"
   ]
  },
  {
   "cell_type": "code",
   "execution_count": 61,
   "id": "f3b1837a-2252-49ba-9dcc-790de829d6c1",
   "metadata": {},
   "outputs": [],
   "source": [
    "airports_only_needed = airports[['type','name','latitude_deg','longitude_deg','iso_country','elevation_ft','municipality','scheduled_service','gps_code']]"
   ]
  },
  {
   "cell_type": "code",
   "execution_count": 62,
   "id": "c59dc1d8-f9f0-43b3-ae3a-c2e752b1fc1f",
   "metadata": {},
   "outputs": [],
   "source": [
    "airports_only_needed = (\n",
    "    airports_only_needed\n",
    "            .query(\"(type == 'medium_airport' | type == 'large_airport') & scheduled_service == 'yes'\")                          \n",
    ")"
   ]
  },
  {
   "cell_type": "code",
   "execution_count": 63,
   "id": "4589cc36-0211-440b-889e-39de7a958d22",
   "metadata": {},
   "outputs": [],
   "source": [
    "big_table['CityCountry'] = big_table[['City','Country_code']].apply(lambda x: ', '.join(x), axis = 1)"
   ]
  },
  {
   "cell_type": "code",
   "execution_count": 64,
   "id": "cd7df6db-31c2-4509-92fc-f06598648736",
   "metadata": {},
   "outputs": [],
   "source": [
    "airports_only_needed['CityCountry'] = airports_only_needed[['municipality','iso_country']].apply(lambda x: ', '.join(x), axis = 1)"
   ]
  },
  {
   "cell_type": "code",
   "execution_count": 65,
   "id": "e2af7a09-85e4-4b9d-92d3-edba1d4f8d81",
   "metadata": {},
   "outputs": [],
   "source": [
    "airports_only_needed = airports_only_needed[airports_only_needed.CityCountry.isin(list_of_cities)]"
   ]
  },
  {
   "cell_type": "code",
   "execution_count": 66,
   "id": "5e26ae5a-fb53-4934-9889-90990c93c904",
   "metadata": {},
   "outputs": [],
   "source": [
    "airports_only_needed.type = pd.Categorical(airports_only_needed.type, categories=[\"large_airport\",\"medium_airport\"],ordered=True)"
   ]
  },
  {
   "cell_type": "code",
   "execution_count": 67,
   "id": "51108cea-02f6-4a8d-aa52-ec26672fd0c6",
   "metadata": {},
   "outputs": [],
   "source": [
    "airports_only_needed.sort_values('type', inplace=True)"
   ]
  },
  {
   "cell_type": "code",
   "execution_count": 68,
   "id": "26869a0c-d1eb-4405-a128-18f821cc92b8",
   "metadata": {},
   "outputs": [],
   "source": [
    "airports_only_needed = airports_only_needed.drop_duplicates(subset=['CityCountry'])"
   ]
  },
  {
   "cell_type": "code",
   "execution_count": 69,
   "id": "af655f9c-5fd8-4579-96db-586862baeda2",
   "metadata": {},
   "outputs": [
    {
     "data": {
      "text/plain": [
       "(555, 10)"
      ]
     },
     "execution_count": 69,
     "metadata": {},
     "output_type": "execute_result"
    }
   ],
   "source": [
    "airports_only_needed.shape"
   ]
  },
  {
   "cell_type": "code",
   "execution_count": 311,
   "id": "9e2e3754-0fe8-4aca-8e15-43866d9b823e",
   "metadata": {},
   "outputs": [],
   "source": [
    "# airports_only_needed"
   ]
  },
  {
   "cell_type": "code",
   "execution_count": 70,
   "id": "e060e21a-28f9-46a7-946d-0b43024a8d09",
   "metadata": {},
   "outputs": [
    {
     "name": "stdout",
     "output_type": "stream",
     "text": [
      "<class 'pandas.core.frame.DataFrame'>\n",
      "Int64Index: 555 entries, 37373 to 68325\n",
      "Data columns (total 10 columns):\n",
      " #   Column             Non-Null Count  Dtype   \n",
      "---  ------             --------------  -----   \n",
      " 0   type               555 non-null    category\n",
      " 1   name               555 non-null    object  \n",
      " 2   latitude_deg       555 non-null    float64 \n",
      " 3   longitude_deg      555 non-null    float64 \n",
      " 4   iso_country        555 non-null    object  \n",
      " 5   elevation_ft       540 non-null    float64 \n",
      " 6   municipality       555 non-null    object  \n",
      " 7   scheduled_service  555 non-null    object  \n",
      " 8   gps_code           555 non-null    object  \n",
      " 9   CityCountry        555 non-null    object  \n",
      "dtypes: category(1), float64(3), object(6)\n",
      "memory usage: 44.0+ KB\n"
     ]
    }
   ],
   "source": [
    "airports_only_needed.info()"
   ]
  },
  {
   "cell_type": "code",
   "execution_count": 102,
   "id": "2f1495dc-5382-4aad-b082-2a558cafb3f4",
   "metadata": {},
   "outputs": [],
   "source": [
    "airports_only_needed.rename(columns={'type': 'airport_type', 'name': 'airport_name'}, inplace=True)"
   ]
  },
  {
   "cell_type": "code",
   "execution_count": 136,
   "id": "10255043-440d-44a8-b9ed-db4045443838",
   "metadata": {},
   "outputs": [
    {
     "data": {
      "text/html": [
       "<div>\n",
       "<style scoped>\n",
       "    .dataframe tbody tr th:only-of-type {\n",
       "        vertical-align: middle;\n",
       "    }\n",
       "\n",
       "    .dataframe tbody tr th {\n",
       "        vertical-align: top;\n",
       "    }\n",
       "\n",
       "    .dataframe thead th {\n",
       "        text-align: right;\n",
       "    }\n",
       "</style>\n",
       "<table border=\"1\" class=\"dataframe\">\n",
       "  <thead>\n",
       "    <tr style=\"text-align: right;\">\n",
       "      <th></th>\n",
       "      <th>airport_type</th>\n",
       "      <th>airport_name</th>\n",
       "      <th>latitude_deg</th>\n",
       "      <th>longitude_deg</th>\n",
       "      <th>iso_country</th>\n",
       "      <th>elevation_ft</th>\n",
       "      <th>municipality</th>\n",
       "      <th>scheduled_service</th>\n",
       "      <th>gps_code</th>\n",
       "      <th>CityCountry</th>\n",
       "    </tr>\n",
       "  </thead>\n",
       "  <tbody>\n",
       "    <tr>\n",
       "      <th>37373</th>\n",
       "      <td>large_airport</td>\n",
       "      <td>Marseille Provence Airport</td>\n",
       "      <td>43.439272</td>\n",
       "      <td>5.221424</td>\n",
       "      <td>FR</td>\n",
       "      <td>74.0</td>\n",
       "      <td>Marseille</td>\n",
       "      <td>yes</td>\n",
       "      <td>LFML</td>\n",
       "      <td>Marseille, FR</td>\n",
       "    </tr>\n",
       "    <tr>\n",
       "      <th>38559</th>\n",
       "      <td>large_airport</td>\n",
       "      <td>Esenboğa International Airport</td>\n",
       "      <td>40.128101</td>\n",
       "      <td>32.995098</td>\n",
       "      <td>TR</td>\n",
       "      <td>3125.0</td>\n",
       "      <td>Ankara</td>\n",
       "      <td>yes</td>\n",
       "      <td>LTAC</td>\n",
       "      <td>Ankara, TR</td>\n",
       "    </tr>\n",
       "    <tr>\n",
       "      <th>38510</th>\n",
       "      <td>large_airport</td>\n",
       "      <td>Zürich Airport</td>\n",
       "      <td>47.458056</td>\n",
       "      <td>8.548056</td>\n",
       "      <td>CH</td>\n",
       "      <td>1417.0</td>\n",
       "      <td>Zurich</td>\n",
       "      <td>yes</td>\n",
       "      <td>LSZH</td>\n",
       "      <td>Zurich, CH</td>\n",
       "    </tr>\n",
       "    <tr>\n",
       "      <th>38450</th>\n",
       "      <td>large_airport</td>\n",
       "      <td>Geneva Cointrin International Airport</td>\n",
       "      <td>46.238098</td>\n",
       "      <td>6.108950</td>\n",
       "      <td>CH</td>\n",
       "      <td>1411.0</td>\n",
       "      <td>Geneva</td>\n",
       "      <td>yes</td>\n",
       "      <td>LSGG</td>\n",
       "      <td>Geneva, CH</td>\n",
       "    </tr>\n",
       "    <tr>\n",
       "      <th>38333</th>\n",
       "      <td>large_airport</td>\n",
       "      <td>Henri Coandă International Airport</td>\n",
       "      <td>44.571111</td>\n",
       "      <td>26.085000</td>\n",
       "      <td>RO</td>\n",
       "      <td>314.0</td>\n",
       "      <td>Bucharest</td>\n",
       "      <td>yes</td>\n",
       "      <td>LROP</td>\n",
       "      <td>Bucharest, RO</td>\n",
       "    </tr>\n",
       "    <tr>\n",
       "      <th>...</th>\n",
       "      <td>...</td>\n",
       "      <td>...</td>\n",
       "      <td>...</td>\n",
       "      <td>...</td>\n",
       "      <td>...</td>\n",
       "      <td>...</td>\n",
       "      <td>...</td>\n",
       "      <td>...</td>\n",
       "      <td>...</td>\n",
       "      <td>...</td>\n",
       "    </tr>\n",
       "    <tr>\n",
       "      <th>44592</th>\n",
       "      <td>medium_airport</td>\n",
       "      <td>Lieutenant General Qasem Soleimani Internation...</td>\n",
       "      <td>31.337400</td>\n",
       "      <td>48.762001</td>\n",
       "      <td>IR</td>\n",
       "      <td>66.0</td>\n",
       "      <td>Ahvaz</td>\n",
       "      <td>yes</td>\n",
       "      <td>OIAW</td>\n",
       "      <td>Ahvaz, IR</td>\n",
       "    </tr>\n",
       "    <tr>\n",
       "      <th>44328</th>\n",
       "      <td>medium_airport</td>\n",
       "      <td>Tabuk Airport</td>\n",
       "      <td>28.365400</td>\n",
       "      <td>36.618900</td>\n",
       "      <td>SA</td>\n",
       "      <td>2551.0</td>\n",
       "      <td>Tabuk</td>\n",
       "      <td>yes</td>\n",
       "      <td>OETB</td>\n",
       "      <td>Tabuk, SA</td>\n",
       "    </tr>\n",
       "    <tr>\n",
       "      <th>44236</th>\n",
       "      <td>medium_airport</td>\n",
       "      <td>Ahmad Shah Baba International Airport / Kandah...</td>\n",
       "      <td>31.505800</td>\n",
       "      <td>65.847801</td>\n",
       "      <td>AF</td>\n",
       "      <td>3337.0</td>\n",
       "      <td>Kandahar</td>\n",
       "      <td>yes</td>\n",
       "      <td>OAKN</td>\n",
       "      <td>Kandahar, AF</td>\n",
       "    </tr>\n",
       "    <tr>\n",
       "      <th>43042</th>\n",
       "      <td>medium_airport</td>\n",
       "      <td>Warri Airport</td>\n",
       "      <td>5.596110</td>\n",
       "      <td>5.817780</td>\n",
       "      <td>NG</td>\n",
       "      <td>242.0</td>\n",
       "      <td>Warri</td>\n",
       "      <td>yes</td>\n",
       "      <td>DNSU</td>\n",
       "      <td>Warri, NG</td>\n",
       "    </tr>\n",
       "    <tr>\n",
       "      <th>68325</th>\n",
       "      <td>medium_airport</td>\n",
       "      <td>Yanji Chaoyangchuan Airport</td>\n",
       "      <td>42.882801</td>\n",
       "      <td>129.451004</td>\n",
       "      <td>CN</td>\n",
       "      <td>624.0</td>\n",
       "      <td>Yanji</td>\n",
       "      <td>yes</td>\n",
       "      <td>ZYYJ</td>\n",
       "      <td>Yanji, CN</td>\n",
       "    </tr>\n",
       "  </tbody>\n",
       "</table>\n",
       "<p>555 rows × 10 columns</p>\n",
       "</div>"
      ],
      "text/plain": [
       "         airport_type                                       airport_name  latitude_deg  longitude_deg iso_country  elevation_ft municipality scheduled_service gps_code    CityCountry\n",
       "37373   large_airport                         Marseille Provence Airport     43.439272       5.221424          FR          74.0    Marseille               yes     LFML  Marseille, FR\n",
       "38559   large_airport                     Esenboğa International Airport     40.128101      32.995098          TR        3125.0       Ankara               yes     LTAC     Ankara, TR\n",
       "38510   large_airport                                     Zürich Airport     47.458056       8.548056          CH        1417.0       Zurich               yes     LSZH     Zurich, CH\n",
       "38450   large_airport              Geneva Cointrin International Airport     46.238098       6.108950          CH        1411.0       Geneva               yes     LSGG     Geneva, CH\n",
       "38333   large_airport                 Henri Coandă International Airport     44.571111      26.085000          RO         314.0    Bucharest               yes     LROP  Bucharest, RO\n",
       "...               ...                                                ...           ...            ...         ...           ...          ...               ...      ...            ...\n",
       "44592  medium_airport  Lieutenant General Qasem Soleimani Internation...     31.337400      48.762001          IR          66.0        Ahvaz               yes     OIAW      Ahvaz, IR\n",
       "44328  medium_airport                                      Tabuk Airport     28.365400      36.618900          SA        2551.0        Tabuk               yes     OETB      Tabuk, SA\n",
       "44236  medium_airport  Ahmad Shah Baba International Airport / Kandah...     31.505800      65.847801          AF        3337.0     Kandahar               yes     OAKN   Kandahar, AF\n",
       "43042  medium_airport                                      Warri Airport      5.596110       5.817780          NG         242.0        Warri               yes     DNSU      Warri, NG\n",
       "68325  medium_airport                        Yanji Chaoyangchuan Airport     42.882801     129.451004          CN         624.0        Yanji               yes     ZYYJ      Yanji, CN\n",
       "\n",
       "[555 rows x 10 columns]"
      ]
     },
     "execution_count": 136,
     "metadata": {},
     "output_type": "execute_result"
    }
   ],
   "source": [
    "airports_only_needed"
   ]
  },
  {
   "cell_type": "code",
   "execution_count": 164,
   "id": "17eab8dc-e6f8-486f-90dc-312f678a68d7",
   "metadata": {
    "tags": []
   },
   "outputs": [],
   "source": [
    "schema=\"gans\"\n",
    "host=\"127.0.0.1\"\n",
    "user=\"root\"\n",
    "password=sql_pass\n",
    "port=3306\n",
    "con = f'mysql+pymysql://{user}:{password}@{host}:{port}/{schema}'\n",
    "airports_only_needed.to_sql('airports', if_exists='append', con=con, index=False)"
   ]
  },
  {
   "cell_type": "code",
   "execution_count": 103,
   "id": "f95f1afa-9dbb-4280-89ea-a900a8f4ff10",
   "metadata": {},
   "outputs": [
    {
     "data": {
      "text/html": [
       "<div>\n",
       "<style scoped>\n",
       "    .dataframe tbody tr th:only-of-type {\n",
       "        vertical-align: middle;\n",
       "    }\n",
       "\n",
       "    .dataframe tbody tr th {\n",
       "        vertical-align: top;\n",
       "    }\n",
       "\n",
       "    .dataframe thead th {\n",
       "        text-align: right;\n",
       "    }\n",
       "</style>\n",
       "<table border=\"1\" class=\"dataframe\">\n",
       "  <thead>\n",
       "    <tr style=\"text-align: right;\">\n",
       "      <th></th>\n",
       "      <th>airport_type</th>\n",
       "      <th>airport_name</th>\n",
       "      <th>latitude_deg</th>\n",
       "      <th>longitude_deg</th>\n",
       "      <th>iso_country</th>\n",
       "      <th>elevation_ft</th>\n",
       "      <th>municipality</th>\n",
       "      <th>scheduled_service</th>\n",
       "      <th>gps_code</th>\n",
       "      <th>CityCountry</th>\n",
       "    </tr>\n",
       "  </thead>\n",
       "  <tbody>\n",
       "    <tr>\n",
       "      <th>37373</th>\n",
       "      <td>large_airport</td>\n",
       "      <td>Marseille Provence Airport</td>\n",
       "      <td>43.439272</td>\n",
       "      <td>5.221424</td>\n",
       "      <td>FR</td>\n",
       "      <td>74.0</td>\n",
       "      <td>Marseille</td>\n",
       "      <td>yes</td>\n",
       "      <td>LFML</td>\n",
       "      <td>Marseille, FR</td>\n",
       "    </tr>\n",
       "    <tr>\n",
       "      <th>38559</th>\n",
       "      <td>large_airport</td>\n",
       "      <td>Esenboğa International Airport</td>\n",
       "      <td>40.128101</td>\n",
       "      <td>32.995098</td>\n",
       "      <td>TR</td>\n",
       "      <td>3125.0</td>\n",
       "      <td>Ankara</td>\n",
       "      <td>yes</td>\n",
       "      <td>LTAC</td>\n",
       "      <td>Ankara, TR</td>\n",
       "    </tr>\n",
       "    <tr>\n",
       "      <th>38510</th>\n",
       "      <td>large_airport</td>\n",
       "      <td>Zürich Airport</td>\n",
       "      <td>47.458056</td>\n",
       "      <td>8.548056</td>\n",
       "      <td>CH</td>\n",
       "      <td>1417.0</td>\n",
       "      <td>Zurich</td>\n",
       "      <td>yes</td>\n",
       "      <td>LSZH</td>\n",
       "      <td>Zurich, CH</td>\n",
       "    </tr>\n",
       "    <tr>\n",
       "      <th>38450</th>\n",
       "      <td>large_airport</td>\n",
       "      <td>Geneva Cointrin International Airport</td>\n",
       "      <td>46.238098</td>\n",
       "      <td>6.108950</td>\n",
       "      <td>CH</td>\n",
       "      <td>1411.0</td>\n",
       "      <td>Geneva</td>\n",
       "      <td>yes</td>\n",
       "      <td>LSGG</td>\n",
       "      <td>Geneva, CH</td>\n",
       "    </tr>\n",
       "    <tr>\n",
       "      <th>38333</th>\n",
       "      <td>large_airport</td>\n",
       "      <td>Henri Coandă International Airport</td>\n",
       "      <td>44.571111</td>\n",
       "      <td>26.085000</td>\n",
       "      <td>RO</td>\n",
       "      <td>314.0</td>\n",
       "      <td>Bucharest</td>\n",
       "      <td>yes</td>\n",
       "      <td>LROP</td>\n",
       "      <td>Bucharest, RO</td>\n",
       "    </tr>\n",
       "  </tbody>\n",
       "</table>\n",
       "</div>"
      ],
      "text/plain": [
       "        airport_type                           airport_name  latitude_deg  longitude_deg iso_country  elevation_ft municipality scheduled_service gps_code    CityCountry\n",
       "37373  large_airport             Marseille Provence Airport     43.439272       5.221424          FR          74.0    Marseille               yes     LFML  Marseille, FR\n",
       "38559  large_airport         Esenboğa International Airport     40.128101      32.995098          TR        3125.0       Ankara               yes     LTAC     Ankara, TR\n",
       "38510  large_airport                         Zürich Airport     47.458056       8.548056          CH        1417.0       Zurich               yes     LSZH     Zurich, CH\n",
       "38450  large_airport  Geneva Cointrin International Airport     46.238098       6.108950          CH        1411.0       Geneva               yes     LSGG     Geneva, CH\n",
       "38333  large_airport     Henri Coandă International Airport     44.571111      26.085000          RO         314.0    Bucharest               yes     LROP  Bucharest, RO"
      ]
     },
     "execution_count": 103,
     "metadata": {},
     "output_type": "execute_result"
    }
   ],
   "source": [
    "airports_only_needed.head()"
   ]
  },
  {
   "cell_type": "code",
   "execution_count": 104,
   "id": "0d3ecc51-df40-4811-83f2-82af3a7b1c6d",
   "metadata": {},
   "outputs": [
    {
     "name": "stdout",
     "output_type": "stream",
     "text": [
      "<class 'pandas.core.frame.DataFrame'>\n",
      "Int64Index: 555 entries, 37373 to 68325\n",
      "Data columns (total 10 columns):\n",
      " #   Column             Non-Null Count  Dtype   \n",
      "---  ------             --------------  -----   \n",
      " 0   airport_type       555 non-null    category\n",
      " 1   airport_name       555 non-null    object  \n",
      " 2   latitude_deg       555 non-null    float64 \n",
      " 3   longitude_deg      555 non-null    float64 \n",
      " 4   iso_country        555 non-null    object  \n",
      " 5   elevation_ft       540 non-null    float64 \n",
      " 6   municipality       555 non-null    object  \n",
      " 7   scheduled_service  555 non-null    object  \n",
      " 8   gps_code           555 non-null    object  \n",
      " 9   CityCountry        555 non-null    object  \n",
      "dtypes: category(1), float64(3), object(6)\n",
      "memory usage: 44.0+ KB\n"
     ]
    }
   ],
   "source": [
    "airports_only_needed.info()"
   ]
  },
  {
   "cell_type": "code",
   "execution_count": 73,
   "id": "85d16729-0d4c-4305-ae81-fa9dd3ee0a9a",
   "metadata": {},
   "outputs": [],
   "source": [
    "# cities"
   ]
  }
 ],
 "metadata": {
  "kernelspec": {
   "display_name": "Python 3",
   "language": "python",
   "name": "python3"
  },
  "language_info": {
   "codemirror_mode": {
    "name": "ipython",
    "version": 3
   },
   "file_extension": ".py",
   "mimetype": "text/x-python",
   "name": "python",
   "nbconvert_exporter": "python",
   "pygments_lexer": "ipython3",
   "version": "3.8.8"
  }
 },
 "nbformat": 4,
 "nbformat_minor": 5
}
