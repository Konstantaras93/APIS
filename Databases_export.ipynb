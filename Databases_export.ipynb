{
 "cells": [
  {
   "cell_type": "code",
   "execution_count": 38,
   "id": "bb47d5f1-2d82-4b9b-b92a-2ac2036e4a9d",
   "metadata": {
    "tags": []
   },
   "outputs": [],
   "source": [
    "# importing libraries\n",
    "import unicodedata\n",
    "import re\n",
    "from IPython.display import JSON\n",
    "import datetime\n",
    "from datetime import date\n",
    "import time\n",
    "import requests\n",
    "from bs4 import BeautifulSoup\n",
    "import pandas as pd\n",
    "from api_keys import *"
   ]
  },
  {
   "cell_type": "code",
   "execution_count": 2,
   "id": "dcbb6d38-7208-448e-854e-e3105e60bb8d",
   "metadata": {},
   "outputs": [],
   "source": [
    "url = \"https://worldpopulationreview.com/world-cities\"\n",
    "response = requests.get(url)\n",
    "time.sleep(2)\n",
    "soup = BeautifulSoup(response.content, \"html.parser\")\n",
    "# parent = soup.find(class_ = 'jsx-3940296686') This is old - it changed ! \n",
    "parent = soup.find(class_ = 'jsx-3979628367') # always wacth out if this class_ = \" \" is the same , it may vhange from time to time."
   ]
  },
  {
   "cell_type": "code",
   "execution_count": 3,
   "id": "4f120801-4c36-41ff-a871-f4a4a364c2dc",
   "metadata": {
    "tags": []
   },
   "outputs": [],
   "source": [
    "# parent.contents[1]"
   ]
  },
  {
   "cell_type": "code",
   "execution_count": 4,
   "id": "815cceeb-eb96-4cac-beed-ba937948a2d4",
   "metadata": {},
   "outputs": [],
   "source": [
    "children = parent.contents[1]"
   ]
  },
  {
   "cell_type": "code",
   "execution_count": 5,
   "id": "ab21201d-4431-412f-b1d3-9cdff2368d41",
   "metadata": {
    "tags": []
   },
   "outputs": [],
   "source": [
    "children = parent.contents[1]\n",
    "dictionary = {\"id\" : [], \"City\": [],\"Country\":[],\"Population_2021\":[], \"Population_2020\" :[], \"difference_of\" :[]}"
   ]
  },
  {
   "cell_type": "code",
   "execution_count": 7,
   "id": "b43d5ac9-fbea-4332-a7dc-5e4ebc1669fd",
   "metadata": {},
   "outputs": [],
   "source": [
    "# child.contents[0] = Rank # 1,2,3...\n",
    "# child.contents[1] = City\n",
    "# child.contents[2] = Country\n",
    "# child.contents[3] =  Population 2021\n",
    "# child.contents[4] =  Poppulation 2020\n",
    "# child.contents[5] = Change\n",
    "# child.contents[6+] = out of RANGE ! ! !\n",
    "for i, child in enumerate(children):\n",
    "        dictionary['id'].append(child.contents[0].get_text(strip=True))\n",
    "        dictionary['City'].append(child.contents[1].get_text(strip=True))\n",
    "        dictionary['Country'].append(child.contents[2].get_text(strip=True))\n",
    "        dictionary['Population_2021'].append(child.contents[3].get_text(strip=True))\n",
    "        dictionary['Population_2020'].append(child.contents[4].get_text(strip=True))\n",
    "        dictionary['difference_of'].append(child.contents[5].get_text(strip=True))"
   ]
  },
  {
   "cell_type": "code",
   "execution_count": 8,
   "id": "a0a3bfda-cf1b-48aa-a812-1aed7a518fed",
   "metadata": {},
   "outputs": [],
   "source": [
    "table = pd.DataFrame.from_dict(dictionary)"
   ]
  },
  {
   "cell_type": "code",
   "execution_count": 9,
   "id": "b93f1479-3343-465d-97e4-71aad56cfc0b",
   "metadata": {},
   "outputs": [],
   "source": [
    "# the Population was \"object\" which is why we transform it to numeric\n",
    "table.Population_2020 = pd.to_numeric(table.Population_2020.str.replace(',',''))\n",
    "table.Population_2021 = pd.to_numeric(table.Population_2021.str.replace(',',''))\n",
    "table.id = pd.to_numeric(table.id)\n",
    "# table.Population_2021 = pd.to_numeric(table.Population_2021.str.split('|').str[0].str.replace(',',''))"
   ]
  },
  {
   "cell_type": "code",
   "execution_count": 10,
   "id": "f7358749-a0f3-485c-b2dd-59f162531fbf",
   "metadata": {},
   "outputs": [],
   "source": [
    "# We create a new column for the country codes.\n",
    "table['Country_code'] = \"1\""
   ]
  },
  {
   "cell_type": "code",
   "execution_count": 11,
   "id": "912ca8a1-42cf-4391-8e3a-581b39e2bf80",
   "metadata": {},
   "outputs": [
    {
     "data": {
      "text/html": [
       "<div>\n",
       "<style scoped>\n",
       "    .dataframe tbody tr th:only-of-type {\n",
       "        vertical-align: middle;\n",
       "    }\n",
       "\n",
       "    .dataframe tbody tr th {\n",
       "        vertical-align: top;\n",
       "    }\n",
       "\n",
       "    .dataframe thead th {\n",
       "        text-align: right;\n",
       "    }\n",
       "</style>\n",
       "<table border=\"1\" class=\"dataframe\">\n",
       "  <thead>\n",
       "    <tr style=\"text-align: right;\">\n",
       "      <th></th>\n",
       "      <th>id</th>\n",
       "      <th>City</th>\n",
       "      <th>Country</th>\n",
       "      <th>Population_2021</th>\n",
       "      <th>Population_2020</th>\n",
       "      <th>difference_of</th>\n",
       "      <th>Country_code</th>\n",
       "    </tr>\n",
       "  </thead>\n",
       "  <tbody>\n",
       "    <tr>\n",
       "      <th>0</th>\n",
       "      <td>1</td>\n",
       "      <td>Tokyo</td>\n",
       "      <td>Japan</td>\n",
       "      <td>37339804</td>\n",
       "      <td>37393128</td>\n",
       "      <td>-0.14%</td>\n",
       "      <td>1</td>\n",
       "    </tr>\n",
       "    <tr>\n",
       "      <th>1</th>\n",
       "      <td>2</td>\n",
       "      <td>Delhi</td>\n",
       "      <td>India</td>\n",
       "      <td>31181376</td>\n",
       "      <td>30290936</td>\n",
       "      <td>2.94%</td>\n",
       "      <td>1</td>\n",
       "    </tr>\n",
       "  </tbody>\n",
       "</table>\n",
       "</div>"
      ],
      "text/plain": [
       "   id   City Country  Population_2021  Population_2020 difference_of  \\\n",
       "0   1  Tokyo   Japan         37339804         37393128        -0.14%   \n",
       "1   2  Delhi   India         31181376         30290936         2.94%   \n",
       "\n",
       "  Country_code  \n",
       "0            1  \n",
       "1            1  "
      ]
     },
     "execution_count": 11,
     "metadata": {},
     "output_type": "execute_result"
    }
   ],
   "source": [
    "table.head(2)"
   ]
  },
  {
   "cell_type": "code",
   "execution_count": 154,
   "id": "6e9d5e6a-a7b8-4f91-9fc2-17d41e93c4e6",
   "metadata": {},
   "outputs": [],
   "source": [
    "# table.info()"
   ]
  },
  {
   "cell_type": "markdown",
   "id": "75628240-ef84-4081-ad66-0a2951feb85d",
   "metadata": {},
   "source": [
    "### Getting country codes"
   ]
  },
  {
   "cell_type": "code",
   "execution_count": 12,
   "id": "8a3ed7d3-4eb4-460a-911f-44040a43eff3",
   "metadata": {},
   "outputs": [],
   "source": [
    "url = \"https://www.iban.com/country-codes\"\n",
    "response = requests.get(url)\n",
    "time.sleep(2)\n",
    "soup = BeautifulSoup(response.content, \"html.parser\")"
   ]
  },
  {
   "cell_type": "code",
   "execution_count": 13,
   "id": "f5e580d1-6118-415d-ab7a-baa760f76f8f",
   "metadata": {},
   "outputs": [],
   "source": [
    "def get_country_codes(soup):\n",
    "    dictionary_country_code = {\"Country\":[],\"Country_code\":[]}\n",
    "    table_html = soup.find('table',id=\"myTable\")\n",
    "    for row in table_html.find_all('tr'):\n",
    "        for j, column in enumerate(row.find_all('td')):\n",
    "            if (j==0):\n",
    "                dictionary_country_code['Country'].append(column.get_text())\n",
    "            if(j==1):\n",
    "                dictionary_country_code['Country_code'].append(column.get_text())\n",
    "    table_country_codes = pd.DataFrame.from_dict(dictionary_country_code)\n",
    "    return table_country_codes"
   ]
  },
  {
   "cell_type": "code",
   "execution_count": 14,
   "id": "1730a78d-f563-4646-92e7-e1e05c9d4b99",
   "metadata": {},
   "outputs": [],
   "source": [
    "table_country_codes = get_country_codes(soup)"
   ]
  },
  {
   "cell_type": "code",
   "execution_count": 13,
   "id": "65e8c24b-401e-4fe9-b036-527fab4d876f",
   "metadata": {},
   "outputs": [],
   "source": [
    "# table_country_codes"
   ]
  },
  {
   "cell_type": "code",
   "execution_count": 15,
   "id": "47e82920-033c-468c-a4d8-de9932e86adc",
   "metadata": {},
   "outputs": [],
   "source": [
    "big_table = table.merge(table_country_codes,how='left')"
   ]
  },
  {
   "cell_type": "markdown",
   "id": "67caa2dd-705b-4769-8913-fe8caee26c17",
   "metadata": {
    "tags": []
   },
   "source": [
    "### Example with split string etc"
   ]
  },
  {
   "cell_type": "code",
   "execution_count": 16,
   "id": "a3ef6d7b-c6c9-4458-8ea3-24ba027641d7",
   "metadata": {},
   "outputs": [
    {
     "data": {
      "text/html": [
       "<div>\n",
       "<style scoped>\n",
       "    .dataframe tbody tr th:only-of-type {\n",
       "        vertical-align: middle;\n",
       "    }\n",
       "\n",
       "    .dataframe tbody tr th {\n",
       "        vertical-align: top;\n",
       "    }\n",
       "\n",
       "    .dataframe thead th {\n",
       "        text-align: right;\n",
       "    }\n",
       "</style>\n",
       "<table border=\"1\" class=\"dataframe\">\n",
       "  <thead>\n",
       "    <tr style=\"text-align: right;\">\n",
       "      <th></th>\n",
       "      <th>id</th>\n",
       "      <th>City</th>\n",
       "      <th>Country</th>\n",
       "      <th>Population_2021</th>\n",
       "      <th>Population_2020</th>\n",
       "      <th>difference_of</th>\n",
       "      <th>Country_code</th>\n",
       "    </tr>\n",
       "  </thead>\n",
       "  <tbody>\n",
       "    <tr>\n",
       "      <th>0</th>\n",
       "      <td>1</td>\n",
       "      <td>Tokyo</td>\n",
       "      <td>Japan</td>\n",
       "      <td>37339804</td>\n",
       "      <td>37393128</td>\n",
       "      <td>-0.14%</td>\n",
       "      <td>1</td>\n",
       "    </tr>\n",
       "    <tr>\n",
       "      <th>1</th>\n",
       "      <td>2</td>\n",
       "      <td>Delhi</td>\n",
       "      <td>India</td>\n",
       "      <td>31181376</td>\n",
       "      <td>30290936</td>\n",
       "      <td>2.94%</td>\n",
       "      <td>1</td>\n",
       "    </tr>\n",
       "  </tbody>\n",
       "</table>\n",
       "</div>"
      ],
      "text/plain": [
       "   id   City Country  Population_2021  Population_2020 difference_of  \\\n",
       "0   1  Tokyo   Japan         37339804         37393128        -0.14%   \n",
       "1   2  Delhi   India         31181376         30290936         2.94%   \n",
       "\n",
       "  Country_code  \n",
       "0            1  \n",
       "1            1  "
      ]
     },
     "execution_count": 16,
     "metadata": {},
     "output_type": "execute_result"
    }
   ],
   "source": [
    "big_table.head(2)"
   ]
  },
  {
   "cell_type": "markdown",
   "id": "861ebaf1-1d8f-4c1e-87ee-30219d6974ed",
   "metadata": {},
   "source": [
    "### Coutnries NOt existed with the same name in tables :D "
   ]
  },
  {
   "cell_type": "code",
   "execution_count": 17,
   "id": "5e92a6c1-3b02-49f2-b282-f6e569200c25",
   "metadata": {
    "tags": []
   },
   "outputs": [],
   "source": [
    "unordered_list_countries = [\"Iran\",\"United States\",\"United Kingdom\",\"Russia\",\"Trinidad And Tobago\",\"North Macedonia\",\"Guinea Bissau\",\"Macau\",\"Laos\",\"Palestine\",\"Central African Republic\",\"Republic of the Congo\",\"United Arab Emirates\",\"DR Congo\",\"Venezuela\",\"Philippines\",\"Sudan\",\"South Korea\",\"North Korea\",\"Vietnam\",\"Tanzania\",\"Ivory Coast\",\"Taiwan\",\"Dominican Republic\",\"Syria\",\"Bolivia\",\"Niger\",\"Czech Republic\",\"Netherlands\"]\n",
    "unordered_list_countries_codes = [\"IR\",\"US\",\"GB\",\"RU\",\"TT\",\"MK\",\"GW\",\"MO\",\"LA\",\"PS\",\"CF\",\"CG\",\"AE\",\"CD\",\"VE\",\"PH\",\"SD\",\"KR\",\"KP\",\"VN\",\"TZ\",\"CI\",\"TW\",\"DO\",\"SY\",\"BO\",\"NE\",\"CZ\",\"NL\"]"
   ]
  },
  {
   "cell_type": "markdown",
   "id": "51e5eb7e-e7e5-499a-b694-4e40a56bf76f",
   "metadata": {},
   "source": [
    "##### Get all countries where the name of country is a match"
   ]
  },
  {
   "cell_type": "code",
   "execution_count": 18,
   "id": "9f2e1506-1362-4f65-8341-10d4235b3ea2",
   "metadata": {},
   "outputs": [],
   "source": [
    "for i,country in enumerate(table_country_codes.Country):\n",
    "    for y , city in enumerate(big_table.City):\n",
    "        if table_country_codes.Country[i] == table.Country[y]:\n",
    "             big_table.loc[y,'Country_code']=table_country_codes.Country_code[i]"
   ]
  },
  {
   "cell_type": "markdown",
   "id": "9f0ce638-5886-4f57-9194-4a3443c067bc",
   "metadata": {
    "toc-hr-collapsed": true
   },
   "source": [
    "##### Get the rest of countries where the name of country is NOT a match in both tables."
   ]
  },
  {
   "cell_type": "code",
   "execution_count": 19,
   "id": "051f9a5b-7f01-4b56-8efb-e787973608ca",
   "metadata": {
    "tags": []
   },
   "outputs": [],
   "source": [
    "for i,item in enumerate(big_table.Country):\n",
    "    for y,index in enumerate(unordered_list_countries):\n",
    "        if item ==index:\n",
    "                big_table.loc[i,'Country_code'] = unordered_list_countries_codes[y]"
   ]
  },
  {
   "cell_type": "code",
   "execution_count": 20,
   "id": "1e06a9d1-dbc7-4cee-a308-92eb767066b1",
   "metadata": {},
   "outputs": [],
   "source": [
    "big_table['CityCountry'] = big_table[['City','Country_code']].apply(lambda x: ', '.join(x), axis = 1)"
   ]
  },
  {
   "cell_type": "code",
   "execution_count": 21,
   "id": "06402ce3-c447-4940-8fe9-a62224411392",
   "metadata": {},
   "outputs": [
    {
     "data": {
      "text/plain": [
       "7"
      ]
     },
     "execution_count": 21,
     "metadata": {},
     "output_type": "execute_result"
    }
   ],
   "source": [
    "big_table[\"City\"].duplicated().sum()"
   ]
  },
  {
   "cell_type": "code",
   "execution_count": 45,
   "id": "e2f1d56f-f65f-44f6-a6fd-9de878bf1017",
   "metadata": {},
   "outputs": [],
   "source": [
    "# big_table.info()"
   ]
  },
  {
   "cell_type": "code",
   "execution_count": 22,
   "id": "ed77a064-406e-45c5-b1f0-82047e98b1c1",
   "metadata": {},
   "outputs": [],
   "source": [
    "# big_table[(~big_table.duplicated())]\n",
    "big_table = big_table.drop_duplicates(subset=['City'], keep='first')"
   ]
  },
  {
   "cell_type": "code",
   "execution_count": 23,
   "id": "ed8d746e-ba8e-4caa-842e-f0f9793c0b2a",
   "metadata": {},
   "outputs": [
    {
     "data": {
      "text/plain": [
       "(1163, 8)"
      ]
     },
     "execution_count": 23,
     "metadata": {},
     "output_type": "execute_result"
    }
   ],
   "source": [
    "big_table.shape"
   ]
  },
  {
   "cell_type": "code",
   "execution_count": 27,
   "id": "aab73224-c3a9-4132-a522-97e824df89ca",
   "metadata": {},
   "outputs": [
    {
     "data": {
      "text/plain": [
       "0"
      ]
     },
     "execution_count": 27,
     "metadata": {},
     "output_type": "execute_result"
    }
   ],
   "source": [
    "big_table[\"CityCountry\"].duplicated().sum()"
   ]
  },
  {
   "cell_type": "code",
   "execution_count": 33,
   "id": "00d1b0ad-ec62-44bb-9a9e-c903d7984d98",
   "metadata": {},
   "outputs": [
    {
     "data": {
      "text/html": [
       "<div>\n",
       "<style scoped>\n",
       "    .dataframe tbody tr th:only-of-type {\n",
       "        vertical-align: middle;\n",
       "    }\n",
       "\n",
       "    .dataframe tbody tr th {\n",
       "        vertical-align: top;\n",
       "    }\n",
       "\n",
       "    .dataframe thead th {\n",
       "        text-align: right;\n",
       "    }\n",
       "</style>\n",
       "<table border=\"1\" class=\"dataframe\">\n",
       "  <thead>\n",
       "    <tr style=\"text-align: right;\">\n",
       "      <th></th>\n",
       "      <th>id</th>\n",
       "      <th>City</th>\n",
       "      <th>Country</th>\n",
       "      <th>Population_2021</th>\n",
       "      <th>Population_2020</th>\n",
       "      <th>difference_of</th>\n",
       "      <th>Country_code</th>\n",
       "      <th>CityCountry</th>\n",
       "    </tr>\n",
       "  </thead>\n",
       "  <tbody>\n",
       "  </tbody>\n",
       "</table>\n",
       "</div>"
      ],
      "text/plain": [
       "Empty DataFrame\n",
       "Columns: [id, City, Country, Population_2021, Population_2020, difference_of, Country_code, CityCountry]\n",
       "Index: []"
      ]
     },
     "execution_count": 33,
     "metadata": {},
     "output_type": "execute_result"
    }
   ],
   "source": [
    "# Here we check if there is any row left with value of \"1\" we defined earlier.\n",
    "# If yes , this would mean that there are one or more countries which they hadn't been given the country code.\n",
    "big_table.query('Country_code ==\"1\"')"
   ]
  },
  {
   "cell_type": "code",
   "execution_count": 51,
   "id": "dc37f1e7-8722-4a72-9daa-5ec3efb628b5",
   "metadata": {
    "tags": []
   },
   "outputs": [],
   "source": [
    "# big_table.to_csv('Cities_countries.csv' ,index=False)"
   ]
  },
  {
   "cell_type": "markdown",
   "id": "030e2a14-264c-4f7d-9f6d-9bab5dc70002",
   "metadata": {},
   "source": [
    "# POPULATION to sql"
   ]
  },
  {
   "cell_type": "markdown",
   "id": "3b836fef-a257-4690-bc08-3cb085fc54ac",
   "metadata": {},
   "source": [
    "## Creating a sub - DataFrame from from existing one"
   ]
  },
  {
   "cell_type": "code",
   "execution_count": null,
   "id": "3394d66c-cce3-443c-8aec-f1ec833cb6f5",
   "metadata": {},
   "outputs": [],
   "source": [
    "import awswrangler as wr"
   ]
  },
  {
   "cell_type": "code",
   "execution_count": 34,
   "id": "91f3a918-1c25-4f8b-9309-9aaeb2b0bc2c",
   "metadata": {},
   "outputs": [],
   "source": [
    "cities = big_table.loc[:,[\"id\",\"City\",\"Country\",\"Country_code\",\"CityCountry\"]]"
   ]
  },
  {
   "cell_type": "code",
   "execution_count": 39,
   "id": "73cd8a40-a54d-4e05-81a6-47fd4261a585",
   "metadata": {},
   "outputs": [
    {
     "data": {
      "text/plain": [
       "(1163, 8)"
      ]
     },
     "execution_count": 39,
     "metadata": {},
     "output_type": "execute_result"
    }
   ],
   "source": [
    "big_table.shape"
   ]
  },
  {
   "cell_type": "code",
   "execution_count": 40,
   "id": "c93b4bfb-d526-4561-83b6-0644495d6d2c",
   "metadata": {},
   "outputs": [],
   "source": [
    "population_small = big_table.query('City == (\"Athens\",\"Berlin\",\"Barcelona\",\"Istanbul\",\"Moscow\",\"London\",\"Zurich\",\"Paris\",\"Rome\")')"
   ]
  },
  {
   "cell_type": "code",
   "execution_count": 78,
   "id": "455c2445-59e8-48bd-949e-b804bceb4e8b",
   "metadata": {},
   "outputs": [],
   "source": [
    "population_small.to_csv('Population_big_Cities.csv', index=False)"
   ]
  },
  {
   "cell_type": "code",
   "execution_count": 41,
   "id": "58ea1352-f585-483a-b3df-8782f64473ab",
   "metadata": {},
   "outputs": [
    {
     "name": "stdout",
     "output_type": "stream",
     "text": [
      "<class 'pandas.core.frame.DataFrame'>\n",
      "Int64Index: 9 entries, 12 to 366\n",
      "Data columns (total 8 columns):\n",
      " #   Column           Non-Null Count  Dtype \n",
      "---  ------           --------------  ----- \n",
      " 0   id               9 non-null      int64 \n",
      " 1   City             9 non-null      object\n",
      " 2   Country          9 non-null      object\n",
      " 3   Population_2021  9 non-null      int64 \n",
      " 4   Population_2020  9 non-null      int64 \n",
      " 5   difference_of    9 non-null      object\n",
      " 6   Country_code     9 non-null      object\n",
      " 7   CityCountry      9 non-null      object\n",
      "dtypes: int64(3), object(5)\n",
      "memory usage: 648.0+ bytes\n"
     ]
    }
   ],
   "source": [
    "population_small.info()"
   ]
  },
  {
   "cell_type": "markdown",
   "id": "8b227b07-b4d3-464f-b77d-8fae93238775",
   "metadata": {},
   "source": [
    "##### And this here is the code to send our tables to the MySQL"
   ]
  },
  {
   "cell_type": "code",
   "execution_count": 326,
   "id": "813297cd-8f6e-4e0d-bd01-ce5a905604cb",
   "metadata": {
    "tags": []
   },
   "outputs": [],
   "source": [
    "schema=\"gans\"\n",
    "host=\"127.0.0.1\"\n",
    "user=\"root\"\n",
    "password= sql_pass\n",
    "port=3306\n",
    "con = f'mysql+pymysql://{user}:{password}@{host}:{port}/{schema}'\n",
    "# var_name.to_sql('population',con=con,if_exists='append',index=False)\n",
    "population_small.to_sql('population',con=con,if_exists='append',index=False)\n",
    "\n",
    "\n",
    "# var_name : the name of variable that contains our dataframe \n",
    "# 'population' : the name of the table we WANT to send to the SQL\n",
    "\n",
    "# about the if_exists : replace , append or fail by default is fail.\n",
    "\n",
    "# for more info : https://pandas.pydata.org/docs/reference/api/pandas.DataFrame.to_sql.html"
   ]
  },
  {
   "cell_type": "markdown",
   "id": "553403c4-9f1c-4aed-96c2-e66bb10045fe",
   "metadata": {},
   "source": [
    "# Cities to sql"
   ]
  },
  {
   "cell_type": "code",
   "execution_count": 42,
   "id": "e3794edc-fb74-4925-a52d-c36d05b80ff2",
   "metadata": {},
   "outputs": [
    {
     "data": {
      "text/plain": [
       "(1163, 5)"
      ]
     },
     "execution_count": 42,
     "metadata": {},
     "output_type": "execute_result"
    }
   ],
   "source": [
    "cities.shape"
   ]
  },
  {
   "cell_type": "code",
   "execution_count": 325,
   "id": "1e26a982-d30f-419a-96e2-8cdd91024155",
   "metadata": {},
   "outputs": [],
   "source": [
    "schema=\"gans\"\n",
    "host=\"127.0.0.1\"\n",
    "user=\"root\"\n",
    "password= sql_pass\n",
    "port=3306\n",
    "con = f'mysql+pymysql://{user}:{password}@{host}:{port}/{schema}'\n",
    "cities.to_sql('cities',con=con,if_exists='append',index=False)"
   ]
  },
  {
   "cell_type": "markdown",
   "id": "ae87c55a-140d-40f9-a540-0688184573fe",
   "metadata": {},
   "source": [
    "## Weather API"
   ]
  },
  {
   "cell_type": "code",
   "execution_count": 44,
   "id": "5328b9cc-4260-46cd-9cb8-2850ce3ed579",
   "metadata": {},
   "outputs": [],
   "source": [
    "path = \"C:/Users/Kosta/OneDrive/Desktop/Data_Science\"\n",
    "from pyowm.owm import OWM\n",
    "import sys\n",
    "sys.path.insert(1, path)"
   ]
  },
  {
   "cell_type": "code",
   "execution_count": 45,
   "id": "bfa95b81-5cfc-4b65-8db9-69c8c9d67fb4",
   "metadata": {},
   "outputs": [],
   "source": [
    "pd.set_option('display.expand_frame_repr', False)\n",
    "owm = OWM(weather_key)"
   ]
  },
  {
   "cell_type": "code",
   "execution_count": 46,
   "id": "6d3320b6-f728-4073-8873-59774f655cf8",
   "metadata": {},
   "outputs": [],
   "source": [
    "some_cities = cities.query('City == (\"Athens\",\"Berlin\",\"Barcelona\",\"Istanbul\",\"Moscow\",\"London\",\"Zurich\",\"Paris\",\"Rome\")')"
   ]
  },
  {
   "cell_type": "code",
   "execution_count": 47,
   "id": "b8965f6c-2acf-4d30-9246-4408ebc2daa6",
   "metadata": {},
   "outputs": [],
   "source": [
    "def get_weather_tables(cities):\n",
    "    owm = OWM(weather_key)\n",
    "    city_weather_tables = pd.DataFrame()\n",
    "    for index, row in cities.iterrows():\n",
    "        url = (f\"http://api.openweathermap.org/data/2.5/forecast?q={row['CityCountry']}&appid={weather_key}&units=metric\") \n",
    "        response = requests.get(url)\n",
    "        json = response.json()\n",
    "        dictionary = {\"Date_Time\":[],'Temperature':[],'Feels_like': [],'Humidity':[],'Weather':[],'Clouds':[],'Wind_speed':[],'Rain':[],'Snow':[]}\n",
    "        for hour in json['list']:\n",
    "            dictionary['Date_Time'].append(hour['dt_txt'])\n",
    "            dictionary['Temperature'].append(hour['main']['temp'])\n",
    "            dictionary['Feels_like'].append(hour['main']['feels_like'])\n",
    "            dictionary['Humidity'].append(hour['main']['humidity'])\n",
    "            dictionary['Weather'].append(hour['weather'][0]['description'])\n",
    "            dictionary['Clouds'].append(hour['clouds']['all'])\n",
    "            dictionary['Wind_speed'].append(hour['wind']['speed'])\n",
    "            try:\n",
    "                dictionary['Rain'].append(hour['rain']['3h'])\n",
    "            except:\n",
    "                dictionary['Rain'].append('0')\n",
    "            try:\n",
    "                dictionary['Snow'].append(hour['snow']['3h'])\n",
    "            except:\n",
    "                dictionary['Snow'].append('0')\n",
    "        weather_table=pd.DataFrame.from_dict(dictionary)\n",
    "        weather_table[\"Date_Time\"] = pd.to_datetime(weather_table[\"Date_Time\"])\n",
    "        weather_table = weather_table.assign(City_id = row['id'], City_country = row['CityCountry'])\n",
    "        city_weather_tables = city_weather_tables.append(weather_table)\n",
    "    return city_weather_tables"
   ]
  },
  {
   "cell_type": "code",
   "execution_count": 52,
   "id": "d10c87e4-ed51-40b3-b152-ff833acde42f",
   "metadata": {},
   "outputs": [],
   "source": [
    "def create_mysql_table(big_table):\n",
    "    schema=\"gans\"\n",
    "    host=\"127.0.0.1\"\n",
    "    user=\"root\"\n",
    "    password= sql_pass\n",
    "    port=3306\n",
    "    con = f'mysql+pymysql://{user}:{password}@{host}:{port}/{schema}'\n",
    "    big_table.to_sql('weather',con=con,if_exists='append',index=False)"
   ]
  },
  {
   "cell_type": "code",
   "execution_count": 53,
   "id": "02ce2d56-40e9-4ed0-901b-e8c3797fa545",
   "metadata": {},
   "outputs": [],
   "source": [
    "create_mysql_table(get_weather_tables(some_cities))"
   ]
  },
  {
   "cell_type": "code",
   "execution_count": 50,
   "id": "c9046cb5-adf3-4047-802e-278f5ea5ab89",
   "metadata": {},
   "outputs": [],
   "source": [
    "example_table = get_weather_tables(some_cities)\n",
    "# example_table"
   ]
  },
  {
   "cell_type": "markdown",
   "id": "128e3819-d4c4-405e-99be-218b213ca0ee",
   "metadata": {},
   "source": [
    "# Check \"Flight requests\" notebook"
   ]
  },
  {
   "cell_type": "code",
   "execution_count": 285,
   "id": "f2fc8c25-eca5-4408-85d0-e73ce71ba7fd",
   "metadata": {},
   "outputs": [],
   "source": [
    "def create_dataframe_from_dictionaries(dictionary):\n",
    "    flights = pd.DataFrame.from_dict(dictionary)\n",
    "    return flights"
   ]
  },
  {
   "cell_type": "code",
   "execution_count": 286,
   "id": "3c5a313d-13e3-493a-bf7c-fab054f8dfab",
   "metadata": {
    "tags": []
   },
   "outputs": [],
   "source": [
    "def get_all_info(cities):\n",
    "    big_table = pd.DataFrame()\n",
    "    for index, city in cities.iterrows():\n",
    "        jsons = get_jsons_from_AerodataboxAPI(city['icao'])\n",
    "        dictionary = create_dictionary_from_json(jsons)\n",
    "        dataframe = create_dataframe_from_dictionaries(dictionary)\n",
    "        dataframe = dataframe.assign(CityCountry = city['CityCountry'])\n",
    "        dataframe = dataframe.assign(icao = city['icao'])\n",
    "        dataframe[\"Arrival_at\"] = pd.to_datetime(dataframe[\"Arrival_at\"])\n",
    "#         dataframe[\"Arrival_UTC_time\"] = pd.to_datetime(dataframe[\"Arrival_UTC_time\"])\n",
    "    big_table = big_table.append(dataframe,ignore_index=True)\n",
    "    return big_table"
   ]
  },
  {
   "cell_type": "code",
   "execution_count": 287,
   "id": "97501dcd-30be-492e-b42a-7570b3b2bbed",
   "metadata": {
    "tags": []
   },
   "outputs": [],
   "source": [
    "def create_mysql_table(big_table):\n",
    "    schema=\"gans\"\n",
    "    host=\"127.0.0.1\"\n",
    "    user=\"root\"\n",
    "    password=sql_pass\n",
    "    port=3306\n",
    "    con = f'mysql+pymysql://{user}:{password}@{host}:{port}/{schema}'\n",
    "    big_table.to_sql('flights',con=con,if_exists='append',index=False)"
   ]
  },
  {
   "cell_type": "code",
   "execution_count": 132,
   "id": "aba2d70a-9a1c-4b46-92ac-458350c836ab",
   "metadata": {},
   "outputs": [
    {
     "data": {
      "text/plain": [
       "(1163, 8)"
      ]
     },
     "execution_count": 132,
     "metadata": {},
     "output_type": "execute_result"
    }
   ],
   "source": [
    "big_table.shape"
   ]
  },
  {
   "cell_type": "code",
   "execution_count": 191,
   "id": "bd05501f-f1a3-4b39-b85a-953c411dc339",
   "metadata": {},
   "outputs": [
    {
     "data": {
      "text/html": [
       "<div>\n",
       "<style scoped>\n",
       "    .dataframe tbody tr th:only-of-type {\n",
       "        vertical-align: middle;\n",
       "    }\n",
       "\n",
       "    .dataframe tbody tr th {\n",
       "        vertical-align: top;\n",
       "    }\n",
       "\n",
       "    .dataframe thead th {\n",
       "        text-align: right;\n",
       "    }\n",
       "</style>\n",
       "<table border=\"1\" class=\"dataframe\">\n",
       "  <thead>\n",
       "    <tr style=\"text-align: right;\">\n",
       "      <th></th>\n",
       "      <th>City</th>\n",
       "      <th>Country</th>\n",
       "      <th>Country_code</th>\n",
       "      <th>CityCountry</th>\n",
       "    </tr>\n",
       "  </thead>\n",
       "  <tbody>\n",
       "    <tr>\n",
       "      <th>0</th>\n",
       "      <td>Tokyo</td>\n",
       "      <td>Japan</td>\n",
       "      <td>JP</td>\n",
       "      <td>Tokyo, JP</td>\n",
       "    </tr>\n",
       "  </tbody>\n",
       "</table>\n",
       "</div>"
      ],
      "text/plain": [
       "    City Country Country_code CityCountry\n",
       "0  Tokyo   Japan           JP   Tokyo, JP"
      ]
     },
     "execution_count": 191,
     "metadata": {},
     "output_type": "execute_result"
    }
   ],
   "source": [
    "cities.head(1)"
   ]
  },
  {
   "cell_type": "code",
   "execution_count": 107,
   "id": "e173c108-5b4d-4247-b70e-20c4c578763a",
   "metadata": {},
   "outputs": [
    {
     "data": {
      "text/html": [
       "<div>\n",
       "<style scoped>\n",
       "    .dataframe tbody tr th:only-of-type {\n",
       "        vertical-align: middle;\n",
       "    }\n",
       "\n",
       "    .dataframe tbody tr th {\n",
       "        vertical-align: top;\n",
       "    }\n",
       "\n",
       "    .dataframe thead th {\n",
       "        text-align: right;\n",
       "    }\n",
       "</style>\n",
       "<table border=\"1\" class=\"dataframe\">\n",
       "  <thead>\n",
       "    <tr style=\"text-align: right;\">\n",
       "      <th></th>\n",
       "      <th>City</th>\n",
       "      <th>Country</th>\n",
       "      <th>Country_code</th>\n",
       "      <th>CityCountry</th>\n",
       "    </tr>\n",
       "  </thead>\n",
       "  <tbody>\n",
       "    <tr>\n",
       "      <th>0</th>\n",
       "      <td>Tokyo</td>\n",
       "      <td>Japan</td>\n",
       "      <td>JP</td>\n",
       "      <td>Tokyo, JP</td>\n",
       "    </tr>\n",
       "    <tr>\n",
       "      <th>1</th>\n",
       "      <td>Delhi</td>\n",
       "      <td>India</td>\n",
       "      <td>IN</td>\n",
       "      <td>Delhi, IN</td>\n",
       "    </tr>\n",
       "    <tr>\n",
       "      <th>2</th>\n",
       "      <td>Shanghai</td>\n",
       "      <td>China</td>\n",
       "      <td>CN</td>\n",
       "      <td>Shanghai, CN</td>\n",
       "    </tr>\n",
       "    <tr>\n",
       "      <th>3</th>\n",
       "      <td>Sao Paulo</td>\n",
       "      <td>Brazil</td>\n",
       "      <td>BR</td>\n",
       "      <td>Sao Paulo, BR</td>\n",
       "    </tr>\n",
       "    <tr>\n",
       "      <th>4</th>\n",
       "      <td>Mexico City</td>\n",
       "      <td>Mexico</td>\n",
       "      <td>MX</td>\n",
       "      <td>Mexico City, MX</td>\n",
       "    </tr>\n",
       "  </tbody>\n",
       "</table>\n",
       "</div>"
      ],
      "text/plain": [
       "          City Country Country_code      CityCountry\n",
       "0        Tokyo   Japan           JP        Tokyo, JP\n",
       "1        Delhi   India           IN        Delhi, IN\n",
       "2     Shanghai   China           CN     Shanghai, CN\n",
       "3    Sao Paulo  Brazil           BR    Sao Paulo, BR\n",
       "4  Mexico City  Mexico           MX  Mexico City, MX"
      ]
     },
     "execution_count": 107,
     "metadata": {},
     "output_type": "execute_result"
    }
   ],
   "source": [
    "exp_table.head()"
   ]
  },
  {
   "cell_type": "code",
   "execution_count": 121,
   "id": "1f2d98c1-0abc-4ad4-8a88-40de080a86eb",
   "metadata": {},
   "outputs": [
    {
     "data": {
      "text/plain": [
       "(1163, 4)"
      ]
     },
     "execution_count": 121,
     "metadata": {},
     "output_type": "execute_result"
    }
   ],
   "source": [
    "exp_table.shape"
   ]
  },
  {
   "cell_type": "code",
   "execution_count": 342,
   "id": "1e4bc3e4-40af-43b4-8f3c-c62a222f292e",
   "metadata": {},
   "outputs": [],
   "source": [
    "weather = weather_forecast"
   ]
  },
  {
   "cell_type": "code",
   "execution_count": 344,
   "id": "c3eddf22-0ddd-4a0d-82c0-0ba5a30800f4",
   "metadata": {},
   "outputs": [],
   "source": [
    "# weather.to_sql('weather',con=con,if_exists='append',index=False)"
   ]
  },
  {
   "cell_type": "code",
   "execution_count": 54,
   "id": "c7e8e55a-61b9-4f25-b77c-80395c6ceb3f",
   "metadata": {},
   "outputs": [],
   "source": [
    "airports = pd.read_csv('airports.csv')\n",
    "# airports"
   ]
  },
  {
   "cell_type": "code",
   "execution_count": 55,
   "id": "aa1f67b8-434b-441d-9dd0-7ff8e14d3ea1",
   "metadata": {},
   "outputs": [],
   "source": [
    "airports.loc[airports['municipality'] == 'St. Petersburg', 'municipality'] = 'Saint Petersburg'"
   ]
  },
  {
   "cell_type": "code",
   "execution_count": 56,
   "id": "f56be2e5-95f2-41b7-8965-facbb4babf7a",
   "metadata": {},
   "outputs": [],
   "source": [
    "airports.loc[airports['municipality'] == 'Kiev', 'municipality'] = 'Kyiv'"
   ]
  },
  {
   "cell_type": "code",
   "execution_count": 57,
   "id": "ffdea7c3-2a92-4722-8b87-049a2dcbc095",
   "metadata": {},
   "outputs": [],
   "source": [
    "airports = airports.dropna(subset=['municipality', 'iso_country'])"
   ]
  },
  {
   "cell_type": "code",
   "execution_count": 58,
   "id": "ed7d3c74-a312-4297-a33c-34f60f3bb076",
   "metadata": {},
   "outputs": [],
   "source": [
    "airports.loc[airports['municipality'].str.contains('Istanbul'), 'municipality'] = 'Istanbul'"
   ]
  },
  {
   "cell_type": "code",
   "execution_count": 59,
   "id": "0d4d1cee-3376-4155-91e2-3eb041cd1dce",
   "metadata": {},
   "outputs": [],
   "source": [
    "list_of_cities = big_table.CityCountry.to_list()"
   ]
  },
  {
   "cell_type": "code",
   "execution_count": 60,
   "id": "7cb36031-3e3c-411c-ab83-c07b4f936648",
   "metadata": {},
   "outputs": [
    {
     "data": {
      "text/html": [
       "<div>\n",
       "<style scoped>\n",
       "    .dataframe tbody tr th:only-of-type {\n",
       "        vertical-align: middle;\n",
       "    }\n",
       "\n",
       "    .dataframe tbody tr th {\n",
       "        vertical-align: top;\n",
       "    }\n",
       "\n",
       "    .dataframe thead th {\n",
       "        text-align: right;\n",
       "    }\n",
       "</style>\n",
       "<table border=\"1\" class=\"dataframe\">\n",
       "  <thead>\n",
       "    <tr style=\"text-align: right;\">\n",
       "      <th></th>\n",
       "      <th>id</th>\n",
       "      <th>ident</th>\n",
       "      <th>type</th>\n",
       "      <th>name</th>\n",
       "      <th>latitude_deg</th>\n",
       "      <th>longitude_deg</th>\n",
       "      <th>elevation_ft</th>\n",
       "      <th>continent</th>\n",
       "      <th>iso_country</th>\n",
       "      <th>iso_region</th>\n",
       "      <th>municipality</th>\n",
       "      <th>scheduled_service</th>\n",
       "      <th>gps_code</th>\n",
       "      <th>iata_code</th>\n",
       "      <th>local_code</th>\n",
       "      <th>home_link</th>\n",
       "      <th>wikipedia_link</th>\n",
       "      <th>keywords</th>\n",
       "    </tr>\n",
       "  </thead>\n",
       "  <tbody>\n",
       "    <tr>\n",
       "      <th>0</th>\n",
       "      <td>6523</td>\n",
       "      <td>00A</td>\n",
       "      <td>heliport</td>\n",
       "      <td>Total Rf Heliport</td>\n",
       "      <td>40.070801</td>\n",
       "      <td>-74.933601</td>\n",
       "      <td>11.0</td>\n",
       "      <td>NaN</td>\n",
       "      <td>US</td>\n",
       "      <td>US-PA</td>\n",
       "      <td>Bensalem</td>\n",
       "      <td>no</td>\n",
       "      <td>00A</td>\n",
       "      <td>NaN</td>\n",
       "      <td>00A</td>\n",
       "      <td>NaN</td>\n",
       "      <td>NaN</td>\n",
       "      <td>NaN</td>\n",
       "    </tr>\n",
       "  </tbody>\n",
       "</table>\n",
       "</div>"
      ],
      "text/plain": [
       "     id ident      type               name  latitude_deg  longitude_deg  elevation_ft continent iso_country iso_region municipality scheduled_service gps_code iata_code local_code home_link wikipedia_link keywords\n",
       "0  6523   00A  heliport  Total Rf Heliport     40.070801     -74.933601          11.0       NaN          US      US-PA     Bensalem                no      00A       NaN        00A       NaN            NaN      NaN"
      ]
     },
     "execution_count": 60,
     "metadata": {},
     "output_type": "execute_result"
    }
   ],
   "source": [
    "airports.head(1)"
   ]
  },
  {
   "cell_type": "code",
   "execution_count": 61,
   "id": "f3b1837a-2252-49ba-9dcc-790de829d6c1",
   "metadata": {},
   "outputs": [],
   "source": [
    "airports_only_needed = airports[['type','name','latitude_deg','longitude_deg','iso_country','elevation_ft','municipality','scheduled_service','gps_code']]"
   ]
  },
  {
   "cell_type": "code",
   "execution_count": 62,
   "id": "c59dc1d8-f9f0-43b3-ae3a-c2e752b1fc1f",
   "metadata": {},
   "outputs": [],
   "source": [
    "airports_only_needed = (\n",
    "    airports_only_needed\n",
    "            .query(\"(type == 'medium_airport' | type == 'large_airport') & scheduled_service == 'yes'\")                          \n",
    ")"
   ]
  },
  {
   "cell_type": "code",
   "execution_count": 63,
   "id": "4589cc36-0211-440b-889e-39de7a958d22",
   "metadata": {},
   "outputs": [],
   "source": [
    "big_table['CityCountry'] = big_table[['City','Country_code']].apply(lambda x: ', '.join(x), axis = 1)"
   ]
  },
  {
   "cell_type": "code",
   "execution_count": 64,
   "id": "cd7df6db-31c2-4509-92fc-f06598648736",
   "metadata": {},
   "outputs": [],
   "source": [
    "airports_only_needed['CityCountry'] = airports_only_needed[['municipality','iso_country']].apply(lambda x: ', '.join(x), axis = 1)"
   ]
  },
  {
   "cell_type": "code",
   "execution_count": 65,
   "id": "e2af7a09-85e4-4b9d-92d3-edba1d4f8d81",
   "metadata": {},
   "outputs": [],
   "source": [
    "airports_only_needed = airports_only_needed[airports_only_needed.CityCountry.isin(list_of_cities)]"
   ]
  },
  {
   "cell_type": "code",
   "execution_count": 66,
   "id": "5e26ae5a-fb53-4934-9889-90990c93c904",
   "metadata": {},
   "outputs": [],
   "source": [
    "airports_only_needed.type = pd.Categorical(airports_only_needed.type, categories=[\"large_airport\",\"medium_airport\"],ordered=True)"
   ]
  },
  {
   "cell_type": "code",
   "execution_count": 67,
   "id": "51108cea-02f6-4a8d-aa52-ec26672fd0c6",
   "metadata": {},
   "outputs": [],
   "source": [
    "airports_only_needed.sort_values('type', inplace=True)"
   ]
  },
  {
   "cell_type": "code",
   "execution_count": 68,
   "id": "26869a0c-d1eb-4405-a128-18f821cc92b8",
   "metadata": {},
   "outputs": [],
   "source": [
    "airports_only_needed = airports_only_needed.drop_duplicates(subset=['CityCountry'])"
   ]
  },
  {
   "cell_type": "code",
   "execution_count": 69,
   "id": "af655f9c-5fd8-4579-96db-586862baeda2",
   "metadata": {},
   "outputs": [
    {
     "data": {
      "text/plain": [
       "(555, 10)"
      ]
     },
     "execution_count": 69,
     "metadata": {},
     "output_type": "execute_result"
    }
   ],
   "source": [
    "airports_only_needed.shape"
   ]
  },
  {
   "cell_type": "code",
   "execution_count": 311,
   "id": "9e2e3754-0fe8-4aca-8e15-43866d9b823e",
   "metadata": {},
   "outputs": [],
   "source": [
    "# airports_only_needed"
   ]
  },
  {
   "cell_type": "markdown",
   "id": "2bc2909b-26c0-49d6-ba7e-b749028f6193",
   "metadata": {},
   "source": [
    "# AIRPORTS to sql"
   ]
  },
  {
   "cell_type": "code",
   "execution_count": 70,
   "id": "e060e21a-28f9-46a7-946d-0b43024a8d09",
   "metadata": {},
   "outputs": [
    {
     "name": "stdout",
     "output_type": "stream",
     "text": [
      "<class 'pandas.core.frame.DataFrame'>\n",
      "Int64Index: 555 entries, 37373 to 68325\n",
      "Data columns (total 10 columns):\n",
      " #   Column             Non-Null Count  Dtype   \n",
      "---  ------             --------------  -----   \n",
      " 0   type               555 non-null    category\n",
      " 1   name               555 non-null    object  \n",
      " 2   latitude_deg       555 non-null    float64 \n",
      " 3   longitude_deg      555 non-null    float64 \n",
      " 4   iso_country        555 non-null    object  \n",
      " 5   elevation_ft       540 non-null    float64 \n",
      " 6   municipality       555 non-null    object  \n",
      " 7   scheduled_service  555 non-null    object  \n",
      " 8   gps_code           555 non-null    object  \n",
      " 9   CityCountry        555 non-null    object  \n",
      "dtypes: category(1), float64(3), object(6)\n",
      "memory usage: 44.0+ KB\n"
     ]
    }
   ],
   "source": [
    "airports_only_needed.info()"
   ]
  },
  {
   "cell_type": "code",
   "execution_count": 71,
   "id": "17eab8dc-e6f8-486f-90dc-312f678a68d7",
   "metadata": {},
   "outputs": [],
   "source": [
    "schema=\"gans\"\n",
    "host=\"127.0.0.1\"\n",
    "user=\"root\"\n",
    "password=sql_pass\n",
    "port=3306\n",
    "con = f'mysql+pymysql://{user}:{password}@{host}:{port}/{schema}'\n",
    "big_table.to_sql('flights',con=con,if_exists='append',index=False)\n",
    "airports_only_needed.to_sql('airports', if_exists='append', con=con, index=False)"
   ]
  },
  {
   "cell_type": "code",
   "execution_count": 73,
   "id": "85d16729-0d4c-4305-ae81-fa9dd3ee0a9a",
   "metadata": {},
   "outputs": [],
   "source": [
    "# cities"
   ]
  },
  {
   "cell_type": "markdown",
   "id": "af9b20bf-8a35-49ab-88be-1e052437052f",
   "metadata": {},
   "source": [
    "# FLIGHTS"
   ]
  },
  {
   "cell_type": "code",
   "execution_count": null,
   "id": "0d860acd-142f-452f-a591-87ccf42ca21b",
   "metadata": {},
   "outputs": [],
   "source": [
    "def get_jsons_from_AerodataboxAPI(icao):\n",
    "    today = datetime.date.today()\n",
    "    tomorrow = str(today + datetime.timedelta(days=1))    \n",
    "    times = [[\"00:00\",\"11:59\"],[\"12:00\",\"23:59\"]]\n",
    "    jsons = []\n",
    "    for time in times:\n",
    "        url = f\"https://aerodatabox.p.rapidapi.com/flights/airports/icao/{icao}/{tomorrow}T{time[0]}/{tomorrow}T{time[1]}\"\n",
    "        querystring = {\"direction\":\"Arrival\",\"withPrivate\":\"true\"}\n",
    "        headers = {\n",
    "            'x-rapidapi-host': \"aerodatabox.p.rapidapi.com\",\n",
    "            'x-rapidapi-key': flight_API_key\n",
    "            }\n",
    "        jsons.append(requests.request(\"GET\", url, headers=headers, params=querystring).json())\n",
    "    return jsons"
   ]
  },
  {
   "cell_type": "code",
   "execution_count": null,
   "id": "efedcd0a-a523-4a0a-9964-75184fab9103",
   "metadata": {},
   "outputs": [],
   "source": [
    "# NO need to repeat this\n",
    "# response_one = get_jsons_from_AerodataboxAPI('EDDB')\n",
    "# JSON(response_one)\n",
    "# response_two = (get_jsons_from_AerodataboxAPI('EDDB')).json()\n",
    "# response_two"
   ]
  },
  {
   "cell_type": "markdown",
   "id": "02b0aeff-6086-48fe-a8c9-6a7c20c11730",
   "metadata": {},
   "source": [
    "### Define some Cities - You cannot add every city for every possible flight due to a limited amount of APIS call per month"
   ]
  },
  {
   "cell_type": "code",
   "execution_count": null,
   "id": "1e8e6712-0ff9-492e-8277-151fef7a7611",
   "metadata": {},
   "outputs": [],
   "source": [
    "# \n",
    "def get_cities_dataframe():\n",
    "    cities = pd.DataFrame({'City': ['Istanbul','Moscow','Berlin'], 'Country': ['Turkey','Russian Federation (the)','Germany'], \n",
    "    'Country_code': ['TR','RU','DE'],'CityCountry' : [\"Istanbul, TR\",\"Moscow, RU\",\"Berlin, DE\"],\n",
    "    'Country_short' : ['TR','RU','DE'], 'icao' : [\"LTFM\",\"UUDD\",\"EDDB\"]})\n",
    "    return cities[:3]"
   ]
  },
  {
   "cell_type": "code",
   "execution_count": null,
   "id": "bea94b1e-2965-4c27-a60a-a5422bac9c73",
   "metadata": {},
   "outputs": [],
   "source": [
    "def create_dictionary_from_json(jsons):\n",
    "    dictionary = {\"From_location\":[],\"Arrival_at\":[], \"Terminal\":[],\"Airline\":[],\"Flight_number\":[],\"Airport_code\":[]}\n",
    "    for resp in jsons:\n",
    "        for flight in resp['arrivals']:\n",
    "            try:\n",
    "                dictionary[\"From_location\"].append(flight['movement'][\"airport\"]['name'])\n",
    "            except:\n",
    "                dictionary[\"From_location\"].append(\"Unknown\")\n",
    "            try:\n",
    "                dictionary[\"Arrival_at\"].append(flight['movement']['scheduledTimeLocal'][:-6])\n",
    "            except:\n",
    "                dictionary[\"Arrival_at\"].append(\"Unknown\")\n",
    "            try:\n",
    "                dictionary[\"Terminal\"].append(flight['movement']['terminal'])\n",
    "            except:\n",
    "                dictionary[\"Terminal\"].append(\"Unknown\")\n",
    "            try:\n",
    "                dictionary[\"Airline\"].append(flight['airline']['name'])\n",
    "            except:\n",
    "                dictionary[\"Airline\"].append(\"Unknown\")\n",
    "            try:\n",
    "                dictionary[\"Flight_number\"].append(flight['number'])\n",
    "            except:\n",
    "                dictionary[\"Flight_number\"].append(\"Unknown\")\n",
    "            try:\n",
    "                dictionary[\"Airport_code\"].append(flight['movement'][\"airport\"][\"icao\"])\n",
    "            except:\n",
    "                dictionary[\"Airport_code\"].append(\"Unknown\")\n",
    "    return dictionary "
   ]
  },
  {
   "cell_type": "code",
   "execution_count": null,
   "id": "0df54f03-44ca-4abc-a9f8-3845157b11f3",
   "metadata": {
    "tags": []
   },
   "outputs": [],
   "source": [
    "def create_dataframe_from_dictionaries(dictionary):\n",
    "    flights = pd.DataFrame.from_dict(dictionary)\n",
    "    return flights"
   ]
  },
  {
   "cell_type": "code",
   "execution_count": null,
   "id": "d7ea3dc4-5f38-4385-bef8-b0e869269056",
   "metadata": {},
   "outputs": [],
   "source": [
    "def get_all_info(cities):\n",
    "    big_table = pd.DataFrame()\n",
    "    for index, city in cities.iterrows():\n",
    "        jsons = get_jsons_from_AerodataboxAPI(city['icao'])\n",
    "        dictionary = create_dictionary_from_json(jsons)\n",
    "        dataframe = create_dataframe_from_dictionaries(dictionary)\n",
    "        dataframe = dataframe.assign(CityCountry = city['CityCountry'])\n",
    "        dataframe = dataframe.assign(icao = city['icao'])\n",
    "        dataframe[\"Arrival_at\"] = pd.to_datetime(dataframe[\"Arrival_at\"])\n",
    "#         dataframe[\"Arrival_UTC_time\"] = pd.to_datetime(dataframe[\"Arrival_UTC_time\"])\n",
    "    big_table = big_table.append(dataframe,ignore_index=True)\n",
    "    return big_table"
   ]
  },
  {
   "cell_type": "code",
   "execution_count": null,
   "id": "b5a1f740-9b0d-44bf-8e6c-ec3965d0dc8c",
   "metadata": {},
   "outputs": [],
   "source": [
    "def create_mysql_table(big_table):\n",
    "    schema=\"gans\"\n",
    "    host=\"127.0.0.1\"\n",
    "    user=\"root\"\n",
    "    password=sql_pass\n",
    "    port=3306\n",
    "    con = f'mysql+pymysql://{user}:{password}@{host}:{port}/{schema}'\n",
    "    big_table.to_sql('flights',con=con,if_exists='append',index=False)"
   ]
  },
  {
   "cell_type": "code",
   "execution_count": null,
   "id": "3716ea91-b1aa-4322-a0dc-5b89b65289b6",
   "metadata": {},
   "outputs": [],
   "source": [
    "create_mysql_table(get_all_info(get_cities_dataframe()))"
   ]
  }
 ],
 "metadata": {
  "kernelspec": {
   "display_name": "Python 3",
   "language": "python",
   "name": "python3"
  },
  "language_info": {
   "codemirror_mode": {
    "name": "ipython",
    "version": 3
   },
   "file_extension": ".py",
   "mimetype": "text/x-python",
   "name": "python",
   "nbconvert_exporter": "python",
   "pygments_lexer": "ipython3",
   "version": "3.8.8"
  }
 },
 "nbformat": 4,
 "nbformat_minor": 5
}
